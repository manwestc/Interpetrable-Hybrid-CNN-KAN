{
 "cells": [
  {
   "cell_type": "code",
   "execution_count": 1,
   "id": "8d5668d4-717f-4e0a-a900-f1b70dc8ba0f",
   "metadata": {},
   "outputs": [],
   "source": [
    "import sys\n",
    "import os\n",
    "\n",
    "# Get the root directory\n",
    "root_dir = os.path.abspath(os.path.join(os.getcwd(), '..'))\n",
    "\n",
    "# Add the root directory to the Python path\n",
    "sys.path.append(root_dir)"
   ]
  },
  {
   "cell_type": "code",
   "execution_count": 2,
   "id": "4dace8b6-da36-4ed7-94f9-e7bfde57e588",
   "metadata": {},
   "outputs": [
    {
     "name": "stdout",
     "output_type": "stream",
     "text": [
      "cuda\n"
     ]
    }
   ],
   "source": [
    "from tqdm import tqdm\n",
    "from torch.utils.data import DataLoader, TensorDataset\n",
    "from torch.optim.lr_scheduler import OneCycleLR\n",
    "from sklearn.model_selection import train_test_split\n",
    "from sklearn.preprocessing import MinMaxScaler, StandardScaler\n",
    "from sklearn.datasets import load_diabetes\n",
    "from sklearn.model_selection import train_test_split\n",
    "from sklearn.preprocessing import StandardScaler\n",
    "from sklearn.metrics import mean_squared_error, mean_absolute_error, r2_score\n",
    "from TINTOlib.igtd import IGTD\n",
    "from kan import *\n",
    "from tqdm import tqdm\n",
    "\n",
    "\n",
    "import traceback\n",
    "import time\n",
    "import gc\n",
    "import copy\n",
    "import traceback\n",
    "import torch.nn as nn\n",
    "import cv2\n",
    "import math\n",
    "import matplotlib.pyplot as plt\n",
    "import pandas as pd\n",
    "import numpy as np\n",
    "import random\n",
    "import torch\n",
    "import torch.nn as nn\n",
    "import torch.optim as optim\n",
    "#from torch.optim import LBFGS\n",
    "\n",
    "\n",
    "if torch.cuda.is_available():\n",
    "  device = torch.device(\"cuda\")\n",
    "else:\n",
    "  device = torch.device(\"cpu\")\n",
    "\n",
    "print(device)"
   ]
  },
  {
   "cell_type": "code",
   "execution_count": 3,
   "id": "787a631d-2f1e-4b05-845e-bb878447f357",
   "metadata": {},
   "outputs": [],
   "source": [
    "SEED = 381\n",
    "# SET RANDOM SEED FOR REPRODUCIBILITY\n",
    "torch.manual_seed(SEED)\n",
    "random.seed(SEED)\n",
    "np.random.seed(SEED)"
   ]
  },
  {
   "cell_type": "markdown",
   "id": "7b71d2a5-d2ad-4b72-9869-8fdae3a98141",
   "metadata": {},
   "source": [
    "# BEST: ACC = 0.998"
   ]
  },
  {
   "cell_type": "code",
   "execution_count": 4,
   "id": "1580c162-4015-4cda-8492-b51350055b36",
   "metadata": {},
   "outputs": [],
   "source": [
    "folder=\"data/wall-robot-navigation\"\n",
    "x_col=[\"V1\", \"V2\", \"V3\", \"V4\", \"V5\", \"V6\", \"V7\", \"V8\",\"V9\",\"V10\",\"V11\", \"V12\", \"V13\", \n",
    "       \"V14\", \"V15\", \"V16\", \"V17\", \"V18\",\"V19\",\"V20\",\"V21\", \"V22\", \"V23\", \"V24\"]\n",
    "target_col=[\"class\"]"
   ]
  },
  {
   "cell_type": "markdown",
   "id": "a95b4aeb",
   "metadata": {
    "jp-MarkdownHeadingCollapsed": true
   },
   "source": [
    "# Functions"
   ]
  },
  {
   "cell_type": "markdown",
   "id": "1e61699b",
   "metadata": {
    "jp-MarkdownHeadingCollapsed": true
   },
   "source": [
    "### Load Dataset and Images"
   ]
  },
  {
   "cell_type": "code",
   "execution_count": 45,
   "id": "fb5e9231",
   "metadata": {},
   "outputs": [],
   "source": [
    "def load_and_clean(npy_filename, y_filename, x_col, target_col):\n",
    "    \"\"\"\n",
    "    Load the feature array (npy_filename) and label array (y_filename),\n",
    "    drop rows in the feature array that contain any NaNs, and apply\n",
    "    the same mask to the label array.\n",
    "    \"\"\"\n",
    "    # Load numpy arrays\n",
    "    X = np.load(os.path.join(folder, npy_filename))\n",
    "    y = np.load(os.path.join(folder, y_filename), allow_pickle=True)\n",
    "    \n",
    "    # Ensure the number of rows matches between X and y\n",
    "    if X.shape[0] != y.shape[0]:\n",
    "        raise ValueError(\"The number of rows in {} and {} do not match.\".format(npy_filename, y_filename))\n",
    "    \n",
    "    # Create a boolean mask for rows that do NOT have any NaN values in X\n",
    "    valid_rows = ~np.isnan(X).any(axis=1)\n",
    "    #print(valid_rows)\n",
    "    # Filter both arrays using the valid_rows mask\n",
    "    X_clean = X[valid_rows]\n",
    "    y_clean = y[valid_rows]\n",
    "    \n",
    "    # Convert arrays to DataFrames\n",
    "    df_X = pd.DataFrame(X_clean)\n",
    "    df_y = pd.DataFrame(y_clean)\n",
    "    df_X.columns = x_col\n",
    "    df_y.columns = target_col\n",
    "\n",
    "    df_y[target_col] = df_y[target_col].astype(int)\n",
    "    return df_X, df_y"
   ]
  },
  {
   "cell_type": "code",
   "execution_count": 6,
   "id": "b6027ad4",
   "metadata": {},
   "outputs": [],
   "source": [
    "def load_and_preprocess_data(X_train, y_train, X_test, y_test, X_val, y_val, image_model, problem_type, batch_size=32):\n",
    "    # Add target column to input for IGTD\n",
    "    X_train_full = X_train.copy()\n",
    "    X_train_full[\"target\"] = y_train.values\n",
    "\n",
    "    X_val_full = X_val.copy()\n",
    "    X_val_full[\"target\"] = y_val.values\n",
    "\n",
    "    X_test_full = X_test.copy()\n",
    "    X_test_full[\"target\"] = y_test.values\n",
    "\n",
    "    # Generate the images if the folder does not exist\n",
    "    if not os.path.exists(f'{images_folder}/train'):\n",
    "        #print(X_train_full)\n",
    "        image_model.fit_transform(X_train_full, f'{images_folder}/train')\n",
    "        image_model.saveHyperparameters(f'{images_folder}/model.pkl')\n",
    "    else:\n",
    "        print(\"The images are already generated\")\n",
    "\n",
    "    # Load image paths\n",
    "    imgs_train = pd.read_csv(os.path.join(f'{images_folder}/train', f'{problem_type}.csv'))\n",
    "    imgs_train[\"images\"] = images_folder + \"/train/\" + imgs_train[\"images\"]\n",
    "\n",
    "    if not os.path.exists(f'{images_folder}/val'):\n",
    "        image_model.transform(X_val_full, f'{images_folder}/val')\n",
    "    else:\n",
    "        print(\"The images are already generated\")\n",
    "\n",
    "    imgs_val = pd.read_csv(os.path.join(f'{images_folder}/val', f'{problem_type}.csv'))\n",
    "    imgs_val[\"images\"] = images_folder + \"/val/\" + imgs_val[\"images\"]\n",
    "\n",
    "    if not os.path.exists(f'{images_folder}/test'):\n",
    "        image_model.transform(X_test_full, f'{images_folder}/test')\n",
    "    else:\n",
    "        print(\"The images are already generated\")\n",
    "\n",
    "    imgs_test = pd.read_csv(os.path.join(f'{images_folder}/test', f'{problem_type}.csv'))\n",
    "    imgs_test[\"images\"] = images_folder + \"/test/\" + imgs_test[\"images\"]\n",
    "\n",
    "    # Image data\n",
    "    X_train_img = np.array([cv2.imread(img) for img in imgs_train[\"images\"]])\n",
    "    X_val_img = np.array([cv2.imread(img) for img in imgs_val[\"images\"]])\n",
    "    X_test_img = np.array([cv2.imread(img) for img in imgs_test[\"images\"]])\n",
    "\n",
    "    # Create a MinMaxScaler object\n",
    "    scaler = MinMaxScaler()\n",
    "\n",
    "    # Scale numerical data\n",
    "    X_train_num = pd.DataFrame(scaler.fit_transform(X_train), columns=X_train.columns)\n",
    "    X_val_num = pd.DataFrame(scaler.transform(X_val), columns=X_val.columns)\n",
    "    X_test_num = pd.DataFrame(scaler.transform(X_test), columns=X_test.columns)\n",
    "\n",
    "    attributes = len(X_train_num.columns)\n",
    "    height, width, channels = X_train_img[0].shape\n",
    "    imgs_shape = (channels, height, width)\n",
    "\n",
    "    print(\"Images shape: \", imgs_shape)\n",
    "    print(\"Attributes: \", attributes)\n",
    "\n",
    "    # Convert data to PyTorch tensors\n",
    "    X_train_num_tensor = torch.as_tensor(X_train_num.values, dtype=torch.float32)\n",
    "    X_val_num_tensor = torch.as_tensor(X_val_num.values, dtype=torch.float32)\n",
    "    X_test_num_tensor = torch.as_tensor(X_test_num.values, dtype=torch.float32)\n",
    "    X_train_img_tensor = torch.as_tensor(X_train_img, dtype=torch.float32).permute(0, 3, 1, 2) / 255.0\n",
    "    X_val_img_tensor = torch.as_tensor(X_val_img, dtype=torch.float32).permute(0, 3, 1, 2) / 255.0\n",
    "    X_test_img_tensor = torch.as_tensor(X_test_img, dtype=torch.float32).permute(0, 3, 1, 2) / 255.0\n",
    "    y_train_tensor = torch.as_tensor(y_train.values, dtype=torch.float32).reshape(-1, 1)\n",
    "    y_val_tensor = torch.as_tensor(y_val.values, dtype=torch.float32).reshape(-1, 1)\n",
    "    y_test_tensor = torch.as_tensor(y_test.values, dtype=torch.float32).reshape(-1, 1)\n",
    "\n",
    "    # Create DataLoaders\n",
    "    train_dataset = TensorDataset(X_train_num_tensor, X_train_img_tensor, y_train_tensor)\n",
    "    val_dataset = TensorDataset(X_val_num_tensor, X_val_img_tensor, y_val_tensor)\n",
    "    test_dataset = TensorDataset(X_test_num_tensor, X_test_img_tensor, y_test_tensor)\n",
    "\n",
    "    train_loader = DataLoader(train_dataset, batch_size=batch_size, shuffle=True, pin_memory=True)\n",
    "    val_loader = DataLoader(val_dataset, batch_size=batch_size, shuffle=False, pin_memory=True)\n",
    "    test_loader = DataLoader(test_dataset, batch_size=batch_size, shuffle=False, pin_memory=True)\n",
    "\n",
    "    return train_loader, val_loader, test_loader, attributes, imgs_shape"
   ]
  },
  {
   "cell_type": "code",
   "execution_count": 7,
   "id": "b2285bf2",
   "metadata": {},
   "outputs": [],
   "source": [
    "def combine_loader(loader):\n",
    "    \"\"\"\n",
    "    Combines all batches from a DataLoader into three tensors.\n",
    "    Assumes each batch is a tuple: (mlp_tensor, img_tensor, target_tensor)\n",
    "    \"\"\"\n",
    "    mlp_list, img_list, target_list = [], [], []\n",
    "    for mlp, img, target in loader:\n",
    "        mlp_list.append(mlp)\n",
    "        img_list.append(img)\n",
    "        target_list.append(target)\n",
    "    return torch.cat(mlp_list, dim=0), torch.cat(img_list, dim=0), torch.cat(target_list, dim=0)"
   ]
  },
  {
   "cell_type": "markdown",
   "id": "2d664849",
   "metadata": {
    "jp-MarkdownHeadingCollapsed": true
   },
   "source": [
    "### Functions for KAN"
   ]
  },
  {
   "cell_type": "code",
   "execution_count": 8,
   "id": "c7e1e764",
   "metadata": {},
   "outputs": [],
   "source": [
    "dtype = torch.get_default_dtype()"
   ]
  },
  {
   "cell_type": "code",
   "execution_count": 9,
   "id": "05d09a4c",
   "metadata": {},
   "outputs": [],
   "source": [
    "def custom_fit(model, dataset, opt=\"LBFGS\", steps=100, log=1, lamb=0., lamb_l1=1., lamb_entropy=2., lamb_coef=0., lamb_coefdiff=0., update_grid=True, \n",
    "               grid_update_num=10, loss_fn=None, lr=1., start_grid_update_step=-1, stop_grid_update_step=50, batch=-1,\n",
    "               metrics=None, save_fig=False, in_vars=None, out_vars=None, beta=3, save_fig_freq=1, img_folder='./video', \n",
    "               singularity_avoiding=False, y_th=1000., reg_metric='edge_forward_spline_n', display_metrics=None):\n",
    "    '''\n",
    "    training\n",
    "\n",
    "    Args:\n",
    "    -----\n",
    "        dataset : dic\n",
    "            contains dataset['train_input'], dataset['train_label'], dataset['val_input'], dataset['val_label']\n",
    "        opt : str\n",
    "            \"LBFGS\" or \"Adam\"\n",
    "        steps : int\n",
    "            training steps\n",
    "        log : int\n",
    "            logging frequency\n",
    "        lamb : float\n",
    "            overall penalty strength\n",
    "        lamb_l1 : float\n",
    "            l1 penalty strength\n",
    "        lamb_entropy : float\n",
    "            entropy penalty strength\n",
    "        lamb_coef : float\n",
    "            coefficient magnitude penalty strength\n",
    "        lamb_coefdiff : float\n",
    "            difference of nearby coefficits (smoothness) penalty strength\n",
    "        update_grid : bool\n",
    "            If True, update grid regularly before stop_grid_update_step\n",
    "        grid_update_num : int\n",
    "            the number of grid updates before stop_grid_update_step\n",
    "        start_grid_update_step : int\n",
    "            no grid updates before this training step\n",
    "        stop_grid_update_step : int\n",
    "            no grid updates after this training step\n",
    "        loss_fn : function\n",
    "            loss function\n",
    "        lr : float\n",
    "            learning rate\n",
    "        batch : int\n",
    "            batch size, if -1 then full.\n",
    "        save_fig_freq : int\n",
    "            save figure every (save_fig_freq) steps\n",
    "        singularity_avoiding : bool\n",
    "            indicate whether to avoid singularity for the symbolic part\n",
    "        y_th : float\n",
    "            singularity threshold (anything above the threshold is considered singular and is softened in some ways)\n",
    "        reg_metric : str\n",
    "            regularization metric. Choose from {'edge_forward_spline_n', 'edge_forward_spline_u', 'edge_forward_sum', 'edge_backward', 'node_backward'}\n",
    "        metrics : a list of metrics (as functions)\n",
    "            the metrics to be computed in training\n",
    "        display_metrics : a list of functions\n",
    "            the metric to be displayed in tqdm progress bar\n",
    "\n",
    "    Returns:\n",
    "    --------\n",
    "        results : dic\n",
    "            results['train_loss'], 1D array of training losses (RMSE)\n",
    "            results['val_loss'], 1D array of val losses (RMSE)\n",
    "            results['reg'], 1D array of regularization\n",
    "            other metrics specified in metrics\n",
    "        best_model:\n",
    "    '''\n",
    "\n",
    "    if lamb > 0. and not model.save_act:\n",
    "        print('setting lamb=0. If you want to set lamb > 0, set model.save_act=True')\n",
    "        \n",
    "    old_save_act, old_symbolic_enabled = model.disable_symbolic_in_fit(lamb)\n",
    "\n",
    "    pbar = tqdm(range(steps), desc='description', ncols=100)\n",
    "\n",
    "    if loss_fn == None:\n",
    "        loss_fn = loss_fn_eval = lambda x, y: torch.mean((x - y) ** 2)\n",
    "    else:\n",
    "        loss_fn = loss_fn_eval = loss_fn\n",
    "\n",
    "    grid_update_freq = int(stop_grid_update_step / grid_update_num)\n",
    "\n",
    "    if opt == \"Adam\":\n",
    "        optimizer = torch.optim.Adam(model.get_params(), lr=lr)\n",
    "    elif opt == \"LBFGS\":\n",
    "        optimizer = LBFGS(model.get_params(), lr=lr, history_size=10, \n",
    "                          line_search_fn=\"strong_wolfe\", \n",
    "                          tolerance_grad=1e-32,\n",
    "                          tolerance_change=1e-32,\n",
    "                          tolerance_ys=1e-32)\n",
    "\n",
    "    results = {}\n",
    "    results['train_loss'] = []\n",
    "    results['val_loss'] = []\n",
    "    results['reg'] = []\n",
    "    if metrics != None:\n",
    "        for i in range(len(metrics)):\n",
    "            results[metrics[i].__name__] = []\n",
    "\n",
    "    if batch == -1 or batch > dataset['train_input'].shape[0]:\n",
    "        batch_size = dataset['train_input'].shape[0]\n",
    "        batch_size_val = dataset['val_input'].shape[0]\n",
    "    else:\n",
    "        batch_size = batch\n",
    "        batch_size_val = batch\n",
    "\n",
    "    global train_loss, reg_\n",
    "\n",
    "    def closure():\n",
    "        global train_loss, reg_\n",
    "        optimizer.zero_grad()\n",
    "        pred = model.forward(dataset['train_input'][train_id], singularity_avoiding=singularity_avoiding, y_th=y_th)\n",
    "        train_loss = loss_fn(pred, dataset['train_label'][train_id])\n",
    "        if model.save_act:\n",
    "            if reg_metric == 'edge_backward':\n",
    "                model.attribute()\n",
    "            if reg_metric == 'node_backward':\n",
    "                model.node_attribute()\n",
    "            reg_ = model.get_reg(reg_metric, lamb_l1, lamb_entropy, lamb_coef, lamb_coefdiff)\n",
    "        else:\n",
    "            reg_ = torch.tensor(0.)\n",
    "        objective = train_loss + lamb * reg_\n",
    "        objective.backward()\n",
    "        return objective\n",
    "\n",
    "    if save_fig:\n",
    "        if not os.path.exists(img_folder):\n",
    "            os.makedirs(img_folder)\n",
    "    \n",
    "    best_model_state = None\n",
    "    best_epoch = -1\n",
    "    best_metric = 0\n",
    "    val_metric = 0\n",
    "    for epoch in pbar:\n",
    "        \n",
    "        if epoch == steps-1 and old_save_act:\n",
    "            model.save_act = True\n",
    "            \n",
    "        if save_fig and epoch % save_fig_freq == 0:\n",
    "            save_act = model.save_act\n",
    "            model.save_act = True\n",
    "        \n",
    "        train_id = np.random.choice(dataset['train_input'].shape[0], batch_size, replace=False)\n",
    "        val_id = np.random.choice(dataset['val_input'].shape[0], batch_size_val, replace=False)\n",
    "\n",
    "        if epoch % grid_update_freq == 0 and epoch < stop_grid_update_step and update_grid and epoch >= start_grid_update_step:\n",
    "            model.update_grid(dataset['train_input'][train_id])\n",
    "\n",
    "        if opt == \"LBFGS\":\n",
    "            optimizer.step(closure)\n",
    "\n",
    "        if opt == \"Adam\":\n",
    "            pred = model.forward(dataset['train_input'][train_id], singularity_avoiding=singularity_avoiding, y_th=y_th)\n",
    "            train_loss = loss_fn(pred, dataset['train_label'][train_id])\n",
    "            if model.save_act:\n",
    "                if reg_metric == 'edge_backward':\n",
    "                    model.attribute()\n",
    "                if reg_metric == 'node_backward':\n",
    "                    model.node_attribute()\n",
    "                reg_ = model.get_reg(reg_metric, lamb_l1, lamb_entropy, lamb_coef, lamb_coefdiff)\n",
    "            else:\n",
    "                reg_ = torch.tensor(0.)\n",
    "            loss = train_loss + lamb * reg_\n",
    "            optimizer.zero_grad()\n",
    "            loss.backward()\n",
    "            optimizer.step()\n",
    "\n",
    "        val_loss = loss_fn_eval(model.forward(dataset['val_input'][val_id]), dataset['val_label'][val_id])\n",
    "        \n",
    "        if metrics != None:\n",
    "            for i in range(len(metrics)):\n",
    "                results[metrics[i].__name__].append(metrics[i]().item())\n",
    "        \n",
    "        results['train_loss'].append(torch.sqrt(train_loss).cpu().detach().numpy())\n",
    "        results['val_loss'].append(torch.sqrt(val_loss).cpu().detach().numpy())\n",
    "        results['reg'].append(reg_.cpu().detach().numpy())\n",
    "\n",
    "        if epoch % log == 0:\n",
    "            if display_metrics == None:\n",
    "                pbar.set_description(\"| train_loss: %.2e | val_loss: %.2e | reg: %.2e | \" % (torch.sqrt(train_loss).cpu().detach().numpy(), torch.sqrt(val_loss).cpu().detach().numpy(), reg_.cpu().detach().numpy()))\n",
    "                val_metric = val_loss\n",
    "            else:\n",
    "                string = ''\n",
    "                data = ()\n",
    "                for metric in display_metrics:\n",
    "                    val_metric = results[metric][-1]\n",
    "                    string += f' {metric}: %.2e |'\n",
    "                    try:\n",
    "                        results[metric]\n",
    "                    except:\n",
    "                        raise Exception(f'{metric} not recognized')\n",
    "                    data += (results[metric][-1],)\n",
    "                pbar.set_description(string % data)\n",
    "\n",
    "        if val_metric > best_metric:\n",
    "            best_epoch = epoch\n",
    "            best_metric = val_metric\n",
    "            best_model_state = copy.deepcopy(model.state_dict())\n",
    "\n",
    "        if save_fig and epoch % save_fig_freq == 0:\n",
    "            model.plot(folder=img_folder, in_vars=in_vars, out_vars=out_vars, title=\"Step {}\".format(_), beta=beta)\n",
    "            plt.savefig(img_folder + '/' + str(_) + '.jpg', bbox_inches='tight', dpi=200)\n",
    "            plt.close()\n",
    "            model.save_act = save_act\n",
    "\n",
    "    model.log_history('fit')\n",
    "    # revert back to original state\n",
    "    model.symbolic_enabled = old_symbolic_enabled\n",
    "    print(f\"✅ Best validation Accuracy: {best_metric:.4e} at {best_epoch} epoch\")\n",
    "    return best_model_state, results, best_epoch"
   ]
  },
  {
   "cell_type": "code",
   "execution_count": 50,
   "id": "7ae64bdc",
   "metadata": {},
   "outputs": [],
   "source": [
    "def grid_search_kan(dataset, output_dim=1, steps=20):\n",
    "    hidden_neuron_options = list(range(1, attributes // 2 + 1))\n",
    "    grid_options = list(range(3, 9))\n",
    "    lamb_options = [1e-02, 1e-03, 1e-04, 1e-05, 1e-06, 1e-07]\n",
    "\n",
    "    top_models = []  # list of dicts: each will have 'loss', 'config', 'state_dict'\n",
    "\n",
    "    for hidden in hidden_neuron_options:\n",
    "        for grid in grid_options:\n",
    "            for lamb in lamb_options:\n",
    "                \n",
    "                print(f\"Testing width=[{attributes}, {hidden}, {output_dim}], lamb={lamb}, grid={grid}\")\n",
    "                model = KAN(width=[attributes, hidden, output_dim], grid=grid, k=3, seed=381, device=device)\n",
    "                \n",
    "                def train_acc_kan():\n",
    "                    return torch.mean((torch.round(model(dataset['train_input'])[:,0]) == dataset['train_label'][:,0]).type(dtype))\n",
    "                \n",
    "                def val_acc_kan():\n",
    "                    return torch.mean((torch.round(model(dataset['val_input'])[:,0]) == dataset['val_label'][:,0]).type(dtype))\n",
    "\n",
    "                # Custom training\n",
    "                model_state, _, best_epoch = custom_fit(model, dataset, opt=\"LBFGS\", steps=steps, lamb=lamb, \n",
    "                                                        metrics=(train_acc_kan, val_acc_kan), display_metrics=['train_acc_kan', 'val_acc_kan'])\n",
    "                model.load_state_dict(model_state)\n",
    "\n",
    "                # Evaluate\n",
    "                avg_acc = torch.mean((torch.round(model(dataset['test_input'])[:,0]) == dataset['test_label'][:,0]).type(dtype))\n",
    "                print(avg_acc)\n",
    "                # Save this model info\n",
    "                top_models.append({\n",
    "                    \"acc_test\": avg_acc,\n",
    "                    \"config\": {\"hidden\": hidden, \"grid\": grid, \"lamb\": lamb},\n",
    "                    \"state_dict\": copy.deepcopy(model_state),\n",
    "                    \"best_epoch\": best_epoch\n",
    "                })\n",
    "                \n",
    "                del model\n",
    "                torch.cuda.empty_cache()\n",
    "                gc.collect()\n",
    "\n",
    "                # Keep only top 5\n",
    "                top_models = sorted(top_models, key=lambda x: x[\"acc_test\"], reverse=True)[:5]\n",
    "\n",
    "    print(\"\\n✅ Top 5 Configurations:\")\n",
    "    for i, entry in enumerate(top_models):\n",
    "        cfg = entry[\"config\"]\n",
    "        print(f\"{i+1}. width=[{attributes}, {cfg['hidden']}, {output_dim}], grid={cfg['grid']}, lamb={cfg['lamb']} | best_epoch={entry['best_epoch']} | acc_test={entry['acc_test']:.5f}\")\n",
    "\n",
    "    #return top_models"
   ]
  },
  {
   "cell_type": "markdown",
   "id": "bc5d1d3a",
   "metadata": {
    "jp-MarkdownHeadingCollapsed": true
   },
   "source": [
    "### Functions for CNN"
   ]
  },
  {
   "cell_type": "code",
   "execution_count": 68,
   "id": "46156820",
   "metadata": {},
   "outputs": [],
   "source": [
    "def fit_cnn_only_model(model, dataset, steps=100, lr=1.0, loss_fn=None, batch=-1, opt=\"LBFGS\", metrics=None, display_metrics=None):\n",
    "    \"\"\"\n",
    "    Trains a CNN-only model using LBFGS.\n",
    "\n",
    "    Args:\n",
    "        model: CNN-only PyTorch model.\n",
    "        dataset: Dictionary with keys: 'train_img', 'train_label', 'val_img', 'val_label'.\n",
    "        steps: Number of training iterations.\n",
    "        lr: Learning rate.\n",
    "        loss_fn: Loss function. Defaults to MSE.\n",
    "        metrics : a list of metrics (as functions)\n",
    "            the metrics to be computed in training\n",
    "        display_metrics : a list of functions\n",
    "            the metric to be displayed in tqdm progress bar\n",
    "\n",
    "    Returns:\n",
    "        results: Dict with lists of train/val losses.\n",
    "        best_model_state: Best weights based on val loss.\n",
    "    \"\"\"\n",
    "    device = model.device\n",
    "    if loss_fn is None:\n",
    "        loss_fn = nn.MSELoss()\n",
    "\n",
    "    # Optimizer selection\n",
    "    if opt == \"LBFGS\":\n",
    "        optimizer = LBFGS(model.parameters(), lr=lr, history_size=10, \n",
    "                          line_search_fn=\"strong_wolfe\", \n",
    "                          tolerance_grad=1e-32, \n",
    "                          tolerance_change=1e-32, \n",
    "                          tolerance_ys=1e-32)\n",
    "    elif opt == \"AdamW\":\n",
    "        optimizer = optim.AdamW(model.parameters(), lr=lr)\n",
    "    else:\n",
    "        raise ValueError(f\"Unsupported optimizer '{opt}'\")\n",
    "\n",
    "    n_train = dataset[\"train_img\"].shape[0]\n",
    "    n_val = dataset[\"val_img\"].shape[0]\n",
    "    batch_size = n_train if batch == -1 or batch > n_train else batch\n",
    "\n",
    "    results = {'train_loss': [], 'val_loss': []}\n",
    "\n",
    "    if metrics != None:\n",
    "        for i in range(len(metrics)):\n",
    "            results[metrics[i].__name__] = []\n",
    "\n",
    "    best_model_state = None\n",
    "    best_epoch = -1\n",
    "    best_metric = 0\n",
    "    val_metric = 0\n",
    "\n",
    "    pbar = tqdm(range(steps), desc=\"Training CNN Only ({opt})\", ncols=100)\n",
    "\n",
    "    for step in pbar:\n",
    "        train_idx = np.random.choice(n_train, batch_size, replace=False)\n",
    "        #train_idx = torch.randperm(n_train)[:min(32, n_train)]  # small batch\n",
    "        x_train = dataset[\"train_img\"][train_idx].to(device)\n",
    "        y_train = dataset[\"train_label\"][train_idx].to(device)\n",
    "        if opt == \"LBFGS\":\n",
    "            def closure():\n",
    "                optimizer.zero_grad()\n",
    "                output = model(0, x_train)\n",
    "                loss = loss_fn(output, y_train)\n",
    "                loss.backward()\n",
    "                return loss\n",
    "            optimizer.step(closure)\n",
    "            train_loss = closure().item()\n",
    "\n",
    "        else:  # AdamW\n",
    "            optimizer.zero_grad()\n",
    "            output = model(0, x_train)\n",
    "            loss = loss_fn(output, y_train)\n",
    "            loss.backward()\n",
    "            optimizer.step()\n",
    "            train_loss = loss.item()\n",
    "\n",
    "        with torch.no_grad():\n",
    "            val_output = model(0, dataset[\"val_img\"].to(device))\n",
    "            val_loss = loss_fn(val_output, dataset[\"val_label\"].to(device)).item()\n",
    "\n",
    "        results[\"train_loss\"].append(train_loss)\n",
    "        results[\"val_loss\"].append(val_loss)\n",
    "\n",
    "        if metrics != None:\n",
    "            for i in range(len(metrics)):\n",
    "                results[metrics[i].__name__].append(metrics[i]().item())\n",
    "\n",
    "\n",
    "\n",
    "\n",
    "        if display_metrics == None:\n",
    "            pbar.set_description(f\"| Train: {train_loss:.4e} | Val: {val_loss:.4e} |\")\n",
    "        else:\n",
    "            string = ''\n",
    "            data = ()\n",
    "            for metric in display_metrics:\n",
    "                val_metric = results[metric][-1]\n",
    "                string += f' {metric}: %.2e |'\n",
    "                try:\n",
    "                    results[metric]\n",
    "                except:\n",
    "                    raise Exception(f'{metric} not recognized')\n",
    "                data += (results[metric][-1],)\n",
    "            pbar.set_description(string % data)\n",
    "\n",
    "        if val_metric > best_metric:\n",
    "            best_epoch = step\n",
    "            best_metric = val_metric\n",
    "            best_model_state = copy.deepcopy(model.state_dict())\n",
    "    \n",
    "    print(f\"✅ Best validation ACC: {best_metric:.4e} at {best_epoch} epoch\")\n",
    "    return best_model_state, results, best_epoch"
   ]
  },
  {
   "cell_type": "code",
   "execution_count": 60,
   "id": "5abb1ba6",
   "metadata": {},
   "outputs": [],
   "source": [
    "def build_custom_cnn_model(cnn_blocks, dense_layers, imgs_shape, device='cuda'):\n",
    "    class CustomCNNModel(nn.Module):\n",
    "        def __init__(self):\n",
    "            super(CustomCNNModel, self).__init__()\n",
    "            self.device = device\n",
    "\n",
    "            cnn_layers = []\n",
    "            in_channels = imgs_shape[0]\n",
    "            out_channels = 16\n",
    "            cnn_blocks_list = [7, 5, 4]\n",
    "            size_layer_norm = cnn_blocks_list[cnn_blocks-1]\n",
    "            \n",
    "            f_layer_size = 10 - cnn_blocks*2\n",
    "            for i in range(cnn_blocks):\n",
    "                cnn_layers.append(nn.Conv2d(in_channels, out_channels, kernel_size=3, padding=2))\n",
    "                \n",
    "                if i < cnn_blocks - 1:\n",
    "                    cnn_layers.append(nn.BatchNorm2d(out_channels))\n",
    "                    cnn_layers.append(nn.ReLU())\n",
    "                    cnn_layers.append(nn.MaxPool2d(2))\n",
    "                else:\n",
    "                    # Last block: LayerNorm + Sigmoid + Flatten\n",
    "                    cnn_layers.append(nn.LayerNorm([out_channels, size_layer_norm, size_layer_norm]))\n",
    "                    cnn_layers.append(nn.Sigmoid())\n",
    "                    cnn_layers.append(nn.Flatten())\n",
    "                in_channels = out_channels\n",
    "                out_channels *= 2\n",
    "\n",
    "            self.cnn_branch = nn.Sequential(*cnn_layers).to(device)\n",
    "            self.flat_size = self._get_flat_size(imgs_shape)\n",
    "\n",
    "            # Dense (FC) layers\n",
    "            fc_layers = []\n",
    "            input_dim = self.flat_size\n",
    "            for i in range(dense_layers - 1):\n",
    "                fc_layers.append(nn.Linear(int(input_dim), int(input_dim // 2)))\n",
    "                fc_layers.append(nn.ReLU())\n",
    "                input_dim = input_dim // 2\n",
    "            fc_layers.append(nn.Linear(int(input_dim), 1))\n",
    "\n",
    "            self.fc = nn.Sequential(*fc_layers).to(device)\n",
    "\n",
    "        def _get_flat_size(self, imgs_shape):\n",
    "            dummy_input = torch.zeros(1, *imgs_shape, device=self.device)\n",
    "            x = self.cnn_branch(dummy_input)\n",
    "            return x.shape[1]\n",
    "\n",
    "        def forward(self, num_input, img_input):\n",
    "            img_input = img_input.to(self.device)\n",
    "            features = self.cnn_branch(img_input)\n",
    "            output = self.fc(features)\n",
    "            return output\n",
    "\n",
    "    return CustomCNNModel()"
   ]
  },
  {
   "cell_type": "code",
   "execution_count": 13,
   "id": "5dc5e2b8",
   "metadata": {},
   "outputs": [],
   "source": [
    "def grid_search_cnn(dataset, steps=110, opt='LBFGS', batch=-1):\n",
    "    cnn_blocks_options = list(range(1, 4))\n",
    "    dense_layers_options = list(range(1, 4))\n",
    "\n",
    "    top_models = []  # list of dicts: each will have 'loss', 'config', 'state_dict'\n",
    "\n",
    "    for cnn_blocks in cnn_blocks_options:\n",
    "        for dense_layers in dense_layers_options:\n",
    "            print(f\"Testing cnn_blocks={cnn_blocks}, dense_layers={dense_layers}\")\n",
    "            model = build_custom_cnn_model(cnn_blocks, dense_layers, imgs_shape)\n",
    "            def train_acc_cnn():\n",
    "                return torch.mean((torch.round(model(0, dataset['train_img'])[:,0]) == dataset['train_label'][:,0]).type(dtype))\n",
    "            \n",
    "            def val_acc_cnn():\n",
    "                return torch.mean((torch.round(model(0, dataset['val_img'])[:,0]) == dataset['val_label'][:,0]).type(dtype))\n",
    "            # Custom training\n",
    "            model_state, _, best_epoch = fit_cnn_only_model(model, dataset, steps=steps, opt=opt, batch=batch, \n",
    "                                                        metrics=(train_acc_cnn, val_acc_cnn), display_metrics=['train_acc_cnn', 'val_acc_cnn'])\n",
    "            model.load_state_dict(model_state)\n",
    "\n",
    "            # Evaluate\n",
    "            avg_acc = torch.mean((torch.round(model(0, dataset['test_img'])[:,0]) == dataset['test_label'][:,0]).type(dtype))\n",
    "            print(avg_acc)\n",
    "            # Save this model info\n",
    "            top_models.append({\n",
    "                \"acc_test\": avg_acc,\n",
    "                \"config\": {\"cnn_blocks\": cnn_blocks, \"dense_layers\": dense_layers},\n",
    "                #\"state_dict\": copy.deepcopy(model_state),\n",
    "                \"best_epoch\": best_epoch\n",
    "            })\n",
    "            \n",
    "            del model\n",
    "            torch.cuda.empty_cache()\n",
    "            gc.collect()\n",
    "            # Keep only top 5\n",
    "            top_models = sorted(top_models, key=lambda x: x[\"acc_test\"], reverse=True)[:5]\n",
    "\n",
    "    print(\"\\n✅ Top 5 Configurations:\")\n",
    "    for i, entry in enumerate(top_models):\n",
    "        cfg = entry[\"config\"]\n",
    "        print(f\"{i+1}. cnn_blocks={cfg['cnn_blocks']}, dense_layers={cfg['dense_layers']} | best_epoch={entry['best_epoch']} | acc={entry['acc_test']:.5f}\")\n",
    "\n",
    "    #return top_models"
   ]
  },
  {
   "cell_type": "markdown",
   "id": "85028d5e",
   "metadata": {
    "jp-MarkdownHeadingCollapsed": true
   },
   "source": [
    "### Hybrid Functions"
   ]
  },
  {
   "cell_type": "code",
   "execution_count": 65,
   "id": "766c41b1",
   "metadata": {},
   "outputs": [],
   "source": [
    "def fit_hybrid_dataloaders(model, \n",
    "                           dataset,\n",
    "                           opt=\"AdamW\", \n",
    "                           steps=100, \n",
    "                           log=1, \n",
    "                           lamb=0., \n",
    "                           lamb_l1=1., \n",
    "                           lamb_entropy=2., \n",
    "                           lamb_coef=0., \n",
    "                           lamb_coefdiff=0., \n",
    "                           update_grid=True, \n",
    "                           grid_update_num=10, \n",
    "                           loss_fn=None, \n",
    "                           lr=1., \n",
    "                           start_grid_update_step=-1, \n",
    "                           stop_grid_update_step=50, \n",
    "                           batch=-1,\n",
    "                           metrics=None, \n",
    "                           save_fig=False, \n",
    "                           in_vars=None, \n",
    "                           out_vars=None, \n",
    "                           beta=3, \n",
    "                           save_fig_freq=1, \n",
    "                           img_folder='./video', \n",
    "                           singularity_avoiding=False, \n",
    "                           y_th=1000., \n",
    "                           reg_metric='edge_forward_spline_n', \n",
    "                           display_metrics=None,\n",
    "                           sum_f_reg=True):\n",
    "    \"\"\"\n",
    "    Trains the hybrid model (with a KAN branch and a CNN branch) using a steps-based loop\n",
    "    adapted from KAN.fit(), with grid updates and regularization.\n",
    "    \n",
    "    Instead of a single dataset dict, this function accepts three DataLoaders:\n",
    "        - train_loader: provides (mlp, img, target) for training\n",
    "        - val_loader: provides (mlp, img, target) for evaluation during training\n",
    "        - test_loader: provides (mlp, img, target) for validation\n",
    "\n",
    "    Internally, the function combines each loader into a dataset dictionary.\n",
    "    \n",
    "    Returns:\n",
    "        results: dictionary containing training loss, evaluation loss, regularization values,\n",
    "                 and any additional metrics recorded during training.\n",
    "    \"\"\"\n",
    "    #device = next(model.parameters()).device\n",
    "\n",
    "    # Warn if regularization is requested but model's internal flag isn't enabled.\n",
    "    if lamb > 0. and not getattr(model.m_kan, \"save_act\", False):\n",
    "        print(\"setting lamb=0. If you want to set lamb > 0, set model.m_kan.save_act=True\")\n",
    "    \n",
    "    # Disable symbolic processing for training if applicable (KAN internal logic)\n",
    "    if hasattr(model.m_kan, \"disable_symbolic_in_fit\"):\n",
    "        old_save_act, old_symbolic_enabled = model.m_kan.disable_symbolic_in_fit(lamb)\n",
    "        f_old_save_act, f_old_symbolic_enabled = model.final_kan.disable_symbolic_in_fit(lamb)\n",
    "    else:\n",
    "        old_save_act, old_symbolic_enabled = None, None\n",
    "\n",
    "    pbar = tqdm(range(steps), desc='Training', ncols=100)\n",
    "\n",
    "    # Default loss function (mean squared error) if not provided\n",
    "    if loss_fn is None:\n",
    "        loss_fn = lambda x, y: torch.mean((x - y) ** 2)\n",
    "\n",
    "    # Determine grid update frequency\n",
    "    grid_update_freq = int(stop_grid_update_step / grid_update_num) if grid_update_num > 0 else 1\n",
    "\n",
    "    # Determine total number of training examples\n",
    "    n_train = dataset[\"train_input\"].shape[0]\n",
    "    n_eval  = dataset[\"val_input\"].shape[0]  # using val set for evaluation during training\n",
    "    batch_size = n_train if batch == -1 or batch > n_train else batch\n",
    "\n",
    "    # Set up optimizer: choose between Adam and LBFGS (removed tolerance_ys)\n",
    "    if opt == \"AdamW\":\n",
    "        optimizer = optim.AdamW(model.parameters(), lr=lr)\n",
    "    elif opt == \"LBFGS\":        \n",
    "        optimizer = LBFGS(model.parameters(), lr=lr, history_size=10, \n",
    "                          line_search_fn=\"strong_wolfe\", \n",
    "                          tolerance_grad=1e-32, \n",
    "                          tolerance_change=1e-32, \n",
    "                          tolerance_ys=1e-32)\n",
    "    else:\n",
    "        raise ValueError(\"Optimizer not recognized. Use 'Adam' or 'LBFGS'.\")\n",
    "\n",
    "    # Prepare results dictionary.\n",
    "    results = {'train_loss': [], 'eval_loss': [], 'reg': []}\n",
    "    \n",
    "    if metrics is not None:\n",
    "        for metric in metrics:\n",
    "            results[metric.__name__] = []\n",
    "\n",
    "    best_model_state = None\n",
    "    best_epoch = -1\n",
    "    best_metric = 0\n",
    "    val_metric = 0\n",
    "\n",
    "    for step in pbar:\n",
    "        # Randomly sample indices for a mini-batch from the training set.\n",
    "        train_indices = np.random.choice(n_train, batch_size, replace=False)\n",
    "        # Use full evaluation set for evaluation; you can also sample if desired.\n",
    "        eval_indices = np.arange(n_eval)\n",
    "        \n",
    "        cached_loss = {}\n",
    "        # Closure for LBFGS\n",
    "        def closure():\n",
    "            optimizer.zero_grad()\n",
    "            mlp_batch = dataset[\"train_input\"][train_indices]\n",
    "            img_batch = dataset[\"train_img\"][train_indices]\n",
    "            target_batch = dataset[\"train_label\"][train_indices]\n",
    "            outputs = model(mlp_batch, img_batch)\n",
    "            train_loss = loss_fn(outputs, target_batch)\n",
    "            # Compute regularization term if enabled.\n",
    "            if hasattr(model.m_kan, \"save_act\") and model.m_kan.save_act:\n",
    "                if reg_metric == 'edge_backward':\n",
    "                    model.m_kan.attribute()\n",
    "                    model.final_kan.attribute()\n",
    "                if reg_metric == 'node_backward':\n",
    "                    model.m_kan.node_attribute()\n",
    "                    model.final_kan.node_attribute()\n",
    "                reg_val_inner = model.m_kan.get_reg(reg_metric, lamb_l1, lamb_entropy, lamb_coef, lamb_coefdiff)\n",
    "                if sum_f_reg:\n",
    "                    reg_val_inner += model.final_kan.get_reg(reg_metric, lamb_l1, lamb_entropy, lamb_coef, lamb_coefdiff)\n",
    "            else:\n",
    "                reg_val_inner = torch.tensor(0., device=device)\n",
    "            loss_val_inner = train_loss + lamb * reg_val_inner\n",
    "            loss_val_inner.backward()\n",
    "            cached_loss['loss'] = loss_val_inner.detach()\n",
    "            cached_loss['reg'] = reg_val_inner.detach()\n",
    "            return loss_val_inner\n",
    "\n",
    "        # Perform grid update if applicable.\n",
    "        if (step % grid_update_freq == 0 and step < stop_grid_update_step \n",
    "            and update_grid and step >= start_grid_update_step):\n",
    "            \n",
    "            mlp_batch = dataset['train_input'][train_indices]\n",
    "            cnn_batch = dataset['train_img'][train_indices]\n",
    "            \n",
    "            model.m_kan.update_grid(mlp_batch)\n",
    "            #cnn_output = model.cnn_branch(cnn_batch)  # Process image input\n",
    "            concatenated = model.get_concat_output(mlp_batch, cnn_batch)\n",
    "\n",
    "            model.final_kan.update_grid(concatenated)\n",
    "\n",
    "        # Perform an optimizer step.\n",
    "        if opt == \"LBFGS\":\n",
    "            optimizer.step(closure)\n",
    "            loss_val = cached_loss['loss']\n",
    "            reg_val = cached_loss['reg']\n",
    "        else:  # AdamW branch\n",
    "            optimizer.zero_grad()\n",
    "            mlp_batch = dataset[\"train_input\"][train_indices]\n",
    "            img_batch = dataset[\"train_img\"][train_indices]\n",
    "            target_batch = dataset[\"train_label\"][train_indices]\n",
    "            outputs = model(mlp_batch, img_batch)\n",
    "            train_loss = loss_fn(outputs, target_batch)\n",
    "            if hasattr(model.m_kan, \"save_act\") and model.m_kan.save_act:\n",
    "                if reg_metric == 'edge_backward':\n",
    "                    model.m_kan.attribute()\n",
    "                    model.final_kan.attribute()\n",
    "                if reg_metric == 'node_backward':\n",
    "                    model.m_kan.node_attribute()\n",
    "                    model.final_kan.node_attribute()\n",
    "                reg_val = model.m_kan.get_reg(reg_metric, lamb_l1, lamb_entropy, lamb_coef, lamb_coefdiff)\n",
    "                if sum_f_reg:\n",
    "                    reg_val = reg_val + model.final_kan.get_reg(reg_metric, lamb_l1, lamb_entropy, lamb_coef, lamb_coefdiff)\n",
    "            else:\n",
    "                reg_val = torch.tensor(0., device=device)\n",
    "            loss_val = train_loss + lamb * reg_val\n",
    "            loss_val.backward()\n",
    "            optimizer.step()\n",
    "\n",
    "\n",
    "        with torch.no_grad():\n",
    "            mlp_eval = dataset[\"val_input\"][eval_indices]\n",
    "            img_eval = dataset[\"val_img\"][eval_indices]\n",
    "            target_eval = dataset[\"val_label\"][eval_indices]\n",
    "            eval_loss = loss_fn(model(mlp_eval, img_eval), target_eval)\n",
    "\n",
    "        # Record results (using square-root of loss similar to KAN.fit)\n",
    "        results['eval_loss'].append(torch.sqrt(eval_loss.detach()).item())\n",
    "        results['reg'].append(reg_val.detach().item())\n",
    "\n",
    "        if metrics is not None:\n",
    "            for metric in metrics:\n",
    "                # Here, we assume each metric returns a tensor.\n",
    "                results[metric.__name__].append(metric().item())\n",
    "\n",
    "\n",
    "        # Update progress bar.\n",
    "        if display_metrics is None:\n",
    "            pbar.set_description(\"| train_loss: %.2e | eval_loss: %.2e | reg: %.2e |\" %\n",
    "                                 (torch.sqrt(loss_val.detach()).item(),\n",
    "                                  torch.sqrt(eval_loss.detach()).item(),\n",
    "                                  reg_val.detach().item()))\n",
    "        else:\n",
    "            string = ''\n",
    "            data = ()\n",
    "            for metric in display_metrics:\n",
    "                val_metric = results[metric][-1]\n",
    "                string += f' {metric}: %.2e |'\n",
    "                try:\n",
    "                    results[metric]\n",
    "                except:\n",
    "                    raise Exception(f'{metric} not recognized')\n",
    "                data += (results[metric][-1],)\n",
    "            pbar.set_description(string % data)\n",
    "\n",
    "        if val_metric > best_metric:\n",
    "            best_epoch = step\n",
    "            best_metric = val_metric\n",
    "            best_model_state = copy.deepcopy(model.state_dict())\n",
    "\n",
    "        # Optionally save a figure snapshot.\n",
    "        if save_fig and step % save_fig_freq == 0:\n",
    "            save_act_backup = getattr(model.m_kan, \"save_act\", False)\n",
    "            model.m_kan.save_act = True\n",
    "            model.plot(folder=img_folder, in_vars=in_vars, out_vars=out_vars, title=f\"Step {step}\", beta=beta)\n",
    "            plt.savefig(os.path.join(img_folder, f\"{step}.jpg\"), bbox_inches='tight', dpi=200)\n",
    "            plt.close()\n",
    "            model.m_kan.save_act = save_act_backup\n",
    "\n",
    "    # Restore original settings if applicable.\n",
    "    if old_symbolic_enabled is not None:\n",
    "        model.m_kan.symbolic_enabled = old_symbolic_enabled\n",
    "    if hasattr(model.m_kan, \"log_history\"):\n",
    "        model.m_kan.log_history('fit')\n",
    "    print(f\"✅ Best validation Accuracy: {best_metric:.4e} at {best_epoch} epoch\")\n",
    "    return best_model_state, results, best_epoch"
   ]
  },
  {
   "cell_type": "code",
   "execution_count": 16,
   "id": "bd3a6174",
   "metadata": {},
   "outputs": [],
   "source": [
    "def try_create_model(model_class, attributes, imgs_shape, kan_neurons, kan_grid):\n",
    "    try:\n",
    "        model = model_class(attributes, imgs_shape, kan_neurons, kan_grid)\n",
    "        \n",
    "        # Test the model with a sample input\n",
    "        num_input = torch.randn(4, attributes)\n",
    "        img_input = torch.randn(4, *imgs_shape)\n",
    "        output = model(num_input, img_input)\n",
    "        \n",
    "        print(f\"Successfully created and tested {model_class.__name__}\")\n",
    "        \n",
    "        return model\n",
    "    except Exception as e:\n",
    "        print(f\"Error creating or testing {model_class.__name__}:\")\n",
    "        traceback.print_exc()\n",
    "        return None"
   ]
  },
  {
   "cell_type": "code",
   "execution_count": 73,
   "id": "14c1082c",
   "metadata": {},
   "outputs": [],
   "source": [
    "def grid_search_kan_hybrid(dataset, model_class, max_steps=30):\n",
    "    hidden_neuron_options = list(range(3, attributes // 2 + 1))\n",
    "    grid_options = list(range(3, 9))\n",
    "    lamb_options = [1e-02, 1e-03, 1e-04, 1e-05, 1e-06, 1e-07]\n",
    "\n",
    "    top_models = []  # list of dicts: each will have 'loss', 'config', 'state_dict'\n",
    "\n",
    "    for hidden in hidden_neuron_options:\n",
    "        for grid in grid_options:\n",
    "            for lamb in lamb_options:\n",
    "                print(f\"Testing {hidden} hidden neurons, lamb={lamb}, grid={grid}\")\n",
    "                model = try_create_model(model_class, attributes, imgs_shape, kan_neurons=hidden, kan_grid=grid)  # Attempt to create Model3\n",
    "\n",
    "                def train_acc_hybrid():\n",
    "                    return torch.mean((torch.round(model(dataset['train_input'], dataset['train_img'])[:,0]) == dataset['train_label'][:,0]).type(dtype))\n",
    "                \n",
    "                def val_acc_hybrid():\n",
    "                    return torch.mean((torch.round(model(dataset['val_input'], dataset['val_img'])[:,0]) == dataset['val_label'][:,0]).type(dtype))\n",
    "                # Custom training\n",
    "                model_state, _, best_epoch = fit_hybrid_dataloaders(model, dataset, opt=\"LBFGS\", steps=max_steps, lamb=lamb,\n",
    "                                                                   metrics=(train_acc_hybrid, val_acc_hybrid), display_metrics=['train_acc_hybrid', 'val_acc_hybrid'])\n",
    "                model.load_state_dict(model_state)\n",
    "\n",
    "                # Evaluate\n",
    "                avg_acc = torch.mean((torch.round(model(dataset['test_input'], dataset['test_img'])[:,0]) == dataset['test_label'][:,0]).type(dtype))\n",
    "                print(f'avg_acc {avg_acc}')\n",
    "                # Save this model info\n",
    "                top_models.append({\n",
    "                    \"avg_acc\": avg_acc,\n",
    "                    \"config\": {\"hidden\": hidden, \"grid\": grid, \"lamb\": lamb},\n",
    "                    #\"state_dict\": copy.deepcopy(model_state),\n",
    "                    \"best_epoch\": best_epoch\n",
    "                })\n",
    "                del model\n",
    "                torch.cuda.empty_cache()\n",
    "                gc.collect()\n",
    "        # Keep only top 5\n",
    "        top_models = sorted(top_models, key=lambda x: x[\"avg_acc\"], reverse=True)[:5]\n",
    "\n",
    "    print(\"\\n✅ Top 5 Configurations:\")\n",
    "    for i, entry in enumerate(top_models):\n",
    "        cfg = entry[\"config\"]\n",
    "        print(f\"{i+1}. width=[{attributes}, {cfg['hidden']}, 1], grid={cfg['grid']}, lamb={cfg['lamb']}| best_epoch={entry['best_epoch']} | avg_acc={entry['avg_acc']:.5f}\")\n"
   ]
  },
  {
   "cell_type": "markdown",
   "id": "e503d65b-47e8-4c00-a84f-cec61e51ba9d",
   "metadata": {},
   "source": [
    "# Load Dataset and Images"
   ]
  },
  {
   "cell_type": "code",
   "execution_count": 46,
   "id": "c0d46e15-1287-4f1e-ba6a-cc05b3c8915f",
   "metadata": {},
   "outputs": [],
   "source": [
    "X_train, y_train = load_and_clean('N_train.npy', 'y_train.npy',x_col, target_col)\n",
    "X_test, y_test   = load_and_clean('N_test.npy',  'y_test.npy', x_col, target_col)\n",
    "X_val, y_val     = load_and_clean('N_val.npy',   'y_val.npy', x_col, target_col)"
   ]
  },
  {
   "cell_type": "code",
   "execution_count": 47,
   "id": "92613d4f-1cd2-49f8-82a9-620fda68b565",
   "metadata": {},
   "outputs": [
    {
     "name": "stdout",
     "output_type": "stream",
     "text": [
      "5\n"
     ]
    }
   ],
   "source": [
    "# Get the shape of the dataframe\n",
    "num_columns = X_train.shape[1]\n",
    "\n",
    "# Calculate number of columns - 1\n",
    "columns_minus_one = num_columns - 1\n",
    "\n",
    "# Calculate the square root for image size\n",
    "image_size = math.ceil(math.sqrt(num_columns))\n",
    "print(image_size)"
   ]
  },
  {
   "cell_type": "code",
   "execution_count": 48,
   "id": "a28853f7-dcee-47de-91eb-8f35177b8913",
   "metadata": {},
   "outputs": [],
   "source": [
    "dataset_name = 'wall-robot-navigation'\n",
    "#Select the model and the parameters\n",
    "problem_type = \"supervised\"\n",
    "image_model = IGTD(problem= problem_type, scale=[image_size,image_size], fea_dist_method='Euclidean', image_dist_method='Euclidean', error='abs', max_step=30000, val_step=300, random_seed=SEED)\n",
    "name = f\"IGTD_{image_size}x{image_size}_fEuclidean_iEuclidean_abs\"\n",
    "\n",
    "#Define the dataset path and the folder where the images will be saved\n",
    "images_folder = f\"HyNNImages/Classification/{dataset_name}/images_{dataset_name}_{name}\""
   ]
  },
  {
   "cell_type": "code",
   "execution_count": 49,
   "id": "a01e98f2-1bea-4364-b0bc-3d0412ebba5c",
   "metadata": {
    "scrolled": true
   },
   "outputs": [
    {
     "name": "stdout",
     "output_type": "stream",
     "text": [
      "Images shape:  (3, 5, 5)\n",
      "Attributes:  24\n"
     ]
    },
    {
     "data": {
      "image/png": "[encoded data removed]",
      "text/plain": [
       "<Figure size 5x5 with 1 Axes>"
      ]
     },
     "metadata": {},
     "output_type": "display_data"
    },
    {
     "data": {
      "image/png": "[encoded data removed]",
      "text/plain": [
       "<Figure size 5x5 with 1 Axes>"
      ]
     },
     "metadata": {},
     "output_type": "display_data"
    },
    {
     "data": {
      "image/png": "[encoded data removed]",
      "text/plain": [
       "<Figure size 5x5 with 1 Axes>"
      ]
     },
     "metadata": {},
     "output_type": "display_data"
    }
   ],
   "source": [
    "train_loader, val_loader, test_loader, attributes, imgs_shape = load_and_preprocess_data(\n",
    "    X_train, y_train, X_test, y_test, X_val, y_val,\n",
    "    image_model=image_model,\n",
    "    problem_type=problem_type,\n",
    "    batch_size=16\n",
    ")"
   ]
  },
  {
   "cell_type": "code",
   "execution_count": 51,
   "id": "af7bc776-0d49-4456-ba5b-861c4005fa73",
   "metadata": {},
   "outputs": [],
   "source": [
    "def combine_loader(loader):\n",
    "    \"\"\"\n",
    "    Combines all batches from a DataLoader into three tensors.\n",
    "    Assumes each batch is a tuple: (mlp_tensor, img_tensor, target_tensor)\n",
    "    \"\"\"\n",
    "    mlp_list, img_list, target_list = [], [], []\n",
    "    for mlp, img, target in loader:\n",
    "        mlp_list.append(mlp)\n",
    "        img_list.append(img)\n",
    "        target_list.append(target)\n",
    "    return torch.cat(mlp_list, dim=0), torch.cat(img_list, dim=0), torch.cat(target_list, dim=0)"
   ]
  },
  {
   "cell_type": "code",
   "execution_count": 52,
   "id": "2c84fd70-94ac-4546-b907-00fe548676ba",
   "metadata": {},
   "outputs": [],
   "source": [
    "# Combine dataloaders into tensors.\n",
    "train_mlp, train_img, train_target = combine_loader(train_loader)\n",
    "val_mlp, val_img, val_target = combine_loader(val_loader)\n",
    "test_mlp, test_img, test_target = combine_loader(test_loader)\n",
    "\n",
    "dataset = {\n",
    "    \"train_input\": train_mlp.to(device),\n",
    "    \"train_img\": train_img.to(device),\n",
    "    \"train_label\": train_target.to(device),\n",
    "    \"val_input\": val_mlp.to(device),\n",
    "    \"val_img\": val_img.to(device),\n",
    "    \"val_label\": val_target.to(device),\n",
    "    \"test_input\": test_mlp.to(device),\n",
    "    \"test_img\": test_img.to(device),\n",
    "    \"test_label\": test_target.to(device),\n",
    "}"
   ]
  },
  {
   "cell_type": "code",
   "execution_count": 53,
   "id": "d8382d81-df3d-4828-90a0-a472f0fb312e",
   "metadata": {},
   "outputs": [
    {
     "name": "stdout",
     "output_type": "stream",
     "text": [
      "Train data shape: torch.Size([3491, 24])\n",
      "Train target shape: torch.Size([3491, 1])\n",
      "Test data shape: torch.Size([1092, 24])\n",
      "Test target shape: torch.Size([1092, 1])\n",
      "Validation data shape: torch.Size([873, 24])\n",
      "Validation target shape: torch.Size([873, 1])\n"
     ]
    }
   ],
   "source": [
    "# Print the shapes of the tensors\n",
    "print(\"Train data shape:\", dataset['train_input'].shape)\n",
    "print(\"Train target shape:\", dataset['train_label'].shape)\n",
    "print(\"Test data shape:\", dataset['test_input'].shape)\n",
    "print(\"Test target shape:\", dataset['test_label'].shape)\n",
    "print(\"Validation data shape:\", dataset['val_input'].shape)\n",
    "print(\"Validation target shape:\", dataset['val_label'].shape)"
   ]
  },
  {
   "cell_type": "markdown",
   "id": "a226b922-a823-49b6-ada1-6fae898ef239",
   "metadata": {},
   "source": [
    "# Grid Search for KAN"
   ]
  },
  {
   "cell_type": "code",
   "execution_count": 66,
   "id": "6c7a78d5-a403-422d-b6f1-191d9139220b",
   "metadata": {
    "scrolled": true
   },
   "outputs": [
    {
     "name": "stdout",
     "output_type": "stream",
     "text": [
      "Testing width=[24, 1, 1], lamb=0.01, grid=3\n",
      "checkpoint directory created: ./model\n",
      "saving model version 0.0\n"
     ]
    },
    {
     "name": "stderr",
     "output_type": "stream",
     "text": [
      " train_acc_kan: 7.55e-01 | val_acc_kan: 7.54e-01 |: 100%|███████████| 30/30 [00:39<00:00,  1.32s/it]\n"
     ]
    },
    {
     "name": "stdout",
     "output_type": "stream",
     "text": [
      "saving model version 0.1\n",
      "✅ Best validation Accuracy: 7.5601e-01 at 28 epoch\n",
      "tensor(0.7473, device='cuda:0')\n",
      "Testing width=[24, 1, 1], lamb=0.001, grid=3\n",
      "checkpoint directory created: ./model\n",
      "saving model version 0.0\n"
     ]
    },
    {
     "name": "stderr",
     "output_type": "stream",
     "text": [
      "description:   0%|                                                           | 0/30 [00:01<?, ?it/s]\n"
     ]
    },
    {
     "ename": "KeyboardInterrupt",
     "evalue": "",
     "output_type": "error",
     "traceback": [
      "\u001b[1;31m---------------------------------------------------------------------------\u001b[0m",
      "\u001b[1;31mKeyboardInterrupt\u001b[0m                         Traceback (most recent call last)",
      "Cell \u001b[1;32mIn[66], line 1\u001b[0m\n\u001b[1;32m----> 1\u001b[0m grid_search_kan(dataset, steps\u001b[38;5;241m=\u001b[39m\u001b[38;5;241m30\u001b[39m)\n",
      "Cell \u001b[1;32mIn[50], line 22\u001b[0m, in \u001b[0;36mgrid_search_kan\u001b[1;34m(dataset, output_dim, steps)\u001b[0m\n\u001b[0;32m     19\u001b[0m     \u001b[38;5;28;01mreturn\u001b[39;00m torch\u001b[38;5;241m.\u001b[39mmean((torch\u001b[38;5;241m.\u001b[39mround(model(dataset[\u001b[38;5;124m'\u001b[39m\u001b[38;5;124mval_input\u001b[39m\u001b[38;5;124m'\u001b[39m])[:,\u001b[38;5;241m0\u001b[39m]) \u001b[38;5;241m==\u001b[39m dataset[\u001b[38;5;124m'\u001b[39m\u001b[38;5;124mval_label\u001b[39m\u001b[38;5;124m'\u001b[39m][:,\u001b[38;5;241m0\u001b[39m])\u001b[38;5;241m.\u001b[39mtype(dtype))\n\u001b[0;32m     21\u001b[0m \u001b[38;5;66;03m# Custom training\u001b[39;00m\n\u001b[1;32m---> 22\u001b[0m model_state, _, best_epoch \u001b[38;5;241m=\u001b[39m custom_fit(model, dataset, opt\u001b[38;5;241m=\u001b[39m\u001b[38;5;124m\"\u001b[39m\u001b[38;5;124mLBFGS\u001b[39m\u001b[38;5;124m\"\u001b[39m, steps\u001b[38;5;241m=\u001b[39msteps, lamb\u001b[38;5;241m=\u001b[39mlamb, \n\u001b[0;32m     23\u001b[0m                                         metrics\u001b[38;5;241m=\u001b[39m(train_acc_kan, val_acc_kan), display_metrics\u001b[38;5;241m=\u001b[39m[\u001b[38;5;124m'\u001b[39m\u001b[38;5;124mtrain_acc_kan\u001b[39m\u001b[38;5;124m'\u001b[39m, \u001b[38;5;124m'\u001b[39m\u001b[38;5;124mval_acc_kan\u001b[39m\u001b[38;5;124m'\u001b[39m])\n\u001b[0;32m     24\u001b[0m model\u001b[38;5;241m.\u001b[39mload_state_dict(model_state)\n\u001b[0;32m     26\u001b[0m \u001b[38;5;66;03m# Evaluate\u001b[39;00m\n",
      "Cell \u001b[1;32mIn[9], line 146\u001b[0m, in \u001b[0;36mcustom_fit\u001b[1;34m(model, dataset, opt, steps, log, lamb, lamb_l1, lamb_entropy, lamb_coef, lamb_coefdiff, update_grid, grid_update_num, loss_fn, lr, start_grid_update_step, stop_grid_update_step, batch, metrics, save_fig, in_vars, out_vars, beta, save_fig_freq, img_folder, singularity_avoiding, y_th, reg_metric, display_metrics)\u001b[0m\n\u001b[0;32m    143\u001b[0m     model\u001b[38;5;241m.\u001b[39mupdate_grid(dataset[\u001b[38;5;124m'\u001b[39m\u001b[38;5;124mtrain_input\u001b[39m\u001b[38;5;124m'\u001b[39m][train_id])\n\u001b[0;32m    145\u001b[0m \u001b[38;5;28;01mif\u001b[39;00m opt \u001b[38;5;241m==\u001b[39m \u001b[38;5;124m\"\u001b[39m\u001b[38;5;124mLBFGS\u001b[39m\u001b[38;5;124m\"\u001b[39m:\n\u001b[1;32m--> 146\u001b[0m     optimizer\u001b[38;5;241m.\u001b[39mstep(closure)\n\u001b[0;32m    148\u001b[0m \u001b[38;5;28;01mif\u001b[39;00m opt \u001b[38;5;241m==\u001b[39m \u001b[38;5;124m\"\u001b[39m\u001b[38;5;124mAdam\u001b[39m\u001b[38;5;124m\"\u001b[39m:\n\u001b[0;32m    149\u001b[0m     pred \u001b[38;5;241m=\u001b[39m model\u001b[38;5;241m.\u001b[39mforward(dataset[\u001b[38;5;124m'\u001b[39m\u001b[38;5;124mtrain_input\u001b[39m\u001b[38;5;124m'\u001b[39m][train_id], singularity_avoiding\u001b[38;5;241m=\u001b[39msingularity_avoiding, y_th\u001b[38;5;241m=\u001b[39my_th)\n",
      "File \u001b[1;32m~\\anaconda3\\envs\\env_torch_12\\Lib\\site-packages\\torch\\optim\\optimizer.py:487\u001b[0m, in \u001b[0;36mOptimizer.profile_hook_step.<locals>.wrapper\u001b[1;34m(*args, **kwargs)\u001b[0m\n\u001b[0;32m    482\u001b[0m         \u001b[38;5;28;01melse\u001b[39;00m:\n\u001b[0;32m    483\u001b[0m             \u001b[38;5;28;01mraise\u001b[39;00m \u001b[38;5;167;01mRuntimeError\u001b[39;00m(\n\u001b[0;32m    484\u001b[0m                 \u001b[38;5;124mf\u001b[39m\u001b[38;5;124m\"\u001b[39m\u001b[38;5;132;01m{\u001b[39;00mfunc\u001b[38;5;132;01m}\u001b[39;00m\u001b[38;5;124m must return None or a tuple of (new_args, new_kwargs), but got \u001b[39m\u001b[38;5;132;01m{\u001b[39;00mresult\u001b[38;5;132;01m}\u001b[39;00m\u001b[38;5;124m.\u001b[39m\u001b[38;5;124m\"\u001b[39m\n\u001b[0;32m    485\u001b[0m             )\n\u001b[1;32m--> 487\u001b[0m out \u001b[38;5;241m=\u001b[39m func(\u001b[38;5;241m*\u001b[39margs, \u001b[38;5;241m*\u001b[39m\u001b[38;5;241m*\u001b[39mkwargs)\n\u001b[0;32m    488\u001b[0m \u001b[38;5;28mself\u001b[39m\u001b[38;5;241m.\u001b[39m_optimizer_step_code()\n\u001b[0;32m    490\u001b[0m \u001b[38;5;66;03m# call optimizer step post hooks\u001b[39;00m\n",
      "File \u001b[1;32m~\\anaconda3\\envs\\env_torch_12\\Lib\\site-packages\\torch\\utils\\_contextlib.py:116\u001b[0m, in \u001b[0;36mcontext_decorator.<locals>.decorate_context\u001b[1;34m(*args, **kwargs)\u001b[0m\n\u001b[0;32m    113\u001b[0m \u001b[38;5;129m@functools\u001b[39m\u001b[38;5;241m.\u001b[39mwraps(func)\n\u001b[0;32m    114\u001b[0m \u001b[38;5;28;01mdef\u001b[39;00m \u001b[38;5;21mdecorate_context\u001b[39m(\u001b[38;5;241m*\u001b[39margs, \u001b[38;5;241m*\u001b[39m\u001b[38;5;241m*\u001b[39mkwargs):\n\u001b[0;32m    115\u001b[0m     \u001b[38;5;28;01mwith\u001b[39;00m ctx_factory():\n\u001b[1;32m--> 116\u001b[0m         \u001b[38;5;28;01mreturn\u001b[39;00m func(\u001b[38;5;241m*\u001b[39margs, \u001b[38;5;241m*\u001b[39m\u001b[38;5;241m*\u001b[39mkwargs)\n",
      "File \u001b[1;32m~\\OneDrive\\Documents\\Master Data Science\\Thesis\\pykan\\kan\\LBFGS.py:443\u001b[0m, in \u001b[0;36mLBFGS.step\u001b[1;34m(self, closure)\u001b[0m\n\u001b[0;32m    441\u001b[0m     \u001b[38;5;28;01mdef\u001b[39;00m \u001b[38;5;21mobj_func\u001b[39m(x, t, d):\n\u001b[0;32m    442\u001b[0m         \u001b[38;5;28;01mreturn\u001b[39;00m \u001b[38;5;28mself\u001b[39m\u001b[38;5;241m.\u001b[39m_directional_evaluate(closure, x, t, d)\n\u001b[1;32m--> 443\u001b[0m     loss, flat_grad, t, ls_func_evals \u001b[38;5;241m=\u001b[39m _strong_wolfe(\n\u001b[0;32m    444\u001b[0m         obj_func, x_init, t, d, loss, flat_grad, gtd)\n\u001b[0;32m    445\u001b[0m \u001b[38;5;28mself\u001b[39m\u001b[38;5;241m.\u001b[39m_add_grad(t, d)\n\u001b[0;32m    446\u001b[0m opt_cond \u001b[38;5;241m=\u001b[39m flat_grad\u001b[38;5;241m.\u001b[39mabs()\u001b[38;5;241m.\u001b[39mmax() \u001b[38;5;241m<\u001b[39m\u001b[38;5;241m=\u001b[39m tolerance_grad\n",
      "File \u001b[1;32m~\\OneDrive\\Documents\\Master Data Science\\Thesis\\pykan\\kan\\LBFGS.py:50\u001b[0m, in \u001b[0;36m_strong_wolfe\u001b[1;34m(obj_func, x, t, d, f, g, gtd, c1, c2, tolerance_change, max_ls)\u001b[0m\n\u001b[0;32m     48\u001b[0m g \u001b[38;5;241m=\u001b[39m g\u001b[38;5;241m.\u001b[39mclone(memory_format\u001b[38;5;241m=\u001b[39mtorch\u001b[38;5;241m.\u001b[39mcontiguous_format)\n\u001b[0;32m     49\u001b[0m \u001b[38;5;66;03m# evaluate objective and gradient using initial step\u001b[39;00m\n\u001b[1;32m---> 50\u001b[0m f_new, g_new \u001b[38;5;241m=\u001b[39m obj_func(x, t, d)\n\u001b[0;32m     51\u001b[0m ls_func_evals \u001b[38;5;241m=\u001b[39m \u001b[38;5;241m1\u001b[39m\n\u001b[0;32m     52\u001b[0m gtd_new \u001b[38;5;241m=\u001b[39m g_new\u001b[38;5;241m.\u001b[39mdot(d)\n",
      "File \u001b[1;32m~\\OneDrive\\Documents\\Master Data Science\\Thesis\\pykan\\kan\\LBFGS.py:442\u001b[0m, in \u001b[0;36mLBFGS.step.<locals>.obj_func\u001b[1;34m(x, t, d)\u001b[0m\n\u001b[0;32m    441\u001b[0m \u001b[38;5;28;01mdef\u001b[39;00m \u001b[38;5;21mobj_func\u001b[39m(x, t, d):\n\u001b[1;32m--> 442\u001b[0m     \u001b[38;5;28;01mreturn\u001b[39;00m \u001b[38;5;28mself\u001b[39m\u001b[38;5;241m.\u001b[39m_directional_evaluate(closure, x, t, d)\n",
      "File \u001b[1;32m~\\OneDrive\\Documents\\Master Data Science\\Thesis\\pykan\\kan\\LBFGS.py:291\u001b[0m, in \u001b[0;36mLBFGS._directional_evaluate\u001b[1;34m(self, closure, x, t, d)\u001b[0m\n\u001b[0;32m    289\u001b[0m \u001b[38;5;28;01mdef\u001b[39;00m \u001b[38;5;21m_directional_evaluate\u001b[39m(\u001b[38;5;28mself\u001b[39m, closure, x, t, d):\n\u001b[0;32m    290\u001b[0m     \u001b[38;5;28mself\u001b[39m\u001b[38;5;241m.\u001b[39m_add_grad(t, d)\n\u001b[1;32m--> 291\u001b[0m     loss \u001b[38;5;241m=\u001b[39m \u001b[38;5;28mfloat\u001b[39m(closure())\n\u001b[0;32m    292\u001b[0m     flat_grad \u001b[38;5;241m=\u001b[39m \u001b[38;5;28mself\u001b[39m\u001b[38;5;241m.\u001b[39m_gather_flat_grad()\n\u001b[0;32m    293\u001b[0m     \u001b[38;5;28mself\u001b[39m\u001b[38;5;241m.\u001b[39m_set_param(x)\n",
      "File \u001b[1;32m~\\anaconda3\\envs\\env_torch_12\\Lib\\site-packages\\torch\\utils\\_contextlib.py:116\u001b[0m, in \u001b[0;36mcontext_decorator.<locals>.decorate_context\u001b[1;34m(*args, **kwargs)\u001b[0m\n\u001b[0;32m    113\u001b[0m \u001b[38;5;129m@functools\u001b[39m\u001b[38;5;241m.\u001b[39mwraps(func)\n\u001b[0;32m    114\u001b[0m \u001b[38;5;28;01mdef\u001b[39;00m \u001b[38;5;21mdecorate_context\u001b[39m(\u001b[38;5;241m*\u001b[39margs, \u001b[38;5;241m*\u001b[39m\u001b[38;5;241m*\u001b[39mkwargs):\n\u001b[0;32m    115\u001b[0m     \u001b[38;5;28;01mwith\u001b[39;00m ctx_factory():\n\u001b[1;32m--> 116\u001b[0m         \u001b[38;5;28;01mreturn\u001b[39;00m func(\u001b[38;5;241m*\u001b[39margs, \u001b[38;5;241m*\u001b[39m\u001b[38;5;241m*\u001b[39mkwargs)\n",
      "Cell \u001b[1;32mIn[9], line 109\u001b[0m, in \u001b[0;36mcustom_fit.<locals>.closure\u001b[1;34m()\u001b[0m\n\u001b[0;32m    107\u001b[0m optimizer\u001b[38;5;241m.\u001b[39mzero_grad()\n\u001b[0;32m    108\u001b[0m pred \u001b[38;5;241m=\u001b[39m model\u001b[38;5;241m.\u001b[39mforward(dataset[\u001b[38;5;124m'\u001b[39m\u001b[38;5;124mtrain_input\u001b[39m\u001b[38;5;124m'\u001b[39m][train_id], singularity_avoiding\u001b[38;5;241m=\u001b[39msingularity_avoiding, y_th\u001b[38;5;241m=\u001b[39my_th)\n\u001b[1;32m--> 109\u001b[0m train_loss \u001b[38;5;241m=\u001b[39m loss_fn(pred, dataset[\u001b[38;5;124m'\u001b[39m\u001b[38;5;124mtrain_label\u001b[39m\u001b[38;5;124m'\u001b[39m][train_id])\n\u001b[0;32m    110\u001b[0m \u001b[38;5;28;01mif\u001b[39;00m model\u001b[38;5;241m.\u001b[39msave_act:\n\u001b[0;32m    111\u001b[0m     \u001b[38;5;28;01mif\u001b[39;00m reg_metric \u001b[38;5;241m==\u001b[39m \u001b[38;5;124m'\u001b[39m\u001b[38;5;124medge_backward\u001b[39m\u001b[38;5;124m'\u001b[39m:\n",
      "Cell \u001b[1;32mIn[9], line 73\u001b[0m, in \u001b[0;36mcustom_fit.<locals>.<lambda>\u001b[1;34m(x, y)\u001b[0m\n\u001b[0;32m     70\u001b[0m pbar \u001b[38;5;241m=\u001b[39m tqdm(\u001b[38;5;28mrange\u001b[39m(steps), desc\u001b[38;5;241m=\u001b[39m\u001b[38;5;124m'\u001b[39m\u001b[38;5;124mdescription\u001b[39m\u001b[38;5;124m'\u001b[39m, ncols\u001b[38;5;241m=\u001b[39m\u001b[38;5;241m100\u001b[39m)\n\u001b[0;32m     72\u001b[0m \u001b[38;5;28;01mif\u001b[39;00m loss_fn \u001b[38;5;241m==\u001b[39m \u001b[38;5;28;01mNone\u001b[39;00m:\n\u001b[1;32m---> 73\u001b[0m     loss_fn \u001b[38;5;241m=\u001b[39m loss_fn_eval \u001b[38;5;241m=\u001b[39m \u001b[38;5;28;01mlambda\u001b[39;00m x, y: torch\u001b[38;5;241m.\u001b[39mmean((x \u001b[38;5;241m-\u001b[39m y) \u001b[38;5;241m*\u001b[39m\u001b[38;5;241m*\u001b[39m \u001b[38;5;241m2\u001b[39m)\n\u001b[0;32m     74\u001b[0m \u001b[38;5;28;01melse\u001b[39;00m:\n\u001b[0;32m     75\u001b[0m     loss_fn \u001b[38;5;241m=\u001b[39m loss_fn_eval \u001b[38;5;241m=\u001b[39m loss_fn\n",
      "\u001b[1;31mKeyboardInterrupt\u001b[0m: "
     ]
    }
   ],
   "source": [
    "grid_search_kan(dataset, steps=30)"
   ]
  },
  {
   "cell_type": "markdown",
   "id": "83433c04-9ffe-4417-b568-0d20e9438a66",
   "metadata": {},
   "source": [
    "# ✅ Top 5 Configurations:\r\n",
    "1. width=[24, 12, 1], grid=8, lamb=0.001 | best_epoch=10 | acc_test=0.94139\r\n",
    "2. width=[24, 5, 1], grid=7, lamb=1e-07 | best_epoch=19 | acc_test=0.93956\r\n",
    "3. width=[24, 3, 1], grid=8, lamb=1e-07 | best_epoch=7 | acc_test=0.93498\r\n",
    "4. width=[24, 11, 1], grid=7, lamb=0.001 | best_epoch=10 | acc_test=0.93498\r\n",
    "5. width=[24, 12, 1], grid=8, lamb=1e-05 | best_epoch=7 | acc_test=0.9340750340"
   ]
  },
  {
   "cell_type": "markdown",
   "id": "16745534-695d-44df-a61b-187a86e86579",
   "metadata": {},
   "source": [
    "# Grid Search for CNN"
   ]
  },
  {
   "cell_type": "code",
   "execution_count": 70,
   "id": "6de250fe-da38-4db0-954a-bddb0b43137a",
   "metadata": {
    "scrolled": true
   },
   "outputs": [
    {
     "name": "stdout",
     "output_type": "stream",
     "text": [
      "Testing cnn_blocks=1, dense_layers=1\n"
     ]
    },
    {
     "name": "stderr",
     "output_type": "stream",
     "text": [
      " train_acc_cnn: 8.22e-01 | val_acc_cnn: 7.43e-01 |: 100%|█████████| 200/200 [01:18<00:00,  2.54it/s]\n"
     ]
    },
    {
     "name": "stdout",
     "output_type": "stream",
     "text": [
      "✅ Best validation ACC: 7.4570e-01 at 194 epoch\n",
      "tensor(0.7408, device='cuda:0')\n",
      "Testing cnn_blocks=1, dense_layers=2\n"
     ]
    },
    {
     "name": "stderr",
     "output_type": "stream",
     "text": [
      " train_acc_cnn: 9.44e-01 | val_acc_cnn: 7.56e-01 |: 100%|█████████| 200/200 [01:24<00:00,  2.37it/s]\n"
     ]
    },
    {
     "name": "stdout",
     "output_type": "stream",
     "text": [
      "✅ Best validation ACC: 7.6403e-01 at 176 epoch\n",
      "tensor(0.7802, device='cuda:0')\n",
      "Testing cnn_blocks=1, dense_layers=3\n"
     ]
    },
    {
     "name": "stderr",
     "output_type": "stream",
     "text": [
      " train_acc_cnn: 8.87e-01 | val_acc_cnn: 7.93e-01 |: 100%|█████████| 200/200 [01:27<00:00,  2.28it/s]\n"
     ]
    },
    {
     "name": "stdout",
     "output_type": "stream",
     "text": [
      "✅ Best validation ACC: 7.9611e-01 at 189 epoch\n",
      "tensor(0.7875, device='cuda:0')\n",
      "Testing cnn_blocks=2, dense_layers=1\n"
     ]
    },
    {
     "name": "stderr",
     "output_type": "stream",
     "text": [
      " train_acc_cnn: 9.97e-01 | val_acc_cnn: 8.21e-01 |: 100%|█████████| 200/200 [01:31<00:00,  2.19it/s]\n"
     ]
    },
    {
     "name": "stdout",
     "output_type": "stream",
     "text": [
      "✅ Best validation ACC: 8.7171e-01 at 65 epoch\n",
      "tensor(0.8571, device='cuda:0')\n",
      "Testing cnn_blocks=2, dense_layers=2\n"
     ]
    },
    {
     "name": "stderr",
     "output_type": "stream",
     "text": [
      " train_acc_cnn: 9.93e-01 | val_acc_cnn: 8.10e-01 |: 100%|█████████| 200/200 [01:37<00:00,  2.04it/s]\n"
     ]
    },
    {
     "name": "stdout",
     "output_type": "stream",
     "text": [
      "✅ Best validation ACC: 8.2932e-01 at 114 epoch\n",
      "tensor(0.7903, device='cuda:0')\n",
      "Testing cnn_blocks=2, dense_layers=3\n"
     ]
    },
    {
     "name": "stderr",
     "output_type": "stream",
     "text": [
      " train_acc_cnn: 9.93e-01 | val_acc_cnn: 8.00e-01 |: 100%|█████████| 200/200 [01:42<00:00,  1.96it/s]\n"
     ]
    },
    {
     "name": "stdout",
     "output_type": "stream",
     "text": [
      "✅ Best validation ACC: 8.1672e-01 at 150 epoch\n",
      "tensor(0.8178, device='cuda:0')\n",
      "Testing cnn_blocks=3, dense_layers=1\n"
     ]
    },
    {
     "name": "stderr",
     "output_type": "stream",
     "text": [
      " train_acc_cnn: 9.93e-01 | val_acc_cnn: 7.59e-01 |: 100%|█████████| 200/200 [01:01<00:00,  3.28it/s]\n"
     ]
    },
    {
     "name": "stdout",
     "output_type": "stream",
     "text": [
      "✅ Best validation ACC: 7.6976e-01 at 59 epoch\n",
      "tensor(0.7454, device='cuda:0')\n",
      "Testing cnn_blocks=3, dense_layers=2\n"
     ]
    },
    {
     "name": "stderr",
     "output_type": "stream",
     "text": [
      " train_acc_cnn: 9.95e-01 | val_acc_cnn: 8.13e-01 |: 100%|█████████| 200/200 [01:04<00:00,  3.11it/s]\n"
     ]
    },
    {
     "name": "stdout",
     "output_type": "stream",
     "text": [
      "✅ Best validation ACC: 8.2131e-01 at 45 epoch\n",
      "tensor(0.7857, device='cuda:0')\n",
      "Testing cnn_blocks=3, dense_layers=3\n"
     ]
    },
    {
     "name": "stderr",
     "output_type": "stream",
     "text": [
      " train_acc_cnn: 9.93e-01 | val_acc_cnn: 8.22e-01 |: 100%|█████████| 200/200 [01:08<00:00,  2.92it/s]\n"
     ]
    },
    {
     "name": "stdout",
     "output_type": "stream",
     "text": [
      "✅ Best validation ACC: 8.3505e-01 at 49 epoch\n",
      "tensor(0.8159, device='cuda:0')\n",
      "\n",
      "✅ Top 5 Configurations:\n",
      "1. cnn_blocks=2, dense_layers=1 | best_epoch=65 | acc=0.85714\n",
      "2. cnn_blocks=2, dense_layers=3 | best_epoch=150 | acc=0.81777\n",
      "3. cnn_blocks=3, dense_layers=3 | best_epoch=49 | acc=0.81593\n",
      "4. cnn_blocks=2, dense_layers=2 | best_epoch=114 | acc=0.79029\n",
      "5. cnn_blocks=1, dense_layers=3 | best_epoch=189 | acc=0.78755\n"
     ]
    }
   ],
   "source": [
    "grid_search_cnn(dataset, steps=200)"
   ]
  },
  {
   "cell_type": "markdown",
   "id": "7d9db396-7fe4-4043-97ce-b8f5983224af",
   "metadata": {},
   "source": [
    "# Grid Search for Hibrid Model3"
   ]
  },
  {
   "cell_type": "code",
   "execution_count": 74,
   "id": "24658826-eff0-4b3d-b42b-e3d524d00b17",
   "metadata": {},
   "outputs": [],
   "source": [
    "class Model3(nn.Module):\n",
    "    def __init__(self, attributes, imgs_shape, kan_neurons, kan_grid, device=device):\n",
    "        super(Model3, self).__init__()\n",
    "        # CNN branch\n",
    "        self.cnn_branch = nn.Sequential(\n",
    "            nn.Conv2d(imgs_shape[0], 16, kernel_size=3, padding=2),     # out: 16 x 9 x 9\n",
    "            nn.LayerNorm([16, 7, 7]),\n",
    "            nn.Sigmoid(),\n",
    "            nn.Flatten()\n",
    "        ).to(device)\n",
    "        # Final KAN layers\n",
    "        self.m_kan = KAN(\n",
    "            width=[attributes, kan_neurons],\n",
    "            grid=kan_grid,\n",
    "            k=3,\n",
    "            seed=SEED,\n",
    "            device=device\n",
    "        )\n",
    "\n",
    "        # Calculate the size of the flattened output\n",
    "        self.flat_size = self._get_flat_size(imgs_shape)\n",
    "\n",
    "        # Final MLP layers\n",
    "        self.final_kan = KAN(\n",
    "            width=[self.flat_size + kan_neurons, 1],\n",
    "            grid=kan_grid,\n",
    "            k=3,\n",
    "            seed=SEED,\n",
    "            device=device\n",
    "        )\n",
    "\n",
    "        self.device = device\n",
    "\n",
    "\n",
    "    def _get_flat_size(self, imgs_shape):\n",
    "        # Forward pass with dummy input to calculate flat size\n",
    "        dummy_input = torch.zeros(4, *imgs_shape, device=device)\n",
    "        x = self.cnn_branch(dummy_input)\n",
    "        return x.size(1)\n",
    "\n",
    "    def get_concat_output(self, mlp_input, cnn_input):\n",
    "        # Ensure inputs are moved to the correct device\n",
    "        kan_input = mlp_input.to(self.device)\n",
    "        cnn_input = cnn_input.to(self.device)\n",
    "        \n",
    "        cnn_output = self.cnn_branch(cnn_input)  # Process image input\n",
    "        kan_output = self.m_kan(kan_input)  # Process numerical input\n",
    "        \n",
    "        return torch.cat((kan_output, cnn_output), dim=1)\n",
    "\n",
    "    \n",
    "    def forward(self, mlp_input, cnn_input):\n",
    "        concat_output = self.get_concat_output(mlp_input, cnn_input)\n",
    "        return self.final_kan(concat_output)"
   ]
  },
  {
   "cell_type": "markdown",
   "id": "fcf11c85-29f8-48ad-97fa-3a951592a88a",
   "metadata": {},
   "source": [
    "## Grid Search"
   ]
  },
  {
   "cell_type": "code",
   "execution_count": 76,
   "id": "1cb5d881-c64b-40b2-bce3-f00d50871fc1",
   "metadata": {
    "scrolled": true
   },
   "outputs": [
    {
     "name": "stdout",
     "output_type": "stream",
     "text": [
      "Testing 3 hidden neurons, lamb=0.01, grid=3\n",
      "checkpoint directory created: ./model\n",
      "saving model version 0.0\n",
      "checkpoint directory created: ./model\n",
      "saving model version 0.0\n",
      "Successfully created and tested Model3\n"
     ]
    },
    {
     "name": "stderr",
     "output_type": "stream",
     "text": [
      " train_acc_hybrid: 6.53e-01 | val_acc_hybrid: 6.64e-01 |: 100%|███| 120/120 [04:31<00:00,  2.26s/it]\n"
     ]
    },
    {
     "name": "stdout",
     "output_type": "stream",
     "text": [
      "saving model version 0.1\n",
      "✅ Best validation Accuracy: 6.6781e-01 at 118 epoch\n",
      "avg_acc 0.66300368309021\n",
      "Testing 3 hidden neurons, lamb=0.001, grid=3\n",
      "checkpoint directory created: ./model\n",
      "saving model version 0.0\n",
      "checkpoint directory created: ./model\n",
      "saving model version 0.0\n",
      "Successfully created and tested Model3\n"
     ]
    },
    {
     "name": "stderr",
     "output_type": "stream",
     "text": [
      " train_acc_hybrid: 9.16e-01 | val_acc_hybrid: 8.81e-01 |: 100%|███| 120/120 [04:44<00:00,  2.37s/it]\n"
     ]
    },
    {
     "name": "stdout",
     "output_type": "stream",
     "text": [
      "saving model version 0.1\n",
      "✅ Best validation Accuracy: 8.8660e-01 at 108 epoch\n",
      "avg_acc 0.8663003444671631\n",
      "Testing 3 hidden neurons, lamb=0.0001, grid=3\n",
      "checkpoint directory created: ./model\n",
      "saving model version 0.0\n",
      "checkpoint directory created: ./model\n",
      "saving model version 0.0\n",
      "Successfully created and tested Model3\n"
     ]
    },
    {
     "name": "stderr",
     "output_type": "stream",
     "text": [
      " train_acc_hybrid: 9.27e-01 | val_acc_hybrid: 8.43e-01 |: 100%|███| 120/120 [04:48<00:00,  2.41s/it]\n"
     ]
    },
    {
     "name": "stdout",
     "output_type": "stream",
     "text": [
      "saving model version 0.1\n",
      "✅ Best validation Accuracy: 8.6712e-01 at 83 epoch\n",
      "avg_acc 0.8406593203544617\n",
      "Testing 3 hidden neurons, lamb=1e-05, grid=3\n",
      "checkpoint directory created: ./model\n",
      "saving model version 0.0\n",
      "checkpoint directory created: ./model\n",
      "saving model version 0.0\n",
      "Successfully created and tested Model3\n"
     ]
    },
    {
     "name": "stderr",
     "output_type": "stream",
     "text": [
      " train_acc_hybrid: 9.26e-01 | val_acc_hybrid: 8.35e-01 |: 100%|███| 120/120 [04:47<00:00,  2.39s/it]\n"
     ]
    },
    {
     "name": "stdout",
     "output_type": "stream",
     "text": [
      "saving model version 0.1\n",
      "✅ Best validation Accuracy: 8.5223e-01 at 96 epoch\n",
      "avg_acc 0.8342490792274475\n",
      "Testing 3 hidden neurons, lamb=1e-06, grid=3\n",
      "checkpoint directory created: ./model\n",
      "saving model version 0.0\n",
      "checkpoint directory created: ./model\n",
      "saving model version 0.0\n",
      "Successfully created and tested Model3\n"
     ]
    },
    {
     "name": "stderr",
     "output_type": "stream",
     "text": [
      " train_acc_hybrid: 9.10e-01 | val_acc_hybrid: 8.28e-01 |: 100%|███| 120/120 [04:49<00:00,  2.41s/it]\n"
     ]
    },
    {
     "name": "stdout",
     "output_type": "stream",
     "text": [
      "saving model version 0.1\n",
      "✅ Best validation Accuracy: 8.2818e-01 at 99 epoch\n",
      "avg_acc 0.819597065448761\n",
      "Testing 3 hidden neurons, lamb=1e-07, grid=3\n",
      "checkpoint directory created: ./model\n",
      "saving model version 0.0\n",
      "checkpoint directory created: ./model\n",
      "saving model version 0.0\n",
      "Successfully created and tested Model3\n"
     ]
    },
    {
     "name": "stderr",
     "output_type": "stream",
     "text": [
      " train_acc_hybrid: 9.17e-01 | val_acc_hybrid: 8.20e-01 |: 100%|███| 120/120 [04:48<00:00,  2.40s/it]\n"
     ]
    },
    {
     "name": "stdout",
     "output_type": "stream",
     "text": [
      "saving model version 0.1\n",
      "✅ Best validation Accuracy: 8.3505e-01 at 53 epoch\n",
      "avg_acc 0.8012820482254028\n",
      "Testing 3 hidden neurons, lamb=0.01, grid=4\n",
      "checkpoint directory created: ./model\n",
      "saving model version 0.0\n",
      "checkpoint directory created: ./model\n",
      "saving model version 0.0\n",
      "Successfully created and tested Model3\n"
     ]
    },
    {
     "name": "stderr",
     "output_type": "stream",
     "text": [
      " train_acc_hybrid: 6.89e-01 | val_acc_hybrid: 6.72e-01 |: 100%|███| 120/120 [05:01<00:00,  2.52s/it]\n"
     ]
    },
    {
     "name": "stdout",
     "output_type": "stream",
     "text": [
      "saving model version 0.1\n",
      "✅ Best validation Accuracy: 6.7469e-01 at 67 epoch\n",
      "avg_acc 0.6767399311065674\n",
      "Testing 3 hidden neurons, lamb=0.001, grid=4\n",
      "checkpoint directory created: ./model\n",
      "saving model version 0.0\n",
      "checkpoint directory created: ./model\n",
      "saving model version 0.0\n",
      "Successfully created and tested Model3\n"
     ]
    },
    {
     "name": "stderr",
     "output_type": "stream",
     "text": [
      " train_acc_hybrid: 9.18e-01 | val_acc_hybrid: 8.51e-01 |: 100%|███| 120/120 [05:13<00:00,  2.61s/it]\n"
     ]
    },
    {
     "name": "stdout",
     "output_type": "stream",
     "text": [
      "saving model version 0.1\n",
      "✅ Best validation Accuracy: 8.6140e-01 at 66 epoch\n",
      "avg_acc 0.877289354801178\n",
      "Testing 3 hidden neurons, lamb=0.0001, grid=4\n",
      "checkpoint directory created: ./model\n",
      "saving model version 0.0\n",
      "checkpoint directory created: ./model\n",
      "saving model version 0.0\n",
      "Successfully created and tested Model3\n"
     ]
    },
    {
     "name": "stderr",
     "output_type": "stream",
     "text": [
      " train_acc_hybrid: 9.34e-01 | val_acc_hybrid: 8.21e-01 |: 100%|███| 120/120 [05:12<00:00,  2.61s/it]\n"
     ]
    },
    {
     "name": "stdout",
     "output_type": "stream",
     "text": [
      "saving model version 0.1\n",
      "✅ Best validation Accuracy: 8.3047e-01 at 107 epoch\n",
      "avg_acc 0.8342490792274475\n",
      "Testing 3 hidden neurons, lamb=1e-05, grid=4\n",
      "checkpoint directory created: ./model\n",
      "saving model version 0.0\n",
      "checkpoint directory created: ./model\n",
      "saving model version 0.0\n",
      "Successfully created and tested Model3\n"
     ]
    },
    {
     "name": "stderr",
     "output_type": "stream",
     "text": [
      " train_acc_hybrid: 9.10e-01 | val_acc_hybrid: 7.95e-01 |: 100%|███| 120/120 [05:15<00:00,  2.63s/it]\n"
     ]
    },
    {
     "name": "stdout",
     "output_type": "stream",
     "text": [
      "saving model version 0.1\n",
      "✅ Best validation Accuracy: 8.0641e-01 at 93 epoch\n",
      "avg_acc 0.8003662824630737\n",
      "Testing 3 hidden neurons, lamb=1e-06, grid=4\n",
      "checkpoint directory created: ./model\n",
      "saving model version 0.0\n",
      "checkpoint directory created: ./model\n",
      "saving model version 0.0\n",
      "Successfully created and tested Model3\n"
     ]
    },
    {
     "name": "stderr",
     "output_type": "stream",
     "text": [
      " train_acc_hybrid: 9.33e-01 | val_acc_hybrid: 8.30e-01 |: 100%|███| 120/120 [05:20<00:00,  2.67s/it]\n"
     ]
    },
    {
     "name": "stdout",
     "output_type": "stream",
     "text": [
      "saving model version 0.1\n",
      "✅ Best validation Accuracy: 8.3963e-01 at 114 epoch\n",
      "avg_acc 0.8177655935287476\n",
      "Testing 3 hidden neurons, lamb=1e-07, grid=4\n",
      "checkpoint directory created: ./model\n",
      "saving model version 0.0\n",
      "checkpoint directory created: ./model\n",
      "saving model version 0.0\n",
      "Successfully created and tested Model3\n"
     ]
    },
    {
     "name": "stderr",
     "output_type": "stream",
     "text": [
      " train_acc_hybrid: 9.38e-01 | val_acc_hybrid: 8.35e-01 |: 100%|███| 120/120 [05:17<00:00,  2.64s/it]\n"
     ]
    },
    {
     "name": "stdout",
     "output_type": "stream",
     "text": [
      "saving model version 0.1\n",
      "✅ Best validation Accuracy: 8.3620e-01 at 100 epoch\n",
      "avg_acc 0.8287546038627625\n",
      "Testing 3 hidden neurons, lamb=0.01, grid=5\n",
      "checkpoint directory created: ./model\n",
      "saving model version 0.0\n",
      "checkpoint directory created: ./model\n",
      "saving model version 0.0\n",
      "Successfully created and tested Model3\n"
     ]
    },
    {
     "name": "stderr",
     "output_type": "stream",
     "text": [
      " train_acc_hybrid: 6.67e-01 | val_acc_hybrid: 6.61e-01 |: 100%|███| 120/120 [05:35<00:00,  2.80s/it]\n"
     ]
    },
    {
     "name": "stdout",
     "output_type": "stream",
     "text": [
      "saving model version 0.1\n",
      "✅ Best validation Accuracy: 6.6208e-01 at 111 epoch\n",
      "avg_acc 0.6666666865348816\n",
      "Testing 3 hidden neurons, lamb=0.001, grid=5\n",
      "checkpoint directory created: ./model\n",
      "saving model version 0.0\n",
      "checkpoint directory created: ./model\n",
      "saving model version 0.0\n",
      "Successfully created and tested Model3\n"
     ]
    },
    {
     "name": "stderr",
     "output_type": "stream",
     "text": [
      " train_acc_hybrid: 9.30e-01 | val_acc_hybrid: 8.52e-01 |: 100%|███| 120/120 [05:42<00:00,  2.86s/it]\n"
     ]
    },
    {
     "name": "stdout",
     "output_type": "stream",
     "text": [
      "saving model version 0.1\n",
      "✅ Best validation Accuracy: 8.5223e-01 at 119 epoch\n",
      "avg_acc 0.8562270998954773\n",
      "Testing 3 hidden neurons, lamb=0.0001, grid=5\n",
      "checkpoint directory created: ./model\n",
      "saving model version 0.0\n",
      "checkpoint directory created: ./model\n",
      "saving model version 0.0\n",
      "Successfully created and tested Model3\n"
     ]
    },
    {
     "name": "stderr",
     "output_type": "stream",
     "text": [
      " train_acc_hybrid: 9.37e-01 | val_acc_hybrid: 8.12e-01 |: 100%|███| 120/120 [05:41<00:00,  2.85s/it]\n"
     ]
    },
    {
     "name": "stdout",
     "output_type": "stream",
     "text": [
      "saving model version 0.1\n",
      "✅ Best validation Accuracy: 8.2245e-01 at 81 epoch\n",
      "avg_acc 0.7765567898750305\n",
      "Testing 3 hidden neurons, lamb=1e-05, grid=5\n",
      "checkpoint directory created: ./model\n",
      "saving model version 0.0\n",
      "checkpoint directory created: ./model\n",
      "saving model version 0.0\n",
      "Successfully created and tested Model3\n"
     ]
    },
    {
     "name": "stderr",
     "output_type": "stream",
     "text": [
      " train_acc_hybrid: 8.85e-01 | val_acc_hybrid: 7.90e-01 |: 100%|███| 120/120 [05:39<00:00,  2.83s/it]\n"
     ]
    },
    {
     "name": "stdout",
     "output_type": "stream",
     "text": [
      "saving model version 0.1\n",
      "✅ Best validation Accuracy: 7.9496e-01 at 118 epoch\n",
      "avg_acc 0.7884615659713745\n",
      "Testing 3 hidden neurons, lamb=1e-06, grid=5\n",
      "checkpoint directory created: ./model\n",
      "saving model version 0.0\n",
      "checkpoint directory created: ./model\n",
      "saving model version 0.0\n",
      "Successfully created and tested Model3\n"
     ]
    },
    {
     "name": "stderr",
     "output_type": "stream",
     "text": [
      " train_acc_hybrid: 9.66e-01 | val_acc_hybrid: 8.27e-01 |: 100%|███| 120/120 [05:38<00:00,  2.82s/it]\n"
     ]
    },
    {
     "name": "stdout",
     "output_type": "stream",
     "text": [
      "saving model version 0.1\n",
      "✅ Best validation Accuracy: 8.3963e-01 at 105 epoch\n",
      "avg_acc 0.8479853272438049\n",
      "Testing 3 hidden neurons, lamb=1e-07, grid=5\n",
      "checkpoint directory created: ./model\n",
      "saving model version 0.0\n",
      "checkpoint directory created: ./model\n",
      "saving model version 0.0\n",
      "Successfully created and tested Model3\n"
     ]
    },
    {
     "name": "stderr",
     "output_type": "stream",
     "text": [
      " train_acc_hybrid: 9.59e-01 | val_acc_hybrid: 8.40e-01 |: 100%|███| 120/120 [05:38<00:00,  2.82s/it]\n"
     ]
    },
    {
     "name": "stdout",
     "output_type": "stream",
     "text": [
      "saving model version 0.1\n",
      "✅ Best validation Accuracy: 8.4994e-01 at 115 epoch\n",
      "avg_acc 0.8470696210861206\n",
      "Testing 3 hidden neurons, lamb=0.01, grid=6\n",
      "checkpoint directory created: ./model\n",
      "saving model version 0.0\n",
      "checkpoint directory created: ./model\n",
      "saving model version 0.0\n",
      "Successfully created and tested Model3\n"
     ]
    },
    {
     "name": "stderr",
     "output_type": "stream",
     "text": [
      " train_acc_hybrid: 7.56e-01 | val_acc_hybrid: 7.11e-01 |: 100%|███| 120/120 [05:53<00:00,  2.95s/it]\n"
     ]
    },
    {
     "name": "stdout",
     "output_type": "stream",
     "text": [
      "saving model version 0.1\n",
      "✅ Best validation Accuracy: 7.1363e-01 at 84 epoch\n",
      "avg_acc 0.7335165143013\n",
      "Testing 3 hidden neurons, lamb=0.001, grid=6\n",
      "checkpoint directory created: ./model\n",
      "saving model version 0.0\n",
      "checkpoint directory created: ./model\n",
      "saving model version 0.0\n",
      "Successfully created and tested Model3\n"
     ]
    },
    {
     "name": "stderr",
     "output_type": "stream",
     "text": [
      " train_acc_hybrid: 9.74e-01 | val_acc_hybrid: 8.93e-01 |: 100%|███| 120/120 [05:53<00:00,  2.94s/it]\n"
     ]
    },
    {
     "name": "stdout",
     "output_type": "stream",
     "text": [
      "saving model version 0.1\n",
      "✅ Best validation Accuracy: 9.0951e-01 at 9 epoch\n",
      "avg_acc 0.9084249138832092\n",
      "Testing 3 hidden neurons, lamb=0.0001, grid=6\n",
      "checkpoint directory created: ./model\n",
      "saving model version 0.0\n",
      "checkpoint directory created: ./model\n",
      "saving model version 0.0\n",
      "Successfully created and tested Model3\n"
     ]
    },
    {
     "name": "stderr",
     "output_type": "stream",
     "text": [
      " train_acc_hybrid: 9.95e-01 | val_acc_hybrid: 8.63e-01 |: 100%|███| 120/120 [06:02<00:00,  3.02s/it]\n"
     ]
    },
    {
     "name": "stdout",
     "output_type": "stream",
     "text": [
      "saving model version 0.1\n",
      "✅ Best validation Accuracy: 8.9805e-01 at 31 epoch\n",
      "avg_acc 0.9120879173278809\n",
      "Testing 3 hidden neurons, lamb=1e-05, grid=6\n",
      "checkpoint directory created: ./model\n",
      "saving model version 0.0\n",
      "checkpoint directory created: ./model\n",
      "saving model version 0.0\n",
      "Successfully created and tested Model3\n"
     ]
    },
    {
     "name": "stderr",
     "output_type": "stream",
     "text": [
      " train_acc_hybrid: 9.70e-01 | val_acc_hybrid: 8.47e-01 |: 100%|███| 120/120 [06:09<00:00,  3.08s/it]\n"
     ]
    },
    {
     "name": "stdout",
     "output_type": "stream",
     "text": [
      "saving model version 0.1\n",
      "✅ Best validation Accuracy: 8.7629e-01 at 52 epoch\n",
      "avg_acc 0.8644688725471497\n",
      "Testing 3 hidden neurons, lamb=1e-06, grid=6\n",
      "checkpoint directory created: ./model\n",
      "saving model version 0.0\n",
      "checkpoint directory created: ./model\n",
      "saving model version 0.0\n",
      "Successfully created and tested Model3\n"
     ]
    },
    {
     "name": "stderr",
     "output_type": "stream",
     "text": [
      " train_acc_hybrid: 9.86e-01 | val_acc_hybrid: 8.60e-01 |: 100%|███| 120/120 [05:50<00:00,  2.92s/it]\n"
     ]
    },
    {
     "name": "stdout",
     "output_type": "stream",
     "text": [
      "saving model version 0.1\n",
      "✅ Best validation Accuracy: 8.9233e-01 at 53 epoch\n",
      "avg_acc 0.872710645198822\n",
      "Testing 3 hidden neurons, lamb=1e-07, grid=6\n",
      "checkpoint directory created: ./model\n",
      "saving model version 0.0\n",
      "checkpoint directory created: ./model\n",
      "saving model version 0.0\n",
      "Successfully created and tested Model3\n"
     ]
    },
    {
     "name": "stderr",
     "output_type": "stream",
     "text": [
      " train_acc_hybrid: 9.83e-01 | val_acc_hybrid: 8.51e-01 |: 100%|███| 120/120 [06:08<00:00,  3.07s/it]\n"
     ]
    },
    {
     "name": "stdout",
     "output_type": "stream",
     "text": [
      "saving model version 0.1\n",
      "✅ Best validation Accuracy: 8.9003e-01 at 41 epoch\n",
      "avg_acc 0.8653846383094788\n",
      "Testing 3 hidden neurons, lamb=0.01, grid=7\n",
      "checkpoint directory created: ./model\n",
      "saving model version 0.0\n",
      "checkpoint directory created: ./model\n",
      "saving model version 0.0\n",
      "Successfully created and tested Model3\n"
     ]
    },
    {
     "name": "stderr",
     "output_type": "stream",
     "text": [
      " train_acc_hybrid: 7.36e-01 | val_acc_hybrid: 7.46e-01 |: 100%|███| 120/120 [06:32<00:00,  3.27s/it]\n"
     ]
    },
    {
     "name": "stdout",
     "output_type": "stream",
     "text": [
      "saving model version 0.1\n",
      "✅ Best validation Accuracy: 7.4914e-01 at 49 epoch\n",
      "avg_acc 0.721611738204956\n",
      "Testing 3 hidden neurons, lamb=0.001, grid=7\n",
      "checkpoint directory created: ./model\n",
      "saving model version 0.0\n",
      "checkpoint directory created: ./model\n",
      "saving model version 0.0\n",
      "Successfully created and tested Model3\n"
     ]
    },
    {
     "name": "stderr",
     "output_type": "stream",
     "text": [
      " train_acc_hybrid: 9.69e-01 | val_acc_hybrid: 8.71e-01 |: 100%|███| 120/120 [07:43<00:00,  3.86s/it]\n"
     ]
    },
    {
     "name": "stdout",
     "output_type": "stream",
     "text": [
      "saving model version 0.1\n",
      "✅ Best validation Accuracy: 8.8316e-01 at 49 epoch\n",
      "avg_acc 0.8809523582458496\n",
      "Testing 3 hidden neurons, lamb=0.0001, grid=7\n",
      "checkpoint directory created: ./model\n",
      "saving model version 0.0\n",
      "checkpoint directory created: ./model\n",
      "saving model version 0.0\n",
      "Successfully created and tested Model3\n"
     ]
    },
    {
     "name": "stderr",
     "output_type": "stream",
     "text": [
      " train_acc_hybrid: 9.88e-01 | val_acc_hybrid: 8.20e-01 |: 100%|███| 120/120 [07:28<00:00,  3.74s/it]\n"
     ]
    },
    {
     "name": "stdout",
     "output_type": "stream",
     "text": [
      "saving model version 0.1\n",
      "✅ Best validation Accuracy: 8.5567e-01 at 54 epoch\n",
      "avg_acc 0.8104395866394043\n",
      "Testing 3 hidden neurons, lamb=1e-05, grid=7\n",
      "checkpoint directory created: ./model\n",
      "saving model version 0.0\n",
      "checkpoint directory created: ./model\n",
      "saving model version 0.0\n",
      "Successfully created and tested Model3\n"
     ]
    },
    {
     "name": "stderr",
     "output_type": "stream",
     "text": [
      " train_acc_hybrid: 9.92e-01 | val_acc_hybrid: 7.72e-01 |: 100%|███| 120/120 [07:25<00:00,  3.71s/it]\n"
     ]
    },
    {
     "name": "stdout",
     "output_type": "stream",
     "text": [
      "saving model version 0.1\n",
      "✅ Best validation Accuracy: 8.5109e-01 at 27 epoch\n",
      "avg_acc 0.83699631690979\n",
      "Testing 3 hidden neurons, lamb=1e-06, grid=7\n",
      "checkpoint directory created: ./model\n",
      "saving model version 0.0\n",
      "checkpoint directory created: ./model\n",
      "saving model version 0.0\n",
      "Successfully created and tested Model3\n"
     ]
    },
    {
     "name": "stderr",
     "output_type": "stream",
     "text": [
      " train_acc_hybrid: 9.89e-01 | val_acc_hybrid: 7.90e-01 |: 100%|███| 120/120 [07:29<00:00,  3.75s/it]\n"
     ]
    },
    {
     "name": "stdout",
     "output_type": "stream",
     "text": [
      "saving model version 0.1\n",
      "✅ Best validation Accuracy: 8.2932e-01 at 33 epoch\n",
      "avg_acc 0.8168498277664185\n",
      "Testing 3 hidden neurons, lamb=1e-07, grid=7\n",
      "checkpoint directory created: ./model\n",
      "saving model version 0.0\n",
      "checkpoint directory created: ./model\n",
      "saving model version 0.0\n",
      "Successfully created and tested Model3\n"
     ]
    },
    {
     "name": "stderr",
     "output_type": "stream",
     "text": [
      " train_acc_hybrid: 9.94e-01 | val_acc_hybrid: 8.41e-01 |: 100%|███| 120/120 [07:29<00:00,  3.75s/it]\n"
     ]
    },
    {
     "name": "stdout",
     "output_type": "stream",
     "text": [
      "saving model version 0.1\n",
      "✅ Best validation Accuracy: 8.8431e-01 at 39 epoch\n",
      "avg_acc 0.8782051205635071\n",
      "Testing 3 hidden neurons, lamb=0.01, grid=8\n",
      "checkpoint directory created: ./model\n",
      "saving model version 0.0\n",
      "checkpoint directory created: ./model\n",
      "saving model version 0.0\n",
      "Successfully created and tested Model3\n"
     ]
    },
    {
     "name": "stderr",
     "output_type": "stream",
     "text": [
      " train_acc_hybrid: 7.61e-01 | val_acc_hybrid: 7.37e-01 |: 100%|███| 120/120 [07:57<00:00,  3.98s/it]\n"
     ]
    },
    {
     "name": "stdout",
     "output_type": "stream",
     "text": [
      "saving model version 0.1\n",
      "✅ Best validation Accuracy: 7.3654e-01 at 119 epoch\n",
      "avg_acc 0.7353479862213135\n",
      "Testing 3 hidden neurons, lamb=0.001, grid=8\n",
      "checkpoint directory created: ./model\n",
      "saving model version 0.0\n",
      "checkpoint directory created: ./model\n",
      "saving model version 0.0\n",
      "Successfully created and tested Model3\n"
     ]
    },
    {
     "name": "stderr",
     "output_type": "stream",
     "text": [
      " train_acc_hybrid: 9.87e-01 | val_acc_hybrid: 8.90e-01 |: 100%|███| 120/120 [07:44<00:00,  3.87s/it]\n"
     ]
    },
    {
     "name": "stdout",
     "output_type": "stream",
     "text": [
      "saving model version 0.1\n",
      "✅ Best validation Accuracy: 9.3127e-01 at 19 epoch\n",
      "avg_acc 0.9230769276618958\n",
      "Testing 3 hidden neurons, lamb=0.0001, grid=8\n",
      "checkpoint directory created: ./model\n",
      "saving model version 0.0\n",
      "checkpoint directory created: ./model\n",
      "saving model version 0.0\n",
      "Successfully created and tested Model3\n"
     ]
    },
    {
     "name": "stderr",
     "output_type": "stream",
     "text": [
      " train_acc_hybrid: 9.83e-01 | val_acc_hybrid: 8.00e-01 |: 100%|███| 120/120 [08:06<00:00,  4.05s/it]\n"
     ]
    },
    {
     "name": "stdout",
     "output_type": "stream",
     "text": [
      "saving model version 0.1\n",
      "✅ Best validation Accuracy: 8.0985e-01 at 92 epoch\n",
      "avg_acc 0.8122710585594177\n",
      "Testing 3 hidden neurons, lamb=1e-05, grid=8\n",
      "checkpoint directory created: ./model\n",
      "saving model version 0.0\n",
      "checkpoint directory created: ./model\n",
      "saving model version 0.0\n",
      "Successfully created and tested Model3\n"
     ]
    },
    {
     "name": "stderr",
     "output_type": "stream",
     "text": [
      " train_acc_hybrid: 9.74e-01 | val_acc_hybrid: 7.95e-01 |: 100%|███| 120/120 [07:57<00:00,  3.98s/it]\n"
     ]
    },
    {
     "name": "stdout",
     "output_type": "stream",
     "text": [
      "saving model version 0.1\n",
      "✅ Best validation Accuracy: 8.0183e-01 at 106 epoch\n",
      "avg_acc 0.7967032790184021\n",
      "Testing 3 hidden neurons, lamb=1e-06, grid=8\n",
      "checkpoint directory created: ./model\n",
      "saving model version 0.0\n",
      "checkpoint directory created: ./model\n",
      "saving model version 0.0\n",
      "Successfully created and tested Model3\n"
     ]
    },
    {
     "name": "stderr",
     "output_type": "stream",
     "text": [
      " train_acc_hybrid: 9.94e-01 | val_acc_hybrid: 8.47e-01 |: 100%|███| 120/120 [07:59<00:00,  4.00s/it]\n"
     ]
    },
    {
     "name": "stdout",
     "output_type": "stream",
     "text": [
      "saving model version 0.1\n",
      "✅ Best validation Accuracy: 8.7056e-01 at 48 epoch\n",
      "avg_acc 0.8452380895614624\n",
      "Testing 3 hidden neurons, lamb=1e-07, grid=8\n",
      "checkpoint directory created: ./model\n",
      "saving model version 0.0\n",
      "checkpoint directory created: ./model\n",
      "saving model version 0.0\n",
      "Successfully created and tested Model3\n"
     ]
    },
    {
     "name": "stderr",
     "output_type": "stream",
     "text": [
      " train_acc_hybrid: 9.85e-01 | val_acc_hybrid: 8.00e-01 |: 100%|███| 120/120 [08:04<00:00,  4.04s/it]\n"
     ]
    },
    {
     "name": "stdout",
     "output_type": "stream",
     "text": [
      "saving model version 0.1\n",
      "✅ Best validation Accuracy: 8.4422e-01 at 62 epoch\n",
      "avg_acc 0.8305860757827759\n",
      "Testing 4 hidden neurons, lamb=0.01, grid=3\n",
      "checkpoint directory created: ./model\n",
      "saving model version 0.0\n",
      "checkpoint directory created: ./model\n",
      "saving model version 0.0\n",
      "Successfully created and tested Model3\n"
     ]
    },
    {
     "name": "stderr",
     "output_type": "stream",
     "text": [
      " train_acc_hybrid: 6.47e-01 | val_acc_hybrid: 6.56e-01 |: 100%|███| 120/120 [05:37<00:00,  2.82s/it]\n"
     ]
    },
    {
     "name": "stdout",
     "output_type": "stream",
     "text": [
      "saving model version 0.1\n",
      "✅ Best validation Accuracy: 6.5750e-01 at 75 epoch\n",
      "avg_acc 0.6446886658668518\n",
      "Testing 4 hidden neurons, lamb=0.001, grid=3\n",
      "checkpoint directory created: ./model\n",
      "saving model version 0.0\n",
      "checkpoint directory created: ./model\n",
      "saving model version 0.0\n",
      "Successfully created and tested Model3\n"
     ]
    },
    {
     "name": "stderr",
     "output_type": "stream",
     "text": [
      " train_acc_hybrid: 9.08e-01 | val_acc_hybrid: 8.64e-01 |: 100%|███| 120/120 [05:51<00:00,  2.93s/it]\n"
     ]
    },
    {
     "name": "stdout",
     "output_type": "stream",
     "text": [
      "saving model version 0.1\n",
      "✅ Best validation Accuracy: 8.6369e-01 at 119 epoch\n",
      "avg_acc 0.872710645198822\n",
      "Testing 4 hidden neurons, lamb=0.0001, grid=3\n",
      "checkpoint directory created: ./model\n",
      "saving model version 0.0\n",
      "checkpoint directory created: ./model\n",
      "saving model version 0.0\n",
      "Successfully created and tested Model3\n"
     ]
    },
    {
     "name": "stderr",
     "output_type": "stream",
     "text": [
      " train_acc_hybrid: 9.40e-01 | val_acc_hybrid: 8.58e-01 |: 100%|███| 120/120 [05:52<00:00,  2.94s/it]\n"
     ]
    },
    {
     "name": "stdout",
     "output_type": "stream",
     "text": [
      "saving model version 0.1\n",
      "✅ Best validation Accuracy: 8.5911e-01 at 79 epoch\n",
      "avg_acc 0.8443223237991333\n",
      "Testing 4 hidden neurons, lamb=1e-05, grid=3\n",
      "checkpoint directory created: ./model\n",
      "saving model version 0.0\n",
      "checkpoint directory created: ./model\n",
      "saving model version 0.0\n",
      "Successfully created and tested Model3\n"
     ]
    },
    {
     "name": "stderr",
     "output_type": "stream",
     "text": [
      " train_acc_hybrid: 9.30e-01 | val_acc_hybrid: 8.51e-01 |: 100%|███| 120/120 [05:43<00:00,  2.86s/it]\n"
     ]
    },
    {
     "name": "stdout",
     "output_type": "stream",
     "text": [
      "saving model version 0.1\n",
      "✅ Best validation Accuracy: 8.5452e-01 at 108 epoch\n",
      "avg_acc 0.843406617641449\n",
      "Testing 4 hidden neurons, lamb=1e-06, grid=3\n",
      "checkpoint directory created: ./model\n",
      "saving model version 0.0\n",
      "checkpoint directory created: ./model\n",
      "saving model version 0.0\n",
      "Successfully created and tested Model3\n"
     ]
    },
    {
     "name": "stderr",
     "output_type": "stream",
     "text": [
      " train_acc_hybrid: 9.25e-01 | val_acc_hybrid: 8.17e-01 |: 100%|███| 120/120 [05:47<00:00,  2.90s/it]\n"
     ]
    },
    {
     "name": "stdout",
     "output_type": "stream",
     "text": [
      "saving model version 0.1\n",
      "✅ Best validation Accuracy: 8.2703e-01 at 60 epoch\n",
      "avg_acc 0.843406617641449\n",
      "Testing 4 hidden neurons, lamb=1e-07, grid=3\n",
      "checkpoint directory created: ./model\n",
      "saving model version 0.0\n",
      "checkpoint directory created: ./model\n",
      "saving model version 0.0\n",
      "Successfully created and tested Model3\n"
     ]
    },
    {
     "name": "stderr",
     "output_type": "stream",
     "text": [
      " train_acc_hybrid: 8.99e-01 | val_acc_hybrid: 8.17e-01 |: 100%|███| 120/120 [05:45<00:00,  2.88s/it]\n"
     ]
    },
    {
     "name": "stdout",
     "output_type": "stream",
     "text": [
      "saving model version 0.1\n",
      "✅ Best validation Accuracy: 8.4078e-01 at 72 epoch\n",
      "avg_acc 0.8379120826721191\n",
      "Testing 4 hidden neurons, lamb=0.01, grid=4\n",
      "checkpoint directory created: ./model\n",
      "saving model version 0.0\n",
      "checkpoint directory created: ./model\n",
      "saving model version 0.0\n",
      "Successfully created and tested Model3\n"
     ]
    },
    {
     "name": "stderr",
     "output_type": "stream",
     "text": [
      " train_acc_hybrid: 6.96e-01 | val_acc_hybrid: 6.66e-01 |: 100%|███| 120/120 [06:16<00:00,  3.14s/it]\n"
     ]
    },
    {
     "name": "stdout",
     "output_type": "stream",
     "text": [
      "saving model version 0.1\n",
      "✅ Best validation Accuracy: 6.6667e-01 at 89 epoch\n",
      "avg_acc 0.6959707140922546\n",
      "Testing 4 hidden neurons, lamb=0.001, grid=4\n",
      "checkpoint directory created: ./model\n",
      "saving model version 0.0\n",
      "checkpoint directory created: ./model\n",
      "saving model version 0.0\n",
      "Successfully created and tested Model3\n"
     ]
    },
    {
     "name": "stderr",
     "output_type": "stream",
     "text": [
      " train_acc_hybrid: 9.36e-01 | val_acc_hybrid: 8.69e-01 |: 100%|███| 120/120 [06:14<00:00,  3.12s/it]\n"
     ]
    },
    {
     "name": "stdout",
     "output_type": "stream",
     "text": [
      "saving model version 0.1\n",
      "✅ Best validation Accuracy: 8.7400e-01 at 111 epoch\n",
      "avg_acc 0.8644688725471497\n",
      "Testing 4 hidden neurons, lamb=0.0001, grid=4\n",
      "checkpoint directory created: ./model\n",
      "saving model version 0.0\n",
      "checkpoint directory created: ./model\n",
      "saving model version 0.0\n",
      "Successfully created and tested Model3\n"
     ]
    },
    {
     "name": "stderr",
     "output_type": "stream",
     "text": [
      " train_acc_hybrid: 9.25e-01 | val_acc_hybrid: 8.34e-01 |: 100%|███| 120/120 [06:12<00:00,  3.10s/it]\n"
     ]
    },
    {
     "name": "stdout",
     "output_type": "stream",
     "text": [
      "saving model version 0.1\n",
      "✅ Best validation Accuracy: 8.4880e-01 at 82 epoch\n",
      "avg_acc 0.8424908518791199\n",
      "Testing 4 hidden neurons, lamb=1e-05, grid=4\n",
      "checkpoint directory created: ./model\n",
      "saving model version 0.0\n",
      "checkpoint directory created: ./model\n",
      "saving model version 0.0\n",
      "Successfully created and tested Model3\n"
     ]
    },
    {
     "name": "stderr",
     "output_type": "stream",
     "text": [
      " train_acc_hybrid: 9.33e-01 | val_acc_hybrid: 8.38e-01 |: 100%|███| 120/120 [06:17<00:00,  3.14s/it]\n"
     ]
    },
    {
     "name": "stdout",
     "output_type": "stream",
     "text": [
      "saving model version 0.1\n",
      "✅ Best validation Accuracy: 8.4307e-01 at 113 epoch\n",
      "avg_acc 0.8388278484344482\n",
      "Testing 4 hidden neurons, lamb=1e-06, grid=4\n",
      "checkpoint directory created: ./model\n",
      "saving model version 0.0\n",
      "checkpoint directory created: ./model\n",
      "saving model version 0.0\n",
      "Successfully created and tested Model3\n"
     ]
    },
    {
     "name": "stderr",
     "output_type": "stream",
     "text": [
      " train_acc_hybrid: 9.10e-01 | val_acc_hybrid: 8.34e-01 |: 100%|███| 120/120 [06:21<00:00,  3.18s/it]\n"
     ]
    },
    {
     "name": "stdout",
     "output_type": "stream",
     "text": [
      "saving model version 0.1\n",
      "✅ Best validation Accuracy: 8.3620e-01 at 118 epoch\n",
      "avg_acc 0.8342490792274475\n",
      "Testing 4 hidden neurons, lamb=1e-07, grid=4\n",
      "checkpoint directory created: ./model\n",
      "saving model version 0.0\n",
      "checkpoint directory created: ./model\n",
      "saving model version 0.0\n",
      "Successfully created and tested Model3\n"
     ]
    },
    {
     "name": "stderr",
     "output_type": "stream",
     "text": [
      " train_acc_hybrid: 9.34e-01 | val_acc_hybrid: 8.30e-01 |: 100%|███| 120/120 [06:10<00:00,  3.09s/it]\n"
     ]
    },
    {
     "name": "stdout",
     "output_type": "stream",
     "text": [
      "saving model version 0.1\n",
      "✅ Best validation Accuracy: 8.3963e-01 at 78 epoch\n",
      "avg_acc 0.8223443031311035\n",
      "Testing 4 hidden neurons, lamb=0.01, grid=5\n",
      "checkpoint directory created: ./model\n",
      "saving model version 0.0\n",
      "checkpoint directory created: ./model\n",
      "saving model version 0.0\n",
      "Successfully created and tested Model3\n"
     ]
    },
    {
     "name": "stderr",
     "output_type": "stream",
     "text": [
      " train_acc_hybrid: 7.18e-01 | val_acc_hybrid: 6.84e-01 |: 100%|███| 120/120 [06:40<00:00,  3.34s/it]\n"
     ]
    },
    {
     "name": "stdout",
     "output_type": "stream",
     "text": [
      "saving model version 0.1\n",
      "✅ Best validation Accuracy: 6.9187e-01 at 31 epoch\n",
      "avg_acc 0.6849817037582397\n",
      "Testing 4 hidden neurons, lamb=0.001, grid=5\n",
      "checkpoint directory created: ./model\n",
      "saving model version 0.0\n",
      "checkpoint directory created: ./model\n",
      "saving model version 0.0\n",
      "Successfully created and tested Model3\n"
     ]
    },
    {
     "name": "stderr",
     "output_type": "stream",
     "text": [
      " train_acc_hybrid: 9.69e-01 | val_acc_hybrid: 8.91e-01 |: 100%|███| 120/120 [06:44<00:00,  3.37s/it]\n"
     ]
    },
    {
     "name": "stdout",
     "output_type": "stream",
     "text": [
      "saving model version 0.1\n",
      "✅ Best validation Accuracy: 8.9118e-01 at 86 epoch\n",
      "avg_acc 0.8791208863258362\n",
      "Testing 4 hidden neurons, lamb=0.0001, grid=5\n",
      "checkpoint directory created: ./model\n",
      "saving model version 0.0\n",
      "checkpoint directory created: ./model\n",
      "saving model version 0.0\n",
      "Successfully created and tested Model3\n"
     ]
    },
    {
     "name": "stderr",
     "output_type": "stream",
     "text": [
      " train_acc_hybrid: 9.56e-01 | val_acc_hybrid: 8.51e-01 |: 100%|███| 120/120 [06:50<00:00,  3.42s/it]\n"
     ]
    },
    {
     "name": "stdout",
     "output_type": "stream",
     "text": [
      "saving model version 0.1\n",
      "✅ Best validation Accuracy: 8.6827e-01 at 78 epoch\n",
      "avg_acc 0.848901093006134\n",
      "Testing 4 hidden neurons, lamb=1e-05, grid=5\n",
      "checkpoint directory created: ./model\n",
      "saving model version 0.0\n",
      "checkpoint directory created: ./model\n",
      "saving model version 0.0\n",
      "Successfully created and tested Model3\n"
     ]
    },
    {
     "name": "stderr",
     "output_type": "stream",
     "text": [
      " train_acc_hybrid: 9.88e-01 | val_acc_hybrid: 7.87e-01 |: 100%|███| 120/120 [06:37<00:00,  3.31s/it]\n"
     ]
    },
    {
     "name": "stdout",
     "output_type": "stream",
     "text": [
      "saving model version 0.1\n",
      "✅ Best validation Accuracy: 8.7743e-01 at 18 epoch\n",
      "avg_acc 0.8717948794364929\n",
      "Testing 4 hidden neurons, lamb=1e-06, grid=5\n",
      "checkpoint directory created: ./model\n",
      "saving model version 0.0\n",
      "checkpoint directory created: ./model\n",
      "saving model version 0.0\n",
      "Successfully created and tested Model3\n"
     ]
    },
    {
     "name": "stderr",
     "output_type": "stream",
     "text": [
      " train_acc_hybrid: 9.78e-01 | val_acc_hybrid: 8.37e-01 |: 100%|███| 120/120 [06:46<00:00,  3.39s/it]\n"
     ]
    },
    {
     "name": "stdout",
     "output_type": "stream",
     "text": [
      "saving model version 0.1\n",
      "✅ Best validation Accuracy: 8.7858e-01 at 67 epoch\n",
      "avg_acc 0.8635531067848206\n",
      "Testing 4 hidden neurons, lamb=1e-07, grid=5\n",
      "checkpoint directory created: ./model\n",
      "saving model version 0.0\n",
      "checkpoint directory created: ./model\n",
      "saving model version 0.0\n",
      "Successfully created and tested Model3\n"
     ]
    },
    {
     "name": "stderr",
     "output_type": "stream",
     "text": [
      " train_acc_hybrid: 9.70e-01 | val_acc_hybrid: 8.47e-01 |: 100%|███| 120/120 [06:48<00:00,  3.40s/it]\n"
     ]
    },
    {
     "name": "stdout",
     "output_type": "stream",
     "text": [
      "saving model version 0.1\n",
      "✅ Best validation Accuracy: 8.8431e-01 at 76 epoch\n",
      "avg_acc 0.8663003444671631\n",
      "Testing 4 hidden neurons, lamb=0.01, grid=6\n",
      "checkpoint directory created: ./model\n",
      "saving model version 0.0\n",
      "checkpoint directory created: ./model\n",
      "saving model version 0.0\n",
      "Successfully created and tested Model3\n"
     ]
    },
    {
     "name": "stderr",
     "output_type": "stream",
     "text": [
      " train_acc_hybrid: 7.36e-01 | val_acc_hybrid: 7.03e-01 |: 100%|███| 120/120 [07:19<00:00,  3.66s/it]\n"
     ]
    },
    {
     "name": "stdout",
     "output_type": "stream",
     "text": [
      "saving model version 0.1\n",
      "✅ Best validation Accuracy: 7.2394e-01 at 92 epoch\n",
      "avg_acc 0.721611738204956\n",
      "Testing 4 hidden neurons, lamb=0.001, grid=6\n",
      "checkpoint directory created: ./model\n",
      "saving model version 0.0\n",
      "checkpoint directory created: ./model\n",
      "saving model version 0.0\n",
      "Successfully created and tested Model3\n"
     ]
    },
    {
     "name": "stderr",
     "output_type": "stream",
     "text": [
      " train_acc_hybrid: 9.73e-01 | val_acc_hybrid: 8.63e-01 |: 100%|███| 120/120 [07:09<00:00,  3.58s/it]\n"
     ]
    },
    {
     "name": "stdout",
     "output_type": "stream",
     "text": [
      "saving model version 0.1\n",
      "✅ Best validation Accuracy: 8.7743e-01 at 83 epoch\n",
      "avg_acc 0.8672161102294922\n",
      "Testing 4 hidden neurons, lamb=0.0001, grid=6\n",
      "checkpoint directory created: ./model\n",
      "saving model version 0.0\n",
      "checkpoint directory created: ./model\n",
      "saving model version 0.0\n",
      "Successfully created and tested Model3\n"
     ]
    },
    {
     "name": "stderr",
     "output_type": "stream",
     "text": [
      " train_acc_hybrid: 9.78e-01 | val_acc_hybrid: 8.14e-01 |: 100%|███| 120/120 [07:20<00:00,  3.67s/it]\n"
     ]
    },
    {
     "name": "stdout",
     "output_type": "stream",
     "text": [
      "saving model version 0.1\n",
      "✅ Best validation Accuracy: 8.3162e-01 at 62 epoch\n",
      "avg_acc 0.8333333134651184\n",
      "Testing 4 hidden neurons, lamb=1e-05, grid=6\n",
      "checkpoint directory created: ./model\n",
      "saving model version 0.0\n",
      "checkpoint directory created: ./model\n",
      "saving model version 0.0\n",
      "Successfully created and tested Model3\n"
     ]
    },
    {
     "name": "stderr",
     "output_type": "stream",
     "text": [
      " train_acc_hybrid: 9.53e-01 | val_acc_hybrid: 8.32e-01 |: 100%|███| 120/120 [07:18<00:00,  3.65s/it]\n"
     ]
    },
    {
     "name": "stdout",
     "output_type": "stream",
     "text": [
      "saving model version 0.1\n",
      "✅ Best validation Accuracy: 8.5109e-01 at 96 epoch\n",
      "avg_acc 0.8507326245307922\n",
      "Testing 4 hidden neurons, lamb=1e-06, grid=6\n",
      "checkpoint directory created: ./model\n",
      "saving model version 0.0\n",
      "checkpoint directory created: ./model\n",
      "saving model version 0.0\n",
      "Successfully created and tested Model3\n"
     ]
    },
    {
     "name": "stderr",
     "output_type": "stream",
     "text": [
      " train_acc_hybrid: 9.93e-01 | val_acc_hybrid: 8.09e-01 |: 100%|███| 120/120 [07:08<00:00,  3.57s/it]\n"
     ]
    },
    {
     "name": "stdout",
     "output_type": "stream",
     "text": [
      "saving model version 0.1\n",
      "✅ Best validation Accuracy: 8.6483e-01 at 29 epoch\n",
      "avg_acc 0.8699633479118347\n",
      "Testing 4 hidden neurons, lamb=1e-07, grid=6\n",
      "checkpoint directory created: ./model\n",
      "saving model version 0.0\n",
      "checkpoint directory created: ./model\n",
      "saving model version 0.0\n",
      "Successfully created and tested Model3\n"
     ]
    },
    {
     "name": "stderr",
     "output_type": "stream",
     "text": [
      " train_acc_hybrid: 9.76e-01 | val_acc_hybrid: 7.87e-01 |: 100%|███| 120/120 [07:13<00:00,  3.61s/it]\n"
     ]
    },
    {
     "name": "stdout",
     "output_type": "stream",
     "text": [
      "saving model version 0.1\n",
      "✅ Best validation Accuracy: 8.1558e-01 at 79 epoch\n",
      "avg_acc 0.8159340620040894\n",
      "Testing 4 hidden neurons, lamb=0.01, grid=7\n",
      "checkpoint directory created: ./model\n",
      "saving model version 0.0\n",
      "checkpoint directory created: ./model\n",
      "saving model version 0.0\n",
      "Successfully created and tested Model3\n"
     ]
    },
    {
     "name": "stderr",
     "output_type": "stream",
     "text": [
      " train_acc_hybrid: 7.30e-01 | val_acc_hybrid: 6.98e-01 |: 100%|███| 120/120 [07:42<00:00,  3.85s/it]\n"
     ]
    },
    {
     "name": "stdout",
     "output_type": "stream",
     "text": [
      "saving model version 0.1\n",
      "✅ Best validation Accuracy: 7.0905e-01 at 99 epoch\n",
      "avg_acc 0.6978021860122681\n",
      "Testing 4 hidden neurons, lamb=0.001, grid=7\n",
      "checkpoint directory created: ./model\n",
      "saving model version 0.0\n",
      "checkpoint directory created: ./model\n",
      "saving model version 0.0\n",
      "Successfully created and tested Model3\n"
     ]
    },
    {
     "name": "stderr",
     "output_type": "stream",
     "text": [
      " train_acc_hybrid: 9.83e-01 | val_acc_hybrid: 8.61e-01 |: 100%|███| 120/120 [07:35<00:00,  3.79s/it]\n"
     ]
    },
    {
     "name": "stdout",
     "output_type": "stream",
     "text": [
      "saving model version 0.1\n",
      "✅ Best validation Accuracy: 9.0951e-01 at 52 epoch\n",
      "avg_acc 0.9056776762008667\n",
      "Testing 4 hidden neurons, lamb=0.0001, grid=7\n",
      "checkpoint directory created: ./model\n",
      "saving model version 0.0\n",
      "checkpoint directory created: ./model\n",
      "saving model version 0.0\n",
      "Successfully created and tested Model3\n"
     ]
    },
    {
     "name": "stderr",
     "output_type": "stream",
     "text": [
      " train_acc_hybrid: 9.74e-01 | val_acc_hybrid: 8.05e-01 |: 100%|███| 120/120 [07:34<00:00,  3.79s/it]\n"
     ]
    },
    {
     "name": "stdout",
     "output_type": "stream",
     "text": [
      "saving model version 0.1\n",
      "✅ Best validation Accuracy: 8.4192e-01 at 72 epoch\n",
      "avg_acc 0.8424908518791199\n",
      "Testing 4 hidden neurons, lamb=1e-05, grid=7\n",
      "checkpoint directory created: ./model\n",
      "saving model version 0.0\n",
      "checkpoint directory created: ./model\n",
      "saving model version 0.0\n",
      "Successfully created and tested Model3\n"
     ]
    },
    {
     "name": "stderr",
     "output_type": "stream",
     "text": [
      " train_acc_hybrid: 9.96e-01 | val_acc_hybrid: 7.54e-01 |: 100%|███| 120/120 [07:28<00:00,  3.74s/it]\n"
     ]
    },
    {
     "name": "stdout",
     "output_type": "stream",
     "text": [
      "saving model version 0.1\n",
      "✅ Best validation Accuracy: 8.3276e-01 at 23 epoch\n",
      "avg_acc 0.8131868243217468\n",
      "Testing 4 hidden neurons, lamb=1e-06, grid=7\n",
      "checkpoint directory created: ./model\n",
      "saving model version 0.0\n",
      "checkpoint directory created: ./model\n",
      "saving model version 0.0\n",
      "Successfully created and tested Model3\n"
     ]
    },
    {
     "name": "stderr",
     "output_type": "stream",
     "text": [
      " train_acc_hybrid: 9.82e-01 | val_acc_hybrid: 7.85e-01 |: 100%|███| 120/120 [07:30<00:00,  3.76s/it]\n"
     ]
    },
    {
     "name": "stdout",
     "output_type": "stream",
     "text": [
      "saving model version 0.1\n",
      "✅ Best validation Accuracy: 8.2131e-01 at 94 epoch\n",
      "avg_acc 0.7902930378913879\n",
      "Testing 4 hidden neurons, lamb=1e-07, grid=7\n",
      "checkpoint directory created: ./model\n",
      "saving model version 0.0\n",
      "checkpoint directory created: ./model\n",
      "saving model version 0.0\n",
      "Successfully created and tested Model3\n"
     ]
    },
    {
     "name": "stderr",
     "output_type": "stream",
     "text": [
      " train_acc_hybrid: 9.24e-01 | val_acc_hybrid: 7.62e-01 |: 100%|███| 120/120 [07:31<00:00,  3.76s/it]\n"
     ]
    },
    {
     "name": "stdout",
     "output_type": "stream",
     "text": [
      "saving model version 0.1\n",
      "✅ Best validation Accuracy: 7.9496e-01 at 75 epoch\n",
      "avg_acc 0.7802197933197021\n",
      "Testing 4 hidden neurons, lamb=0.01, grid=8\n",
      "checkpoint directory created: ./model\n",
      "saving model version 0.0\n",
      "checkpoint directory created: ./model\n",
      "saving model version 0.0\n",
      "Successfully created and tested Model3\n"
     ]
    },
    {
     "name": "stderr",
     "output_type": "stream",
     "text": [
      " train_acc_hybrid: 7.78e-01 | val_acc_hybrid: 7.55e-01 |: 100%|███| 120/120 [07:38<00:00,  3.82s/it]\n"
     ]
    },
    {
     "name": "stdout",
     "output_type": "stream",
     "text": [
      "saving model version 0.1\n",
      "✅ Best validation Accuracy: 7.5830e-01 at 101 epoch\n",
      "avg_acc 0.767399251461029\n",
      "Testing 4 hidden neurons, lamb=0.001, grid=8\n",
      "checkpoint directory created: ./model\n",
      "saving model version 0.0\n",
      "checkpoint directory created: ./model\n",
      "saving model version 0.0\n",
      "Successfully created and tested Model3\n"
     ]
    },
    {
     "name": "stderr",
     "output_type": "stream",
     "text": [
      " train_acc_hybrid: 9.85e-01 | val_acc_hybrid: 8.66e-01 |: 100%|███| 120/120 [08:04<00:00,  4.04s/it]\n"
     ]
    },
    {
     "name": "stdout",
     "output_type": "stream",
     "text": [
      "saving model version 0.1\n",
      "✅ Best validation Accuracy: 8.9233e-01 at 49 epoch\n",
      "avg_acc 0.8809523582458496\n",
      "Testing 4 hidden neurons, lamb=0.0001, grid=8\n",
      "checkpoint directory created: ./model\n",
      "saving model version 0.0\n",
      "checkpoint directory created: ./model\n",
      "saving model version 0.0\n",
      "Successfully created and tested Model3\n"
     ]
    },
    {
     "name": "stderr",
     "output_type": "stream",
     "text": [
      " train_acc_hybrid: 9.63e-01 | val_acc_hybrid: 7.43e-01 |: 100%|███| 120/120 [08:09<00:00,  4.08s/it]\n"
     ]
    },
    {
     "name": "stdout",
     "output_type": "stream",
     "text": [
      "saving model version 0.1\n",
      "✅ Best validation Accuracy: 7.6976e-01 at 90 epoch\n",
      "avg_acc 0.7362637519836426\n",
      "Testing 4 hidden neurons, lamb=1e-05, grid=8\n",
      "checkpoint directory created: ./model\n",
      "saving model version 0.0\n",
      "checkpoint directory created: ./model\n",
      "saving model version 0.0\n",
      "Successfully created and tested Model3\n"
     ]
    },
    {
     "name": "stderr",
     "output_type": "stream",
     "text": [
      " train_acc_hybrid: 9.98e-01 | val_acc_hybrid: 7.74e-01 |: 100%|███| 120/120 [07:53<00:00,  3.94s/it]\n"
     ]
    },
    {
     "name": "stdout",
     "output_type": "stream",
     "text": [
      "saving model version 0.1\n",
      "✅ Best validation Accuracy: 8.3849e-01 at 39 epoch\n",
      "avg_acc 0.8379120826721191\n",
      "Testing 4 hidden neurons, lamb=1e-06, grid=8\n",
      "checkpoint directory created: ./model\n",
      "saving model version 0.0\n",
      "checkpoint directory created: ./model\n",
      "saving model version 0.0\n",
      "Successfully created and tested Model3\n"
     ]
    },
    {
     "name": "stderr",
     "output_type": "stream",
     "text": [
      " train_acc_hybrid: 9.98e-01 | val_acc_hybrid: 8.20e-01 |: 100%|███| 120/120 [07:51<00:00,  3.93s/it]\n"
     ]
    },
    {
     "name": "stdout",
     "output_type": "stream",
     "text": [
      "saving model version 0.1\n",
      "✅ Best validation Accuracy: 8.6025e-01 at 58 epoch\n",
      "avg_acc 0.8415750861167908\n",
      "Testing 4 hidden neurons, lamb=1e-07, grid=8\n",
      "checkpoint directory created: ./model\n",
      "saving model version 0.0\n",
      "checkpoint directory created: ./model\n",
      "saving model version 0.0\n",
      "Successfully created and tested Model3\n"
     ]
    },
    {
     "name": "stderr",
     "output_type": "stream",
     "text": [
      " train_acc_hybrid: 9.97e-01 | val_acc_hybrid: 7.54e-01 |: 100%|███| 120/120 [07:48<00:00,  3.91s/it]\n"
     ]
    },
    {
     "name": "stdout",
     "output_type": "stream",
     "text": [
      "saving model version 0.1\n",
      "✅ Best validation Accuracy: 8.1558e-01 at 34 epoch\n",
      "avg_acc 0.8003662824630737\n",
      "Testing 5 hidden neurons, lamb=0.01, grid=3\n",
      "checkpoint directory created: ./model\n",
      "saving model version 0.0\n",
      "checkpoint directory created: ./model\n",
      "saving model version 0.0\n",
      "Successfully created and tested Model3\n"
     ]
    },
    {
     "name": "stderr",
     "output_type": "stream",
     "text": [
      " train_acc_hybrid: 6.36e-01 | val_acc_hybrid: 6.27e-01 |: 100%|███| 120/120 [05:38<00:00,  2.82s/it]\n"
     ]
    },
    {
     "name": "stdout",
     "output_type": "stream",
     "text": [
      "saving model version 0.1\n",
      "✅ Best validation Accuracy: 6.2772e-01 at 114 epoch\n",
      "avg_acc 0.6401098966598511\n",
      "Testing 5 hidden neurons, lamb=0.001, grid=3\n",
      "checkpoint directory created: ./model\n",
      "saving model version 0.0\n",
      "checkpoint directory created: ./model\n",
      "saving model version 0.0\n",
      "Successfully created and tested Model3\n"
     ]
    },
    {
     "name": "stderr",
     "output_type": "stream",
     "text": [
      " train_acc_hybrid: 9.11e-01 | val_acc_hybrid: 8.67e-01 |: 100%|███| 120/120 [05:37<00:00,  2.81s/it]\n"
     ]
    },
    {
     "name": "stdout",
     "output_type": "stream",
     "text": [
      "saving model version 0.1\n",
      "✅ Best validation Accuracy: 8.7171e-01 at 107 epoch\n",
      "avg_acc 0.8571428656578064\n",
      "Testing 5 hidden neurons, lamb=0.0001, grid=3\n",
      "checkpoint directory created: ./model\n",
      "saving model version 0.0\n",
      "checkpoint directory created: ./model\n",
      "saving model version 0.0\n",
      "Successfully created and tested Model3\n"
     ]
    },
    {
     "name": "stderr",
     "output_type": "stream",
     "text": [
      " train_acc_hybrid: 9.62e-01 | val_acc_hybrid: 8.37e-01 |: 100%|███| 120/120 [05:39<00:00,  2.83s/it]\n"
     ]
    },
    {
     "name": "stdout",
     "output_type": "stream",
     "text": [
      "saving model version 0.1\n",
      "✅ Best validation Accuracy: 8.4422e-01 at 75 epoch\n",
      "avg_acc 0.8241758346557617\n",
      "Testing 5 hidden neurons, lamb=1e-05, grid=3\n",
      "checkpoint directory created: ./model\n",
      "saving model version 0.0\n",
      "checkpoint directory created: ./model\n",
      "saving model version 0.0\n",
      "Successfully created and tested Model3\n"
     ]
    },
    {
     "name": "stderr",
     "output_type": "stream",
     "text": [
      " train_acc_hybrid: 8.89e-01 | val_acc_hybrid: 8.21e-01 |: 100%|███| 120/120 [05:42<00:00,  2.85s/it]\n"
     ]
    },
    {
     "name": "stdout",
     "output_type": "stream",
     "text": [
      "saving model version 0.1\n",
      "✅ Best validation Accuracy: 8.2932e-01 at 116 epoch\n",
      "avg_acc 0.8113552927970886\n",
      "Testing 5 hidden neurons, lamb=1e-06, grid=3\n",
      "checkpoint directory created: ./model\n",
      "saving model version 0.0\n",
      "checkpoint directory created: ./model\n",
      "saving model version 0.0\n",
      "Successfully created and tested Model3\n"
     ]
    },
    {
     "name": "stderr",
     "output_type": "stream",
     "text": [
      " train_acc_hybrid: 8.83e-01 | val_acc_hybrid: 7.94e-01 |: 100%|███| 120/120 [05:40<00:00,  2.84s/it]\n"
     ]
    },
    {
     "name": "stdout",
     "output_type": "stream",
     "text": [
      "saving model version 0.1\n",
      "✅ Best validation Accuracy: 8.0527e-01 at 112 epoch\n",
      "avg_acc 0.7802197933197021\n",
      "Testing 5 hidden neurons, lamb=1e-07, grid=3\n",
      "checkpoint directory created: ./model\n",
      "saving model version 0.0\n",
      "checkpoint directory created: ./model\n",
      "saving model version 0.0\n",
      "Successfully created and tested Model3\n"
     ]
    },
    {
     "name": "stderr",
     "output_type": "stream",
     "text": [
      " train_acc_hybrid: 8.17e-01 | val_acc_hybrid: 7.62e-01 |: 100%|███| 120/120 [05:45<00:00,  2.88s/it]\n"
     ]
    },
    {
     "name": "stdout",
     "output_type": "stream",
     "text": [
      "saving model version 0.1\n",
      "✅ Best validation Accuracy: 7.6403e-01 at 117 epoch\n",
      "avg_acc 0.7426739931106567\n",
      "Testing 5 hidden neurons, lamb=0.01, grid=4\n",
      "checkpoint directory created: ./model\n",
      "saving model version 0.0\n",
      "checkpoint directory created: ./model\n",
      "saving model version 0.0\n",
      "Successfully created and tested Model3\n"
     ]
    },
    {
     "name": "stderr",
     "output_type": "stream",
     "text": [
      " train_acc_hybrid: 7.00e-01 | val_acc_hybrid: 6.63e-01 |: 100%|███| 120/120 [05:45<00:00,  2.88s/it]\n"
     ]
    },
    {
     "name": "stdout",
     "output_type": "stream",
     "text": [
      "saving model version 0.1\n",
      "✅ Best validation Accuracy: 6.7354e-01 at 50 epoch\n",
      "avg_acc 0.6831501722335815\n",
      "Testing 5 hidden neurons, lamb=0.001, grid=4\n",
      "checkpoint directory created: ./model\n",
      "saving model version 0.0\n",
      "checkpoint directory created: ./model\n",
      "saving model version 0.0\n",
      "Successfully created and tested Model3\n"
     ]
    },
    {
     "name": "stderr",
     "output_type": "stream",
     "text": [
      " train_acc_hybrid: 9.45e-01 | val_acc_hybrid: 8.67e-01 |: 100%|███| 120/120 [06:16<00:00,  3.13s/it]\n"
     ]
    },
    {
     "name": "stdout",
     "output_type": "stream",
     "text": [
      "saving model version 0.1\n",
      "✅ Best validation Accuracy: 8.7629e-01 at 104 epoch\n",
      "avg_acc 0.8864468932151794\n",
      "Testing 5 hidden neurons, lamb=0.0001, grid=4\n",
      "checkpoint directory created: ./model\n",
      "saving model version 0.0\n",
      "checkpoint directory created: ./model\n",
      "saving model version 0.0\n",
      "Successfully created and tested Model3\n"
     ]
    },
    {
     "name": "stderr",
     "output_type": "stream",
     "text": [
      " train_acc_hybrid: 9.47e-01 | val_acc_hybrid: 8.52e-01 |: 100%|███| 120/120 [06:19<00:00,  3.17s/it]\n"
     ]
    },
    {
     "name": "stdout",
     "output_type": "stream",
     "text": [
      "saving model version 0.1\n",
      "✅ Best validation Accuracy: 8.6369e-01 at 65 epoch\n",
      "avg_acc 0.8553113341331482\n",
      "Testing 5 hidden neurons, lamb=1e-05, grid=4\n",
      "checkpoint directory created: ./model\n",
      "saving model version 0.0\n",
      "checkpoint directory created: ./model\n",
      "saving model version 0.0\n",
      "Successfully created and tested Model3\n"
     ]
    },
    {
     "name": "stderr",
     "output_type": "stream",
     "text": [
      " train_acc_hybrid: 9.56e-01 | val_acc_hybrid: 8.34e-01 |: 100%|███| 120/120 [06:21<00:00,  3.18s/it]\n"
     ]
    },
    {
     "name": "stdout",
     "output_type": "stream",
     "text": [
      "saving model version 0.1\n",
      "✅ Best validation Accuracy: 8.4651e-01 at 73 epoch\n",
      "avg_acc 0.8516483306884766\n",
      "Testing 5 hidden neurons, lamb=1e-06, grid=4\n",
      "checkpoint directory created: ./model\n",
      "saving model version 0.0\n",
      "checkpoint directory created: ./model\n",
      "saving model version 0.0\n",
      "Successfully created and tested Model3\n"
     ]
    },
    {
     "name": "stderr",
     "output_type": "stream",
     "text": [
      " train_acc_hybrid: 9.70e-01 | val_acc_hybrid: 8.38e-01 |: 100%|███| 120/120 [06:11<00:00,  3.09s/it]\n"
     ]
    },
    {
     "name": "stdout",
     "output_type": "stream",
     "text": [
      "saving model version 0.1\n",
      "✅ Best validation Accuracy: 8.4651e-01 at 81 epoch\n",
      "avg_acc 0.83699631690979\n",
      "Testing 5 hidden neurons, lamb=1e-07, grid=4\n",
      "checkpoint directory created: ./model\n",
      "saving model version 0.0\n",
      "checkpoint directory created: ./model\n",
      "saving model version 0.0\n",
      "Successfully created and tested Model3\n"
     ]
    },
    {
     "name": "stderr",
     "output_type": "stream",
     "text": [
      " train_acc_hybrid: 9.61e-01 | val_acc_hybrid: 8.45e-01 |: 100%|███| 120/120 [06:15<00:00,  3.13s/it]\n"
     ]
    },
    {
     "name": "stdout",
     "output_type": "stream",
     "text": [
      "saving model version 0.1\n",
      "✅ Best validation Accuracy: 8.6712e-01 at 65 epoch\n",
      "avg_acc 0.8461538553237915\n",
      "Testing 5 hidden neurons, lamb=0.01, grid=5\n",
      "checkpoint directory created: ./model\n",
      "saving model version 0.0\n",
      "checkpoint directory created: ./model\n",
      "saving model version 0.0\n",
      "Successfully created and tested Model3\n"
     ]
    },
    {
     "name": "stderr",
     "output_type": "stream",
     "text": [
      " train_acc_hybrid: 7.18e-01 | val_acc_hybrid: 6.86e-01 |: 100%|███| 120/120 [06:41<00:00,  3.35s/it]\n"
     ]
    },
    {
     "name": "stdout",
     "output_type": "stream",
     "text": [
      "saving model version 0.1\n",
      "✅ Best validation Accuracy: 6.8958e-01 at 116 epoch\n",
      "avg_acc 0.6895604133605957\n",
      "Testing 5 hidden neurons, lamb=0.001, grid=5\n",
      "checkpoint directory created: ./model\n",
      "saving model version 0.0\n",
      "checkpoint directory created: ./model\n",
      "saving model version 0.0\n",
      "Successfully created and tested Model3\n"
     ]
    },
    {
     "name": "stderr",
     "output_type": "stream",
     "text": [
      " train_acc_hybrid: 9.52e-01 | val_acc_hybrid: 8.85e-01 |: 100%|███| 120/120 [05:49<00:00,  2.91s/it]\n"
     ]
    },
    {
     "name": "stdout",
     "output_type": "stream",
     "text": [
      "saving model version 0.1\n",
      "✅ Best validation Accuracy: 8.8660e-01 at 82 epoch\n",
      "avg_acc 0.8745421171188354\n",
      "Testing 5 hidden neurons, lamb=0.0001, grid=5\n",
      "checkpoint directory created: ./model\n",
      "saving model version 0.0\n",
      "checkpoint directory created: ./model\n",
      "saving model version 0.0\n",
      "Successfully created and tested Model3\n"
     ]
    },
    {
     "name": "stderr",
     "output_type": "stream",
     "text": [
      " train_acc_hybrid: 9.75e-01 | val_acc_hybrid: 8.64e-01 |: 100%|███| 120/120 [06:53<00:00,  3.45s/it]\n"
     ]
    },
    {
     "name": "stdout",
     "output_type": "stream",
     "text": [
      "saving model version 0.1\n",
      "✅ Best validation Accuracy: 8.7973e-01 at 92 epoch\n",
      "avg_acc 0.8571428656578064\n",
      "Testing 5 hidden neurons, lamb=1e-05, grid=5\n",
      "checkpoint directory created: ./model\n",
      "saving model version 0.0\n",
      "checkpoint directory created: ./model\n",
      "saving model version 0.0\n",
      "Successfully created and tested Model3\n"
     ]
    },
    {
     "name": "stderr",
     "output_type": "stream",
     "text": [
      " train_acc_hybrid: 9.42e-01 | val_acc_hybrid: 8.48e-01 |: 100%|███| 120/120 [06:59<00:00,  3.50s/it]\n"
     ]
    },
    {
     "name": "stdout",
     "output_type": "stream",
     "text": [
      "saving model version 0.1\n",
      "✅ Best validation Accuracy: 8.5338e-01 at 85 epoch\n",
      "avg_acc 0.8617216348648071\n",
      "Testing 5 hidden neurons, lamb=1e-06, grid=5\n",
      "checkpoint directory created: ./model\n",
      "saving model version 0.0\n",
      "checkpoint directory created: ./model\n",
      "saving model version 0.0\n",
      "Successfully created and tested Model3\n"
     ]
    },
    {
     "name": "stderr",
     "output_type": "stream",
     "text": [
      " train_acc_hybrid: 9.70e-01 | val_acc_hybrid: 8.22e-01 |: 100%|███| 120/120 [06:56<00:00,  3.47s/it]\n"
     ]
    },
    {
     "name": "stdout",
     "output_type": "stream",
     "text": [
      "saving model version 0.1\n",
      "✅ Best validation Accuracy: 8.5452e-01 at 59 epoch\n",
      "avg_acc 0.8461538553237915\n",
      "Testing 5 hidden neurons, lamb=1e-07, grid=5\n",
      "checkpoint directory created: ./model\n",
      "saving model version 0.0\n",
      "checkpoint directory created: ./model\n",
      "saving model version 0.0\n",
      "Successfully created and tested Model3\n"
     ]
    },
    {
     "name": "stderr",
     "output_type": "stream",
     "text": [
      " train_acc_hybrid: 9.67e-01 | val_acc_hybrid: 8.43e-01 |: 100%|███| 120/120 [06:52<00:00,  3.44s/it]\n"
     ]
    },
    {
     "name": "stdout",
     "output_type": "stream",
     "text": [
      "saving model version 0.1\n",
      "✅ Best validation Accuracy: 8.5452e-01 at 63 epoch\n",
      "avg_acc 0.8626373410224915\n",
      "Testing 5 hidden neurons, lamb=0.01, grid=6\n",
      "checkpoint directory created: ./model\n",
      "saving model version 0.0\n",
      "checkpoint directory created: ./model\n",
      "saving model version 0.0\n",
      "Successfully created and tested Model3\n"
     ]
    },
    {
     "name": "stderr",
     "output_type": "stream",
     "text": [
      " train_acc_hybrid: 7.29e-01 | val_acc_hybrid: 6.82e-01 |: 100%|███| 120/120 [07:10<00:00,  3.59s/it]\n"
     ]
    },
    {
     "name": "stdout",
     "output_type": "stream",
     "text": [
      "saving model version 0.1\n",
      "✅ Best validation Accuracy: 6.8270e-01 at 118 epoch\n",
      "avg_acc 0.6987179517745972\n",
      "Testing 5 hidden neurons, lamb=0.001, grid=6\n",
      "checkpoint directory created: ./model\n",
      "saving model version 0.0\n",
      "checkpoint directory created: ./model\n",
      "saving model version 0.0\n",
      "Successfully created and tested Model3\n"
     ]
    },
    {
     "name": "stderr",
     "output_type": "stream",
     "text": [
      " train_acc_hybrid: 9.77e-01 | val_acc_hybrid: 8.76e-01 |: 100%|███| 120/120 [07:05<00:00,  3.54s/it]\n"
     ]
    },
    {
     "name": "stdout",
     "output_type": "stream",
     "text": [
      "saving model version 0.1\n",
      "✅ Best validation Accuracy: 9.0034e-01 at 39 epoch\n",
      "avg_acc 0.8928571343421936\n",
      "Testing 5 hidden neurons, lamb=0.0001, grid=6\n",
      "checkpoint directory created: ./model\n",
      "saving model version 0.0\n",
      "checkpoint directory created: ./model\n",
      "saving model version 0.0\n",
      "Successfully created and tested Model3\n"
     ]
    },
    {
     "name": "stderr",
     "output_type": "stream",
     "text": [
      " train_acc_hybrid: 9.92e-01 | val_acc_hybrid: 8.85e-01 |: 100%|███| 120/120 [07:12<00:00,  3.61s/it]\n"
     ]
    },
    {
     "name": "stdout",
     "output_type": "stream",
     "text": [
      "saving model version 0.1\n",
      "✅ Best validation Accuracy: 8.9805e-01 at 88 epoch\n",
      "avg_acc 0.9029303789138794\n",
      "Testing 5 hidden neurons, lamb=1e-05, grid=6\n",
      "checkpoint directory created: ./model\n",
      "saving model version 0.0\n",
      "checkpoint directory created: ./model\n",
      "saving model version 0.0\n",
      "Successfully created and tested Model3\n"
     ]
    },
    {
     "name": "stderr",
     "output_type": "stream",
     "text": [
      " train_acc_hybrid: 9.90e-01 | val_acc_hybrid: 8.61e-01 |: 100%|███| 120/120 [07:15<00:00,  3.63s/it]\n"
     ]
    },
    {
     "name": "stdout",
     "output_type": "stream",
     "text": [
      "saving model version 0.1\n",
      "✅ Best validation Accuracy: 8.9118e-01 at 55 epoch\n",
      "avg_acc 0.8937729001045227\n",
      "Testing 5 hidden neurons, lamb=1e-06, grid=6\n",
      "checkpoint directory created: ./model\n",
      "saving model version 0.0\n",
      "checkpoint directory created: ./model\n",
      "saving model version 0.0\n",
      "Successfully created and tested Model3\n"
     ]
    },
    {
     "name": "stderr",
     "output_type": "stream",
     "text": [
      " train_acc_hybrid: 9.90e-01 | val_acc_hybrid: 8.38e-01 |: 100%|███| 120/120 [07:12<00:00,  3.60s/it]\n"
     ]
    },
    {
     "name": "stdout",
     "output_type": "stream",
     "text": [
      "saving model version 0.1\n",
      "✅ Best validation Accuracy: 8.6942e-01 at 49 epoch\n",
      "avg_acc 0.8617216348648071\n",
      "Testing 5 hidden neurons, lamb=1e-07, grid=6\n",
      "checkpoint directory created: ./model\n",
      "saving model version 0.0\n",
      "checkpoint directory created: ./model\n",
      "saving model version 0.0\n",
      "Successfully created and tested Model3\n"
     ]
    },
    {
     "name": "stderr",
     "output_type": "stream",
     "text": [
      " train_acc_hybrid: 9.82e-01 | val_acc_hybrid: 9.12e-01 |: 100%|███| 120/120 [07:21<00:00,  3.68s/it]\n"
     ]
    },
    {
     "name": "stdout",
     "output_type": "stream",
     "text": [
      "saving model version 0.1\n",
      "✅ Best validation Accuracy: 9.1638e-01 at 107 epoch\n",
      "avg_acc 0.9157509207725525\n",
      "Testing 5 hidden neurons, lamb=0.01, grid=7\n",
      "checkpoint directory created: ./model\n",
      "saving model version 0.0\n",
      "checkpoint directory created: ./model\n",
      "saving model version 0.0\n",
      "Successfully created and tested Model3\n"
     ]
    },
    {
     "name": "stderr",
     "output_type": "stream",
     "text": [
      " train_acc_hybrid: 7.35e-01 | val_acc_hybrid: 7.00e-01 |: 100%|███| 120/120 [07:31<00:00,  3.76s/it]\n"
     ]
    },
    {
     "name": "stdout",
     "output_type": "stream",
     "text": [
      "saving model version 0.1\n",
      "✅ Best validation Accuracy: 7.0676e-01 at 61 epoch\n",
      "avg_acc 0.7234432101249695\n",
      "Testing 5 hidden neurons, lamb=0.001, grid=7\n",
      "checkpoint directory created: ./model\n",
      "saving model version 0.0\n",
      "checkpoint directory created: ./model\n",
      "saving model version 0.0\n",
      "Successfully created and tested Model3\n"
     ]
    },
    {
     "name": "stderr",
     "output_type": "stream",
     "text": [
      " train_acc_hybrid: 9.82e-01 | val_acc_hybrid: 9.13e-01 |: 100%|███| 120/120 [07:36<00:00,  3.80s/it]\n"
     ]
    },
    {
     "name": "stdout",
     "output_type": "stream",
     "text": [
      "saving model version 0.1\n",
      "✅ Best validation Accuracy: 9.2669e-01 at 77 epoch\n",
      "avg_acc 0.9111721515655518\n",
      "Testing 5 hidden neurons, lamb=0.0001, grid=7\n",
      "checkpoint directory created: ./model\n",
      "saving model version 0.0\n",
      "checkpoint directory created: ./model\n",
      "saving model version 0.0\n",
      "Successfully created and tested Model3\n"
     ]
    },
    {
     "name": "stderr",
     "output_type": "stream",
     "text": [
      " train_acc_hybrid: 9.93e-01 | val_acc_hybrid: 8.63e-01 |: 100%|███| 120/120 [07:35<00:00,  3.79s/it]\n"
     ]
    },
    {
     "name": "stdout",
     "output_type": "stream",
     "text": [
      "saving model version 0.1\n",
      "✅ Best validation Accuracy: 8.9691e-01 at 80 epoch\n",
      "avg_acc 0.8717948794364929\n",
      "Testing 5 hidden neurons, lamb=1e-05, grid=7\n",
      "checkpoint directory created: ./model\n",
      "saving model version 0.0\n",
      "checkpoint directory created: ./model\n",
      "saving model version 0.0\n",
      "Successfully created and tested Model3\n"
     ]
    },
    {
     "name": "stderr",
     "output_type": "stream",
     "text": [
      " train_acc_hybrid: 9.87e-01 | val_acc_hybrid: 8.69e-01 |: 100%|███| 120/120 [07:41<00:00,  3.85s/it]\n"
     ]
    },
    {
     "name": "stdout",
     "output_type": "stream",
     "text": [
      "saving model version 0.1\n",
      "✅ Best validation Accuracy: 9.1638e-01 at 71 epoch\n",
      "avg_acc 0.9001831412315369\n",
      "Testing 5 hidden neurons, lamb=1e-06, grid=7\n",
      "checkpoint directory created: ./model\n",
      "saving model version 0.0\n",
      "checkpoint directory created: ./model\n",
      "saving model version 0.0\n",
      "Successfully created and tested Model3\n"
     ]
    },
    {
     "name": "stderr",
     "output_type": "stream",
     "text": [
      " train_acc_hybrid: 9.91e-01 | val_acc_hybrid: 8.75e-01 |: 100%|███| 120/120 [07:37<00:00,  3.81s/it]\n"
     ]
    },
    {
     "name": "stdout",
     "output_type": "stream",
     "text": [
      "saving model version 0.1\n",
      "✅ Best validation Accuracy: 8.9691e-01 at 71 epoch\n",
      "avg_acc 0.8782051205635071\n",
      "Testing 5 hidden neurons, lamb=1e-07, grid=7\n",
      "checkpoint directory created: ./model\n",
      "saving model version 0.0\n",
      "checkpoint directory created: ./model\n",
      "saving model version 0.0\n",
      "Successfully created and tested Model3\n"
     ]
    },
    {
     "name": "stderr",
     "output_type": "stream",
     "text": [
      " train_acc_hybrid: 9.73e-01 | val_acc_hybrid: 8.79e-01 |: 100%|███| 120/120 [07:42<00:00,  3.86s/it]\n"
     ]
    },
    {
     "name": "stdout",
     "output_type": "stream",
     "text": [
      "saving model version 0.1\n",
      "✅ Best validation Accuracy: 8.8774e-01 at 98 epoch\n",
      "avg_acc 0.8745421171188354\n",
      "Testing 5 hidden neurons, lamb=0.01, grid=8\n",
      "checkpoint directory created: ./model\n",
      "saving model version 0.0\n",
      "checkpoint directory created: ./model\n",
      "saving model version 0.0\n",
      "Successfully created and tested Model3\n"
     ]
    },
    {
     "name": "stderr",
     "output_type": "stream",
     "text": [
      " train_acc_hybrid: 7.89e-01 | val_acc_hybrid: 7.53e-01 |: 100%|███| 120/120 [07:43<00:00,  3.86s/it]\n"
     ]
    },
    {
     "name": "stdout",
     "output_type": "stream",
     "text": [
      "saving model version 0.1\n",
      "✅ Best validation Accuracy: 7.6632e-01 at 92 epoch\n",
      "avg_acc 0.773809552192688\n",
      "Testing 5 hidden neurons, lamb=0.001, grid=8\n",
      "checkpoint directory created: ./model\n",
      "saving model version 0.0\n",
      "checkpoint directory created: ./model\n",
      "saving model version 0.0\n",
      "Successfully created and tested Model3\n"
     ]
    },
    {
     "name": "stderr",
     "output_type": "stream",
     "text": [
      " train_acc_hybrid: 9.95e-01 | val_acc_hybrid: 9.21e-01 |: 100%|███| 120/120 [07:45<00:00,  3.88s/it]\n"
     ]
    },
    {
     "name": "stdout",
     "output_type": "stream",
     "text": [
      "saving model version 0.1\n",
      "✅ Best validation Accuracy: 9.3585e-01 at 45 epoch\n",
      "avg_acc 0.9203296899795532\n",
      "Testing 5 hidden neurons, lamb=0.0001, grid=8\n",
      "checkpoint directory created: ./model\n",
      "saving model version 0.0\n",
      "checkpoint directory created: ./model\n",
      "saving model version 0.0\n",
      "Successfully created and tested Model3\n"
     ]
    },
    {
     "name": "stderr",
     "output_type": "stream",
     "text": [
      " train_acc_hybrid: 9.99e-01 | val_acc_hybrid: 8.47e-01 |: 100%|███| 120/120 [07:57<00:00,  3.98s/it]\n"
     ]
    },
    {
     "name": "stdout",
     "output_type": "stream",
     "text": [
      "saving model version 0.1\n",
      "✅ Best validation Accuracy: 9.1753e-01 at 17 epoch\n",
      "avg_acc 0.91300368309021\n",
      "Testing 5 hidden neurons, lamb=1e-05, grid=8\n",
      "checkpoint directory created: ./model\n",
      "saving model version 0.0\n",
      "checkpoint directory created: ./model\n",
      "saving model version 0.0\n",
      "Successfully created and tested Model3\n"
     ]
    },
    {
     "name": "stderr",
     "output_type": "stream",
     "text": [
      " train_acc_hybrid: 9.99e-01 | val_acc_hybrid: 8.24e-01 |: 100%|███| 120/120 [07:57<00:00,  3.98s/it]\n"
     ]
    },
    {
     "name": "stdout",
     "output_type": "stream",
     "text": [
      "saving model version 0.1\n",
      "✅ Best validation Accuracy: 9.1409e-01 at 36 epoch\n",
      "avg_acc 0.8919413685798645\n",
      "Testing 5 hidden neurons, lamb=1e-06, grid=8\n",
      "checkpoint directory created: ./model\n",
      "saving model version 0.0\n",
      "checkpoint directory created: ./model\n",
      "saving model version 0.0\n",
      "Successfully created and tested Model3\n"
     ]
    },
    {
     "name": "stderr",
     "output_type": "stream",
     "text": [
      " train_acc_hybrid: 9.99e-01 | val_acc_hybrid: 8.28e-01 |: 100%|███| 120/120 [07:46<00:00,  3.89s/it]\n"
     ]
    },
    {
     "name": "stdout",
     "output_type": "stream",
     "text": [
      "saving model version 0.1\n",
      "✅ Best validation Accuracy: 9.1065e-01 at 15 epoch\n",
      "avg_acc 0.9120879173278809\n",
      "Testing 5 hidden neurons, lamb=1e-07, grid=8\n",
      "checkpoint directory created: ./model\n",
      "saving model version 0.0\n",
      "checkpoint directory created: ./model\n",
      "saving model version 0.0\n",
      "Successfully created and tested Model3\n"
     ]
    },
    {
     "name": "stderr",
     "output_type": "stream",
     "text": [
      " train_acc_hybrid: 9.97e-01 | val_acc_hybrid: 8.71e-01 |: 100%|███| 120/120 [08:10<00:00,  4.08s/it]\n"
     ]
    },
    {
     "name": "stdout",
     "output_type": "stream",
     "text": [
      "saving model version 0.1\n",
      "✅ Best validation Accuracy: 9.1753e-01 at 35 epoch\n",
      "avg_acc 0.9056776762008667\n",
      "Testing 6 hidden neurons, lamb=0.01, grid=3\n",
      "checkpoint directory created: ./model\n",
      "saving model version 0.0\n",
      "checkpoint directory created: ./model\n",
      "saving model version 0.0\n",
      "Successfully created and tested Model3\n"
     ]
    },
    {
     "name": "stderr",
     "output_type": "stream",
     "text": [
      " train_acc_hybrid: 6.49e-01 | val_acc_hybrid: 6.48e-01 |: 100%|███| 120/120 [05:50<00:00,  2.92s/it]\n"
     ]
    },
    {
     "name": "stdout",
     "output_type": "stream",
     "text": [
      "saving model version 0.1\n",
      "✅ Best validation Accuracy: 6.5407e-01 at 96 epoch\n",
      "avg_acc 0.639194130897522\n",
      "Testing 6 hidden neurons, lamb=0.001, grid=3\n",
      "checkpoint directory created: ./model\n",
      "saving model version 0.0\n",
      "checkpoint directory created: ./model\n",
      "saving model version 0.0\n",
      "Successfully created and tested Model3\n"
     ]
    },
    {
     "name": "stderr",
     "output_type": "stream",
     "text": [
      " train_acc_hybrid: 9.29e-01 | val_acc_hybrid: 8.58e-01 |: 100%|███| 120/120 [05:47<00:00,  2.90s/it]\n"
     ]
    },
    {
     "name": "stdout",
     "output_type": "stream",
     "text": [
      "saving model version 0.1\n",
      "✅ Best validation Accuracy: 8.6827e-01 at 91 epoch\n",
      "avg_acc 0.860805869102478\n",
      "Testing 6 hidden neurons, lamb=0.0001, grid=3\n",
      "checkpoint directory created: ./model\n",
      "saving model version 0.0\n",
      "checkpoint directory created: ./model\n",
      "saving model version 0.0\n",
      "Successfully created and tested Model3\n"
     ]
    },
    {
     "name": "stderr",
     "output_type": "stream",
     "text": [
      " train_acc_hybrid: 9.18e-01 | val_acc_hybrid: 8.28e-01 |: 100%|███| 120/120 [05:44<00:00,  2.87s/it]\n"
     ]
    },
    {
     "name": "stdout",
     "output_type": "stream",
     "text": [
      "saving model version 0.1\n",
      "✅ Best validation Accuracy: 8.3963e-01 at 108 epoch\n",
      "avg_acc 0.8443223237991333\n",
      "Testing 6 hidden neurons, lamb=1e-05, grid=3\n",
      "checkpoint directory created: ./model\n",
      "saving model version 0.0\n",
      "checkpoint directory created: ./model\n",
      "saving model version 0.0\n",
      "Successfully created and tested Model3\n"
     ]
    },
    {
     "name": "stderr",
     "output_type": "stream",
     "text": [
      " train_acc_hybrid: 9.39e-01 | val_acc_hybrid: 8.50e-01 |: 100%|███| 120/120 [05:45<00:00,  2.88s/it]\n"
     ]
    },
    {
     "name": "stdout",
     "output_type": "stream",
     "text": [
      "saving model version 0.1\n",
      "✅ Best validation Accuracy: 8.6942e-01 at 70 epoch\n",
      "avg_acc 0.8580586314201355\n",
      "Testing 6 hidden neurons, lamb=1e-06, grid=3\n",
      "checkpoint directory created: ./model\n",
      "saving model version 0.0\n",
      "checkpoint directory created: ./model\n",
      "saving model version 0.0\n",
      "Successfully created and tested Model3\n"
     ]
    },
    {
     "name": "stderr",
     "output_type": "stream",
     "text": [
      " train_acc_hybrid: 9.39e-01 | val_acc_hybrid: 8.25e-01 |: 100%|███| 120/120 [05:42<00:00,  2.85s/it]\n"
     ]
    },
    {
     "name": "stdout",
     "output_type": "stream",
     "text": [
      "saving model version 0.1\n",
      "✅ Best validation Accuracy: 8.3963e-01 at 111 epoch\n",
      "avg_acc 0.831501841545105\n",
      "Testing 6 hidden neurons, lamb=1e-07, grid=3\n",
      "checkpoint directory created: ./model\n",
      "saving model version 0.0\n",
      "checkpoint directory created: ./model\n",
      "saving model version 0.0\n",
      "Successfully created and tested Model3\n"
     ]
    },
    {
     "name": "stderr",
     "output_type": "stream",
     "text": [
      " train_acc_hybrid: 9.58e-01 | val_acc_hybrid: 8.14e-01 |: 100%|███| 120/120 [05:38<00:00,  2.82s/it]\n"
     ]
    },
    {
     "name": "stdout",
     "output_type": "stream",
     "text": [
      "saving model version 0.1\n",
      "✅ Best validation Accuracy: 8.4536e-01 at 34 epoch\n",
      "avg_acc 0.843406617641449\n",
      "Testing 6 hidden neurons, lamb=0.01, grid=4\n",
      "checkpoint directory created: ./model\n",
      "saving model version 0.0\n",
      "checkpoint directory created: ./model\n",
      "saving model version 0.0\n",
      "Successfully created and tested Model3\n"
     ]
    },
    {
     "name": "stderr",
     "output_type": "stream",
     "text": [
      " train_acc_hybrid: 6.42e-01 | val_acc_hybrid: 6.32e-01 |: 100%|███| 120/120 [06:15<00:00,  3.13s/it]\n"
     ]
    },
    {
     "name": "stdout",
     "output_type": "stream",
     "text": [
      "saving model version 0.1\n",
      "✅ Best validation Accuracy: 6.3918e-01 at 33 epoch\n",
      "avg_acc 0.6309523582458496\n",
      "Testing 6 hidden neurons, lamb=0.001, grid=4\n",
      "checkpoint directory created: ./model\n",
      "saving model version 0.0\n",
      "checkpoint directory created: ./model\n",
      "saving model version 0.0\n",
      "Successfully created and tested Model3\n"
     ]
    },
    {
     "name": "stderr",
     "output_type": "stream",
     "text": [
      " train_acc_hybrid: 9.26e-01 | val_acc_hybrid: 8.24e-01 |: 100%|███| 120/120 [06:20<00:00,  3.17s/it]\n"
     ]
    },
    {
     "name": "stdout",
     "output_type": "stream",
     "text": [
      "saving model version 0.1\n",
      "✅ Best validation Accuracy: 8.4880e-01 at 70 epoch\n",
      "avg_acc 0.8287546038627625\n",
      "Testing 6 hidden neurons, lamb=0.0001, grid=4\n",
      "checkpoint directory created: ./model\n",
      "saving model version 0.0\n",
      "checkpoint directory created: ./model\n",
      "saving model version 0.0\n",
      "Successfully created and tested Model3\n"
     ]
    },
    {
     "name": "stderr",
     "output_type": "stream",
     "text": [
      " train_acc_hybrid: 9.43e-01 | val_acc_hybrid: 8.49e-01 |: 100%|███| 120/120 [06:18<00:00,  3.15s/it]\n"
     ]
    },
    {
     "name": "stdout",
     "output_type": "stream",
     "text": [
      "saving model version 0.1\n",
      "✅ Best validation Accuracy: 8.5567e-01 at 118 epoch\n",
      "avg_acc 0.8479853272438049\n",
      "Testing 6 hidden neurons, lamb=1e-05, grid=4\n",
      "checkpoint directory created: ./model\n",
      "saving model version 0.0\n",
      "checkpoint directory created: ./model\n",
      "saving model version 0.0\n",
      "Successfully created and tested Model3\n"
     ]
    },
    {
     "name": "stderr",
     "output_type": "stream",
     "text": [
      " train_acc_hybrid: 9.39e-01 | val_acc_hybrid: 8.38e-01 |: 100%|███| 120/120 [06:19<00:00,  3.17s/it]\n"
     ]
    },
    {
     "name": "stdout",
     "output_type": "stream",
     "text": [
      "saving model version 0.1\n",
      "✅ Best validation Accuracy: 8.4880e-01 at 101 epoch\n",
      "avg_acc 0.8397436141967773\n",
      "Testing 6 hidden neurons, lamb=1e-06, grid=4\n",
      "checkpoint directory created: ./model\n",
      "saving model version 0.0\n",
      "checkpoint directory created: ./model\n",
      "saving model version 0.0\n",
      "Successfully created and tested Model3\n"
     ]
    },
    {
     "name": "stderr",
     "output_type": "stream",
     "text": [
      " train_acc_hybrid: 8.29e-01 | val_acc_hybrid: 7.75e-01 |: 100%|███| 120/120 [06:30<00:00,  3.26s/it]\n"
     ]
    },
    {
     "name": "stdout",
     "output_type": "stream",
     "text": [
      "saving model version 0.1\n",
      "✅ Best validation Accuracy: 7.7778e-01 at 110 epoch\n",
      "avg_acc 0.7728937864303589\n",
      "Testing 6 hidden neurons, lamb=1e-07, grid=4\n",
      "checkpoint directory created: ./model\n",
      "saving model version 0.0\n",
      "checkpoint directory created: ./model\n",
      "saving model version 0.0\n",
      "Successfully created and tested Model3\n"
     ]
    },
    {
     "name": "stderr",
     "output_type": "stream",
     "text": [
      " train_acc_hybrid: 9.16e-01 | val_acc_hybrid: 7.73e-01 |: 100%|███| 120/120 [06:21<00:00,  3.18s/it]\n"
     ]
    },
    {
     "name": "stdout",
     "output_type": "stream",
     "text": [
      "saving model version 0.1\n",
      "✅ Best validation Accuracy: 7.8236e-01 at 94 epoch\n",
      "avg_acc 0.7747252583503723\n",
      "Testing 6 hidden neurons, lamb=0.01, grid=5\n",
      "checkpoint directory created: ./model\n",
      "saving model version 0.0\n",
      "checkpoint directory created: ./model\n",
      "saving model version 0.0\n",
      "Successfully created and tested Model3\n"
     ]
    },
    {
     "name": "stderr",
     "output_type": "stream",
     "text": [
      " train_acc_hybrid: 8.72e-01 | val_acc_hybrid: 8.48e-01 |: 100%|███| 120/120 [06:33<00:00,  3.28s/it]\n"
     ]
    },
    {
     "name": "stdout",
     "output_type": "stream",
     "text": [
      "saving model version 0.1\n",
      "✅ Best validation Accuracy: 8.4880e-01 at 114 epoch\n",
      "avg_acc 0.8534798622131348\n",
      "Testing 6 hidden neurons, lamb=0.001, grid=5\n",
      "checkpoint directory created: ./model\n",
      "saving model version 0.0\n",
      "checkpoint directory created: ./model\n",
      "saving model version 0.0\n",
      "Successfully created and tested Model3\n"
     ]
    },
    {
     "name": "stderr",
     "output_type": "stream",
     "text": [
      " train_acc_hybrid: 9.70e-01 | val_acc_hybrid: 8.83e-01 |: 100%|███| 120/120 [06:39<00:00,  3.33s/it]\n"
     ]
    },
    {
     "name": "stdout",
     "output_type": "stream",
     "text": [
      "saving model version 0.1\n",
      "✅ Best validation Accuracy: 8.9003e-01 at 76 epoch\n",
      "avg_acc 0.9001831412315369\n",
      "Testing 6 hidden neurons, lamb=0.0001, grid=5\n",
      "checkpoint directory created: ./model\n",
      "saving model version 0.0\n",
      "checkpoint directory created: ./model\n",
      "saving model version 0.0\n",
      "Successfully created and tested Model3\n"
     ]
    },
    {
     "name": "stderr",
     "output_type": "stream",
     "text": [
      " train_acc_hybrid: 9.63e-01 | val_acc_hybrid: 8.79e-01 |: 100%|███| 120/120 [07:03<00:00,  3.53s/it]\n"
     ]
    },
    {
     "name": "stdout",
     "output_type": "stream",
     "text": [
      "saving model version 0.1\n",
      "✅ Best validation Accuracy: 8.8316e-01 at 106 epoch\n",
      "avg_acc 0.8717948794364929\n",
      "Testing 6 hidden neurons, lamb=1e-05, grid=5\n",
      "checkpoint directory created: ./model\n",
      "saving model version 0.0\n",
      "checkpoint directory created: ./model\n",
      "saving model version 0.0\n",
      "Successfully created and tested Model3\n"
     ]
    },
    {
     "name": "stderr",
     "output_type": "stream",
     "text": [
      " train_acc_hybrid: 9.83e-01 | val_acc_hybrid: 8.33e-01 |: 100%|███| 120/120 [06:53<00:00,  3.44s/it]\n"
     ]
    },
    {
     "name": "stdout",
     "output_type": "stream",
     "text": [
      "saving model version 0.1\n",
      "✅ Best validation Accuracy: 8.6254e-01 at 54 epoch\n",
      "avg_acc 0.8507326245307922\n",
      "Testing 6 hidden neurons, lamb=1e-06, grid=5\n",
      "checkpoint directory created: ./model\n",
      "saving model version 0.0\n",
      "checkpoint directory created: ./model\n",
      "saving model version 0.0\n",
      "Successfully created and tested Model3\n"
     ]
    },
    {
     "name": "stderr",
     "output_type": "stream",
     "text": [
      " train_acc_hybrid: 9.79e-01 | val_acc_hybrid: 8.38e-01 |: 100%|███| 120/120 [06:53<00:00,  3.44s/it]\n"
     ]
    },
    {
     "name": "stdout",
     "output_type": "stream",
     "text": [
      "saving model version 0.1\n",
      "✅ Best validation Accuracy: 8.7056e-01 at 37 epoch\n",
      "avg_acc 0.8553113341331482\n",
      "Testing 6 hidden neurons, lamb=1e-07, grid=5\n",
      "checkpoint directory created: ./model\n",
      "saving model version 0.0\n",
      "checkpoint directory created: ./model\n",
      "saving model version 0.0\n",
      "Successfully created and tested Model3\n"
     ]
    },
    {
     "name": "stderr",
     "output_type": "stream",
     "text": [
      " train_acc_hybrid: 9.64e-01 | val_acc_hybrid: 8.38e-01 |: 100%|███| 120/120 [06:51<00:00,  3.43s/it]\n"
     ]
    },
    {
     "name": "stdout",
     "output_type": "stream",
     "text": [
      "saving model version 0.1\n",
      "✅ Best validation Accuracy: 8.5796e-01 at 42 epoch\n",
      "avg_acc 0.8360806107521057\n",
      "Testing 6 hidden neurons, lamb=0.01, grid=6\n",
      "checkpoint directory created: ./model\n",
      "saving model version 0.0\n",
      "checkpoint directory created: ./model\n",
      "saving model version 0.0\n",
      "Successfully created and tested Model3\n"
     ]
    },
    {
     "name": "stderr",
     "output_type": "stream",
     "text": [
      " train_acc_hybrid: 8.35e-01 | val_acc_hybrid: 7.77e-01 |: 100%|███| 120/120 [07:10<00:00,  3.59s/it]\n"
     ]
    },
    {
     "name": "stdout",
     "output_type": "stream",
     "text": [
      "saving model version 0.1\n",
      "✅ Best validation Accuracy: 8.0871e-01 at 56 epoch\n",
      "avg_acc 0.8021978139877319\n",
      "Testing 6 hidden neurons, lamb=0.001, grid=6\n",
      "checkpoint directory created: ./model\n",
      "saving model version 0.0\n",
      "checkpoint directory created: ./model\n",
      "saving model version 0.0\n",
      "Successfully created and tested Model3\n"
     ]
    },
    {
     "name": "stderr",
     "output_type": "stream",
     "text": [
      " train_acc_hybrid: 9.83e-01 | val_acc_hybrid: 8.95e-01 |: 100%|███| 120/120 [07:06<00:00,  3.56s/it]\n"
     ]
    },
    {
     "name": "stdout",
     "output_type": "stream",
     "text": [
      "saving model version 0.1\n",
      "✅ Best validation Accuracy: 9.1180e-01 at 45 epoch\n",
      "avg_acc 0.9212453961372375\n",
      "Testing 6 hidden neurons, lamb=0.0001, grid=6\n",
      "checkpoint directory created: ./model\n",
      "saving model version 0.0\n",
      "checkpoint directory created: ./model\n",
      "saving model version 0.0\n",
      "Successfully created and tested Model3\n"
     ]
    },
    {
     "name": "stderr",
     "output_type": "stream",
     "text": [
      " train_acc_hybrid: 9.92e-01 | val_acc_hybrid: 8.44e-01 |: 100%|███| 120/120 [07:06<00:00,  3.55s/it]\n"
     ]
    },
    {
     "name": "stdout",
     "output_type": "stream",
     "text": [
      "saving model version 0.1\n",
      "✅ Best validation Accuracy: 8.8316e-01 at 28 epoch\n",
      "avg_acc 0.8763736486434937\n",
      "Testing 6 hidden neurons, lamb=1e-05, grid=6\n",
      "checkpoint directory created: ./model\n",
      "saving model version 0.0\n",
      "checkpoint directory created: ./model\n",
      "saving model version 0.0\n",
      "Successfully created and tested Model3\n"
     ]
    },
    {
     "name": "stderr",
     "output_type": "stream",
     "text": [
      " train_acc_hybrid: 9.94e-01 | val_acc_hybrid: 8.12e-01 |: 100%|███| 120/120 [07:08<00:00,  3.57s/it]\n"
     ]
    },
    {
     "name": "stdout",
     "output_type": "stream",
     "text": [
      "saving model version 0.1\n",
      "✅ Best validation Accuracy: 8.7056e-01 at 22 epoch\n",
      "avg_acc 0.872710645198822\n",
      "Testing 6 hidden neurons, lamb=1e-06, grid=6\n",
      "checkpoint directory created: ./model\n",
      "saving model version 0.0\n",
      "checkpoint directory created: ./model\n",
      "saving model version 0.0\n",
      "Successfully created and tested Model3\n"
     ]
    },
    {
     "name": "stderr",
     "output_type": "stream",
     "text": [
      " train_acc_hybrid: 9.94e-01 | val_acc_hybrid: 8.25e-01 |: 100%|███| 120/120 [07:06<00:00,  3.55s/it]\n"
     ]
    },
    {
     "name": "stdout",
     "output_type": "stream",
     "text": [
      "saving model version 0.1\n",
      "✅ Best validation Accuracy: 8.7056e-01 at 30 epoch\n",
      "avg_acc 0.8754578828811646\n",
      "Testing 6 hidden neurons, lamb=1e-07, grid=6\n",
      "checkpoint directory created: ./model\n",
      "saving model version 0.0\n",
      "checkpoint directory created: ./model\n",
      "saving model version 0.0\n",
      "Successfully created and tested Model3\n"
     ]
    },
    {
     "name": "stderr",
     "output_type": "stream",
     "text": [
      " train_acc_hybrid: 9.87e-01 | val_acc_hybrid: 8.69e-01 |: 100%|███| 120/120 [07:15<00:00,  3.63s/it]\n"
     ]
    },
    {
     "name": "stdout",
     "output_type": "stream",
     "text": [
      "saving model version 0.1\n",
      "✅ Best validation Accuracy: 8.7400e-01 at 99 epoch\n",
      "avg_acc 0.8672161102294922\n",
      "Testing 6 hidden neurons, lamb=0.01, grid=7\n",
      "checkpoint directory created: ./model\n",
      "saving model version 0.0\n",
      "checkpoint directory created: ./model\n",
      "saving model version 0.0\n",
      "Successfully created and tested Model3\n"
     ]
    },
    {
     "name": "stderr",
     "output_type": "stream",
     "text": [
      " train_acc_hybrid: 7.27e-01 | val_acc_hybrid: 7.12e-01 |: 100%|███| 120/120 [07:37<00:00,  3.81s/it]\n"
     ]
    },
    {
     "name": "stdout",
     "output_type": "stream",
     "text": [
      "saving model version 0.1\n",
      "✅ Best validation Accuracy: 7.1707e-01 at 89 epoch\n",
      "avg_acc 0.7124541997909546\n",
      "Testing 6 hidden neurons, lamb=0.001, grid=7\n",
      "checkpoint directory created: ./model\n",
      "saving model version 0.0\n",
      "checkpoint directory created: ./model\n",
      "saving model version 0.0\n",
      "Successfully created and tested Model3\n"
     ]
    },
    {
     "name": "stderr",
     "output_type": "stream",
     "text": [
      " train_acc_hybrid: 9.92e-01 | val_acc_hybrid: 8.14e-01 |: 100%|███| 120/120 [07:24<00:00,  3.71s/it]\n"
     ]
    },
    {
     "name": "stdout",
     "output_type": "stream",
     "text": [
      "saving model version 0.1\n",
      "✅ Best validation Accuracy: 8.7056e-01 at 19 epoch\n",
      "avg_acc 0.8690476417541504\n",
      "Testing 6 hidden neurons, lamb=0.0001, grid=7\n",
      "checkpoint directory created: ./model\n",
      "saving model version 0.0\n",
      "checkpoint directory created: ./model\n",
      "saving model version 0.0\n",
      "Successfully created and tested Model3\n"
     ]
    },
    {
     "name": "stderr",
     "output_type": "stream",
     "text": [
      " train_acc_hybrid: 9.97e-01 | val_acc_hybrid: 7.72e-01 |: 100%|███| 120/120 [07:27<00:00,  3.73s/it]\n"
     ]
    },
    {
     "name": "stdout",
     "output_type": "stream",
     "text": [
      "saving model version 0.1\n",
      "✅ Best validation Accuracy: 8.4765e-01 at 18 epoch\n",
      "avg_acc 0.8324176073074341\n",
      "Testing 6 hidden neurons, lamb=1e-05, grid=7\n",
      "checkpoint directory created: ./model\n",
      "saving model version 0.0\n",
      "checkpoint directory created: ./model\n",
      "saving model version 0.0\n",
      "Successfully created and tested Model3\n"
     ]
    },
    {
     "name": "stderr",
     "output_type": "stream",
     "text": [
      " train_acc_hybrid: 9.88e-01 | val_acc_hybrid: 8.28e-01 |: 100%|███| 120/120 [07:38<00:00,  3.82s/it]\n"
     ]
    },
    {
     "name": "stdout",
     "output_type": "stream",
     "text": [
      "saving model version 0.1\n",
      "✅ Best validation Accuracy: 8.3734e-01 at 82 epoch\n",
      "avg_acc 0.8388278484344482\n",
      "Testing 6 hidden neurons, lamb=1e-06, grid=7\n",
      "checkpoint directory created: ./model\n",
      "saving model version 0.0\n",
      "checkpoint directory created: ./model\n",
      "saving model version 0.0\n",
      "Successfully created and tested Model3\n"
     ]
    },
    {
     "name": "stderr",
     "output_type": "stream",
     "text": [
      " train_acc_hybrid: 9.94e-01 | val_acc_hybrid: 7.92e-01 |: 100%|███| 120/120 [07:38<00:00,  3.82s/it]\n"
     ]
    },
    {
     "name": "stdout",
     "output_type": "stream",
     "text": [
      "saving model version 0.1\n",
      "✅ Best validation Accuracy: 8.2589e-01 at 67 epoch\n",
      "avg_acc 0.8012820482254028\n",
      "Testing 6 hidden neurons, lamb=1e-07, grid=7\n",
      "checkpoint directory created: ./model\n",
      "saving model version 0.0\n",
      "checkpoint directory created: ./model\n",
      "saving model version 0.0\n",
      "Successfully created and tested Model3\n"
     ]
    },
    {
     "name": "stderr",
     "output_type": "stream",
     "text": [
      " train_acc_hybrid: 9.95e-01 | val_acc_hybrid: 8.03e-01 |: 100%|███| 120/120 [07:36<00:00,  3.81s/it]\n"
     ]
    },
    {
     "name": "stdout",
     "output_type": "stream",
     "text": [
      "saving model version 0.1\n",
      "✅ Best validation Accuracy: 8.5338e-01 at 33 epoch\n",
      "avg_acc 0.8296703100204468\n",
      "Testing 6 hidden neurons, lamb=0.01, grid=8\n",
      "checkpoint directory created: ./model\n",
      "saving model version 0.0\n",
      "checkpoint directory created: ./model\n",
      "saving model version 0.0\n",
      "Successfully created and tested Model3\n"
     ]
    },
    {
     "name": "stderr",
     "output_type": "stream",
     "text": [
      " train_acc_hybrid: 9.13e-01 | val_acc_hybrid: 9.00e-01 |: 100%|███| 120/120 [07:46<00:00,  3.89s/it]\n"
     ]
    },
    {
     "name": "stdout",
     "output_type": "stream",
     "text": [
      "saving model version 0.1\n",
      "✅ Best validation Accuracy: 9.0493e-01 at 44 epoch\n",
      "avg_acc 0.8965201377868652\n",
      "Testing 6 hidden neurons, lamb=0.001, grid=8\n",
      "checkpoint directory created: ./model\n",
      "saving model version 0.0\n",
      "checkpoint directory created: ./model\n",
      "saving model version 0.0\n",
      "Successfully created and tested Model3\n"
     ]
    },
    {
     "name": "stderr",
     "output_type": "stream",
     "text": [
      " train_acc_hybrid: 9.94e-01 | val_acc_hybrid: 9.08e-01 |: 100%|███| 120/120 [07:47<00:00,  3.90s/it]\n"
     ]
    },
    {
     "name": "stdout",
     "output_type": "stream",
     "text": [
      "saving model version 0.1\n",
      "✅ Best validation Accuracy: 9.3127e-01 at 14 epoch\n",
      "avg_acc 0.9047619104385376\n",
      "Testing 6 hidden neurons, lamb=0.0001, grid=8\n",
      "checkpoint directory created: ./model\n",
      "saving model version 0.0\n",
      "checkpoint directory created: ./model\n",
      "saving model version 0.0\n",
      "Successfully created and tested Model3\n"
     ]
    },
    {
     "name": "stderr",
     "output_type": "stream",
     "text": [
      " train_acc_hybrid: 9.99e-01 | val_acc_hybrid: 8.65e-01 |: 100%|███| 120/120 [08:01<00:00,  4.02s/it]\n"
     ]
    },
    {
     "name": "stdout",
     "output_type": "stream",
     "text": [
      "saving model version 0.1\n",
      "✅ Best validation Accuracy: 9.1523e-01 at 27 epoch\n",
      "avg_acc 0.9056776762008667\n",
      "Testing 6 hidden neurons, lamb=1e-05, grid=8\n",
      "checkpoint directory created: ./model\n",
      "saving model version 0.0\n",
      "checkpoint directory created: ./model\n",
      "saving model version 0.0\n",
      "Successfully created and tested Model3\n"
     ]
    },
    {
     "name": "stderr",
     "output_type": "stream",
     "text": [
      " train_acc_hybrid: 9.99e-01 | val_acc_hybrid: 8.40e-01 |: 100%|███| 120/120 [07:59<00:00,  3.99s/it]\n"
     ]
    },
    {
     "name": "stdout",
     "output_type": "stream",
     "text": [
      "saving model version 0.1\n",
      "✅ Best validation Accuracy: 9.0607e-01 at 20 epoch\n",
      "avg_acc 0.9075091481208801\n",
      "Testing 6 hidden neurons, lamb=1e-06, grid=8\n",
      "checkpoint directory created: ./model\n",
      "saving model version 0.0\n",
      "checkpoint directory created: ./model\n",
      "saving model version 0.0\n",
      "Successfully created and tested Model3\n"
     ]
    },
    {
     "name": "stderr",
     "output_type": "stream",
     "text": [
      " train_acc_hybrid: 9.99e-01 | val_acc_hybrid: 7.96e-01 |: 100%|███| 120/120 [07:53<00:00,  3.94s/it]\n"
     ]
    },
    {
     "name": "stdout",
     "output_type": "stream",
     "text": [
      "saving model version 0.1\n",
      "✅ Best validation Accuracy: 9.0493e-01 at 13 epoch\n",
      "avg_acc 0.9084249138832092\n",
      "Testing 6 hidden neurons, lamb=1e-07, grid=8\n",
      "checkpoint directory created: ./model\n",
      "saving model version 0.0\n",
      "checkpoint directory created: ./model\n",
      "saving model version 0.0\n",
      "Successfully created and tested Model3\n"
     ]
    },
    {
     "name": "stderr",
     "output_type": "stream",
     "text": [
      " train_acc_hybrid: 9.99e-01 | val_acc_hybrid: 8.24e-01 |: 100%|███| 120/120 [08:00<00:00,  4.01s/it]\n"
     ]
    },
    {
     "name": "stdout",
     "output_type": "stream",
     "text": [
      "saving model version 0.1\n",
      "✅ Best validation Accuracy: 9.1409e-01 at 14 epoch\n",
      "avg_acc 0.91300368309021\n",
      "Testing 7 hidden neurons, lamb=0.01, grid=3\n",
      "checkpoint directory created: ./model\n",
      "saving model version 0.0\n",
      "checkpoint directory created: ./model\n",
      "saving model version 0.0\n",
      "Successfully created and tested Model3\n"
     ]
    },
    {
     "name": "stderr",
     "output_type": "stream",
     "text": [
      " train_acc_hybrid: 6.19e-01 | val_acc_hybrid: 6.09e-01 |: 100%|███| 120/120 [03:47<00:00,  1.89s/it]\n"
     ]
    },
    {
     "name": "stdout",
     "output_type": "stream",
     "text": [
      "saving model version 0.1\n",
      "✅ Best validation Accuracy: 6.2314e-01 at 28 epoch\n",
      "avg_acc 0.6254578828811646\n",
      "Testing 7 hidden neurons, lamb=0.001, grid=3\n",
      "checkpoint directory created: ./model\n",
      "saving model version 0.0\n",
      "checkpoint directory created: ./model\n",
      "saving model version 0.0\n",
      "Successfully created and tested Model3\n"
     ]
    },
    {
     "name": "stderr",
     "output_type": "stream",
     "text": [
      " train_acc_hybrid: 9.18e-01 | val_acc_hybrid: 8.58e-01 |: 100%|███| 120/120 [05:43<00:00,  2.86s/it]\n"
     ]
    },
    {
     "name": "stdout",
     "output_type": "stream",
     "text": [
      "saving model version 0.1\n",
      "✅ Best validation Accuracy: 8.6483e-01 at 63 epoch\n",
      "avg_acc 0.8589743375778198\n",
      "Testing 7 hidden neurons, lamb=0.0001, grid=3\n",
      "checkpoint directory created: ./model\n",
      "saving model version 0.0\n",
      "checkpoint directory created: ./model\n",
      "saving model version 0.0\n",
      "Successfully created and tested Model3\n"
     ]
    },
    {
     "name": "stderr",
     "output_type": "stream",
     "text": [
      " train_acc_hybrid: 9.44e-01 | val_acc_hybrid: 8.50e-01 |: 100%|███| 120/120 [05:48<00:00,  2.90s/it]\n"
     ]
    },
    {
     "name": "stdout",
     "output_type": "stream",
     "text": [
      "saving model version 0.1\n",
      "✅ Best validation Accuracy: 8.5338e-01 at 109 epoch\n",
      "avg_acc 0.8470696210861206\n",
      "Testing 7 hidden neurons, lamb=1e-05, grid=3\n",
      "checkpoint directory created: ./model\n",
      "saving model version 0.0\n",
      "checkpoint directory created: ./model\n",
      "saving model version 0.0\n",
      "Successfully created and tested Model3\n"
     ]
    },
    {
     "name": "stderr",
     "output_type": "stream",
     "text": [
      " train_acc_hybrid: 9.02e-01 | val_acc_hybrid: 8.09e-01 |: 100%|███| 120/120 [05:42<00:00,  2.85s/it]\n"
     ]
    },
    {
     "name": "stdout",
     "output_type": "stream",
     "text": [
      "saving model version 0.1\n",
      "✅ Best validation Accuracy: 8.0871e-01 at 84 epoch\n",
      "avg_acc 0.8141025900840759\n",
      "Testing 7 hidden neurons, lamb=1e-06, grid=3\n",
      "checkpoint directory created: ./model\n",
      "saving model version 0.0\n",
      "checkpoint directory created: ./model\n",
      "saving model version 0.0\n",
      "Successfully created and tested Model3\n"
     ]
    },
    {
     "name": "stderr",
     "output_type": "stream",
     "text": [
      " train_acc_hybrid: 9.53e-01 | val_acc_hybrid: 8.40e-01 |: 100%|███| 120/120 [05:44<00:00,  2.87s/it]\n"
     ]
    },
    {
     "name": "stdout",
     "output_type": "stream",
     "text": [
      "saving model version 0.1\n",
      "✅ Best validation Accuracy: 8.5338e-01 at 103 epoch\n",
      "avg_acc 0.8397436141967773\n",
      "Testing 7 hidden neurons, lamb=1e-07, grid=3\n",
      "checkpoint directory created: ./model\n",
      "saving model version 0.0\n",
      "checkpoint directory created: ./model\n",
      "saving model version 0.0\n",
      "Successfully created and tested Model3\n"
     ]
    },
    {
     "name": "stderr",
     "output_type": "stream",
     "text": [
      " train_acc_hybrid: 8.59e-01 | val_acc_hybrid: 8.21e-01 |: 100%|███| 120/120 [05:56<00:00,  2.97s/it]\n"
     ]
    },
    {
     "name": "stdout",
     "output_type": "stream",
     "text": [
      "saving model version 0.1\n",
      "✅ Best validation Accuracy: 8.2131e-01 at 119 epoch\n",
      "avg_acc 0.8086080551147461\n",
      "Testing 7 hidden neurons, lamb=0.01, grid=4\n",
      "checkpoint directory created: ./model\n",
      "saving model version 0.0\n",
      "checkpoint directory created: ./model\n",
      "saving model version 0.0\n",
      "Successfully created and tested Model3\n"
     ]
    },
    {
     "name": "stderr",
     "output_type": "stream",
     "text": [
      " train_acc_hybrid: 6.78e-01 | val_acc_hybrid: 6.53e-01 |: 100%|███| 120/120 [06:07<00:00,  3.06s/it]\n"
     ]
    },
    {
     "name": "stdout",
     "output_type": "stream",
     "text": [
      "saving model version 0.1\n",
      "✅ Best validation Accuracy: 6.6094e-01 at 46 epoch\n",
      "avg_acc 0.66300368309021\n",
      "Testing 7 hidden neurons, lamb=0.001, grid=4\n",
      "checkpoint directory created: ./model\n",
      "saving model version 0.0\n",
      "checkpoint directory created: ./model\n",
      "saving model version 0.0\n",
      "Successfully created and tested Model3\n"
     ]
    },
    {
     "name": "stderr",
     "output_type": "stream",
     "text": [
      " train_acc_hybrid: 9.51e-01 | val_acc_hybrid: 8.83e-01 |: 100%|███| 120/120 [06:09<00:00,  3.08s/it]\n"
     ]
    },
    {
     "name": "stdout",
     "output_type": "stream",
     "text": [
      "saving model version 0.1\n",
      "✅ Best validation Accuracy: 8.8431e-01 at 111 epoch\n",
      "avg_acc 0.8626373410224915\n",
      "Testing 7 hidden neurons, lamb=0.0001, grid=4\n",
      "checkpoint directory created: ./model\n",
      "saving model version 0.0\n",
      "checkpoint directory created: ./model\n",
      "saving model version 0.0\n",
      "Successfully created and tested Model3\n"
     ]
    },
    {
     "name": "stderr",
     "output_type": "stream",
     "text": [
      " train_acc_hybrid: 9.56e-01 | val_acc_hybrid: 8.53e-01 |: 100%|███| 120/120 [06:17<00:00,  3.14s/it]\n"
     ]
    },
    {
     "name": "stdout",
     "output_type": "stream",
     "text": [
      "saving model version 0.1\n",
      "✅ Best validation Accuracy: 8.5682e-01 at 75 epoch\n",
      "avg_acc 0.8296703100204468\n",
      "Testing 7 hidden neurons, lamb=1e-05, grid=4\n",
      "checkpoint directory created: ./model\n",
      "saving model version 0.0\n",
      "checkpoint directory created: ./model\n",
      "saving model version 0.0\n",
      "Successfully created and tested Model3\n"
     ]
    },
    {
     "name": "stderr",
     "output_type": "stream",
     "text": [
      " train_acc_hybrid: 9.42e-01 | val_acc_hybrid: 8.37e-01 |: 100%|███| 120/120 [06:17<00:00,  3.15s/it]\n"
     ]
    },
    {
     "name": "stdout",
     "output_type": "stream",
     "text": [
      "saving model version 0.1\n",
      "✅ Best validation Accuracy: 8.3963e-01 at 74 epoch\n",
      "avg_acc 0.8388278484344482\n",
      "Testing 7 hidden neurons, lamb=1e-06, grid=4\n",
      "checkpoint directory created: ./model\n",
      "saving model version 0.0\n",
      "checkpoint directory created: ./model\n",
      "saving model version 0.0\n",
      "Successfully created and tested Model3\n"
     ]
    },
    {
     "name": "stderr",
     "output_type": "stream",
     "text": [
      " train_acc_hybrid: 9.41e-01 | val_acc_hybrid: 8.20e-01 |: 100%|███| 120/120 [06:20<00:00,  3.17s/it]\n"
     ]
    },
    {
     "name": "stdout",
     "output_type": "stream",
     "text": [
      "saving model version 0.1\n",
      "✅ Best validation Accuracy: 8.3276e-01 at 93 epoch\n",
      "avg_acc 0.8186812996864319\n",
      "Testing 7 hidden neurons, lamb=1e-07, grid=4\n",
      "checkpoint directory created: ./model\n",
      "saving model version 0.0\n",
      "checkpoint directory created: ./model\n",
      "saving model version 0.0\n",
      "Successfully created and tested Model3\n"
     ]
    },
    {
     "name": "stderr",
     "output_type": "stream",
     "text": [
      " train_acc_hybrid: 9.54e-01 | val_acc_hybrid: 8.51e-01 |: 100%|███| 120/120 [06:13<00:00,  3.11s/it]\n"
     ]
    },
    {
     "name": "stdout",
     "output_type": "stream",
     "text": [
      "saving model version 0.1\n",
      "✅ Best validation Accuracy: 8.5567e-01 at 107 epoch\n",
      "avg_acc 0.8360806107521057\n",
      "Testing 7 hidden neurons, lamb=0.01, grid=5\n",
      "checkpoint directory created: ./model\n",
      "saving model version 0.0\n",
      "checkpoint directory created: ./model\n",
      "saving model version 0.0\n",
      "Successfully created and tested Model3\n"
     ]
    },
    {
     "name": "stderr",
     "output_type": "stream",
     "text": [
      " train_acc_hybrid: 7.16e-01 | val_acc_hybrid: 6.88e-01 |: 100%|███| 120/120 [04:40<00:00,  2.34s/it]\n"
     ]
    },
    {
     "name": "stdout",
     "output_type": "stream",
     "text": [
      "saving model version 0.1\n",
      "✅ Best validation Accuracy: 6.8958e-01 at 31 epoch\n",
      "avg_acc 0.6978021860122681\n",
      "Testing 7 hidden neurons, lamb=0.001, grid=5\n",
      "checkpoint directory created: ./model\n",
      "saving model version 0.0\n",
      "checkpoint directory created: ./model\n",
      "saving model version 0.0\n",
      "Successfully created and tested Model3\n"
     ]
    },
    {
     "name": "stderr",
     "output_type": "stream",
     "text": [
      " train_acc_hybrid: 9.79e-01 | val_acc_hybrid: 8.66e-01 |: 100%|███| 120/120 [06:46<00:00,  3.39s/it]\n"
     ]
    },
    {
     "name": "stdout",
     "output_type": "stream",
     "text": [
      "saving model version 0.1\n",
      "✅ Best validation Accuracy: 8.7858e-01 at 84 epoch\n",
      "avg_acc 0.8708791136741638\n",
      "Testing 7 hidden neurons, lamb=0.0001, grid=5\n",
      "checkpoint directory created: ./model\n",
      "saving model version 0.0\n",
      "checkpoint directory created: ./model\n",
      "saving model version 0.0\n",
      "Successfully created and tested Model3\n"
     ]
    },
    {
     "name": "stderr",
     "output_type": "stream",
     "text": [
      " train_acc_hybrid: 9.76e-01 | val_acc_hybrid: 8.51e-01 |: 100%|███| 120/120 [06:53<00:00,  3.45s/it]\n"
     ]
    },
    {
     "name": "stdout",
     "output_type": "stream",
     "text": [
      "saving model version 0.1\n",
      "✅ Best validation Accuracy: 8.6942e-01 at 102 epoch\n",
      "avg_acc 0.8598901033401489\n",
      "Testing 7 hidden neurons, lamb=1e-05, grid=5\n",
      "checkpoint directory created: ./model\n",
      "saving model version 0.0\n",
      "checkpoint directory created: ./model\n",
      "saving model version 0.0\n",
      "Successfully created and tested Model3\n"
     ]
    },
    {
     "name": "stderr",
     "output_type": "stream",
     "text": [
      " train_acc_hybrid: 9.24e-01 | val_acc_hybrid: 8.36e-01 |: 100%|███| 120/120 [06:50<00:00,  3.42s/it]\n"
     ]
    },
    {
     "name": "stdout",
     "output_type": "stream",
     "text": [
      "saving model version 0.1\n",
      "✅ Best validation Accuracy: 8.4765e-01 at 103 epoch\n",
      "avg_acc 0.8287546038627625\n",
      "Testing 7 hidden neurons, lamb=1e-06, grid=5\n",
      "checkpoint directory created: ./model\n",
      "saving model version 0.0\n",
      "checkpoint directory created: ./model\n",
      "saving model version 0.0\n",
      "Successfully created and tested Model3\n"
     ]
    },
    {
     "name": "stderr",
     "output_type": "stream",
     "text": [
      " train_acc_hybrid: 9.78e-01 | val_acc_hybrid: 8.18e-01 |: 100%|███| 120/120 [06:54<00:00,  3.46s/it]\n"
     ]
    },
    {
     "name": "stdout",
     "output_type": "stream",
     "text": [
      "saving model version 0.1\n",
      "✅ Best validation Accuracy: 8.4994e-01 at 81 epoch\n",
      "avg_acc 0.8205128312110901\n",
      "Testing 7 hidden neurons, lamb=1e-07, grid=5\n",
      "checkpoint directory created: ./model\n",
      "saving model version 0.0\n",
      "checkpoint directory created: ./model\n",
      "saving model version 0.0\n",
      "Successfully created and tested Model3\n"
     ]
    },
    {
     "name": "stderr",
     "output_type": "stream",
     "text": [
      " train_acc_hybrid: 9.05e-01 | val_acc_hybrid: 8.40e-01 |: 100%|███| 120/120 [07:24<00:00,  3.70s/it]\n"
     ]
    },
    {
     "name": "stdout",
     "output_type": "stream",
     "text": [
      "saving model version 0.1\n",
      "✅ Best validation Accuracy: 8.3963e-01 at 119 epoch\n",
      "avg_acc 0.8397436141967773\n",
      "Testing 7 hidden neurons, lamb=0.01, grid=6\n",
      "checkpoint directory created: ./model\n",
      "saving model version 0.0\n",
      "checkpoint directory created: ./model\n",
      "saving model version 0.0\n",
      "Successfully created and tested Model3\n"
     ]
    },
    {
     "name": "stderr",
     "output_type": "stream",
     "text": [
      " train_acc_hybrid: 8.15e-01 | val_acc_hybrid: 7.37e-01 |: 100%|███| 120/120 [07:51<00:00,  3.93s/it]\n"
     ]
    },
    {
     "name": "stdout",
     "output_type": "stream",
     "text": [
      "saving model version 0.1\n",
      "✅ Best validation Accuracy: 7.3654e-01 at 116 epoch\n",
      "avg_acc 0.7719780206680298\n",
      "Testing 7 hidden neurons, lamb=0.001, grid=6\n",
      "checkpoint directory created: ./model\n",
      "saving model version 0.0\n",
      "checkpoint directory created: ./model\n",
      "saving model version 0.0\n",
      "Successfully created and tested Model3\n"
     ]
    },
    {
     "name": "stderr",
     "output_type": "stream",
     "text": [
      " train_acc_hybrid: 9.87e-01 | val_acc_hybrid: 9.01e-01 |: 100%|███| 120/120 [07:32<00:00,  3.77s/it]\n"
     ]
    },
    {
     "name": "stdout",
     "output_type": "stream",
     "text": [
      "saving model version 0.1\n",
      "✅ Best validation Accuracy: 9.0836e-01 at 97 epoch\n",
      "avg_acc 0.8992673754692078\n",
      "Testing 7 hidden neurons, lamb=0.0001, grid=6\n",
      "checkpoint directory created: ./model\n",
      "saving model version 0.0\n",
      "checkpoint directory created: ./model\n",
      "saving model version 0.0\n",
      "Successfully created and tested Model3\n"
     ]
    },
    {
     "name": "stderr",
     "output_type": "stream",
     "text": [
      " train_acc_hybrid: 9.73e-01 | val_acc_hybrid: 8.45e-01 |: 100%|███| 120/120 [07:19<00:00,  3.66s/it]\n"
     ]
    },
    {
     "name": "stdout",
     "output_type": "stream",
     "text": [
      "saving model version 0.1\n",
      "✅ Best validation Accuracy: 8.5452e-01 at 115 epoch\n",
      "avg_acc 0.8260073065757751\n",
      "Testing 7 hidden neurons, lamb=1e-05, grid=6\n",
      "checkpoint directory created: ./model\n",
      "saving model version 0.0\n",
      "checkpoint directory created: ./model\n",
      "saving model version 0.0\n",
      "Successfully created and tested Model3\n"
     ]
    },
    {
     "name": "stderr",
     "output_type": "stream",
     "text": [
      " train_acc_hybrid: 9.97e-01 | val_acc_hybrid: 7.98e-01 |: 100%|███| 120/120 [07:56<00:00,  3.97s/it]\n"
     ]
    },
    {
     "name": "stdout",
     "output_type": "stream",
     "text": [
      "saving model version 0.1\n",
      "✅ Best validation Accuracy: 8.9576e-01 at 14 epoch\n",
      "avg_acc 0.8965201377868652\n",
      "Testing 7 hidden neurons, lamb=1e-06, grid=6\n",
      "checkpoint directory created: ./model\n",
      "saving model version 0.0\n",
      "checkpoint directory created: ./model\n",
      "saving model version 0.0\n",
      "Successfully created and tested Model3\n"
     ]
    },
    {
     "name": "stderr",
     "output_type": "stream",
     "text": [
      " train_acc_hybrid: 9.98e-01 | val_acc_hybrid: 7.73e-01 |: 100%|███| 120/120 [07:33<00:00,  3.78s/it]\n"
     ]
    },
    {
     "name": "stdout",
     "output_type": "stream",
     "text": [
      "saving model version 0.1\n",
      "✅ Best validation Accuracy: 8.8660e-01 at 16 epoch\n",
      "avg_acc 0.8708791136741638\n",
      "Testing 7 hidden neurons, lamb=1e-07, grid=6\n",
      "checkpoint directory created: ./model\n",
      "saving model version 0.0\n",
      "checkpoint directory created: ./model\n",
      "saving model version 0.0\n",
      "Successfully created and tested Model3\n"
     ]
    },
    {
     "name": "stderr",
     "output_type": "stream",
     "text": [
      " train_acc_hybrid: 9.99e-01 | val_acc_hybrid: 7.50e-01 |: 100%|███| 120/120 [07:42<00:00,  3.85s/it]\n"
     ]
    },
    {
     "name": "stdout",
     "output_type": "stream",
     "text": [
      "saving model version 0.1\n",
      "✅ Best validation Accuracy: 8.7973e-01 at 13 epoch\n",
      "avg_acc 0.8873626589775085\n",
      "Testing 7 hidden neurons, lamb=0.01, grid=7\n",
      "checkpoint directory created: ./model\n",
      "saving model version 0.0\n",
      "checkpoint directory created: ./model\n",
      "saving model version 0.0\n",
      "Successfully created and tested Model3\n"
     ]
    },
    {
     "name": "stderr",
     "output_type": "stream",
     "text": [
      " train_acc_hybrid: 7.67e-01 | val_acc_hybrid: 7.23e-01 |: 100%|███| 120/120 [08:09<00:00,  4.08s/it]\n"
     ]
    },
    {
     "name": "stdout",
     "output_type": "stream",
     "text": [
      "saving model version 0.1\n",
      "✅ Best validation Accuracy: 7.2394e-01 at 117 epoch\n",
      "avg_acc 0.738095223903656\n",
      "Testing 7 hidden neurons, lamb=0.001, grid=7\n",
      "checkpoint directory created: ./model\n",
      "saving model version 0.0\n",
      "checkpoint directory created: ./model\n",
      "saving model version 0.0\n",
      "Successfully created and tested Model3\n"
     ]
    },
    {
     "name": "stderr",
     "output_type": "stream",
     "text": [
      " train_acc_hybrid: 9.92e-01 | val_acc_hybrid: 8.81e-01 |: 100%|███| 120/120 [07:55<00:00,  3.96s/it]\n"
     ]
    },
    {
     "name": "stdout",
     "output_type": "stream",
     "text": [
      "saving model version 0.1\n",
      "✅ Best validation Accuracy: 9.3127e-01 at 21 epoch\n",
      "avg_acc 0.9166666865348816\n",
      "Testing 7 hidden neurons, lamb=0.0001, grid=7\n",
      "checkpoint directory created: ./model\n",
      "saving model version 0.0\n",
      "checkpoint directory created: ./model\n",
      "saving model version 0.0\n",
      "Successfully created and tested Model3\n"
     ]
    },
    {
     "name": "stderr",
     "output_type": "stream",
     "text": [
      " train_acc_hybrid: 9.99e-01 | val_acc_hybrid: 7.93e-01 |: 100%|███| 120/120 [07:48<00:00,  3.90s/it]\n"
     ]
    },
    {
     "name": "stdout",
     "output_type": "stream",
     "text": [
      "saving model version 0.1\n",
      "✅ Best validation Accuracy: 8.7973e-01 at 13 epoch\n",
      "avg_acc 0.8571428656578064\n",
      "Testing 7 hidden neurons, lamb=1e-05, grid=7\n",
      "checkpoint directory created: ./model\n",
      "saving model version 0.0\n",
      "checkpoint directory created: ./model\n",
      "saving model version 0.0\n",
      "Successfully created and tested Model3\n"
     ]
    },
    {
     "name": "stderr",
     "output_type": "stream",
     "text": [
      " train_acc_hybrid: 9.92e-01 | val_acc_hybrid: 8.60e-01 |: 100%|███| 120/120 [08:15<00:00,  4.13s/it]\n"
     ]
    },
    {
     "name": "stdout",
     "output_type": "stream",
     "text": [
      "saving model version 0.1\n",
      "✅ Best validation Accuracy: 9.1065e-01 at 68 epoch\n",
      "avg_acc 0.8873626589775085\n",
      "Testing 7 hidden neurons, lamb=1e-06, grid=7\n",
      "checkpoint directory created: ./model\n",
      "saving model version 0.0\n",
      "checkpoint directory created: ./model\n",
      "saving model version 0.0\n",
      "Successfully created and tested Model3\n"
     ]
    },
    {
     "name": "stderr",
     "output_type": "stream",
     "text": [
      " train_acc_hybrid: 9.97e-01 | val_acc_hybrid: 8.37e-01 |: 100%|███| 120/120 [08:01<00:00,  4.01s/it]\n"
     ]
    },
    {
     "name": "stdout",
     "output_type": "stream",
     "text": [
      "saving model version 0.1\n",
      "✅ Best validation Accuracy: 8.8431e-01 at 24 epoch\n",
      "avg_acc 0.8873626589775085\n",
      "Testing 7 hidden neurons, lamb=1e-07, grid=7\n",
      "checkpoint directory created: ./model\n",
      "saving model version 0.0\n",
      "checkpoint directory created: ./model\n",
      "saving model version 0.0\n",
      "Successfully created and tested Model3\n"
     ]
    },
    {
     "name": "stderr",
     "output_type": "stream",
     "text": [
      " train_acc_hybrid: 9.99e-01 | val_acc_hybrid: 7.88e-01 |: 100%|███| 120/120 [07:48<00:00,  3.91s/it]\n"
     ]
    },
    {
     "name": "stdout",
     "output_type": "stream",
     "text": [
      "saving model version 0.1\n",
      "✅ Best validation Accuracy: 9.1294e-01 at 11 epoch\n",
      "avg_acc 0.9029303789138794\n",
      "Testing 7 hidden neurons, lamb=0.01, grid=8\n",
      "checkpoint directory created: ./model\n",
      "saving model version 0.0\n",
      "checkpoint directory created: ./model\n",
      "saving model version 0.0\n",
      "Successfully created and tested Model3\n"
     ]
    },
    {
     "name": "stderr",
     "output_type": "stream",
     "text": [
      " train_acc_hybrid: 9.33e-01 | val_acc_hybrid: 8.64e-01 |: 100%|███| 120/120 [08:20<00:00,  4.17s/it]\n"
     ]
    },
    {
     "name": "stdout",
     "output_type": "stream",
     "text": [
      "saving model version 0.1\n",
      "✅ Best validation Accuracy: 8.7171e-01 at 22 epoch\n",
      "avg_acc 0.8672161102294922\n",
      "Testing 7 hidden neurons, lamb=0.001, grid=8\n",
      "checkpoint directory created: ./model\n",
      "saving model version 0.0\n",
      "checkpoint directory created: ./model\n",
      "saving model version 0.0\n",
      "Successfully created and tested Model3\n"
     ]
    },
    {
     "name": "stderr",
     "output_type": "stream",
     "text": [
      " train_acc_hybrid: 9.94e-01 | val_acc_hybrid: 9.14e-01 |: 100%|███| 120/120 [08:24<00:00,  4.20s/it]\n"
     ]
    },
    {
     "name": "stdout",
     "output_type": "stream",
     "text": [
      "saving model version 0.1\n",
      "✅ Best validation Accuracy: 9.4044e-01 at 38 epoch\n",
      "avg_acc 0.9368131756782532\n",
      "Testing 7 hidden neurons, lamb=0.0001, grid=8\n",
      "checkpoint directory created: ./model\n",
      "saving model version 0.0\n",
      "checkpoint directory created: ./model\n",
      "saving model version 0.0\n",
      "Successfully created and tested Model3\n"
     ]
    },
    {
     "name": "stderr",
     "output_type": "stream",
     "text": [
      " train_acc_hybrid: 9.95e-01 | val_acc_hybrid: 8.36e-01 |: 100%|███| 120/120 [08:27<00:00,  4.23s/it]\n"
     ]
    },
    {
     "name": "stdout",
     "output_type": "stream",
     "text": [
      "saving model version 0.1\n",
      "✅ Best validation Accuracy: 8.6369e-01 at 62 epoch\n",
      "avg_acc 0.8653846383094788\n",
      "Testing 7 hidden neurons, lamb=1e-05, grid=8\n",
      "checkpoint directory created: ./model\n",
      "saving model version 0.0\n",
      "checkpoint directory created: ./model\n",
      "saving model version 0.0\n",
      "Successfully created and tested Model3\n"
     ]
    },
    {
     "name": "stderr",
     "output_type": "stream",
     "text": [
      " train_acc_hybrid: 9.95e-01 | val_acc_hybrid: 8.77e-01 |: 100%|███| 120/120 [08:27<00:00,  4.23s/it]\n"
     ]
    },
    {
     "name": "stdout",
     "output_type": "stream",
     "text": [
      "saving model version 0.1\n",
      "✅ Best validation Accuracy: 8.9118e-01 at 74 epoch\n",
      "avg_acc 0.8736263513565063\n",
      "Testing 7 hidden neurons, lamb=1e-06, grid=8\n",
      "checkpoint directory created: ./model\n",
      "saving model version 0.0\n",
      "checkpoint directory created: ./model\n",
      "saving model version 0.0\n",
      "Successfully created and tested Model3\n"
     ]
    },
    {
     "name": "stderr",
     "output_type": "stream",
     "text": [
      " train_acc_hybrid: 9.96e-01 | val_acc_hybrid: 8.00e-01 |: 100%|███| 120/120 [08:27<00:00,  4.23s/it]\n"
     ]
    },
    {
     "name": "stdout",
     "output_type": "stream",
     "text": [
      "saving model version 0.1\n",
      "✅ Best validation Accuracy: 8.6827e-01 at 29 epoch\n",
      "avg_acc 0.8553113341331482\n",
      "Testing 7 hidden neurons, lamb=1e-07, grid=8\n",
      "checkpoint directory created: ./model\n",
      "saving model version 0.0\n",
      "checkpoint directory created: ./model\n",
      "saving model version 0.0\n",
      "Successfully created and tested Model3\n"
     ]
    },
    {
     "name": "stderr",
     "output_type": "stream",
     "text": [
      " train_acc_hybrid: 9.90e-01 | val_acc_hybrid: 8.16e-01 |: 100%|███| 120/120 [08:37<00:00,  4.31s/it]\n"
     ]
    },
    {
     "name": "stdout",
     "output_type": "stream",
     "text": [
      "saving model version 0.1\n",
      "✅ Best validation Accuracy: 8.3391e-01 at 88 epoch\n",
      "avg_acc 0.8186812996864319\n",
      "Testing 8 hidden neurons, lamb=0.01, grid=3\n",
      "checkpoint directory created: ./model\n",
      "saving model version 0.0\n",
      "checkpoint directory created: ./model\n",
      "saving model version 0.0\n",
      "Successfully created and tested Model3\n"
     ]
    },
    {
     "name": "stderr",
     "output_type": "stream",
     "text": [
      " train_acc_hybrid: 6.14e-01 | val_acc_hybrid: 6.40e-01 |: 100%|███| 120/120 [05:43<00:00,  2.87s/it]\n"
     ]
    },
    {
     "name": "stdout",
     "output_type": "stream",
     "text": [
      "saving model version 0.1\n",
      "✅ Best validation Accuracy: 6.4605e-01 at 61 epoch\n",
      "avg_acc 0.6254578828811646\n",
      "Testing 8 hidden neurons, lamb=0.001, grid=3\n",
      "checkpoint directory created: ./model\n",
      "saving model version 0.0\n",
      "checkpoint directory created: ./model\n",
      "saving model version 0.0\n",
      "Successfully created and tested Model3\n"
     ]
    },
    {
     "name": "stderr",
     "output_type": "stream",
     "text": [
      " train_acc_hybrid: 9.20e-01 | val_acc_hybrid: 8.64e-01 |: 100%|███| 120/120 [05:57<00:00,  2.98s/it]\n"
     ]
    },
    {
     "name": "stdout",
     "output_type": "stream",
     "text": [
      "saving model version 0.1\n",
      "✅ Best validation Accuracy: 8.6483e-01 at 111 epoch\n",
      "avg_acc 0.8507326245307922\n",
      "Testing 8 hidden neurons, lamb=0.0001, grid=3\n",
      "checkpoint directory created: ./model\n",
      "saving model version 0.0\n",
      "checkpoint directory created: ./model\n",
      "saving model version 0.0\n",
      "Successfully created and tested Model3\n"
     ]
    },
    {
     "name": "stderr",
     "output_type": "stream",
     "text": [
      " train_acc_hybrid: 9.33e-01 | val_acc_hybrid: 8.55e-01 |: 100%|███| 120/120 [06:09<00:00,  3.08s/it]\n"
     ]
    },
    {
     "name": "stdout",
     "output_type": "stream",
     "text": [
      "saving model version 0.1\n",
      "✅ Best validation Accuracy: 8.5796e-01 at 117 epoch\n",
      "avg_acc 0.8534798622131348\n",
      "Testing 8 hidden neurons, lamb=1e-05, grid=3\n",
      "checkpoint directory created: ./model\n",
      "saving model version 0.0\n",
      "checkpoint directory created: ./model\n",
      "saving model version 0.0\n",
      "Successfully created and tested Model3\n"
     ]
    },
    {
     "name": "stderr",
     "output_type": "stream",
     "text": [
      " train_acc_hybrid: 9.04e-01 | val_acc_hybrid: 8.26e-01 |: 100%|███| 120/120 [06:10<00:00,  3.08s/it]\n"
     ]
    },
    {
     "name": "stdout",
     "output_type": "stream",
     "text": [
      "saving model version 0.1\n",
      "✅ Best validation Accuracy: 8.3505e-01 at 112 epoch\n",
      "avg_acc 0.8333333134651184\n",
      "Testing 8 hidden neurons, lamb=1e-06, grid=3\n",
      "checkpoint directory created: ./model\n",
      "saving model version 0.0\n",
      "checkpoint directory created: ./model\n",
      "saving model version 0.0\n",
      "Successfully created and tested Model3\n"
     ]
    },
    {
     "name": "stderr",
     "output_type": "stream",
     "text": [
      " train_acc_hybrid: 9.28e-01 | val_acc_hybrid: 8.17e-01 |: 100%|███| 120/120 [06:08<00:00,  3.07s/it]\n"
     ]
    },
    {
     "name": "stdout",
     "output_type": "stream",
     "text": [
      "saving model version 0.1\n",
      "✅ Best validation Accuracy: 8.4307e-01 at 71 epoch\n",
      "avg_acc 0.8397436141967773\n",
      "Testing 8 hidden neurons, lamb=1e-07, grid=3\n",
      "checkpoint directory created: ./model\n",
      "saving model version 0.0\n",
      "checkpoint directory created: ./model\n",
      "saving model version 0.0\n",
      "Successfully created and tested Model3\n"
     ]
    },
    {
     "name": "stderr",
     "output_type": "stream",
     "text": [
      " train_acc_hybrid: 9.39e-01 | val_acc_hybrid: 8.22e-01 |: 100%|███| 120/120 [06:07<00:00,  3.06s/it]\n"
     ]
    },
    {
     "name": "stdout",
     "output_type": "stream",
     "text": [
      "saving model version 0.1\n",
      "✅ Best validation Accuracy: 8.4651e-01 at 100 epoch\n",
      "avg_acc 0.8406593203544617\n",
      "Testing 8 hidden neurons, lamb=0.01, grid=4\n",
      "checkpoint directory created: ./model\n",
      "saving model version 0.0\n",
      "checkpoint directory created: ./model\n",
      "saving model version 0.0\n",
      "Successfully created and tested Model3\n"
     ]
    },
    {
     "name": "stderr",
     "output_type": "stream",
     "text": [
      " train_acc_hybrid: 6.50e-01 | val_acc_hybrid: 6.31e-01 |: 100%|███| 120/120 [05:54<00:00,  2.95s/it]\n"
     ]
    },
    {
     "name": "stdout",
     "output_type": "stream",
     "text": [
      "saving model version 0.1\n",
      "✅ Best validation Accuracy: 6.4719e-01 at 24 epoch\n",
      "avg_acc 0.6291208863258362\n",
      "Testing 8 hidden neurons, lamb=0.001, grid=4\n",
      "checkpoint directory created: ./model\n",
      "saving model version 0.0\n",
      "checkpoint directory created: ./model\n",
      "saving model version 0.0\n",
      "Successfully created and tested Model3\n"
     ]
    },
    {
     "name": "stderr",
     "output_type": "stream",
     "text": [
      " train_acc_hybrid: 9.68e-01 | val_acc_hybrid: 8.50e-01 |: 100%|███| 120/120 [06:33<00:00,  3.28s/it]\n"
     ]
    },
    {
     "name": "stdout",
     "output_type": "stream",
     "text": [
      "saving model version 0.1\n",
      "✅ Best validation Accuracy: 8.7629e-01 at 53 epoch\n",
      "avg_acc 0.8690476417541504\n",
      "Testing 8 hidden neurons, lamb=0.0001, grid=4\n",
      "checkpoint directory created: ./model\n",
      "saving model version 0.0\n",
      "checkpoint directory created: ./model\n",
      "saving model version 0.0\n",
      "Successfully created and tested Model3\n"
     ]
    },
    {
     "name": "stderr",
     "output_type": "stream",
     "text": [
      " train_acc_hybrid: 9.60e-01 | val_acc_hybrid: 8.29e-01 |: 100%|███| 120/120 [06:30<00:00,  3.26s/it]\n"
     ]
    },
    {
     "name": "stdout",
     "output_type": "stream",
     "text": [
      "saving model version 0.1\n",
      "✅ Best validation Accuracy: 8.4536e-01 at 95 epoch\n",
      "avg_acc 0.8397436141967773\n",
      "Testing 8 hidden neurons, lamb=1e-05, grid=4\n",
      "checkpoint directory created: ./model\n",
      "saving model version 0.0\n",
      "checkpoint directory created: ./model\n",
      "saving model version 0.0\n",
      "Successfully created and tested Model3\n"
     ]
    },
    {
     "name": "stderr",
     "output_type": "stream",
     "text": [
      " train_acc_hybrid: 9.58e-01 | val_acc_hybrid: 8.09e-01 |: 100%|███| 120/120 [06:24<00:00,  3.21s/it]\n"
     ]
    },
    {
     "name": "stdout",
     "output_type": "stream",
     "text": [
      "saving model version 0.1\n",
      "✅ Best validation Accuracy: 8.2360e-01 at 80 epoch\n",
      "avg_acc 0.8305860757827759\n",
      "Testing 8 hidden neurons, lamb=1e-06, grid=4\n",
      "checkpoint directory created: ./model\n",
      "saving model version 0.0\n",
      "checkpoint directory created: ./model\n",
      "saving model version 0.0\n",
      "Successfully created and tested Model3\n"
     ]
    },
    {
     "name": "stderr",
     "output_type": "stream",
     "text": [
      " train_acc_hybrid: 9.45e-01 | val_acc_hybrid: 8.02e-01 |: 100%|███| 120/120 [06:13<00:00,  3.11s/it]\n"
     ]
    },
    {
     "name": "stdout",
     "output_type": "stream",
     "text": [
      "saving model version 0.1\n",
      "✅ Best validation Accuracy: 8.2818e-01 at 82 epoch\n",
      "avg_acc 0.8040292859077454\n",
      "Testing 8 hidden neurons, lamb=1e-07, grid=4\n",
      "checkpoint directory created: ./model\n",
      "saving model version 0.0\n",
      "checkpoint directory created: ./model\n",
      "saving model version 0.0\n",
      "Successfully created and tested Model3\n"
     ]
    },
    {
     "name": "stderr",
     "output_type": "stream",
     "text": [
      " train_acc_hybrid: 9.36e-01 | val_acc_hybrid: 8.34e-01 |: 100%|███| 120/120 [06:40<00:00,  3.33s/it]\n"
     ]
    },
    {
     "name": "stdout",
     "output_type": "stream",
     "text": [
      "saving model version 0.1\n",
      "✅ Best validation Accuracy: 8.3505e-01 at 76 epoch\n",
      "avg_acc 0.8177655935287476\n",
      "Testing 8 hidden neurons, lamb=0.01, grid=5\n",
      "checkpoint directory created: ./model\n",
      "saving model version 0.0\n",
      "checkpoint directory created: ./model\n",
      "saving model version 0.0\n",
      "Successfully created and tested Model3\n"
     ]
    },
    {
     "name": "stderr",
     "output_type": "stream",
     "text": [
      " train_acc_hybrid: 9.14e-01 | val_acc_hybrid: 8.82e-01 |: 100%|███| 120/120 [06:36<00:00,  3.30s/it]\n"
     ]
    },
    {
     "name": "stdout",
     "output_type": "stream",
     "text": [
      "saving model version 0.1\n",
      "✅ Best validation Accuracy: 8.8545e-01 at 72 epoch\n",
      "avg_acc 0.8846153616905212\n",
      "Testing 8 hidden neurons, lamb=0.001, grid=5\n",
      "checkpoint directory created: ./model\n",
      "saving model version 0.0\n",
      "checkpoint directory created: ./model\n",
      "saving model version 0.0\n",
      "Successfully created and tested Model3\n"
     ]
    },
    {
     "name": "stderr",
     "output_type": "stream",
     "text": [
      " train_acc_hybrid: 9.76e-01 | val_acc_hybrid: 8.67e-01 |: 100%|███| 120/120 [06:56<00:00,  3.47s/it]\n"
     ]
    },
    {
     "name": "stdout",
     "output_type": "stream",
     "text": [
      "saving model version 0.1\n",
      "✅ Best validation Accuracy: 8.9118e-01 at 47 epoch\n",
      "avg_acc 0.8836996555328369\n",
      "Testing 8 hidden neurons, lamb=0.0001, grid=5\n",
      "checkpoint directory created: ./model\n",
      "saving model version 0.0\n",
      "checkpoint directory created: ./model\n",
      "saving model version 0.0\n",
      "Successfully created and tested Model3\n"
     ]
    },
    {
     "name": "stderr",
     "output_type": "stream",
     "text": [
      " train_acc_hybrid: 9.94e-01 | val_acc_hybrid: 8.19e-01 |: 100%|███| 120/120 [07:00<00:00,  3.51s/it]\n"
     ]
    },
    {
     "name": "stdout",
     "output_type": "stream",
     "text": [
      "saving model version 0.1\n",
      "✅ Best validation Accuracy: 8.7973e-01 at 34 epoch\n",
      "avg_acc 0.8882783651351929\n",
      "Testing 8 hidden neurons, lamb=1e-05, grid=5\n",
      "checkpoint directory created: ./model\n",
      "saving model version 0.0\n",
      "checkpoint directory created: ./model\n",
      "saving model version 0.0\n",
      "Successfully created and tested Model3\n"
     ]
    },
    {
     "name": "stderr",
     "output_type": "stream",
     "text": [
      " train_acc_hybrid: 9.85e-01 | val_acc_hybrid: 8.19e-01 |: 100%|███| 120/120 [07:02<00:00,  3.52s/it]\n"
     ]
    },
    {
     "name": "stdout",
     "output_type": "stream",
     "text": [
      "saving model version 0.1\n",
      "✅ Best validation Accuracy: 8.7973e-01 at 42 epoch\n",
      "avg_acc 0.860805869102478\n",
      "Testing 8 hidden neurons, lamb=1e-06, grid=5\n",
      "checkpoint directory created: ./model\n",
      "saving model version 0.0\n",
      "checkpoint directory created: ./model\n",
      "saving model version 0.0\n",
      "Successfully created and tested Model3\n"
     ]
    },
    {
     "name": "stderr",
     "output_type": "stream",
     "text": [
      " train_acc_hybrid: 9.88e-01 | val_acc_hybrid: 8.32e-01 |: 100%|███| 120/120 [06:48<00:00,  3.40s/it]\n"
     ]
    },
    {
     "name": "stdout",
     "output_type": "stream",
     "text": [
      "saving model version 0.1\n",
      "✅ Best validation Accuracy: 8.7629e-01 at 57 epoch\n",
      "avg_acc 0.8553113341331482\n",
      "Testing 8 hidden neurons, lamb=1e-07, grid=5\n",
      "checkpoint directory created: ./model\n",
      "saving model version 0.0\n",
      "checkpoint directory created: ./model\n",
      "saving model version 0.0\n",
      "Successfully created and tested Model3\n"
     ]
    },
    {
     "name": "stderr",
     "output_type": "stream",
     "text": [
      " train_acc_hybrid: 9.91e-01 | val_acc_hybrid: 8.27e-01 |: 100%|███| 120/120 [06:49<00:00,  3.41s/it]\n"
     ]
    },
    {
     "name": "stdout",
     "output_type": "stream",
     "text": [
      "saving model version 0.1\n",
      "✅ Best validation Accuracy: 8.7629e-01 at 29 epoch\n",
      "avg_acc 0.8644688725471497\n",
      "Testing 8 hidden neurons, lamb=0.01, grid=6\n",
      "checkpoint directory created: ./model\n",
      "saving model version 0.0\n",
      "checkpoint directory created: ./model\n",
      "saving model version 0.0\n",
      "Successfully created and tested Model3\n"
     ]
    },
    {
     "name": "stderr",
     "output_type": "stream",
     "text": [
      " train_acc_hybrid: 8.40e-01 | val_acc_hybrid: 7.93e-01 |: 100%|███| 120/120 [07:04<00:00,  3.54s/it]\n"
     ]
    },
    {
     "name": "stdout",
     "output_type": "stream",
     "text": [
      "saving model version 0.1\n",
      "✅ Best validation Accuracy: 8.1214e-01 at 26 epoch\n",
      "avg_acc 0.8131868243217468\n",
      "Testing 8 hidden neurons, lamb=0.001, grid=6\n",
      "checkpoint directory created: ./model\n",
      "saving model version 0.0\n",
      "checkpoint directory created: ./model\n",
      "saving model version 0.0\n",
      "Successfully created and tested Model3\n"
     ]
    },
    {
     "name": "stderr",
     "output_type": "stream",
     "text": [
      " train_acc_hybrid: 9.81e-01 | val_acc_hybrid: 8.83e-01 |: 100%|███| 120/120 [07:31<00:00,  3.76s/it]\n"
     ]
    },
    {
     "name": "stdout",
     "output_type": "stream",
     "text": [
      "saving model version 0.1\n",
      "✅ Best validation Accuracy: 9.0149e-01 at 84 epoch\n",
      "avg_acc 0.8873626589775085\n",
      "Testing 8 hidden neurons, lamb=0.0001, grid=6\n",
      "checkpoint directory created: ./model\n",
      "saving model version 0.0\n",
      "checkpoint directory created: ./model\n",
      "saving model version 0.0\n",
      "Successfully created and tested Model3\n"
     ]
    },
    {
     "name": "stderr",
     "output_type": "stream",
     "text": [
      " train_acc_hybrid: 9.92e-01 | val_acc_hybrid: 8.47e-01 |: 100%|███| 120/120 [07:43<00:00,  3.86s/it]\n"
     ]
    },
    {
     "name": "stdout",
     "output_type": "stream",
     "text": [
      "saving model version 0.1\n",
      "✅ Best validation Accuracy: 8.7743e-01 at 72 epoch\n",
      "avg_acc 0.860805869102478\n",
      "Testing 8 hidden neurons, lamb=1e-05, grid=6\n",
      "checkpoint directory created: ./model\n",
      "saving model version 0.0\n",
      "checkpoint directory created: ./model\n",
      "saving model version 0.0\n",
      "Successfully created and tested Model3\n"
     ]
    },
    {
     "name": "stderr",
     "output_type": "stream",
     "text": [
      " train_acc_hybrid: 9.64e-01 | val_acc_hybrid: 8.55e-01 |: 100%|███| 120/120 [07:48<00:00,  3.90s/it]\n"
     ]
    },
    {
     "name": "stdout",
     "output_type": "stream",
     "text": [
      "saving model version 0.1\n",
      "✅ Best validation Accuracy: 8.6598e-01 at 79 epoch\n",
      "avg_acc 0.8553113341331482\n",
      "Testing 8 hidden neurons, lamb=1e-06, grid=6\n",
      "checkpoint directory created: ./model\n",
      "saving model version 0.0\n",
      "checkpoint directory created: ./model\n",
      "saving model version 0.0\n",
      "Successfully created and tested Model3\n"
     ]
    },
    {
     "name": "stderr",
     "output_type": "stream",
     "text": [
      " train_acc_hybrid: 9.24e-01 | val_acc_hybrid: 8.41e-01 |: 100%|███| 120/120 [07:43<00:00,  3.86s/it]\n"
     ]
    },
    {
     "name": "stdout",
     "output_type": "stream",
     "text": [
      "saving model version 0.1\n",
      "✅ Best validation Accuracy: 8.4536e-01 at 114 epoch\n",
      "avg_acc 0.8305860757827759\n",
      "Testing 8 hidden neurons, lamb=1e-07, grid=6\n",
      "checkpoint directory created: ./model\n",
      "saving model version 0.0\n",
      "checkpoint directory created: ./model\n",
      "saving model version 0.0\n",
      "Successfully created and tested Model3\n"
     ]
    },
    {
     "name": "stderr",
     "output_type": "stream",
     "text": [
      " train_acc_hybrid: 9.57e-01 | val_acc_hybrid: 8.01e-01 |: 100%|███| 120/120 [07:41<00:00,  3.85s/it]\n"
     ]
    },
    {
     "name": "stdout",
     "output_type": "stream",
     "text": [
      "saving model version 0.1\n",
      "✅ Best validation Accuracy: 8.3276e-01 at 79 epoch\n",
      "avg_acc 0.8131868243217468\n",
      "Testing 8 hidden neurons, lamb=0.01, grid=7\n",
      "checkpoint directory created: ./model\n",
      "saving model version 0.0\n",
      "checkpoint directory created: ./model\n",
      "saving model version 0.0\n",
      "Successfully created and tested Model3\n"
     ]
    },
    {
     "name": "stderr",
     "output_type": "stream",
     "text": [
      " train_acc_hybrid: 9.04e-01 | val_acc_hybrid: 8.97e-01 |: 100%|███| 120/120 [07:17<00:00,  3.65s/it]\n"
     ]
    },
    {
     "name": "stdout",
     "output_type": "stream",
     "text": [
      "saving model version 0.1\n",
      "✅ Best validation Accuracy: 9.0034e-01 at 31 epoch\n",
      "avg_acc 0.8717948794364929\n",
      "Testing 8 hidden neurons, lamb=0.001, grid=7\n",
      "checkpoint directory created: ./model\n",
      "saving model version 0.0\n",
      "checkpoint directory created: ./model\n",
      "saving model version 0.0\n",
      "Successfully created and tested Model3\n"
     ]
    },
    {
     "name": "stderr",
     "output_type": "stream",
     "text": [
      " train_acc_hybrid: 9.93e-01 | val_acc_hybrid: 8.83e-01 |: 100%|███| 120/120 [07:27<00:00,  3.73s/it]\n"
     ]
    },
    {
     "name": "stdout",
     "output_type": "stream",
     "text": [
      "saving model version 0.1\n",
      "✅ Best validation Accuracy: 9.1867e-01 at 47 epoch\n",
      "avg_acc 0.9075091481208801\n",
      "Testing 8 hidden neurons, lamb=0.0001, grid=7\n",
      "checkpoint directory created: ./model\n",
      "saving model version 0.0\n",
      "checkpoint directory created: ./model\n",
      "saving model version 0.0\n",
      "Successfully created and tested Model3\n"
     ]
    },
    {
     "name": "stderr",
     "output_type": "stream",
     "text": [
      " train_acc_hybrid: 9.94e-01 | val_acc_hybrid: 7.45e-01 |: 100%|███| 120/120 [07:46<00:00,  3.88s/it]\n"
     ]
    },
    {
     "name": "stdout",
     "output_type": "stream",
     "text": [
      "saving model version 0.1\n",
      "✅ Best validation Accuracy: 7.9152e-01 at 26 epoch\n",
      "avg_acc 0.803113579750061\n",
      "Testing 8 hidden neurons, lamb=1e-05, grid=7\n",
      "checkpoint directory created: ./model\n",
      "saving model version 0.0\n",
      "checkpoint directory created: ./model\n",
      "saving model version 0.0\n",
      "Successfully created and tested Model3\n"
     ]
    },
    {
     "name": "stderr",
     "output_type": "stream",
     "text": [
      " train_acc_hybrid: 9.98e-01 | val_acc_hybrid: 8.00e-01 |: 100%|███| 120/120 [07:41<00:00,  3.84s/it]\n"
     ]
    },
    {
     "name": "stdout",
     "output_type": "stream",
     "text": [
      "saving model version 0.1\n",
      "✅ Best validation Accuracy: 8.7629e-01 at 43 epoch\n",
      "avg_acc 0.8553113341331482\n",
      "Testing 8 hidden neurons, lamb=1e-06, grid=7\n",
      "checkpoint directory created: ./model\n",
      "saving model version 0.0\n",
      "checkpoint directory created: ./model\n",
      "saving model version 0.0\n",
      "Successfully created and tested Model3\n"
     ]
    },
    {
     "name": "stderr",
     "output_type": "stream",
     "text": [
      " train_acc_hybrid: 9.88e-01 | val_acc_hybrid: 7.67e-01 |: 100%|███| 120/120 [07:43<00:00,  3.86s/it]\n"
     ]
    },
    {
     "name": "stdout",
     "output_type": "stream",
     "text": [
      "saving model version 0.1\n",
      "✅ Best validation Accuracy: 8.0183e-01 at 80 epoch\n",
      "avg_acc 0.7976190447807312\n",
      "Testing 8 hidden neurons, lamb=1e-07, grid=7\n",
      "checkpoint directory created: ./model\n",
      "saving model version 0.0\n",
      "checkpoint directory created: ./model\n",
      "saving model version 0.0\n",
      "Successfully created and tested Model3\n"
     ]
    },
    {
     "name": "stderr",
     "output_type": "stream",
     "text": [
      " train_acc_hybrid: 9.91e-01 | val_acc_hybrid: 8.14e-01 |: 100%|███| 120/120 [07:31<00:00,  3.76s/it]\n"
     ]
    },
    {
     "name": "stdout",
     "output_type": "stream",
     "text": [
      "saving model version 0.1\n",
      "✅ Best validation Accuracy: 8.2932e-01 at 82 epoch\n",
      "avg_acc 0.803113579750061\n",
      "Testing 8 hidden neurons, lamb=0.01, grid=8\n",
      "checkpoint directory created: ./model\n",
      "saving model version 0.0\n",
      "checkpoint directory created: ./model\n",
      "saving model version 0.0\n",
      "Successfully created and tested Model3\n"
     ]
    },
    {
     "name": "stderr",
     "output_type": "stream",
     "text": [
      " train_acc_hybrid: 9.53e-01 | val_acc_hybrid: 8.92e-01 |: 100%|███| 120/120 [07:49<00:00,  3.92s/it]\n"
     ]
    },
    {
     "name": "stdout",
     "output_type": "stream",
     "text": [
      "saving model version 0.1\n",
      "✅ Best validation Accuracy: 9.0149e-01 at 95 epoch\n",
      "avg_acc 0.8965201377868652\n",
      "Testing 8 hidden neurons, lamb=0.001, grid=8\n",
      "checkpoint directory created: ./model\n",
      "saving model version 0.0\n",
      "checkpoint directory created: ./model\n",
      "saving model version 0.0\n",
      "Successfully created and tested Model3\n"
     ]
    },
    {
     "name": "stderr",
     "output_type": "stream",
     "text": [
      " train_acc_hybrid: 9.94e-01 | val_acc_hybrid: 8.25e-01 |: 100%|███| 120/120 [08:04<00:00,  4.04s/it]\n"
     ]
    },
    {
     "name": "stdout",
     "output_type": "stream",
     "text": [
      "saving model version 0.1\n",
      "✅ Best validation Accuracy: 8.5911e-01 at 57 epoch\n",
      "avg_acc 0.8635531067848206\n",
      "Testing 8 hidden neurons, lamb=0.0001, grid=8\n",
      "checkpoint directory created: ./model\n",
      "saving model version 0.0\n",
      "checkpoint directory created: ./model\n",
      "saving model version 0.0\n",
      "Successfully created and tested Model3\n"
     ]
    },
    {
     "name": "stderr",
     "output_type": "stream",
     "text": [
      " train_acc_hybrid: 9.95e-01 | val_acc_hybrid: 8.11e-01 |: 100%|███| 120/120 [07:57<00:00,  3.98s/it]\n"
     ]
    },
    {
     "name": "stdout",
     "output_type": "stream",
     "text": [
      "saving model version 0.1\n",
      "✅ Best validation Accuracy: 8.1100e-01 at 119 epoch\n",
      "avg_acc 0.8150182962417603\n",
      "Testing 8 hidden neurons, lamb=1e-05, grid=8\n",
      "checkpoint directory created: ./model\n",
      "saving model version 0.0\n",
      "checkpoint directory created: ./model\n",
      "saving model version 0.0\n",
      "Successfully created and tested Model3\n"
     ]
    },
    {
     "name": "stderr",
     "output_type": "stream",
     "text": [
      " train_acc_hybrid: 9.98e-01 | val_acc_hybrid: 7.29e-01 |: 100%|███| 120/120 [08:02<00:00,  4.02s/it]\n"
     ]
    },
    {
     "name": "stdout",
     "output_type": "stream",
     "text": [
      "saving model version 0.1\n",
      "✅ Best validation Accuracy: 8.0871e-01 at 40 epoch\n",
      "avg_acc 0.7976190447807312\n",
      "Testing 8 hidden neurons, lamb=1e-06, grid=8\n",
      "checkpoint directory created: ./model\n",
      "saving model version 0.0\n",
      "checkpoint directory created: ./model\n",
      "saving model version 0.0\n",
      "Successfully created and tested Model3\n"
     ]
    },
    {
     "name": "stderr",
     "output_type": "stream",
     "text": [
      " train_acc_hybrid: 9.99e-01 | val_acc_hybrid: 7.97e-01 |: 100%|███| 120/120 [07:55<00:00,  3.96s/it]\n"
     ]
    },
    {
     "name": "stdout",
     "output_type": "stream",
     "text": [
      "saving model version 0.1\n",
      "✅ Best validation Accuracy: 8.3734e-01 at 31 epoch\n",
      "avg_acc 0.8360806107521057\n",
      "Testing 8 hidden neurons, lamb=1e-07, grid=8\n",
      "checkpoint directory created: ./model\n",
      "saving model version 0.0\n",
      "checkpoint directory created: ./model\n",
      "saving model version 0.0\n",
      "Successfully created and tested Model3\n"
     ]
    },
    {
     "name": "stderr",
     "output_type": "stream",
     "text": [
      " train_acc_hybrid: 9.97e-01 | val_acc_hybrid: 7.66e-01 |: 100%|███| 120/120 [08:11<00:00,  4.10s/it]\n"
     ]
    },
    {
     "name": "stdout",
     "output_type": "stream",
     "text": [
      "saving model version 0.1\n",
      "✅ Best validation Accuracy: 8.1672e-01 at 45 epoch\n",
      "avg_acc 0.7939560413360596\n",
      "Testing 9 hidden neurons, lamb=0.01, grid=3\n",
      "checkpoint directory created: ./model\n",
      "saving model version 0.0\n",
      "checkpoint directory created: ./model\n",
      "saving model version 0.0\n",
      "Successfully created and tested Model3\n"
     ]
    },
    {
     "name": "stderr",
     "output_type": "stream",
     "text": [
      " train_acc_hybrid: 6.73e-01 | val_acc_hybrid: 6.37e-01 |: 100%|███| 120/120 [05:32<00:00,  2.77s/it]\n"
     ]
    },
    {
     "name": "stdout",
     "output_type": "stream",
     "text": [
      "saving model version 0.1\n",
      "✅ Best validation Accuracy: 6.4834e-01 at 112 epoch\n",
      "avg_acc 0.6547619104385376\n",
      "Testing 9 hidden neurons, lamb=0.001, grid=3\n",
      "checkpoint directory created: ./model\n",
      "saving model version 0.0\n",
      "checkpoint directory created: ./model\n",
      "saving model version 0.0\n",
      "Successfully created and tested Model3\n"
     ]
    },
    {
     "name": "stderr",
     "output_type": "stream",
     "text": [
      " train_acc_hybrid: 9.29e-01 | val_acc_hybrid: 8.28e-01 |: 100%|███| 120/120 [05:40<00:00,  2.84s/it]\n"
     ]
    },
    {
     "name": "stdout",
     "output_type": "stream",
     "text": [
      "saving model version 0.1\n",
      "✅ Best validation Accuracy: 8.5338e-01 at 69 epoch\n",
      "avg_acc 0.8498168587684631\n",
      "Testing 9 hidden neurons, lamb=0.0001, grid=3\n",
      "checkpoint directory created: ./model\n",
      "saving model version 0.0\n",
      "checkpoint directory created: ./model\n",
      "saving model version 0.0\n",
      "Successfully created and tested Model3\n"
     ]
    },
    {
     "name": "stderr",
     "output_type": "stream",
     "text": [
      " train_acc_hybrid: 9.46e-01 | val_acc_hybrid: 8.18e-01 |: 100%|███| 120/120 [05:47<00:00,  2.89s/it]\n"
     ]
    },
    {
     "name": "stdout",
     "output_type": "stream",
     "text": [
      "saving model version 0.1\n",
      "✅ Best validation Accuracy: 8.2589e-01 at 102 epoch\n",
      "avg_acc 0.7939560413360596\n",
      "Testing 9 hidden neurons, lamb=1e-05, grid=3\n",
      "checkpoint directory created: ./model\n",
      "saving model version 0.0\n",
      "checkpoint directory created: ./model\n",
      "saving model version 0.0\n",
      "Successfully created and tested Model3\n"
     ]
    },
    {
     "name": "stderr",
     "output_type": "stream",
     "text": [
      " train_acc_hybrid: 8.45e-01 | val_acc_hybrid: 7.75e-01 |: 100%|███| 120/120 [06:00<00:00,  3.00s/it]\n"
     ]
    },
    {
     "name": "stdout",
     "output_type": "stream",
     "text": [
      "saving model version 0.1\n",
      "✅ Best validation Accuracy: 7.7549e-01 at 119 epoch\n",
      "avg_acc 0.778388261795044\n",
      "Testing 9 hidden neurons, lamb=1e-06, grid=3\n",
      "checkpoint directory created: ./model\n",
      "saving model version 0.0\n",
      "checkpoint directory created: ./model\n",
      "saving model version 0.0\n",
      "Successfully created and tested Model3\n"
     ]
    },
    {
     "name": "stderr",
     "output_type": "stream",
     "text": [
      " train_acc_hybrid: 8.47e-01 | val_acc_hybrid: 7.85e-01 |: 100%|███| 120/120 [05:51<00:00,  2.93s/it]\n"
     ]
    },
    {
     "name": "stdout",
     "output_type": "stream",
     "text": [
      "saving model version 0.1\n",
      "✅ Best validation Accuracy: 7.8580e-01 at 109 epoch\n",
      "avg_acc 0.7637362480163574\n",
      "Testing 9 hidden neurons, lamb=1e-07, grid=3\n",
      "checkpoint directory created: ./model\n",
      "saving model version 0.0\n",
      "checkpoint directory created: ./model\n",
      "saving model version 0.0\n",
      "Successfully created and tested Model3\n"
     ]
    },
    {
     "name": "stderr",
     "output_type": "stream",
     "text": [
      " train_acc_hybrid: 9.26e-01 | val_acc_hybrid: 8.30e-01 |: 100%|███| 120/120 [05:46<00:00,  2.89s/it]\n"
     ]
    },
    {
     "name": "stdout",
     "output_type": "stream",
     "text": [
      "saving model version 0.1\n",
      "✅ Best validation Accuracy: 8.4307e-01 at 111 epoch\n",
      "avg_acc 0.8260073065757751\n",
      "Testing 9 hidden neurons, lamb=0.01, grid=4\n",
      "checkpoint directory created: ./model\n",
      "saving model version 0.0\n",
      "checkpoint directory created: ./model\n",
      "saving model version 0.0\n",
      "Successfully created and tested Model3\n"
     ]
    },
    {
     "name": "stderr",
     "output_type": "stream",
     "text": [
      " train_acc_hybrid: 6.53e-01 | val_acc_hybrid: 6.17e-01 |: 100%|███| 120/120 [06:16<00:00,  3.13s/it]\n"
     ]
    },
    {
     "name": "stdout",
     "output_type": "stream",
     "text": [
      "saving model version 0.1\n",
      "✅ Best validation Accuracy: 6.4032e-01 at 19 epoch\n",
      "avg_acc 0.6327838897705078\n",
      "Testing 9 hidden neurons, lamb=0.001, grid=4\n",
      "checkpoint directory created: ./model\n",
      "saving model version 0.0\n",
      "checkpoint directory created: ./model\n",
      "saving model version 0.0\n",
      "Successfully created and tested Model3\n"
     ]
    },
    {
     "name": "stderr",
     "output_type": "stream",
     "text": [
      " train_acc_hybrid: 9.61e-01 | val_acc_hybrid: 8.66e-01 |: 100%|███| 120/120 [06:15<00:00,  3.13s/it]\n"
     ]
    },
    {
     "name": "stdout",
     "output_type": "stream",
     "text": [
      "saving model version 0.1\n",
      "✅ Best validation Accuracy: 8.7743e-01 at 61 epoch\n",
      "avg_acc 0.8672161102294922\n",
      "Testing 9 hidden neurons, lamb=0.0001, grid=4\n",
      "checkpoint directory created: ./model\n",
      "saving model version 0.0\n",
      "checkpoint directory created: ./model\n",
      "saving model version 0.0\n",
      "Successfully created and tested Model3\n"
     ]
    },
    {
     "name": "stderr",
     "output_type": "stream",
     "text": [
      " train_acc_hybrid: 9.90e-01 | val_acc_hybrid: 8.13e-01 |: 100%|███| 120/120 [06:17<00:00,  3.15s/it]\n"
     ]
    },
    {
     "name": "stdout",
     "output_type": "stream",
     "text": [
      "saving model version 0.1\n",
      "✅ Best validation Accuracy: 8.5796e-01 at 23 epoch\n",
      "avg_acc 0.8406593203544617\n",
      "Testing 9 hidden neurons, lamb=1e-05, grid=4\n",
      "checkpoint directory created: ./model\n",
      "saving model version 0.0\n",
      "checkpoint directory created: ./model\n",
      "saving model version 0.0\n",
      "Successfully created and tested Model3\n"
     ]
    },
    {
     "name": "stderr",
     "output_type": "stream",
     "text": [
      " train_acc_hybrid: 9.56e-01 | val_acc_hybrid: 8.11e-01 |: 100%|███| 120/120 [06:15<00:00,  3.13s/it]\n"
     ]
    },
    {
     "name": "stdout",
     "output_type": "stream",
     "text": [
      "saving model version 0.1\n",
      "✅ Best validation Accuracy: 8.3276e-01 at 101 epoch\n",
      "avg_acc 0.8324176073074341\n",
      "Testing 9 hidden neurons, lamb=1e-06, grid=4\n",
      "checkpoint directory created: ./model\n",
      "saving model version 0.0\n",
      "checkpoint directory created: ./model\n",
      "saving model version 0.0\n",
      "Successfully created and tested Model3\n"
     ]
    },
    {
     "name": "stderr",
     "output_type": "stream",
     "text": [
      " train_acc_hybrid: 9.57e-01 | val_acc_hybrid: 8.05e-01 |: 100%|███| 120/120 [06:22<00:00,  3.19s/it]\n"
     ]
    },
    {
     "name": "stdout",
     "output_type": "stream",
     "text": [
      "saving model version 0.1\n",
      "✅ Best validation Accuracy: 8.3734e-01 at 64 epoch\n",
      "avg_acc 0.8205128312110901\n",
      "Testing 9 hidden neurons, lamb=1e-07, grid=4\n",
      "checkpoint directory created: ./model\n",
      "saving model version 0.0\n",
      "checkpoint directory created: ./model\n",
      "saving model version 0.0\n",
      "Successfully created and tested Model3\n"
     ]
    },
    {
     "name": "stderr",
     "output_type": "stream",
     "text": [
      " train_acc_hybrid: 9.76e-01 | val_acc_hybrid: 8.02e-01 |: 100%|███| 120/120 [06:17<00:00,  3.15s/it]\n"
     ]
    },
    {
     "name": "stdout",
     "output_type": "stream",
     "text": [
      "saving model version 0.1\n",
      "✅ Best validation Accuracy: 8.5911e-01 at 39 epoch\n",
      "avg_acc 0.8324176073074341\n",
      "Testing 9 hidden neurons, lamb=0.01, grid=5\n",
      "checkpoint directory created: ./model\n",
      "saving model version 0.0\n",
      "checkpoint directory created: ./model\n",
      "saving model version 0.0\n",
      "Successfully created and tested Model3\n"
     ]
    },
    {
     "name": "stderr",
     "output_type": "stream",
     "text": [
      " train_acc_hybrid: 8.28e-01 | val_acc_hybrid: 8.22e-01 |: 100%|███| 120/120 [06:13<00:00,  3.11s/it]\n"
     ]
    },
    {
     "name": "stdout",
     "output_type": "stream",
     "text": [
      "saving model version 0.1\n",
      "✅ Best validation Accuracy: 8.3047e-01 at 63 epoch\n",
      "avg_acc 0.8223443031311035\n",
      "Testing 9 hidden neurons, lamb=0.001, grid=5\n",
      "checkpoint directory created: ./model\n",
      "saving model version 0.0\n",
      "checkpoint directory created: ./model\n",
      "saving model version 0.0\n",
      "Successfully created and tested Model3\n"
     ]
    },
    {
     "name": "stderr",
     "output_type": "stream",
     "text": [
      " train_acc_hybrid: 9.82e-01 | val_acc_hybrid: 9.03e-01 |: 100%|███| 120/120 [06:44<00:00,  3.37s/it]\n"
     ]
    },
    {
     "name": "stdout",
     "output_type": "stream",
     "text": [
      "saving model version 0.1\n",
      "✅ Best validation Accuracy: 9.0722e-01 at 114 epoch\n",
      "avg_acc 0.9029303789138794\n",
      "Testing 9 hidden neurons, lamb=0.0001, grid=5\n",
      "checkpoint directory created: ./model\n",
      "saving model version 0.0\n",
      "checkpoint directory created: ./model\n",
      "saving model version 0.0\n",
      "Successfully created and tested Model3\n"
     ]
    },
    {
     "name": "stderr",
     "output_type": "stream",
     "text": [
      " train_acc_hybrid: 9.94e-01 | val_acc_hybrid: 7.66e-01 |: 100%|███| 120/120 [06:48<00:00,  3.40s/it]\n"
     ]
    },
    {
     "name": "stdout",
     "output_type": "stream",
     "text": [
      "saving model version 0.1\n",
      "✅ Best validation Accuracy: 8.6140e-01 at 25 epoch\n",
      "avg_acc 0.8461538553237915\n",
      "Testing 9 hidden neurons, lamb=1e-05, grid=5\n",
      "checkpoint directory created: ./model\n",
      "saving model version 0.0\n",
      "checkpoint directory created: ./model\n",
      "saving model version 0.0\n",
      "Successfully created and tested Model3\n"
     ]
    },
    {
     "name": "stderr",
     "output_type": "stream",
     "text": [
      " train_acc_hybrid: 9.87e-01 | val_acc_hybrid: 8.08e-01 |: 100%|███| 120/120 [07:03<00:00,  3.53s/it]\n"
     ]
    },
    {
     "name": "stdout",
     "output_type": "stream",
     "text": [
      "saving model version 0.1\n",
      "✅ Best validation Accuracy: 8.7285e-01 at 51 epoch\n",
      "avg_acc 0.83699631690979\n",
      "Testing 9 hidden neurons, lamb=1e-06, grid=5\n",
      "checkpoint directory created: ./model\n",
      "saving model version 0.0\n",
      "checkpoint directory created: ./model\n",
      "saving model version 0.0\n",
      "Successfully created and tested Model3\n"
     ]
    },
    {
     "name": "stderr",
     "output_type": "stream",
     "text": [
      " train_acc_hybrid: 9.91e-01 | val_acc_hybrid: 8.05e-01 |: 100%|███| 120/120 [06:51<00:00,  3.43s/it]\n"
     ]
    },
    {
     "name": "stdout",
     "output_type": "stream",
     "text": [
      "saving model version 0.1\n",
      "✅ Best validation Accuracy: 8.4994e-01 at 61 epoch\n",
      "avg_acc 0.8534798622131348\n",
      "Testing 9 hidden neurons, lamb=1e-07, grid=5\n",
      "checkpoint directory created: ./model\n",
      "saving model version 0.0\n",
      "checkpoint directory created: ./model\n",
      "saving model version 0.0\n",
      "Successfully created and tested Model3\n"
     ]
    },
    {
     "name": "stderr",
     "output_type": "stream",
     "text": [
      " train_acc_hybrid: 9.89e-01 | val_acc_hybrid: 8.17e-01 |: 100%|███| 120/120 [06:51<00:00,  3.43s/it]\n"
     ]
    },
    {
     "name": "stdout",
     "output_type": "stream",
     "text": [
      "saving model version 0.1\n",
      "✅ Best validation Accuracy: 8.7171e-01 at 54 epoch\n",
      "avg_acc 0.8589743375778198\n",
      "Testing 9 hidden neurons, lamb=0.01, grid=6\n",
      "checkpoint directory created: ./model\n",
      "saving model version 0.0\n",
      "checkpoint directory created: ./model\n",
      "saving model version 0.0\n",
      "Successfully created and tested Model3\n"
     ]
    },
    {
     "name": "stderr",
     "output_type": "stream",
     "text": [
      " train_acc_hybrid: 8.84e-01 | val_acc_hybrid: 8.50e-01 |: 100%|███| 120/120 [05:03<00:00,  2.53s/it]\n"
     ]
    },
    {
     "name": "stdout",
     "output_type": "stream",
     "text": [
      "saving model version 0.1\n",
      "✅ Best validation Accuracy: 8.5567e-01 at 26 epoch\n",
      "avg_acc 0.8470696210861206\n",
      "Testing 9 hidden neurons, lamb=0.001, grid=6\n",
      "checkpoint directory created: ./model\n",
      "saving model version 0.0\n",
      "checkpoint directory created: ./model\n",
      "saving model version 0.0\n",
      "Successfully created and tested Model3\n"
     ]
    },
    {
     "name": "stderr",
     "output_type": "stream",
     "text": [
      " train_acc_hybrid: 9.90e-01 | val_acc_hybrid: 8.57e-01 |: 100%|███| 120/120 [07:12<00:00,  3.60s/it]\n"
     ]
    },
    {
     "name": "stdout",
     "output_type": "stream",
     "text": [
      "saving model version 0.1\n",
      "✅ Best validation Accuracy: 9.0149e-01 at 45 epoch\n",
      "avg_acc 0.8992673754692078\n",
      "Testing 9 hidden neurons, lamb=0.0001, grid=6\n",
      "checkpoint directory created: ./model\n",
      "saving model version 0.0\n",
      "checkpoint directory created: ./model\n",
      "saving model version 0.0\n",
      "Successfully created and tested Model3\n"
     ]
    },
    {
     "name": "stderr",
     "output_type": "stream",
     "text": [
      " train_acc_hybrid: 9.94e-01 | val_acc_hybrid: 8.51e-01 |: 100%|███| 120/120 [07:04<00:00,  3.54s/it]\n"
     ]
    },
    {
     "name": "stdout",
     "output_type": "stream",
     "text": [
      "saving model version 0.1\n",
      "✅ Best validation Accuracy: 9.0034e-01 at 55 epoch\n",
      "avg_acc 0.8956043720245361\n",
      "Testing 9 hidden neurons, lamb=1e-05, grid=6\n",
      "checkpoint directory created: ./model\n",
      "saving model version 0.0\n",
      "checkpoint directory created: ./model\n",
      "saving model version 0.0\n",
      "Successfully created and tested Model3\n"
     ]
    },
    {
     "name": "stderr",
     "output_type": "stream",
     "text": [
      " train_acc_hybrid: 9.78e-01 | val_acc_hybrid: 8.52e-01 |: 100%|███| 120/120 [05:41<00:00,  2.84s/it]\n"
     ]
    },
    {
     "name": "stdout",
     "output_type": "stream",
     "text": [
      "saving model version 0.1\n",
      "✅ Best validation Accuracy: 8.7973e-01 at 77 epoch\n",
      "avg_acc 0.877289354801178\n",
      "Testing 9 hidden neurons, lamb=1e-06, grid=6\n",
      "checkpoint directory created: ./model\n",
      "saving model version 0.0\n",
      "checkpoint directory created: ./model\n",
      "saving model version 0.0\n",
      "Successfully created and tested Model3\n"
     ]
    },
    {
     "name": "stderr",
     "output_type": "stream",
     "text": [
      " train_acc_hybrid: 9.84e-01 | val_acc_hybrid: 8.68e-01 |: 100%|███| 120/120 [05:23<00:00,  2.70s/it]\n"
     ]
    },
    {
     "name": "stdout",
     "output_type": "stream",
     "text": [
      "saving model version 0.1\n",
      "✅ Best validation Accuracy: 8.8087e-01 at 75 epoch\n",
      "avg_acc 0.8745421171188354\n",
      "Testing 9 hidden neurons, lamb=1e-07, grid=6\n",
      "checkpoint directory created: ./model\n",
      "saving model version 0.0\n",
      "checkpoint directory created: ./model\n",
      "saving model version 0.0\n",
      "Successfully created and tested Model3\n"
     ]
    },
    {
     "name": "stderr",
     "output_type": "stream",
     "text": [
      " train_acc_hybrid: 9.95e-01 | val_acc_hybrid: 8.42e-01 |: 100%|███| 120/120 [05:10<00:00,  2.58s/it]\n"
     ]
    },
    {
     "name": "stdout",
     "output_type": "stream",
     "text": [
      "saving model version 0.1\n",
      "✅ Best validation Accuracy: 8.9003e-01 at 34 epoch\n",
      "avg_acc 0.8846153616905212\n",
      "Testing 9 hidden neurons, lamb=0.01, grid=7\n",
      "checkpoint directory created: ./model\n",
      "saving model version 0.0\n",
      "checkpoint directory created: ./model\n",
      "saving model version 0.0\n",
      "Successfully created and tested Model3\n"
     ]
    },
    {
     "name": "stderr",
     "output_type": "stream",
     "text": [
      " train_acc_hybrid: 8.81e-01 | val_acc_hybrid: 8.41e-01 |: 100%|███| 120/120 [05:29<00:00,  2.75s/it]\n"
     ]
    },
    {
     "name": "stdout",
     "output_type": "stream",
     "text": [
      "saving model version 0.1\n",
      "✅ Best validation Accuracy: 8.4651e-01 at 78 epoch\n",
      "avg_acc 0.8214285969734192\n",
      "Testing 9 hidden neurons, lamb=0.001, grid=7\n",
      "checkpoint directory created: ./model\n",
      "saving model version 0.0\n",
      "checkpoint directory created: ./model\n",
      "saving model version 0.0\n",
      "Successfully created and tested Model3\n"
     ]
    },
    {
     "name": "stderr",
     "output_type": "stream",
     "text": [
      " train_acc_hybrid: 9.89e-01 | val_acc_hybrid: 8.81e-01 |: 100%|███| 120/120 [05:16<00:00,  2.64s/it]\n"
     ]
    },
    {
     "name": "stdout",
     "output_type": "stream",
     "text": [
      "saving model version 0.1\n",
      "✅ Best validation Accuracy: 9.1753e-01 at 57 epoch\n",
      "avg_acc 0.9047619104385376\n",
      "Testing 9 hidden neurons, lamb=0.0001, grid=7\n",
      "checkpoint directory created: ./model\n",
      "saving model version 0.0\n",
      "checkpoint directory created: ./model\n",
      "saving model version 0.0\n",
      "Successfully created and tested Model3\n"
     ]
    },
    {
     "name": "stderr",
     "output_type": "stream",
     "text": [
      " train_acc_hybrid: 9.97e-01 | val_acc_hybrid: 8.16e-01 |: 100%|███| 120/120 [05:12<00:00,  2.60s/it]\n"
     ]
    },
    {
     "name": "stdout",
     "output_type": "stream",
     "text": [
      "saving model version 0.1\n",
      "✅ Best validation Accuracy: 8.7400e-01 at 43 epoch\n",
      "avg_acc 0.8479853272438049\n",
      "Testing 9 hidden neurons, lamb=1e-05, grid=7\n",
      "checkpoint directory created: ./model\n",
      "saving model version 0.0\n",
      "checkpoint directory created: ./model\n",
      "saving model version 0.0\n",
      "Successfully created and tested Model3\n"
     ]
    },
    {
     "name": "stderr",
     "output_type": "stream",
     "text": [
      " train_acc_hybrid: 9.95e-01 | val_acc_hybrid: 8.11e-01 |: 100%|███| 120/120 [05:25<00:00,  2.71s/it]\n"
     ]
    },
    {
     "name": "stdout",
     "output_type": "stream",
     "text": [
      "saving model version 0.1\n",
      "✅ Best validation Accuracy: 8.8087e-01 at 56 epoch\n",
      "avg_acc 0.8617216348648071\n",
      "Testing 9 hidden neurons, lamb=1e-06, grid=7\n",
      "checkpoint directory created: ./model\n",
      "saving model version 0.0\n",
      "checkpoint directory created: ./model\n",
      "saving model version 0.0\n",
      "Successfully created and tested Model3\n"
     ]
    },
    {
     "name": "stderr",
     "output_type": "stream",
     "text": [
      " train_acc_hybrid: 9.98e-01 | val_acc_hybrid: 8.13e-01 |: 100%|███| 120/120 [05:25<00:00,  2.72s/it]\n"
     ]
    },
    {
     "name": "stdout",
     "output_type": "stream",
     "text": [
      "saving model version 0.1\n",
      "✅ Best validation Accuracy: 8.9576e-01 at 42 epoch\n",
      "avg_acc 0.8763736486434937\n",
      "Testing 9 hidden neurons, lamb=1e-07, grid=7\n",
      "checkpoint directory created: ./model\n",
      "saving model version 0.0\n",
      "checkpoint directory created: ./model\n",
      "saving model version 0.0\n",
      "Successfully created and tested Model3\n"
     ]
    },
    {
     "name": "stderr",
     "output_type": "stream",
     "text": [
      " train_acc_hybrid: 9.97e-01 | val_acc_hybrid: 8.00e-01 |: 100%|███| 120/120 [05:30<00:00,  2.76s/it]\n"
     ]
    },
    {
     "name": "stdout",
     "output_type": "stream",
     "text": [
      "saving model version 0.1\n",
      "✅ Best validation Accuracy: 8.7056e-01 at 38 epoch\n",
      "avg_acc 0.8507326245307922\n",
      "Testing 9 hidden neurons, lamb=0.01, grid=8\n",
      "checkpoint directory created: ./model\n",
      "saving model version 0.0\n",
      "checkpoint directory created: ./model\n",
      "saving model version 0.0\n",
      "Successfully created and tested Model3\n"
     ]
    },
    {
     "name": "stderr",
     "output_type": "stream",
     "text": [
      " train_acc_hybrid: 9.37e-01 | val_acc_hybrid: 8.71e-01 |: 100%|███| 120/120 [05:44<00:00,  2.87s/it]\n"
     ]
    },
    {
     "name": "stdout",
     "output_type": "stream",
     "text": [
      "saving model version 0.1\n",
      "✅ Best validation Accuracy: 8.7400e-01 at 116 epoch\n",
      "avg_acc 0.8397436141967773\n",
      "Testing 9 hidden neurons, lamb=0.001, grid=8\n",
      "checkpoint directory created: ./model\n",
      "saving model version 0.0\n",
      "checkpoint directory created: ./model\n",
      "saving model version 0.0\n",
      "Successfully created and tested Model3\n"
     ]
    },
    {
     "name": "stderr",
     "output_type": "stream",
     "text": [
      " train_acc_hybrid: 9.95e-01 | val_acc_hybrid: 8.90e-01 |: 100%|███| 120/120 [05:36<00:00,  2.80s/it]\n"
     ]
    },
    {
     "name": "stdout",
     "output_type": "stream",
     "text": [
      "saving model version 0.1\n",
      "✅ Best validation Accuracy: 9.3585e-01 at 19 epoch\n",
      "avg_acc 0.9285714030265808\n",
      "Testing 9 hidden neurons, lamb=0.0001, grid=8\n",
      "checkpoint directory created: ./model\n",
      "saving model version 0.0\n",
      "checkpoint directory created: ./model\n",
      "saving model version 0.0\n",
      "Successfully created and tested Model3\n"
     ]
    },
    {
     "name": "stderr",
     "output_type": "stream",
     "text": [
      " train_acc_hybrid: 9.99e-01 | val_acc_hybrid: 8.08e-01 |: 100%|███| 120/120 [05:39<00:00,  2.83s/it]\n"
     ]
    },
    {
     "name": "stdout",
     "output_type": "stream",
     "text": [
      "saving model version 0.1\n",
      "✅ Best validation Accuracy: 9.0607e-01 at 29 epoch\n",
      "avg_acc 0.9020146727561951\n",
      "Testing 9 hidden neurons, lamb=1e-05, grid=8\n",
      "checkpoint directory created: ./model\n",
      "saving model version 0.0\n",
      "checkpoint directory created: ./model\n",
      "saving model version 0.0\n",
      "Successfully created and tested Model3\n"
     ]
    },
    {
     "name": "stderr",
     "output_type": "stream",
     "text": [
      " train_acc_hybrid: 9.97e-01 | val_acc_hybrid: 8.45e-01 |: 100%|███| 120/120 [05:56<00:00,  2.97s/it]\n"
     ]
    },
    {
     "name": "stdout",
     "output_type": "stream",
     "text": [
      "saving model version 0.1\n",
      "✅ Best validation Accuracy: 8.9920e-01 at 34 epoch\n",
      "avg_acc 0.8956043720245361\n",
      "Testing 9 hidden neurons, lamb=1e-06, grid=8\n",
      "checkpoint directory created: ./model\n",
      "saving model version 0.0\n",
      "checkpoint directory created: ./model\n",
      "saving model version 0.0\n",
      "Successfully created and tested Model3\n"
     ]
    },
    {
     "name": "stderr",
     "output_type": "stream",
     "text": [
      " train_acc_hybrid: 9.99e-01 | val_acc_hybrid: 8.03e-01 |: 100%|███| 120/120 [05:59<00:00,  2.99s/it]\n"
     ]
    },
    {
     "name": "stdout",
     "output_type": "stream",
     "text": [
      "saving model version 0.1\n",
      "✅ Best validation Accuracy: 8.9691e-01 at 42 epoch\n",
      "avg_acc 0.889194130897522\n",
      "Testing 9 hidden neurons, lamb=1e-07, grid=8\n",
      "checkpoint directory created: ./model\n",
      "saving model version 0.0\n",
      "checkpoint directory created: ./model\n",
      "saving model version 0.0\n",
      "Successfully created and tested Model3\n"
     ]
    },
    {
     "name": "stderr",
     "output_type": "stream",
     "text": [
      " train_acc_hybrid: 9.96e-01 | val_acc_hybrid: 8.25e-01 |: 100%|███| 120/120 [06:01<00:00,  3.02s/it]\n"
     ]
    },
    {
     "name": "stdout",
     "output_type": "stream",
     "text": [
      "saving model version 0.1\n",
      "✅ Best validation Accuracy: 8.9003e-01 at 38 epoch\n",
      "avg_acc 0.8956043720245361\n",
      "Testing 10 hidden neurons, lamb=0.01, grid=3\n",
      "checkpoint directory created: ./model\n",
      "saving model version 0.0\n",
      "checkpoint directory created: ./model\n",
      "saving model version 0.0\n",
      "Successfully created and tested Model3\n"
     ]
    },
    {
     "name": "stderr",
     "output_type": "stream",
     "text": [
      " train_acc_hybrid: 6.40e-01 | val_acc_hybrid: 6.33e-01 |: 100%|███| 120/120 [03:43<00:00,  1.86s/it]\n"
     ]
    },
    {
     "name": "stdout",
     "output_type": "stream",
     "text": [
      "saving model version 0.1\n",
      "✅ Best validation Accuracy: 6.5292e-01 at 28 epoch\n",
      "avg_acc 0.6419413685798645\n",
      "Testing 10 hidden neurons, lamb=0.001, grid=3\n",
      "checkpoint directory created: ./model\n",
      "saving model version 0.0\n",
      "checkpoint directory created: ./model\n",
      "saving model version 0.0\n",
      "Successfully created and tested Model3\n"
     ]
    },
    {
     "name": "stderr",
     "output_type": "stream",
     "text": [
      " train_acc_hybrid: 8.10e-01 | val_acc_hybrid: 7.77e-01 |: 100%|███| 120/120 [03:44<00:00,  1.87s/it]\n"
     ]
    },
    {
     "name": "stdout",
     "output_type": "stream",
     "text": [
      "saving model version 0.1\n",
      "✅ Best validation Accuracy: 7.8465e-01 at 111 epoch\n",
      "avg_acc 0.7637362480163574\n",
      "Testing 10 hidden neurons, lamb=0.0001, grid=3\n",
      "checkpoint directory created: ./model\n",
      "saving model version 0.0\n",
      "checkpoint directory created: ./model\n",
      "saving model version 0.0\n",
      "Successfully created and tested Model3\n"
     ]
    },
    {
     "name": "stderr",
     "output_type": "stream",
     "text": [
      " train_acc_hybrid: 9.70e-01 | val_acc_hybrid: 7.93e-01 |: 100%|███| 120/120 [03:37<00:00,  1.81s/it]\n"
     ]
    },
    {
     "name": "stdout",
     "output_type": "stream",
     "text": [
      "saving model version 0.1\n",
      "✅ Best validation Accuracy: 8.4765e-01 at 55 epoch\n",
      "avg_acc 0.831501841545105\n",
      "Testing 10 hidden neurons, lamb=1e-05, grid=3\n",
      "checkpoint directory created: ./model\n",
      "saving model version 0.0\n",
      "checkpoint directory created: ./model\n",
      "saving model version 0.0\n",
      "Successfully created and tested Model3\n"
     ]
    },
    {
     "name": "stderr",
     "output_type": "stream",
     "text": [
      " train_acc_hybrid: 9.40e-01 | val_acc_hybrid: 8.48e-01 |: 100%|███| 120/120 [03:40<00:00,  1.84s/it]\n"
     ]
    },
    {
     "name": "stdout",
     "output_type": "stream",
     "text": [
      "saving model version 0.1\n",
      "✅ Best validation Accuracy: 8.5567e-01 at 53 epoch\n",
      "avg_acc 0.8360806107521057\n",
      "Testing 10 hidden neurons, lamb=1e-06, grid=3\n",
      "checkpoint directory created: ./model\n",
      "saving model version 0.0\n",
      "checkpoint directory created: ./model\n",
      "saving model version 0.0\n",
      "Successfully created and tested Model3\n"
     ]
    },
    {
     "name": "stderr",
     "output_type": "stream",
     "text": [
      " train_acc_hybrid: 9.31e-01 | val_acc_hybrid: 8.41e-01 |: 100%|███| 120/120 [03:36<00:00,  1.80s/it]\n"
     ]
    },
    {
     "name": "stdout",
     "output_type": "stream",
     "text": [
      "saving model version 0.1\n",
      "✅ Best validation Accuracy: 8.5452e-01 at 109 epoch\n",
      "avg_acc 0.8443223237991333\n",
      "Testing 10 hidden neurons, lamb=1e-07, grid=3\n",
      "checkpoint directory created: ./model\n",
      "saving model version 0.0\n",
      "checkpoint directory created: ./model\n",
      "saving model version 0.0\n",
      "Successfully created and tested Model3\n"
     ]
    },
    {
     "name": "stderr",
     "output_type": "stream",
     "text": [
      " train_acc_hybrid: 9.38e-01 | val_acc_hybrid: 8.37e-01 |: 100%|███| 120/120 [03:39<00:00,  1.83s/it]\n"
     ]
    },
    {
     "name": "stdout",
     "output_type": "stream",
     "text": [
      "saving model version 0.1\n",
      "✅ Best validation Accuracy: 8.4078e-01 at 116 epoch\n",
      "avg_acc 0.8205128312110901\n",
      "Testing 10 hidden neurons, lamb=0.01, grid=4\n",
      "checkpoint directory created: ./model\n",
      "saving model version 0.0\n",
      "checkpoint directory created: ./model\n",
      "saving model version 0.0\n",
      "Successfully created and tested Model3\n"
     ]
    },
    {
     "name": "stderr",
     "output_type": "stream",
     "text": [
      " train_acc_hybrid: 8.24e-01 | val_acc_hybrid: 7.89e-01 |: 100%|███| 120/120 [03:56<00:00,  1.97s/it]\n"
     ]
    },
    {
     "name": "stdout",
     "output_type": "stream",
     "text": [
      "saving model version 0.1\n",
      "✅ Best validation Accuracy: 7.8923e-01 at 116 epoch\n",
      "avg_acc 0.8177655935287476\n",
      "Testing 10 hidden neurons, lamb=0.001, grid=4\n",
      "checkpoint directory created: ./model\n",
      "saving model version 0.0\n",
      "checkpoint directory created: ./model\n",
      "saving model version 0.0\n",
      "Successfully created and tested Model3\n"
     ]
    },
    {
     "name": "stderr",
     "output_type": "stream",
     "text": [
      " train_acc_hybrid: 9.58e-01 | val_acc_hybrid: 8.87e-01 |: 100%|███| 120/120 [03:57<00:00,  1.98s/it]\n"
     ]
    },
    {
     "name": "stdout",
     "output_type": "stream",
     "text": [
      "saving model version 0.1\n",
      "✅ Best validation Accuracy: 8.8774e-01 at 59 epoch\n",
      "avg_acc 0.8763736486434937\n",
      "Testing 10 hidden neurons, lamb=0.0001, grid=4\n",
      "checkpoint directory created: ./model\n",
      "saving model version 0.0\n",
      "checkpoint directory created: ./model\n",
      "saving model version 0.0\n",
      "Successfully created and tested Model3\n"
     ]
    },
    {
     "name": "stderr",
     "output_type": "stream",
     "text": [
      " train_acc_hybrid: 9.22e-01 | val_acc_hybrid: 7.93e-01 |: 100%|███| 120/120 [04:06<00:00,  2.05s/it]\n"
     ]
    },
    {
     "name": "stdout",
     "output_type": "stream",
     "text": [
      "saving model version 0.1\n",
      "✅ Best validation Accuracy: 7.9381e-01 at 107 epoch\n",
      "avg_acc 0.8040292859077454\n",
      "Testing 10 hidden neurons, lamb=1e-05, grid=4\n",
      "checkpoint directory created: ./model\n",
      "saving model version 0.0\n",
      "checkpoint directory created: ./model\n",
      "saving model version 0.0\n",
      "Successfully created and tested Model3\n"
     ]
    },
    {
     "name": "stderr",
     "output_type": "stream",
     "text": [
      " train_acc_hybrid: 9.85e-01 | val_acc_hybrid: 8.17e-01 |: 100%|███| 120/120 [03:59<00:00,  2.00s/it]\n"
     ]
    },
    {
     "name": "stdout",
     "output_type": "stream",
     "text": [
      "saving model version 0.1\n",
      "✅ Best validation Accuracy: 8.5338e-01 at 37 epoch\n",
      "avg_acc 0.8452380895614624\n",
      "Testing 10 hidden neurons, lamb=1e-06, grid=4\n",
      "checkpoint directory created: ./model\n",
      "saving model version 0.0\n",
      "checkpoint directory created: ./model\n",
      "saving model version 0.0\n",
      "Successfully created and tested Model3\n"
     ]
    },
    {
     "name": "stderr",
     "output_type": "stream",
     "text": [
      " train_acc_hybrid: 9.83e-01 | val_acc_hybrid: 8.28e-01 |: 100%|███| 120/120 [03:59<00:00,  1.99s/it]\n"
     ]
    },
    {
     "name": "stdout",
     "output_type": "stream",
     "text": [
      "saving model version 0.1\n",
      "✅ Best validation Accuracy: 8.7400e-01 at 38 epoch\n",
      "avg_acc 0.8782051205635071\n",
      "Testing 10 hidden neurons, lamb=1e-07, grid=4\n",
      "checkpoint directory created: ./model\n",
      "saving model version 0.0\n",
      "checkpoint directory created: ./model\n",
      "saving model version 0.0\n",
      "Successfully created and tested Model3\n"
     ]
    },
    {
     "name": "stderr",
     "output_type": "stream",
     "text": [
      " train_acc_hybrid: 9.77e-01 | val_acc_hybrid: 8.05e-01 |: 100%|███| 120/120 [04:05<00:00,  2.04s/it]\n"
     ]
    },
    {
     "name": "stdout",
     "output_type": "stream",
     "text": [
      "saving model version 0.1\n",
      "✅ Best validation Accuracy: 8.4765e-01 at 61 epoch\n",
      "avg_acc 0.8250916004180908\n",
      "Testing 10 hidden neurons, lamb=0.01, grid=5\n",
      "checkpoint directory created: ./model\n",
      "saving model version 0.0\n",
      "checkpoint directory created: ./model\n",
      "saving model version 0.0\n",
      "Successfully created and tested Model3\n"
     ]
    },
    {
     "name": "stderr",
     "output_type": "stream",
     "text": [
      " train_acc_hybrid: 7.08e-01 | val_acc_hybrid: 6.74e-01 |: 100%|███| 120/120 [04:30<00:00,  2.25s/it]\n"
     ]
    },
    {
     "name": "stdout",
     "output_type": "stream",
     "text": [
      "saving model version 0.1\n",
      "✅ Best validation Accuracy: 6.7583e-01 at 101 epoch\n",
      "avg_acc 0.6932234168052673\n",
      "Testing 10 hidden neurons, lamb=0.001, grid=5\n",
      "checkpoint directory created: ./model\n",
      "saving model version 0.0\n",
      "checkpoint directory created: ./model\n",
      "saving model version 0.0\n",
      "Successfully created and tested Model3\n"
     ]
    },
    {
     "name": "stderr",
     "output_type": "stream",
     "text": [
      " train_acc_hybrid: 9.71e-01 | val_acc_hybrid: 8.61e-01 |: 100%|███| 120/120 [04:29<00:00,  2.24s/it]\n"
     ]
    },
    {
     "name": "stdout",
     "output_type": "stream",
     "text": [
      "saving model version 0.1\n",
      "✅ Best validation Accuracy: 8.8774e-01 at 35 epoch\n",
      "avg_acc 0.8836996555328369\n",
      "Testing 10 hidden neurons, lamb=0.0001, grid=5\n",
      "checkpoint directory created: ./model\n",
      "saving model version 0.0\n",
      "checkpoint directory created: ./model\n",
      "saving model version 0.0\n",
      "Successfully created and tested Model3\n"
     ]
    },
    {
     "name": "stderr",
     "output_type": "stream",
     "text": [
      " train_acc_hybrid: 9.60e-01 | val_acc_hybrid: 8.49e-01 |: 100%|███| 120/120 [04:31<00:00,  2.26s/it]\n"
     ]
    },
    {
     "name": "stdout",
     "output_type": "stream",
     "text": [
      "saving model version 0.1\n",
      "✅ Best validation Accuracy: 8.5452e-01 at 97 epoch\n",
      "avg_acc 0.8324176073074341\n",
      "Testing 10 hidden neurons, lamb=1e-05, grid=5\n",
      "checkpoint directory created: ./model\n",
      "saving model version 0.0\n",
      "checkpoint directory created: ./model\n",
      "saving model version 0.0\n",
      "Successfully created and tested Model3\n"
     ]
    },
    {
     "name": "stderr",
     "output_type": "stream",
     "text": [
      " train_acc_hybrid: 9.89e-01 | val_acc_hybrid: 8.28e-01 |: 100%|███| 120/120 [04:24<00:00,  2.21s/it]\n"
     ]
    },
    {
     "name": "stdout",
     "output_type": "stream",
     "text": [
      "saving model version 0.1\n",
      "✅ Best validation Accuracy: 8.7400e-01 at 74 epoch\n",
      "avg_acc 0.8461538553237915\n",
      "Testing 10 hidden neurons, lamb=1e-06, grid=5\n",
      "checkpoint directory created: ./model\n",
      "saving model version 0.0\n",
      "checkpoint directory created: ./model\n",
      "saving model version 0.0\n",
      "Successfully created and tested Model3\n"
     ]
    },
    {
     "name": "stderr",
     "output_type": "stream",
     "text": [
      " train_acc_hybrid: 9.89e-01 | val_acc_hybrid: 8.17e-01 |: 100%|███| 120/120 [04:29<00:00,  2.25s/it]\n"
     ]
    },
    {
     "name": "stdout",
     "output_type": "stream",
     "text": [
      "saving model version 0.1\n",
      "✅ Best validation Accuracy: 8.6827e-01 at 46 epoch\n",
      "avg_acc 0.8791208863258362\n",
      "Testing 10 hidden neurons, lamb=1e-07, grid=5\n",
      "checkpoint directory created: ./model\n",
      "saving model version 0.0\n",
      "checkpoint directory created: ./model\n",
      "saving model version 0.0\n",
      "Successfully created and tested Model3\n"
     ]
    },
    {
     "name": "stderr",
     "output_type": "stream",
     "text": [
      " train_acc_hybrid: 9.84e-01 | val_acc_hybrid: 8.06e-01 |: 100%|███| 120/120 [04:37<00:00,  2.31s/it]\n"
     ]
    },
    {
     "name": "stdout",
     "output_type": "stream",
     "text": [
      "saving model version 0.1\n",
      "✅ Best validation Accuracy: 8.7973e-01 at 47 epoch\n",
      "avg_acc 0.8617216348648071\n",
      "Testing 10 hidden neurons, lamb=0.01, grid=6\n",
      "checkpoint directory created: ./model\n",
      "saving model version 0.0\n",
      "checkpoint directory created: ./model\n",
      "saving model version 0.0\n",
      "Successfully created and tested Model3\n"
     ]
    },
    {
     "name": "stderr",
     "output_type": "stream",
     "text": [
      " train_acc_hybrid: 8.54e-01 | val_acc_hybrid: 8.16e-01 |: 100%|███| 120/120 [04:38<00:00,  2.32s/it]\n"
     ]
    },
    {
     "name": "stdout",
     "output_type": "stream",
     "text": [
      "saving model version 0.1\n",
      "✅ Best validation Accuracy: 8.3047e-01 at 18 epoch\n",
      "avg_acc 0.8351648449897766\n",
      "Testing 10 hidden neurons, lamb=0.001, grid=6\n",
      "checkpoint directory created: ./model\n",
      "saving model version 0.0\n",
      "checkpoint directory created: ./model\n",
      "saving model version 0.0\n",
      "Successfully created and tested Model3\n"
     ]
    },
    {
     "name": "stderr",
     "output_type": "stream",
     "text": [
      " train_acc_hybrid: 9.92e-01 | val_acc_hybrid: 8.40e-01 |: 100%|███| 120/120 [05:06<00:00,  2.55s/it]\n"
     ]
    },
    {
     "name": "stdout",
     "output_type": "stream",
     "text": [
      "saving model version 0.1\n",
      "✅ Best validation Accuracy: 8.8774e-01 at 22 epoch\n",
      "avg_acc 0.8901098966598511\n",
      "Testing 10 hidden neurons, lamb=0.0001, grid=6\n",
      "checkpoint directory created: ./model\n",
      "saving model version 0.0\n",
      "checkpoint directory created: ./model\n",
      "saving model version 0.0\n",
      "Successfully created and tested Model3\n"
     ]
    },
    {
     "name": "stderr",
     "output_type": "stream",
     "text": [
      " train_acc_hybrid: 9.97e-01 | val_acc_hybrid: 7.87e-01 |: 100%|███| 120/120 [05:02<00:00,  2.52s/it]\n"
     ]
    },
    {
     "name": "stdout",
     "output_type": "stream",
     "text": [
      "saving model version 0.1\n",
      "✅ Best validation Accuracy: 8.7973e-01 at 21 epoch\n",
      "avg_acc 0.8626373410224915\n",
      "Testing 10 hidden neurons, lamb=1e-05, grid=6\n",
      "checkpoint directory created: ./model\n",
      "saving model version 0.0\n",
      "checkpoint directory created: ./model\n",
      "saving model version 0.0\n",
      "Successfully created and tested Model3\n"
     ]
    },
    {
     "name": "stderr",
     "output_type": "stream",
     "text": [
      " train_acc_hybrid: 9.98e-01 | val_acc_hybrid: 8.21e-01 |: 100%|███| 120/120 [05:06<00:00,  2.56s/it]\n"
     ]
    },
    {
     "name": "stdout",
     "output_type": "stream",
     "text": [
      "saving model version 0.1\n",
      "✅ Best validation Accuracy: 8.6254e-01 at 54 epoch\n",
      "avg_acc 0.8424908518791199\n",
      "Testing 10 hidden neurons, lamb=1e-06, grid=6\n",
      "checkpoint directory created: ./model\n",
      "saving model version 0.0\n",
      "checkpoint directory created: ./model\n",
      "saving model version 0.0\n",
      "Successfully created and tested Model3\n"
     ]
    },
    {
     "name": "stderr",
     "output_type": "stream",
     "text": [
      " train_acc_hybrid: 9.89e-01 | val_acc_hybrid: 8.43e-01 |: 100%|███| 120/120 [05:15<00:00,  2.63s/it]\n"
     ]
    },
    {
     "name": "stdout",
     "output_type": "stream",
     "text": [
      "saving model version 0.1\n",
      "✅ Best validation Accuracy: 8.5223e-01 at 74 epoch\n",
      "avg_acc 0.8598901033401489\n",
      "Testing 10 hidden neurons, lamb=1e-07, grid=6\n",
      "checkpoint directory created: ./model\n",
      "saving model version 0.0\n",
      "checkpoint directory created: ./model\n",
      "saving model version 0.0\n",
      "Successfully created and tested Model3\n"
     ]
    },
    {
     "name": "stderr",
     "output_type": "stream",
     "text": [
      " train_acc_hybrid: 9.98e-01 | val_acc_hybrid: 7.78e-01 |: 100%|███| 120/120 [05:03<00:00,  2.53s/it]\n"
     ]
    },
    {
     "name": "stdout",
     "output_type": "stream",
     "text": [
      "saving model version 0.1\n",
      "✅ Best validation Accuracy: 8.5567e-01 at 23 epoch\n",
      "avg_acc 0.8644688725471497\n",
      "Testing 10 hidden neurons, lamb=0.01, grid=7\n",
      "checkpoint directory created: ./model\n",
      "saving model version 0.0\n",
      "checkpoint directory created: ./model\n",
      "saving model version 0.0\n",
      "Successfully created and tested Model3\n"
     ]
    },
    {
     "name": "stderr",
     "output_type": "stream",
     "text": [
      " train_acc_hybrid: 9.30e-01 | val_acc_hybrid: 8.68e-01 |: 100%|███| 120/120 [05:13<00:00,  2.61s/it]\n"
     ]
    },
    {
     "name": "stdout",
     "output_type": "stream",
     "text": [
      "saving model version 0.1\n",
      "✅ Best validation Accuracy: 8.7285e-01 at 77 epoch\n",
      "avg_acc 0.8516483306884766\n",
      "Testing 10 hidden neurons, lamb=0.001, grid=7\n",
      "checkpoint directory created: ./model\n",
      "saving model version 0.0\n",
      "checkpoint directory created: ./model\n",
      "saving model version 0.0\n",
      "Successfully created and tested Model3\n"
     ]
    },
    {
     "name": "stderr",
     "output_type": "stream",
     "text": [
      " train_acc_hybrid: 9.95e-01 | val_acc_hybrid: 8.67e-01 |: 100%|███| 120/120 [05:33<00:00,  2.78s/it]\n"
     ]
    },
    {
     "name": "stdout",
     "output_type": "stream",
     "text": [
      "saving model version 0.1\n",
      "✅ Best validation Accuracy: 9.1982e-01 at 44 epoch\n",
      "avg_acc 0.91300368309021\n",
      "Testing 10 hidden neurons, lamb=0.0001, grid=7\n",
      "checkpoint directory created: ./model\n",
      "saving model version 0.0\n",
      "checkpoint directory created: ./model\n",
      "saving model version 0.0\n",
      "Successfully created and tested Model3\n"
     ]
    },
    {
     "name": "stderr",
     "output_type": "stream",
     "text": [
      " train_acc_hybrid: 9.94e-01 | val_acc_hybrid: 8.61e-01 |: 100%|███| 120/120 [05:20<00:00,  2.67s/it]\n"
     ]
    },
    {
     "name": "stdout",
     "output_type": "stream",
     "text": [
      "saving model version 0.1\n",
      "✅ Best validation Accuracy: 8.8774e-01 at 70 epoch\n",
      "avg_acc 0.8699633479118347\n",
      "Testing 10 hidden neurons, lamb=1e-05, grid=7\n",
      "checkpoint directory created: ./model\n",
      "saving model version 0.0\n",
      "checkpoint directory created: ./model\n",
      "saving model version 0.0\n",
      "Successfully created and tested Model3\n"
     ]
    },
    {
     "name": "stderr",
     "output_type": "stream",
     "text": [
      " train_acc_hybrid: 9.96e-01 | val_acc_hybrid: 8.25e-01 |: 100%|███| 120/120 [05:19<00:00,  2.66s/it]\n"
     ]
    },
    {
     "name": "stdout",
     "output_type": "stream",
     "text": [
      "saving model version 0.1\n",
      "✅ Best validation Accuracy: 8.6254e-01 at 50 epoch\n",
      "avg_acc 0.8479853272438049\n",
      "Testing 10 hidden neurons, lamb=1e-06, grid=7\n",
      "checkpoint directory created: ./model\n",
      "saving model version 0.0\n",
      "checkpoint directory created: ./model\n",
      "saving model version 0.0\n",
      "Successfully created and tested Model3\n"
     ]
    },
    {
     "name": "stderr",
     "output_type": "stream",
     "text": [
      " train_acc_hybrid: 9.98e-01 | val_acc_hybrid: 8.20e-01 |: 100%|███| 120/120 [05:27<00:00,  2.73s/it]\n"
     ]
    },
    {
     "name": "stdout",
     "output_type": "stream",
     "text": [
      "saving model version 0.1\n",
      "✅ Best validation Accuracy: 9.0607e-01 at 44 epoch\n",
      "avg_acc 0.8974359035491943\n",
      "Testing 10 hidden neurons, lamb=1e-07, grid=7\n",
      "checkpoint directory created: ./model\n",
      "saving model version 0.0\n",
      "checkpoint directory created: ./model\n",
      "saving model version 0.0\n",
      "Successfully created and tested Model3\n"
     ]
    },
    {
     "name": "stderr",
     "output_type": "stream",
     "text": [
      " train_acc_hybrid: 9.99e-01 | val_acc_hybrid: 8.12e-01 |: 100%|███| 120/120 [05:33<00:00,  2.78s/it]\n"
     ]
    },
    {
     "name": "stdout",
     "output_type": "stream",
     "text": [
      "saving model version 0.1\n",
      "✅ Best validation Accuracy: 8.8545e-01 at 54 epoch\n",
      "avg_acc 0.848901093006134\n",
      "Testing 10 hidden neurons, lamb=0.01, grid=8\n",
      "checkpoint directory created: ./model\n",
      "saving model version 0.0\n",
      "checkpoint directory created: ./model\n",
      "saving model version 0.0\n",
      "Successfully created and tested Model3\n"
     ]
    },
    {
     "name": "stderr",
     "output_type": "stream",
     "text": [
      " train_acc_hybrid: 8.83e-01 | val_acc_hybrid: 8.34e-01 |: 100%|███| 120/120 [05:14<00:00,  2.62s/it]\n"
     ]
    },
    {
     "name": "stdout",
     "output_type": "stream",
     "text": [
      "saving model version 0.1\n",
      "✅ Best validation Accuracy: 8.5911e-01 at 14 epoch\n",
      "avg_acc 0.8360806107521057\n",
      "Testing 10 hidden neurons, lamb=0.001, grid=8\n",
      "checkpoint directory created: ./model\n",
      "saving model version 0.0\n",
      "checkpoint directory created: ./model\n",
      "saving model version 0.0\n",
      "Successfully created and tested Model3\n"
     ]
    },
    {
     "name": "stderr",
     "output_type": "stream",
     "text": [
      " train_acc_hybrid: 9.95e-01 | val_acc_hybrid: 9.03e-01 |: 100%|███| 120/120 [05:47<00:00,  2.89s/it]\n"
     ]
    },
    {
     "name": "stdout",
     "output_type": "stream",
     "text": [
      "saving model version 0.1\n",
      "✅ Best validation Accuracy: 9.3356e-01 at 54 epoch\n",
      "avg_acc 0.9276556968688965\n",
      "Testing 10 hidden neurons, lamb=0.0001, grid=8\n",
      "checkpoint directory created: ./model\n",
      "saving model version 0.0\n",
      "checkpoint directory created: ./model\n",
      "saving model version 0.0\n",
      "Successfully created and tested Model3\n"
     ]
    },
    {
     "name": "stderr",
     "output_type": "stream",
     "text": [
      " train_acc_hybrid: 9.98e-01 | val_acc_hybrid: 8.21e-01 |: 100%|███| 120/120 [05:56<00:00,  2.97s/it]\n"
     ]
    },
    {
     "name": "stdout",
     "output_type": "stream",
     "text": [
      "saving model version 0.1\n",
      "✅ Best validation Accuracy: 8.8660e-01 at 59 epoch\n",
      "avg_acc 0.8690476417541504\n",
      "Testing 10 hidden neurons, lamb=1e-05, grid=8\n",
      "checkpoint directory created: ./model\n",
      "saving model version 0.0\n",
      "checkpoint directory created: ./model\n",
      "saving model version 0.0\n",
      "Successfully created and tested Model3\n"
     ]
    },
    {
     "name": "stderr",
     "output_type": "stream",
     "text": [
      " train_acc_hybrid: 9.99e-01 | val_acc_hybrid: 8.36e-01 |: 100%|███| 120/120 [05:51<00:00,  2.93s/it]\n"
     ]
    },
    {
     "name": "stdout",
     "output_type": "stream",
     "text": [
      "saving model version 0.1\n",
      "✅ Best validation Accuracy: 9.1409e-01 at 40 epoch\n",
      "avg_acc 0.8974359035491943\n",
      "Testing 10 hidden neurons, lamb=1e-06, grid=8\n",
      "checkpoint directory created: ./model\n",
      "saving model version 0.0\n",
      "checkpoint directory created: ./model\n",
      "saving model version 0.0\n",
      "Successfully created and tested Model3\n"
     ]
    },
    {
     "name": "stderr",
     "output_type": "stream",
     "text": [
      " train_acc_hybrid: 9.99e-01 | val_acc_hybrid: 8.05e-01 |: 100%|███| 120/120 [05:31<00:00,  2.76s/it]\n"
     ]
    },
    {
     "name": "stdout",
     "output_type": "stream",
     "text": [
      "saving model version 0.1\n",
      "✅ Best validation Accuracy: 9.1065e-01 at 17 epoch\n",
      "avg_acc 0.8992673754692078\n",
      "Testing 10 hidden neurons, lamb=1e-07, grid=8\n",
      "checkpoint directory created: ./model\n",
      "saving model version 0.0\n",
      "checkpoint directory created: ./model\n",
      "saving model version 0.0\n",
      "Successfully created and tested Model3\n"
     ]
    },
    {
     "name": "stderr",
     "output_type": "stream",
     "text": [
      " train_acc_hybrid: 9.99e-01 | val_acc_hybrid: 8.11e-01 |: 100%|███| 120/120 [05:51<00:00,  2.93s/it]\n"
     ]
    },
    {
     "name": "stdout",
     "output_type": "stream",
     "text": [
      "saving model version 0.1\n",
      "✅ Best validation Accuracy: 8.7285e-01 at 22 epoch\n",
      "avg_acc 0.8672161102294922\n",
      "Testing 11 hidden neurons, lamb=0.01, grid=3\n",
      "checkpoint directory created: ./model\n",
      "saving model version 0.0\n",
      "checkpoint directory created: ./model\n",
      "saving model version 0.0\n",
      "Successfully created and tested Model3\n"
     ]
    },
    {
     "name": "stderr",
     "output_type": "stream",
     "text": [
      " train_acc_hybrid: 8.19e-01 | val_acc_hybrid: 8.19e-01 |: 100%|███| 120/120 [03:39<00:00,  1.83s/it]\n"
     ]
    },
    {
     "name": "stdout",
     "output_type": "stream",
     "text": [
      "saving model version 0.1\n",
      "✅ Best validation Accuracy: 8.2703e-01 at 28 epoch\n",
      "avg_acc 0.8049450516700745\n",
      "Testing 11 hidden neurons, lamb=0.001, grid=3\n",
      "checkpoint directory created: ./model\n",
      "saving model version 0.0\n",
      "checkpoint directory created: ./model\n",
      "saving model version 0.0\n",
      "Successfully created and tested Model3\n"
     ]
    },
    {
     "name": "stderr",
     "output_type": "stream",
     "text": [
      " train_acc_hybrid: 9.25e-01 | val_acc_hybrid: 8.53e-01 |: 100%|███| 120/120 [03:41<00:00,  1.85s/it]\n"
     ]
    },
    {
     "name": "stdout",
     "output_type": "stream",
     "text": [
      "saving model version 0.1\n",
      "✅ Best validation Accuracy: 8.6140e-01 at 103 epoch\n",
      "avg_acc 0.8644688725471497\n",
      "Testing 11 hidden neurons, lamb=0.0001, grid=3\n",
      "checkpoint directory created: ./model\n",
      "saving model version 0.0\n",
      "checkpoint directory created: ./model\n",
      "saving model version 0.0\n",
      "Successfully created and tested Model3\n"
     ]
    },
    {
     "name": "stderr",
     "output_type": "stream",
     "text": [
      " train_acc_hybrid: 9.64e-01 | val_acc_hybrid: 8.28e-01 |: 100%|███| 120/120 [03:49<00:00,  1.91s/it]\n"
     ]
    },
    {
     "name": "stdout",
     "output_type": "stream",
     "text": [
      "saving model version 0.1\n",
      "✅ Best validation Accuracy: 8.3391e-01 at 95 epoch\n",
      "avg_acc 0.831501841545105\n",
      "Testing 11 hidden neurons, lamb=1e-05, grid=3\n",
      "checkpoint directory created: ./model\n",
      "saving model version 0.0\n",
      "checkpoint directory created: ./model\n",
      "saving model version 0.0\n",
      "Successfully created and tested Model3\n"
     ]
    },
    {
     "name": "stderr",
     "output_type": "stream",
     "text": [
      " train_acc_hybrid: 9.45e-01 | val_acc_hybrid: 8.20e-01 |: 100%|███| 120/120 [03:52<00:00,  1.93s/it]\n"
     ]
    },
    {
     "name": "stdout",
     "output_type": "stream",
     "text": [
      "saving model version 0.1\n",
      "✅ Best validation Accuracy: 8.3276e-01 at 57 epoch\n",
      "avg_acc 0.8360806107521057\n",
      "Testing 11 hidden neurons, lamb=1e-06, grid=3\n",
      "checkpoint directory created: ./model\n",
      "saving model version 0.0\n",
      "checkpoint directory created: ./model\n",
      "saving model version 0.0\n",
      "Successfully created and tested Model3\n"
     ]
    },
    {
     "name": "stderr",
     "output_type": "stream",
     "text": [
      " train_acc_hybrid: 9.75e-01 | val_acc_hybrid: 7.94e-01 |: 100%|███| 120/120 [03:49<00:00,  1.91s/it]\n"
     ]
    },
    {
     "name": "stdout",
     "output_type": "stream",
     "text": [
      "saving model version 0.1\n",
      "✅ Best validation Accuracy: 8.4192e-01 at 22 epoch\n",
      "avg_acc 0.8379120826721191\n",
      "Testing 11 hidden neurons, lamb=1e-07, grid=3\n",
      "checkpoint directory created: ./model\n",
      "saving model version 0.0\n",
      "checkpoint directory created: ./model\n",
      "saving model version 0.0\n",
      "Successfully created and tested Model3\n"
     ]
    },
    {
     "name": "stderr",
     "output_type": "stream",
     "text": [
      " train_acc_hybrid: 9.51e-01 | val_acc_hybrid: 8.10e-01 |: 100%|███| 120/120 [03:55<00:00,  1.96s/it]\n"
     ]
    },
    {
     "name": "stdout",
     "output_type": "stream",
     "text": [
      "saving model version 0.1\n",
      "✅ Best validation Accuracy: 8.2818e-01 at 77 epoch\n",
      "avg_acc 0.8351648449897766\n",
      "Testing 11 hidden neurons, lamb=0.01, grid=4\n",
      "checkpoint directory created: ./model\n",
      "saving model version 0.0\n",
      "checkpoint directory created: ./model\n",
      "saving model version 0.0\n",
      "Successfully created and tested Model3\n"
     ]
    },
    {
     "name": "stderr",
     "output_type": "stream",
     "text": [
      " train_acc_hybrid: 6.85e-01 | val_acc_hybrid: 6.80e-01 |: 100%|███| 120/120 [03:59<00:00,  2.00s/it]\n"
     ]
    },
    {
     "name": "stdout",
     "output_type": "stream",
     "text": [
      "saving model version 0.1\n",
      "✅ Best validation Accuracy: 6.8270e-01 at 86 epoch\n",
      "avg_acc 0.696886420249939\n",
      "Testing 11 hidden neurons, lamb=0.001, grid=4\n",
      "checkpoint directory created: ./model\n",
      "saving model version 0.0\n",
      "checkpoint directory created: ./model\n",
      "saving model version 0.0\n",
      "Successfully created and tested Model3\n"
     ]
    },
    {
     "name": "stderr",
     "output_type": "stream",
     "text": [
      " train_acc_hybrid: 9.66e-01 | val_acc_hybrid: 8.57e-01 |: 100%|███| 120/120 [04:12<00:00,  2.11s/it]\n"
     ]
    },
    {
     "name": "stdout",
     "output_type": "stream",
     "text": [
      "saving model version 0.1\n",
      "✅ Best validation Accuracy: 8.6942e-01 at 91 epoch\n",
      "avg_acc 0.8800366520881653\n",
      "Testing 11 hidden neurons, lamb=0.0001, grid=4\n",
      "checkpoint directory created: ./model\n",
      "saving model version 0.0\n",
      "checkpoint directory created: ./model\n",
      "saving model version 0.0\n",
      "Successfully created and tested Model3\n"
     ]
    },
    {
     "name": "stderr",
     "output_type": "stream",
     "text": [
      " train_acc_hybrid: 9.42e-01 | val_acc_hybrid: 8.22e-01 |: 100%|███| 120/120 [04:20<00:00,  2.17s/it]\n"
     ]
    },
    {
     "name": "stdout",
     "output_type": "stream",
     "text": [
      "saving model version 0.1\n",
      "✅ Best validation Accuracy: 8.2245e-01 at 119 epoch\n",
      "avg_acc 0.8021978139877319\n",
      "Testing 11 hidden neurons, lamb=1e-05, grid=4\n",
      "checkpoint directory created: ./model\n",
      "saving model version 0.0\n",
      "checkpoint directory created: ./model\n",
      "saving model version 0.0\n",
      "Successfully created and tested Model3\n"
     ]
    },
    {
     "name": "stderr",
     "output_type": "stream",
     "text": [
      " train_acc_hybrid: 9.70e-01 | val_acc_hybrid: 8.60e-01 |: 100%|███| 120/120 [04:15<00:00,  2.13s/it]\n"
     ]
    },
    {
     "name": "stdout",
     "output_type": "stream",
     "text": [
      "saving model version 0.1\n",
      "✅ Best validation Accuracy: 8.6942e-01 at 112 epoch\n",
      "avg_acc 0.8543956279754639\n",
      "Testing 11 hidden neurons, lamb=1e-06, grid=4\n",
      "checkpoint directory created: ./model\n",
      "saving model version 0.0\n",
      "checkpoint directory created: ./model\n",
      "saving model version 0.0\n",
      "Successfully created and tested Model3\n"
     ]
    },
    {
     "name": "stderr",
     "output_type": "stream",
     "text": [
      " train_acc_hybrid: 9.72e-01 | val_acc_hybrid: 8.13e-01 |: 100%|███| 120/120 [04:10<00:00,  2.09s/it]\n"
     ]
    },
    {
     "name": "stdout",
     "output_type": "stream",
     "text": [
      "saving model version 0.1\n",
      "✅ Best validation Accuracy: 8.3391e-01 at 55 epoch\n",
      "avg_acc 0.8296703100204468\n",
      "Testing 11 hidden neurons, lamb=1e-07, grid=4\n",
      "checkpoint directory created: ./model\n",
      "saving model version 0.0\n",
      "checkpoint directory created: ./model\n",
      "saving model version 0.0\n",
      "Successfully created and tested Model3\n"
     ]
    },
    {
     "name": "stderr",
     "output_type": "stream",
     "text": [
      " train_acc_hybrid: 9.52e-01 | val_acc_hybrid: 7.73e-01 |: 100%|███| 120/120 [04:17<00:00,  2.15s/it]\n"
     ]
    },
    {
     "name": "stdout",
     "output_type": "stream",
     "text": [
      "saving model version 0.1\n",
      "✅ Best validation Accuracy: 8.1214e-01 at 72 epoch\n",
      "avg_acc 0.7893772721290588\n",
      "Testing 11 hidden neurons, lamb=0.01, grid=5\n",
      "checkpoint directory created: ./model\n",
      "saving model version 0.0\n",
      "checkpoint directory created: ./model\n",
      "saving model version 0.0\n",
      "Successfully created and tested Model3\n"
     ]
    },
    {
     "name": "stderr",
     "output_type": "stream",
     "text": [
      " train_acc_hybrid: 5.98e-01 | val_acc_hybrid: 6.14e-01 |: 100%|███| 120/120 [02:38<00:00,  1.32s/it]\n"
     ]
    },
    {
     "name": "stdout",
     "output_type": "stream",
     "text": [
      "saving model version 0.1\n",
      "✅ Best validation Accuracy: 6.1627e-01 at 28 epoch\n",
      "avg_acc 0.5979853272438049\n",
      "Testing 11 hidden neurons, lamb=0.001, grid=5\n",
      "checkpoint directory created: ./model\n",
      "saving model version 0.0\n",
      "checkpoint directory created: ./model\n",
      "saving model version 0.0\n",
      "Successfully created and tested Model3\n"
     ]
    },
    {
     "name": "stderr",
     "output_type": "stream",
     "text": [
      " train_acc_hybrid: 9.80e-01 | val_acc_hybrid: 8.65e-01 |: 100%|███| 120/120 [04:29<00:00,  2.24s/it]\n"
     ]
    },
    {
     "name": "stdout",
     "output_type": "stream",
     "text": [
      "saving model version 0.1\n",
      "✅ Best validation Accuracy: 8.7285e-01 at 68 epoch\n",
      "avg_acc 0.8626373410224915\n",
      "Testing 11 hidden neurons, lamb=0.0001, grid=5\n",
      "checkpoint directory created: ./model\n",
      "saving model version 0.0\n",
      "checkpoint directory created: ./model\n",
      "saving model version 0.0\n",
      "Successfully created and tested Model3\n"
     ]
    },
    {
     "name": "stderr",
     "output_type": "stream",
     "text": [
      " train_acc_hybrid: 9.88e-01 | val_acc_hybrid: 8.20e-01 |: 100%|███| 120/120 [04:31<00:00,  2.26s/it]\n"
     ]
    },
    {
     "name": "stdout",
     "output_type": "stream",
     "text": [
      "saving model version 0.1\n",
      "✅ Best validation Accuracy: 8.6712e-01 at 32 epoch\n",
      "avg_acc 0.8672161102294922\n",
      "Testing 11 hidden neurons, lamb=1e-05, grid=5\n",
      "checkpoint directory created: ./model\n",
      "saving model version 0.0\n",
      "checkpoint directory created: ./model\n",
      "saving model version 0.0\n",
      "Successfully created and tested Model3\n"
     ]
    },
    {
     "name": "stderr",
     "output_type": "stream",
     "text": [
      " train_acc_hybrid: 9.90e-01 | val_acc_hybrid: 7.98e-01 |: 100%|███| 120/120 [04:38<00:00,  2.32s/it]\n"
     ]
    },
    {
     "name": "stdout",
     "output_type": "stream",
     "text": [
      "saving model version 0.1\n",
      "✅ Best validation Accuracy: 8.3620e-01 at 60 epoch\n",
      "avg_acc 0.8296703100204468\n",
      "Testing 11 hidden neurons, lamb=1e-06, grid=5\n",
      "checkpoint directory created: ./model\n",
      "saving model version 0.0\n",
      "checkpoint directory created: ./model\n",
      "saving model version 0.0\n",
      "Successfully created and tested Model3\n"
     ]
    },
    {
     "name": "stderr",
     "output_type": "stream",
     "text": [
      " train_acc_hybrid: 9.81e-01 | val_acc_hybrid: 8.38e-01 |: 100%|███| 120/120 [04:33<00:00,  2.28s/it]\n"
     ]
    },
    {
     "name": "stdout",
     "output_type": "stream",
     "text": [
      "saving model version 0.1\n",
      "✅ Best validation Accuracy: 8.6483e-01 at 68 epoch\n",
      "avg_acc 0.8562270998954773\n",
      "Testing 11 hidden neurons, lamb=1e-07, grid=5\n",
      "checkpoint directory created: ./model\n",
      "saving model version 0.0\n",
      "checkpoint directory created: ./model\n",
      "saving model version 0.0\n",
      "Successfully created and tested Model3\n"
     ]
    },
    {
     "name": "stderr",
     "output_type": "stream",
     "text": [
      " train_acc_hybrid: 9.89e-01 | val_acc_hybrid: 7.95e-01 |: 100%|███| 120/120 [04:36<00:00,  2.30s/it]\n"
     ]
    },
    {
     "name": "stdout",
     "output_type": "stream",
     "text": [
      "saving model version 0.1\n",
      "✅ Best validation Accuracy: 8.3734e-01 at 66 epoch\n",
      "avg_acc 0.8443223237991333\n",
      "Testing 11 hidden neurons, lamb=0.01, grid=6\n",
      "checkpoint directory created: ./model\n",
      "saving model version 0.0\n",
      "checkpoint directory created: ./model\n",
      "saving model version 0.0\n",
      "Successfully created and tested Model3\n"
     ]
    },
    {
     "name": "stderr",
     "output_type": "stream",
     "text": [
      " train_acc_hybrid: 9.37e-01 | val_acc_hybrid: 9.03e-01 |: 100%|███| 120/120 [04:38<00:00,  2.32s/it]\n"
     ]
    },
    {
     "name": "stdout",
     "output_type": "stream",
     "text": [
      "saving model version 0.1\n",
      "✅ Best validation Accuracy: 9.1180e-01 at 24 epoch\n",
      "avg_acc 0.9084249138832092\n",
      "Testing 11 hidden neurons, lamb=0.001, grid=6\n",
      "checkpoint directory created: ./model\n",
      "saving model version 0.0\n",
      "checkpoint directory created: ./model\n",
      "saving model version 0.0\n",
      "Successfully created and tested Model3\n"
     ]
    },
    {
     "name": "stderr",
     "output_type": "stream",
     "text": [
      " train_acc_hybrid: 9.91e-01 | val_acc_hybrid: 8.40e-01 |: 100%|███| 120/120 [04:57<00:00,  2.48s/it]\n"
     ]
    },
    {
     "name": "stdout",
     "output_type": "stream",
     "text": [
      "saving model version 0.1\n",
      "✅ Best validation Accuracy: 8.8660e-01 at 16 epoch\n",
      "avg_acc 0.8553113341331482\n",
      "Testing 11 hidden neurons, lamb=0.0001, grid=6\n",
      "checkpoint directory created: ./model\n",
      "saving model version 0.0\n",
      "checkpoint directory created: ./model\n",
      "saving model version 0.0\n",
      "Successfully created and tested Model3\n"
     ]
    },
    {
     "name": "stderr",
     "output_type": "stream",
     "text": [
      " train_acc_hybrid: 9.99e-01 | val_acc_hybrid: 7.86e-01 |: 100%|███| 120/120 [04:57<00:00,  2.48s/it]\n"
     ]
    },
    {
     "name": "stdout",
     "output_type": "stream",
     "text": [
      "saving model version 0.1\n",
      "✅ Best validation Accuracy: 8.7171e-01 at 18 epoch\n",
      "avg_acc 0.8827838897705078\n",
      "Testing 11 hidden neurons, lamb=1e-05, grid=6\n",
      "checkpoint directory created: ./model\n",
      "saving model version 0.0\n",
      "checkpoint directory created: ./model\n",
      "saving model version 0.0\n",
      "Successfully created and tested Model3\n"
     ]
    },
    {
     "name": "stderr",
     "output_type": "stream",
     "text": [
      " train_acc_hybrid: 9.73e-01 | val_acc_hybrid: 8.12e-01 |: 100%|███| 120/120 [05:04<00:00,  2.54s/it]\n"
     ]
    },
    {
     "name": "stdout",
     "output_type": "stream",
     "text": [
      "saving model version 0.1\n",
      "✅ Best validation Accuracy: 8.6254e-01 at 58 epoch\n",
      "avg_acc 0.8598901033401489\n",
      "Testing 11 hidden neurons, lamb=1e-06, grid=6\n",
      "checkpoint directory created: ./model\n",
      "saving model version 0.0\n",
      "checkpoint directory created: ./model\n",
      "saving model version 0.0\n",
      "Successfully created and tested Model3\n"
     ]
    },
    {
     "name": "stderr",
     "output_type": "stream",
     "text": [
      " train_acc_hybrid: 9.87e-01 | val_acc_hybrid: 8.24e-01 |: 100%|███| 120/120 [05:05<00:00,  2.54s/it]\n"
     ]
    },
    {
     "name": "stdout",
     "output_type": "stream",
     "text": [
      "saving model version 0.1\n",
      "✅ Best validation Accuracy: 8.5452e-01 at 49 epoch\n",
      "avg_acc 0.8598901033401489\n",
      "Testing 11 hidden neurons, lamb=1e-07, grid=6\n",
      "checkpoint directory created: ./model\n",
      "saving model version 0.0\n",
      "checkpoint directory created: ./model\n",
      "saving model version 0.0\n",
      "Successfully created and tested Model3\n"
     ]
    },
    {
     "name": "stderr",
     "output_type": "stream",
     "text": [
      " train_acc_hybrid: 9.94e-01 | val_acc_hybrid: 7.87e-01 |: 100%|███| 120/120 [05:05<00:00,  2.55s/it]\n"
     ]
    },
    {
     "name": "stdout",
     "output_type": "stream",
     "text": [
      "saving model version 0.1\n",
      "✅ Best validation Accuracy: 8.6942e-01 at 23 epoch\n",
      "avg_acc 0.8653846383094788\n",
      "Testing 11 hidden neurons, lamb=0.01, grid=7\n",
      "checkpoint directory created: ./model\n",
      "saving model version 0.0\n",
      "checkpoint directory created: ./model\n",
      "saving model version 0.0\n",
      "Successfully created and tested Model3\n"
     ]
    },
    {
     "name": "stderr",
     "output_type": "stream",
     "text": [
      " train_acc_hybrid: 7.29e-01 | val_acc_hybrid: 6.84e-01 |: 100%|███| 120/120 [05:26<00:00,  2.72s/it]\n"
     ]
    },
    {
     "name": "stdout",
     "output_type": "stream",
     "text": [
      "saving model version 0.1\n",
      "✅ Best validation Accuracy: 6.8729e-01 at 105 epoch\n",
      "avg_acc 0.7124541997909546\n",
      "Testing 11 hidden neurons, lamb=0.001, grid=7\n",
      "checkpoint directory created: ./model\n",
      "saving model version 0.0\n",
      "checkpoint directory created: ./model\n",
      "saving model version 0.0\n",
      "Successfully created and tested Model3\n"
     ]
    },
    {
     "name": "stderr",
     "output_type": "stream",
     "text": [
      " train_acc_hybrid: 9.90e-01 | val_acc_hybrid: 8.75e-01 |: 100%|███| 120/120 [05:22<00:00,  2.69s/it]\n"
     ]
    },
    {
     "name": "stdout",
     "output_type": "stream",
     "text": [
      "saving model version 0.1\n",
      "✅ Best validation Accuracy: 9.0951e-01 at 60 epoch\n",
      "avg_acc 0.9020146727561951\n",
      "Testing 11 hidden neurons, lamb=0.0001, grid=7\n",
      "checkpoint directory created: ./model\n",
      "saving model version 0.0\n",
      "checkpoint directory created: ./model\n",
      "saving model version 0.0\n",
      "Successfully created and tested Model3\n"
     ]
    },
    {
     "name": "stderr",
     "output_type": "stream",
     "text": [
      " train_acc_hybrid: 9.96e-01 | val_acc_hybrid: 8.81e-01 |: 100%|███| 120/120 [05:22<00:00,  2.68s/it]\n"
     ]
    },
    {
     "name": "stdout",
     "output_type": "stream",
     "text": [
      "saving model version 0.1\n",
      "✅ Best validation Accuracy: 9.0378e-01 at 58 epoch\n",
      "avg_acc 0.9056776762008667\n",
      "Testing 11 hidden neurons, lamb=1e-05, grid=7\n",
      "checkpoint directory created: ./model\n",
      "saving model version 0.0\n",
      "checkpoint directory created: ./model\n",
      "saving model version 0.0\n",
      "Successfully created and tested Model3\n"
     ]
    },
    {
     "name": "stderr",
     "output_type": "stream",
     "text": [
      " train_acc_hybrid: 9.98e-01 | val_acc_hybrid: 8.47e-01 |: 100%|███| 120/120 [05:18<00:00,  2.65s/it]\n"
     ]
    },
    {
     "name": "stdout",
     "output_type": "stream",
     "text": [
      "saving model version 0.1\n",
      "✅ Best validation Accuracy: 9.1065e-01 at 44 epoch\n",
      "avg_acc 0.9020146727561951\n",
      "Testing 11 hidden neurons, lamb=1e-06, grid=7\n",
      "checkpoint directory created: ./model\n",
      "saving model version 0.0\n",
      "checkpoint directory created: ./model\n",
      "saving model version 0.0\n",
      "Successfully created and tested Model3\n"
     ]
    },
    {
     "name": "stderr",
     "output_type": "stream",
     "text": [
      " train_acc_hybrid: 9.85e-01 | val_acc_hybrid: 8.20e-01 |: 100%|███| 120/120 [05:20<00:00,  2.67s/it]\n"
     ]
    },
    {
     "name": "stdout",
     "output_type": "stream",
     "text": [
      "saving model version 0.1\n",
      "✅ Best validation Accuracy: 8.5109e-01 at 100 epoch\n",
      "avg_acc 0.8534798622131348\n",
      "Testing 11 hidden neurons, lamb=1e-07, grid=7\n",
      "checkpoint directory created: ./model\n",
      "saving model version 0.0\n",
      "checkpoint directory created: ./model\n",
      "saving model version 0.0\n",
      "Successfully created and tested Model3\n"
     ]
    },
    {
     "name": "stderr",
     "output_type": "stream",
     "text": [
      " train_acc_hybrid: 9.96e-01 | val_acc_hybrid: 8.63e-01 |: 100%|███| 120/120 [05:23<00:00,  2.69s/it]\n"
     ]
    },
    {
     "name": "stdout",
     "output_type": "stream",
     "text": [
      "saving model version 0.1\n",
      "✅ Best validation Accuracy: 8.9347e-01 at 80 epoch\n",
      "avg_acc 0.8782051205635071\n",
      "Testing 11 hidden neurons, lamb=0.01, grid=8\n",
      "checkpoint directory created: ./model\n",
      "saving model version 0.0\n",
      "checkpoint directory created: ./model\n",
      "saving model version 0.0\n",
      "Successfully created and tested Model3\n"
     ]
    },
    {
     "name": "stderr",
     "output_type": "stream",
     "text": [
      " train_acc_hybrid: 9.64e-01 | val_acc_hybrid: 9.30e-01 |: 100%|███| 120/120 [05:16<00:00,  2.64s/it]\n"
     ]
    },
    {
     "name": "stdout",
     "output_type": "stream",
     "text": [
      "saving model version 0.1\n",
      "✅ Best validation Accuracy: 9.3242e-01 at 106 epoch\n",
      "avg_acc 0.9276556968688965\n",
      "Testing 11 hidden neurons, lamb=0.001, grid=8\n",
      "checkpoint directory created: ./model\n",
      "saving model version 0.0\n",
      "checkpoint directory created: ./model\n",
      "saving model version 0.0\n",
      "Successfully created and tested Model3\n"
     ]
    },
    {
     "name": "stderr",
     "output_type": "stream",
     "text": [
      " train_acc_hybrid: 9.97e-01 | val_acc_hybrid: 8.59e-01 |: 100%|███| 120/120 [05:42<00:00,  2.86s/it]\n"
     ]
    },
    {
     "name": "stdout",
     "output_type": "stream",
     "text": [
      "saving model version 0.1\n",
      "✅ Best validation Accuracy: 9.0951e-01 at 38 epoch\n",
      "avg_acc 0.8956043720245361\n",
      "Testing 11 hidden neurons, lamb=0.0001, grid=8\n",
      "checkpoint directory created: ./model\n",
      "saving model version 0.0\n",
      "checkpoint directory created: ./model\n",
      "saving model version 0.0\n",
      "Successfully created and tested Model3\n"
     ]
    },
    {
     "name": "stderr",
     "output_type": "stream",
     "text": [
      " train_acc_hybrid: 9.99e-01 | val_acc_hybrid: 8.14e-01 |: 100%|███| 120/120 [05:36<00:00,  2.80s/it]\n"
     ]
    },
    {
     "name": "stdout",
     "output_type": "stream",
     "text": [
      "saving model version 0.1\n",
      "✅ Best validation Accuracy: 9.3814e-01 at 24 epoch\n",
      "avg_acc 0.9276556968688965\n",
      "Testing 11 hidden neurons, lamb=1e-05, grid=8\n",
      "checkpoint directory created: ./model\n",
      "saving model version 0.0\n",
      "checkpoint directory created: ./model\n",
      "saving model version 0.0\n",
      "Successfully created and tested Model3\n"
     ]
    },
    {
     "name": "stderr",
     "output_type": "stream",
     "text": [
      " train_acc_hybrid: 9.99e-01 | val_acc_hybrid: 8.37e-01 |: 100%|███| 120/120 [05:41<00:00,  2.85s/it]\n"
     ]
    },
    {
     "name": "stdout",
     "output_type": "stream",
     "text": [
      "saving model version 0.1\n",
      "✅ Best validation Accuracy: 9.1638e-01 at 45 epoch\n",
      "avg_acc 0.9029303789138794\n",
      "Testing 11 hidden neurons, lamb=1e-06, grid=8\n",
      "checkpoint directory created: ./model\n",
      "saving model version 0.0\n",
      "checkpoint directory created: ./model\n",
      "saving model version 0.0\n",
      "Successfully created and tested Model3\n"
     ]
    },
    {
     "name": "stderr",
     "output_type": "stream",
     "text": [
      " train_acc_hybrid: 9.99e-01 | val_acc_hybrid: 8.40e-01 |: 100%|███| 120/120 [05:46<00:00,  2.88s/it]\n"
     ]
    },
    {
     "name": "stdout",
     "output_type": "stream",
     "text": [
      "saving model version 0.1\n",
      "✅ Best validation Accuracy: 9.1065e-01 at 34 epoch\n",
      "avg_acc 0.8983516693115234\n",
      "Testing 11 hidden neurons, lamb=1e-07, grid=8\n",
      "checkpoint directory created: ./model\n",
      "saving model version 0.0\n",
      "checkpoint directory created: ./model\n",
      "saving model version 0.0\n",
      "Successfully created and tested Model3\n"
     ]
    },
    {
     "name": "stderr",
     "output_type": "stream",
     "text": [
      " train_acc_hybrid: 9.99e-01 | val_acc_hybrid: 8.36e-01 |: 100%|███| 120/120 [05:39<00:00,  2.83s/it]\n"
     ]
    },
    {
     "name": "stdout",
     "output_type": "stream",
     "text": [
      "saving model version 0.1\n",
      "✅ Best validation Accuracy: 9.2554e-01 at 25 epoch\n",
      "avg_acc 0.9175823926925659\n",
      "Testing 12 hidden neurons, lamb=0.01, grid=3\n",
      "checkpoint directory created: ./model\n",
      "saving model version 0.0\n",
      "checkpoint directory created: ./model\n",
      "saving model version 0.0\n",
      "Successfully created and tested Model3\n"
     ]
    },
    {
     "name": "stderr",
     "output_type": "stream",
     "text": [
      " train_acc_hybrid: 6.03e-01 | val_acc_hybrid: 6.33e-01 |: 100%|███| 120/120 [03:09<00:00,  1.58s/it]\n"
     ]
    },
    {
     "name": "stdout",
     "output_type": "stream",
     "text": [
      "saving model version 0.1\n",
      "✅ Best validation Accuracy: 6.3459e-01 at 92 epoch\n",
      "avg_acc 0.6016483306884766\n",
      "Testing 12 hidden neurons, lamb=0.001, grid=3\n",
      "checkpoint directory created: ./model\n",
      "saving model version 0.0\n",
      "checkpoint directory created: ./model\n",
      "saving model version 0.0\n",
      "Successfully created and tested Model3\n"
     ]
    },
    {
     "name": "stderr",
     "output_type": "stream",
     "text": [
      " train_acc_hybrid: 9.38e-01 | val_acc_hybrid: 8.75e-01 |: 100%|███| 120/120 [03:39<00:00,  1.83s/it]\n"
     ]
    },
    {
     "name": "stdout",
     "output_type": "stream",
     "text": [
      "saving model version 0.1\n",
      "✅ Best validation Accuracy: 8.9233e-01 at 55 epoch\n",
      "avg_acc 0.8717948794364929\n",
      "Testing 12 hidden neurons, lamb=0.0001, grid=3\n",
      "checkpoint directory created: ./model\n",
      "saving model version 0.0\n",
      "checkpoint directory created: ./model\n",
      "saving model version 0.0\n",
      "Successfully created and tested Model3\n"
     ]
    },
    {
     "name": "stderr",
     "output_type": "stream",
     "text": [
      " train_acc_hybrid: 9.83e-01 | val_acc_hybrid: 8.05e-01 |: 100%|███| 120/120 [03:40<00:00,  1.83s/it]\n"
     ]
    },
    {
     "name": "stdout",
     "output_type": "stream",
     "text": [
      "saving model version 0.1\n",
      "✅ Best validation Accuracy: 8.4994e-01 at 62 epoch\n",
      "avg_acc 0.8305860757827759\n",
      "Testing 12 hidden neurons, lamb=1e-05, grid=3\n",
      "checkpoint directory created: ./model\n",
      "saving model version 0.0\n",
      "checkpoint directory created: ./model\n",
      "saving model version 0.0\n",
      "Successfully created and tested Model3\n"
     ]
    },
    {
     "name": "stderr",
     "output_type": "stream",
     "text": [
      " train_acc_hybrid: 8.10e-01 | val_acc_hybrid: 7.43e-01 |: 100%|███| 120/120 [03:49<00:00,  1.92s/it]\n"
     ]
    },
    {
     "name": "stdout",
     "output_type": "stream",
     "text": [
      "saving model version 0.1\n",
      "✅ Best validation Accuracy: 7.5372e-01 at 116 epoch\n",
      "avg_acc 0.7527472376823425\n",
      "Testing 12 hidden neurons, lamb=1e-06, grid=3\n",
      "checkpoint directory created: ./model\n",
      "saving model version 0.0\n",
      "checkpoint directory created: ./model\n",
      "saving model version 0.0\n",
      "Successfully created and tested Model3\n"
     ]
    },
    {
     "name": "stderr",
     "output_type": "stream",
     "text": [
      " train_acc_hybrid: 9.37e-01 | val_acc_hybrid: 8.34e-01 |: 100%|███| 120/120 [03:42<00:00,  1.85s/it]\n"
     ]
    },
    {
     "name": "stdout",
     "output_type": "stream",
     "text": [
      "saving model version 0.1\n",
      "✅ Best validation Accuracy: 8.3620e-01 at 118 epoch\n",
      "avg_acc 0.819597065448761\n",
      "Testing 12 hidden neurons, lamb=1e-07, grid=3\n",
      "checkpoint directory created: ./model\n",
      "saving model version 0.0\n",
      "checkpoint directory created: ./model\n",
      "saving model version 0.0\n",
      "Successfully created and tested Model3\n"
     ]
    },
    {
     "name": "stderr",
     "output_type": "stream",
     "text": [
      " train_acc_hybrid: 9.37e-01 | val_acc_hybrid: 8.27e-01 |: 100%|███| 120/120 [03:43<00:00,  1.86s/it]\n"
     ]
    },
    {
     "name": "stdout",
     "output_type": "stream",
     "text": [
      "saving model version 0.1\n",
      "✅ Best validation Accuracy: 8.4422e-01 at 95 epoch\n",
      "avg_acc 0.8461538553237915\n",
      "Testing 12 hidden neurons, lamb=0.01, grid=4\n",
      "checkpoint directory created: ./model\n",
      "saving model version 0.0\n",
      "checkpoint directory created: ./model\n",
      "saving model version 0.0\n",
      "Successfully created and tested Model3\n"
     ]
    },
    {
     "name": "stderr",
     "output_type": "stream",
     "text": [
      " train_acc_hybrid: 8.54e-01 | val_acc_hybrid: 8.17e-01 |: 100%|███| 120/120 [03:59<00:00,  1.99s/it]\n"
     ]
    },
    {
     "name": "stdout",
     "output_type": "stream",
     "text": [
      "saving model version 0.1\n",
      "✅ Best validation Accuracy: 8.2131e-01 at 86 epoch\n",
      "avg_acc 0.8122710585594177\n",
      "Testing 12 hidden neurons, lamb=0.001, grid=4\n",
      "checkpoint directory created: ./model\n",
      "saving model version 0.0\n",
      "checkpoint directory created: ./model\n",
      "saving model version 0.0\n",
      "Successfully created and tested Model3\n"
     ]
    },
    {
     "name": "stderr",
     "output_type": "stream",
     "text": [
      " train_acc_hybrid: 9.62e-01 | val_acc_hybrid: 8.67e-01 |: 100%|███| 120/120 [04:05<00:00,  2.05s/it]\n"
     ]
    },
    {
     "name": "stdout",
     "output_type": "stream",
     "text": [
      "saving model version 0.1\n",
      "✅ Best validation Accuracy: 8.7400e-01 at 91 epoch\n",
      "avg_acc 0.8479853272438049\n",
      "Testing 12 hidden neurons, lamb=0.0001, grid=4\n",
      "checkpoint directory created: ./model\n",
      "saving model version 0.0\n",
      "checkpoint directory created: ./model\n",
      "saving model version 0.0\n",
      "Successfully created and tested Model3\n"
     ]
    },
    {
     "name": "stderr",
     "output_type": "stream",
     "text": [
      " train_acc_hybrid: 9.75e-01 | val_acc_hybrid: 8.48e-01 |: 100%|███| 120/120 [04:10<00:00,  2.08s/it]\n"
     ]
    },
    {
     "name": "stdout",
     "output_type": "stream",
     "text": [
      "saving model version 0.1\n",
      "✅ Best validation Accuracy: 8.5682e-01 at 35 epoch\n",
      "avg_acc 0.848901093006134\n",
      "Testing 12 hidden neurons, lamb=1e-05, grid=4\n",
      "checkpoint directory created: ./model\n",
      "saving model version 0.0\n",
      "checkpoint directory created: ./model\n",
      "saving model version 0.0\n",
      "Successfully created and tested Model3\n"
     ]
    },
    {
     "name": "stderr",
     "output_type": "stream",
     "text": [
      " train_acc_hybrid: 9.57e-01 | val_acc_hybrid: 8.51e-01 |: 100%|███| 120/120 [04:03<00:00,  2.03s/it]\n"
     ]
    },
    {
     "name": "stdout",
     "output_type": "stream",
     "text": [
      "saving model version 0.1\n",
      "✅ Best validation Accuracy: 8.6598e-01 at 87 epoch\n",
      "avg_acc 0.8681318759918213\n",
      "Testing 12 hidden neurons, lamb=1e-06, grid=4\n",
      "checkpoint directory created: ./model\n",
      "saving model version 0.0\n",
      "checkpoint directory created: ./model\n",
      "saving model version 0.0\n",
      "Successfully created and tested Model3\n"
     ]
    },
    {
     "name": "stderr",
     "output_type": "stream",
     "text": [
      " train_acc_hybrid: 8.90e-01 | val_acc_hybrid: 8.27e-01 |: 100%|███| 120/120 [04:18<00:00,  2.15s/it]\n"
     ]
    },
    {
     "name": "stdout",
     "output_type": "stream",
     "text": [
      "saving model version 0.1\n",
      "✅ Best validation Accuracy: 8.3162e-01 at 82 epoch\n",
      "avg_acc 0.8342490792274475\n",
      "Testing 12 hidden neurons, lamb=1e-07, grid=4\n",
      "checkpoint directory created: ./model\n",
      "saving model version 0.0\n",
      "checkpoint directory created: ./model\n",
      "saving model version 0.0\n",
      "Successfully created and tested Model3\n"
     ]
    },
    {
     "name": "stderr",
     "output_type": "stream",
     "text": [
      " train_acc_hybrid: 9.74e-01 | val_acc_hybrid: 8.29e-01 |: 100%|███| 120/120 [04:05<00:00,  2.04s/it]\n"
     ]
    },
    {
     "name": "stdout",
     "output_type": "stream",
     "text": [
      "saving model version 0.1\n",
      "✅ Best validation Accuracy: 8.5338e-01 at 22 epoch\n",
      "avg_acc 0.8360806107521057\n",
      "Testing 12 hidden neurons, lamb=0.01, grid=5\n",
      "checkpoint directory created: ./model\n",
      "saving model version 0.0\n",
      "checkpoint directory created: ./model\n",
      "saving model version 0.0\n",
      "Successfully created and tested Model3\n"
     ]
    },
    {
     "name": "stderr",
     "output_type": "stream",
     "text": [
      " train_acc_hybrid: 8.25e-01 | val_acc_hybrid: 7.94e-01 |: 100%|███| 120/120 [04:24<00:00,  2.20s/it]\n"
     ]
    },
    {
     "name": "stdout",
     "output_type": "stream",
     "text": [
      "saving model version 0.1\n",
      "✅ Best validation Accuracy: 7.9840e-01 at 87 epoch\n",
      "avg_acc 0.8067765831947327\n",
      "Testing 12 hidden neurons, lamb=0.001, grid=5\n",
      "checkpoint directory created: ./model\n",
      "saving model version 0.0\n",
      "checkpoint directory created: ./model\n",
      "saving model version 0.0\n",
      "Successfully created and tested Model3\n"
     ]
    },
    {
     "name": "stderr",
     "output_type": "stream",
     "text": [
      " train_acc_hybrid: 9.81e-01 | val_acc_hybrid: 8.68e-01 |: 100%|███| 120/120 [04:28<00:00,  2.24s/it]\n"
     ]
    },
    {
     "name": "stdout",
     "output_type": "stream",
     "text": [
      "saving model version 0.1\n",
      "✅ Best validation Accuracy: 8.9691e-01 at 41 epoch\n",
      "avg_acc 0.8855311274528503\n",
      "Testing 12 hidden neurons, lamb=0.0001, grid=5\n",
      "checkpoint directory created: ./model\n",
      "saving model version 0.0\n",
      "checkpoint directory created: ./model\n",
      "saving model version 0.0\n",
      "Successfully created and tested Model3\n"
     ]
    },
    {
     "name": "stderr",
     "output_type": "stream",
     "text": [
      " train_acc_hybrid: 9.97e-01 | val_acc_hybrid: 7.98e-01 |: 100%|███| 120/120 [04:30<00:00,  2.26s/it]\n"
     ]
    },
    {
     "name": "stdout",
     "output_type": "stream",
     "text": [
      "saving model version 0.1\n",
      "✅ Best validation Accuracy: 8.7858e-01 at 23 epoch\n",
      "avg_acc 0.8562270998954773\n",
      "Testing 12 hidden neurons, lamb=1e-05, grid=5\n",
      "checkpoint directory created: ./model\n",
      "saving model version 0.0\n",
      "checkpoint directory created: ./model\n",
      "saving model version 0.0\n",
      "Successfully created and tested Model3\n"
     ]
    },
    {
     "name": "stderr",
     "output_type": "stream",
     "text": [
      " train_acc_hybrid: 9.92e-01 | val_acc_hybrid: 8.06e-01 |: 100%|███| 120/120 [04:32<00:00,  2.27s/it]\n"
     ]
    },
    {
     "name": "stdout",
     "output_type": "stream",
     "text": [
      "saving model version 0.1\n",
      "✅ Best validation Accuracy: 8.7056e-01 at 26 epoch\n",
      "avg_acc 0.8589743375778198\n",
      "Testing 12 hidden neurons, lamb=1e-06, grid=5\n",
      "checkpoint directory created: ./model\n",
      "saving model version 0.0\n",
      "checkpoint directory created: ./model\n",
      "saving model version 0.0\n",
      "Successfully created and tested Model3\n"
     ]
    },
    {
     "name": "stderr",
     "output_type": "stream",
     "text": [
      " train_acc_hybrid: 9.98e-01 | val_acc_hybrid: 7.78e-01 |: 100%|███| 120/120 [04:30<00:00,  2.25s/it]\n"
     ]
    },
    {
     "name": "stdout",
     "output_type": "stream",
     "text": [
      "saving model version 0.1\n",
      "✅ Best validation Accuracy: 8.7629e-01 at 13 epoch\n",
      "avg_acc 0.8873626589775085\n",
      "Testing 12 hidden neurons, lamb=1e-07, grid=5\n",
      "checkpoint directory created: ./model\n",
      "saving model version 0.0\n",
      "checkpoint directory created: ./model\n",
      "saving model version 0.0\n",
      "Successfully created and tested Model3\n"
     ]
    },
    {
     "name": "stderr",
     "output_type": "stream",
     "text": [
      " train_acc_hybrid: 9.97e-01 | val_acc_hybrid: 7.98e-01 |: 100%|███| 120/120 [04:28<00:00,  2.24s/it]\n"
     ]
    },
    {
     "name": "stdout",
     "output_type": "stream",
     "text": [
      "saving model version 0.1\n",
      "✅ Best validation Accuracy: 8.8431e-01 at 16 epoch\n",
      "avg_acc 0.8800366520881653\n",
      "Testing 12 hidden neurons, lamb=0.01, grid=6\n",
      "checkpoint directory created: ./model\n",
      "saving model version 0.0\n",
      "checkpoint directory created: ./model\n",
      "saving model version 0.0\n",
      "Successfully created and tested Model3\n"
     ]
    },
    {
     "name": "stderr",
     "output_type": "stream",
     "text": [
      " train_acc_hybrid: 8.69e-01 | val_acc_hybrid: 8.53e-01 |: 100%|███| 120/120 [04:09<00:00,  2.08s/it]\n"
     ]
    },
    {
     "name": "stdout",
     "output_type": "stream",
     "text": [
      "saving model version 0.1\n",
      "✅ Best validation Accuracy: 8.5796e-01 at 36 epoch\n",
      "avg_acc 0.8543956279754639\n",
      "Testing 12 hidden neurons, lamb=0.001, grid=6\n",
      "checkpoint directory created: ./model\n",
      "saving model version 0.0\n",
      "checkpoint directory created: ./model\n",
      "saving model version 0.0\n",
      "Successfully created and tested Model3\n"
     ]
    },
    {
     "name": "stderr",
     "output_type": "stream",
     "text": [
      " train_acc_hybrid: 9.91e-01 | val_acc_hybrid: 8.65e-01 |: 100%|███| 120/120 [04:49<00:00,  2.42s/it]\n"
     ]
    },
    {
     "name": "stdout",
     "output_type": "stream",
     "text": [
      "saving model version 0.1\n",
      "✅ Best validation Accuracy: 9.0263e-01 at 22 epoch\n",
      "avg_acc 0.9047619104385376\n",
      "Testing 12 hidden neurons, lamb=0.0001, grid=6\n",
      "checkpoint directory created: ./model\n",
      "saving model version 0.0\n",
      "checkpoint directory created: ./model\n",
      "saving model version 0.0\n",
      "Successfully created and tested Model3\n"
     ]
    },
    {
     "name": "stderr",
     "output_type": "stream",
     "text": [
      " train_acc_hybrid: 9.96e-01 | val_acc_hybrid: 8.49e-01 |: 100%|███| 120/120 [05:03<00:00,  2.53s/it]\n"
     ]
    },
    {
     "name": "stdout",
     "output_type": "stream",
     "text": [
      "saving model version 0.1\n",
      "✅ Best validation Accuracy: 8.9805e-01 at 44 epoch\n",
      "avg_acc 0.8919413685798645\n",
      "Testing 12 hidden neurons, lamb=1e-05, grid=6\n",
      "checkpoint directory created: ./model\n",
      "saving model version 0.0\n",
      "checkpoint directory created: ./model\n",
      "saving model version 0.0\n",
      "Successfully created and tested Model3\n"
     ]
    },
    {
     "name": "stderr",
     "output_type": "stream",
     "text": [
      " train_acc_hybrid: 9.99e-01 | val_acc_hybrid: 7.86e-01 |: 100%|███| 120/120 [04:46<00:00,  2.38s/it]\n"
     ]
    },
    {
     "name": "stdout",
     "output_type": "stream",
     "text": [
      "saving model version 0.1\n",
      "✅ Best validation Accuracy: 8.9576e-01 at 9 epoch\n",
      "avg_acc 0.9056776762008667\n",
      "Testing 12 hidden neurons, lamb=1e-06, grid=6\n",
      "checkpoint directory created: ./model\n",
      "saving model version 0.0\n",
      "checkpoint directory created: ./model\n",
      "saving model version 0.0\n",
      "Successfully created and tested Model3\n"
     ]
    },
    {
     "name": "stderr",
     "output_type": "stream",
     "text": [
      " train_acc_hybrid: 9.99e-01 | val_acc_hybrid: 8.19e-01 |: 100%|███| 120/120 [04:50<00:00,  2.42s/it]\n"
     ]
    },
    {
     "name": "stdout",
     "output_type": "stream",
     "text": [
      "saving model version 0.1\n",
      "✅ Best validation Accuracy: 9.0836e-01 at 14 epoch\n",
      "avg_acc 0.9157509207725525\n",
      "Testing 12 hidden neurons, lamb=1e-07, grid=6\n",
      "checkpoint directory created: ./model\n",
      "saving model version 0.0\n",
      "checkpoint directory created: ./model\n",
      "saving model version 0.0\n",
      "Successfully created and tested Model3\n"
     ]
    },
    {
     "name": "stderr",
     "output_type": "stream",
     "text": [
      " train_acc_hybrid: 9.99e-01 | val_acc_hybrid: 7.90e-01 |: 100%|███| 120/120 [04:53<00:00,  2.44s/it]\n"
     ]
    },
    {
     "name": "stdout",
     "output_type": "stream",
     "text": [
      "saving model version 0.1\n",
      "✅ Best validation Accuracy: 8.9805e-01 at 32 epoch\n",
      "avg_acc 0.8818681240081787\n",
      "Testing 12 hidden neurons, lamb=0.01, grid=7\n",
      "checkpoint directory created: ./model\n",
      "saving model version 0.0\n",
      "checkpoint directory created: ./model\n",
      "saving model version 0.0\n",
      "Successfully created and tested Model3\n"
     ]
    },
    {
     "name": "stderr",
     "output_type": "stream",
     "text": [
      " train_acc_hybrid: 9.19e-01 | val_acc_hybrid: 8.63e-01 |: 100%|███| 120/120 [04:16<00:00,  2.14s/it]\n"
     ]
    },
    {
     "name": "stdout",
     "output_type": "stream",
     "text": [
      "saving model version 0.1\n",
      "✅ Best validation Accuracy: 8.6369e-01 at 71 epoch\n",
      "avg_acc 0.848901093006134\n",
      "Testing 12 hidden neurons, lamb=0.001, grid=7\n",
      "checkpoint directory created: ./model\n",
      "saving model version 0.0\n",
      "checkpoint directory created: ./model\n",
      "saving model version 0.0\n",
      "Successfully created and tested Model3\n"
     ]
    },
    {
     "name": "stderr",
     "output_type": "stream",
     "text": [
      " train_acc_hybrid: 9.92e-01 | val_acc_hybrid: 8.89e-01 |: 100%|███| 120/120 [05:18<00:00,  2.66s/it]\n"
     ]
    },
    {
     "name": "stdout",
     "output_type": "stream",
     "text": [
      "saving model version 0.1\n",
      "✅ Best validation Accuracy: 9.1867e-01 at 67 epoch\n",
      "avg_acc 0.9212453961372375\n",
      "Testing 12 hidden neurons, lamb=0.0001, grid=7\n",
      "checkpoint directory created: ./model\n",
      "saving model version 0.0\n",
      "checkpoint directory created: ./model\n",
      "saving model version 0.0\n",
      "Successfully created and tested Model3\n"
     ]
    },
    {
     "name": "stderr",
     "output_type": "stream",
     "text": [
      " train_acc_hybrid: 9.98e-01 | val_acc_hybrid: 7.97e-01 |: 100%|███| 120/120 [05:23<00:00,  2.70s/it]\n"
     ]
    },
    {
     "name": "stdout",
     "output_type": "stream",
     "text": [
      "saving model version 0.1\n",
      "✅ Best validation Accuracy: 8.8316e-01 at 43 epoch\n",
      "avg_acc 0.8626373410224915\n",
      "Testing 12 hidden neurons, lamb=1e-05, grid=7\n",
      "checkpoint directory created: ./model\n",
      "saving model version 0.0\n",
      "checkpoint directory created: ./model\n",
      "saving model version 0.0\n",
      "Successfully created and tested Model3\n"
     ]
    },
    {
     "name": "stderr",
     "output_type": "stream",
     "text": [
      " train_acc_hybrid: 9.98e-01 | val_acc_hybrid: 8.29e-01 |: 100%|███| 120/120 [05:19<00:00,  2.66s/it]\n"
     ]
    },
    {
     "name": "stdout",
     "output_type": "stream",
     "text": [
      "saving model version 0.1\n",
      "✅ Best validation Accuracy: 9.0378e-01 at 55 epoch\n",
      "avg_acc 0.8965201377868652\n",
      "Testing 12 hidden neurons, lamb=1e-06, grid=7\n",
      "checkpoint directory created: ./model\n",
      "saving model version 0.0\n",
      "checkpoint directory created: ./model\n",
      "saving model version 0.0\n",
      "Successfully created and tested Model3\n"
     ]
    },
    {
     "name": "stderr",
     "output_type": "stream",
     "text": [
      " train_acc_hybrid: 9.99e-01 | val_acc_hybrid: 8.49e-01 |: 100%|███| 120/120 [05:16<00:00,  2.64s/it]\n"
     ]
    },
    {
     "name": "stdout",
     "output_type": "stream",
     "text": [
      "saving model version 0.1\n",
      "✅ Best validation Accuracy: 9.0951e-01 at 42 epoch\n",
      "avg_acc 0.9102563858032227\n",
      "Testing 12 hidden neurons, lamb=1e-07, grid=7\n",
      "checkpoint directory created: ./model\n",
      "saving model version 0.0\n",
      "checkpoint directory created: ./model\n",
      "saving model version 0.0\n",
      "Successfully created and tested Model3\n"
     ]
    },
    {
     "name": "stderr",
     "output_type": "stream",
     "text": [
      " train_acc_hybrid: 9.98e-01 | val_acc_hybrid: 8.81e-01 |: 100%|███| 120/120 [05:20<00:00,  2.67s/it]\n"
     ]
    },
    {
     "name": "stdout",
     "output_type": "stream",
     "text": [
      "saving model version 0.1\n",
      "✅ Best validation Accuracy: 9.2325e-01 at 52 epoch\n",
      "avg_acc 0.8983516693115234\n",
      "Testing 12 hidden neurons, lamb=0.01, grid=8\n",
      "checkpoint directory created: ./model\n",
      "saving model version 0.0\n",
      "checkpoint directory created: ./model\n",
      "saving model version 0.0\n",
      "Successfully created and tested Model3\n"
     ]
    },
    {
     "name": "stderr",
     "output_type": "stream",
     "text": [
      " train_acc_hybrid: 9.48e-01 | val_acc_hybrid: 8.87e-01 |: 100%|███| 120/120 [05:33<00:00,  2.78s/it]\n"
     ]
    },
    {
     "name": "stdout",
     "output_type": "stream",
     "text": [
      "saving model version 0.1\n",
      "✅ Best validation Accuracy: 9.0263e-01 at 38 epoch\n",
      "avg_acc 0.8882783651351929\n",
      "Testing 12 hidden neurons, lamb=0.001, grid=8\n",
      "checkpoint directory created: ./model\n",
      "saving model version 0.0\n",
      "checkpoint directory created: ./model\n",
      "saving model version 0.0\n",
      "Successfully created and tested Model3\n"
     ]
    },
    {
     "name": "stderr",
     "output_type": "stream",
     "text": [
      " train_acc_hybrid: 9.98e-01 | val_acc_hybrid: 9.00e-01 |: 100%|███| 120/120 [05:32<00:00,  2.77s/it]\n"
     ]
    },
    {
     "name": "stdout",
     "output_type": "stream",
     "text": [
      "saving model version 0.1\n",
      "✅ Best validation Accuracy: 9.2784e-01 at 26 epoch\n",
      "avg_acc 0.9194139242172241\n",
      "Testing 12 hidden neurons, lamb=0.0001, grid=8\n",
      "checkpoint directory created: ./model\n",
      "saving model version 0.0\n",
      "checkpoint directory created: ./model\n",
      "saving model version 0.0\n",
      "Successfully created and tested Model3\n"
     ]
    },
    {
     "name": "stderr",
     "output_type": "stream",
     "text": [
      " train_acc_hybrid: 9.99e-01 | val_acc_hybrid: 8.65e-01 |: 100%|███| 120/120 [05:46<00:00,  2.89s/it]\n"
     ]
    },
    {
     "name": "stdout",
     "output_type": "stream",
     "text": [
      "saving model version 0.1\n",
      "✅ Best validation Accuracy: 9.3242e-01 at 35 epoch\n",
      "avg_acc 0.918498158454895\n",
      "Testing 12 hidden neurons, lamb=1e-05, grid=8\n",
      "checkpoint directory created: ./model\n",
      "saving model version 0.0\n",
      "checkpoint directory created: ./model\n",
      "saving model version 0.0\n",
      "Successfully created and tested Model3\n"
     ]
    },
    {
     "name": "stderr",
     "output_type": "stream",
     "text": [
      " train_acc_hybrid: 9.99e-01 | val_acc_hybrid: 8.27e-01 |: 100%|███| 120/120 [05:53<00:00,  2.94s/it]\n"
     ]
    },
    {
     "name": "stdout",
     "output_type": "stream",
     "text": [
      "saving model version 0.1\n",
      "✅ Best validation Accuracy: 9.1180e-01 at 47 epoch\n",
      "avg_acc 0.8946886658668518\n",
      "Testing 12 hidden neurons, lamb=1e-06, grid=8\n",
      "checkpoint directory created: ./model\n",
      "saving model version 0.0\n",
      "checkpoint directory created: ./model\n",
      "saving model version 0.0\n",
      "Successfully created and tested Model3\n"
     ]
    },
    {
     "name": "stderr",
     "output_type": "stream",
     "text": [
      " train_acc_hybrid: 9.99e-01 | val_acc_hybrid: 8.63e-01 |: 100%|███| 120/120 [05:47<00:00,  2.90s/it]\n"
     ]
    },
    {
     "name": "stdout",
     "output_type": "stream",
     "text": [
      "saving model version 0.1\n",
      "✅ Best validation Accuracy: 9.2325e-01 at 27 epoch\n",
      "avg_acc 0.9029303789138794\n",
      "Testing 12 hidden neurons, lamb=1e-07, grid=8\n",
      "checkpoint directory created: ./model\n",
      "saving model version 0.0\n",
      "checkpoint directory created: ./model\n",
      "saving model version 0.0\n",
      "Successfully created and tested Model3\n"
     ]
    },
    {
     "name": "stderr",
     "output_type": "stream",
     "text": [
      " train_acc_hybrid: 9.96e-01 | val_acc_hybrid: 8.38e-01 |: 100%|███| 120/120 [05:42<00:00,  2.85s/it]\n"
     ]
    },
    {
     "name": "stdout",
     "output_type": "stream",
     "text": [
      "saving model version 0.1\n",
      "✅ Best validation Accuracy: 8.9233e-01 at 52 epoch\n",
      "avg_acc 0.9056776762008667\n",
      "\n",
      "✅ Top 5 Configurations:\n",
      "1. width=[24, 7, 1], grid=8, lamb=0.001| best_epoch=38 | avg_acc=0.93681\n",
      "2. width=[24, 9, 1], grid=8, lamb=0.001| best_epoch=19 | avg_acc=0.92857\n",
      "3. width=[24, 10, 1], grid=8, lamb=0.001| best_epoch=54 | avg_acc=0.92766\n",
      "4. width=[24, 11, 1], grid=8, lamb=0.01| best_epoch=106 | avg_acc=0.92766\n",
      "5. width=[24, 11, 1], grid=8, lamb=0.0001| best_epoch=24 | avg_acc=0.92766\n"
     ]
    }
   ],
   "source": [
    "grid_search_kan_hybrid(dataset, Model3, max_steps=120)"
   ]
  },
  {
   "cell_type": "markdown",
   "id": "745cd737-0c92-4dcb-a0c0-dadef6665cbd",
   "metadata": {},
   "source": [
    "# ✅ Top 5 Configurations:\r\n",
    "1. width=[24, 7, 1], grid=8, lamb=0.001| best_epoch=38 | avg_acc=0.93681\r\n",
    "2. width=[24, 9, 1], grid=8, lamb=0.001| best_epoch=19 | avg_acc=0.92857\r\n",
    "3. width=[24, 10, 1], grid=8, lamb=0.001| best_epoch=54 | avg_acc=0.92766\r\n",
    "4. width=[24, 11, 1], grid=8, lamb=0.01| best_epoch=106 | avg_acc=0.92766\r\n",
    "5. width=[24, 11, 1], grid=8, lamb=0.0001| best_epoch=24 | avg_acc=0.9276622233"
   ]
  },
  {
   "cell_type": "code",
   "execution_count": 77,
   "id": "2b7dc18d-5bec-4fe8-9adc-152a4501f2db",
   "metadata": {},
   "outputs": [],
   "source": [
    "class Model4(nn.Module):\n",
    "    def __init__(self, attributes, imgs_shape, kan_neurons, kan_grid, device=device):\n",
    "        super(Model4, self).__init__()\n",
    "\n",
    "        self.cnn_branch = nn.Sequential(\n",
    "            nn.Conv2d(imgs_shape[0], 16, kernel_size=3, padding=2),     # out: 16 x 9 x 9\n",
    "            nn.BatchNorm2d(16),\n",
    "            nn.ReLU(),\n",
    "            nn.MaxPool2d(2),                                            # out: 16 x 4 x 4\n",
    "            \n",
    "            nn.Conv2d(16, 32, kernel_size=3, padding=2),                # out: 32 x 5 x 5\n",
    "            nn.BatchNorm2d(32),\n",
    "            nn.ReLU(),\n",
    "            nn.MaxPool2d(2),                                            # 32 x 2 x 2\n",
    "            \n",
    "            nn.Conv2d(32, 64, kernel_size=3, padding=2),\n",
    "            nn.LayerNorm([64, 4, 4]),\n",
    "            nn.Sigmoid(),\n",
    "            nn.Flatten()\n",
    "        ).to(device)\n",
    "\n",
    "        # Middle KAN layers\n",
    "        self.m_kan = KAN(\n",
    "            width=[attributes, kan_neurons],\n",
    "            grid=kan_grid,\n",
    "            k=3,\n",
    "            seed=SEED,\n",
    "            device=device\n",
    "        )\n",
    "        # Calculate the size of the flattened output\n",
    "        self.flat_size = self._get_flat_size(imgs_shape)\n",
    "        # Final MLP layers\n",
    "        self.final_kan = KAN(\n",
    "            width=[self.flat_size + kan_neurons, 1],\n",
    "            grid=kan_grid,\n",
    "            k=3,\n",
    "            device=device\n",
    "        )\n",
    "        \n",
    "        self.device = device\n",
    "\n",
    "    def _get_flat_size(self, imgs_shape):\n",
    "        # Forward pass with dummy input to calculate flat size\n",
    "        dummy_input = torch.zeros(4, *imgs_shape, device=device)\n",
    "        x = self.cnn_branch(dummy_input)\n",
    "        return x.size(1)\n",
    "\n",
    "    def get_concat_output(self, mlp_input, cnn_input):\n",
    "        # Ensure inputs are moved to the correct device\n",
    "        kan_input = mlp_input.to(self.device)\n",
    "        cnn_input = cnn_input.to(self.device)\n",
    "        \n",
    "        cnn_output = self.cnn_branch(cnn_input)  # Process image input\n",
    "        kan_output = self.m_kan(kan_input)  # Process numerical input\n",
    "        \n",
    "        return torch.cat((kan_output, cnn_output), dim=1)\n",
    "\n",
    "    \n",
    "    def forward(self, mlp_input, cnn_input):\n",
    "        concat_output = self.get_concat_output(mlp_input, cnn_input)\n",
    "        return self.final_kan(concat_output)"
   ]
  },
  {
   "cell_type": "code",
   "execution_count": 78,
   "id": "6797fb32-392a-4191-851d-501a47cc3498",
   "metadata": {
    "scrolled": true
   },
   "outputs": [
    {
     "name": "stdout",
     "output_type": "stream",
     "text": [
      "Testing 3 hidden neurons, lamb=0.01, grid=3\n",
      "checkpoint directory created: ./model\n",
      "saving model version 0.0\n",
      "checkpoint directory created: ./model\n",
      "saving model version 0.0\n",
      "Successfully created and tested Model4\n"
     ]
    },
    {
     "name": "stderr",
     "output_type": "stream",
     "text": [
      " train_acc_hybrid: 9.93e-01 | val_acc_hybrid: 8.69e-01 |: 100%|███| 120/120 [03:49<00:00,  1.92s/it]\n"
     ]
    },
    {
     "name": "stdout",
     "output_type": "stream",
     "text": [
      "saving model version 0.1\n",
      "✅ Best validation Accuracy: 8.7400e-01 at 43 epoch\n",
      "avg_acc 0.8708791136741638\n",
      "Testing 3 hidden neurons, lamb=0.001, grid=3\n",
      "checkpoint directory created: ./model\n",
      "saving model version 0.0\n",
      "checkpoint directory created: ./model\n",
      "saving model version 0.0\n",
      "Successfully created and tested Model4\n"
     ]
    },
    {
     "name": "stderr",
     "output_type": "stream",
     "text": [
      " train_acc_hybrid: 9.95e-01 | val_acc_hybrid: 8.60e-01 |: 100%|███| 120/120 [03:39<00:00,  1.83s/it]\n"
     ]
    },
    {
     "name": "stdout",
     "output_type": "stream",
     "text": [
      "saving model version 0.1\n",
      "✅ Best validation Accuracy: 8.6025e-01 at 88 epoch\n",
      "avg_acc 0.8653846383094788\n",
      "Testing 3 hidden neurons, lamb=0.0001, grid=3\n",
      "checkpoint directory created: ./model\n",
      "saving model version 0.0\n",
      "checkpoint directory created: ./model\n",
      "saving model version 0.0\n",
      "Successfully created and tested Model4\n"
     ]
    },
    {
     "name": "stderr",
     "output_type": "stream",
     "text": [
      " train_acc_hybrid: 9.94e-01 | val_acc_hybrid: 7.78e-01 |: 100%|███| 120/120 [04:07<00:00,  2.07s/it]\n"
     ]
    },
    {
     "name": "stdout",
     "output_type": "stream",
     "text": [
      "saving model version 0.1\n",
      "✅ Best validation Accuracy: 7.7778e-01 at 94 epoch\n",
      "avg_acc 0.7728937864303589\n",
      "Testing 3 hidden neurons, lamb=1e-05, grid=3\n",
      "checkpoint directory created: ./model\n",
      "saving model version 0.0\n",
      "checkpoint directory created: ./model\n",
      "saving model version 0.0\n",
      "Successfully created and tested Model4\n"
     ]
    },
    {
     "name": "stderr",
     "output_type": "stream",
     "text": [
      " train_acc_hybrid: 9.96e-01 | val_acc_hybrid: 8.12e-01 |: 100%|███| 120/120 [04:04<00:00,  2.04s/it]\n"
     ]
    },
    {
     "name": "stdout",
     "output_type": "stream",
     "text": [
      "saving model version 0.1\n",
      "✅ Best validation Accuracy: 8.1329e-01 at 87 epoch\n",
      "avg_acc 0.819597065448761\n",
      "Testing 3 hidden neurons, lamb=1e-06, grid=3\n",
      "checkpoint directory created: ./model\n",
      "saving model version 0.0\n",
      "checkpoint directory created: ./model\n",
      "saving model version 0.0\n",
      "Successfully created and tested Model4\n"
     ]
    },
    {
     "name": "stderr",
     "output_type": "stream",
     "text": [
      " train_acc_hybrid: 9.97e-01 | val_acc_hybrid: 8.08e-01 |: 100%|███| 120/120 [03:45<00:00,  1.88s/it]\n"
     ]
    },
    {
     "name": "stdout",
     "output_type": "stream",
     "text": [
      "saving model version 0.1\n",
      "✅ Best validation Accuracy: 8.1443e-01 at 79 epoch\n",
      "avg_acc 0.8012820482254028\n",
      "Testing 3 hidden neurons, lamb=1e-07, grid=3\n",
      "checkpoint directory created: ./model\n",
      "saving model version 0.0\n",
      "checkpoint directory created: ./model\n",
      "saving model version 0.0\n",
      "Successfully created and tested Model4\n"
     ]
    },
    {
     "name": "stderr",
     "output_type": "stream",
     "text": [
      " train_acc_hybrid: 9.93e-01 | val_acc_hybrid: 8.02e-01 |: 100%|███| 120/120 [03:48<00:00,  1.90s/it]\n"
     ]
    },
    {
     "name": "stdout",
     "output_type": "stream",
     "text": [
      "saving model version 0.1\n",
      "✅ Best validation Accuracy: 8.0527e-01 at 66 epoch\n",
      "avg_acc 0.7866300344467163\n",
      "Testing 3 hidden neurons, lamb=0.01, grid=4\n",
      "checkpoint directory created: ./model\n",
      "saving model version 0.0\n",
      "checkpoint directory created: ./model\n",
      "saving model version 0.0\n",
      "Successfully created and tested Model4\n"
     ]
    },
    {
     "name": "stderr",
     "output_type": "stream",
     "text": [
      " train_acc_hybrid: 9.94e-01 | val_acc_hybrid: 8.77e-01 |: 100%|███| 120/120 [04:07<00:00,  2.06s/it]\n"
     ]
    },
    {
     "name": "stdout",
     "output_type": "stream",
     "text": [
      "saving model version 0.1\n",
      "✅ Best validation Accuracy: 8.8545e-01 at 43 epoch\n",
      "avg_acc 0.8644688725471497\n",
      "Testing 3 hidden neurons, lamb=0.001, grid=4\n",
      "checkpoint directory created: ./model\n",
      "saving model version 0.0\n",
      "checkpoint directory created: ./model\n",
      "saving model version 0.0\n",
      "Successfully created and tested Model4\n"
     ]
    },
    {
     "name": "stderr",
     "output_type": "stream",
     "text": [
      " train_acc_hybrid: 9.97e-01 | val_acc_hybrid: 8.56e-01 |: 100%|███| 120/120 [04:39<00:00,  2.33s/it]\n"
     ]
    },
    {
     "name": "stdout",
     "output_type": "stream",
     "text": [
      "saving model version 0.1\n",
      "✅ Best validation Accuracy: 8.5796e-01 at 95 epoch\n",
      "avg_acc 0.8717948794364929\n",
      "Testing 3 hidden neurons, lamb=0.0001, grid=4\n",
      "checkpoint directory created: ./model\n",
      "saving model version 0.0\n",
      "checkpoint directory created: ./model\n",
      "saving model version 0.0\n",
      "Successfully created and tested Model4\n"
     ]
    },
    {
     "name": "stderr",
     "output_type": "stream",
     "text": [
      " train_acc_hybrid: 9.89e-01 | val_acc_hybrid: 7.27e-01 |: 100%|███| 120/120 [04:33<00:00,  2.28s/it]\n"
     ]
    },
    {
     "name": "stdout",
     "output_type": "stream",
     "text": [
      "saving model version 0.1\n",
      "✅ Best validation Accuracy: 7.3196e-01 at 30 epoch\n",
      "avg_acc 0.7344322204589844\n",
      "Testing 3 hidden neurons, lamb=1e-05, grid=4\n",
      "checkpoint directory created: ./model\n",
      "saving model version 0.0\n",
      "checkpoint directory created: ./model\n",
      "saving model version 0.0\n",
      "Successfully created and tested Model4\n"
     ]
    },
    {
     "name": "stderr",
     "output_type": "stream",
     "text": [
      " train_acc_hybrid: 9.95e-01 | val_acc_hybrid: 8.00e-01 |: 100%|███| 120/120 [04:04<00:00,  2.04s/it]\n"
     ]
    },
    {
     "name": "stdout",
     "output_type": "stream",
     "text": [
      "saving model version 0.1\n",
      "✅ Best validation Accuracy: 7.9954e-01 at 114 epoch\n",
      "avg_acc 0.7637362480163574\n",
      "Testing 3 hidden neurons, lamb=1e-06, grid=4\n",
      "checkpoint directory created: ./model\n",
      "saving model version 0.0\n",
      "checkpoint directory created: ./model\n",
      "saving model version 0.0\n",
      "Successfully created and tested Model4\n"
     ]
    },
    {
     "name": "stderr",
     "output_type": "stream",
     "text": [
      " train_acc_hybrid: 9.93e-01 | val_acc_hybrid: 7.33e-01 |: 100%|███| 120/120 [04:48<00:00,  2.41s/it]\n"
     ]
    },
    {
     "name": "stdout",
     "output_type": "stream",
     "text": [
      "saving model version 0.1\n",
      "✅ Best validation Accuracy: 7.4914e-01 at 30 epoch\n",
      "avg_acc 0.7399267554283142\n",
      "Testing 3 hidden neurons, lamb=1e-07, grid=4\n",
      "checkpoint directory created: ./model\n",
      "saving model version 0.0\n",
      "checkpoint directory created: ./model\n",
      "saving model version 0.0\n",
      "Successfully created and tested Model4\n"
     ]
    },
    {
     "name": "stderr",
     "output_type": "stream",
     "text": [
      " train_acc_hybrid: 9.94e-01 | val_acc_hybrid: 7.51e-01 |: 100%|███| 120/120 [04:13<00:00,  2.11s/it]\n"
     ]
    },
    {
     "name": "stdout",
     "output_type": "stream",
     "text": [
      "saving model version 0.1\n",
      "✅ Best validation Accuracy: 7.6747e-01 at 67 epoch\n",
      "avg_acc 0.7463369965553284\n",
      "Testing 3 hidden neurons, lamb=0.01, grid=5\n",
      "checkpoint directory created: ./model\n",
      "saving model version 0.0\n",
      "checkpoint directory created: ./model\n",
      "saving model version 0.0\n",
      "Successfully created and tested Model4\n"
     ]
    },
    {
     "name": "stderr",
     "output_type": "stream",
     "text": [
      " train_acc_hybrid: 9.91e-01 | val_acc_hybrid: 8.57e-01 |: 100%|███| 120/120 [04:19<00:00,  2.17s/it]\n"
     ]
    },
    {
     "name": "stdout",
     "output_type": "stream",
     "text": [
      "saving model version 0.1\n",
      "✅ Best validation Accuracy: 8.7171e-01 at 21 epoch\n",
      "avg_acc 0.8525640964508057\n",
      "Testing 3 hidden neurons, lamb=0.001, grid=5\n",
      "checkpoint directory created: ./model\n",
      "saving model version 0.0\n",
      "checkpoint directory created: ./model\n",
      "saving model version 0.0\n",
      "Successfully created and tested Model4\n"
     ]
    },
    {
     "name": "stderr",
     "output_type": "stream",
     "text": [
      " train_acc_hybrid: 9.97e-01 | val_acc_hybrid: 8.22e-01 |: 100%|███| 120/120 [05:01<00:00,  2.51s/it]\n"
     ]
    },
    {
     "name": "stdout",
     "output_type": "stream",
     "text": [
      "saving model version 0.1\n",
      "✅ Best validation Accuracy: 8.2703e-01 at 99 epoch\n",
      "avg_acc 0.8241758346557617\n",
      "Testing 3 hidden neurons, lamb=0.0001, grid=5\n",
      "checkpoint directory created: ./model\n",
      "saving model version 0.0\n",
      "checkpoint directory created: ./model\n",
      "saving model version 0.0\n",
      "Successfully created and tested Model4\n"
     ]
    },
    {
     "name": "stderr",
     "output_type": "stream",
     "text": [
      " train_acc_hybrid: 9.96e-01 | val_acc_hybrid: 8.03e-01 |: 100%|███| 120/120 [05:07<00:00,  2.56s/it]\n"
     ]
    },
    {
     "name": "stdout",
     "output_type": "stream",
     "text": [
      "saving model version 0.1\n",
      "✅ Best validation Accuracy: 8.1100e-01 at 47 epoch\n",
      "avg_acc 0.7857142686843872\n",
      "Testing 3 hidden neurons, lamb=1e-05, grid=5\n",
      "checkpoint directory created: ./model\n",
      "saving model version 0.0\n",
      "checkpoint directory created: ./model\n",
      "saving model version 0.0\n",
      "Successfully created and tested Model4\n"
     ]
    },
    {
     "name": "stderr",
     "output_type": "stream",
     "text": [
      " train_acc_hybrid: 9.96e-01 | val_acc_hybrid: 7.94e-01 |: 100%|███| 120/120 [05:17<00:00,  2.64s/it]\n"
     ]
    },
    {
     "name": "stdout",
     "output_type": "stream",
     "text": [
      "saving model version 0.1\n",
      "✅ Best validation Accuracy: 7.9381e-01 at 98 epoch\n",
      "avg_acc 0.7847985625267029\n",
      "Testing 3 hidden neurons, lamb=1e-06, grid=5\n",
      "checkpoint directory created: ./model\n",
      "saving model version 0.0\n",
      "checkpoint directory created: ./model\n",
      "saving model version 0.0\n",
      "Successfully created and tested Model4\n"
     ]
    },
    {
     "name": "stderr",
     "output_type": "stream",
     "text": [
      " train_acc_hybrid: 9.94e-01 | val_acc_hybrid: 7.63e-01 |: 100%|███| 120/120 [05:08<00:00,  2.57s/it]\n"
     ]
    },
    {
     "name": "stdout",
     "output_type": "stream",
     "text": [
      "saving model version 0.1\n",
      "✅ Best validation Accuracy: 7.7320e-01 at 45 epoch\n",
      "avg_acc 0.7628205418586731\n",
      "Testing 3 hidden neurons, lamb=1e-07, grid=5\n",
      "checkpoint directory created: ./model\n",
      "saving model version 0.0\n",
      "checkpoint directory created: ./model\n",
      "saving model version 0.0\n",
      "Successfully created and tested Model4\n"
     ]
    },
    {
     "name": "stderr",
     "output_type": "stream",
     "text": [
      " train_acc_hybrid: 9.95e-01 | val_acc_hybrid: 7.80e-01 |: 100%|███| 120/120 [04:49<00:00,  2.41s/it]\n"
     ]
    },
    {
     "name": "stdout",
     "output_type": "stream",
     "text": [
      "saving model version 0.1\n",
      "✅ Best validation Accuracy: 7.8007e-01 at 64 epoch\n",
      "avg_acc 0.7646520137786865\n",
      "Testing 3 hidden neurons, lamb=0.01, grid=6\n",
      "checkpoint directory created: ./model\n",
      "saving model version 0.0\n",
      "checkpoint directory created: ./model\n",
      "saving model version 0.0\n",
      "Successfully created and tested Model4\n"
     ]
    },
    {
     "name": "stderr",
     "output_type": "stream",
     "text": [
      " train_acc_hybrid: 9.94e-01 | val_acc_hybrid: 8.73e-01 |: 100%|███| 120/120 [05:04<00:00,  2.54s/it]\n"
     ]
    },
    {
     "name": "stdout",
     "output_type": "stream",
     "text": [
      "saving model version 0.1\n",
      "✅ Best validation Accuracy: 8.7743e-01 at 46 epoch\n",
      "avg_acc 0.8617216348648071\n",
      "Testing 3 hidden neurons, lamb=0.001, grid=6\n",
      "checkpoint directory created: ./model\n",
      "saving model version 0.0\n",
      "checkpoint directory created: ./model\n",
      "saving model version 0.0\n",
      "Successfully created and tested Model4\n"
     ]
    },
    {
     "name": "stderr",
     "output_type": "stream",
     "text": [
      " train_acc_hybrid: 9.99e-01 | val_acc_hybrid: 8.48e-01 |: 100%|███| 120/120 [05:42<00:00,  2.85s/it]\n"
     ]
    },
    {
     "name": "stdout",
     "output_type": "stream",
     "text": [
      "saving model version 0.1\n",
      "✅ Best validation Accuracy: 8.4880e-01 at 78 epoch\n",
      "avg_acc 0.8516483306884766\n",
      "Testing 3 hidden neurons, lamb=0.0001, grid=6\n",
      "checkpoint directory created: ./model\n",
      "saving model version 0.0\n",
      "checkpoint directory created: ./model\n",
      "saving model version 0.0\n",
      "Successfully created and tested Model4\n"
     ]
    },
    {
     "name": "stderr",
     "output_type": "stream",
     "text": [
      " train_acc_hybrid: 9.96e-01 | val_acc_hybrid: 8.05e-01 |: 100%|███| 120/120 [05:41<00:00,  2.84s/it]\n"
     ]
    },
    {
     "name": "stdout",
     "output_type": "stream",
     "text": [
      "saving model version 0.1\n",
      "✅ Best validation Accuracy: 8.0871e-01 at 102 epoch\n",
      "avg_acc 0.7829670310020447\n",
      "Testing 3 hidden neurons, lamb=1e-05, grid=6\n",
      "checkpoint directory created: ./model\n",
      "saving model version 0.0\n",
      "checkpoint directory created: ./model\n",
      "saving model version 0.0\n",
      "Successfully created and tested Model4\n"
     ]
    },
    {
     "name": "stderr",
     "output_type": "stream",
     "text": [
      " train_acc_hybrid: 9.95e-01 | val_acc_hybrid: 7.97e-01 |: 100%|███| 120/120 [04:58<00:00,  2.48s/it]\n"
     ]
    },
    {
     "name": "stdout",
     "output_type": "stream",
     "text": [
      "saving model version 0.1\n",
      "✅ Best validation Accuracy: 8.0412e-01 at 60 epoch\n",
      "avg_acc 0.7600732445716858\n",
      "Testing 3 hidden neurons, lamb=1e-06, grid=6\n",
      "checkpoint directory created: ./model\n",
      "saving model version 0.0\n",
      "checkpoint directory created: ./model\n",
      "saving model version 0.0\n",
      "Successfully created and tested Model4\n"
     ]
    },
    {
     "name": "stderr",
     "output_type": "stream",
     "text": [
      " train_acc_hybrid: 9.95e-01 | val_acc_hybrid: 7.53e-01 |: 100%|███| 120/120 [05:00<00:00,  2.50s/it]\n"
     ]
    },
    {
     "name": "stdout",
     "output_type": "stream",
     "text": [
      "saving model version 0.1\n",
      "✅ Best validation Accuracy: 7.6861e-01 at 17 epoch\n",
      "avg_acc 0.7609890103340149\n",
      "Testing 3 hidden neurons, lamb=1e-07, grid=6\n",
      "checkpoint directory created: ./model\n",
      "saving model version 0.0\n",
      "checkpoint directory created: ./model\n",
      "saving model version 0.0\n",
      "Successfully created and tested Model4\n"
     ]
    },
    {
     "name": "stderr",
     "output_type": "stream",
     "text": [
      " train_acc_hybrid: 9.94e-01 | val_acc_hybrid: 7.57e-01 |: 100%|███| 120/120 [05:31<00:00,  2.77s/it]\n"
     ]
    },
    {
     "name": "stdout",
     "output_type": "stream",
     "text": [
      "saving model version 0.1\n",
      "✅ Best validation Accuracy: 7.6632e-01 at 48 epoch\n",
      "avg_acc 0.7701465487480164\n",
      "Testing 3 hidden neurons, lamb=0.01, grid=7\n",
      "checkpoint directory created: ./model\n",
      "saving model version 0.0\n",
      "checkpoint directory created: ./model\n",
      "saving model version 0.0\n",
      "Successfully created and tested Model4\n"
     ]
    },
    {
     "name": "stderr",
     "output_type": "stream",
     "text": [
      " train_acc_hybrid: 9.89e-01 | val_acc_hybrid: 8.55e-01 |: 100%|███| 120/120 [04:51<00:00,  2.43s/it]\n"
     ]
    },
    {
     "name": "stdout",
     "output_type": "stream",
     "text": [
      "saving model version 0.1\n",
      "✅ Best validation Accuracy: 8.6025e-01 at 40 epoch\n",
      "avg_acc 0.8470696210861206\n",
      "Testing 3 hidden neurons, lamb=0.001, grid=7\n",
      "checkpoint directory created: ./model\n",
      "saving model version 0.0\n",
      "checkpoint directory created: ./model\n",
      "saving model version 0.0\n",
      "Successfully created and tested Model4\n"
     ]
    },
    {
     "name": "stderr",
     "output_type": "stream",
     "text": [
      " train_acc_hybrid: 9.98e-01 | val_acc_hybrid: 8.40e-01 |: 100%|███| 120/120 [06:24<00:00,  3.20s/it]\n"
     ]
    },
    {
     "name": "stdout",
     "output_type": "stream",
     "text": [
      "saving model version 0.1\n",
      "✅ Best validation Accuracy: 8.4651e-01 at 72 epoch\n",
      "avg_acc 0.8379120826721191\n",
      "Testing 3 hidden neurons, lamb=0.0001, grid=7\n",
      "checkpoint directory created: ./model\n",
      "saving model version 0.0\n",
      "checkpoint directory created: ./model\n",
      "saving model version 0.0\n",
      "Successfully created and tested Model4\n"
     ]
    },
    {
     "name": "stderr",
     "output_type": "stream",
     "text": [
      " train_acc_hybrid: 9.96e-01 | val_acc_hybrid: 8.16e-01 |: 100%|███| 120/120 [05:05<00:00,  2.55s/it]\n"
     ]
    },
    {
     "name": "stdout",
     "output_type": "stream",
     "text": [
      "saving model version 0.1\n",
      "✅ Best validation Accuracy: 8.1672e-01 at 59 epoch\n",
      "avg_acc 0.7948718070983887\n",
      "Testing 3 hidden neurons, lamb=1e-05, grid=7\n",
      "checkpoint directory created: ./model\n",
      "saving model version 0.0\n",
      "checkpoint directory created: ./model\n",
      "saving model version 0.0\n",
      "Successfully created and tested Model4\n"
     ]
    },
    {
     "name": "stderr",
     "output_type": "stream",
     "text": [
      " train_acc_hybrid: 9.92e-01 | val_acc_hybrid: 7.85e-01 |: 100%|███| 120/120 [05:17<00:00,  2.65s/it]\n"
     ]
    },
    {
     "name": "stdout",
     "output_type": "stream",
     "text": [
      "saving model version 0.1\n",
      "✅ Best validation Accuracy: 7.9152e-01 at 46 epoch\n",
      "avg_acc 0.7838827967643738\n",
      "Testing 3 hidden neurons, lamb=1e-06, grid=7\n",
      "checkpoint directory created: ./model\n",
      "saving model version 0.0\n",
      "checkpoint directory created: ./model\n",
      "saving model version 0.0\n",
      "Successfully created and tested Model4\n"
     ]
    },
    {
     "name": "stderr",
     "output_type": "stream",
     "text": [
      " train_acc_hybrid: 9.95e-01 | val_acc_hybrid: 7.65e-01 |: 100%|███| 120/120 [05:35<00:00,  2.79s/it]\n"
     ]
    },
    {
     "name": "stdout",
     "output_type": "stream",
     "text": [
      "saving model version 0.1\n",
      "✅ Best validation Accuracy: 7.6861e-01 at 66 epoch\n",
      "avg_acc 0.7701465487480164\n",
      "Testing 3 hidden neurons, lamb=1e-07, grid=7\n",
      "checkpoint directory created: ./model\n",
      "saving model version 0.0\n",
      "checkpoint directory created: ./model\n",
      "saving model version 0.0\n",
      "Successfully created and tested Model4\n"
     ]
    },
    {
     "name": "stderr",
     "output_type": "stream",
     "text": [
      " train_acc_hybrid: 9.95e-01 | val_acc_hybrid: 7.67e-01 |: 100%|███| 120/120 [05:46<00:00,  2.89s/it]\n"
     ]
    },
    {
     "name": "stdout",
     "output_type": "stream",
     "text": [
      "saving model version 0.1\n",
      "✅ Best validation Accuracy: 7.7892e-01 at 39 epoch\n",
      "avg_acc 0.767399251461029\n",
      "Testing 3 hidden neurons, lamb=0.01, grid=8\n",
      "checkpoint directory created: ./model\n",
      "saving model version 0.0\n",
      "checkpoint directory created: ./model\n",
      "saving model version 0.0\n",
      "Successfully created and tested Model4\n"
     ]
    },
    {
     "name": "stderr",
     "output_type": "stream",
     "text": [
      " train_acc_hybrid: 9.95e-01 | val_acc_hybrid: 8.75e-01 |: 100%|███| 120/120 [06:08<00:00,  3.07s/it]\n"
     ]
    },
    {
     "name": "stdout",
     "output_type": "stream",
     "text": [
      "saving model version 0.1\n",
      "✅ Best validation Accuracy: 8.7973e-01 at 82 epoch\n",
      "avg_acc 0.8690476417541504\n",
      "Testing 3 hidden neurons, lamb=0.001, grid=8\n",
      "checkpoint directory created: ./model\n",
      "saving model version 0.0\n",
      "checkpoint directory created: ./model\n",
      "saving model version 0.0\n",
      "Successfully created and tested Model4\n"
     ]
    },
    {
     "name": "stderr",
     "output_type": "stream",
     "text": [
      " train_acc_hybrid: 0.00e+00 | val_acc_hybrid: 0.00e+00 |: 100%|███| 120/120 [07:42<00:00,  3.85s/it]\n"
     ]
    },
    {
     "name": "stdout",
     "output_type": "stream",
     "text": [
      "saving model version 0.1\n",
      "✅ Best validation Accuracy: 8.1443e-01 at 59 epoch\n",
      "avg_acc 0.8058608174324036\n",
      "Testing 3 hidden neurons, lamb=0.0001, grid=8\n",
      "checkpoint directory created: ./model\n",
      "saving model version 0.0\n",
      "checkpoint directory created: ./model\n",
      "saving model version 0.0\n",
      "Successfully created and tested Model4\n"
     ]
    },
    {
     "name": "stderr",
     "output_type": "stream",
     "text": [
      " train_acc_hybrid: 9.95e-01 | val_acc_hybrid: 7.56e-01 |: 100%|███| 120/120 [06:13<00:00,  3.11s/it]\n"
     ]
    },
    {
     "name": "stdout",
     "output_type": "stream",
     "text": [
      "saving model version 0.1\n",
      "✅ Best validation Accuracy: 7.7434e-01 at 49 epoch\n",
      "avg_acc 0.7527472376823425\n",
      "Testing 3 hidden neurons, lamb=1e-05, grid=8\n",
      "checkpoint directory created: ./model\n",
      "saving model version 0.0\n",
      "checkpoint directory created: ./model\n",
      "saving model version 0.0\n",
      "Successfully created and tested Model4\n"
     ]
    },
    {
     "name": "stderr",
     "output_type": "stream",
     "text": [
      " train_acc_hybrid: 9.96e-01 | val_acc_hybrid: 7.49e-01 |: 100%|███| 120/120 [06:31<00:00,  3.27s/it]\n"
     ]
    },
    {
     "name": "stdout",
     "output_type": "stream",
     "text": [
      "saving model version 0.1\n",
      "✅ Best validation Accuracy: 7.6518e-01 at 61 epoch\n",
      "avg_acc 0.7481685280799866\n",
      "Testing 3 hidden neurons, lamb=1e-06, grid=8\n",
      "checkpoint directory created: ./model\n",
      "saving model version 0.0\n",
      "checkpoint directory created: ./model\n",
      "saving model version 0.0\n",
      "Successfully created and tested Model4\n"
     ]
    },
    {
     "name": "stderr",
     "output_type": "stream",
     "text": [
      " train_acc_hybrid: 9.94e-01 | val_acc_hybrid: 7.47e-01 |: 100%|███| 120/120 [06:34<00:00,  3.29s/it]\n"
     ]
    },
    {
     "name": "stdout",
     "output_type": "stream",
     "text": [
      "saving model version 0.1\n",
      "✅ Best validation Accuracy: 7.6861e-01 at 56 epoch\n",
      "avg_acc 0.7728937864303589\n",
      "Testing 3 hidden neurons, lamb=1e-07, grid=8\n",
      "checkpoint directory created: ./model\n",
      "saving model version 0.0\n",
      "checkpoint directory created: ./model\n",
      "saving model version 0.0\n",
      "Successfully created and tested Model4\n"
     ]
    },
    {
     "name": "stderr",
     "output_type": "stream",
     "text": [
      " train_acc_hybrid: 9.93e-01 | val_acc_hybrid: 7.34e-01 |: 100%|███| 120/120 [05:57<00:00,  2.98s/it]\n"
     ]
    },
    {
     "name": "stdout",
     "output_type": "stream",
     "text": [
      "saving model version 0.1\n",
      "✅ Best validation Accuracy: 7.7090e-01 at 17 epoch\n",
      "avg_acc 0.7609890103340149\n",
      "Testing 4 hidden neurons, lamb=0.01, grid=3\n",
      "checkpoint directory created: ./model\n",
      "saving model version 0.0\n",
      "checkpoint directory created: ./model\n",
      "saving model version 0.0\n",
      "Successfully created and tested Model4\n"
     ]
    },
    {
     "name": "stderr",
     "output_type": "stream",
     "text": [
      " train_acc_hybrid: 9.95e-01 | val_acc_hybrid: 8.65e-01 |: 100%|███| 120/120 [03:56<00:00,  1.97s/it]\n"
     ]
    },
    {
     "name": "stdout",
     "output_type": "stream",
     "text": [
      "saving model version 0.1\n",
      "✅ Best validation Accuracy: 8.6712e-01 at 49 epoch\n",
      "avg_acc 0.8571428656578064\n",
      "Testing 4 hidden neurons, lamb=0.001, grid=3\n",
      "checkpoint directory created: ./model\n",
      "saving model version 0.0\n",
      "checkpoint directory created: ./model\n",
      "saving model version 0.0\n",
      "Successfully created and tested Model4\n"
     ]
    },
    {
     "name": "stderr",
     "output_type": "stream",
     "text": [
      " train_acc_hybrid: 9.96e-01 | val_acc_hybrid: 8.28e-01 |: 100%|███| 120/120 [03:49<00:00,  1.91s/it]\n"
     ]
    },
    {
     "name": "stdout",
     "output_type": "stream",
     "text": [
      "saving model version 0.1\n",
      "✅ Best validation Accuracy: 8.2818e-01 at 82 epoch\n",
      "avg_acc 0.8205128312110901\n",
      "Testing 4 hidden neurons, lamb=0.0001, grid=3\n",
      "checkpoint directory created: ./model\n",
      "saving model version 0.0\n",
      "checkpoint directory created: ./model\n",
      "saving model version 0.0\n",
      "Successfully created and tested Model4\n"
     ]
    },
    {
     "name": "stderr",
     "output_type": "stream",
     "text": [
      " train_acc_hybrid: 9.95e-01 | val_acc_hybrid: 8.37e-01 |: 100%|███| 120/120 [03:39<00:00,  1.83s/it]\n"
     ]
    },
    {
     "name": "stdout",
     "output_type": "stream",
     "text": [
      "saving model version 0.1\n",
      "✅ Best validation Accuracy: 8.3849e-01 at 71 epoch\n",
      "avg_acc 0.8150182962417603\n",
      "Testing 4 hidden neurons, lamb=1e-05, grid=3\n",
      "checkpoint directory created: ./model\n",
      "saving model version 0.0\n",
      "checkpoint directory created: ./model\n",
      "saving model version 0.0\n",
      "Successfully created and tested Model4\n"
     ]
    },
    {
     "name": "stderr",
     "output_type": "stream",
     "text": [
      " train_acc_hybrid: 9.96e-01 | val_acc_hybrid: 8.20e-01 |: 100%|███| 120/120 [04:18<00:00,  2.16s/it]\n"
     ]
    },
    {
     "name": "stdout",
     "output_type": "stream",
     "text": [
      "saving model version 0.1\n",
      "✅ Best validation Accuracy: 8.2474e-01 at 84 epoch\n",
      "avg_acc 0.8250916004180908\n",
      "Testing 4 hidden neurons, lamb=1e-06, grid=3\n",
      "checkpoint directory created: ./model\n",
      "saving model version 0.0\n",
      "checkpoint directory created: ./model\n",
      "saving model version 0.0\n",
      "Successfully created and tested Model4\n"
     ]
    },
    {
     "name": "stderr",
     "output_type": "stream",
     "text": [
      " train_acc_hybrid: 9.96e-01 | val_acc_hybrid: 7.97e-01 |: 100%|███| 120/120 [03:59<00:00,  1.99s/it]\n"
     ]
    },
    {
     "name": "stdout",
     "output_type": "stream",
     "text": [
      "saving model version 0.1\n",
      "✅ Best validation Accuracy: 8.0183e-01 at 57 epoch\n",
      "avg_acc 0.8049450516700745\n",
      "Testing 4 hidden neurons, lamb=1e-07, grid=3\n",
      "checkpoint directory created: ./model\n",
      "saving model version 0.0\n",
      "checkpoint directory created: ./model\n",
      "saving model version 0.0\n",
      "Successfully created and tested Model4\n"
     ]
    },
    {
     "name": "stderr",
     "output_type": "stream",
     "text": [
      " train_acc_hybrid: 9.95e-01 | val_acc_hybrid: 8.21e-01 |: 100%|███| 120/120 [03:29<00:00,  1.75s/it]\n"
     ]
    },
    {
     "name": "stdout",
     "output_type": "stream",
     "text": [
      "saving model version 0.1\n",
      "✅ Best validation Accuracy: 8.2131e-01 at 119 epoch\n",
      "avg_acc 0.7967032790184021\n",
      "Testing 4 hidden neurons, lamb=0.01, grid=4\n",
      "checkpoint directory created: ./model\n",
      "saving model version 0.0\n",
      "checkpoint directory created: ./model\n",
      "saving model version 0.0\n",
      "Successfully created and tested Model4\n"
     ]
    },
    {
     "name": "stderr",
     "output_type": "stream",
     "text": [
      " train_acc_hybrid: 9.93e-01 | val_acc_hybrid: 8.80e-01 |: 100%|███| 120/120 [04:20<00:00,  2.17s/it]\n"
     ]
    },
    {
     "name": "stdout",
     "output_type": "stream",
     "text": [
      "saving model version 0.1\n",
      "✅ Best validation Accuracy: 8.9462e-01 at 69 epoch\n",
      "avg_acc 0.8809523582458496\n",
      "Testing 4 hidden neurons, lamb=0.001, grid=4\n",
      "checkpoint directory created: ./model\n",
      "saving model version 0.0\n",
      "checkpoint directory created: ./model\n",
      "saving model version 0.0\n",
      "Successfully created and tested Model4\n"
     ]
    },
    {
     "name": "stderr",
     "output_type": "stream",
     "text": [
      " train_acc_hybrid: 9.98e-01 | val_acc_hybrid: 8.18e-01 |: 100%|███| 120/120 [05:11<00:00,  2.60s/it]\n"
     ]
    },
    {
     "name": "stdout",
     "output_type": "stream",
     "text": [
      "saving model version 0.1\n",
      "✅ Best validation Accuracy: 8.2245e-01 at 97 epoch\n",
      "avg_acc 0.8250916004180908\n",
      "Testing 4 hidden neurons, lamb=0.0001, grid=4\n",
      "checkpoint directory created: ./model\n",
      "saving model version 0.0\n",
      "checkpoint directory created: ./model\n",
      "saving model version 0.0\n",
      "Successfully created and tested Model4\n"
     ]
    },
    {
     "name": "stderr",
     "output_type": "stream",
     "text": [
      " train_acc_hybrid: 9.92e-01 | val_acc_hybrid: 7.71e-01 |: 100%|███| 120/120 [04:13<00:00,  2.12s/it]\n"
     ]
    },
    {
     "name": "stdout",
     "output_type": "stream",
     "text": [
      "saving model version 0.1\n",
      "✅ Best validation Accuracy: 7.7434e-01 at 110 epoch\n",
      "avg_acc 0.7747252583503723\n",
      "Testing 4 hidden neurons, lamb=1e-05, grid=4\n",
      "checkpoint directory created: ./model\n",
      "saving model version 0.0\n",
      "checkpoint directory created: ./model\n",
      "saving model version 0.0\n",
      "Successfully created and tested Model4\n"
     ]
    },
    {
     "name": "stderr",
     "output_type": "stream",
     "text": [
      " train_acc_hybrid: 9.96e-01 | val_acc_hybrid: 7.81e-01 |: 100%|███| 120/120 [04:38<00:00,  2.32s/it]\n"
     ]
    },
    {
     "name": "stdout",
     "output_type": "stream",
     "text": [
      "saving model version 0.1\n",
      "✅ Best validation Accuracy: 7.8580e-01 at 88 epoch\n",
      "avg_acc 0.778388261795044\n",
      "Testing 4 hidden neurons, lamb=1e-06, grid=4\n",
      "checkpoint directory created: ./model\n",
      "saving model version 0.0\n",
      "checkpoint directory created: ./model\n",
      "saving model version 0.0\n",
      "Successfully created and tested Model4\n"
     ]
    },
    {
     "name": "stderr",
     "output_type": "stream",
     "text": [
      " train_acc_hybrid: 9.95e-01 | val_acc_hybrid: 7.61e-01 |: 100%|███| 120/120 [04:36<00:00,  2.31s/it]\n"
     ]
    },
    {
     "name": "stdout",
     "output_type": "stream",
     "text": [
      "saving model version 0.1\n",
      "✅ Best validation Accuracy: 7.7205e-01 at 41 epoch\n",
      "avg_acc 0.7554945349693298\n",
      "Testing 4 hidden neurons, lamb=1e-07, grid=4\n",
      "checkpoint directory created: ./model\n",
      "saving model version 0.0\n",
      "checkpoint directory created: ./model\n",
      "saving model version 0.0\n",
      "Successfully created and tested Model4\n"
     ]
    },
    {
     "name": "stderr",
     "output_type": "stream",
     "text": [
      " train_acc_hybrid: 9.93e-01 | val_acc_hybrid: 7.14e-01 |: 100%|███| 120/120 [04:06<00:00,  2.05s/it]\n"
     ]
    },
    {
     "name": "stdout",
     "output_type": "stream",
     "text": [
      "saving model version 0.1\n",
      "✅ Best validation Accuracy: 7.4227e-01 at 16 epoch\n",
      "avg_acc 0.7600732445716858\n",
      "Testing 4 hidden neurons, lamb=0.01, grid=5\n",
      "checkpoint directory created: ./model\n",
      "saving model version 0.0\n",
      "checkpoint directory created: ./model\n",
      "saving model version 0.0\n",
      "Successfully created and tested Model4\n"
     ]
    },
    {
     "name": "stderr",
     "output_type": "stream",
     "text": [
      " train_acc_hybrid: 9.87e-01 | val_acc_hybrid: 8.65e-01 |: 100%|███| 120/120 [04:45<00:00,  2.38s/it]\n"
     ]
    },
    {
     "name": "stdout",
     "output_type": "stream",
     "text": [
      "saving model version 0.1\n",
      "✅ Best validation Accuracy: 8.7285e-01 at 27 epoch\n",
      "avg_acc 0.8681318759918213\n",
      "Testing 4 hidden neurons, lamb=0.001, grid=5\n",
      "checkpoint directory created: ./model\n",
      "saving model version 0.0\n",
      "checkpoint directory created: ./model\n",
      "saving model version 0.0\n",
      "Successfully created and tested Model4\n"
     ]
    },
    {
     "name": "stderr",
     "output_type": "stream",
     "text": [
      " train_acc_hybrid: 9.98e-01 | val_acc_hybrid: 8.50e-01 |: 100%|███| 120/120 [05:09<00:00,  2.58s/it]\n"
     ]
    },
    {
     "name": "stdout",
     "output_type": "stream",
     "text": [
      "saving model version 0.1\n",
      "✅ Best validation Accuracy: 8.5567e-01 at 99 epoch\n",
      "avg_acc 0.8562270998954773\n",
      "Testing 4 hidden neurons, lamb=0.0001, grid=5\n",
      "checkpoint directory created: ./model\n",
      "saving model version 0.0\n",
      "checkpoint directory created: ./model\n",
      "saving model version 0.0\n",
      "Successfully created and tested Model4\n"
     ]
    },
    {
     "name": "stderr",
     "output_type": "stream",
     "text": [
      " train_acc_hybrid: 9.94e-01 | val_acc_hybrid: 7.72e-01 |: 100%|███| 120/120 [04:40<00:00,  2.34s/it]\n"
     ]
    },
    {
     "name": "stdout",
     "output_type": "stream",
     "text": [
      "saving model version 0.1\n",
      "✅ Best validation Accuracy: 7.8236e-01 at 64 epoch\n",
      "avg_acc 0.7765567898750305\n",
      "Testing 4 hidden neurons, lamb=1e-05, grid=5\n",
      "checkpoint directory created: ./model\n",
      "saving model version 0.0\n",
      "checkpoint directory created: ./model\n",
      "saving model version 0.0\n",
      "Successfully created and tested Model4\n"
     ]
    },
    {
     "name": "stderr",
     "output_type": "stream",
     "text": [
      " train_acc_hybrid: 9.94e-01 | val_acc_hybrid: 7.58e-01 |: 100%|███| 120/120 [04:35<00:00,  2.30s/it]\n"
     ]
    },
    {
     "name": "stdout",
     "output_type": "stream",
     "text": [
      "saving model version 0.1\n",
      "✅ Best validation Accuracy: 7.6289e-01 at 53 epoch\n",
      "avg_acc 0.7536630034446716\n",
      "Testing 4 hidden neurons, lamb=1e-06, grid=5\n",
      "checkpoint directory created: ./model\n",
      "saving model version 0.0\n",
      "checkpoint directory created: ./model\n",
      "saving model version 0.0\n",
      "Successfully created and tested Model4\n"
     ]
    },
    {
     "name": "stderr",
     "output_type": "stream",
     "text": [
      " train_acc_hybrid: 9.93e-01 | val_acc_hybrid: 8.04e-01 |: 100%|███| 120/120 [04:29<00:00,  2.24s/it]\n"
     ]
    },
    {
     "name": "stdout",
     "output_type": "stream",
     "text": [
      "saving model version 0.1\n",
      "✅ Best validation Accuracy: 8.0756e-01 at 46 epoch\n",
      "avg_acc 0.8021978139877319\n",
      "Testing 4 hidden neurons, lamb=1e-07, grid=5\n",
      "checkpoint directory created: ./model\n",
      "saving model version 0.0\n",
      "checkpoint directory created: ./model\n",
      "saving model version 0.0\n",
      "Successfully created and tested Model4\n"
     ]
    },
    {
     "name": "stderr",
     "output_type": "stream",
     "text": [
      " train_acc_hybrid: 9.93e-01 | val_acc_hybrid: 7.77e-01 |: 100%|███| 120/120 [05:04<00:00,  2.54s/it]\n"
     ]
    },
    {
     "name": "stdout",
     "output_type": "stream",
     "text": [
      "saving model version 0.1\n",
      "✅ Best validation Accuracy: 7.9152e-01 at 60 epoch\n",
      "avg_acc 0.7811355590820312\n",
      "Testing 4 hidden neurons, lamb=0.01, grid=6\n",
      "checkpoint directory created: ./model\n",
      "saving model version 0.0\n",
      "checkpoint directory created: ./model\n",
      "saving model version 0.0\n",
      "Successfully created and tested Model4\n"
     ]
    },
    {
     "name": "stderr",
     "output_type": "stream",
     "text": [
      " train_acc_hybrid: 9.91e-01 | val_acc_hybrid: 8.83e-01 |: 100%|███| 120/120 [04:59<00:00,  2.49s/it]\n"
     ]
    },
    {
     "name": "stdout",
     "output_type": "stream",
     "text": [
      "saving model version 0.1\n",
      "✅ Best validation Accuracy: 8.8545e-01 at 34 epoch\n",
      "avg_acc 0.877289354801178\n",
      "Testing 4 hidden neurons, lamb=0.001, grid=6\n",
      "checkpoint directory created: ./model\n",
      "saving model version 0.0\n",
      "checkpoint directory created: ./model\n",
      "saving model version 0.0\n",
      "Successfully created and tested Model4\n"
     ]
    },
    {
     "name": "stderr",
     "output_type": "stream",
     "text": [
      " train_acc_hybrid: 9.96e-01 | val_acc_hybrid: 8.96e-01 |: 100%|███| 120/120 [05:42<00:00,  2.85s/it]\n"
     ]
    },
    {
     "name": "stdout",
     "output_type": "stream",
     "text": [
      "saving model version 0.1\n",
      "✅ Best validation Accuracy: 9.0034e-01 at 36 epoch\n",
      "avg_acc 0.8846153616905212\n",
      "Testing 4 hidden neurons, lamb=0.0001, grid=6\n",
      "checkpoint directory created: ./model\n",
      "saving model version 0.0\n",
      "checkpoint directory created: ./model\n",
      "saving model version 0.0\n",
      "Successfully created and tested Model4\n"
     ]
    },
    {
     "name": "stderr",
     "output_type": "stream",
     "text": [
      " train_acc_hybrid: 9.96e-01 | val_acc_hybrid: 8.42e-01 |: 100%|███| 120/120 [05:07<00:00,  2.56s/it]\n"
     ]
    },
    {
     "name": "stdout",
     "output_type": "stream",
     "text": [
      "saving model version 0.1\n",
      "✅ Best validation Accuracy: 8.4765e-01 at 41 epoch\n",
      "avg_acc 0.8461538553237915\n",
      "Testing 4 hidden neurons, lamb=1e-05, grid=6\n",
      "checkpoint directory created: ./model\n",
      "saving model version 0.0\n",
      "checkpoint directory created: ./model\n",
      "saving model version 0.0\n",
      "Successfully created and tested Model4\n"
     ]
    },
    {
     "name": "stderr",
     "output_type": "stream",
     "text": [
      " train_acc_hybrid: 9.96e-01 | val_acc_hybrid: 8.38e-01 |: 100%|███| 120/120 [05:19<00:00,  2.66s/it]\n"
     ]
    },
    {
     "name": "stdout",
     "output_type": "stream",
     "text": [
      "saving model version 0.1\n",
      "✅ Best validation Accuracy: 8.5338e-01 at 38 epoch\n",
      "avg_acc 0.8543956279754639\n",
      "Testing 4 hidden neurons, lamb=1e-06, grid=6\n",
      "checkpoint directory created: ./model\n",
      "saving model version 0.0\n",
      "checkpoint directory created: ./model\n",
      "saving model version 0.0\n",
      "Successfully created and tested Model4\n"
     ]
    },
    {
     "name": "stderr",
     "output_type": "stream",
     "text": [
      " train_acc_hybrid: 9.94e-01 | val_acc_hybrid: 8.41e-01 |: 100%|███| 120/120 [04:01<00:00,  2.01s/it]\n"
     ]
    },
    {
     "name": "stdout",
     "output_type": "stream",
     "text": [
      "saving model version 0.1\n",
      "✅ Best validation Accuracy: 8.5109e-01 at 35 epoch\n",
      "avg_acc 0.8571428656578064\n",
      "Testing 4 hidden neurons, lamb=1e-07, grid=6\n",
      "checkpoint directory created: ./model\n",
      "saving model version 0.0\n",
      "checkpoint directory created: ./model\n",
      "saving model version 0.0\n",
      "Successfully created and tested Model4\n"
     ]
    },
    {
     "name": "stderr",
     "output_type": "stream",
     "text": [
      " train_acc_hybrid: 9.98e-01 | val_acc_hybrid: 8.37e-01 |: 100%|███| 120/120 [05:35<00:00,  2.80s/it]\n"
     ]
    },
    {
     "name": "stdout",
     "output_type": "stream",
     "text": [
      "saving model version 0.1\n",
      "✅ Best validation Accuracy: 8.4192e-01 at 40 epoch\n",
      "avg_acc 0.819597065448761\n",
      "Testing 4 hidden neurons, lamb=0.01, grid=7\n",
      "checkpoint directory created: ./model\n",
      "saving model version 0.0\n",
      "checkpoint directory created: ./model\n",
      "saving model version 0.0\n",
      "Successfully created and tested Model4\n"
     ]
    },
    {
     "name": "stderr",
     "output_type": "stream",
     "text": [
      " train_acc_hybrid: 9.92e-01 | val_acc_hybrid: 8.74e-01 |: 100%|███| 120/120 [05:14<00:00,  2.62s/it]\n"
     ]
    },
    {
     "name": "stdout",
     "output_type": "stream",
     "text": [
      "saving model version 0.1\n",
      "✅ Best validation Accuracy: 8.7743e-01 at 39 epoch\n",
      "avg_acc 0.860805869102478\n",
      "Testing 4 hidden neurons, lamb=0.001, grid=7\n",
      "checkpoint directory created: ./model\n",
      "saving model version 0.0\n",
      "checkpoint directory created: ./model\n",
      "saving model version 0.0\n",
      "Successfully created and tested Model4\n"
     ]
    },
    {
     "name": "stderr",
     "output_type": "stream",
     "text": [
      " train_acc_hybrid: 9.98e-01 | val_acc_hybrid: 8.75e-01 |: 100%|███| 120/120 [04:36<00:00,  2.31s/it]\n"
     ]
    },
    {
     "name": "stdout",
     "output_type": "stream",
     "text": [
      "saving model version 0.1\n",
      "✅ Best validation Accuracy: 8.7514e-01 at 65 epoch\n",
      "avg_acc 0.8690476417541504\n",
      "Testing 4 hidden neurons, lamb=0.0001, grid=7\n",
      "checkpoint directory created: ./model\n",
      "saving model version 0.0\n",
      "checkpoint directory created: ./model\n",
      "saving model version 0.0\n",
      "Successfully created and tested Model4\n"
     ]
    },
    {
     "name": "stderr",
     "output_type": "stream",
     "text": [
      " train_acc_hybrid: 9.97e-01 | val_acc_hybrid: 7.63e-01 |: 100%|███| 120/120 [05:54<00:00,  2.95s/it]\n"
     ]
    },
    {
     "name": "stdout",
     "output_type": "stream",
     "text": [
      "saving model version 0.1\n",
      "✅ Best validation Accuracy: 7.6861e-01 at 30 epoch\n",
      "avg_acc 0.7976190447807312\n",
      "Testing 4 hidden neurons, lamb=1e-05, grid=7\n",
      "checkpoint directory created: ./model\n",
      "saving model version 0.0\n",
      "checkpoint directory created: ./model\n",
      "saving model version 0.0\n",
      "Successfully created and tested Model4\n"
     ]
    },
    {
     "name": "stderr",
     "output_type": "stream",
     "text": [
      " train_acc_hybrid: 9.94e-01 | val_acc_hybrid: 7.70e-01 |: 100%|███| 120/120 [05:46<00:00,  2.88s/it]\n"
     ]
    },
    {
     "name": "stdout",
     "output_type": "stream",
     "text": [
      "saving model version 0.1\n",
      "✅ Best validation Accuracy: 7.8121e-01 at 42 epoch\n",
      "avg_acc 0.7637362480163574\n",
      "Testing 4 hidden neurons, lamb=1e-06, grid=7\n",
      "checkpoint directory created: ./model\n",
      "saving model version 0.0\n",
      "checkpoint directory created: ./model\n",
      "saving model version 0.0\n",
      "Successfully created and tested Model4\n"
     ]
    },
    {
     "name": "stderr",
     "output_type": "stream",
     "text": [
      " train_acc_hybrid: 9.96e-01 | val_acc_hybrid: 7.80e-01 |: 100%|███| 120/120 [06:00<00:00,  3.01s/it]\n"
     ]
    },
    {
     "name": "stdout",
     "output_type": "stream",
     "text": [
      "saving model version 0.1\n",
      "✅ Best validation Accuracy: 7.9381e-01 at 33 epoch\n",
      "avg_acc 0.7847985625267029\n",
      "Testing 4 hidden neurons, lamb=1e-07, grid=7\n",
      "checkpoint directory created: ./model\n",
      "saving model version 0.0\n",
      "checkpoint directory created: ./model\n",
      "saving model version 0.0\n",
      "Successfully created and tested Model4\n"
     ]
    },
    {
     "name": "stderr",
     "output_type": "stream",
     "text": [
      " train_acc_hybrid: 9.97e-01 | val_acc_hybrid: 7.92e-01 |: 100%|███| 120/120 [05:55<00:00,  2.97s/it]\n"
     ]
    },
    {
     "name": "stdout",
     "output_type": "stream",
     "text": [
      "saving model version 0.1\n",
      "✅ Best validation Accuracy: 8.0069e-01 at 63 epoch\n",
      "avg_acc 0.7628205418586731\n",
      "Testing 4 hidden neurons, lamb=0.01, grid=8\n",
      "checkpoint directory created: ./model\n",
      "saving model version 0.0\n",
      "checkpoint directory created: ./model\n",
      "saving model version 0.0\n",
      "Successfully created and tested Model4\n"
     ]
    },
    {
     "name": "stderr",
     "output_type": "stream",
     "text": [
      " train_acc_hybrid: 9.92e-01 | val_acc_hybrid: 8.60e-01 |: 100%|███| 120/120 [05:45<00:00,  2.88s/it]\n"
     ]
    },
    {
     "name": "stdout",
     "output_type": "stream",
     "text": [
      "saving model version 0.1\n",
      "✅ Best validation Accuracy: 8.7858e-01 at 26 epoch\n",
      "avg_acc 0.8635531067848206\n",
      "Testing 4 hidden neurons, lamb=0.001, grid=8\n",
      "checkpoint directory created: ./model\n",
      "saving model version 0.0\n",
      "checkpoint directory created: ./model\n",
      "saving model version 0.0\n",
      "Successfully created and tested Model4\n"
     ]
    },
    {
     "name": "stderr",
     "output_type": "stream",
     "text": [
      " train_acc_hybrid: 9.98e-01 | val_acc_hybrid: 8.47e-01 |: 100%|███| 120/120 [06:31<00:00,  3.26s/it]\n"
     ]
    },
    {
     "name": "stdout",
     "output_type": "stream",
     "text": [
      "saving model version 0.1\n",
      "✅ Best validation Accuracy: 8.4880e-01 at 57 epoch\n",
      "avg_acc 0.8296703100204468\n",
      "Testing 4 hidden neurons, lamb=0.0001, grid=8\n",
      "checkpoint directory created: ./model\n",
      "saving model version 0.0\n",
      "checkpoint directory created: ./model\n",
      "saving model version 0.0\n",
      "Successfully created and tested Model4\n"
     ]
    },
    {
     "name": "stderr",
     "output_type": "stream",
     "text": [
      " train_acc_hybrid: 9.97e-01 | val_acc_hybrid: 7.97e-01 |: 100%|███| 120/120 [06:19<00:00,  3.16s/it]\n"
     ]
    },
    {
     "name": "stdout",
     "output_type": "stream",
     "text": [
      "saving model version 0.1\n",
      "✅ Best validation Accuracy: 8.0183e-01 at 57 epoch\n",
      "avg_acc 0.7939560413360596\n",
      "Testing 4 hidden neurons, lamb=1e-05, grid=8\n",
      "checkpoint directory created: ./model\n",
      "saving model version 0.0\n",
      "checkpoint directory created: ./model\n",
      "saving model version 0.0\n",
      "Successfully created and tested Model4\n"
     ]
    },
    {
     "name": "stderr",
     "output_type": "stream",
     "text": [
      " train_acc_hybrid: 9.95e-01 | val_acc_hybrid: 7.57e-01 |: 100%|███| 120/120 [06:27<00:00,  3.23s/it]\n"
     ]
    },
    {
     "name": "stdout",
     "output_type": "stream",
     "text": [
      "saving model version 0.1\n",
      "✅ Best validation Accuracy: 7.6632e-01 at 43 epoch\n",
      "avg_acc 0.7600732445716858\n",
      "Testing 4 hidden neurons, lamb=1e-06, grid=8\n",
      "checkpoint directory created: ./model\n",
      "saving model version 0.0\n",
      "checkpoint directory created: ./model\n",
      "saving model version 0.0\n",
      "Successfully created and tested Model4\n"
     ]
    },
    {
     "name": "stderr",
     "output_type": "stream",
     "text": [
      " train_acc_hybrid: 9.95e-01 | val_acc_hybrid: 7.70e-01 |: 100%|███| 120/120 [05:16<00:00,  2.64s/it]\n"
     ]
    },
    {
     "name": "stdout",
     "output_type": "stream",
     "text": [
      "saving model version 0.1\n",
      "✅ Best validation Accuracy: 7.7205e-01 at 58 epoch\n",
      "avg_acc 0.7747252583503723\n",
      "Testing 4 hidden neurons, lamb=1e-07, grid=8\n",
      "checkpoint directory created: ./model\n",
      "saving model version 0.0\n",
      "checkpoint directory created: ./model\n",
      "saving model version 0.0\n",
      "Successfully created and tested Model4\n"
     ]
    },
    {
     "name": "stderr",
     "output_type": "stream",
     "text": [
      " train_acc_hybrid: 9.95e-01 | val_acc_hybrid: 7.55e-01 |: 100%|███| 120/120 [06:31<00:00,  3.26s/it]\n"
     ]
    },
    {
     "name": "stdout",
     "output_type": "stream",
     "text": [
      "saving model version 0.1\n",
      "✅ Best validation Accuracy: 7.6747e-01 at 48 epoch\n",
      "avg_acc 0.7655677795410156\n",
      "Testing 5 hidden neurons, lamb=0.01, grid=3\n",
      "checkpoint directory created: ./model\n",
      "saving model version 0.0\n",
      "checkpoint directory created: ./model\n",
      "saving model version 0.0\n",
      "Successfully created and tested Model4\n"
     ]
    },
    {
     "name": "stderr",
     "output_type": "stream",
     "text": [
      " train_acc_hybrid: 9.94e-01 | val_acc_hybrid: 8.71e-01 |: 100%|███| 120/120 [03:32<00:00,  1.77s/it]\n"
     ]
    },
    {
     "name": "stdout",
     "output_type": "stream",
     "text": [
      "saving model version 0.1\n",
      "✅ Best validation Accuracy: 8.7285e-01 at 40 epoch\n",
      "avg_acc 0.8672161102294922\n",
      "Testing 5 hidden neurons, lamb=0.001, grid=3\n",
      "checkpoint directory created: ./model\n",
      "saving model version 0.0\n",
      "checkpoint directory created: ./model\n",
      "saving model version 0.0\n",
      "Successfully created and tested Model4\n"
     ]
    },
    {
     "name": "stderr",
     "output_type": "stream",
     "text": [
      " train_acc_hybrid: 9.98e-01 | val_acc_hybrid: 8.53e-01 |: 100%|███| 120/120 [04:13<00:00,  2.12s/it]\n"
     ]
    },
    {
     "name": "stdout",
     "output_type": "stream",
     "text": [
      "saving model version 0.1\n",
      "✅ Best validation Accuracy: 8.5452e-01 at 66 epoch\n",
      "avg_acc 0.8342490792274475\n",
      "Testing 5 hidden neurons, lamb=0.0001, grid=3\n",
      "checkpoint directory created: ./model\n",
      "saving model version 0.0\n",
      "checkpoint directory created: ./model\n",
      "saving model version 0.0\n",
      "Successfully created and tested Model4\n"
     ]
    },
    {
     "name": "stderr",
     "output_type": "stream",
     "text": [
      " train_acc_hybrid: 9.95e-01 | val_acc_hybrid: 7.97e-01 |: 100%|███| 120/120 [03:50<00:00,  1.92s/it]\n"
     ]
    },
    {
     "name": "stdout",
     "output_type": "stream",
     "text": [
      "saving model version 0.1\n",
      "✅ Best validation Accuracy: 8.0527e-01 at 61 epoch\n",
      "avg_acc 0.8021978139877319\n",
      "Testing 5 hidden neurons, lamb=1e-05, grid=3\n",
      "checkpoint directory created: ./model\n",
      "saving model version 0.0\n",
      "checkpoint directory created: ./model\n",
      "saving model version 0.0\n",
      "Successfully created and tested Model4\n"
     ]
    },
    {
     "name": "stderr",
     "output_type": "stream",
     "text": [
      " train_acc_hybrid: 9.98e-01 | val_acc_hybrid: 8.32e-01 |: 100%|███| 120/120 [04:14<00:00,  2.12s/it]\n"
     ]
    },
    {
     "name": "stdout",
     "output_type": "stream",
     "text": [
      "saving model version 0.1\n",
      "✅ Best validation Accuracy: 8.3391e-01 at 77 epoch\n",
      "avg_acc 0.8232600688934326\n",
      "Testing 5 hidden neurons, lamb=1e-06, grid=3\n",
      "checkpoint directory created: ./model\n",
      "saving model version 0.0\n",
      "checkpoint directory created: ./model\n",
      "saving model version 0.0\n",
      "Successfully created and tested Model4\n"
     ]
    },
    {
     "name": "stderr",
     "output_type": "stream",
     "text": [
      " train_acc_hybrid: 9.95e-01 | val_acc_hybrid: 7.94e-01 |: 100%|███| 120/120 [04:07<00:00,  2.06s/it]\n"
     ]
    },
    {
     "name": "stdout",
     "output_type": "stream",
     "text": [
      "saving model version 0.1\n",
      "✅ Best validation Accuracy: 8.0298e-01 at 28 epoch\n",
      "avg_acc 0.7664835453033447\n",
      "Testing 5 hidden neurons, lamb=1e-07, grid=3\n",
      "checkpoint directory created: ./model\n",
      "saving model version 0.0\n",
      "checkpoint directory created: ./model\n",
      "saving model version 0.0\n",
      "Successfully created and tested Model4\n"
     ]
    },
    {
     "name": "stderr",
     "output_type": "stream",
     "text": [
      " train_acc_hybrid: 9.95e-01 | val_acc_hybrid: 7.49e-01 |: 100%|███| 120/120 [04:18<00:00,  2.16s/it]\n"
     ]
    },
    {
     "name": "stdout",
     "output_type": "stream",
     "text": [
      "saving model version 0.1\n",
      "✅ Best validation Accuracy: 7.7663e-01 at 39 epoch\n",
      "avg_acc 0.7719780206680298\n",
      "Testing 5 hidden neurons, lamb=0.01, grid=4\n",
      "checkpoint directory created: ./model\n",
      "saving model version 0.0\n",
      "checkpoint directory created: ./model\n",
      "saving model version 0.0\n",
      "Successfully created and tested Model4\n"
     ]
    },
    {
     "name": "stderr",
     "output_type": "stream",
     "text": [
      " train_acc_hybrid: 9.86e-01 | val_acc_hybrid: 8.73e-01 |: 100%|███| 120/120 [04:06<00:00,  2.05s/it]\n"
     ]
    },
    {
     "name": "stdout",
     "output_type": "stream",
     "text": [
      "saving model version 0.1\n",
      "✅ Best validation Accuracy: 8.7858e-01 at 33 epoch\n",
      "avg_acc 0.8452380895614624\n",
      "Testing 5 hidden neurons, lamb=0.001, grid=4\n",
      "checkpoint directory created: ./model\n",
      "saving model version 0.0\n",
      "checkpoint directory created: ./model\n",
      "saving model version 0.0\n",
      "Successfully created and tested Model4\n"
     ]
    },
    {
     "name": "stderr",
     "output_type": "stream",
     "text": [
      " train_acc_hybrid: 9.97e-01 | val_acc_hybrid: 8.50e-01 |: 100%|███| 120/120 [04:23<00:00,  2.20s/it]\n"
     ]
    },
    {
     "name": "stdout",
     "output_type": "stream",
     "text": [
      "saving model version 0.1\n",
      "✅ Best validation Accuracy: 8.5682e-01 at 46 epoch\n",
      "avg_acc 0.8534798622131348\n",
      "Testing 5 hidden neurons, lamb=0.0001, grid=4\n",
      "checkpoint directory created: ./model\n",
      "saving model version 0.0\n",
      "checkpoint directory created: ./model\n",
      "saving model version 0.0\n",
      "Successfully created and tested Model4\n"
     ]
    },
    {
     "name": "stderr",
     "output_type": "stream",
     "text": [
      " train_acc_hybrid: 9.97e-01 | val_acc_hybrid: 7.88e-01 |: 100%|███| 120/120 [04:44<00:00,  2.37s/it]\n"
     ]
    },
    {
     "name": "stdout",
     "output_type": "stream",
     "text": [
      "saving model version 0.1\n",
      "✅ Best validation Accuracy: 7.8809e-01 at 106 epoch\n",
      "avg_acc 0.778388261795044\n",
      "Testing 5 hidden neurons, lamb=1e-05, grid=4\n",
      "checkpoint directory created: ./model\n",
      "saving model version 0.0\n",
      "checkpoint directory created: ./model\n",
      "saving model version 0.0\n",
      "Successfully created and tested Model4\n"
     ]
    },
    {
     "name": "stderr",
     "output_type": "stream",
     "text": [
      " train_acc_hybrid: 9.94e-01 | val_acc_hybrid: 8.14e-01 |: 100%|███| 120/120 [03:48<00:00,  1.91s/it]\n"
     ]
    },
    {
     "name": "stdout",
     "output_type": "stream",
     "text": [
      "saving model version 0.1\n",
      "✅ Best validation Accuracy: 8.2016e-01 at 52 epoch\n",
      "avg_acc 0.803113579750061\n",
      "Testing 5 hidden neurons, lamb=1e-06, grid=4\n",
      "checkpoint directory created: ./model\n",
      "saving model version 0.0\n",
      "checkpoint directory created: ./model\n",
      "saving model version 0.0\n",
      "Successfully created and tested Model4\n"
     ]
    },
    {
     "name": "stderr",
     "output_type": "stream",
     "text": [
      " train_acc_hybrid: 9.94e-01 | val_acc_hybrid: 8.00e-01 |: 100%|███| 120/120 [04:38<00:00,  2.32s/it]\n"
     ]
    },
    {
     "name": "stdout",
     "output_type": "stream",
     "text": [
      "saving model version 0.1\n",
      "✅ Best validation Accuracy: 8.0756e-01 at 71 epoch\n",
      "avg_acc 0.7930402755737305\n",
      "Testing 5 hidden neurons, lamb=1e-07, grid=4\n",
      "checkpoint directory created: ./model\n",
      "saving model version 0.0\n",
      "checkpoint directory created: ./model\n",
      "saving model version 0.0\n",
      "Successfully created and tested Model4\n"
     ]
    },
    {
     "name": "stderr",
     "output_type": "stream",
     "text": [
      " train_acc_hybrid: 9.91e-01 | val_acc_hybrid: 7.96e-01 |: 100%|███| 120/120 [03:32<00:00,  1.77s/it]\n"
     ]
    },
    {
     "name": "stdout",
     "output_type": "stream",
     "text": [
      "saving model version 0.1\n",
      "✅ Best validation Accuracy: 7.9954e-01 at 56 epoch\n",
      "avg_acc 0.773809552192688\n",
      "Testing 5 hidden neurons, lamb=0.01, grid=5\n",
      "checkpoint directory created: ./model\n",
      "saving model version 0.0\n",
      "checkpoint directory created: ./model\n",
      "saving model version 0.0\n",
      "Successfully created and tested Model4\n"
     ]
    },
    {
     "name": "stderr",
     "output_type": "stream",
     "text": [
      " train_acc_hybrid: 9.87e-01 | val_acc_hybrid: 8.56e-01 |: 100%|███| 120/120 [04:28<00:00,  2.23s/it]\n"
     ]
    },
    {
     "name": "stdout",
     "output_type": "stream",
     "text": [
      "saving model version 0.1\n",
      "✅ Best validation Accuracy: 8.6254e-01 at 19 epoch\n",
      "avg_acc 0.8589743375778198\n",
      "Testing 5 hidden neurons, lamb=0.001, grid=5\n",
      "checkpoint directory created: ./model\n",
      "saving model version 0.0\n",
      "checkpoint directory created: ./model\n",
      "saving model version 0.0\n",
      "Successfully created and tested Model4\n"
     ]
    },
    {
     "name": "stderr",
     "output_type": "stream",
     "text": [
      " train_acc_hybrid: 9.99e-01 | val_acc_hybrid: 8.87e-01 |: 100%|███| 120/120 [05:34<00:00,  2.79s/it]\n"
     ]
    },
    {
     "name": "stdout",
     "output_type": "stream",
     "text": [
      "saving model version 0.1\n",
      "✅ Best validation Accuracy: 8.9347e-01 at 104 epoch\n",
      "avg_acc 0.8598901033401489\n",
      "Testing 5 hidden neurons, lamb=0.0001, grid=5\n",
      "checkpoint directory created: ./model\n",
      "saving model version 0.0\n",
      "checkpoint directory created: ./model\n",
      "saving model version 0.0\n",
      "Successfully created and tested Model4\n"
     ]
    },
    {
     "name": "stderr",
     "output_type": "stream",
     "text": [
      " train_acc_hybrid: 9.96e-01 | val_acc_hybrid: 8.19e-01 |: 100%|███| 120/120 [04:42<00:00,  2.35s/it]\n"
     ]
    },
    {
     "name": "stdout",
     "output_type": "stream",
     "text": [
      "saving model version 0.1\n",
      "✅ Best validation Accuracy: 8.2245e-01 at 61 epoch\n",
      "avg_acc 0.7948718070983887\n",
      "Testing 5 hidden neurons, lamb=1e-05, grid=5\n",
      "checkpoint directory created: ./model\n",
      "saving model version 0.0\n",
      "checkpoint directory created: ./model\n",
      "saving model version 0.0\n",
      "Successfully created and tested Model4\n"
     ]
    },
    {
     "name": "stderr",
     "output_type": "stream",
     "text": [
      " train_acc_hybrid: 9.96e-01 | val_acc_hybrid: 8.52e-01 |: 100%|███| 120/120 [04:32<00:00,  2.27s/it]\n"
     ]
    },
    {
     "name": "stdout",
     "output_type": "stream",
     "text": [
      "saving model version 0.1\n",
      "✅ Best validation Accuracy: 8.6025e-01 at 54 epoch\n",
      "avg_acc 0.8159340620040894\n",
      "Testing 5 hidden neurons, lamb=1e-06, grid=5\n",
      "checkpoint directory created: ./model\n",
      "saving model version 0.0\n",
      "checkpoint directory created: ./model\n",
      "saving model version 0.0\n",
      "Successfully created and tested Model4\n"
     ]
    },
    {
     "name": "stderr",
     "output_type": "stream",
     "text": [
      " train_acc_hybrid: 9.97e-01 | val_acc_hybrid: 8.42e-01 |: 100%|███| 120/120 [05:17<00:00,  2.64s/it]\n"
     ]
    },
    {
     "name": "stdout",
     "output_type": "stream",
     "text": [
      "saving model version 0.1\n",
      "✅ Best validation Accuracy: 8.4192e-01 at 101 epoch\n",
      "avg_acc 0.8415750861167908\n",
      "Testing 5 hidden neurons, lamb=1e-07, grid=5\n",
      "checkpoint directory created: ./model\n",
      "saving model version 0.0\n",
      "checkpoint directory created: ./model\n",
      "saving model version 0.0\n",
      "Successfully created and tested Model4\n"
     ]
    },
    {
     "name": "stderr",
     "output_type": "stream",
     "text": [
      " train_acc_hybrid: 9.95e-01 | val_acc_hybrid: 8.11e-01 |: 100%|███| 120/120 [05:06<00:00,  2.55s/it]\n"
     ]
    },
    {
     "name": "stdout",
     "output_type": "stream",
     "text": [
      "saving model version 0.1\n",
      "✅ Best validation Accuracy: 8.1787e-01 at 41 epoch\n",
      "avg_acc 0.8003662824630737\n",
      "Testing 5 hidden neurons, lamb=0.01, grid=6\n",
      "checkpoint directory created: ./model\n",
      "saving model version 0.0\n",
      "checkpoint directory created: ./model\n",
      "saving model version 0.0\n",
      "Successfully created and tested Model4\n"
     ]
    },
    {
     "name": "stderr",
     "output_type": "stream",
     "text": [
      " train_acc_hybrid: 9.89e-01 | val_acc_hybrid: 8.53e-01 |: 100%|███| 120/120 [05:32<00:00,  2.77s/it]\n"
     ]
    },
    {
     "name": "stdout",
     "output_type": "stream",
     "text": [
      "saving model version 0.1\n",
      "✅ Best validation Accuracy: 8.6025e-01 at 29 epoch\n",
      "avg_acc 0.8617216348648071\n",
      "Testing 5 hidden neurons, lamb=0.001, grid=6\n",
      "checkpoint directory created: ./model\n",
      "saving model version 0.0\n",
      "checkpoint directory created: ./model\n",
      "saving model version 0.0\n",
      "Successfully created and tested Model4\n"
     ]
    },
    {
     "name": "stderr",
     "output_type": "stream",
     "text": [
      " train_acc_hybrid: 9.97e-01 | val_acc_hybrid: 8.17e-01 |: 100%|███| 120/120 [05:40<00:00,  2.83s/it]\n"
     ]
    },
    {
     "name": "stdout",
     "output_type": "stream",
     "text": [
      "saving model version 0.1\n",
      "✅ Best validation Accuracy: 8.2245e-01 at 59 epoch\n",
      "avg_acc 0.8250916004180908\n",
      "Testing 5 hidden neurons, lamb=0.0001, grid=6\n",
      "checkpoint directory created: ./model\n",
      "saving model version 0.0\n",
      "checkpoint directory created: ./model\n",
      "saving model version 0.0\n",
      "Successfully created and tested Model4\n"
     ]
    },
    {
     "name": "stderr",
     "output_type": "stream",
     "text": [
      " train_acc_hybrid: 9.96e-01 | val_acc_hybrid: 8.18e-01 |: 100%|███| 120/120 [05:34<00:00,  2.79s/it]\n"
     ]
    },
    {
     "name": "stdout",
     "output_type": "stream",
     "text": [
      "saving model version 0.1\n",
      "✅ Best validation Accuracy: 8.2131e-01 at 68 epoch\n",
      "avg_acc 0.8003662824630737\n",
      "Testing 5 hidden neurons, lamb=1e-05, grid=6\n",
      "checkpoint directory created: ./model\n",
      "saving model version 0.0\n",
      "checkpoint directory created: ./model\n",
      "saving model version 0.0\n",
      "Successfully created and tested Model4\n"
     ]
    },
    {
     "name": "stderr",
     "output_type": "stream",
     "text": [
      " train_acc_hybrid: 9.96e-01 | val_acc_hybrid: 8.01e-01 |: 100%|███| 120/120 [05:04<00:00,  2.54s/it]\n"
     ]
    },
    {
     "name": "stdout",
     "output_type": "stream",
     "text": [
      "saving model version 0.1\n",
      "✅ Best validation Accuracy: 8.0412e-01 at 36 epoch\n",
      "avg_acc 0.7902930378913879\n",
      "Testing 5 hidden neurons, lamb=1e-06, grid=6\n",
      "checkpoint directory created: ./model\n",
      "saving model version 0.0\n",
      "checkpoint directory created: ./model\n",
      "saving model version 0.0\n",
      "Successfully created and tested Model4\n"
     ]
    },
    {
     "name": "stderr",
     "output_type": "stream",
     "text": [
      " train_acc_hybrid: 9.97e-01 | val_acc_hybrid: 8.20e-01 |: 100%|███| 120/120 [05:08<00:00,  2.57s/it]\n"
     ]
    },
    {
     "name": "stdout",
     "output_type": "stream",
     "text": [
      "saving model version 0.1\n",
      "✅ Best validation Accuracy: 8.2016e-01 at 80 epoch\n",
      "avg_acc 0.8086080551147461\n",
      "Testing 5 hidden neurons, lamb=1e-07, grid=6\n",
      "checkpoint directory created: ./model\n",
      "saving model version 0.0\n",
      "checkpoint directory created: ./model\n",
      "saving model version 0.0\n",
      "Successfully created and tested Model4\n"
     ]
    },
    {
     "name": "stderr",
     "output_type": "stream",
     "text": [
      " train_acc_hybrid: 9.96e-01 | val_acc_hybrid: 7.95e-01 |: 100%|███| 120/120 [05:18<00:00,  2.65s/it]\n"
     ]
    },
    {
     "name": "stdout",
     "output_type": "stream",
     "text": [
      "saving model version 0.1\n",
      "✅ Best validation Accuracy: 8.0412e-01 at 51 epoch\n",
      "avg_acc 0.7820512652397156\n",
      "Testing 5 hidden neurons, lamb=0.01, grid=7\n",
      "checkpoint directory created: ./model\n",
      "saving model version 0.0\n",
      "checkpoint directory created: ./model\n",
      "saving model version 0.0\n",
      "Successfully created and tested Model4\n"
     ]
    },
    {
     "name": "stderr",
     "output_type": "stream",
     "text": [
      " train_acc_hybrid: 9.95e-01 | val_acc_hybrid: 8.66e-01 |: 100%|███| 120/120 [05:40<00:00,  2.84s/it]\n"
     ]
    },
    {
     "name": "stdout",
     "output_type": "stream",
     "text": [
      "saving model version 0.1\n",
      "✅ Best validation Accuracy: 8.6827e-01 at 62 epoch\n",
      "avg_acc 0.8626373410224915\n",
      "Testing 5 hidden neurons, lamb=0.001, grid=7\n",
      "checkpoint directory created: ./model\n",
      "saving model version 0.0\n",
      "checkpoint directory created: ./model\n",
      "saving model version 0.0\n",
      "Successfully created and tested Model4\n"
     ]
    },
    {
     "name": "stderr",
     "output_type": "stream",
     "text": [
      " train_acc_hybrid: 9.97e-01 | val_acc_hybrid: 8.41e-01 |: 100%|███| 120/120 [05:46<00:00,  2.89s/it]\n"
     ]
    },
    {
     "name": "stdout",
     "output_type": "stream",
     "text": [
      "saving model version 0.1\n",
      "✅ Best validation Accuracy: 8.4307e-01 at 85 epoch\n",
      "avg_acc 0.8214285969734192\n",
      "Testing 5 hidden neurons, lamb=0.0001, grid=7\n",
      "checkpoint directory created: ./model\n",
      "saving model version 0.0\n",
      "checkpoint directory created: ./model\n",
      "saving model version 0.0\n",
      "Successfully created and tested Model4\n"
     ]
    },
    {
     "name": "stderr",
     "output_type": "stream",
     "text": [
      " train_acc_hybrid: 9.96e-01 | val_acc_hybrid: 7.94e-01 |: 100%|███| 120/120 [05:39<00:00,  2.83s/it]\n"
     ]
    },
    {
     "name": "stdout",
     "output_type": "stream",
     "text": [
      "saving model version 0.1\n",
      "✅ Best validation Accuracy: 7.9496e-01 at 89 epoch\n",
      "avg_acc 0.7921245694160461\n",
      "Testing 5 hidden neurons, lamb=1e-05, grid=7\n",
      "checkpoint directory created: ./model\n",
      "saving model version 0.0\n",
      "checkpoint directory created: ./model\n",
      "saving model version 0.0\n",
      "Successfully created and tested Model4\n"
     ]
    },
    {
     "name": "stderr",
     "output_type": "stream",
     "text": [
      " train_acc_hybrid: 9.98e-01 | val_acc_hybrid: 8.04e-01 |: 100%|███| 120/120 [06:24<00:00,  3.21s/it]\n"
     ]
    },
    {
     "name": "stdout",
     "output_type": "stream",
     "text": [
      "saving model version 0.1\n",
      "✅ Best validation Accuracy: 8.0641e-01 at 72 epoch\n",
      "avg_acc 0.7802197933197021\n",
      "Testing 5 hidden neurons, lamb=1e-06, grid=7\n",
      "checkpoint directory created: ./model\n",
      "saving model version 0.0\n",
      "checkpoint directory created: ./model\n",
      "saving model version 0.0\n",
      "Successfully created and tested Model4\n"
     ]
    },
    {
     "name": "stderr",
     "output_type": "stream",
     "text": [
      " train_acc_hybrid: 9.96e-01 | val_acc_hybrid: 7.97e-01 |: 100%|███| 120/120 [05:33<00:00,  2.78s/it]\n"
     ]
    },
    {
     "name": "stdout",
     "output_type": "stream",
     "text": [
      "saving model version 0.1\n",
      "✅ Best validation Accuracy: 7.9954e-01 at 40 epoch\n",
      "avg_acc 0.8122710585594177\n",
      "Testing 5 hidden neurons, lamb=1e-07, grid=7\n",
      "checkpoint directory created: ./model\n",
      "saving model version 0.0\n",
      "checkpoint directory created: ./model\n",
      "saving model version 0.0\n",
      "Successfully created and tested Model4\n"
     ]
    },
    {
     "name": "stderr",
     "output_type": "stream",
     "text": [
      " train_acc_hybrid: 9.95e-01 | val_acc_hybrid: 7.56e-01 |: 100%|███| 120/120 [05:37<00:00,  2.81s/it]\n"
     ]
    },
    {
     "name": "stdout",
     "output_type": "stream",
     "text": [
      "saving model version 0.1\n",
      "✅ Best validation Accuracy: 7.6861e-01 at 33 epoch\n",
      "avg_acc 0.7609890103340149\n",
      "Testing 5 hidden neurons, lamb=0.01, grid=8\n",
      "checkpoint directory created: ./model\n",
      "saving model version 0.0\n",
      "checkpoint directory created: ./model\n",
      "saving model version 0.0\n",
      "Successfully created and tested Model4\n"
     ]
    },
    {
     "name": "stderr",
     "output_type": "stream",
     "text": [
      " train_acc_hybrid: 9.94e-01 | val_acc_hybrid: 8.68e-01 |: 100%|███| 120/120 [06:27<00:00,  3.23s/it]\n"
     ]
    },
    {
     "name": "stdout",
     "output_type": "stream",
     "text": [
      "saving model version 0.1\n",
      "✅ Best validation Accuracy: 8.8202e-01 at 44 epoch\n",
      "avg_acc 0.8836996555328369\n",
      "Testing 5 hidden neurons, lamb=0.001, grid=8\n",
      "checkpoint directory created: ./model\n",
      "saving model version 0.0\n",
      "checkpoint directory created: ./model\n",
      "saving model version 0.0\n",
      "Successfully created and tested Model4\n"
     ]
    },
    {
     "name": "stderr",
     "output_type": "stream",
     "text": [
      " train_acc_hybrid: 9.99e-01 | val_acc_hybrid: 8.32e-01 |: 100%|███| 120/120 [07:06<00:00,  3.56s/it]\n"
     ]
    },
    {
     "name": "stdout",
     "output_type": "stream",
     "text": [
      "saving model version 0.1\n",
      "✅ Best validation Accuracy: 8.4078e-01 at 94 epoch\n",
      "avg_acc 0.8406593203544617\n",
      "Testing 5 hidden neurons, lamb=0.0001, grid=8\n",
      "checkpoint directory created: ./model\n",
      "saving model version 0.0\n",
      "checkpoint directory created: ./model\n",
      "saving model version 0.0\n",
      "Successfully created and tested Model4\n"
     ]
    },
    {
     "name": "stderr",
     "output_type": "stream",
     "text": [
      " train_acc_hybrid: 9.95e-01 | val_acc_hybrid: 7.84e-01 |: 100%|███| 120/120 [06:30<00:00,  3.26s/it]\n"
     ]
    },
    {
     "name": "stdout",
     "output_type": "stream",
     "text": [
      "saving model version 0.1\n",
      "✅ Best validation Accuracy: 7.9038e-01 at 66 epoch\n",
      "avg_acc 0.7628205418586731\n",
      "Testing 5 hidden neurons, lamb=1e-05, grid=8\n",
      "checkpoint directory created: ./model\n",
      "saving model version 0.0\n",
      "checkpoint directory created: ./model\n",
      "saving model version 0.0\n",
      "Successfully created and tested Model4\n"
     ]
    },
    {
     "name": "stderr",
     "output_type": "stream",
     "text": [
      " train_acc_hybrid: 9.93e-01 | val_acc_hybrid: 7.62e-01 |: 100%|███| 120/120 [05:49<00:00,  2.92s/it]\n"
     ]
    },
    {
     "name": "stdout",
     "output_type": "stream",
     "text": [
      "saving model version 0.1\n",
      "✅ Best validation Accuracy: 7.9038e-01 at 27 epoch\n",
      "avg_acc 0.7802197933197021\n",
      "Testing 5 hidden neurons, lamb=1e-06, grid=8\n",
      "checkpoint directory created: ./model\n",
      "saving model version 0.0\n",
      "checkpoint directory created: ./model\n",
      "saving model version 0.0\n",
      "Successfully created and tested Model4\n"
     ]
    },
    {
     "name": "stderr",
     "output_type": "stream",
     "text": [
      " train_acc_hybrid: 9.95e-01 | val_acc_hybrid: 7.67e-01 |: 100%|███| 120/120 [05:45<00:00,  2.88s/it]\n"
     ]
    },
    {
     "name": "stdout",
     "output_type": "stream",
     "text": [
      "saving model version 0.1\n",
      "✅ Best validation Accuracy: 7.7663e-01 at 25 epoch\n",
      "avg_acc 0.7664835453033447\n",
      "Testing 5 hidden neurons, lamb=1e-07, grid=8\n",
      "checkpoint directory created: ./model\n",
      "saving model version 0.0\n",
      "checkpoint directory created: ./model\n",
      "saving model version 0.0\n",
      "Successfully created and tested Model4\n"
     ]
    },
    {
     "name": "stderr",
     "output_type": "stream",
     "text": [
      " train_acc_hybrid: 9.95e-01 | val_acc_hybrid: 7.81e-01 |: 100%|███| 120/120 [06:20<00:00,  3.17s/it]\n"
     ]
    },
    {
     "name": "stdout",
     "output_type": "stream",
     "text": [
      "saving model version 0.1\n",
      "✅ Best validation Accuracy: 7.8809e-01 at 59 epoch\n",
      "avg_acc 0.7866300344467163\n",
      "Testing 6 hidden neurons, lamb=0.01, grid=3\n",
      "checkpoint directory created: ./model\n",
      "saving model version 0.0\n",
      "checkpoint directory created: ./model\n",
      "saving model version 0.0\n",
      "Successfully created and tested Model4\n"
     ]
    },
    {
     "name": "stderr",
     "output_type": "stream",
     "text": [
      " train_acc_hybrid: 9.93e-01 | val_acc_hybrid: 8.43e-01 |: 100%|███| 120/120 [03:33<00:00,  1.78s/it]\n"
     ]
    },
    {
     "name": "stdout",
     "output_type": "stream",
     "text": [
      "saving model version 0.1\n",
      "✅ Best validation Accuracy: 8.4994e-01 at 38 epoch\n",
      "avg_acc 0.8553113341331482\n",
      "Testing 6 hidden neurons, lamb=0.001, grid=3\n",
      "checkpoint directory created: ./model\n",
      "saving model version 0.0\n",
      "checkpoint directory created: ./model\n",
      "saving model version 0.0\n",
      "Successfully created and tested Model4\n"
     ]
    },
    {
     "name": "stderr",
     "output_type": "stream",
     "text": [
      " train_acc_hybrid: 9.97e-01 | val_acc_hybrid: 8.51e-01 |: 100%|███| 120/120 [03:48<00:00,  1.90s/it]\n"
     ]
    },
    {
     "name": "stdout",
     "output_type": "stream",
     "text": [
      "saving model version 0.1\n",
      "✅ Best validation Accuracy: 8.5682e-01 at 61 epoch\n",
      "avg_acc 0.8342490792274475\n",
      "Testing 6 hidden neurons, lamb=0.0001, grid=3\n",
      "checkpoint directory created: ./model\n",
      "saving model version 0.0\n",
      "checkpoint directory created: ./model\n",
      "saving model version 0.0\n",
      "Successfully created and tested Model4\n"
     ]
    },
    {
     "name": "stderr",
     "output_type": "stream",
     "text": [
      " train_acc_hybrid: 9.95e-01 | val_acc_hybrid: 7.73e-01 |: 100%|███| 120/120 [03:58<00:00,  1.99s/it]\n"
     ]
    },
    {
     "name": "stdout",
     "output_type": "stream",
     "text": [
      "saving model version 0.1\n",
      "✅ Best validation Accuracy: 7.8809e-01 at 43 epoch\n",
      "avg_acc 0.7564102411270142\n",
      "Testing 6 hidden neurons, lamb=1e-05, grid=3\n",
      "checkpoint directory created: ./model\n",
      "saving model version 0.0\n",
      "checkpoint directory created: ./model\n",
      "saving model version 0.0\n",
      "Successfully created and tested Model4\n"
     ]
    },
    {
     "name": "stderr",
     "output_type": "stream",
     "text": [
      " train_acc_hybrid: 9.95e-01 | val_acc_hybrid: 7.73e-01 |: 100%|███| 120/120 [03:54<00:00,  1.96s/it]\n"
     ]
    },
    {
     "name": "stdout",
     "output_type": "stream",
     "text": [
      "saving model version 0.1\n",
      "✅ Best validation Accuracy: 7.7663e-01 at 67 epoch\n",
      "avg_acc 0.7518315315246582\n",
      "Testing 6 hidden neurons, lamb=1e-06, grid=3\n",
      "checkpoint directory created: ./model\n",
      "saving model version 0.0\n",
      "checkpoint directory created: ./model\n",
      "saving model version 0.0\n",
      "Successfully created and tested Model4\n"
     ]
    },
    {
     "name": "stderr",
     "output_type": "stream",
     "text": [
      " train_acc_hybrid: 9.94e-01 | val_acc_hybrid: 8.00e-01 |: 100%|███| 120/120 [04:04<00:00,  2.04s/it]\n"
     ]
    },
    {
     "name": "stdout",
     "output_type": "stream",
     "text": [
      "saving model version 0.1\n",
      "✅ Best validation Accuracy: 8.0298e-01 at 42 epoch\n",
      "avg_acc 0.7820512652397156\n",
      "Testing 6 hidden neurons, lamb=1e-07, grid=3\n",
      "checkpoint directory created: ./model\n",
      "saving model version 0.0\n",
      "checkpoint directory created: ./model\n",
      "saving model version 0.0\n",
      "Successfully created and tested Model4\n"
     ]
    },
    {
     "name": "stderr",
     "output_type": "stream",
     "text": [
      " train_acc_hybrid: 9.95e-01 | val_acc_hybrid: 7.77e-01 |: 100%|███| 120/120 [04:13<00:00,  2.11s/it]\n"
     ]
    },
    {
     "name": "stdout",
     "output_type": "stream",
     "text": [
      "saving model version 0.1\n",
      "✅ Best validation Accuracy: 7.8351e-01 at 68 epoch\n",
      "avg_acc 0.7637362480163574\n",
      "Testing 6 hidden neurons, lamb=0.01, grid=4\n",
      "checkpoint directory created: ./model\n",
      "saving model version 0.0\n",
      "checkpoint directory created: ./model\n",
      "saving model version 0.0\n",
      "Successfully created and tested Model4\n"
     ]
    },
    {
     "name": "stderr",
     "output_type": "stream",
     "text": [
      " train_acc_hybrid: 9.93e-01 | val_acc_hybrid: 8.91e-01 |: 100%|███| 120/120 [04:26<00:00,  2.22s/it]\n"
     ]
    },
    {
     "name": "stdout",
     "output_type": "stream",
     "text": [
      "saving model version 0.1\n",
      "✅ Best validation Accuracy: 8.9347e-01 at 69 epoch\n",
      "avg_acc 0.8791208863258362\n",
      "Testing 6 hidden neurons, lamb=0.001, grid=4\n",
      "checkpoint directory created: ./model\n",
      "saving model version 0.0\n",
      "checkpoint directory created: ./model\n",
      "saving model version 0.0\n",
      "Successfully created and tested Model4\n"
     ]
    },
    {
     "name": "stderr",
     "output_type": "stream",
     "text": [
      " train_acc_hybrid: 9.97e-01 | val_acc_hybrid: 8.18e-01 |: 100%|███| 120/120 [04:43<00:00,  2.36s/it]\n"
     ]
    },
    {
     "name": "stdout",
     "output_type": "stream",
     "text": [
      "saving model version 0.1\n",
      "✅ Best validation Accuracy: 8.2131e-01 at 46 epoch\n",
      "avg_acc 0.8012820482254028\n",
      "Testing 6 hidden neurons, lamb=0.0001, grid=4\n",
      "checkpoint directory created: ./model\n",
      "saving model version 0.0\n",
      "checkpoint directory created: ./model\n",
      "saving model version 0.0\n",
      "Successfully created and tested Model4\n"
     ]
    },
    {
     "name": "stderr",
     "output_type": "stream",
     "text": [
      " train_acc_hybrid: 9.95e-01 | val_acc_hybrid: 7.69e-01 |: 100%|███| 120/120 [04:36<00:00,  2.30s/it]\n"
     ]
    },
    {
     "name": "stdout",
     "output_type": "stream",
     "text": [
      "saving model version 0.1\n",
      "✅ Best validation Accuracy: 7.7090e-01 at 80 epoch\n",
      "avg_acc 0.7811355590820312\n",
      "Testing 6 hidden neurons, lamb=1e-05, grid=4\n",
      "checkpoint directory created: ./model\n",
      "saving model version 0.0\n",
      "checkpoint directory created: ./model\n",
      "saving model version 0.0\n",
      "Successfully created and tested Model4\n"
     ]
    },
    {
     "name": "stderr",
     "output_type": "stream",
     "text": [
      " train_acc_hybrid: 9.95e-01 | val_acc_hybrid: 7.78e-01 |: 100%|███| 120/120 [04:54<00:00,  2.45s/it]\n"
     ]
    },
    {
     "name": "stdout",
     "output_type": "stream",
     "text": [
      "saving model version 0.1\n",
      "✅ Best validation Accuracy: 7.9152e-01 at 42 epoch\n",
      "avg_acc 0.7756410241127014\n",
      "Testing 6 hidden neurons, lamb=1e-06, grid=4\n",
      "checkpoint directory created: ./model\n",
      "saving model version 0.0\n",
      "checkpoint directory created: ./model\n",
      "saving model version 0.0\n",
      "Successfully created and tested Model4\n"
     ]
    },
    {
     "name": "stderr",
     "output_type": "stream",
     "text": [
      " train_acc_hybrid: 9.97e-01 | val_acc_hybrid: 7.74e-01 |: 100%|███| 120/120 [04:56<00:00,  2.47s/it]\n"
     ]
    },
    {
     "name": "stdout",
     "output_type": "stream",
     "text": [
      "saving model version 0.1\n",
      "✅ Best validation Accuracy: 7.9840e-01 at 37 epoch\n",
      "avg_acc 0.7655677795410156\n",
      "Testing 6 hidden neurons, lamb=1e-07, grid=4\n",
      "checkpoint directory created: ./model\n",
      "saving model version 0.0\n",
      "checkpoint directory created: ./model\n",
      "saving model version 0.0\n",
      "Successfully created and tested Model4\n"
     ]
    },
    {
     "name": "stderr",
     "output_type": "stream",
     "text": [
      " train_acc_hybrid: 9.93e-01 | val_acc_hybrid: 7.53e-01 |: 100%|███| 120/120 [04:02<00:00,  2.02s/it]\n"
     ]
    },
    {
     "name": "stdout",
     "output_type": "stream",
     "text": [
      "saving model version 0.1\n",
      "✅ Best validation Accuracy: 7.5372e-01 at 63 epoch\n",
      "avg_acc 0.7536630034446716\n",
      "Testing 6 hidden neurons, lamb=0.01, grid=5\n",
      "checkpoint directory created: ./model\n",
      "saving model version 0.0\n",
      "checkpoint directory created: ./model\n",
      "saving model version 0.0\n",
      "Successfully created and tested Model4\n"
     ]
    },
    {
     "name": "stderr",
     "output_type": "stream",
     "text": [
      " train_acc_hybrid: 9.89e-01 | val_acc_hybrid: 8.77e-01 |: 100%|███| 120/120 [05:04<00:00,  2.54s/it]\n"
     ]
    },
    {
     "name": "stdout",
     "output_type": "stream",
     "text": [
      "saving model version 0.1\n",
      "✅ Best validation Accuracy: 8.7858e-01 at 45 epoch\n",
      "avg_acc 0.8635531067848206\n",
      "Testing 6 hidden neurons, lamb=0.001, grid=5\n",
      "checkpoint directory created: ./model\n",
      "saving model version 0.0\n",
      "checkpoint directory created: ./model\n",
      "saving model version 0.0\n",
      "Successfully created and tested Model4\n"
     ]
    },
    {
     "name": "stderr",
     "output_type": "stream",
     "text": [
      " train_acc_hybrid: 9.96e-01 | val_acc_hybrid: 8.52e-01 |: 100%|███| 120/120 [05:23<00:00,  2.70s/it]\n"
     ]
    },
    {
     "name": "stdout",
     "output_type": "stream",
     "text": [
      "saving model version 0.1\n",
      "✅ Best validation Accuracy: 8.6025e-01 at 80 epoch\n",
      "avg_acc 0.8626373410224915\n",
      "Testing 6 hidden neurons, lamb=0.0001, grid=5\n",
      "checkpoint directory created: ./model\n",
      "saving model version 0.0\n",
      "checkpoint directory created: ./model\n",
      "saving model version 0.0\n",
      "Successfully created and tested Model4\n"
     ]
    },
    {
     "name": "stderr",
     "output_type": "stream",
     "text": [
      " train_acc_hybrid: 9.95e-01 | val_acc_hybrid: 8.17e-01 |: 100%|███| 120/120 [04:32<00:00,  2.27s/it]\n"
     ]
    },
    {
     "name": "stdout",
     "output_type": "stream",
     "text": [
      "saving model version 0.1\n",
      "✅ Best validation Accuracy: 8.2474e-01 at 42 epoch\n",
      "avg_acc 0.8214285969734192\n",
      "Testing 6 hidden neurons, lamb=1e-05, grid=5\n",
      "checkpoint directory created: ./model\n",
      "saving model version 0.0\n",
      "checkpoint directory created: ./model\n",
      "saving model version 0.0\n",
      "Successfully created and tested Model4\n"
     ]
    },
    {
     "name": "stderr",
     "output_type": "stream",
     "text": [
      " train_acc_hybrid: 9.97e-01 | val_acc_hybrid: 8.00e-01 |: 100%|███| 120/120 [05:00<00:00,  2.51s/it]\n"
     ]
    },
    {
     "name": "stdout",
     "output_type": "stream",
     "text": [
      "saving model version 0.1\n",
      "✅ Best validation Accuracy: 8.0756e-01 at 85 epoch\n",
      "avg_acc 0.8058608174324036\n",
      "Testing 6 hidden neurons, lamb=1e-06, grid=5\n",
      "checkpoint directory created: ./model\n",
      "saving model version 0.0\n",
      "checkpoint directory created: ./model\n",
      "saving model version 0.0\n",
      "Successfully created and tested Model4\n"
     ]
    },
    {
     "name": "stderr",
     "output_type": "stream",
     "text": [
      " train_acc_hybrid: 9.96e-01 | val_acc_hybrid: 8.41e-01 |: 100%|███| 120/120 [05:06<00:00,  2.56s/it]\n"
     ]
    },
    {
     "name": "stdout",
     "output_type": "stream",
     "text": [
      "saving model version 0.1\n",
      "✅ Best validation Accuracy: 8.4994e-01 at 52 epoch\n",
      "avg_acc 0.8278388381004333\n",
      "Testing 6 hidden neurons, lamb=1e-07, grid=5\n",
      "checkpoint directory created: ./model\n",
      "saving model version 0.0\n",
      "checkpoint directory created: ./model\n",
      "saving model version 0.0\n",
      "Successfully created and tested Model4\n"
     ]
    },
    {
     "name": "stderr",
     "output_type": "stream",
     "text": [
      " train_acc_hybrid: 9.96e-01 | val_acc_hybrid: 8.28e-01 |: 100%|███| 120/120 [04:15<00:00,  2.13s/it]\n"
     ]
    },
    {
     "name": "stdout",
     "output_type": "stream",
     "text": [
      "saving model version 0.1\n",
      "✅ Best validation Accuracy: 8.3391e-01 at 60 epoch\n",
      "avg_acc 0.819597065448761\n",
      "Testing 6 hidden neurons, lamb=0.01, grid=6\n",
      "checkpoint directory created: ./model\n",
      "saving model version 0.0\n",
      "checkpoint directory created: ./model\n",
      "saving model version 0.0\n",
      "Successfully created and tested Model4\n"
     ]
    },
    {
     "name": "stderr",
     "output_type": "stream",
     "text": [
      " train_acc_hybrid: 9.94e-01 | val_acc_hybrid: 8.77e-01 |: 100%|███| 120/120 [05:28<00:00,  2.74s/it]\n"
     ]
    },
    {
     "name": "stdout",
     "output_type": "stream",
     "text": [
      "saving model version 0.1\n",
      "✅ Best validation Accuracy: 8.8202e-01 at 35 epoch\n",
      "avg_acc 0.8580586314201355\n",
      "Testing 6 hidden neurons, lamb=0.001, grid=6\n",
      "checkpoint directory created: ./model\n",
      "saving model version 0.0\n",
      "checkpoint directory created: ./model\n",
      "saving model version 0.0\n",
      "Successfully created and tested Model4\n"
     ]
    },
    {
     "name": "stderr",
     "output_type": "stream",
     "text": [
      " train_acc_hybrid: 9.97e-01 | val_acc_hybrid: 8.44e-01 |: 100%|███| 120/120 [05:20<00:00,  2.67s/it]\n"
     ]
    },
    {
     "name": "stdout",
     "output_type": "stream",
     "text": [
      "saving model version 0.1\n",
      "✅ Best validation Accuracy: 8.4651e-01 at 62 epoch\n",
      "avg_acc 0.8406593203544617\n",
      "Testing 6 hidden neurons, lamb=0.0001, grid=6\n",
      "checkpoint directory created: ./model\n",
      "saving model version 0.0\n",
      "checkpoint directory created: ./model\n",
      "saving model version 0.0\n",
      "Successfully created and tested Model4\n"
     ]
    },
    {
     "name": "stderr",
     "output_type": "stream",
     "text": [
      " train_acc_hybrid: 9.95e-01 | val_acc_hybrid: 8.25e-01 |: 100%|███| 120/120 [05:28<00:00,  2.74s/it]\n"
     ]
    },
    {
     "name": "stdout",
     "output_type": "stream",
     "text": [
      "saving model version 0.1\n",
      "✅ Best validation Accuracy: 8.2474e-01 at 113 epoch\n",
      "avg_acc 0.8113552927970886\n",
      "Testing 6 hidden neurons, lamb=1e-05, grid=6\n",
      "checkpoint directory created: ./model\n",
      "saving model version 0.0\n",
      "checkpoint directory created: ./model\n",
      "saving model version 0.0\n",
      "Successfully created and tested Model4\n"
     ]
    },
    {
     "name": "stderr",
     "output_type": "stream",
     "text": [
      " train_acc_hybrid: 9.96e-01 | val_acc_hybrid: 7.77e-01 |: 100%|███| 120/120 [05:32<00:00,  2.77s/it]\n"
     ]
    },
    {
     "name": "stdout",
     "output_type": "stream",
     "text": [
      "saving model version 0.1\n",
      "✅ Best validation Accuracy: 7.8809e-01 at 64 epoch\n",
      "avg_acc 0.7857142686843872\n",
      "Testing 6 hidden neurons, lamb=1e-06, grid=6\n",
      "checkpoint directory created: ./model\n",
      "saving model version 0.0\n",
      "checkpoint directory created: ./model\n",
      "saving model version 0.0\n",
      "Successfully created and tested Model4\n"
     ]
    },
    {
     "name": "stderr",
     "output_type": "stream",
     "text": [
      " train_acc_hybrid: 9.96e-01 | val_acc_hybrid: 8.14e-01 |: 100%|███| 120/120 [05:07<00:00,  2.56s/it]\n"
     ]
    },
    {
     "name": "stdout",
     "output_type": "stream",
     "text": [
      "saving model version 0.1\n",
      "✅ Best validation Accuracy: 8.2474e-01 at 58 epoch\n",
      "avg_acc 0.8406593203544617\n",
      "Testing 6 hidden neurons, lamb=1e-07, grid=6\n",
      "checkpoint directory created: ./model\n",
      "saving model version 0.0\n",
      "checkpoint directory created: ./model\n",
      "saving model version 0.0\n",
      "Successfully created and tested Model4\n"
     ]
    },
    {
     "name": "stderr",
     "output_type": "stream",
     "text": [
      " train_acc_hybrid: 9.95e-01 | val_acc_hybrid: 7.73e-01 |: 100%|███| 120/120 [04:47<00:00,  2.39s/it]\n"
     ]
    },
    {
     "name": "stdout",
     "output_type": "stream",
     "text": [
      "saving model version 0.1\n",
      "✅ Best validation Accuracy: 7.7892e-01 at 34 epoch\n",
      "avg_acc 0.7710622549057007\n",
      "Testing 6 hidden neurons, lamb=0.01, grid=7\n",
      "checkpoint directory created: ./model\n",
      "saving model version 0.0\n",
      "checkpoint directory created: ./model\n",
      "saving model version 0.0\n",
      "Successfully created and tested Model4\n"
     ]
    },
    {
     "name": "stderr",
     "output_type": "stream",
     "text": [
      " train_acc_hybrid: 9.92e-01 | val_acc_hybrid: 8.71e-01 |: 100%|███| 120/120 [05:59<00:00,  3.00s/it]\n"
     ]
    },
    {
     "name": "stdout",
     "output_type": "stream",
     "text": [
      "saving model version 0.1\n",
      "✅ Best validation Accuracy: 8.7743e-01 at 21 epoch\n",
      "avg_acc 0.8589743375778198\n",
      "Testing 6 hidden neurons, lamb=0.001, grid=7\n",
      "checkpoint directory created: ./model\n",
      "saving model version 0.0\n",
      "checkpoint directory created: ./model\n",
      "saving model version 0.0\n",
      "Successfully created and tested Model4\n"
     ]
    },
    {
     "name": "stderr",
     "output_type": "stream",
     "text": [
      " train_acc_hybrid: 9.97e-01 | val_acc_hybrid: 8.55e-01 |: 100%|███| 120/120 [04:54<00:00,  2.45s/it]\n"
     ]
    },
    {
     "name": "stdout",
     "output_type": "stream",
     "text": [
      "saving model version 0.1\n",
      "✅ Best validation Accuracy: 8.6254e-01 at 46 epoch\n",
      "avg_acc 0.8580586314201355\n",
      "Testing 6 hidden neurons, lamb=0.0001, grid=7\n",
      "checkpoint directory created: ./model\n",
      "saving model version 0.0\n",
      "checkpoint directory created: ./model\n",
      "saving model version 0.0\n",
      "Successfully created and tested Model4\n"
     ]
    },
    {
     "name": "stderr",
     "output_type": "stream",
     "text": [
      " train_acc_hybrid: 9.95e-01 | val_acc_hybrid: 8.03e-01 |: 100%|███| 120/120 [05:47<00:00,  2.89s/it]\n"
     ]
    },
    {
     "name": "stdout",
     "output_type": "stream",
     "text": [
      "saving model version 0.1\n",
      "✅ Best validation Accuracy: 8.0985e-01 at 52 epoch\n",
      "avg_acc 0.8021978139877319\n",
      "Testing 6 hidden neurons, lamb=1e-05, grid=7\n",
      "checkpoint directory created: ./model\n",
      "saving model version 0.0\n",
      "checkpoint directory created: ./model\n",
      "saving model version 0.0\n",
      "Successfully created and tested Model4\n"
     ]
    },
    {
     "name": "stderr",
     "output_type": "stream",
     "text": [
      " train_acc_hybrid: 9.96e-01 | val_acc_hybrid: 7.67e-01 |: 100%|███| 120/120 [05:37<00:00,  2.81s/it]\n"
     ]
    },
    {
     "name": "stdout",
     "output_type": "stream",
     "text": [
      "saving model version 0.1\n",
      "✅ Best validation Accuracy: 7.8007e-01 at 42 epoch\n",
      "avg_acc 0.7701465487480164\n",
      "Testing 6 hidden neurons, lamb=1e-06, grid=7\n",
      "checkpoint directory created: ./model\n",
      "saving model version 0.0\n",
      "checkpoint directory created: ./model\n",
      "saving model version 0.0\n",
      "Successfully created and tested Model4\n"
     ]
    },
    {
     "name": "stderr",
     "output_type": "stream",
     "text": [
      " train_acc_hybrid: 9.96e-01 | val_acc_hybrid: 8.17e-01 |: 100%|███| 120/120 [06:05<00:00,  3.04s/it]\n"
     ]
    },
    {
     "name": "stdout",
     "output_type": "stream",
     "text": [
      "saving model version 0.1\n",
      "✅ Best validation Accuracy: 8.2245e-01 at 48 epoch\n",
      "avg_acc 0.7939560413360596\n",
      "Testing 6 hidden neurons, lamb=1e-07, grid=7\n",
      "checkpoint directory created: ./model\n",
      "saving model version 0.0\n",
      "checkpoint directory created: ./model\n",
      "saving model version 0.0\n",
      "Successfully created and tested Model4\n"
     ]
    },
    {
     "name": "stderr",
     "output_type": "stream",
     "text": [
      " train_acc_hybrid: 9.95e-01 | val_acc_hybrid: 7.85e-01 |: 100%|███| 120/120 [05:29<00:00,  2.74s/it]\n"
     ]
    },
    {
     "name": "stdout",
     "output_type": "stream",
     "text": [
      "saving model version 0.1\n",
      "✅ Best validation Accuracy: 7.9381e-01 at 45 epoch\n",
      "avg_acc 0.7847985625267029\n",
      "Testing 6 hidden neurons, lamb=0.01, grid=8\n",
      "checkpoint directory created: ./model\n",
      "saving model version 0.0\n",
      "checkpoint directory created: ./model\n",
      "saving model version 0.0\n",
      "Successfully created and tested Model4\n"
     ]
    },
    {
     "name": "stderr",
     "output_type": "stream",
     "text": [
      " train_acc_hybrid: 9.90e-01 | val_acc_hybrid: 8.80e-01 |: 100%|███| 120/120 [06:21<00:00,  3.18s/it]\n"
     ]
    },
    {
     "name": "stdout",
     "output_type": "stream",
     "text": [
      "saving model version 0.1\n",
      "✅ Best validation Accuracy: 8.8431e-01 at 59 epoch\n",
      "avg_acc 0.889194130897522\n",
      "Testing 6 hidden neurons, lamb=0.001, grid=8\n",
      "checkpoint directory created: ./model\n",
      "saving model version 0.0\n",
      "checkpoint directory created: ./model\n",
      "saving model version 0.0\n",
      "Successfully created and tested Model4\n"
     ]
    },
    {
     "name": "stderr",
     "output_type": "stream",
     "text": [
      " train_acc_hybrid: 9.98e-01 | val_acc_hybrid: 8.66e-01 |: 100%|███| 120/120 [06:04<00:00,  3.03s/it]\n"
     ]
    },
    {
     "name": "stdout",
     "output_type": "stream",
     "text": [
      "saving model version 0.1\n",
      "✅ Best validation Accuracy: 8.7056e-01 at 58 epoch\n",
      "avg_acc 0.8589743375778198\n",
      "Testing 6 hidden neurons, lamb=0.0001, grid=8\n",
      "checkpoint directory created: ./model\n",
      "saving model version 0.0\n",
      "checkpoint directory created: ./model\n",
      "saving model version 0.0\n",
      "Successfully created and tested Model4\n"
     ]
    },
    {
     "name": "stderr",
     "output_type": "stream",
     "text": [
      " train_acc_hybrid: 9.97e-01 | val_acc_hybrid: 8.13e-01 |: 100%|███| 120/120 [06:30<00:00,  3.25s/it]\n"
     ]
    },
    {
     "name": "stdout",
     "output_type": "stream",
     "text": [
      "saving model version 0.1\n",
      "✅ Best validation Accuracy: 8.1329e-01 at 97 epoch\n",
      "avg_acc 0.8095238208770752\n",
      "Testing 6 hidden neurons, lamb=1e-05, grid=8\n",
      "checkpoint directory created: ./model\n",
      "saving model version 0.0\n",
      "checkpoint directory created: ./model\n",
      "saving model version 0.0\n",
      "Successfully created and tested Model4\n"
     ]
    },
    {
     "name": "stderr",
     "output_type": "stream",
     "text": [
      " train_acc_hybrid: 9.95e-01 | val_acc_hybrid: 8.01e-01 |: 100%|███| 120/120 [06:32<00:00,  3.27s/it]\n"
     ]
    },
    {
     "name": "stdout",
     "output_type": "stream",
     "text": [
      "saving model version 0.1\n",
      "✅ Best validation Accuracy: 8.0069e-01 at 99 epoch\n",
      "avg_acc 0.779304027557373\n",
      "Testing 6 hidden neurons, lamb=1e-06, grid=8\n",
      "checkpoint directory created: ./model\n",
      "saving model version 0.0\n",
      "checkpoint directory created: ./model\n",
      "saving model version 0.0\n",
      "Successfully created and tested Model4\n"
     ]
    },
    {
     "name": "stderr",
     "output_type": "stream",
     "text": [
      " train_acc_hybrid: 9.94e-01 | val_acc_hybrid: 8.16e-01 |: 100%|███| 120/120 [05:41<00:00,  2.84s/it]\n"
     ]
    },
    {
     "name": "stdout",
     "output_type": "stream",
     "text": [
      "saving model version 0.1\n",
      "✅ Best validation Accuracy: 8.2016e-01 at 75 epoch\n",
      "avg_acc 0.7967032790184021\n",
      "Testing 6 hidden neurons, lamb=1e-07, grid=8\n",
      "checkpoint directory created: ./model\n",
      "saving model version 0.0\n",
      "checkpoint directory created: ./model\n",
      "saving model version 0.0\n",
      "Successfully created and tested Model4\n"
     ]
    },
    {
     "name": "stderr",
     "output_type": "stream",
     "text": [
      " train_acc_hybrid: 9.97e-01 | val_acc_hybrid: 7.96e-01 |: 100%|███| 120/120 [06:34<00:00,  3.29s/it]\n"
     ]
    },
    {
     "name": "stdout",
     "output_type": "stream",
     "text": [
      "saving model version 0.1\n",
      "✅ Best validation Accuracy: 7.9725e-01 at 77 epoch\n",
      "avg_acc 0.7811355590820312\n",
      "Testing 7 hidden neurons, lamb=0.01, grid=3\n",
      "checkpoint directory created: ./model\n",
      "saving model version 0.0\n",
      "checkpoint directory created: ./model\n",
      "saving model version 0.0\n",
      "Successfully created and tested Model4\n"
     ]
    },
    {
     "name": "stderr",
     "output_type": "stream",
     "text": [
      " train_acc_hybrid: 9.96e-01 | val_acc_hybrid: 8.83e-01 |: 100%|███| 120/120 [03:14<00:00,  1.62s/it]\n"
     ]
    },
    {
     "name": "stdout",
     "output_type": "stream",
     "text": [
      "saving model version 0.1\n",
      "✅ Best validation Accuracy: 8.8316e-01 at 36 epoch\n",
      "avg_acc 0.8736263513565063\n",
      "Testing 7 hidden neurons, lamb=0.001, grid=3\n",
      "checkpoint directory created: ./model\n",
      "saving model version 0.0\n",
      "checkpoint directory created: ./model\n",
      "saving model version 0.0\n",
      "Successfully created and tested Model4\n"
     ]
    },
    {
     "name": "stderr",
     "output_type": "stream",
     "text": [
      " train_acc_hybrid: 9.98e-01 | val_acc_hybrid: 8.33e-01 |: 100%|███| 120/120 [04:18<00:00,  2.16s/it]\n"
     ]
    },
    {
     "name": "stdout",
     "output_type": "stream",
     "text": [
      "saving model version 0.1\n",
      "✅ Best validation Accuracy: 8.4192e-01 at 48 epoch\n",
      "avg_acc 0.8397436141967773\n",
      "Testing 7 hidden neurons, lamb=0.0001, grid=3\n",
      "checkpoint directory created: ./model\n",
      "saving model version 0.0\n",
      "checkpoint directory created: ./model\n",
      "saving model version 0.0\n",
      "Successfully created and tested Model4\n"
     ]
    },
    {
     "name": "stderr",
     "output_type": "stream",
     "text": [
      " train_acc_hybrid: 9.94e-01 | val_acc_hybrid: 7.62e-01 |: 100%|███| 120/120 [03:50<00:00,  1.92s/it]\n"
     ]
    },
    {
     "name": "stdout",
     "output_type": "stream",
     "text": [
      "saving model version 0.1\n",
      "✅ Best validation Accuracy: 7.7778e-01 at 44 epoch\n",
      "avg_acc 0.7646520137786865\n",
      "Testing 7 hidden neurons, lamb=1e-05, grid=3\n",
      "checkpoint directory created: ./model\n",
      "saving model version 0.0\n",
      "checkpoint directory created: ./model\n",
      "saving model version 0.0\n",
      "Successfully created and tested Model4\n"
     ]
    },
    {
     "name": "stderr",
     "output_type": "stream",
     "text": [
      " train_acc_hybrid: 9.96e-01 | val_acc_hybrid: 7.88e-01 |: 100%|███| 120/120 [03:56<00:00,  1.97s/it]\n"
     ]
    },
    {
     "name": "stdout",
     "output_type": "stream",
     "text": [
      "saving model version 0.1\n",
      "✅ Best validation Accuracy: 7.8809e-01 at 115 epoch\n",
      "avg_acc 0.7728937864303589\n",
      "Testing 7 hidden neurons, lamb=1e-06, grid=3\n",
      "checkpoint directory created: ./model\n",
      "saving model version 0.0\n",
      "checkpoint directory created: ./model\n",
      "saving model version 0.0\n",
      "Successfully created and tested Model4\n"
     ]
    },
    {
     "name": "stderr",
     "output_type": "stream",
     "text": [
      " train_acc_hybrid: 9.94e-01 | val_acc_hybrid: 7.81e-01 |: 100%|███| 120/120 [03:34<00:00,  1.79s/it]\n"
     ]
    },
    {
     "name": "stdout",
     "output_type": "stream",
     "text": [
      "saving model version 0.1\n",
      "✅ Best validation Accuracy: 7.8694e-01 at 54 epoch\n",
      "avg_acc 0.7335165143013\n",
      "Testing 7 hidden neurons, lamb=1e-07, grid=3\n",
      "checkpoint directory created: ./model\n",
      "saving model version 0.0\n",
      "checkpoint directory created: ./model\n",
      "saving model version 0.0\n",
      "Successfully created and tested Model4\n"
     ]
    },
    {
     "name": "stderr",
     "output_type": "stream",
     "text": [
      " train_acc_hybrid: 9.97e-01 | val_acc_hybrid: 7.82e-01 |: 100%|███| 120/120 [04:07<00:00,  2.07s/it]\n"
     ]
    },
    {
     "name": "stdout",
     "output_type": "stream",
     "text": [
      "saving model version 0.1\n",
      "✅ Best validation Accuracy: 7.8809e-01 at 35 epoch\n",
      "avg_acc 0.7802197933197021\n",
      "Testing 7 hidden neurons, lamb=0.01, grid=4\n",
      "checkpoint directory created: ./model\n",
      "saving model version 0.0\n",
      "checkpoint directory created: ./model\n",
      "saving model version 0.0\n",
      "Successfully created and tested Model4\n"
     ]
    },
    {
     "name": "stderr",
     "output_type": "stream",
     "text": [
      " train_acc_hybrid: 9.89e-01 | val_acc_hybrid: 8.85e-01 |: 100%|███| 120/120 [04:09<00:00,  2.08s/it]\n"
     ]
    },
    {
     "name": "stdout",
     "output_type": "stream",
     "text": [
      "saving model version 0.1\n",
      "✅ Best validation Accuracy: 8.8774e-01 at 45 epoch\n",
      "avg_acc 0.8553113341331482\n",
      "Testing 7 hidden neurons, lamb=0.001, grid=4\n",
      "checkpoint directory created: ./model\n",
      "saving model version 0.0\n",
      "checkpoint directory created: ./model\n",
      "saving model version 0.0\n",
      "Successfully created and tested Model4\n"
     ]
    },
    {
     "name": "stderr",
     "output_type": "stream",
     "text": [
      " train_acc_hybrid: 9.97e-01 | val_acc_hybrid: 8.19e-01 |: 100%|███| 120/120 [05:01<00:00,  2.52s/it]\n"
     ]
    },
    {
     "name": "stdout",
     "output_type": "stream",
     "text": [
      "saving model version 0.1\n",
      "✅ Best validation Accuracy: 8.3276e-01 at 60 epoch\n",
      "avg_acc 0.8260073065757751\n",
      "Testing 7 hidden neurons, lamb=0.0001, grid=4\n",
      "checkpoint directory created: ./model\n",
      "saving model version 0.0\n",
      "checkpoint directory created: ./model\n",
      "saving model version 0.0\n",
      "Successfully created and tested Model4\n"
     ]
    },
    {
     "name": "stderr",
     "output_type": "stream",
     "text": [
      " train_acc_hybrid: 9.96e-01 | val_acc_hybrid: 8.08e-01 |: 100%|███| 120/120 [04:45<00:00,  2.38s/it]\n"
     ]
    },
    {
     "name": "stdout",
     "output_type": "stream",
     "text": [
      "saving model version 0.1\n",
      "✅ Best validation Accuracy: 8.1100e-01 at 61 epoch\n",
      "avg_acc 0.791208803653717\n",
      "Testing 7 hidden neurons, lamb=1e-05, grid=4\n",
      "checkpoint directory created: ./model\n",
      "saving model version 0.0\n",
      "checkpoint directory created: ./model\n",
      "saving model version 0.0\n",
      "Successfully created and tested Model4\n"
     ]
    },
    {
     "name": "stderr",
     "output_type": "stream",
     "text": [
      " train_acc_hybrid: 9.94e-01 | val_acc_hybrid: 7.75e-01 |: 100%|███| 120/120 [04:38<00:00,  2.32s/it]\n"
     ]
    },
    {
     "name": "stdout",
     "output_type": "stream",
     "text": [
      "saving model version 0.1\n",
      "✅ Best validation Accuracy: 7.7663e-01 at 105 epoch\n",
      "avg_acc 0.7884615659713745\n",
      "Testing 7 hidden neurons, lamb=1e-06, grid=4\n",
      "checkpoint directory created: ./model\n",
      "saving model version 0.0\n",
      "checkpoint directory created: ./model\n",
      "saving model version 0.0\n",
      "Successfully created and tested Model4\n"
     ]
    },
    {
     "name": "stderr",
     "output_type": "stream",
     "text": [
      " train_acc_hybrid: 9.95e-01 | val_acc_hybrid: 7.75e-01 |: 100%|███| 120/120 [04:44<00:00,  2.37s/it]\n"
     ]
    },
    {
     "name": "stdout",
     "output_type": "stream",
     "text": [
      "saving model version 0.1\n",
      "✅ Best validation Accuracy: 7.8236e-01 at 64 epoch\n",
      "avg_acc 0.7582417726516724\n",
      "Testing 7 hidden neurons, lamb=1e-07, grid=4\n",
      "checkpoint directory created: ./model\n",
      "saving model version 0.0\n",
      "checkpoint directory created: ./model\n",
      "saving model version 0.0\n",
      "Successfully created and tested Model4\n"
     ]
    },
    {
     "name": "stderr",
     "output_type": "stream",
     "text": [
      " train_acc_hybrid: 9.94e-01 | val_acc_hybrid: 7.74e-01 |: 100%|███| 120/120 [04:46<00:00,  2.39s/it]\n"
     ]
    },
    {
     "name": "stdout",
     "output_type": "stream",
     "text": [
      "saving model version 0.1\n",
      "✅ Best validation Accuracy: 7.7778e-01 at 22 epoch\n",
      "avg_acc 0.7637362480163574\n",
      "Testing 7 hidden neurons, lamb=0.01, grid=5\n",
      "checkpoint directory created: ./model\n",
      "saving model version 0.0\n",
      "checkpoint directory created: ./model\n",
      "saving model version 0.0\n",
      "Successfully created and tested Model4\n"
     ]
    },
    {
     "name": "stderr",
     "output_type": "stream",
     "text": [
      " train_acc_hybrid: 9.88e-01 | val_acc_hybrid: 8.81e-01 |: 100%|███| 120/120 [05:01<00:00,  2.51s/it]\n"
     ]
    },
    {
     "name": "stdout",
     "output_type": "stream",
     "text": [
      "saving model version 0.1\n",
      "✅ Best validation Accuracy: 8.8431e-01 at 53 epoch\n",
      "avg_acc 0.8553113341331482\n",
      "Testing 7 hidden neurons, lamb=0.001, grid=5\n",
      "checkpoint directory created: ./model\n",
      "saving model version 0.0\n",
      "checkpoint directory created: ./model\n",
      "saving model version 0.0\n",
      "Successfully created and tested Model4\n"
     ]
    },
    {
     "name": "stderr",
     "output_type": "stream",
     "text": [
      " train_acc_hybrid: 9.97e-01 | val_acc_hybrid: 8.32e-01 |: 100%|███| 120/120 [05:18<00:00,  2.65s/it]\n"
     ]
    },
    {
     "name": "stdout",
     "output_type": "stream",
     "text": [
      "saving model version 0.1\n",
      "✅ Best validation Accuracy: 8.3849e-01 at 69 epoch\n",
      "avg_acc 0.8269230723381042\n",
      "Testing 7 hidden neurons, lamb=0.0001, grid=5\n",
      "checkpoint directory created: ./model\n",
      "saving model version 0.0\n",
      "checkpoint directory created: ./model\n",
      "saving model version 0.0\n",
      "Successfully created and tested Model4\n"
     ]
    },
    {
     "name": "stderr",
     "output_type": "stream",
     "text": [
      " train_acc_hybrid: 9.96e-01 | val_acc_hybrid: 8.03e-01 |: 100%|███| 120/120 [05:03<00:00,  2.53s/it]\n"
     ]
    },
    {
     "name": "stdout",
     "output_type": "stream",
     "text": [
      "saving model version 0.1\n",
      "✅ Best validation Accuracy: 8.0298e-01 at 82 epoch\n",
      "avg_acc 0.7939560413360596\n",
      "Testing 7 hidden neurons, lamb=1e-05, grid=5\n",
      "checkpoint directory created: ./model\n",
      "saving model version 0.0\n",
      "checkpoint directory created: ./model\n",
      "saving model version 0.0\n",
      "Successfully created and tested Model4\n"
     ]
    },
    {
     "name": "stderr",
     "output_type": "stream",
     "text": [
      " train_acc_hybrid: 9.95e-01 | val_acc_hybrid: 7.73e-01 |: 100%|███| 120/120 [04:45<00:00,  2.38s/it]\n"
     ]
    },
    {
     "name": "stdout",
     "output_type": "stream",
     "text": [
      "saving model version 0.1\n",
      "✅ Best validation Accuracy: 7.8351e-01 at 59 epoch\n",
      "avg_acc 0.7710622549057007\n",
      "Testing 7 hidden neurons, lamb=1e-06, grid=5\n",
      "checkpoint directory created: ./model\n",
      "saving model version 0.0\n",
      "checkpoint directory created: ./model\n",
      "saving model version 0.0\n",
      "Successfully created and tested Model4\n"
     ]
    },
    {
     "name": "stderr",
     "output_type": "stream",
     "text": [
      " train_acc_hybrid: 9.96e-01 | val_acc_hybrid: 7.84e-01 |: 100%|███| 120/120 [04:29<00:00,  2.25s/it]\n"
     ]
    },
    {
     "name": "stdout",
     "output_type": "stream",
     "text": [
      "saving model version 0.1\n",
      "✅ Best validation Accuracy: 7.8465e-01 at 49 epoch\n",
      "avg_acc 0.7921245694160461\n",
      "Testing 7 hidden neurons, lamb=1e-07, grid=5\n",
      "checkpoint directory created: ./model\n",
      "saving model version 0.0\n",
      "checkpoint directory created: ./model\n",
      "saving model version 0.0\n",
      "Successfully created and tested Model4\n"
     ]
    },
    {
     "name": "stderr",
     "output_type": "stream",
     "text": [
      " train_acc_hybrid: 9.95e-01 | val_acc_hybrid: 7.89e-01 |: 100%|███| 120/120 [04:33<00:00,  2.28s/it]\n"
     ]
    },
    {
     "name": "stdout",
     "output_type": "stream",
     "text": [
      "saving model version 0.1\n",
      "✅ Best validation Accuracy: 7.9725e-01 at 53 epoch\n",
      "avg_acc 0.7921245694160461\n",
      "Testing 7 hidden neurons, lamb=0.01, grid=6\n",
      "checkpoint directory created: ./model\n",
      "saving model version 0.0\n",
      "checkpoint directory created: ./model\n",
      "saving model version 0.0\n",
      "Successfully created and tested Model4\n"
     ]
    },
    {
     "name": "stderr",
     "output_type": "stream",
     "text": [
      " train_acc_hybrid: 9.92e-01 | val_acc_hybrid: 8.79e-01 |: 100%|███| 120/120 [05:21<00:00,  2.68s/it]\n"
     ]
    },
    {
     "name": "stdout",
     "output_type": "stream",
     "text": [
      "saving model version 0.1\n",
      "✅ Best validation Accuracy: 8.7973e-01 at 93 epoch\n",
      "avg_acc 0.8745421171188354\n",
      "Testing 7 hidden neurons, lamb=0.001, grid=6\n",
      "checkpoint directory created: ./model\n",
      "saving model version 0.0\n",
      "checkpoint directory created: ./model\n",
      "saving model version 0.0\n",
      "Successfully created and tested Model4\n"
     ]
    },
    {
     "name": "stderr",
     "output_type": "stream",
     "text": [
      " train_acc_hybrid: 9.99e-01 | val_acc_hybrid: 8.66e-01 |: 100%|███| 120/120 [06:22<00:00,  3.19s/it]\n"
     ]
    },
    {
     "name": "stdout",
     "output_type": "stream",
     "text": [
      "saving model version 0.1\n",
      "✅ Best validation Accuracy: 8.7285e-01 at 73 epoch\n",
      "avg_acc 0.8717948794364929\n",
      "Testing 7 hidden neurons, lamb=0.0001, grid=6\n",
      "checkpoint directory created: ./model\n",
      "saving model version 0.0\n",
      "checkpoint directory created: ./model\n",
      "saving model version 0.0\n",
      "Successfully created and tested Model4\n"
     ]
    },
    {
     "name": "stderr",
     "output_type": "stream",
     "text": [
      " train_acc_hybrid: 9.97e-01 | val_acc_hybrid: 8.04e-01 |: 100%|███| 120/120 [05:56<00:00,  2.97s/it]\n"
     ]
    },
    {
     "name": "stdout",
     "output_type": "stream",
     "text": [
      "saving model version 0.1\n",
      "✅ Best validation Accuracy: 8.0641e-01 at 108 epoch\n",
      "avg_acc 0.8095238208770752\n",
      "Testing 7 hidden neurons, lamb=1e-05, grid=6\n",
      "checkpoint directory created: ./model\n",
      "saving model version 0.0\n",
      "checkpoint directory created: ./model\n",
      "saving model version 0.0\n",
      "Successfully created and tested Model4\n"
     ]
    },
    {
     "name": "stderr",
     "output_type": "stream",
     "text": [
      " train_acc_hybrid: 9.98e-01 | val_acc_hybrid: 8.00e-01 |: 100%|███| 120/120 [05:46<00:00,  2.88s/it]\n"
     ]
    },
    {
     "name": "stdout",
     "output_type": "stream",
     "text": [
      "saving model version 0.1\n",
      "✅ Best validation Accuracy: 8.0985e-01 at 72 epoch\n",
      "avg_acc 0.7957875728607178\n",
      "Testing 7 hidden neurons, lamb=1e-06, grid=6\n",
      "checkpoint directory created: ./model\n",
      "saving model version 0.0\n",
      "checkpoint directory created: ./model\n",
      "saving model version 0.0\n",
      "Successfully created and tested Model4\n"
     ]
    },
    {
     "name": "stderr",
     "output_type": "stream",
     "text": [
      " train_acc_hybrid: 9.97e-01 | val_acc_hybrid: 7.98e-01 |: 100%|███| 120/120 [05:24<00:00,  2.71s/it]\n"
     ]
    },
    {
     "name": "stdout",
     "output_type": "stream",
     "text": [
      "saving model version 0.1\n",
      "✅ Best validation Accuracy: 8.0756e-01 at 42 epoch\n",
      "avg_acc 0.7957875728607178\n",
      "Testing 7 hidden neurons, lamb=1e-07, grid=6\n",
      "checkpoint directory created: ./model\n",
      "saving model version 0.0\n",
      "checkpoint directory created: ./model\n",
      "saving model version 0.0\n",
      "Successfully created and tested Model4\n"
     ]
    },
    {
     "name": "stderr",
     "output_type": "stream",
     "text": [
      " train_acc_hybrid: 9.96e-01 | val_acc_hybrid: 7.86e-01 |: 100%|███| 120/120 [05:26<00:00,  2.72s/it]\n"
     ]
    },
    {
     "name": "stdout",
     "output_type": "stream",
     "text": [
      "saving model version 0.1\n",
      "✅ Best validation Accuracy: 8.0069e-01 at 49 epoch\n",
      "avg_acc 0.7820512652397156\n",
      "Testing 7 hidden neurons, lamb=0.01, grid=7\n",
      "checkpoint directory created: ./model\n",
      "saving model version 0.0\n",
      "checkpoint directory created: ./model\n",
      "saving model version 0.0\n",
      "Successfully created and tested Model4\n"
     ]
    },
    {
     "name": "stderr",
     "output_type": "stream",
     "text": [
      " train_acc_hybrid: 9.96e-01 | val_acc_hybrid: 8.81e-01 |: 100%|███| 120/120 [06:31<00:00,  3.26s/it]\n"
     ]
    },
    {
     "name": "stdout",
     "output_type": "stream",
     "text": [
      "saving model version 0.1\n",
      "✅ Best validation Accuracy: 8.9003e-01 at 29 epoch\n",
      "avg_acc 0.8617216348648071\n",
      "Testing 7 hidden neurons, lamb=0.001, grid=7\n",
      "checkpoint directory created: ./model\n",
      "saving model version 0.0\n",
      "checkpoint directory created: ./model\n",
      "saving model version 0.0\n",
      "Successfully created and tested Model4\n"
     ]
    },
    {
     "name": "stderr",
     "output_type": "stream",
     "text": [
      " train_acc_hybrid: 9.99e-01 | val_acc_hybrid: 9.12e-01 |: 100%|███| 120/120 [06:19<00:00,  3.16s/it]\n"
     ]
    },
    {
     "name": "stdout",
     "output_type": "stream",
     "text": [
      "saving model version 0.1\n",
      "✅ Best validation Accuracy: 9.1523e-01 at 73 epoch\n",
      "avg_acc 0.8818681240081787\n",
      "Testing 7 hidden neurons, lamb=0.0001, grid=7\n",
      "checkpoint directory created: ./model\n",
      "saving model version 0.0\n",
      "checkpoint directory created: ./model\n",
      "saving model version 0.0\n",
      "Successfully created and tested Model4\n"
     ]
    },
    {
     "name": "stderr",
     "output_type": "stream",
     "text": [
      " train_acc_hybrid: 9.98e-01 | val_acc_hybrid: 8.45e-01 |: 100%|███| 120/120 [05:45<00:00,  2.88s/it]\n"
     ]
    },
    {
     "name": "stdout",
     "output_type": "stream",
     "text": [
      "saving model version 0.1\n",
      "✅ Best validation Accuracy: 8.5223e-01 at 75 epoch\n",
      "avg_acc 0.8388278484344482\n",
      "Testing 7 hidden neurons, lamb=1e-05, grid=7\n",
      "checkpoint directory created: ./model\n",
      "saving model version 0.0\n",
      "checkpoint directory created: ./model\n",
      "saving model version 0.0\n",
      "Successfully created and tested Model4\n"
     ]
    },
    {
     "name": "stderr",
     "output_type": "stream",
     "text": [
      " train_acc_hybrid: 9.96e-01 | val_acc_hybrid: 8.19e-01 |: 100%|███| 120/120 [05:23<00:00,  2.69s/it]\n"
     ]
    },
    {
     "name": "stdout",
     "output_type": "stream",
     "text": [
      "saving model version 0.1\n",
      "✅ Best validation Accuracy: 8.2474e-01 at 40 epoch\n",
      "avg_acc 0.8095238208770752\n",
      "Testing 7 hidden neurons, lamb=1e-06, grid=7\n",
      "checkpoint directory created: ./model\n",
      "saving model version 0.0\n",
      "checkpoint directory created: ./model\n",
      "saving model version 0.0\n",
      "Successfully created and tested Model4\n"
     ]
    },
    {
     "name": "stderr",
     "output_type": "stream",
     "text": [
      " train_acc_hybrid: 9.97e-01 | val_acc_hybrid: 7.82e-01 |: 100%|███| 120/120 [06:00<00:00,  3.00s/it]\n"
     ]
    },
    {
     "name": "stdout",
     "output_type": "stream",
     "text": [
      "saving model version 0.1\n",
      "✅ Best validation Accuracy: 7.9267e-01 at 24 epoch\n",
      "avg_acc 0.7710622549057007\n",
      "Testing 7 hidden neurons, lamb=1e-07, grid=7\n",
      "checkpoint directory created: ./model\n",
      "saving model version 0.0\n",
      "checkpoint directory created: ./model\n",
      "saving model version 0.0\n",
      "Successfully created and tested Model4\n"
     ]
    },
    {
     "name": "stderr",
     "output_type": "stream",
     "text": [
      " train_acc_hybrid: 9.97e-01 | val_acc_hybrid: 7.71e-01 |: 100%|███| 120/120 [05:35<00:00,  2.79s/it]\n"
     ]
    },
    {
     "name": "stdout",
     "output_type": "stream",
     "text": [
      "saving model version 0.1\n",
      "✅ Best validation Accuracy: 7.8007e-01 at 37 epoch\n",
      "avg_acc 0.7765567898750305\n",
      "Testing 7 hidden neurons, lamb=0.01, grid=8\n",
      "checkpoint directory created: ./model\n",
      "saving model version 0.0\n",
      "checkpoint directory created: ./model\n",
      "saving model version 0.0\n",
      "Successfully created and tested Model4\n"
     ]
    },
    {
     "name": "stderr",
     "output_type": "stream",
     "text": [
      " train_acc_hybrid: 9.92e-01 | val_acc_hybrid: 8.80e-01 |: 100%|███| 120/120 [06:46<00:00,  3.39s/it]\n"
     ]
    },
    {
     "name": "stdout",
     "output_type": "stream",
     "text": [
      "saving model version 0.1\n",
      "✅ Best validation Accuracy: 8.8660e-01 at 29 epoch\n",
      "avg_acc 0.8699633479118347\n",
      "Testing 7 hidden neurons, lamb=0.001, grid=8\n",
      "checkpoint directory created: ./model\n",
      "saving model version 0.0\n",
      "checkpoint directory created: ./model\n",
      "saving model version 0.0\n",
      "Successfully created and tested Model4\n"
     ]
    },
    {
     "name": "stderr",
     "output_type": "stream",
     "text": [
      " train_acc_hybrid: 9.97e-01 | val_acc_hybrid: 8.21e-01 |: 100%|███| 120/120 [06:38<00:00,  3.32s/it]\n"
     ]
    },
    {
     "name": "stdout",
     "output_type": "stream",
     "text": [
      "saving model version 0.1\n",
      "✅ Best validation Accuracy: 8.2818e-01 at 59 epoch\n",
      "avg_acc 0.8360806107521057\n",
      "Testing 7 hidden neurons, lamb=0.0001, grid=8\n",
      "checkpoint directory created: ./model\n",
      "saving model version 0.0\n",
      "checkpoint directory created: ./model\n",
      "saving model version 0.0\n",
      "Successfully created and tested Model4\n"
     ]
    },
    {
     "name": "stderr",
     "output_type": "stream",
     "text": [
      " train_acc_hybrid: 9.96e-01 | val_acc_hybrid: 7.95e-01 |: 100%|███| 120/120 [06:39<00:00,  3.33s/it]\n"
     ]
    },
    {
     "name": "stdout",
     "output_type": "stream",
     "text": [
      "saving model version 0.1\n",
      "✅ Best validation Accuracy: 8.0641e-01 at 62 epoch\n",
      "avg_acc 0.8021978139877319\n",
      "Testing 7 hidden neurons, lamb=1e-05, grid=8\n",
      "checkpoint directory created: ./model\n",
      "saving model version 0.0\n",
      "checkpoint directory created: ./model\n",
      "saving model version 0.0\n",
      "Successfully created and tested Model4\n"
     ]
    },
    {
     "name": "stderr",
     "output_type": "stream",
     "text": [
      " train_acc_hybrid: 9.93e-01 | val_acc_hybrid: 7.82e-01 |: 100%|███| 120/120 [06:03<00:00,  3.03s/it]\n"
     ]
    },
    {
     "name": "stdout",
     "output_type": "stream",
     "text": [
      "saving model version 0.1\n",
      "✅ Best validation Accuracy: 7.9611e-01 at 65 epoch\n",
      "avg_acc 0.761904776096344\n",
      "Testing 7 hidden neurons, lamb=1e-06, grid=8\n",
      "checkpoint directory created: ./model\n",
      "saving model version 0.0\n",
      "checkpoint directory created: ./model\n",
      "saving model version 0.0\n",
      "Successfully created and tested Model4\n"
     ]
    },
    {
     "name": "stderr",
     "output_type": "stream",
     "text": [
      " train_acc_hybrid: 9.96e-01 | val_acc_hybrid: 8.06e-01 |: 100%|███| 120/120 [06:22<00:00,  3.19s/it]\n"
     ]
    },
    {
     "name": "stdout",
     "output_type": "stream",
     "text": [
      "saving model version 0.1\n",
      "✅ Best validation Accuracy: 8.0985e-01 at 79 epoch\n",
      "avg_acc 0.8177655935287476\n",
      "Testing 7 hidden neurons, lamb=1e-07, grid=8\n",
      "checkpoint directory created: ./model\n",
      "saving model version 0.0\n",
      "checkpoint directory created: ./model\n",
      "saving model version 0.0\n",
      "Successfully created and tested Model4\n"
     ]
    },
    {
     "name": "stderr",
     "output_type": "stream",
     "text": [
      " train_acc_hybrid: 9.95e-01 | val_acc_hybrid: 7.71e-01 |: 100%|███| 120/120 [06:13<00:00,  3.11s/it]\n"
     ]
    },
    {
     "name": "stdout",
     "output_type": "stream",
     "text": [
      "saving model version 0.1\n",
      "✅ Best validation Accuracy: 7.7090e-01 at 82 epoch\n",
      "avg_acc 0.7820512652397156\n",
      "Testing 8 hidden neurons, lamb=0.01, grid=3\n",
      "checkpoint directory created: ./model\n",
      "saving model version 0.0\n",
      "checkpoint directory created: ./model\n",
      "saving model version 0.0\n",
      "Successfully created and tested Model4\n"
     ]
    },
    {
     "name": "stderr",
     "output_type": "stream",
     "text": [
      " train_acc_hybrid: 9.96e-01 | val_acc_hybrid: 8.85e-01 |: 100%|███| 120/120 [04:21<00:00,  2.18s/it]\n"
     ]
    },
    {
     "name": "stdout",
     "output_type": "stream",
     "text": [
      "saving model version 0.1\n",
      "✅ Best validation Accuracy: 8.8660e-01 at 76 epoch\n",
      "avg_acc 0.8736263513565063\n",
      "Testing 8 hidden neurons, lamb=0.001, grid=3\n",
      "checkpoint directory created: ./model\n",
      "saving model version 0.0\n",
      "checkpoint directory created: ./model\n",
      "saving model version 0.0\n",
      "Successfully created and tested Model4\n"
     ]
    },
    {
     "name": "stderr",
     "output_type": "stream",
     "text": [
      " train_acc_hybrid: 9.97e-01 | val_acc_hybrid: 8.38e-01 |: 100%|███| 120/120 [04:39<00:00,  2.33s/it]\n"
     ]
    },
    {
     "name": "stdout",
     "output_type": "stream",
     "text": [
      "saving model version 0.1\n",
      "✅ Best validation Accuracy: 8.3849e-01 at 112 epoch\n",
      "avg_acc 0.8379120826721191\n",
      "Testing 8 hidden neurons, lamb=0.0001, grid=3\n",
      "checkpoint directory created: ./model\n",
      "saving model version 0.0\n",
      "checkpoint directory created: ./model\n",
      "saving model version 0.0\n",
      "Successfully created and tested Model4\n"
     ]
    },
    {
     "name": "stderr",
     "output_type": "stream",
     "text": [
      " train_acc_hybrid: 9.93e-01 | val_acc_hybrid: 7.75e-01 |: 100%|███| 120/120 [04:07<00:00,  2.07s/it]\n"
     ]
    },
    {
     "name": "stdout",
     "output_type": "stream",
     "text": [
      "saving model version 0.1\n",
      "✅ Best validation Accuracy: 7.8809e-01 at 34 epoch\n",
      "avg_acc 0.7774725556373596\n",
      "Testing 8 hidden neurons, lamb=1e-05, grid=3\n",
      "checkpoint directory created: ./model\n",
      "saving model version 0.0\n",
      "checkpoint directory created: ./model\n",
      "saving model version 0.0\n",
      "Successfully created and tested Model4\n"
     ]
    },
    {
     "name": "stderr",
     "output_type": "stream",
     "text": [
      " train_acc_hybrid: 9.94e-01 | val_acc_hybrid: 7.86e-01 |: 100%|███| 120/120 [04:27<00:00,  2.23s/it]\n"
     ]
    },
    {
     "name": "stdout",
     "output_type": "stream",
     "text": [
      "saving model version 0.1\n",
      "✅ Best validation Accuracy: 7.9381e-01 at 40 epoch\n",
      "avg_acc 0.773809552192688\n",
      "Testing 8 hidden neurons, lamb=1e-06, grid=3\n",
      "checkpoint directory created: ./model\n",
      "saving model version 0.0\n",
      "checkpoint directory created: ./model\n",
      "saving model version 0.0\n",
      "Successfully created and tested Model4\n"
     ]
    },
    {
     "name": "stderr",
     "output_type": "stream",
     "text": [
      " train_acc_hybrid: 9.94e-01 | val_acc_hybrid: 7.81e-01 |: 100%|███| 120/120 [04:26<00:00,  2.22s/it]\n"
     ]
    },
    {
     "name": "stdout",
     "output_type": "stream",
     "text": [
      "saving model version 0.1\n",
      "✅ Best validation Accuracy: 7.8236e-01 at 31 epoch\n",
      "avg_acc 0.7774725556373596\n",
      "Testing 8 hidden neurons, lamb=1e-07, grid=3\n",
      "checkpoint directory created: ./model\n",
      "saving model version 0.0\n",
      "checkpoint directory created: ./model\n",
      "saving model version 0.0\n",
      "Successfully created and tested Model4\n"
     ]
    },
    {
     "name": "stderr",
     "output_type": "stream",
     "text": [
      " train_acc_hybrid: 9.95e-01 | val_acc_hybrid: 7.80e-01 |: 100%|███| 120/120 [04:32<00:00,  2.27s/it]\n"
     ]
    },
    {
     "name": "stdout",
     "output_type": "stream",
     "text": [
      "saving model version 0.1\n",
      "✅ Best validation Accuracy: 7.8923e-01 at 83 epoch\n",
      "avg_acc 0.761904776096344\n",
      "Testing 8 hidden neurons, lamb=0.01, grid=4\n",
      "checkpoint directory created: ./model\n",
      "saving model version 0.0\n",
      "checkpoint directory created: ./model\n",
      "saving model version 0.0\n",
      "Successfully created and tested Model4\n"
     ]
    },
    {
     "name": "stderr",
     "output_type": "stream",
     "text": [
      " train_acc_hybrid: 9.95e-01 | val_acc_hybrid: 8.61e-01 |: 100%|███| 120/120 [04:31<00:00,  2.26s/it]\n"
     ]
    },
    {
     "name": "stdout",
     "output_type": "stream",
     "text": [
      "saving model version 0.1\n",
      "✅ Best validation Accuracy: 8.6598e-01 at 20 epoch\n",
      "avg_acc 0.83699631690979\n",
      "Testing 8 hidden neurons, lamb=0.001, grid=4\n",
      "checkpoint directory created: ./model\n",
      "saving model version 0.0\n",
      "checkpoint directory created: ./model\n",
      "saving model version 0.0\n",
      "Successfully created and tested Model4\n"
     ]
    },
    {
     "name": "stderr",
     "output_type": "stream",
     "text": [
      " train_acc_hybrid: 9.97e-01 | val_acc_hybrid: 8.35e-01 |: 100%|███| 120/120 [04:18<00:00,  2.15s/it]\n"
     ]
    },
    {
     "name": "stdout",
     "output_type": "stream",
     "text": [
      "saving model version 0.1\n",
      "✅ Best validation Accuracy: 8.3505e-01 at 82 epoch\n",
      "avg_acc 0.831501841545105\n",
      "Testing 8 hidden neurons, lamb=0.0001, grid=4\n",
      "checkpoint directory created: ./model\n",
      "saving model version 0.0\n",
      "checkpoint directory created: ./model\n",
      "saving model version 0.0\n",
      "Successfully created and tested Model4\n"
     ]
    },
    {
     "name": "stderr",
     "output_type": "stream",
     "text": [
      " train_acc_hybrid: 9.97e-01 | val_acc_hybrid: 7.86e-01 |: 100%|███| 120/120 [04:40<00:00,  2.34s/it]\n"
     ]
    },
    {
     "name": "stdout",
     "output_type": "stream",
     "text": [
      "saving model version 0.1\n",
      "✅ Best validation Accuracy: 7.8923e-01 at 57 epoch\n",
      "avg_acc 0.7811355590820312\n",
      "Testing 8 hidden neurons, lamb=1e-05, grid=4\n",
      "checkpoint directory created: ./model\n",
      "saving model version 0.0\n",
      "checkpoint directory created: ./model\n",
      "saving model version 0.0\n",
      "Successfully created and tested Model4\n"
     ]
    },
    {
     "name": "stderr",
     "output_type": "stream",
     "text": [
      " train_acc_hybrid: 9.93e-01 | val_acc_hybrid: 7.86e-01 |: 100%|███| 120/120 [04:34<00:00,  2.29s/it]\n"
     ]
    },
    {
     "name": "stdout",
     "output_type": "stream",
     "text": [
      "saving model version 0.1\n",
      "✅ Best validation Accuracy: 7.9267e-01 at 81 epoch\n",
      "avg_acc 0.773809552192688\n",
      "Testing 8 hidden neurons, lamb=1e-06, grid=4\n",
      "checkpoint directory created: ./model\n",
      "saving model version 0.0\n",
      "checkpoint directory created: ./model\n",
      "saving model version 0.0\n",
      "Successfully created and tested Model4\n"
     ]
    },
    {
     "name": "stderr",
     "output_type": "stream",
     "text": [
      " train_acc_hybrid: 9.96e-01 | val_acc_hybrid: 7.90e-01 |: 100%|███| 120/120 [05:12<00:00,  2.60s/it]\n"
     ]
    },
    {
     "name": "stdout",
     "output_type": "stream",
     "text": [
      "saving model version 0.1\n",
      "✅ Best validation Accuracy: 7.9840e-01 at 93 epoch\n",
      "avg_acc 0.7820512652397156\n",
      "Testing 8 hidden neurons, lamb=1e-07, grid=4\n",
      "checkpoint directory created: ./model\n",
      "saving model version 0.0\n",
      "checkpoint directory created: ./model\n",
      "saving model version 0.0\n",
      "Successfully created and tested Model4\n"
     ]
    },
    {
     "name": "stderr",
     "output_type": "stream",
     "text": [
      " train_acc_hybrid: 9.97e-01 | val_acc_hybrid: 8.28e-01 |: 100%|███| 120/120 [04:42<00:00,  2.35s/it]\n"
     ]
    },
    {
     "name": "stdout",
     "output_type": "stream",
     "text": [
      "saving model version 0.1\n",
      "✅ Best validation Accuracy: 8.4078e-01 at 68 epoch\n",
      "avg_acc 0.8067765831947327\n",
      "Testing 8 hidden neurons, lamb=0.01, grid=5\n",
      "checkpoint directory created: ./model\n",
      "saving model version 0.0\n",
      "checkpoint directory created: ./model\n",
      "saving model version 0.0\n",
      "Successfully created and tested Model4\n"
     ]
    },
    {
     "name": "stderr",
     "output_type": "stream",
     "text": [
      " train_acc_hybrid: 9.87e-01 | val_acc_hybrid: 9.22e-01 |: 100%|███| 120/120 [04:43<00:00,  2.36s/it]\n"
     ]
    },
    {
     "name": "stdout",
     "output_type": "stream",
     "text": [
      "saving model version 0.1\n",
      "✅ Best validation Accuracy: 9.2784e-01 at 53 epoch\n",
      "avg_acc 0.8910256624221802\n",
      "Testing 8 hidden neurons, lamb=0.001, grid=5\n",
      "checkpoint directory created: ./model\n",
      "saving model version 0.0\n",
      "checkpoint directory created: ./model\n",
      "saving model version 0.0\n",
      "Successfully created and tested Model4\n"
     ]
    },
    {
     "name": "stderr",
     "output_type": "stream",
     "text": [
      " train_acc_hybrid: 9.98e-01 | val_acc_hybrid: 8.48e-01 |: 100%|███| 120/120 [05:37<00:00,  2.81s/it]\n"
     ]
    },
    {
     "name": "stdout",
     "output_type": "stream",
     "text": [
      "saving model version 0.1\n",
      "✅ Best validation Accuracy: 8.4880e-01 at 100 epoch\n",
      "avg_acc 0.848901093006134\n",
      "Testing 8 hidden neurons, lamb=0.0001, grid=5\n",
      "checkpoint directory created: ./model\n",
      "saving model version 0.0\n",
      "checkpoint directory created: ./model\n",
      "saving model version 0.0\n",
      "Successfully created and tested Model4\n"
     ]
    },
    {
     "name": "stderr",
     "output_type": "stream",
     "text": [
      " train_acc_hybrid: 9.97e-01 | val_acc_hybrid: 8.16e-01 |: 100%|███| 120/120 [04:54<00:00,  2.45s/it]\n"
     ]
    },
    {
     "name": "stdout",
     "output_type": "stream",
     "text": [
      "saving model version 0.1\n",
      "✅ Best validation Accuracy: 8.1901e-01 at 55 epoch\n",
      "avg_acc 0.8159340620040894\n",
      "Testing 8 hidden neurons, lamb=1e-05, grid=5\n",
      "checkpoint directory created: ./model\n",
      "saving model version 0.0\n",
      "checkpoint directory created: ./model\n",
      "saving model version 0.0\n",
      "Successfully created and tested Model4\n"
     ]
    },
    {
     "name": "stderr",
     "output_type": "stream",
     "text": [
      " train_acc_hybrid: 9.96e-01 | val_acc_hybrid: 7.78e-01 |: 100%|███| 120/120 [05:14<00:00,  2.62s/it]\n"
     ]
    },
    {
     "name": "stdout",
     "output_type": "stream",
     "text": [
      "saving model version 0.1\n",
      "✅ Best validation Accuracy: 7.8351e-01 at 63 epoch\n",
      "avg_acc 0.7692307829856873\n",
      "Testing 8 hidden neurons, lamb=1e-06, grid=5\n",
      "checkpoint directory created: ./model\n",
      "saving model version 0.0\n",
      "checkpoint directory created: ./model\n",
      "saving model version 0.0\n",
      "Successfully created and tested Model4\n"
     ]
    },
    {
     "name": "stderr",
     "output_type": "stream",
     "text": [
      " train_acc_hybrid: 9.96e-01 | val_acc_hybrid: 7.90e-01 |: 100%|███| 120/120 [05:03<00:00,  2.53s/it]\n"
     ]
    },
    {
     "name": "stdout",
     "output_type": "stream",
     "text": [
      "saving model version 0.1\n",
      "✅ Best validation Accuracy: 7.9038e-01 at 109 epoch\n",
      "avg_acc 0.7847985625267029\n",
      "Testing 8 hidden neurons, lamb=1e-07, grid=5\n",
      "checkpoint directory created: ./model\n",
      "saving model version 0.0\n",
      "checkpoint directory created: ./model\n",
      "saving model version 0.0\n",
      "Successfully created and tested Model4\n"
     ]
    },
    {
     "name": "stderr",
     "output_type": "stream",
     "text": [
      " train_acc_hybrid: 9.97e-01 | val_acc_hybrid: 7.87e-01 |: 100%|███| 120/120 [05:13<00:00,  2.61s/it]\n"
     ]
    },
    {
     "name": "stdout",
     "output_type": "stream",
     "text": [
      "saving model version 0.1\n",
      "✅ Best validation Accuracy: 8.0298e-01 at 74 epoch\n",
      "avg_acc 0.8058608174324036\n",
      "Testing 8 hidden neurons, lamb=0.01, grid=6\n",
      "checkpoint directory created: ./model\n",
      "saving model version 0.0\n",
      "checkpoint directory created: ./model\n",
      "saving model version 0.0\n",
      "Successfully created and tested Model4\n"
     ]
    },
    {
     "name": "stderr",
     "output_type": "stream",
     "text": [
      " train_acc_hybrid: 9.89e-01 | val_acc_hybrid: 8.84e-01 |: 100%|███| 120/120 [04:49<00:00,  2.41s/it]\n"
     ]
    },
    {
     "name": "stdout",
     "output_type": "stream",
     "text": [
      "saving model version 0.1\n",
      "✅ Best validation Accuracy: 8.8545e-01 at 56 epoch\n",
      "avg_acc 0.8672161102294922\n",
      "Testing 8 hidden neurons, lamb=0.001, grid=6\n",
      "checkpoint directory created: ./model\n",
      "saving model version 0.0\n",
      "checkpoint directory created: ./model\n",
      "saving model version 0.0\n",
      "Successfully created and tested Model4\n"
     ]
    },
    {
     "name": "stderr",
     "output_type": "stream",
     "text": [
      " train_acc_hybrid: 9.95e-01 | val_acc_hybrid: 8.30e-01 |: 100%|███| 120/120 [04:59<00:00,  2.50s/it]\n"
     ]
    },
    {
     "name": "stdout",
     "output_type": "stream",
     "text": [
      "saving model version 0.1\n",
      "✅ Best validation Accuracy: 8.3963e-01 at 38 epoch\n",
      "avg_acc 0.8406593203544617\n",
      "Testing 8 hidden neurons, lamb=0.0001, grid=6\n",
      "checkpoint directory created: ./model\n",
      "saving model version 0.0\n",
      "checkpoint directory created: ./model\n",
      "saving model version 0.0\n",
      "Successfully created and tested Model4\n"
     ]
    },
    {
     "name": "stderr",
     "output_type": "stream",
     "text": [
      " train_acc_hybrid: 9.97e-01 | val_acc_hybrid: 7.96e-01 |: 100%|███| 120/120 [05:18<00:00,  2.65s/it]\n"
     ]
    },
    {
     "name": "stdout",
     "output_type": "stream",
     "text": [
      "saving model version 0.1\n",
      "✅ Best validation Accuracy: 7.9611e-01 at 88 epoch\n",
      "avg_acc 0.7838827967643738\n",
      "Testing 8 hidden neurons, lamb=1e-05, grid=6\n",
      "checkpoint directory created: ./model\n",
      "saving model version 0.0\n",
      "checkpoint directory created: ./model\n",
      "saving model version 0.0\n",
      "Successfully created and tested Model4\n"
     ]
    },
    {
     "name": "stderr",
     "output_type": "stream",
     "text": [
      " train_acc_hybrid: 9.96e-01 | val_acc_hybrid: 7.69e-01 |: 100%|███| 120/120 [05:20<00:00,  2.67s/it]\n"
     ]
    },
    {
     "name": "stdout",
     "output_type": "stream",
     "text": [
      "saving model version 0.1\n",
      "✅ Best validation Accuracy: 7.8007e-01 at 58 epoch\n",
      "avg_acc 0.8003662824630737\n",
      "Testing 8 hidden neurons, lamb=1e-06, grid=6\n",
      "checkpoint directory created: ./model\n",
      "saving model version 0.0\n",
      "checkpoint directory created: ./model\n",
      "saving model version 0.0\n",
      "Successfully created and tested Model4\n"
     ]
    },
    {
     "name": "stderr",
     "output_type": "stream",
     "text": [
      " train_acc_hybrid: 9.94e-01 | val_acc_hybrid: 8.22e-01 |: 100%|███| 120/120 [05:11<00:00,  2.59s/it]\n"
     ]
    },
    {
     "name": "stdout",
     "output_type": "stream",
     "text": [
      "saving model version 0.1\n",
      "✅ Best validation Accuracy: 8.2589e-01 at 48 epoch\n",
      "avg_acc 0.8104395866394043\n",
      "Testing 8 hidden neurons, lamb=1e-07, grid=6\n",
      "checkpoint directory created: ./model\n",
      "saving model version 0.0\n",
      "checkpoint directory created: ./model\n",
      "saving model version 0.0\n",
      "Successfully created and tested Model4\n"
     ]
    },
    {
     "name": "stderr",
     "output_type": "stream",
     "text": [
      " train_acc_hybrid: 9.97e-01 | val_acc_hybrid: 8.18e-01 |: 100%|███| 120/120 [05:34<00:00,  2.79s/it]\n"
     ]
    },
    {
     "name": "stdout",
     "output_type": "stream",
     "text": [
      "saving model version 0.1\n",
      "✅ Best validation Accuracy: 8.2589e-01 at 113 epoch\n",
      "avg_acc 0.8104395866394043\n",
      "Testing 8 hidden neurons, lamb=0.01, grid=7\n",
      "checkpoint directory created: ./model\n",
      "saving model version 0.0\n",
      "checkpoint directory created: ./model\n",
      "saving model version 0.0\n",
      "Successfully created and tested Model4\n"
     ]
    },
    {
     "name": "stderr",
     "output_type": "stream",
     "text": [
      " train_acc_hybrid: 9.87e-01 | val_acc_hybrid: 8.55e-01 |: 100%|███| 120/120 [05:11<00:00,  2.59s/it]\n"
     ]
    },
    {
     "name": "stdout",
     "output_type": "stream",
     "text": [
      "saving model version 0.1\n",
      "✅ Best validation Accuracy: 8.6369e-01 at 20 epoch\n",
      "avg_acc 0.8598901033401489\n",
      "Testing 8 hidden neurons, lamb=0.001, grid=7\n",
      "checkpoint directory created: ./model\n",
      "saving model version 0.0\n",
      "checkpoint directory created: ./model\n",
      "saving model version 0.0\n",
      "Successfully created and tested Model4\n"
     ]
    },
    {
     "name": "stderr",
     "output_type": "stream",
     "text": [
      " train_acc_hybrid: 9.97e-01 | val_acc_hybrid: 8.20e-01 |: 100%|███| 120/120 [06:30<00:00,  3.25s/it]\n"
     ]
    },
    {
     "name": "stdout",
     "output_type": "stream",
     "text": [
      "saving model version 0.1\n",
      "✅ Best validation Accuracy: 8.2818e-01 at 62 epoch\n",
      "avg_acc 0.8232600688934326\n",
      "Testing 8 hidden neurons, lamb=0.0001, grid=7\n",
      "checkpoint directory created: ./model\n",
      "saving model version 0.0\n",
      "checkpoint directory created: ./model\n",
      "saving model version 0.0\n",
      "Successfully created and tested Model4\n"
     ]
    },
    {
     "name": "stderr",
     "output_type": "stream",
     "text": [
      " train_acc_hybrid: 9.98e-01 | val_acc_hybrid: 8.06e-01 |: 100%|███| 120/120 [06:30<00:00,  3.26s/it]\n"
     ]
    },
    {
     "name": "stdout",
     "output_type": "stream",
     "text": [
      "saving model version 0.1\n",
      "✅ Best validation Accuracy: 8.0756e-01 at 51 epoch\n",
      "avg_acc 0.803113579750061\n",
      "Testing 8 hidden neurons, lamb=1e-05, grid=7\n",
      "checkpoint directory created: ./model\n",
      "saving model version 0.0\n",
      "checkpoint directory created: ./model\n",
      "saving model version 0.0\n",
      "Successfully created and tested Model4\n"
     ]
    },
    {
     "name": "stderr",
     "output_type": "stream",
     "text": [
      " train_acc_hybrid: 9.95e-01 | val_acc_hybrid: 7.70e-01 |: 100%|███| 120/120 [06:12<00:00,  3.10s/it]\n"
     ]
    },
    {
     "name": "stdout",
     "output_type": "stream",
     "text": [
      "saving model version 0.1\n",
      "✅ Best validation Accuracy: 7.7090e-01 at 58 epoch\n",
      "avg_acc 0.7692307829856873\n",
      "Testing 8 hidden neurons, lamb=1e-06, grid=7\n",
      "checkpoint directory created: ./model\n",
      "saving model version 0.0\n",
      "checkpoint directory created: ./model\n",
      "saving model version 0.0\n",
      "Successfully created and tested Model4\n"
     ]
    },
    {
     "name": "stderr",
     "output_type": "stream",
     "text": [
      " train_acc_hybrid: 9.95e-01 | val_acc_hybrid: 7.87e-01 |: 100%|███| 120/120 [06:21<00:00,  3.18s/it]\n"
     ]
    },
    {
     "name": "stdout",
     "output_type": "stream",
     "text": [
      "saving model version 0.1\n",
      "✅ Best validation Accuracy: 8.0412e-01 at 61 epoch\n",
      "avg_acc 0.7866300344467163\n",
      "Testing 8 hidden neurons, lamb=1e-07, grid=7\n",
      "checkpoint directory created: ./model\n",
      "saving model version 0.0\n",
      "checkpoint directory created: ./model\n",
      "saving model version 0.0\n",
      "Successfully created and tested Model4\n"
     ]
    },
    {
     "name": "stderr",
     "output_type": "stream",
     "text": [
      " train_acc_hybrid: 9.96e-01 | val_acc_hybrid: 7.86e-01 |: 100%|███| 120/120 [06:00<00:00,  3.00s/it]\n"
     ]
    },
    {
     "name": "stdout",
     "output_type": "stream",
     "text": [
      "saving model version 0.1\n",
      "✅ Best validation Accuracy: 7.9725e-01 at 40 epoch\n",
      "avg_acc 0.7866300344467163\n",
      "Testing 8 hidden neurons, lamb=0.01, grid=8\n",
      "checkpoint directory created: ./model\n",
      "saving model version 0.0\n",
      "checkpoint directory created: ./model\n",
      "saving model version 0.0\n",
      "Successfully created and tested Model4\n"
     ]
    },
    {
     "name": "stderr",
     "output_type": "stream",
     "text": [
      " train_acc_hybrid: 9.88e-01 | val_acc_hybrid: 8.65e-01 |: 100%|███| 120/120 [06:26<00:00,  3.22s/it]\n"
     ]
    },
    {
     "name": "stdout",
     "output_type": "stream",
     "text": [
      "saving model version 0.1\n",
      "✅ Best validation Accuracy: 8.6598e-01 at 44 epoch\n",
      "avg_acc 0.8470696210861206\n",
      "Testing 8 hidden neurons, lamb=0.001, grid=8\n",
      "checkpoint directory created: ./model\n",
      "saving model version 0.0\n",
      "checkpoint directory created: ./model\n",
      "saving model version 0.0\n",
      "Successfully created and tested Model4\n"
     ]
    },
    {
     "name": "stderr",
     "output_type": "stream",
     "text": [
      " train_acc_hybrid: 9.98e-01 | val_acc_hybrid: 8.61e-01 |: 100%|███| 120/120 [07:05<00:00,  3.54s/it]\n"
     ]
    },
    {
     "name": "stdout",
     "output_type": "stream",
     "text": [
      "saving model version 0.1\n",
      "✅ Best validation Accuracy: 8.6942e-01 at 78 epoch\n",
      "avg_acc 0.8580586314201355\n",
      "Testing 8 hidden neurons, lamb=0.0001, grid=8\n",
      "checkpoint directory created: ./model\n",
      "saving model version 0.0\n",
      "checkpoint directory created: ./model\n",
      "saving model version 0.0\n",
      "Successfully created and tested Model4\n"
     ]
    },
    {
     "name": "stderr",
     "output_type": "stream",
     "text": [
      " train_acc_hybrid: 9.97e-01 | val_acc_hybrid: 8.18e-01 |: 100%|███| 120/120 [06:56<00:00,  3.47s/it]\n"
     ]
    },
    {
     "name": "stdout",
     "output_type": "stream",
     "text": [
      "saving model version 0.1\n",
      "✅ Best validation Accuracy: 8.2245e-01 at 87 epoch\n",
      "avg_acc 0.8305860757827759\n",
      "Testing 8 hidden neurons, lamb=1e-05, grid=8\n",
      "checkpoint directory created: ./model\n",
      "saving model version 0.0\n",
      "checkpoint directory created: ./model\n",
      "saving model version 0.0\n",
      "Successfully created and tested Model4\n"
     ]
    },
    {
     "name": "stderr",
     "output_type": "stream",
     "text": [
      " train_acc_hybrid: 9.98e-01 | val_acc_hybrid: 8.14e-01 |: 100%|███| 120/120 [06:08<00:00,  3.07s/it]\n"
     ]
    },
    {
     "name": "stdout",
     "output_type": "stream",
     "text": [
      "saving model version 0.1\n",
      "✅ Best validation Accuracy: 8.1443e-01 at 114 epoch\n",
      "avg_acc 0.8113552927970886\n",
      "Testing 8 hidden neurons, lamb=1e-06, grid=8\n",
      "checkpoint directory created: ./model\n",
      "saving model version 0.0\n",
      "checkpoint directory created: ./model\n",
      "saving model version 0.0\n",
      "Successfully created and tested Model4\n"
     ]
    },
    {
     "name": "stderr",
     "output_type": "stream",
     "text": [
      " train_acc_hybrid: 9.97e-01 | val_acc_hybrid: 8.13e-01 |: 100%|███| 120/120 [06:06<00:00,  3.05s/it]\n"
     ]
    },
    {
     "name": "stdout",
     "output_type": "stream",
     "text": [
      "saving model version 0.1\n",
      "✅ Best validation Accuracy: 8.1329e-01 at 83 epoch\n",
      "avg_acc 0.8113552927970886\n",
      "Testing 8 hidden neurons, lamb=1e-07, grid=8\n",
      "checkpoint directory created: ./model\n",
      "saving model version 0.0\n",
      "checkpoint directory created: ./model\n",
      "saving model version 0.0\n",
      "Successfully created and tested Model4\n"
     ]
    },
    {
     "name": "stderr",
     "output_type": "stream",
     "text": [
      " train_acc_hybrid: 9.94e-01 | val_acc_hybrid: 7.81e-01 |: 100%|███| 120/120 [05:47<00:00,  2.90s/it]\n"
     ]
    },
    {
     "name": "stdout",
     "output_type": "stream",
     "text": [
      "saving model version 0.1\n",
      "✅ Best validation Accuracy: 7.9038e-01 at 27 epoch\n",
      "avg_acc 0.7820512652397156\n",
      "Testing 9 hidden neurons, lamb=0.01, grid=3\n",
      "checkpoint directory created: ./model\n",
      "saving model version 0.0\n",
      "checkpoint directory created: ./model\n",
      "saving model version 0.0\n",
      "Successfully created and tested Model4\n"
     ]
    },
    {
     "name": "stderr",
     "output_type": "stream",
     "text": [
      " train_acc_hybrid: 9.89e-01 | val_acc_hybrid: 8.57e-01 |: 100%|███| 120/120 [03:51<00:00,  1.93s/it]\n"
     ]
    },
    {
     "name": "stdout",
     "output_type": "stream",
     "text": [
      "saving model version 0.1\n",
      "✅ Best validation Accuracy: 8.6025e-01 at 35 epoch\n",
      "avg_acc 0.8699633479118347\n",
      "Testing 9 hidden neurons, lamb=0.001, grid=3\n",
      "checkpoint directory created: ./model\n",
      "saving model version 0.0\n",
      "checkpoint directory created: ./model\n",
      "saving model version 0.0\n",
      "Successfully created and tested Model4\n"
     ]
    },
    {
     "name": "stderr",
     "output_type": "stream",
     "text": [
      " train_acc_hybrid: 9.97e-01 | val_acc_hybrid: 8.55e-01 |: 100%|███| 120/120 [04:09<00:00,  2.08s/it]\n"
     ]
    },
    {
     "name": "stdout",
     "output_type": "stream",
     "text": [
      "saving model version 0.1\n",
      "✅ Best validation Accuracy: 8.5911e-01 at 61 epoch\n",
      "avg_acc 0.860805869102478\n",
      "Testing 9 hidden neurons, lamb=0.0001, grid=3\n",
      "checkpoint directory created: ./model\n",
      "saving model version 0.0\n",
      "checkpoint directory created: ./model\n",
      "saving model version 0.0\n",
      "Successfully created and tested Model4\n"
     ]
    },
    {
     "name": "stderr",
     "output_type": "stream",
     "text": [
      " train_acc_hybrid: 9.97e-01 | val_acc_hybrid: 8.13e-01 |: 100%|███| 120/120 [04:06<00:00,  2.05s/it]\n"
     ]
    },
    {
     "name": "stdout",
     "output_type": "stream",
     "text": [
      "saving model version 0.1\n",
      "✅ Best validation Accuracy: 8.2818e-01 at 55 epoch\n",
      "avg_acc 0.8278388381004333\n",
      "Testing 9 hidden neurons, lamb=1e-05, grid=3\n",
      "checkpoint directory created: ./model\n",
      "saving model version 0.0\n",
      "checkpoint directory created: ./model\n",
      "saving model version 0.0\n",
      "Successfully created and tested Model4\n"
     ]
    },
    {
     "name": "stderr",
     "output_type": "stream",
     "text": [
      " train_acc_hybrid: 9.96e-01 | val_acc_hybrid: 7.92e-01 |: 100%|███| 120/120 [03:29<00:00,  1.75s/it]\n"
     ]
    },
    {
     "name": "stdout",
     "output_type": "stream",
     "text": [
      "saving model version 0.1\n",
      "✅ Best validation Accuracy: 7.9954e-01 at 58 epoch\n",
      "avg_acc 0.8012820482254028\n",
      "Testing 9 hidden neurons, lamb=1e-06, grid=3\n",
      "checkpoint directory created: ./model\n",
      "saving model version 0.0\n",
      "checkpoint directory created: ./model\n",
      "saving model version 0.0\n",
      "Successfully created and tested Model4\n"
     ]
    },
    {
     "name": "stderr",
     "output_type": "stream",
     "text": [
      " train_acc_hybrid: 9.96e-01 | val_acc_hybrid: 8.03e-01 |: 100%|███| 120/120 [04:01<00:00,  2.01s/it]\n"
     ]
    },
    {
     "name": "stdout",
     "output_type": "stream",
     "text": [
      "saving model version 0.1\n",
      "✅ Best validation Accuracy: 8.1100e-01 at 64 epoch\n",
      "avg_acc 0.8021978139877319\n",
      "Testing 9 hidden neurons, lamb=1e-07, grid=3\n",
      "checkpoint directory created: ./model\n",
      "saving model version 0.0\n",
      "checkpoint directory created: ./model\n",
      "saving model version 0.0\n",
      "Successfully created and tested Model4\n"
     ]
    },
    {
     "name": "stderr",
     "output_type": "stream",
     "text": [
      " train_acc_hybrid: 9.93e-01 | val_acc_hybrid: 8.18e-01 |: 100%|███| 120/120 [03:53<00:00,  1.94s/it]\n"
     ]
    },
    {
     "name": "stdout",
     "output_type": "stream",
     "text": [
      "saving model version 0.1\n",
      "✅ Best validation Accuracy: 8.2016e-01 at 68 epoch\n",
      "avg_acc 0.7957875728607178\n",
      "Testing 9 hidden neurons, lamb=0.01, grid=4\n",
      "checkpoint directory created: ./model\n",
      "saving model version 0.0\n",
      "checkpoint directory created: ./model\n",
      "saving model version 0.0\n",
      "Successfully created and tested Model4\n"
     ]
    },
    {
     "name": "stderr",
     "output_type": "stream",
     "text": [
      " train_acc_hybrid: 9.89e-01 | val_acc_hybrid: 8.72e-01 |: 100%|███| 120/120 [03:33<00:00,  1.78s/it]\n"
     ]
    },
    {
     "name": "stdout",
     "output_type": "stream",
     "text": [
      "saving model version 0.1\n",
      "✅ Best validation Accuracy: 8.7285e-01 at 20 epoch\n",
      "avg_acc 0.8690476417541504\n",
      "Testing 9 hidden neurons, lamb=0.001, grid=4\n",
      "checkpoint directory created: ./model\n",
      "saving model version 0.0\n",
      "checkpoint directory created: ./model\n",
      "saving model version 0.0\n",
      "Successfully created and tested Model4\n"
     ]
    },
    {
     "name": "stderr",
     "output_type": "stream",
     "text": [
      " train_acc_hybrid: 9.98e-01 | val_acc_hybrid: 8.59e-01 |: 100%|███| 120/120 [05:02<00:00,  2.52s/it]\n"
     ]
    },
    {
     "name": "stdout",
     "output_type": "stream",
     "text": [
      "saving model version 0.1\n",
      "✅ Best validation Accuracy: 8.6598e-01 at 71 epoch\n",
      "avg_acc 0.8470696210861206\n",
      "Testing 9 hidden neurons, lamb=0.0001, grid=4\n",
      "checkpoint directory created: ./model\n",
      "saving model version 0.0\n",
      "checkpoint directory created: ./model\n",
      "saving model version 0.0\n",
      "Successfully created and tested Model4\n"
     ]
    },
    {
     "name": "stderr",
     "output_type": "stream",
     "text": [
      " train_acc_hybrid: 9.96e-01 | val_acc_hybrid: 8.05e-01 |: 100%|███| 120/120 [04:51<00:00,  2.43s/it]\n"
     ]
    },
    {
     "name": "stdout",
     "output_type": "stream",
     "text": [
      "saving model version 0.1\n",
      "✅ Best validation Accuracy: 8.0756e-01 at 106 epoch\n",
      "avg_acc 0.8012820482254028\n",
      "Testing 9 hidden neurons, lamb=1e-05, grid=4\n",
      "checkpoint directory created: ./model\n",
      "saving model version 0.0\n",
      "checkpoint directory created: ./model\n",
      "saving model version 0.0\n",
      "Successfully created and tested Model4\n"
     ]
    },
    {
     "name": "stderr",
     "output_type": "stream",
     "text": [
      " train_acc_hybrid: 9.95e-01 | val_acc_hybrid: 8.01e-01 |: 100%|███| 120/120 [04:19<00:00,  2.16s/it]\n"
     ]
    },
    {
     "name": "stdout",
     "output_type": "stream",
     "text": [
      "saving model version 0.1\n",
      "✅ Best validation Accuracy: 8.0641e-01 at 51 epoch\n",
      "avg_acc 0.8067765831947327\n",
      "Testing 9 hidden neurons, lamb=1e-06, grid=4\n",
      "checkpoint directory created: ./model\n",
      "saving model version 0.0\n",
      "checkpoint directory created: ./model\n",
      "saving model version 0.0\n",
      "Successfully created and tested Model4\n"
     ]
    },
    {
     "name": "stderr",
     "output_type": "stream",
     "text": [
      " train_acc_hybrid: 9.97e-01 | val_acc_hybrid: 7.89e-01 |: 100%|███| 120/120 [04:24<00:00,  2.20s/it]\n"
     ]
    },
    {
     "name": "stdout",
     "output_type": "stream",
     "text": [
      "saving model version 0.1\n",
      "✅ Best validation Accuracy: 7.9038e-01 at 102 epoch\n",
      "avg_acc 0.7820512652397156\n",
      "Testing 9 hidden neurons, lamb=1e-07, grid=4\n",
      "checkpoint directory created: ./model\n",
      "saving model version 0.0\n",
      "checkpoint directory created: ./model\n",
      "saving model version 0.0\n",
      "Successfully created and tested Model4\n"
     ]
    },
    {
     "name": "stderr",
     "output_type": "stream",
     "text": [
      " train_acc_hybrid: 9.92e-01 | val_acc_hybrid: 7.81e-01 |: 100%|███| 120/120 [03:58<00:00,  1.98s/it]\n"
     ]
    },
    {
     "name": "stdout",
     "output_type": "stream",
     "text": [
      "saving model version 0.1\n",
      "✅ Best validation Accuracy: 7.8694e-01 at 47 epoch\n",
      "avg_acc 0.7820512652397156\n",
      "Testing 9 hidden neurons, lamb=0.01, grid=5\n",
      "checkpoint directory created: ./model\n",
      "saving model version 0.0\n",
      "checkpoint directory created: ./model\n",
      "saving model version 0.0\n",
      "Successfully created and tested Model4\n"
     ]
    },
    {
     "name": "stderr",
     "output_type": "stream",
     "text": [
      " train_acc_hybrid: 9.89e-01 | val_acc_hybrid: 8.68e-01 |: 100%|███| 120/120 [04:20<00:00,  2.17s/it]\n"
     ]
    },
    {
     "name": "stdout",
     "output_type": "stream",
     "text": [
      "saving model version 0.1\n",
      "✅ Best validation Accuracy: 8.6827e-01 at 21 epoch\n",
      "avg_acc 0.860805869102478\n",
      "Testing 9 hidden neurons, lamb=0.001, grid=5\n",
      "checkpoint directory created: ./model\n",
      "saving model version 0.0\n",
      "checkpoint directory created: ./model\n",
      "saving model version 0.0\n",
      "Successfully created and tested Model4\n"
     ]
    },
    {
     "name": "stderr",
     "output_type": "stream",
     "text": [
      " train_acc_hybrid: 9.98e-01 | val_acc_hybrid: 8.68e-01 |: 100%|███| 120/120 [05:12<00:00,  2.61s/it]\n"
     ]
    },
    {
     "name": "stdout",
     "output_type": "stream",
     "text": [
      "saving model version 0.1\n",
      "✅ Best validation Accuracy: 8.8202e-01 at 59 epoch\n",
      "avg_acc 0.8763736486434937\n",
      "Testing 9 hidden neurons, lamb=0.0001, grid=5\n",
      "checkpoint directory created: ./model\n",
      "saving model version 0.0\n",
      "checkpoint directory created: ./model\n",
      "saving model version 0.0\n",
      "Successfully created and tested Model4\n"
     ]
    },
    {
     "name": "stderr",
     "output_type": "stream",
     "text": [
      " train_acc_hybrid: 9.97e-01 | val_acc_hybrid: 8.14e-01 |: 100%|███| 120/120 [05:17<00:00,  2.65s/it]\n"
     ]
    },
    {
     "name": "stdout",
     "output_type": "stream",
     "text": [
      "saving model version 0.1\n",
      "✅ Best validation Accuracy: 8.1672e-01 at 43 epoch\n",
      "avg_acc 0.7985348105430603\n",
      "Testing 9 hidden neurons, lamb=1e-05, grid=5\n",
      "checkpoint directory created: ./model\n",
      "saving model version 0.0\n",
      "checkpoint directory created: ./model\n",
      "saving model version 0.0\n",
      "Successfully created and tested Model4\n"
     ]
    },
    {
     "name": "stderr",
     "output_type": "stream",
     "text": [
      " train_acc_hybrid: 9.97e-01 | val_acc_hybrid: 7.89e-01 |: 100%|███| 120/120 [04:52<00:00,  2.44s/it]\n"
     ]
    },
    {
     "name": "stdout",
     "output_type": "stream",
     "text": [
      "saving model version 0.1\n",
      "✅ Best validation Accuracy: 7.9152e-01 at 50 epoch\n",
      "avg_acc 0.7774725556373596\n",
      "Testing 9 hidden neurons, lamb=1e-06, grid=5\n",
      "checkpoint directory created: ./model\n",
      "saving model version 0.0\n",
      "checkpoint directory created: ./model\n",
      "saving model version 0.0\n",
      "Successfully created and tested Model4\n"
     ]
    },
    {
     "name": "stderr",
     "output_type": "stream",
     "text": [
      " train_acc_hybrid: 9.96e-01 | val_acc_hybrid: 7.90e-01 |: 100%|███| 120/120 [05:31<00:00,  2.76s/it]\n"
     ]
    },
    {
     "name": "stdout",
     "output_type": "stream",
     "text": [
      "saving model version 0.1\n",
      "✅ Best validation Accuracy: 7.9725e-01 at 49 epoch\n",
      "avg_acc 0.8049450516700745\n",
      "Testing 9 hidden neurons, lamb=1e-07, grid=5\n",
      "checkpoint directory created: ./model\n",
      "saving model version 0.0\n",
      "checkpoint directory created: ./model\n",
      "saving model version 0.0\n",
      "Successfully created and tested Model4\n"
     ]
    },
    {
     "name": "stderr",
     "output_type": "stream",
     "text": [
      " train_acc_hybrid: 9.95e-01 | val_acc_hybrid: 7.78e-01 |: 100%|███| 120/120 [05:23<00:00,  2.69s/it]\n"
     ]
    },
    {
     "name": "stdout",
     "output_type": "stream",
     "text": [
      "saving model version 0.1\n",
      "✅ Best validation Accuracy: 7.8465e-01 at 54 epoch\n",
      "avg_acc 0.7820512652397156\n",
      "Testing 9 hidden neurons, lamb=0.01, grid=6\n",
      "checkpoint directory created: ./model\n",
      "saving model version 0.0\n",
      "checkpoint directory created: ./model\n",
      "saving model version 0.0\n",
      "Successfully created and tested Model4\n"
     ]
    },
    {
     "name": "stderr",
     "output_type": "stream",
     "text": [
      " train_acc_hybrid: 9.85e-01 | val_acc_hybrid: 8.72e-01 |: 100%|███| 120/120 [05:53<00:00,  2.94s/it]\n"
     ]
    },
    {
     "name": "stdout",
     "output_type": "stream",
     "text": [
      "saving model version 0.1\n",
      "✅ Best validation Accuracy: 8.9347e-01 at 28 epoch\n",
      "avg_acc 0.8992673754692078\n",
      "Testing 9 hidden neurons, lamb=0.001, grid=6\n",
      "checkpoint directory created: ./model\n",
      "saving model version 0.0\n",
      "checkpoint directory created: ./model\n",
      "saving model version 0.0\n",
      "Successfully created and tested Model4\n"
     ]
    },
    {
     "name": "stderr",
     "output_type": "stream",
     "text": [
      " train_acc_hybrid: 9.98e-01 | val_acc_hybrid: 8.71e-01 |: 100%|███| 120/120 [05:46<00:00,  2.89s/it]\n"
     ]
    },
    {
     "name": "stdout",
     "output_type": "stream",
     "text": [
      "saving model version 0.1\n",
      "✅ Best validation Accuracy: 8.7629e-01 at 67 epoch\n",
      "avg_acc 0.8635531067848206\n",
      "Testing 9 hidden neurons, lamb=0.0001, grid=6\n",
      "checkpoint directory created: ./model\n",
      "saving model version 0.0\n",
      "checkpoint directory created: ./model\n",
      "saving model version 0.0\n",
      "Successfully created and tested Model4\n"
     ]
    },
    {
     "name": "stderr",
     "output_type": "stream",
     "text": [
      " train_acc_hybrid: 9.95e-01 | val_acc_hybrid: 7.75e-01 |: 100%|███| 120/120 [05:33<00:00,  2.78s/it]\n"
     ]
    },
    {
     "name": "stdout",
     "output_type": "stream",
     "text": [
      "saving model version 0.1\n",
      "✅ Best validation Accuracy: 7.8007e-01 at 51 epoch\n",
      "avg_acc 0.7728937864303589\n",
      "Testing 9 hidden neurons, lamb=1e-05, grid=6\n",
      "checkpoint directory created: ./model\n",
      "saving model version 0.0\n",
      "checkpoint directory created: ./model\n",
      "saving model version 0.0\n",
      "Successfully created and tested Model4\n"
     ]
    },
    {
     "name": "stderr",
     "output_type": "stream",
     "text": [
      " train_acc_hybrid: 9.96e-01 | val_acc_hybrid: 7.97e-01 |: 100%|███| 120/120 [05:48<00:00,  2.91s/it]\n"
     ]
    },
    {
     "name": "stdout",
     "output_type": "stream",
     "text": [
      "saving model version 0.1\n",
      "✅ Best validation Accuracy: 7.9840e-01 at 86 epoch\n",
      "avg_acc 0.778388261795044\n",
      "Testing 9 hidden neurons, lamb=1e-06, grid=6\n",
      "checkpoint directory created: ./model\n",
      "saving model version 0.0\n",
      "checkpoint directory created: ./model\n",
      "saving model version 0.0\n",
      "Successfully created and tested Model4\n"
     ]
    },
    {
     "name": "stderr",
     "output_type": "stream",
     "text": [
      " train_acc_hybrid: 9.94e-01 | val_acc_hybrid: 7.45e-01 |: 100%|███| 120/120 [05:10<00:00,  2.59s/it]\n"
     ]
    },
    {
     "name": "stdout",
     "output_type": "stream",
     "text": [
      "saving model version 0.1\n",
      "✅ Best validation Accuracy: 7.6976e-01 at 27 epoch\n",
      "avg_acc 0.7609890103340149\n",
      "Testing 9 hidden neurons, lamb=1e-07, grid=6\n",
      "checkpoint directory created: ./model\n",
      "saving model version 0.0\n",
      "checkpoint directory created: ./model\n",
      "saving model version 0.0\n",
      "Successfully created and tested Model4\n"
     ]
    },
    {
     "name": "stderr",
     "output_type": "stream",
     "text": [
      " train_acc_hybrid: 9.94e-01 | val_acc_hybrid: 7.66e-01 |: 100%|███| 120/120 [05:55<00:00,  2.96s/it]\n"
     ]
    },
    {
     "name": "stdout",
     "output_type": "stream",
     "text": [
      "saving model version 0.1\n",
      "✅ Best validation Accuracy: 7.7778e-01 at 29 epoch\n",
      "avg_acc 0.7719780206680298\n",
      "Testing 9 hidden neurons, lamb=0.01, grid=7\n",
      "checkpoint directory created: ./model\n",
      "saving model version 0.0\n",
      "checkpoint directory created: ./model\n",
      "saving model version 0.0\n",
      "Successfully created and tested Model4\n"
     ]
    },
    {
     "name": "stderr",
     "output_type": "stream",
     "text": [
      " train_acc_hybrid: 9.97e-01 | val_acc_hybrid: 8.61e-01 |: 100%|███| 120/120 [06:03<00:00,  3.03s/it]\n"
     ]
    },
    {
     "name": "stdout",
     "output_type": "stream",
     "text": [
      "saving model version 0.1\n",
      "✅ Best validation Accuracy: 8.7514e-01 at 87 epoch\n",
      "avg_acc 0.889194130897522\n",
      "Testing 9 hidden neurons, lamb=0.001, grid=7\n",
      "checkpoint directory created: ./model\n",
      "saving model version 0.0\n",
      "checkpoint directory created: ./model\n",
      "saving model version 0.0\n",
      "Successfully created and tested Model4\n"
     ]
    },
    {
     "name": "stderr",
     "output_type": "stream",
     "text": [
      " train_acc_hybrid: 9.99e-01 | val_acc_hybrid: 8.99e-01 |: 100%|███| 120/120 [06:01<00:00,  3.01s/it]\n"
     ]
    },
    {
     "name": "stdout",
     "output_type": "stream",
     "text": [
      "saving model version 0.1\n",
      "✅ Best validation Accuracy: 9.0149e-01 at 60 epoch\n",
      "avg_acc 0.8956043720245361\n",
      "Testing 9 hidden neurons, lamb=0.0001, grid=7\n",
      "checkpoint directory created: ./model\n",
      "saving model version 0.0\n",
      "checkpoint directory created: ./model\n",
      "saving model version 0.0\n",
      "Successfully created and tested Model4\n"
     ]
    },
    {
     "name": "stderr",
     "output_type": "stream",
     "text": [
      " train_acc_hybrid: 9.97e-01 | val_acc_hybrid: 8.00e-01 |: 100%|███| 120/120 [06:05<00:00,  3.05s/it]\n"
     ]
    },
    {
     "name": "stdout",
     "output_type": "stream",
     "text": [
      "saving model version 0.1\n",
      "✅ Best validation Accuracy: 8.1901e-01 at 60 epoch\n",
      "avg_acc 0.7811355590820312\n",
      "Testing 9 hidden neurons, lamb=1e-05, grid=7\n",
      "checkpoint directory created: ./model\n",
      "saving model version 0.0\n",
      "checkpoint directory created: ./model\n",
      "saving model version 0.0\n",
      "Successfully created and tested Model4\n"
     ]
    },
    {
     "name": "stderr",
     "output_type": "stream",
     "text": [
      " train_acc_hybrid: 9.97e-01 | val_acc_hybrid: 7.85e-01 |: 100%|███| 120/120 [05:47<00:00,  2.90s/it]\n"
     ]
    },
    {
     "name": "stdout",
     "output_type": "stream",
     "text": [
      "saving model version 0.1\n",
      "✅ Best validation Accuracy: 8.0756e-01 at 34 epoch\n",
      "avg_acc 0.7994505763053894\n",
      "Testing 9 hidden neurons, lamb=1e-06, grid=7\n",
      "checkpoint directory created: ./model\n",
      "saving model version 0.0\n",
      "checkpoint directory created: ./model\n",
      "saving model version 0.0\n",
      "Successfully created and tested Model4\n"
     ]
    },
    {
     "name": "stderr",
     "output_type": "stream",
     "text": [
      " train_acc_hybrid: 9.97e-01 | val_acc_hybrid: 8.09e-01 |: 100%|███| 120/120 [05:53<00:00,  2.95s/it]\n"
     ]
    },
    {
     "name": "stdout",
     "output_type": "stream",
     "text": [
      "saving model version 0.1\n",
      "✅ Best validation Accuracy: 8.1443e-01 at 113 epoch\n",
      "avg_acc 0.8113552927970886\n",
      "Testing 9 hidden neurons, lamb=1e-07, grid=7\n",
      "checkpoint directory created: ./model\n",
      "saving model version 0.0\n",
      "checkpoint directory created: ./model\n",
      "saving model version 0.0\n",
      "Successfully created and tested Model4\n"
     ]
    },
    {
     "name": "stderr",
     "output_type": "stream",
     "text": [
      " train_acc_hybrid: 9.97e-01 | val_acc_hybrid: 8.20e-01 |: 100%|███| 120/120 [05:50<00:00,  2.92s/it]\n"
     ]
    },
    {
     "name": "stdout",
     "output_type": "stream",
     "text": [
      "saving model version 0.1\n",
      "✅ Best validation Accuracy: 8.2474e-01 at 99 epoch\n",
      "avg_acc 0.8012820482254028\n",
      "Testing 9 hidden neurons, lamb=0.01, grid=8\n",
      "checkpoint directory created: ./model\n",
      "saving model version 0.0\n",
      "checkpoint directory created: ./model\n",
      "saving model version 0.0\n",
      "Successfully created and tested Model4\n"
     ]
    },
    {
     "name": "stderr",
     "output_type": "stream",
     "text": [
      " train_acc_hybrid: 9.93e-01 | val_acc_hybrid: 8.81e-01 |: 100%|███| 120/120 [06:49<00:00,  3.42s/it]\n"
     ]
    },
    {
     "name": "stdout",
     "output_type": "stream",
     "text": [
      "saving model version 0.1\n",
      "✅ Best validation Accuracy: 8.8202e-01 at 115 epoch\n",
      "avg_acc 0.8800366520881653\n",
      "Testing 9 hidden neurons, lamb=0.001, grid=8\n",
      "checkpoint directory created: ./model\n",
      "saving model version 0.0\n",
      "checkpoint directory created: ./model\n",
      "saving model version 0.0\n",
      "Successfully created and tested Model4\n"
     ]
    },
    {
     "name": "stderr",
     "output_type": "stream",
     "text": [
      " train_acc_hybrid: 9.98e-01 | val_acc_hybrid: 8.61e-01 |: 100%|███| 120/120 [06:54<00:00,  3.46s/it]\n"
     ]
    },
    {
     "name": "stdout",
     "output_type": "stream",
     "text": [
      "saving model version 0.1\n",
      "✅ Best validation Accuracy: 8.6483e-01 at 89 epoch\n",
      "avg_acc 0.8864468932151794\n",
      "Testing 9 hidden neurons, lamb=0.0001, grid=8\n",
      "checkpoint directory created: ./model\n",
      "saving model version 0.0\n",
      "checkpoint directory created: ./model\n",
      "saving model version 0.0\n",
      "Successfully created and tested Model4\n"
     ]
    },
    {
     "name": "stderr",
     "output_type": "stream",
     "text": [
      " train_acc_hybrid: 9.97e-01 | val_acc_hybrid: 8.43e-01 |: 100%|███| 120/120 [06:46<00:00,  3.39s/it]\n"
     ]
    },
    {
     "name": "stdout",
     "output_type": "stream",
     "text": [
      "saving model version 0.1\n",
      "✅ Best validation Accuracy: 8.4422e-01 at 56 epoch\n",
      "avg_acc 0.8379120826721191\n",
      "Testing 9 hidden neurons, lamb=1e-05, grid=8\n",
      "checkpoint directory created: ./model\n",
      "saving model version 0.0\n",
      "checkpoint directory created: ./model\n",
      "saving model version 0.0\n",
      "Successfully created and tested Model4\n"
     ]
    },
    {
     "name": "stderr",
     "output_type": "stream",
     "text": [
      " train_acc_hybrid: 9.95e-01 | val_acc_hybrid: 8.04e-01 |: 100%|███| 120/120 [06:24<00:00,  3.20s/it]\n"
     ]
    },
    {
     "name": "stdout",
     "output_type": "stream",
     "text": [
      "saving model version 0.1\n",
      "✅ Best validation Accuracy: 8.0527e-01 at 59 epoch\n",
      "avg_acc 0.8067765831947327\n",
      "Testing 9 hidden neurons, lamb=1e-06, grid=8\n",
      "checkpoint directory created: ./model\n",
      "saving model version 0.0\n",
      "checkpoint directory created: ./model\n",
      "saving model version 0.0\n",
      "Successfully created and tested Model4\n"
     ]
    },
    {
     "name": "stderr",
     "output_type": "stream",
     "text": [
      " train_acc_hybrid: 9.95e-01 | val_acc_hybrid: 7.88e-01 |: 100%|███| 120/120 [06:42<00:00,  3.35s/it]\n"
     ]
    },
    {
     "name": "stdout",
     "output_type": "stream",
     "text": [
      "saving model version 0.1\n",
      "✅ Best validation Accuracy: 7.9381e-01 at 63 epoch\n",
      "avg_acc 0.7756410241127014\n",
      "Testing 9 hidden neurons, lamb=1e-07, grid=8\n",
      "checkpoint directory created: ./model\n",
      "saving model version 0.0\n",
      "checkpoint directory created: ./model\n",
      "saving model version 0.0\n",
      "Successfully created and tested Model4\n"
     ]
    },
    {
     "name": "stderr",
     "output_type": "stream",
     "text": [
      " train_acc_hybrid: 9.97e-01 | val_acc_hybrid: 8.04e-01 |: 100%|███| 120/120 [06:10<00:00,  3.09s/it]\n"
     ]
    },
    {
     "name": "stdout",
     "output_type": "stream",
     "text": [
      "saving model version 0.1\n",
      "✅ Best validation Accuracy: 8.1214e-01 at 40 epoch\n",
      "avg_acc 0.8040292859077454\n",
      "Testing 10 hidden neurons, lamb=0.01, grid=3\n",
      "checkpoint directory created: ./model\n",
      "saving model version 0.0\n",
      "checkpoint directory created: ./model\n",
      "saving model version 0.0\n",
      "Successfully created and tested Model4\n"
     ]
    },
    {
     "name": "stderr",
     "output_type": "stream",
     "text": [
      " train_acc_hybrid: 9.92e-01 | val_acc_hybrid: 8.76e-01 |: 100%|███| 120/120 [03:38<00:00,  1.82s/it]\n"
     ]
    },
    {
     "name": "stdout",
     "output_type": "stream",
     "text": [
      "saving model version 0.1\n",
      "✅ Best validation Accuracy: 8.8431e-01 at 23 epoch\n",
      "avg_acc 0.8681318759918213\n",
      "Testing 10 hidden neurons, lamb=0.001, grid=3\n",
      "checkpoint directory created: ./model\n",
      "saving model version 0.0\n",
      "checkpoint directory created: ./model\n",
      "saving model version 0.0\n",
      "Successfully created and tested Model4\n"
     ]
    },
    {
     "name": "stderr",
     "output_type": "stream",
     "text": [
      " train_acc_hybrid: 9.98e-01 | val_acc_hybrid: 8.59e-01 |: 100%|███| 120/120 [04:19<00:00,  2.16s/it]\n"
     ]
    },
    {
     "name": "stdout",
     "output_type": "stream",
     "text": [
      "saving model version 0.1\n",
      "✅ Best validation Accuracy: 8.6140e-01 at 66 epoch\n",
      "avg_acc 0.8415750861167908\n",
      "Testing 10 hidden neurons, lamb=0.0001, grid=3\n",
      "checkpoint directory created: ./model\n",
      "saving model version 0.0\n",
      "checkpoint directory created: ./model\n",
      "saving model version 0.0\n",
      "Successfully created and tested Model4\n"
     ]
    },
    {
     "name": "stderr",
     "output_type": "stream",
     "text": [
      " train_acc_hybrid: 9.96e-01 | val_acc_hybrid: 7.92e-01 |: 100%|███| 120/120 [04:10<00:00,  2.09s/it]\n"
     ]
    },
    {
     "name": "stdout",
     "output_type": "stream",
     "text": [
      "saving model version 0.1\n",
      "✅ Best validation Accuracy: 7.9152e-01 at 91 epoch\n",
      "avg_acc 0.7875458002090454\n",
      "Testing 10 hidden neurons, lamb=1e-05, grid=3\n",
      "checkpoint directory created: ./model\n",
      "saving model version 0.0\n",
      "checkpoint directory created: ./model\n",
      "saving model version 0.0\n",
      "Successfully created and tested Model4\n"
     ]
    },
    {
     "name": "stderr",
     "output_type": "stream",
     "text": [
      " train_acc_hybrid: 9.93e-01 | val_acc_hybrid: 7.63e-01 |: 100%|███| 120/120 [03:44<00:00,  1.87s/it]\n"
     ]
    },
    {
     "name": "stdout",
     "output_type": "stream",
     "text": [
      "saving model version 0.1\n",
      "✅ Best validation Accuracy: 7.7434e-01 at 66 epoch\n",
      "avg_acc 0.7554945349693298\n",
      "Testing 10 hidden neurons, lamb=1e-06, grid=3\n",
      "checkpoint directory created: ./model\n",
      "saving model version 0.0\n",
      "checkpoint directory created: ./model\n",
      "saving model version 0.0\n",
      "Successfully created and tested Model4\n"
     ]
    },
    {
     "name": "stderr",
     "output_type": "stream",
     "text": [
      " train_acc_hybrid: 9.96e-01 | val_acc_hybrid: 7.77e-01 |: 100%|███| 120/120 [04:06<00:00,  2.05s/it]\n"
     ]
    },
    {
     "name": "stdout",
     "output_type": "stream",
     "text": [
      "saving model version 0.1\n",
      "✅ Best validation Accuracy: 7.8694e-01 at 57 epoch\n",
      "avg_acc 0.7728937864303589\n",
      "Testing 10 hidden neurons, lamb=1e-07, grid=3\n",
      "checkpoint directory created: ./model\n",
      "saving model version 0.0\n",
      "checkpoint directory created: ./model\n",
      "saving model version 0.0\n",
      "Successfully created and tested Model4\n"
     ]
    },
    {
     "name": "stderr",
     "output_type": "stream",
     "text": [
      " train_acc_hybrid: 9.95e-01 | val_acc_hybrid: 7.50e-01 |: 100%|███| 120/120 [04:25<00:00,  2.21s/it]\n"
     ]
    },
    {
     "name": "stdout",
     "output_type": "stream",
     "text": [
      "saving model version 0.1\n",
      "✅ Best validation Accuracy: 7.6861e-01 at 44 epoch\n",
      "avg_acc 0.7344322204589844\n",
      "Testing 10 hidden neurons, lamb=0.01, grid=4\n",
      "checkpoint directory created: ./model\n",
      "saving model version 0.0\n",
      "checkpoint directory created: ./model\n",
      "saving model version 0.0\n",
      "Successfully created and tested Model4\n"
     ]
    },
    {
     "name": "stderr",
     "output_type": "stream",
     "text": [
      " train_acc_hybrid: 9.90e-01 | val_acc_hybrid: 8.60e-01 |: 100%|███| 120/120 [03:36<00:00,  1.81s/it]\n"
     ]
    },
    {
     "name": "stdout",
     "output_type": "stream",
     "text": [
      "saving model version 0.1\n",
      "✅ Best validation Accuracy: 8.6025e-01 at 55 epoch\n",
      "avg_acc 0.8516483306884766\n",
      "Testing 10 hidden neurons, lamb=0.001, grid=4\n",
      "checkpoint directory created: ./model\n",
      "saving model version 0.0\n",
      "checkpoint directory created: ./model\n",
      "saving model version 0.0\n",
      "Successfully created and tested Model4\n"
     ]
    },
    {
     "name": "stderr",
     "output_type": "stream",
     "text": [
      " train_acc_hybrid: 9.96e-01 | val_acc_hybrid: 8.55e-01 |: 100%|███| 120/120 [03:54<00:00,  1.96s/it]\n"
     ]
    },
    {
     "name": "stdout",
     "output_type": "stream",
     "text": [
      "saving model version 0.1\n",
      "✅ Best validation Accuracy: 8.5567e-01 at 116 epoch\n",
      "avg_acc 0.8617216348648071\n",
      "Testing 10 hidden neurons, lamb=0.0001, grid=4\n",
      "checkpoint directory created: ./model\n",
      "saving model version 0.0\n",
      "checkpoint directory created: ./model\n",
      "saving model version 0.0\n",
      "Successfully created and tested Model4\n"
     ]
    },
    {
     "name": "stderr",
     "output_type": "stream",
     "text": [
      " train_acc_hybrid: 9.97e-01 | val_acc_hybrid: 7.80e-01 |: 100%|███| 120/120 [04:51<00:00,  2.43s/it]\n"
     ]
    },
    {
     "name": "stdout",
     "output_type": "stream",
     "text": [
      "saving model version 0.1\n",
      "✅ Best validation Accuracy: 7.9038e-01 at 50 epoch\n",
      "avg_acc 0.7847985625267029\n",
      "Testing 10 hidden neurons, lamb=1e-05, grid=4\n",
      "checkpoint directory created: ./model\n",
      "saving model version 0.0\n",
      "checkpoint directory created: ./model\n",
      "saving model version 0.0\n",
      "Successfully created and tested Model4\n"
     ]
    },
    {
     "name": "stderr",
     "output_type": "stream",
     "text": [
      " train_acc_hybrid: 9.95e-01 | val_acc_hybrid: 8.19e-01 |: 100%|███| 120/120 [04:54<00:00,  2.46s/it]\n"
     ]
    },
    {
     "name": "stdout",
     "output_type": "stream",
     "text": [
      "saving model version 0.1\n",
      "✅ Best validation Accuracy: 8.2245e-01 at 65 epoch\n",
      "avg_acc 0.8122710585594177\n",
      "Testing 10 hidden neurons, lamb=1e-06, grid=4\n",
      "checkpoint directory created: ./model\n",
      "saving model version 0.0\n",
      "checkpoint directory created: ./model\n",
      "saving model version 0.0\n",
      "Successfully created and tested Model4\n"
     ]
    },
    {
     "name": "stderr",
     "output_type": "stream",
     "text": [
      " train_acc_hybrid: 9.95e-01 | val_acc_hybrid: 7.84e-01 |: 100%|███| 120/120 [04:25<00:00,  2.21s/it]\n"
     ]
    },
    {
     "name": "stdout",
     "output_type": "stream",
     "text": [
      "saving model version 0.1\n",
      "✅ Best validation Accuracy: 7.8351e-01 at 119 epoch\n",
      "avg_acc 0.7756410241127014\n",
      "Testing 10 hidden neurons, lamb=1e-07, grid=4\n",
      "checkpoint directory created: ./model\n",
      "saving model version 0.0\n",
      "checkpoint directory created: ./model\n",
      "saving model version 0.0\n",
      "Successfully created and tested Model4\n"
     ]
    },
    {
     "name": "stderr",
     "output_type": "stream",
     "text": [
      " train_acc_hybrid: 9.95e-01 | val_acc_hybrid: 7.77e-01 |: 100%|███| 120/120 [04:26<00:00,  2.22s/it]\n"
     ]
    },
    {
     "name": "stdout",
     "output_type": "stream",
     "text": [
      "saving model version 0.1\n",
      "✅ Best validation Accuracy: 7.7778e-01 at 111 epoch\n",
      "avg_acc 0.7774725556373596\n",
      "Testing 10 hidden neurons, lamb=0.01, grid=5\n",
      "checkpoint directory created: ./model\n",
      "saving model version 0.0\n",
      "checkpoint directory created: ./model\n",
      "saving model version 0.0\n",
      "Successfully created and tested Model4\n"
     ]
    },
    {
     "name": "stderr",
     "output_type": "stream",
     "text": [
      " train_acc_hybrid: 9.95e-01 | val_acc_hybrid: 9.10e-01 |: 100%|███| 120/120 [05:03<00:00,  2.53s/it]\n"
     ]
    },
    {
     "name": "stdout",
     "output_type": "stream",
     "text": [
      "saving model version 0.1\n",
      "✅ Best validation Accuracy: 9.1065e-01 at 66 epoch\n",
      "avg_acc 0.872710645198822\n",
      "Testing 10 hidden neurons, lamb=0.001, grid=5\n",
      "checkpoint directory created: ./model\n",
      "saving model version 0.0\n",
      "checkpoint directory created: ./model\n",
      "saving model version 0.0\n",
      "Successfully created and tested Model4\n"
     ]
    },
    {
     "name": "stderr",
     "output_type": "stream",
     "text": [
      " train_acc_hybrid: 9.98e-01 | val_acc_hybrid: 8.53e-01 |: 100%|███| 120/120 [05:08<00:00,  2.57s/it]\n"
     ]
    },
    {
     "name": "stdout",
     "output_type": "stream",
     "text": [
      "saving model version 0.1\n",
      "✅ Best validation Accuracy: 8.5338e-01 at 64 epoch\n",
      "avg_acc 0.8617216348648071\n",
      "Testing 10 hidden neurons, lamb=0.0001, grid=5\n",
      "checkpoint directory created: ./model\n",
      "saving model version 0.0\n",
      "checkpoint directory created: ./model\n",
      "saving model version 0.0\n",
      "Successfully created and tested Model4\n"
     ]
    },
    {
     "name": "stderr",
     "output_type": "stream",
     "text": [
      " train_acc_hybrid: 9.96e-01 | val_acc_hybrid: 7.74e-01 |: 100%|███| 120/120 [05:05<00:00,  2.55s/it]\n"
     ]
    },
    {
     "name": "stdout",
     "output_type": "stream",
     "text": [
      "saving model version 0.1\n",
      "✅ Best validation Accuracy: 7.8465e-01 at 103 epoch\n",
      "avg_acc 0.7820512652397156\n",
      "Testing 10 hidden neurons, lamb=1e-05, grid=5\n",
      "checkpoint directory created: ./model\n",
      "saving model version 0.0\n",
      "checkpoint directory created: ./model\n",
      "saving model version 0.0\n",
      "Successfully created and tested Model4\n"
     ]
    },
    {
     "name": "stderr",
     "output_type": "stream",
     "text": [
      " train_acc_hybrid: 9.94e-01 | val_acc_hybrid: 7.63e-01 |: 100%|███| 120/120 [05:03<00:00,  2.53s/it]\n"
     ]
    },
    {
     "name": "stdout",
     "output_type": "stream",
     "text": [
      "saving model version 0.1\n",
      "✅ Best validation Accuracy: 7.8007e-01 at 49 epoch\n",
      "avg_acc 0.7655677795410156\n",
      "Testing 10 hidden neurons, lamb=1e-06, grid=5\n",
      "checkpoint directory created: ./model\n",
      "saving model version 0.0\n",
      "checkpoint directory created: ./model\n",
      "saving model version 0.0\n",
      "Successfully created and tested Model4\n"
     ]
    },
    {
     "name": "stderr",
     "output_type": "stream",
     "text": [
      " train_acc_hybrid: 9.94e-01 | val_acc_hybrid: 7.19e-01 |: 100%|███| 120/120 [05:06<00:00,  2.55s/it]\n"
     ]
    },
    {
     "name": "stdout",
     "output_type": "stream",
     "text": [
      "saving model version 0.1\n",
      "✅ Best validation Accuracy: 7.3310e-01 at 49 epoch\n",
      "avg_acc 0.7353479862213135\n",
      "Testing 10 hidden neurons, lamb=1e-07, grid=5\n",
      "checkpoint directory created: ./model\n",
      "saving model version 0.0\n",
      "checkpoint directory created: ./model\n",
      "saving model version 0.0\n",
      "Successfully created and tested Model4\n"
     ]
    },
    {
     "name": "stderr",
     "output_type": "stream",
     "text": [
      " train_acc_hybrid: 9.94e-01 | val_acc_hybrid: 7.64e-01 |: 100%|███| 120/120 [04:48<00:00,  2.40s/it]\n"
     ]
    },
    {
     "name": "stdout",
     "output_type": "stream",
     "text": [
      "saving model version 0.1\n",
      "✅ Best validation Accuracy: 7.7892e-01 at 58 epoch\n",
      "avg_acc 0.7564102411270142\n",
      "Testing 10 hidden neurons, lamb=0.01, grid=6\n",
      "checkpoint directory created: ./model\n",
      "saving model version 0.0\n",
      "checkpoint directory created: ./model\n",
      "saving model version 0.0\n",
      "Successfully created and tested Model4\n"
     ]
    },
    {
     "name": "stderr",
     "output_type": "stream",
     "text": [
      " train_acc_hybrid: 9.88e-01 | val_acc_hybrid: 8.77e-01 |: 100%|███| 120/120 [04:55<00:00,  2.46s/it]\n"
     ]
    },
    {
     "name": "stdout",
     "output_type": "stream",
     "text": [
      "saving model version 0.1\n",
      "✅ Best validation Accuracy: 8.7858e-01 at 44 epoch\n",
      "avg_acc 0.8598901033401489\n",
      "Testing 10 hidden neurons, lamb=0.001, grid=6\n",
      "checkpoint directory created: ./model\n",
      "saving model version 0.0\n",
      "checkpoint directory created: ./model\n",
      "saving model version 0.0\n",
      "Successfully created and tested Model4\n"
     ]
    },
    {
     "name": "stderr",
     "output_type": "stream",
     "text": [
      " train_acc_hybrid: 9.98e-01 | val_acc_hybrid: 8.11e-01 |: 100%|███| 120/120 [05:42<00:00,  2.86s/it]\n"
     ]
    },
    {
     "name": "stdout",
     "output_type": "stream",
     "text": [
      "saving model version 0.1\n",
      "✅ Best validation Accuracy: 8.1100e-01 at 73 epoch\n",
      "avg_acc 0.8269230723381042\n",
      "Testing 10 hidden neurons, lamb=0.0001, grid=6\n",
      "checkpoint directory created: ./model\n",
      "saving model version 0.0\n",
      "checkpoint directory created: ./model\n",
      "saving model version 0.0\n",
      "Successfully created and tested Model4\n"
     ]
    },
    {
     "name": "stderr",
     "output_type": "stream",
     "text": [
      " train_acc_hybrid: 9.95e-01 | val_acc_hybrid: 7.71e-01 |: 100%|███| 120/120 [05:22<00:00,  2.69s/it]\n"
     ]
    },
    {
     "name": "stdout",
     "output_type": "stream",
     "text": [
      "saving model version 0.1\n",
      "✅ Best validation Accuracy: 7.7434e-01 at 57 epoch\n",
      "avg_acc 0.7683150172233582\n",
      "Testing 10 hidden neurons, lamb=1e-05, grid=6\n",
      "checkpoint directory created: ./model\n",
      "saving model version 0.0\n",
      "checkpoint directory created: ./model\n",
      "saving model version 0.0\n",
      "Successfully created and tested Model4\n"
     ]
    },
    {
     "name": "stderr",
     "output_type": "stream",
     "text": [
      " train_acc_hybrid: 9.96e-01 | val_acc_hybrid: 7.66e-01 |: 100%|███| 120/120 [05:40<00:00,  2.84s/it]\n"
     ]
    },
    {
     "name": "stdout",
     "output_type": "stream",
     "text": [
      "saving model version 0.1\n",
      "✅ Best validation Accuracy: 7.7549e-01 at 77 epoch\n",
      "avg_acc 0.7582417726516724\n",
      "Testing 10 hidden neurons, lamb=1e-06, grid=6\n",
      "checkpoint directory created: ./model\n",
      "saving model version 0.0\n",
      "checkpoint directory created: ./model\n",
      "saving model version 0.0\n",
      "Successfully created and tested Model4\n"
     ]
    },
    {
     "name": "stderr",
     "output_type": "stream",
     "text": [
      " train_acc_hybrid: 9.95e-01 | val_acc_hybrid: 7.46e-01 |: 100%|███| 120/120 [05:31<00:00,  2.76s/it]\n"
     ]
    },
    {
     "name": "stdout",
     "output_type": "stream",
     "text": [
      "saving model version 0.1\n",
      "✅ Best validation Accuracy: 7.4685e-01 at 18 epoch\n",
      "avg_acc 0.7472527623176575\n",
      "Testing 10 hidden neurons, lamb=1e-07, grid=6\n",
      "checkpoint directory created: ./model\n",
      "saving model version 0.0\n",
      "checkpoint directory created: ./model\n",
      "saving model version 0.0\n",
      "Successfully created and tested Model4\n"
     ]
    },
    {
     "name": "stderr",
     "output_type": "stream",
     "text": [
      " train_acc_hybrid: 9.95e-01 | val_acc_hybrid: 7.59e-01 |: 100%|███| 120/120 [05:26<00:00,  2.72s/it]\n"
     ]
    },
    {
     "name": "stdout",
     "output_type": "stream",
     "text": [
      "saving model version 0.1\n",
      "✅ Best validation Accuracy: 7.7090e-01 at 42 epoch\n",
      "avg_acc 0.7664835453033447\n",
      "Testing 10 hidden neurons, lamb=0.01, grid=7\n",
      "checkpoint directory created: ./model\n",
      "saving model version 0.0\n",
      "checkpoint directory created: ./model\n",
      "saving model version 0.0\n",
      "Successfully created and tested Model4\n"
     ]
    },
    {
     "name": "stderr",
     "output_type": "stream",
     "text": [
      " train_acc_hybrid: 9.85e-01 | val_acc_hybrid: 8.69e-01 |: 100%|███| 120/120 [06:26<00:00,  3.22s/it]\n"
     ]
    },
    {
     "name": "stdout",
     "output_type": "stream",
     "text": [
      "saving model version 0.1\n",
      "✅ Best validation Accuracy: 8.7171e-01 at 64 epoch\n",
      "avg_acc 0.8736263513565063\n",
      "Testing 10 hidden neurons, lamb=0.001, grid=7\n",
      "checkpoint directory created: ./model\n",
      "saving model version 0.0\n",
      "checkpoint directory created: ./model\n",
      "saving model version 0.0\n",
      "Successfully created and tested Model4\n"
     ]
    },
    {
     "name": "stderr",
     "output_type": "stream",
     "text": [
      " train_acc_hybrid: 9.99e-01 | val_acc_hybrid: 8.90e-01 |: 100%|███| 120/120 [06:10<00:00,  3.09s/it]\n"
     ]
    },
    {
     "name": "stdout",
     "output_type": "stream",
     "text": [
      "saving model version 0.1\n",
      "✅ Best validation Accuracy: 8.9233e-01 at 85 epoch\n",
      "avg_acc 0.8553113341331482\n",
      "Testing 10 hidden neurons, lamb=0.0001, grid=7\n",
      "checkpoint directory created: ./model\n",
      "saving model version 0.0\n",
      "checkpoint directory created: ./model\n",
      "saving model version 0.0\n",
      "Successfully created and tested Model4\n"
     ]
    },
    {
     "name": "stderr",
     "output_type": "stream",
     "text": [
      " train_acc_hybrid: 0.00e+00 | val_acc_hybrid: 0.00e+00 |: 100%|███| 120/120 [07:27<00:00,  3.73s/it]\n"
     ]
    },
    {
     "name": "stdout",
     "output_type": "stream",
     "text": [
      "saving model version 0.1\n",
      "✅ Best validation Accuracy: 8.4765e-01 at 51 epoch\n",
      "avg_acc 0.8296703100204468\n",
      "Testing 10 hidden neurons, lamb=1e-05, grid=7\n",
      "checkpoint directory created: ./model\n",
      "saving model version 0.0\n",
      "checkpoint directory created: ./model\n",
      "saving model version 0.0\n",
      "Successfully created and tested Model4\n"
     ]
    },
    {
     "name": "stderr",
     "output_type": "stream",
     "text": [
      " train_acc_hybrid: 9.96e-01 | val_acc_hybrid: 8.08e-01 |: 100%|███| 120/120 [06:05<00:00,  3.05s/it]\n"
     ]
    },
    {
     "name": "stdout",
     "output_type": "stream",
     "text": [
      "saving model version 0.1\n",
      "✅ Best validation Accuracy: 8.0756e-01 at 104 epoch\n",
      "avg_acc 0.807692289352417\n",
      "Testing 10 hidden neurons, lamb=1e-06, grid=7\n",
      "checkpoint directory created: ./model\n",
      "saving model version 0.0\n",
      "checkpoint directory created: ./model\n",
      "saving model version 0.0\n",
      "Successfully created and tested Model4\n"
     ]
    },
    {
     "name": "stderr",
     "output_type": "stream",
     "text": [
      " train_acc_hybrid: 9.96e-01 | val_acc_hybrid: 8.03e-01 |: 100%|███| 120/120 [05:38<00:00,  2.82s/it]\n"
     ]
    },
    {
     "name": "stdout",
     "output_type": "stream",
     "text": [
      "saving model version 0.1\n",
      "✅ Best validation Accuracy: 8.0985e-01 at 52 epoch\n",
      "avg_acc 0.7820512652397156\n",
      "Testing 10 hidden neurons, lamb=1e-07, grid=7\n",
      "checkpoint directory created: ./model\n",
      "saving model version 0.0\n",
      "checkpoint directory created: ./model\n",
      "saving model version 0.0\n",
      "Successfully created and tested Model4\n"
     ]
    },
    {
     "name": "stderr",
     "output_type": "stream",
     "text": [
      " train_acc_hybrid: 9.96e-01 | val_acc_hybrid: 8.20e-01 |: 100%|███| 120/120 [06:13<00:00,  3.11s/it]\n"
     ]
    },
    {
     "name": "stdout",
     "output_type": "stream",
     "text": [
      "saving model version 0.1\n",
      "✅ Best validation Accuracy: 8.2589e-01 at 51 epoch\n",
      "avg_acc 0.7976190447807312\n",
      "Testing 10 hidden neurons, lamb=0.01, grid=8\n",
      "checkpoint directory created: ./model\n",
      "saving model version 0.0\n",
      "checkpoint directory created: ./model\n",
      "saving model version 0.0\n",
      "Successfully created and tested Model4\n"
     ]
    },
    {
     "name": "stderr",
     "output_type": "stream",
     "text": [
      " train_acc_hybrid: 9.93e-01 | val_acc_hybrid: 8.80e-01 |: 100%|███| 120/120 [06:30<00:00,  3.25s/it]\n"
     ]
    },
    {
     "name": "stdout",
     "output_type": "stream",
     "text": [
      "saving model version 0.1\n",
      "✅ Best validation Accuracy: 8.8545e-01 at 26 epoch\n",
      "avg_acc 0.8745421171188354\n",
      "Testing 10 hidden neurons, lamb=0.001, grid=8\n",
      "checkpoint directory created: ./model\n",
      "saving model version 0.0\n",
      "checkpoint directory created: ./model\n",
      "saving model version 0.0\n",
      "Successfully created and tested Model4\n"
     ]
    },
    {
     "name": "stderr",
     "output_type": "stream",
     "text": [
      " train_acc_hybrid: 9.99e-01 | val_acc_hybrid: 8.65e-01 |: 100%|███| 120/120 [06:35<00:00,  3.29s/it]\n"
     ]
    },
    {
     "name": "stdout",
     "output_type": "stream",
     "text": [
      "saving model version 0.1\n",
      "✅ Best validation Accuracy: 8.7056e-01 at 77 epoch\n",
      "avg_acc 0.8580586314201355\n",
      "Testing 10 hidden neurons, lamb=0.0001, grid=8\n",
      "checkpoint directory created: ./model\n",
      "saving model version 0.0\n",
      "checkpoint directory created: ./model\n",
      "saving model version 0.0\n",
      "Successfully created and tested Model4\n"
     ]
    },
    {
     "name": "stderr",
     "output_type": "stream",
     "text": [
      " train_acc_hybrid: 9.95e-01 | val_acc_hybrid: 7.80e-01 |: 100%|███| 120/120 [06:26<00:00,  3.22s/it]\n"
     ]
    },
    {
     "name": "stdout",
     "output_type": "stream",
     "text": [
      "saving model version 0.1\n",
      "✅ Best validation Accuracy: 7.8809e-01 at 40 epoch\n",
      "avg_acc 0.7573260068893433\n",
      "Testing 10 hidden neurons, lamb=1e-05, grid=8\n",
      "checkpoint directory created: ./model\n",
      "saving model version 0.0\n",
      "checkpoint directory created: ./model\n",
      "saving model version 0.0\n",
      "Successfully created and tested Model4\n"
     ]
    },
    {
     "name": "stderr",
     "output_type": "stream",
     "text": [
      " train_acc_hybrid: 9.97e-01 | val_acc_hybrid: 7.92e-01 |: 100%|███| 120/120 [07:07<00:00,  3.56s/it]\n"
     ]
    },
    {
     "name": "stdout",
     "output_type": "stream",
     "text": [
      "saving model version 0.1\n",
      "✅ Best validation Accuracy: 8.0756e-01 at 66 epoch\n",
      "avg_acc 0.7902930378913879\n",
      "Testing 10 hidden neurons, lamb=1e-06, grid=8\n",
      "checkpoint directory created: ./model\n",
      "saving model version 0.0\n",
      "checkpoint directory created: ./model\n",
      "saving model version 0.0\n",
      "Successfully created and tested Model4\n"
     ]
    },
    {
     "name": "stderr",
     "output_type": "stream",
     "text": [
      " train_acc_hybrid: 9.95e-01 | val_acc_hybrid: 7.82e-01 |: 100%|███| 120/120 [05:44<00:00,  2.87s/it]\n"
     ]
    },
    {
     "name": "stdout",
     "output_type": "stream",
     "text": [
      "saving model version 0.1\n",
      "✅ Best validation Accuracy: 7.8923e-01 at 47 epoch\n",
      "avg_acc 0.7857142686843872\n",
      "Testing 10 hidden neurons, lamb=1e-07, grid=8\n",
      "checkpoint directory created: ./model\n",
      "saving model version 0.0\n",
      "checkpoint directory created: ./model\n",
      "saving model version 0.0\n",
      "Successfully created and tested Model4\n"
     ]
    },
    {
     "name": "stderr",
     "output_type": "stream",
     "text": [
      " train_acc_hybrid: 9.97e-01 | val_acc_hybrid: 8.03e-01 |: 100%|███| 120/120 [06:26<00:00,  3.22s/it]\n"
     ]
    },
    {
     "name": "stdout",
     "output_type": "stream",
     "text": [
      "saving model version 0.1\n",
      "✅ Best validation Accuracy: 8.0298e-01 at 116 epoch\n",
      "avg_acc 0.7967032790184021\n",
      "Testing 11 hidden neurons, lamb=0.01, grid=3\n",
      "checkpoint directory created: ./model\n",
      "saving model version 0.0\n",
      "checkpoint directory created: ./model\n",
      "saving model version 0.0\n",
      "Successfully created and tested Model4\n"
     ]
    },
    {
     "name": "stderr",
     "output_type": "stream",
     "text": [
      " train_acc_hybrid: 9.87e-01 | val_acc_hybrid: 8.71e-01 |: 100%|███| 120/120 [03:51<00:00,  1.93s/it]\n"
     ]
    },
    {
     "name": "stdout",
     "output_type": "stream",
     "text": [
      "saving model version 0.1\n",
      "✅ Best validation Accuracy: 8.7400e-01 at 37 epoch\n",
      "avg_acc 0.8809523582458496\n",
      "Testing 11 hidden neurons, lamb=0.001, grid=3\n",
      "checkpoint directory created: ./model\n",
      "saving model version 0.0\n",
      "checkpoint directory created: ./model\n",
      "saving model version 0.0\n",
      "Successfully created and tested Model4\n"
     ]
    },
    {
     "name": "stderr",
     "output_type": "stream",
     "text": [
      " train_acc_hybrid: 9.98e-01 | val_acc_hybrid: 8.35e-01 |: 100%|███| 120/120 [04:28<00:00,  2.24s/it]\n"
     ]
    },
    {
     "name": "stdout",
     "output_type": "stream",
     "text": [
      "saving model version 0.1\n",
      "✅ Best validation Accuracy: 8.3849e-01 at 74 epoch\n",
      "avg_acc 0.8452380895614624\n",
      "Testing 11 hidden neurons, lamb=0.0001, grid=3\n",
      "checkpoint directory created: ./model\n",
      "saving model version 0.0\n",
      "checkpoint directory created: ./model\n",
      "saving model version 0.0\n",
      "Successfully created and tested Model4\n"
     ]
    },
    {
     "name": "stderr",
     "output_type": "stream",
     "text": [
      " train_acc_hybrid: 9.97e-01 | val_acc_hybrid: 7.87e-01 |: 100%|███| 120/120 [03:52<00:00,  1.94s/it]\n"
     ]
    },
    {
     "name": "stdout",
     "output_type": "stream",
     "text": [
      "saving model version 0.1\n",
      "✅ Best validation Accuracy: 7.9381e-01 at 18 epoch\n",
      "avg_acc 0.7719780206680298\n",
      "Testing 11 hidden neurons, lamb=1e-05, grid=3\n",
      "checkpoint directory created: ./model\n",
      "saving model version 0.0\n",
      "checkpoint directory created: ./model\n",
      "saving model version 0.0\n",
      "Successfully created and tested Model4\n"
     ]
    },
    {
     "name": "stderr",
     "output_type": "stream",
     "text": [
      " train_acc_hybrid: 9.96e-01 | val_acc_hybrid: 7.96e-01 |: 100%|███| 120/120 [04:08<00:00,  2.07s/it]\n"
     ]
    },
    {
     "name": "stdout",
     "output_type": "stream",
     "text": [
      "saving model version 0.1\n",
      "✅ Best validation Accuracy: 8.1100e-01 at 44 epoch\n",
      "avg_acc 0.803113579750061\n",
      "Testing 11 hidden neurons, lamb=1e-06, grid=3\n",
      "checkpoint directory created: ./model\n",
      "saving model version 0.0\n",
      "checkpoint directory created: ./model\n",
      "saving model version 0.0\n",
      "Successfully created and tested Model4\n"
     ]
    },
    {
     "name": "stderr",
     "output_type": "stream",
     "text": [
      " train_acc_hybrid: 9.95e-01 | val_acc_hybrid: 7.82e-01 |: 100%|███| 120/120 [03:46<00:00,  1.89s/it]\n"
     ]
    },
    {
     "name": "stdout",
     "output_type": "stream",
     "text": [
      "saving model version 0.1\n",
      "✅ Best validation Accuracy: 7.8923e-01 at 44 epoch\n",
      "avg_acc 0.7847985625267029\n",
      "Testing 11 hidden neurons, lamb=1e-07, grid=3\n",
      "checkpoint directory created: ./model\n",
      "saving model version 0.0\n",
      "checkpoint directory created: ./model\n",
      "saving model version 0.0\n",
      "Successfully created and tested Model4\n"
     ]
    },
    {
     "name": "stderr",
     "output_type": "stream",
     "text": [
      " train_acc_hybrid: 9.95e-01 | val_acc_hybrid: 7.75e-01 |: 100%|███| 120/120 [04:15<00:00,  2.13s/it]\n"
     ]
    },
    {
     "name": "stdout",
     "output_type": "stream",
     "text": [
      "saving model version 0.1\n",
      "✅ Best validation Accuracy: 7.8121e-01 at 69 epoch\n",
      "avg_acc 0.7838827967643738\n",
      "Testing 11 hidden neurons, lamb=0.01, grid=4\n",
      "checkpoint directory created: ./model\n",
      "saving model version 0.0\n",
      "checkpoint directory created: ./model\n",
      "saving model version 0.0\n",
      "Successfully created and tested Model4\n"
     ]
    },
    {
     "name": "stderr",
     "output_type": "stream",
     "text": [
      " train_acc_hybrid: 9.91e-01 | val_acc_hybrid: 8.76e-01 |: 100%|███| 120/120 [03:59<00:00,  1.99s/it]\n"
     ]
    },
    {
     "name": "stdout",
     "output_type": "stream",
     "text": [
      "saving model version 0.1\n",
      "✅ Best validation Accuracy: 8.7743e-01 at 17 epoch\n",
      "avg_acc 0.8589743375778198\n",
      "Testing 11 hidden neurons, lamb=0.001, grid=4\n",
      "checkpoint directory created: ./model\n",
      "saving model version 0.0\n",
      "checkpoint directory created: ./model\n",
      "saving model version 0.0\n",
      "Successfully created and tested Model4\n"
     ]
    },
    {
     "name": "stderr",
     "output_type": "stream",
     "text": [
      " train_acc_hybrid: 9.98e-01 | val_acc_hybrid: 8.37e-01 |: 100%|███| 120/120 [04:40<00:00,  2.34s/it]\n"
     ]
    },
    {
     "name": "stdout",
     "output_type": "stream",
     "text": [
      "saving model version 0.1\n",
      "✅ Best validation Accuracy: 8.4536e-01 at 60 epoch\n",
      "avg_acc 0.843406617641449\n",
      "Testing 11 hidden neurons, lamb=0.0001, grid=4\n",
      "checkpoint directory created: ./model\n",
      "saving model version 0.0\n",
      "checkpoint directory created: ./model\n",
      "saving model version 0.0\n",
      "Successfully created and tested Model4\n"
     ]
    },
    {
     "name": "stderr",
     "output_type": "stream",
     "text": [
      " train_acc_hybrid: 9.94e-01 | val_acc_hybrid: 8.08e-01 |: 100%|███| 120/120 [04:26<00:00,  2.22s/it]\n"
     ]
    },
    {
     "name": "stdout",
     "output_type": "stream",
     "text": [
      "saving model version 0.1\n",
      "✅ Best validation Accuracy: 8.1100e-01 at 48 epoch\n",
      "avg_acc 0.8012820482254028\n",
      "Testing 11 hidden neurons, lamb=1e-05, grid=4\n",
      "checkpoint directory created: ./model\n",
      "saving model version 0.0\n",
      "checkpoint directory created: ./model\n",
      "saving model version 0.0\n",
      "Successfully created and tested Model4\n"
     ]
    },
    {
     "name": "stderr",
     "output_type": "stream",
     "text": [
      " train_acc_hybrid: 9.97e-01 | val_acc_hybrid: 8.00e-01 |: 100%|███| 120/120 [04:57<00:00,  2.48s/it]\n"
     ]
    },
    {
     "name": "stdout",
     "output_type": "stream",
     "text": [
      "saving model version 0.1\n",
      "✅ Best validation Accuracy: 8.0985e-01 at 50 epoch\n",
      "avg_acc 0.7976190447807312\n",
      "Testing 11 hidden neurons, lamb=1e-06, grid=4\n",
      "checkpoint directory created: ./model\n",
      "saving model version 0.0\n",
      "checkpoint directory created: ./model\n",
      "saving model version 0.0\n",
      "Successfully created and tested Model4\n"
     ]
    },
    {
     "name": "stderr",
     "output_type": "stream",
     "text": [
      " train_acc_hybrid: 9.95e-01 | val_acc_hybrid: 8.16e-01 |: 100%|███| 120/120 [04:50<00:00,  2.42s/it]\n"
     ]
    },
    {
     "name": "stdout",
     "output_type": "stream",
     "text": [
      "saving model version 0.1\n",
      "✅ Best validation Accuracy: 8.2016e-01 at 84 epoch\n",
      "avg_acc 0.7994505763053894\n",
      "Testing 11 hidden neurons, lamb=1e-07, grid=4\n",
      "checkpoint directory created: ./model\n",
      "saving model version 0.0\n",
      "checkpoint directory created: ./model\n",
      "saving model version 0.0\n",
      "Successfully created and tested Model4\n"
     ]
    },
    {
     "name": "stderr",
     "output_type": "stream",
     "text": [
      " train_acc_hybrid: 9.95e-01 | val_acc_hybrid: 7.93e-01 |: 100%|███| 120/120 [04:32<00:00,  2.27s/it]\n"
     ]
    },
    {
     "name": "stdout",
     "output_type": "stream",
     "text": [
      "saving model version 0.1\n",
      "✅ Best validation Accuracy: 7.9496e-01 at 100 epoch\n",
      "avg_acc 0.7820512652397156\n",
      "Testing 11 hidden neurons, lamb=0.01, grid=5\n",
      "checkpoint directory created: ./model\n",
      "saving model version 0.0\n",
      "checkpoint directory created: ./model\n",
      "saving model version 0.0\n",
      "Successfully created and tested Model4\n"
     ]
    },
    {
     "name": "stderr",
     "output_type": "stream",
     "text": [
      " train_acc_hybrid: 9.89e-01 | val_acc_hybrid: 8.66e-01 |: 100%|███| 120/120 [05:23<00:00,  2.70s/it]\n"
     ]
    },
    {
     "name": "stdout",
     "output_type": "stream",
     "text": [
      "saving model version 0.1\n",
      "✅ Best validation Accuracy: 8.8545e-01 at 18 epoch\n",
      "avg_acc 0.877289354801178\n",
      "Testing 11 hidden neurons, lamb=0.001, grid=5\n",
      "checkpoint directory created: ./model\n",
      "saving model version 0.0\n",
      "checkpoint directory created: ./model\n",
      "saving model version 0.0\n",
      "Successfully created and tested Model4\n"
     ]
    },
    {
     "name": "stderr",
     "output_type": "stream",
     "text": [
      " train_acc_hybrid: 9.95e-01 | val_acc_hybrid: 8.90e-01 |: 100%|███| 120/120 [05:04<00:00,  2.54s/it]\n"
     ]
    },
    {
     "name": "stdout",
     "output_type": "stream",
     "text": [
      "saving model version 0.1\n",
      "✅ Best validation Accuracy: 8.9233e-01 at 53 epoch\n",
      "avg_acc 0.872710645198822\n",
      "Testing 11 hidden neurons, lamb=0.0001, grid=5\n",
      "checkpoint directory created: ./model\n",
      "saving model version 0.0\n",
      "checkpoint directory created: ./model\n",
      "saving model version 0.0\n",
      "Successfully created and tested Model4\n"
     ]
    },
    {
     "name": "stderr",
     "output_type": "stream",
     "text": [
      " train_acc_hybrid: 9.97e-01 | val_acc_hybrid: 8.34e-01 |: 100%|███| 120/120 [05:09<00:00,  2.58s/it]\n"
     ]
    },
    {
     "name": "stdout",
     "output_type": "stream",
     "text": [
      "saving model version 0.1\n",
      "✅ Best validation Accuracy: 8.3620e-01 at 37 epoch\n",
      "avg_acc 0.8516483306884766\n",
      "Testing 11 hidden neurons, lamb=1e-05, grid=5\n",
      "checkpoint directory created: ./model\n",
      "saving model version 0.0\n",
      "checkpoint directory created: ./model\n",
      "saving model version 0.0\n",
      "Successfully created and tested Model4\n"
     ]
    },
    {
     "name": "stderr",
     "output_type": "stream",
     "text": [
      " train_acc_hybrid: 9.96e-01 | val_acc_hybrid: 8.40e-01 |: 100%|███| 120/120 [04:40<00:00,  2.34s/it]\n"
     ]
    },
    {
     "name": "stdout",
     "output_type": "stream",
     "text": [
      "saving model version 0.1\n",
      "✅ Best validation Accuracy: 8.6598e-01 at 34 epoch\n",
      "avg_acc 0.8324176073074341\n",
      "Testing 11 hidden neurons, lamb=1e-06, grid=5\n",
      "checkpoint directory created: ./model\n",
      "saving model version 0.0\n",
      "checkpoint directory created: ./model\n",
      "saving model version 0.0\n",
      "Successfully created and tested Model4\n"
     ]
    },
    {
     "name": "stderr",
     "output_type": "stream",
     "text": [
      " train_acc_hybrid: 9.95e-01 | val_acc_hybrid: 8.38e-01 |: 100%|███| 120/120 [04:46<00:00,  2.38s/it]\n"
     ]
    },
    {
     "name": "stdout",
     "output_type": "stream",
     "text": [
      "saving model version 0.1\n",
      "✅ Best validation Accuracy: 8.3963e-01 at 42 epoch\n",
      "avg_acc 0.843406617641449\n",
      "Testing 11 hidden neurons, lamb=1e-07, grid=5\n",
      "checkpoint directory created: ./model\n",
      "saving model version 0.0\n",
      "checkpoint directory created: ./model\n",
      "saving model version 0.0\n",
      "Successfully created and tested Model4\n"
     ]
    },
    {
     "name": "stderr",
     "output_type": "stream",
     "text": [
      " train_acc_hybrid: 9.95e-01 | val_acc_hybrid: 8.42e-01 |: 100%|███| 120/120 [05:13<00:00,  2.61s/it]\n"
     ]
    },
    {
     "name": "stdout",
     "output_type": "stream",
     "text": [
      "saving model version 0.1\n",
      "✅ Best validation Accuracy: 8.6369e-01 at 38 epoch\n",
      "avg_acc 0.8534798622131348\n",
      "Testing 11 hidden neurons, lamb=0.01, grid=6\n",
      "checkpoint directory created: ./model\n",
      "saving model version 0.0\n",
      "checkpoint directory created: ./model\n",
      "saving model version 0.0\n",
      "Successfully created and tested Model4\n"
     ]
    },
    {
     "name": "stderr",
     "output_type": "stream",
     "text": [
      " train_acc_hybrid: 9.95e-01 | val_acc_hybrid: 9.04e-01 |: 100%|███| 120/120 [05:35<00:00,  2.80s/it]\n"
     ]
    },
    {
     "name": "stdout",
     "output_type": "stream",
     "text": [
      "saving model version 0.1\n",
      "✅ Best validation Accuracy: 9.0607e-01 at 51 epoch\n",
      "avg_acc 0.8956043720245361\n",
      "Testing 11 hidden neurons, lamb=0.001, grid=6\n",
      "checkpoint directory created: ./model\n",
      "saving model version 0.0\n",
      "checkpoint directory created: ./model\n",
      "saving model version 0.0\n",
      "Successfully created and tested Model4\n"
     ]
    },
    {
     "name": "stderr",
     "output_type": "stream",
     "text": [
      " train_acc_hybrid: 9.97e-01 | val_acc_hybrid: 8.63e-01 |: 100%|███| 120/120 [05:42<00:00,  2.85s/it]\n"
     ]
    },
    {
     "name": "stdout",
     "output_type": "stream",
     "text": [
      "saving model version 0.1\n",
      "✅ Best validation Accuracy: 8.7858e-01 at 46 epoch\n",
      "avg_acc 0.8708791136741638\n",
      "Testing 11 hidden neurons, lamb=0.0001, grid=6\n",
      "checkpoint directory created: ./model\n",
      "saving model version 0.0\n",
      "checkpoint directory created: ./model\n",
      "saving model version 0.0\n",
      "Successfully created and tested Model4\n"
     ]
    },
    {
     "name": "stderr",
     "output_type": "stream",
     "text": [
      " train_acc_hybrid: 9.95e-01 | val_acc_hybrid: 7.94e-01 |: 100%|███| 120/120 [05:14<00:00,  2.62s/it]\n"
     ]
    },
    {
     "name": "stdout",
     "output_type": "stream",
     "text": [
      "saving model version 0.1\n",
      "✅ Best validation Accuracy: 8.1214e-01 at 29 epoch\n",
      "avg_acc 0.8086080551147461\n",
      "Testing 11 hidden neurons, lamb=1e-05, grid=6\n",
      "checkpoint directory created: ./model\n",
      "saving model version 0.0\n",
      "checkpoint directory created: ./model\n",
      "saving model version 0.0\n",
      "Successfully created and tested Model4\n"
     ]
    },
    {
     "name": "stderr",
     "output_type": "stream",
     "text": [
      " train_acc_hybrid: 9.92e-01 | val_acc_hybrid: 7.90e-01 |: 100%|███| 120/120 [04:48<00:00,  2.41s/it]\n"
     ]
    },
    {
     "name": "stdout",
     "output_type": "stream",
     "text": [
      "saving model version 0.1\n",
      "✅ Best validation Accuracy: 7.9496e-01 at 57 epoch\n",
      "avg_acc 0.7838827967643738\n",
      "Testing 11 hidden neurons, lamb=1e-06, grid=6\n",
      "checkpoint directory created: ./model\n",
      "saving model version 0.0\n",
      "checkpoint directory created: ./model\n",
      "saving model version 0.0\n",
      "Successfully created and tested Model4\n"
     ]
    },
    {
     "name": "stderr",
     "output_type": "stream",
     "text": [
      " train_acc_hybrid: 9.96e-01 | val_acc_hybrid: 7.80e-01 |: 100%|███| 120/120 [05:48<00:00,  2.90s/it]\n"
     ]
    },
    {
     "name": "stdout",
     "output_type": "stream",
     "text": [
      "saving model version 0.1\n",
      "✅ Best validation Accuracy: 7.8121e-01 at 53 epoch\n",
      "avg_acc 0.7728937864303589\n",
      "Testing 11 hidden neurons, lamb=1e-07, grid=6\n",
      "checkpoint directory created: ./model\n",
      "saving model version 0.0\n",
      "checkpoint directory created: ./model\n",
      "saving model version 0.0\n",
      "Successfully created and tested Model4\n"
     ]
    },
    {
     "name": "stderr",
     "output_type": "stream",
     "text": [
      " train_acc_hybrid: 9.96e-01 | val_acc_hybrid: 7.78e-01 |: 100%|███| 120/120 [05:40<00:00,  2.84s/it]\n"
     ]
    },
    {
     "name": "stdout",
     "output_type": "stream",
     "text": [
      "saving model version 0.1\n",
      "✅ Best validation Accuracy: 7.9840e-01 at 34 epoch\n",
      "avg_acc 0.7728937864303589\n",
      "Testing 11 hidden neurons, lamb=0.01, grid=7\n",
      "checkpoint directory created: ./model\n",
      "saving model version 0.0\n",
      "checkpoint directory created: ./model\n",
      "saving model version 0.0\n",
      "Successfully created and tested Model4\n"
     ]
    },
    {
     "name": "stderr",
     "output_type": "stream",
     "text": [
      " train_acc_hybrid: 9.93e-01 | val_acc_hybrid: 8.75e-01 |: 100%|███| 120/120 [05:52<00:00,  2.94s/it]\n"
     ]
    },
    {
     "name": "stdout",
     "output_type": "stream",
     "text": [
      "saving model version 0.1\n",
      "✅ Best validation Accuracy: 8.7743e-01 at 56 epoch\n",
      "avg_acc 0.8754578828811646\n",
      "Testing 11 hidden neurons, lamb=0.001, grid=7\n",
      "checkpoint directory created: ./model\n",
      "saving model version 0.0\n",
      "checkpoint directory created: ./model\n",
      "saving model version 0.0\n",
      "Successfully created and tested Model4\n"
     ]
    },
    {
     "name": "stderr",
     "output_type": "stream",
     "text": [
      " train_acc_hybrid: 9.99e-01 | val_acc_hybrid: 8.49e-01 |: 100%|███| 120/120 [06:11<00:00,  3.10s/it]\n"
     ]
    },
    {
     "name": "stdout",
     "output_type": "stream",
     "text": [
      "saving model version 0.1\n",
      "✅ Best validation Accuracy: 8.4994e-01 at 65 epoch\n",
      "avg_acc 0.8617216348648071\n",
      "Testing 11 hidden neurons, lamb=0.0001, grid=7\n",
      "checkpoint directory created: ./model\n",
      "saving model version 0.0\n",
      "checkpoint directory created: ./model\n",
      "saving model version 0.0\n",
      "Successfully created and tested Model4\n"
     ]
    },
    {
     "name": "stderr",
     "output_type": "stream",
     "text": [
      " train_acc_hybrid: 9.98e-01 | val_acc_hybrid: 8.01e-01 |: 100%|███| 120/120 [06:14<00:00,  3.12s/it]\n"
     ]
    },
    {
     "name": "stdout",
     "output_type": "stream",
     "text": [
      "saving model version 0.1\n",
      "✅ Best validation Accuracy: 8.0985e-01 at 53 epoch\n",
      "avg_acc 0.8086080551147461\n",
      "Testing 11 hidden neurons, lamb=1e-05, grid=7\n",
      "checkpoint directory created: ./model\n",
      "saving model version 0.0\n",
      "checkpoint directory created: ./model\n",
      "saving model version 0.0\n",
      "Successfully created and tested Model4\n"
     ]
    },
    {
     "name": "stderr",
     "output_type": "stream",
     "text": [
      " train_acc_hybrid: 9.91e-01 | val_acc_hybrid: 7.94e-01 |: 100%|███| 120/120 [04:47<00:00,  2.39s/it]\n"
     ]
    },
    {
     "name": "stdout",
     "output_type": "stream",
     "text": [
      "saving model version 0.1\n",
      "✅ Best validation Accuracy: 7.9381e-01 at 63 epoch\n",
      "avg_acc 0.8058608174324036\n",
      "Testing 11 hidden neurons, lamb=1e-06, grid=7\n",
      "checkpoint directory created: ./model\n",
      "saving model version 0.0\n",
      "checkpoint directory created: ./model\n",
      "saving model version 0.0\n",
      "Successfully created and tested Model4\n"
     ]
    },
    {
     "name": "stderr",
     "output_type": "stream",
     "text": [
      " train_acc_hybrid: 9.97e-01 | val_acc_hybrid: 7.79e-01 |: 100%|███| 120/120 [06:14<00:00,  3.12s/it]\n"
     ]
    },
    {
     "name": "stdout",
     "output_type": "stream",
     "text": [
      "saving model version 0.1\n",
      "✅ Best validation Accuracy: 8.0641e-01 at 21 epoch\n",
      "avg_acc 0.7976190447807312\n",
      "Testing 11 hidden neurons, lamb=1e-07, grid=7\n",
      "checkpoint directory created: ./model\n",
      "saving model version 0.0\n",
      "checkpoint directory created: ./model\n",
      "saving model version 0.0\n",
      "Successfully created and tested Model4\n"
     ]
    },
    {
     "name": "stderr",
     "output_type": "stream",
     "text": [
      " train_acc_hybrid: 9.97e-01 | val_acc_hybrid: 7.71e-01 |: 100%|███| 120/120 [05:52<00:00,  2.94s/it]\n"
     ]
    },
    {
     "name": "stdout",
     "output_type": "stream",
     "text": [
      "saving model version 0.1\n",
      "✅ Best validation Accuracy: 7.8694e-01 at 32 epoch\n",
      "avg_acc 0.7829670310020447\n",
      "Testing 11 hidden neurons, lamb=0.01, grid=8\n",
      "checkpoint directory created: ./model\n",
      "saving model version 0.0\n",
      "checkpoint directory created: ./model\n",
      "saving model version 0.0\n",
      "Successfully created and tested Model4\n"
     ]
    },
    {
     "name": "stderr",
     "output_type": "stream",
     "text": [
      " train_acc_hybrid: 9.95e-01 | val_acc_hybrid: 8.81e-01 |: 100%|███| 120/120 [06:26<00:00,  3.22s/it]\n"
     ]
    },
    {
     "name": "stdout",
     "output_type": "stream",
     "text": [
      "saving model version 0.1\n",
      "✅ Best validation Accuracy: 8.8660e-01 at 24 epoch\n",
      "avg_acc 0.8717948794364929\n",
      "Testing 11 hidden neurons, lamb=0.001, grid=8\n",
      "checkpoint directory created: ./model\n",
      "saving model version 0.0\n",
      "checkpoint directory created: ./model\n",
      "saving model version 0.0\n",
      "Successfully created and tested Model4\n"
     ]
    },
    {
     "name": "stderr",
     "output_type": "stream",
     "text": [
      " train_acc_hybrid: 9.97e-01 | val_acc_hybrid: 8.73e-01 |: 100%|███| 120/120 [06:57<00:00,  3.48s/it]\n"
     ]
    },
    {
     "name": "stdout",
     "output_type": "stream",
     "text": [
      "saving model version 0.1\n",
      "✅ Best validation Accuracy: 8.7858e-01 at 63 epoch\n",
      "avg_acc 0.8543956279754639\n",
      "Testing 11 hidden neurons, lamb=0.0001, grid=8\n",
      "checkpoint directory created: ./model\n",
      "saving model version 0.0\n",
      "checkpoint directory created: ./model\n",
      "saving model version 0.0\n",
      "Successfully created and tested Model4\n"
     ]
    },
    {
     "name": "stderr",
     "output_type": "stream",
     "text": [
      " train_acc_hybrid: 9.96e-01 | val_acc_hybrid: 7.67e-01 |: 100%|███| 120/120 [05:35<00:00,  2.80s/it]\n"
     ]
    },
    {
     "name": "stdout",
     "output_type": "stream",
     "text": [
      "saving model version 0.1\n",
      "✅ Best validation Accuracy: 7.7778e-01 at 30 epoch\n",
      "avg_acc 0.7426739931106567\n",
      "Testing 11 hidden neurons, lamb=1e-05, grid=8\n",
      "checkpoint directory created: ./model\n",
      "saving model version 0.0\n",
      "checkpoint directory created: ./model\n",
      "saving model version 0.0\n",
      "Successfully created and tested Model4\n"
     ]
    },
    {
     "name": "stderr",
     "output_type": "stream",
     "text": [
      " train_acc_hybrid: 9.95e-01 | val_acc_hybrid: 7.82e-01 |: 100%|███| 120/120 [06:24<00:00,  3.20s/it]\n"
     ]
    },
    {
     "name": "stdout",
     "output_type": "stream",
     "text": [
      "saving model version 0.1\n",
      "✅ Best validation Accuracy: 7.9038e-01 at 48 epoch\n",
      "avg_acc 0.7545787692070007\n",
      "Testing 11 hidden neurons, lamb=1e-06, grid=8\n",
      "checkpoint directory created: ./model\n",
      "saving model version 0.0\n",
      "checkpoint directory created: ./model\n",
      "saving model version 0.0\n",
      "Successfully created and tested Model4\n"
     ]
    },
    {
     "name": "stderr",
     "output_type": "stream",
     "text": [
      " train_acc_hybrid: 9.96e-01 | val_acc_hybrid: 7.96e-01 |: 100%|███| 120/120 [06:19<00:00,  3.16s/it]\n"
     ]
    },
    {
     "name": "stdout",
     "output_type": "stream",
     "text": [
      "saving model version 0.1\n",
      "✅ Best validation Accuracy: 7.9840e-01 at 48 epoch\n",
      "avg_acc 0.7820512652397156\n",
      "Testing 11 hidden neurons, lamb=1e-07, grid=8\n",
      "checkpoint directory created: ./model\n",
      "saving model version 0.0\n",
      "checkpoint directory created: ./model\n",
      "saving model version 0.0\n",
      "Successfully created and tested Model4\n"
     ]
    },
    {
     "name": "stderr",
     "output_type": "stream",
     "text": [
      " train_acc_hybrid: 9.96e-01 | val_acc_hybrid: 7.81e-01 |: 100%|███| 120/120 [06:07<00:00,  3.06s/it]\n"
     ]
    },
    {
     "name": "stdout",
     "output_type": "stream",
     "text": [
      "saving model version 0.1\n",
      "✅ Best validation Accuracy: 7.8580e-01 at 32 epoch\n",
      "avg_acc 0.7655677795410156\n",
      "Testing 12 hidden neurons, lamb=0.01, grid=3\n",
      "checkpoint directory created: ./model\n",
      "saving model version 0.0\n",
      "checkpoint directory created: ./model\n",
      "saving model version 0.0\n",
      "Successfully created and tested Model4\n"
     ]
    },
    {
     "name": "stderr",
     "output_type": "stream",
     "text": [
      " train_acc_hybrid: 9.92e-01 | val_acc_hybrid: 9.01e-01 |: 100%|███| 120/120 [04:16<00:00,  2.14s/it]\n"
     ]
    },
    {
     "name": "stdout",
     "output_type": "stream",
     "text": [
      "saving model version 0.1\n",
      "✅ Best validation Accuracy: 9.0493e-01 at 68 epoch\n",
      "avg_acc 0.8800366520881653\n",
      "Testing 12 hidden neurons, lamb=0.001, grid=3\n",
      "checkpoint directory created: ./model\n",
      "saving model version 0.0\n",
      "checkpoint directory created: ./model\n",
      "saving model version 0.0\n",
      "Successfully created and tested Model4\n"
     ]
    },
    {
     "name": "stderr",
     "output_type": "stream",
     "text": [
      " train_acc_hybrid: 9.96e-01 | val_acc_hybrid: 8.55e-01 |: 100%|███| 120/120 [04:07<00:00,  2.06s/it]\n"
     ]
    },
    {
     "name": "stdout",
     "output_type": "stream",
     "text": [
      "saving model version 0.1\n",
      "✅ Best validation Accuracy: 8.6369e-01 at 45 epoch\n",
      "avg_acc 0.8415750861167908\n",
      "Testing 12 hidden neurons, lamb=0.0001, grid=3\n",
      "checkpoint directory created: ./model\n",
      "saving model version 0.0\n",
      "checkpoint directory created: ./model\n",
      "saving model version 0.0\n",
      "Successfully created and tested Model4\n"
     ]
    },
    {
     "name": "stderr",
     "output_type": "stream",
     "text": [
      " train_acc_hybrid: 9.96e-01 | val_acc_hybrid: 8.06e-01 |: 100%|███| 120/120 [04:29<00:00,  2.24s/it]\n"
     ]
    },
    {
     "name": "stdout",
     "output_type": "stream",
     "text": [
      "saving model version 0.1\n",
      "✅ Best validation Accuracy: 8.1214e-01 at 53 epoch\n",
      "avg_acc 0.8141025900840759\n",
      "Testing 12 hidden neurons, lamb=1e-05, grid=3\n",
      "checkpoint directory created: ./model\n",
      "saving model version 0.0\n",
      "checkpoint directory created: ./model\n",
      "saving model version 0.0\n",
      "Successfully created and tested Model4\n"
     ]
    },
    {
     "name": "stderr",
     "output_type": "stream",
     "text": [
      " train_acc_hybrid: 9.95e-01 | val_acc_hybrid: 8.00e-01 |: 100%|███| 120/120 [04:29<00:00,  2.25s/it]\n"
     ]
    },
    {
     "name": "stdout",
     "output_type": "stream",
     "text": [
      "saving model version 0.1\n",
      "✅ Best validation Accuracy: 8.0756e-01 at 67 epoch\n",
      "avg_acc 0.7829670310020447\n",
      "Testing 12 hidden neurons, lamb=1e-06, grid=3\n",
      "checkpoint directory created: ./model\n",
      "saving model version 0.0\n",
      "checkpoint directory created: ./model\n",
      "saving model version 0.0\n",
      "Successfully created and tested Model4\n"
     ]
    },
    {
     "name": "stderr",
     "output_type": "stream",
     "text": [
      " train_acc_hybrid: 9.95e-01 | val_acc_hybrid: 8.12e-01 |: 100%|███| 120/120 [04:06<00:00,  2.05s/it]\n"
     ]
    },
    {
     "name": "stdout",
     "output_type": "stream",
     "text": [
      "saving model version 0.1\n",
      "✅ Best validation Accuracy: 8.1558e-01 at 114 epoch\n",
      "avg_acc 0.8141025900840759\n",
      "Testing 12 hidden neurons, lamb=1e-07, grid=3\n",
      "checkpoint directory created: ./model\n",
      "saving model version 0.0\n",
      "checkpoint directory created: ./model\n",
      "saving model version 0.0\n",
      "Successfully created and tested Model4\n"
     ]
    },
    {
     "name": "stderr",
     "output_type": "stream",
     "text": [
      " train_acc_hybrid: 9.93e-01 | val_acc_hybrid: 7.64e-01 |: 100%|███| 120/120 [04:18<00:00,  2.16s/it]\n"
     ]
    },
    {
     "name": "stdout",
     "output_type": "stream",
     "text": [
      "saving model version 0.1\n",
      "✅ Best validation Accuracy: 7.8007e-01 at 23 epoch\n",
      "avg_acc 0.767399251461029\n",
      "Testing 12 hidden neurons, lamb=0.01, grid=4\n",
      "checkpoint directory created: ./model\n",
      "saving model version 0.0\n",
      "checkpoint directory created: ./model\n",
      "saving model version 0.0\n",
      "Successfully created and tested Model4\n"
     ]
    },
    {
     "name": "stderr",
     "output_type": "stream",
     "text": [
      " train_acc_hybrid: 9.93e-01 | val_acc_hybrid: 8.88e-01 |: 100%|███| 120/120 [04:49<00:00,  2.42s/it]\n"
     ]
    },
    {
     "name": "stdout",
     "output_type": "stream",
     "text": [
      "saving model version 0.1\n",
      "✅ Best validation Accuracy: 8.9805e-01 at 32 epoch\n",
      "avg_acc 0.8681318759918213\n",
      "Testing 12 hidden neurons, lamb=0.001, grid=4\n",
      "checkpoint directory created: ./model\n",
      "saving model version 0.0\n",
      "checkpoint directory created: ./model\n",
      "saving model version 0.0\n",
      "Successfully created and tested Model4\n"
     ]
    },
    {
     "name": "stderr",
     "output_type": "stream",
     "text": [
      " train_acc_hybrid: 9.99e-01 | val_acc_hybrid: 8.35e-01 |: 100%|███| 120/120 [05:50<00:00,  2.92s/it]\n"
     ]
    },
    {
     "name": "stdout",
     "output_type": "stream",
     "text": [
      "saving model version 0.1\n",
      "✅ Best validation Accuracy: 8.3849e-01 at 97 epoch\n",
      "avg_acc 0.8296703100204468\n",
      "Testing 12 hidden neurons, lamb=0.0001, grid=4\n",
      "checkpoint directory created: ./model\n",
      "saving model version 0.0\n",
      "checkpoint directory created: ./model\n",
      "saving model version 0.0\n",
      "Successfully created and tested Model4\n"
     ]
    },
    {
     "name": "stderr",
     "output_type": "stream",
     "text": [
      " train_acc_hybrid: 9.94e-01 | val_acc_hybrid: 7.67e-01 |: 100%|███| 120/120 [05:20<00:00,  2.67s/it]\n"
     ]
    },
    {
     "name": "stdout",
     "output_type": "stream",
     "text": [
      "saving model version 0.1\n",
      "✅ Best validation Accuracy: 7.7892e-01 at 27 epoch\n",
      "avg_acc 0.75\n",
      "Testing 12 hidden neurons, lamb=1e-05, grid=4\n",
      "checkpoint directory created: ./model\n",
      "saving model version 0.0\n",
      "checkpoint directory created: ./model\n",
      "saving model version 0.0\n",
      "Successfully created and tested Model4\n"
     ]
    },
    {
     "name": "stderr",
     "output_type": "stream",
     "text": [
      " train_acc_hybrid: 9.95e-01 | val_acc_hybrid: 7.54e-01 |: 100%|███| 120/120 [05:13<00:00,  2.62s/it]\n"
     ]
    },
    {
     "name": "stdout",
     "output_type": "stream",
     "text": [
      "saving model version 0.1\n",
      "✅ Best validation Accuracy: 7.6747e-01 at 45 epoch\n",
      "avg_acc 0.7426739931106567\n",
      "Testing 12 hidden neurons, lamb=1e-06, grid=4\n",
      "checkpoint directory created: ./model\n",
      "saving model version 0.0\n",
      "checkpoint directory created: ./model\n",
      "saving model version 0.0\n",
      "Successfully created and tested Model4\n"
     ]
    },
    {
     "name": "stderr",
     "output_type": "stream",
     "text": [
      " train_acc_hybrid: 9.94e-01 | val_acc_hybrid: 7.48e-01 |: 100%|███| 120/120 [05:24<00:00,  2.70s/it]\n"
     ]
    },
    {
     "name": "stdout",
     "output_type": "stream",
     "text": [
      "saving model version 0.1\n",
      "✅ Best validation Accuracy: 7.6861e-01 at 23 epoch\n",
      "avg_acc 0.7536630034446716\n",
      "Testing 12 hidden neurons, lamb=1e-07, grid=4\n",
      "checkpoint directory created: ./model\n",
      "saving model version 0.0\n",
      "checkpoint directory created: ./model\n",
      "saving model version 0.0\n",
      "Successfully created and tested Model4\n"
     ]
    },
    {
     "name": "stderr",
     "output_type": "stream",
     "text": [
      " train_acc_hybrid: 9.95e-01 | val_acc_hybrid: 7.66e-01 |: 100%|███| 120/120 [05:44<00:00,  2.87s/it]\n"
     ]
    },
    {
     "name": "stdout",
     "output_type": "stream",
     "text": [
      "saving model version 0.1\n",
      "✅ Best validation Accuracy: 7.7549e-01 at 55 epoch\n",
      "avg_acc 0.7646520137786865\n",
      "Testing 12 hidden neurons, lamb=0.01, grid=5\n",
      "checkpoint directory created: ./model\n",
      "saving model version 0.0\n",
      "checkpoint directory created: ./model\n",
      "saving model version 0.0\n",
      "Successfully created and tested Model4\n"
     ]
    },
    {
     "name": "stderr",
     "output_type": "stream",
     "text": [
      " train_acc_hybrid: 9.93e-01 | val_acc_hybrid: 8.73e-01 |: 100%|███| 120/120 [05:48<00:00,  2.90s/it]\n"
     ]
    },
    {
     "name": "stdout",
     "output_type": "stream",
     "text": [
      "saving model version 0.1\n",
      "✅ Best validation Accuracy: 8.8660e-01 at 38 epoch\n",
      "avg_acc 0.8809523582458496\n",
      "Testing 12 hidden neurons, lamb=0.001, grid=5\n",
      "checkpoint directory created: ./model\n",
      "saving model version 0.0\n",
      "checkpoint directory created: ./model\n",
      "saving model version 0.0\n",
      "Successfully created and tested Model4\n"
     ]
    },
    {
     "name": "stderr",
     "output_type": "stream",
     "text": [
      " train_acc_hybrid: 9.98e-01 | val_acc_hybrid: 8.50e-01 |: 100%|███| 120/120 [06:06<00:00,  3.05s/it]\n"
     ]
    },
    {
     "name": "stdout",
     "output_type": "stream",
     "text": [
      "saving model version 0.1\n",
      "✅ Best validation Accuracy: 8.5682e-01 at 70 epoch\n",
      "avg_acc 0.8580586314201355\n",
      "Testing 12 hidden neurons, lamb=0.0001, grid=5\n",
      "checkpoint directory created: ./model\n",
      "saving model version 0.0\n",
      "checkpoint directory created: ./model\n",
      "saving model version 0.0\n",
      "Successfully created and tested Model4\n"
     ]
    },
    {
     "name": "stderr",
     "output_type": "stream",
     "text": [
      " train_acc_hybrid: 9.95e-01 | val_acc_hybrid: 7.61e-01 |: 100%|███| 120/120 [04:36<00:00,  2.31s/it]\n"
     ]
    },
    {
     "name": "stdout",
     "output_type": "stream",
     "text": [
      "saving model version 0.1\n",
      "✅ Best validation Accuracy: 7.7663e-01 at 35 epoch\n",
      "avg_acc 0.7829670310020447\n",
      "Testing 12 hidden neurons, lamb=1e-05, grid=5\n",
      "checkpoint directory created: ./model\n",
      "saving model version 0.0\n",
      "checkpoint directory created: ./model\n",
      "saving model version 0.0\n",
      "Successfully created and tested Model4\n"
     ]
    },
    {
     "name": "stderr",
     "output_type": "stream",
     "text": [
      " train_acc_hybrid: 9.94e-01 | val_acc_hybrid: 8.00e-01 |: 100%|███| 120/120 [04:59<00:00,  2.50s/it]\n"
     ]
    },
    {
     "name": "stdout",
     "output_type": "stream",
     "text": [
      "saving model version 0.1\n",
      "✅ Best validation Accuracy: 8.0641e-01 at 39 epoch\n",
      "avg_acc 0.8021978139877319\n",
      "Testing 12 hidden neurons, lamb=1e-06, grid=5\n",
      "checkpoint directory created: ./model\n",
      "saving model version 0.0\n",
      "checkpoint directory created: ./model\n",
      "saving model version 0.0\n",
      "Successfully created and tested Model4\n"
     ]
    },
    {
     "name": "stderr",
     "output_type": "stream",
     "text": [
      " train_acc_hybrid: 9.96e-01 | val_acc_hybrid: 7.81e-01 |: 100%|███| 120/120 [05:23<00:00,  2.70s/it]\n"
     ]
    },
    {
     "name": "stdout",
     "output_type": "stream",
     "text": [
      "saving model version 0.1\n",
      "✅ Best validation Accuracy: 7.9152e-01 at 63 epoch\n",
      "avg_acc 0.7847985625267029\n",
      "Testing 12 hidden neurons, lamb=1e-07, grid=5\n",
      "checkpoint directory created: ./model\n",
      "saving model version 0.0\n",
      "checkpoint directory created: ./model\n",
      "saving model version 0.0\n",
      "Successfully created and tested Model4\n"
     ]
    },
    {
     "name": "stderr",
     "output_type": "stream",
     "text": [
      " train_acc_hybrid: 9.96e-01 | val_acc_hybrid: 7.89e-01 |: 100%|███| 120/120 [05:27<00:00,  2.73s/it]\n"
     ]
    },
    {
     "name": "stdout",
     "output_type": "stream",
     "text": [
      "saving model version 0.1\n",
      "✅ Best validation Accuracy: 7.9611e-01 at 59 epoch\n",
      "avg_acc 0.7902930378913879\n",
      "Testing 12 hidden neurons, lamb=0.01, grid=6\n",
      "checkpoint directory created: ./model\n",
      "saving model version 0.0\n",
      "checkpoint directory created: ./model\n",
      "saving model version 0.0\n",
      "Successfully created and tested Model4\n"
     ]
    },
    {
     "name": "stderr",
     "output_type": "stream",
     "text": [
      " train_acc_hybrid: 9.92e-01 | val_acc_hybrid: 8.65e-01 |: 100%|███| 120/120 [05:05<00:00,  2.54s/it]\n"
     ]
    },
    {
     "name": "stdout",
     "output_type": "stream",
     "text": [
      "saving model version 0.1\n",
      "✅ Best validation Accuracy: 8.6483e-01 at 68 epoch\n",
      "avg_acc 0.8479853272438049\n",
      "Testing 12 hidden neurons, lamb=0.001, grid=6\n",
      "checkpoint directory created: ./model\n",
      "saving model version 0.0\n",
      "checkpoint directory created: ./model\n",
      "saving model version 0.0\n",
      "Successfully created and tested Model4\n"
     ]
    },
    {
     "name": "stderr",
     "output_type": "stream",
     "text": [
      " train_acc_hybrid: 9.97e-01 | val_acc_hybrid: 8.98e-01 |: 100%|███| 120/120 [05:28<00:00,  2.74s/it]\n"
     ]
    },
    {
     "name": "stdout",
     "output_type": "stream",
     "text": [
      "saving model version 0.1\n",
      "✅ Best validation Accuracy: 9.0263e-01 at 59 epoch\n",
      "avg_acc 0.8873626589775085\n",
      "Testing 12 hidden neurons, lamb=0.0001, grid=6\n",
      "checkpoint directory created: ./model\n",
      "saving model version 0.0\n",
      "checkpoint directory created: ./model\n",
      "saving model version 0.0\n",
      "Successfully created and tested Model4\n"
     ]
    },
    {
     "name": "stderr",
     "output_type": "stream",
     "text": [
      " train_acc_hybrid: 9.96e-01 | val_acc_hybrid: 7.87e-01 |: 100%|███| 120/120 [05:26<00:00,  2.72s/it]\n"
     ]
    },
    {
     "name": "stdout",
     "output_type": "stream",
     "text": [
      "saving model version 0.1\n",
      "✅ Best validation Accuracy: 7.8923e-01 at 74 epoch\n",
      "avg_acc 0.779304027557373\n",
      "Testing 12 hidden neurons, lamb=1e-05, grid=6\n",
      "checkpoint directory created: ./model\n",
      "saving model version 0.0\n",
      "checkpoint directory created: ./model\n",
      "saving model version 0.0\n",
      "Successfully created and tested Model4\n"
     ]
    },
    {
     "name": "stderr",
     "output_type": "stream",
     "text": [
      " train_acc_hybrid: 9.95e-01 | val_acc_hybrid: 8.11e-01 |: 100%|███| 120/120 [05:54<00:00,  2.95s/it]\n"
     ]
    },
    {
     "name": "stdout",
     "output_type": "stream",
     "text": [
      "saving model version 0.1\n",
      "✅ Best validation Accuracy: 8.1100e-01 at 119 epoch\n",
      "avg_acc 0.8021978139877319\n",
      "Testing 12 hidden neurons, lamb=1e-06, grid=6\n",
      "checkpoint directory created: ./model\n",
      "saving model version 0.0\n",
      "checkpoint directory created: ./model\n",
      "saving model version 0.0\n",
      "Successfully created and tested Model4\n"
     ]
    },
    {
     "name": "stderr",
     "output_type": "stream",
     "text": [
      " train_acc_hybrid: 9.95e-01 | val_acc_hybrid: 7.88e-01 |: 100%|███| 120/120 [05:39<00:00,  2.83s/it]\n"
     ]
    },
    {
     "name": "stdout",
     "output_type": "stream",
     "text": [
      "saving model version 0.1\n",
      "✅ Best validation Accuracy: 8.0069e-01 at 48 epoch\n",
      "avg_acc 0.8003662824630737\n",
      "Testing 12 hidden neurons, lamb=1e-07, grid=6\n",
      "checkpoint directory created: ./model\n",
      "saving model version 0.0\n",
      "checkpoint directory created: ./model\n",
      "saving model version 0.0\n",
      "Successfully created and tested Model4\n"
     ]
    },
    {
     "name": "stderr",
     "output_type": "stream",
     "text": [
      " train_acc_hybrid: 9.97e-01 | val_acc_hybrid: 8.20e-01 |: 100%|███| 120/120 [05:50<00:00,  2.92s/it]\n"
     ]
    },
    {
     "name": "stdout",
     "output_type": "stream",
     "text": [
      "saving model version 0.1\n",
      "✅ Best validation Accuracy: 8.2474e-01 at 83 epoch\n",
      "avg_acc 0.8122710585594177\n",
      "Testing 12 hidden neurons, lamb=0.01, grid=7\n",
      "checkpoint directory created: ./model\n",
      "saving model version 0.0\n",
      "checkpoint directory created: ./model\n",
      "saving model version 0.0\n",
      "Successfully created and tested Model4\n"
     ]
    },
    {
     "name": "stderr",
     "output_type": "stream",
     "text": [
      " train_acc_hybrid: 9.91e-01 | val_acc_hybrid: 8.80e-01 |: 100%|███| 120/120 [06:11<00:00,  3.10s/it]\n"
     ]
    },
    {
     "name": "stdout",
     "output_type": "stream",
     "text": [
      "saving model version 0.1\n",
      "✅ Best validation Accuracy: 8.8545e-01 at 25 epoch\n",
      "avg_acc 0.8736263513565063\n",
      "Testing 12 hidden neurons, lamb=0.001, grid=7\n",
      "checkpoint directory created: ./model\n",
      "saving model version 0.0\n",
      "checkpoint directory created: ./model\n",
      "saving model version 0.0\n",
      "Successfully created and tested Model4\n"
     ]
    },
    {
     "name": "stderr",
     "output_type": "stream",
     "text": [
      " train_acc_hybrid: 9.97e-01 | val_acc_hybrid: 8.65e-01 |: 100%|███| 120/120 [05:39<00:00,  2.83s/it]\n"
     ]
    },
    {
     "name": "stdout",
     "output_type": "stream",
     "text": [
      "saving model version 0.1\n",
      "✅ Best validation Accuracy: 8.7171e-01 at 48 epoch\n",
      "avg_acc 0.8708791136741638\n",
      "Testing 12 hidden neurons, lamb=0.0001, grid=7\n",
      "checkpoint directory created: ./model\n",
      "saving model version 0.0\n",
      "checkpoint directory created: ./model\n",
      "saving model version 0.0\n",
      "Successfully created and tested Model4\n"
     ]
    },
    {
     "name": "stderr",
     "output_type": "stream",
     "text": [
      " train_acc_hybrid: 9.97e-01 | val_acc_hybrid: 7.78e-01 |: 100%|███| 120/120 [06:16<00:00,  3.14s/it]\n"
     ]
    },
    {
     "name": "stdout",
     "output_type": "stream",
     "text": [
      "saving model version 0.1\n",
      "✅ Best validation Accuracy: 7.8580e-01 at 45 epoch\n",
      "avg_acc 0.7838827967643738\n",
      "Testing 12 hidden neurons, lamb=1e-05, grid=7\n",
      "checkpoint directory created: ./model\n",
      "saving model version 0.0\n",
      "checkpoint directory created: ./model\n",
      "saving model version 0.0\n",
      "Successfully created and tested Model4\n"
     ]
    },
    {
     "name": "stderr",
     "output_type": "stream",
     "text": [
      " train_acc_hybrid: 9.96e-01 | val_acc_hybrid: 7.93e-01 |: 100%|███| 120/120 [05:47<00:00,  2.89s/it]\n"
     ]
    },
    {
     "name": "stdout",
     "output_type": "stream",
     "text": [
      "saving model version 0.1\n",
      "✅ Best validation Accuracy: 7.9725e-01 at 43 epoch\n",
      "avg_acc 0.8058608174324036\n",
      "Testing 12 hidden neurons, lamb=1e-06, grid=7\n",
      "checkpoint directory created: ./model\n",
      "saving model version 0.0\n",
      "checkpoint directory created: ./model\n",
      "saving model version 0.0\n",
      "Successfully created and tested Model4\n"
     ]
    },
    {
     "name": "stderr",
     "output_type": "stream",
     "text": [
      " train_acc_hybrid: 9.97e-01 | val_acc_hybrid: 8.20e-01 |: 100%|███| 120/120 [05:47<00:00,  2.90s/it]\n"
     ]
    },
    {
     "name": "stdout",
     "output_type": "stream",
     "text": [
      "saving model version 0.1\n",
      "✅ Best validation Accuracy: 8.2474e-01 at 105 epoch\n",
      "avg_acc 0.8040292859077454\n",
      "Testing 12 hidden neurons, lamb=1e-07, grid=7\n",
      "checkpoint directory created: ./model\n",
      "saving model version 0.0\n",
      "checkpoint directory created: ./model\n",
      "saving model version 0.0\n",
      "Successfully created and tested Model4\n"
     ]
    },
    {
     "name": "stderr",
     "output_type": "stream",
     "text": [
      " train_acc_hybrid: 9.95e-01 | val_acc_hybrid: 8.17e-01 |: 100%|███| 120/120 [05:29<00:00,  2.75s/it]\n"
     ]
    },
    {
     "name": "stdout",
     "output_type": "stream",
     "text": [
      "saving model version 0.1\n",
      "✅ Best validation Accuracy: 8.1787e-01 at 87 epoch\n",
      "avg_acc 0.7930402755737305\n",
      "Testing 12 hidden neurons, lamb=0.01, grid=8\n",
      "checkpoint directory created: ./model\n",
      "saving model version 0.0\n",
      "checkpoint directory created: ./model\n",
      "saving model version 0.0\n",
      "Successfully created and tested Model4\n"
     ]
    },
    {
     "name": "stderr",
     "output_type": "stream",
     "text": [
      " train_acc_hybrid: 9.89e-01 | val_acc_hybrid: 8.79e-01 |: 100%|███| 120/120 [06:52<00:00,  3.44s/it]\n"
     ]
    },
    {
     "name": "stdout",
     "output_type": "stream",
     "text": [
      "saving model version 0.1\n",
      "✅ Best validation Accuracy: 8.8431e-01 at 52 epoch\n",
      "avg_acc 0.8827838897705078\n",
      "Testing 12 hidden neurons, lamb=0.001, grid=8\n",
      "checkpoint directory created: ./model\n",
      "saving model version 0.0\n",
      "checkpoint directory created: ./model\n",
      "saving model version 0.0\n",
      "Successfully created and tested Model4\n"
     ]
    },
    {
     "name": "stderr",
     "output_type": "stream",
     "text": [
      " train_acc_hybrid: 9.99e-01 | val_acc_hybrid: 8.81e-01 |: 100%|███| 120/120 [06:54<00:00,  3.45s/it]\n"
     ]
    },
    {
     "name": "stdout",
     "output_type": "stream",
     "text": [
      "saving model version 0.1\n",
      "✅ Best validation Accuracy: 8.8202e-01 at 68 epoch\n",
      "avg_acc 0.8589743375778198\n",
      "Testing 12 hidden neurons, lamb=0.0001, grid=8\n",
      "checkpoint directory created: ./model\n",
      "saving model version 0.0\n",
      "checkpoint directory created: ./model\n",
      "saving model version 0.0\n",
      "Successfully created and tested Model4\n"
     ]
    },
    {
     "name": "stderr",
     "output_type": "stream",
     "text": [
      " train_acc_hybrid: 9.96e-01 | val_acc_hybrid: 8.04e-01 |: 100%|███| 120/120 [06:26<00:00,  3.22s/it]\n"
     ]
    },
    {
     "name": "stdout",
     "output_type": "stream",
     "text": [
      "saving model version 0.1\n",
      "✅ Best validation Accuracy: 8.0871e-01 at 52 epoch\n",
      "avg_acc 0.778388261795044\n",
      "Testing 12 hidden neurons, lamb=1e-05, grid=8\n",
      "checkpoint directory created: ./model\n",
      "saving model version 0.0\n",
      "checkpoint directory created: ./model\n",
      "saving model version 0.0\n",
      "Successfully created and tested Model4\n"
     ]
    },
    {
     "name": "stderr",
     "output_type": "stream",
     "text": [
      " train_acc_hybrid: 9.93e-01 | val_acc_hybrid: 7.84e-01 |: 100%|███| 120/120 [05:50<00:00,  2.92s/it]\n"
     ]
    },
    {
     "name": "stdout",
     "output_type": "stream",
     "text": [
      "saving model version 0.1\n",
      "✅ Best validation Accuracy: 7.8809e-01 at 31 epoch\n",
      "avg_acc 0.7774725556373596\n",
      "Testing 12 hidden neurons, lamb=1e-06, grid=8\n",
      "checkpoint directory created: ./model\n",
      "saving model version 0.0\n",
      "checkpoint directory created: ./model\n",
      "saving model version 0.0\n",
      "Successfully created and tested Model4\n"
     ]
    },
    {
     "name": "stderr",
     "output_type": "stream",
     "text": [
      " train_acc_hybrid: 9.95e-01 | val_acc_hybrid: 7.85e-01 |: 100%|███| 120/120 [06:36<00:00,  3.30s/it]\n"
     ]
    },
    {
     "name": "stdout",
     "output_type": "stream",
     "text": [
      "saving model version 0.1\n",
      "✅ Best validation Accuracy: 7.8923e-01 at 44 epoch\n",
      "avg_acc 0.7976190447807312\n",
      "Testing 12 hidden neurons, lamb=1e-07, grid=8\n",
      "checkpoint directory created: ./model\n",
      "saving model version 0.0\n",
      "checkpoint directory created: ./model\n",
      "saving model version 0.0\n",
      "Successfully created and tested Model4\n"
     ]
    },
    {
     "name": "stderr",
     "output_type": "stream",
     "text": [
      " train_acc_hybrid: 9.96e-01 | val_acc_hybrid: 7.93e-01 |: 100%|███| 120/120 [06:51<00:00,  3.43s/it]\n"
     ]
    },
    {
     "name": "stdout",
     "output_type": "stream",
     "text": [
      "saving model version 0.1\n",
      "✅ Best validation Accuracy: 7.9611e-01 at 99 epoch\n",
      "avg_acc 0.7838827967643738\n",
      "\n",
      "✅ Top 5 Configurations:\n",
      "1. width=[24, 9, 1], grid=6, lamb=0.01| best_epoch=28 | avg_acc=0.89927\n",
      "2. width=[24, 9, 1], grid=7, lamb=0.001| best_epoch=60 | avg_acc=0.89560\n",
      "3. width=[24, 11, 1], grid=6, lamb=0.01| best_epoch=51 | avg_acc=0.89560\n",
      "4. width=[24, 8, 1], grid=5, lamb=0.01| best_epoch=53 | avg_acc=0.89103\n",
      "5. width=[24, 6, 1], grid=8, lamb=0.01| best_epoch=59 | avg_acc=0.88919\n"
     ]
    }
   ],
   "source": [
    "grid_search_kan_hybrid(dataset, Model4, max_steps=120)"
   ]
  },
  {
   "cell_type": "markdown",
   "id": "a4b1e7a0-b8ba-4b90-857f-00bb5e989131",
   "metadata": {},
   "source": [
    "# ✅ Top 5 Configurations:\r\n",
    "1. width=[24, 9, 1], grid=6, lamb=0.01| best_epoch=28 | avg_acc=0.89927\r\n",
    "2. width=[24, 9, 1], grid=7, lamb=0.001| best_epoch=60 | avg_acc=0.89560\r\n",
    "3. width=[24, 11, 1], grid=6, lamb=0.01| best_epoch=51 | avg_acc=0.89560\r\n",
    "4. width=[24, 8, 1], grid=5, lamb=0.01| best_epoch=53 | avg_acc=0.89103\r\n",
    "5. width=[24, 6, 1], grid=8, lamb=0.01| best_epoch=59 | avg_acc=0.8891923696"
   ]
  },
  {
   "cell_type": "markdown",
   "id": "4bcb62f9",
   "metadata": {},
   "source": [
    "#"
   ]
  },
  {
   "cell_type": "markdown",
   "id": "9629993c-fa4a-4dc5-bbd9-d58bbfafebcb",
   "metadata": {},
   "source": [
    "# Bonus Hybrid"
   ]
  },
  {
   "cell_type": "code",
   "execution_count": null,
   "id": "5a7c1ae6-65c5-48a1-985b-4ea08cf660c6",
   "metadata": {},
   "outputs": [],
   "source": [
    "class Model5(nn.Module):\n",
    "    def __init__(self, imgs_shape, kan_grid=kan_grid, device=device):\n",
    "        super(Model5, self).__init__()\n",
    "        # CNN branch\n",
    "        self.cnn_branch = nn.Sequential(\n",
    "            nn.Conv2d(imgs_shape[0], 16, kernel_size=2, padding=1),\n",
    "            nn.LayerNorm([16, 9, 9]),\n",
    "            nn.ReLU(),\n",
    "            nn.MaxPool2d(2, 2),\n",
    "            nn.Conv2d(16, 32, kernel_size=2, padding=1),\n",
    "            nn.LayerNorm([32, 5, 5]),\n",
    "            nn.Sigmoid(),\n",
    "            #nn.MaxPool2d(2),\n",
    "            nn.Flatten()\n",
    "        ).to(device)\n",
    "\n",
    "        # Calculate the size of the flattened output\n",
    "        self.flat_size = self._get_flat_size(imgs_shape)\n",
    "\n",
    "        # Final MLP layers\n",
    "        self.final_kan = KAN(\n",
    "            width=[self.flat_size, 1],\n",
    "            grid=kan_grid,\n",
    "            k=3,\n",
    "            seed=SEED,\n",
    "            device=device\n",
    "        )\n",
    "\n",
    "        self.device = device\n",
    "\n",
    "\n",
    "    def _get_flat_size(self, imgs_shape):\n",
    "        # Forward pass with dummy input to calculate flat size\n",
    "        dummy_input = torch.zeros(4, *imgs_shape, device=device)\n",
    "        x = self.cnn_branch(dummy_input)\n",
    "        return x.size(1)\n",
    "\n",
    "    def get_concat_output(self, mlp_input, cnn_input):\n",
    "        # Ensure inputs are moved to the correct device\n",
    "        kan_input = mlp_input.to(self.device)\n",
    "        cnn_input = cnn_input.to(self.device)\n",
    "        \n",
    "        cnn_output = self.cnn_branch(cnn_input)  # Process image input\n",
    "        kan_output = self.m_kan(kan_input)  # Process numerical input\n",
    "        \n",
    "        return torch.cat((kan_output, cnn_output), dim=1)\n",
    "\n",
    "    \n",
    "    def forward(self, cnn_input):\n",
    "        cnn_input = cnn_input.to(self.device)\n",
    "        cnn_output = self.cnn_branch(cnn_input)  # Process image input\n",
    "        \n",
    "        #concat_output = self.get_concat_output(mlp_input, cnn_input)\n",
    "        return self.final_kan(cnn_output)"
   ]
  },
  {
   "cell_type": "code",
   "execution_count": null,
   "id": "49e3415c-614a-4d20-bb45-f3afa4a0e984",
   "metadata": {},
   "outputs": [],
   "source": [
    "def fit_hybrid_dataloaders2(model, \n",
    "                           dataset,\n",
    "                           opt=\"Adam\", \n",
    "                           steps=100, \n",
    "                           log=1, \n",
    "                           lamb=0., \n",
    "                           lamb_l1=1., \n",
    "                           lamb_entropy=2., \n",
    "                           lamb_coef=0., \n",
    "                           lamb_coefdiff=0., \n",
    "                           update_grid=True, \n",
    "                           grid_update_num=10, \n",
    "                           loss_fn=None, \n",
    "                           lr=1., \n",
    "                           start_grid_update_step=-1, \n",
    "                           stop_grid_update_step=50, \n",
    "                           batch=-1,\n",
    "                           metrics=None, \n",
    "                           save_fig=False, \n",
    "                           in_vars=None, \n",
    "                           out_vars=None, \n",
    "                           beta=3, \n",
    "                           save_fig_freq=1, \n",
    "                           img_folder='./video', \n",
    "                           singularity_avoiding=False, \n",
    "                           y_th=1000., \n",
    "                           reg_metric='edge_forward_spline_n', \n",
    "                           display_metrics=None,\n",
    "                           sum_f_reg=True):\n",
    "    \"\"\"\n",
    "    Trains the hybrid model (with a KAN branch and a CNN branch) using a steps-based loop\n",
    "    adapted from KAN.fit(), with grid updates and regularization.\n",
    "    \n",
    "    Instead of a single dataset dict, this function accepts three DataLoaders:\n",
    "        - train_loader: provides (mlp, img, target) for training\n",
    "        - val_loader: provides (mlp, img, target) for evaluation during training\n",
    "        - test_loader: provides (mlp, img, target) for validation\n",
    "\n",
    "    Internally, the function combines each loader into a dataset dictionary.\n",
    "    \n",
    "    Returns:\n",
    "        results: dictionary containing training loss, evaluation loss, regularization values,\n",
    "                 and any additional metrics recorded during training.\n",
    "    \"\"\"\n",
    "    #device = next(model.parameters()).device\n",
    "\n",
    "    # Warn if regularization is requested but model's internal flag isn't enabled.\n",
    "    if lamb > 0. and not getattr(model.final_kan, \"save_act\", False):\n",
    "        print(\"setting lamb=0. If you want to set lamb > 0, set model.final_kan.save_act=True\")\n",
    "    \n",
    "    # Disable symbolic processing for training if applicable (KAN internal logic)\n",
    "    if hasattr(model.final_kan, \"disable_symbolic_in_fit\"):\n",
    "        #old_save_act, old_symbolic_enabled = model.m_kan.disable_symbolic_in_fit(lamb)\n",
    "        old_save_act, old_symbolic_enabled = model.final_kan.disable_symbolic_in_fit(lamb)\n",
    "    else:\n",
    "        old_save_act, old_symbolic_enabled = None, None\n",
    "\n",
    "    pbar = tqdm(range(steps), desc='Training', ncols=100)\n",
    "\n",
    "    # Default loss function (mean squared error) if not provided\n",
    "    if loss_fn is None:\n",
    "        loss_fn = lambda x, y: torch.mean((x - y) ** 2)\n",
    "\n",
    "    # Determine grid update frequency\n",
    "    grid_update_freq = int(stop_grid_update_step / grid_update_num) if grid_update_num > 0 else 1\n",
    "\n",
    "    # Determine total number of training examples\n",
    "    n_train = dataset[\"train_img\"].shape[0]\n",
    "    n_eval  = dataset[\"val_img\"].shape[0]  # using val set for evaluation during training\n",
    "    batch_size = n_train if batch == -1 or batch > n_train else batch\n",
    "\n",
    "    # Set up optimizer: choose between Adam and LBFGS (removed tolerance_ys)\n",
    "    if opt == \"Adam\":\n",
    "        optimizer = optim.Adam(model.parameters(), lr=lr)\n",
    "    elif opt == \"LBFGS\":\n",
    "        optimizer = LBFGS(model.parameters(), lr=lr, history_size=10, \n",
    "                          line_search_fn=\"strong_wolfe\", \n",
    "                          tolerance_grad=1e-32, \n",
    "                          tolerance_change=1e-32)\n",
    "    else:\n",
    "        raise ValueError(\"Optimizer not recognized. Use 'Adam' or 'LBFGS'.\")\n",
    "\n",
    "    # Prepare results dictionary.\n",
    "    results = {\n",
    "        'train_loss': [],\n",
    "        'eval_loss': [],\n",
    "        'reg': []\n",
    "    }\n",
    "\n",
    "    \n",
    "    if metrics is not None:\n",
    "        for metric in metrics:\n",
    "            results[metric.__name__] = []\n",
    "\n",
    "    best_model_state = None\n",
    "    best_epoch = -1\n",
    "    best_loss = float('inf')\n",
    "\n",
    "    for step in pbar:\n",
    "        # Randomly sample indices for a mini-batch from the training set.\n",
    "        train_indices = np.random.choice(n_train, batch_size, replace=False)\n",
    "        # Use full evaluation set for evaluation; you can also sample if desired.\n",
    "        eval_indices = np.arange(n_eval)\n",
    "\n",
    "        # Closure for LBFGS\n",
    "        def closure():\n",
    "            optimizer.zero_grad()\n",
    "            #mlp_batch = dataset[\"train_input\"][train_indices]\n",
    "            img_batch = dataset[\"train_img\"][train_indices]\n",
    "            target_batch = dataset[\"train_label\"][train_indices]\n",
    "            outputs = model(img_batch)\n",
    "            train_loss = loss_fn(outputs, target_batch)\n",
    "            # Compute regularization term if enabled.\n",
    "            if hasattr(model.final_kan, \"save_act\") and model.final_kan.save_act:\n",
    "                if reg_metric == 'edge_backward':\n",
    "                    #model.m_kan.attribute()\n",
    "                    model.final_kan.attribute()\n",
    "                if reg_metric == 'node_backward':\n",
    "                    #model.m_kan.node_attribute()\n",
    "                    model.final_kan.node_attribute()\n",
    "                reg_val_inner = model.final_kan.get_reg(reg_metric, lamb_l1, lamb_entropy, lamb_coef, lamb_coefdiff)\n",
    "                # if sum_f_reg:\n",
    "                #     reg_val_inner = reg_val_inner + model.final_kan.get_reg(reg_metric, lamb_l1, lamb_entropy, lamb_coef, lamb_coefdiff)\n",
    "            else:\n",
    "                reg_val_inner = torch.tensor(0., device=device)\n",
    "            loss_val_inner = train_loss + lamb * reg_val_inner\n",
    "            loss_val_inner.backward()\n",
    "            return loss_val_inner\n",
    "\n",
    "        # Perform grid update if applicable.\n",
    "        if (step % grid_update_freq == 0 and step < stop_grid_update_step \n",
    "            and update_grid and step >= start_grid_update_step):\n",
    "            \n",
    "            #mlp_batch = dataset['train_input'][train_indices]\n",
    "            cnn_batch = dataset['train_img'][train_indices]\n",
    "            \n",
    "            # model.final_kan.update_grid(mlp_batch)\n",
    "            cnn_output = model.cnn_branch(cnn_batch)  # Process image input\n",
    "            # concatenated  = model.get_concat_output(cnn_batch)\n",
    "            #concatenated = torch.cat((mlp_batch, cnn_output), dim=1)\n",
    "            model.final_kan.update_grid(cnn_output)\n",
    "\n",
    "        # Perform an optimizer step.\n",
    "        if opt == \"LBFGS\":\n",
    "            optimizer.step(closure)\n",
    "            loss_val = closure()  # re-evaluate to record loss\n",
    "            # Compute reg_val separately for logging\n",
    "            with torch.no_grad():\n",
    "                #mlp_batch = dataset[\"train_input\"][train_indices]\n",
    "                img_batch = dataset[\"train_img\"][train_indices]\n",
    "                target_batch = dataset[\"train_label\"][train_indices]\n",
    "                outputs = model(img_batch)\n",
    "                train_loss = loss_fn(outputs, target_batch)\n",
    "                if hasattr(model.final_kan, \"save_act\") and model.final_kan.save_act:\n",
    "                    if reg_metric == 'edge_backward':\n",
    "                        #model.m_kan.attribute()\n",
    "                        model.final_kan.attribute()\n",
    "                    if reg_metric == 'node_backward':\n",
    "                        #model.m_kan.node_attribute()\n",
    "                        model.final_kan.node_attribute()\n",
    "                    reg_val = model.final_kan.get_reg(reg_metric, lamb_l1, lamb_entropy, lamb_coef, lamb_coefdiff)\n",
    "                    # if sum_f_reg:\n",
    "                    #     reg_val = reg_val + model.final_kan.get_reg(reg_metric, lamb_l1, lamb_entropy, lamb_coef, lamb_coefdiff)\n",
    "                else:\n",
    "                    reg_val = torch.tensor(0., device=device)\n",
    "        else:  # Adam branch\n",
    "            optimizer.zero_grad()\n",
    "            #mlp_batch = dataset[\"train_input\"][train_indices]\n",
    "            img_batch = dataset[\"train_img\"][train_indices]\n",
    "            target_batch = dataset[\"train_label\"][train_indices]\n",
    "            outputs = model(img_batch)\n",
    "            train_loss = loss_fn(outputs, target_batch)\n",
    "            if hasattr(model.final_kan, \"save_act\") and model.final_kan.save_act:\n",
    "                if reg_metric == 'edge_backward':\n",
    "                    #model.m_kan.attribute()\n",
    "                    model.final_kan.attribute()\n",
    "                if reg_metric == 'node_backward':\n",
    "                    #model.m_kan.node_attribute()\n",
    "                    model.final_kan.node_attribute()\n",
    "                reg_val = model.final_kan.get_reg(reg_metric, lamb_l1, lamb_entropy, lamb_coef, lamb_coefdiff)\n",
    "                # if sum_f_reg:\n",
    "                #     reg_val = reg_val + model.final_kan.get_reg(reg_metric, lamb_l1, lamb_entropy, lamb_coef, lamb_coefdiff)\n",
    "            else:\n",
    "                reg_val = torch.tensor(0., device=device)\n",
    "            loss_val = train_loss + lamb * reg_val\n",
    "            loss_val.backward()\n",
    "            optimizer.step()\n",
    "\n",
    "        # Evaluate on the entire evaluation set (from val_loader)\n",
    "        #mlp_eval = dataset[\"val_input\"][eval_indices]\n",
    "        img_eval = dataset[\"val_img\"][eval_indices]\n",
    "        target_eval = dataset[\"val_label\"][eval_indices]\n",
    "        eval_loss = loss_fn(model(img_eval), target_eval)\n",
    "\n",
    "        # Record results (using square-root of loss similar to KAN.fit)\n",
    "        results['train_loss'].append(torch.sqrt(loss_val.detach()).item())\n",
    "        results['eval_loss'].append(torch.sqrt(eval_loss.detach()).item())\n",
    "        results['reg'].append(reg_val.detach().item())\n",
    "\n",
    "        # New: Compute validation loss if validation data exists in the dataset.\n",
    "        # val_loss = loss_fn(model(dataset['val_input'][eval_indices], dataset['val_img'][eval_indices]), dataset['val_label'][eval_indices])\n",
    "        # results['val_loss'].append(torch.sqrt(val_loss).cpu().detach().numpy())\n",
    "\n",
    "        if metrics is not None:\n",
    "            for metric in metrics:\n",
    "                # Here, we assume each metric returns a tensor.\n",
    "                results[metric.__name__].append(metric().item())\n",
    "\n",
    "        if eval_loss < best_loss:\n",
    "            best_epoch = step\n",
    "            best_loss = eval_loss\n",
    "            best_model_state = copy.deepcopy(model.state_dict())\n",
    "\n",
    "        # Update progress bar.\n",
    "        if display_metrics is None:\n",
    "            pbar.set_description(\"| train_loss: %.2e | eval_loss: %.2e | reg: %.2e |\" %\n",
    "                                 (torch.sqrt(loss_val.detach()).item(),\n",
    "                                  torch.sqrt(eval_loss.detach()).item(),\n",
    "                                  reg_val.detach().item()))\n",
    "        else:\n",
    "            desc = \"\"\n",
    "            data = []\n",
    "            for metric in display_metrics:\n",
    "                desc += f\" {metric}: %.2e |\"\n",
    "                data.append(results[metric.__name__][-1])\n",
    "            pbar.set_description(desc % tuple(data))\n",
    "\n",
    "        # Optionally save a figure snapshot.\n",
    "        if save_fig and step % save_fig_freq == 0:\n",
    "            save_act_backup = getattr(model.final_kan, \"save_act\", False)\n",
    "            model.final_kan.save_act = True\n",
    "            model.plot(folder=img_folder, in_vars=in_vars, out_vars=out_vars, title=f\"Step {step}\", beta=beta)\n",
    "            plt.savefig(os.path.join(img_folder, f\"{step}.jpg\"), bbox_inches='tight', dpi=200)\n",
    "            plt.close()\n",
    "            model.final_kan.save_act = save_act_backup\n",
    "\n",
    "    # Restore original settings if applicable.\n",
    "    if old_symbolic_enabled is not None:\n",
    "        model.final_kan.symbolic_enabled = old_symbolic_enabled\n",
    "    if hasattr(model.final_kan, \"log_history\"):\n",
    "        model.final_kan.log_history('fit')\n",
    "    print(f\"Best epoch {best_epoch}\")\n",
    "    return results, best_model_state"
   ]
  },
  {
   "cell_type": "code",
   "execution_count": null,
   "id": "c3b3b391-14eb-4647-962d-75accd4df9a9",
   "metadata": {},
   "outputs": [],
   "source": [
    "def try_create_model2(model_class, attributes, imgs_shape):\n",
    "    try:\n",
    "        model = model_class(imgs_shape)\n",
    "        \n",
    "        # Test the model with a sample input\n",
    "        num_input = torch.randn(4, attributes)\n",
    "        img_input = torch.randn(4, *imgs_shape)\n",
    "        output = model(img_input)\n",
    "        \n",
    "        print(f\"Successfully created and tested {model_class.__name__}\")\n",
    "        \n",
    "        return model\n",
    "    except Exception as e:\n",
    "        print(f\"Error creating or testing {model_class.__name__}:\")\n",
    "        traceback.print_exc()\n",
    "        return None"
   ]
  },
  {
   "cell_type": "code",
   "execution_count": null,
   "id": "84126752-0c8b-4028-9892-785d5112e71a",
   "metadata": {},
   "outputs": [],
   "source": [
    "model5 = try_create_model2(Model5, attributes, imgs_shape)  # Attempt to create Model4\n",
    "metrics5, best_model_state = fit_hybrid_dataloaders2(model5, dataset, opt=\"LBFGS\", steps=30, lamb=.00000001)\n",
    "model5.load_state_dict(best_model_state)\n",
    "print(average_rmse(model5(dataset['test_img']), dataset['test_label']))\n",
    "plt.plot(metrics5['train_loss'])\n",
    "plt.plot(metrics5['eval_loss'])\n",
    "plt.legend(['train', 'val'])\n",
    "plt.ylabel('RMSE')\n",
    "plt.xlabel('step')\n",
    "plt.yscale('log')"
   ]
  }
 ],
 "metadata": {
  "kernelspec": {
   "display_name": "Python 3 (ipykernel)",
   "language": "python",
   "name": "python3"
  },
  "language_info": {
   "codemirror_mode": {
    "name": "ipython",
    "version": 3
   },
   "file_extension": ".py",
   "mimetype": "text/x-python",
   "name": "python",
   "nbconvert_exporter": "python",
   "pygments_lexer": "ipython3",
   "version": "3.12.7"
  }
 },
 "nbformat": 4,
 "nbformat_minor": 5
}
