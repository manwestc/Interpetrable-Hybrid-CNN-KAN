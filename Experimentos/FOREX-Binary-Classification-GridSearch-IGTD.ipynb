{
 "cells": [
  {
   "cell_type": "code",
   "execution_count": 1,
   "id": "8d5668d4-717f-4e0a-a900-f1b70dc8ba0f",
   "metadata": {},
   "outputs": [],
   "source": [
    "import sys\n",
    "import os\n",
    "\n",
    "# Get the root directory\n",
    "root_dir = os.path.abspath(os.path.join(os.getcwd(), '..'))\n",
    "\n",
    "# Add the root directory to the Python path\n",
    "sys.path.append(root_dir)"
   ]
  },
  {
   "cell_type": "code",
   "execution_count": 2,
   "id": "4dace8b6-da36-4ed7-94f9-e7bfde57e588",
   "metadata": {},
   "outputs": [
    {
     "name": "stdout",
     "output_type": "stream",
     "text": [
      "cuda\n"
     ]
    }
   ],
   "source": [
    "from tqdm import tqdm\n",
    "from torch.utils.data import DataLoader, TensorDataset\n",
    "from torch.optim.lr_scheduler import OneCycleLR\n",
    "from sklearn.model_selection import train_test_split\n",
    "from sklearn.preprocessing import MinMaxScaler, StandardScaler\n",
    "from sklearn.datasets import load_diabetes\n",
    "from sklearn.model_selection import train_test_split\n",
    "from sklearn.preprocessing import StandardScaler\n",
    "from sklearn.metrics import mean_squared_error, mean_absolute_error, r2_score\n",
    "from TINTOlib.igtd import IGTD\n",
    "from kan import *\n",
    "from tqdm import tqdm\n",
    "\n",
    "\n",
    "import traceback\n",
    "import time\n",
    "import gc\n",
    "import copy\n",
    "import traceback\n",
    "import torch.nn as nn\n",
    "import cv2\n",
    "import math\n",
    "import matplotlib.pyplot as plt\n",
    "import pandas as pd\n",
    "import numpy as np\n",
    "import random\n",
    "import torch\n",
    "import torch.nn as nn\n",
    "import torch.optim as optim\n",
    "#from torch.optim import LBFGS\n",
    "\n",
    "\n",
    "if torch.cuda.is_available():\n",
    "  device = torch.device(\"cuda\")\n",
    "else:\n",
    "  device = torch.device(\"cpu\")\n",
    "\n",
    "print(device)"
   ]
  },
  {
   "cell_type": "code",
   "execution_count": 3,
   "id": "787a631d-2f1e-4b05-845e-bb878447f357",
   "metadata": {},
   "outputs": [],
   "source": [
    "SEED = 381\n",
    "# SET RANDOM SEED FOR REPRODUCIBILITY\n",
    "torch.manual_seed(SEED)\n",
    "random.seed(SEED)\n",
    "np.random.seed(SEED)"
   ]
  },
  {
   "cell_type": "markdown",
   "id": "7b71d2a5-d2ad-4b72-9869-8fdae3a98141",
   "metadata": {},
   "source": [
    "# BEST: ACC = 0.733152"
   ]
  },
  {
   "cell_type": "code",
   "execution_count": 4,
   "id": "1580c162-4015-4cda-8492-b51350055b36",
   "metadata": {},
   "outputs": [],
   "source": [
    "folder=\"data/FOREX_cadjpy-day-High\"\n",
    "x_col=[\"Bid_Open\", \"Bid_High\", \"Bid_Low\", \"Bid_Close\", \"Bid_Volume\", \"Ask_Open\", \"Ask_High\", \"Ask_Low\", \"Ask_Close\",\"Ask_Volume\"]\n",
    "target_col=[\"class\"]"
   ]
  },
  {
   "cell_type": "markdown",
   "id": "a95b4aeb",
   "metadata": {},
   "source": [
    "# Functions"
   ]
  },
  {
   "cell_type": "markdown",
   "id": "1e61699b",
   "metadata": {
    "jp-MarkdownHeadingCollapsed": true
   },
   "source": [
    "### Load Dataset and Images"
   ]
  },
  {
   "cell_type": "code",
   "execution_count": 5,
   "id": "fb5e9231",
   "metadata": {},
   "outputs": [],
   "source": [
    "def load_and_clean(npy_filename, y_filename, x_col, target_col):\n",
    "    \"\"\"\n",
    "    Load the feature array (npy_filename) and label array (y_filename),\n",
    "    drop rows in the feature array that contain any NaNs, and apply\n",
    "    the same mask to the label array.\n",
    "    \"\"\"\n",
    "    # Load numpy arrays\n",
    "    X = np.load(os.path.join(folder, npy_filename))\n",
    "    y = np.load(os.path.join(folder, y_filename))\n",
    "    \n",
    "    # Ensure the number of rows matches between X and y\n",
    "    if X.shape[0] != y.shape[0]:\n",
    "        raise ValueError(\"The number of rows in {} and {} do not match.\".format(npy_filename, y_filename))\n",
    "    \n",
    "    # Create a boolean mask for rows that do NOT have any NaN values in X\n",
    "    valid_rows = ~np.isnan(X).any(axis=1)\n",
    "    #print(valid_rows)\n",
    "    # Filter both arrays using the valid_rows mask\n",
    "    X_clean = X[valid_rows]\n",
    "    y_clean = y[valid_rows]\n",
    "    \n",
    "    # Convert arrays to DataFrames\n",
    "    df_X = pd.DataFrame(X_clean)\n",
    "    df_y = pd.DataFrame(y_clean)\n",
    "    df_X.columns = x_col\n",
    "    df_y.columns = target_col\n",
    "\n",
    "    #df_y[target_col] = df_y[target_col].astype(int)\n",
    "    return df_X, df_y"
   ]
  },
  {
   "cell_type": "code",
   "execution_count": 6,
   "id": "b6027ad4",
   "metadata": {},
   "outputs": [],
   "source": [
    "def load_and_preprocess_data(X_train, y_train, X_test, y_test, X_val, y_val, image_model, problem_type, batch_size=32):\n",
    "    # Add target column to input for IGTD\n",
    "    X_train_full = X_train.copy()\n",
    "    X_train_full[\"target\"] = y_train.values\n",
    "\n",
    "    X_val_full = X_val.copy()\n",
    "    X_val_full[\"target\"] = y_val.values\n",
    "\n",
    "    X_test_full = X_test.copy()\n",
    "    X_test_full[\"target\"] = y_test.values\n",
    "\n",
    "    # Generate the images if the folder does not exist\n",
    "    if not os.path.exists(f'{images_folder}/train'):\n",
    "        #print(X_train_full)\n",
    "        image_model.fit_transform(X_train_full, f'{images_folder}/train')\n",
    "        image_model.saveHyperparameters(f'{images_folder}/model.pkl')\n",
    "    else:\n",
    "        print(\"The images are already generated\")\n",
    "\n",
    "    # Load image paths\n",
    "    imgs_train = pd.read_csv(os.path.join(f'{images_folder}/train', f'{problem_type}.csv'))\n",
    "    imgs_train[\"images\"] = images_folder + \"/train/\" + imgs_train[\"images\"]\n",
    "\n",
    "    if not os.path.exists(f'{images_folder}/val'):\n",
    "        image_model.transform(X_val_full, f'{images_folder}/val')\n",
    "    else:\n",
    "        print(\"The images are already generated\")\n",
    "\n",
    "    imgs_val = pd.read_csv(os.path.join(f'{images_folder}/val', f'{problem_type}.csv'))\n",
    "    imgs_val[\"images\"] = images_folder + \"/val/\" + imgs_val[\"images\"]\n",
    "\n",
    "    if not os.path.exists(f'{images_folder}/test'):\n",
    "        image_model.transform(X_test_full, f'{images_folder}/test')\n",
    "    else:\n",
    "        print(\"The images are already generated\")\n",
    "\n",
    "    imgs_test = pd.read_csv(os.path.join(f'{images_folder}/test', f'{problem_type}.csv'))\n",
    "    imgs_test[\"images\"] = images_folder + \"/test/\" + imgs_test[\"images\"]\n",
    "\n",
    "    # Image data\n",
    "    X_train_img = np.array([cv2.imread(img) for img in imgs_train[\"images\"]])\n",
    "    X_val_img = np.array([cv2.imread(img) for img in imgs_val[\"images\"]])\n",
    "    X_test_img = np.array([cv2.imread(img) for img in imgs_test[\"images\"]])\n",
    "\n",
    "    # Create a MinMaxScaler object\n",
    "    scaler = MinMaxScaler()\n",
    "\n",
    "    # Scale numerical data\n",
    "    X_train_num = pd.DataFrame(scaler.fit_transform(X_train), columns=X_train.columns)\n",
    "    X_val_num = pd.DataFrame(scaler.transform(X_val), columns=X_val.columns)\n",
    "    X_test_num = pd.DataFrame(scaler.transform(X_test), columns=X_test.columns)\n",
    "\n",
    "    attributes = len(X_train_num.columns)\n",
    "    height, width, channels = X_train_img[0].shape\n",
    "    imgs_shape = (channels, height, width)\n",
    "\n",
    "    print(\"Images shape: \", imgs_shape)\n",
    "    print(\"Attributes: \", attributes)\n",
    "\n",
    "    # Convert data to PyTorch tensors\n",
    "    X_train_num_tensor = torch.as_tensor(X_train_num.values, dtype=torch.float32)\n",
    "    X_val_num_tensor = torch.as_tensor(X_val_num.values, dtype=torch.float32)\n",
    "    X_test_num_tensor = torch.as_tensor(X_test_num.values, dtype=torch.float32)\n",
    "    X_train_img_tensor = torch.as_tensor(X_train_img, dtype=torch.float32).permute(0, 3, 1, 2) / 255.0\n",
    "    X_val_img_tensor = torch.as_tensor(X_val_img, dtype=torch.float32).permute(0, 3, 1, 2) / 255.0\n",
    "    X_test_img_tensor = torch.as_tensor(X_test_img, dtype=torch.float32).permute(0, 3, 1, 2) / 255.0\n",
    "    y_train_tensor = torch.as_tensor(y_train.values, dtype=torch.float32).reshape(-1, 1)\n",
    "    y_val_tensor = torch.as_tensor(y_val.values, dtype=torch.float32).reshape(-1, 1)\n",
    "    y_test_tensor = torch.as_tensor(y_test.values, dtype=torch.float32).reshape(-1, 1)\n",
    "\n",
    "    # Create DataLoaders\n",
    "    train_dataset = TensorDataset(X_train_num_tensor, X_train_img_tensor, y_train_tensor)\n",
    "    val_dataset = TensorDataset(X_val_num_tensor, X_val_img_tensor, y_val_tensor)\n",
    "    test_dataset = TensorDataset(X_test_num_tensor, X_test_img_tensor, y_test_tensor)\n",
    "\n",
    "    train_loader = DataLoader(train_dataset, batch_size=batch_size, shuffle=True, pin_memory=True)\n",
    "    val_loader = DataLoader(val_dataset, batch_size=batch_size, shuffle=False, pin_memory=True)\n",
    "    test_loader = DataLoader(test_dataset, batch_size=batch_size, shuffle=False, pin_memory=True)\n",
    "\n",
    "    return train_loader, val_loader, test_loader, attributes, imgs_shape"
   ]
  },
  {
   "cell_type": "code",
   "execution_count": 7,
   "id": "b2285bf2",
   "metadata": {},
   "outputs": [],
   "source": [
    "def combine_loader(loader):\n",
    "    \"\"\"\n",
    "    Combines all batches from a DataLoader into three tensors.\n",
    "    Assumes each batch is a tuple: (mlp_tensor, img_tensor, target_tensor)\n",
    "    \"\"\"\n",
    "    mlp_list, img_list, target_list = [], [], []\n",
    "    for mlp, img, target in loader:\n",
    "        mlp_list.append(mlp)\n",
    "        img_list.append(img)\n",
    "        target_list.append(target)\n",
    "    return torch.cat(mlp_list, dim=0), torch.cat(img_list, dim=0), torch.cat(target_list, dim=0)"
   ]
  },
  {
   "cell_type": "markdown",
   "id": "2d664849",
   "metadata": {
    "jp-MarkdownHeadingCollapsed": true
   },
   "source": [
    "### Functions for KAN"
   ]
  },
  {
   "cell_type": "code",
   "execution_count": 8,
   "id": "c7e1e764",
   "metadata": {},
   "outputs": [],
   "source": [
    "dtype = torch.get_default_dtype()"
   ]
  },
  {
   "cell_type": "code",
   "execution_count": 10,
   "id": "05d09a4c",
   "metadata": {},
   "outputs": [],
   "source": [
    "def custom_fit(model, dataset, opt=\"LBFGS\", steps=100, log=1, lamb=0., lamb_l1=1., lamb_entropy=2., lamb_coef=0., lamb_coefdiff=0., update_grid=True, \n",
    "               grid_update_num=10, loss_fn=None, lr=1., start_grid_update_step=-1, stop_grid_update_step=50, batch=-1,\n",
    "               metrics=None, save_fig=False, in_vars=None, out_vars=None, beta=3, save_fig_freq=1, img_folder='./video', \n",
    "               singularity_avoiding=False, y_th=1000., reg_metric='edge_forward_spline_n', display_metrics=None):\n",
    "    '''\n",
    "    training\n",
    "\n",
    "    Args:\n",
    "    -----\n",
    "        dataset : dic\n",
    "            contains dataset['train_input'], dataset['train_label'], dataset['val_input'], dataset['val_label']\n",
    "        opt : str\n",
    "            \"LBFGS\" or \"Adam\"\n",
    "        steps : int\n",
    "            training steps\n",
    "        log : int\n",
    "            logging frequency\n",
    "        lamb : float\n",
    "            overall penalty strength\n",
    "        lamb_l1 : float\n",
    "            l1 penalty strength\n",
    "        lamb_entropy : float\n",
    "            entropy penalty strength\n",
    "        lamb_coef : float\n",
    "            coefficient magnitude penalty strength\n",
    "        lamb_coefdiff : float\n",
    "            difference of nearby coefficits (smoothness) penalty strength\n",
    "        update_grid : bool\n",
    "            If True, update grid regularly before stop_grid_update_step\n",
    "        grid_update_num : int\n",
    "            the number of grid updates before stop_grid_update_step\n",
    "        start_grid_update_step : int\n",
    "            no grid updates before this training step\n",
    "        stop_grid_update_step : int\n",
    "            no grid updates after this training step\n",
    "        loss_fn : function\n",
    "            loss function\n",
    "        lr : float\n",
    "            learning rate\n",
    "        batch : int\n",
    "            batch size, if -1 then full.\n",
    "        save_fig_freq : int\n",
    "            save figure every (save_fig_freq) steps\n",
    "        singularity_avoiding : bool\n",
    "            indicate whether to avoid singularity for the symbolic part\n",
    "        y_th : float\n",
    "            singularity threshold (anything above the threshold is considered singular and is softened in some ways)\n",
    "        reg_metric : str\n",
    "            regularization metric. Choose from {'edge_forward_spline_n', 'edge_forward_spline_u', 'edge_forward_sum', 'edge_backward', 'node_backward'}\n",
    "        metrics : a list of metrics (as functions)\n",
    "            the metrics to be computed in training\n",
    "        display_metrics : a list of functions\n",
    "            the metric to be displayed in tqdm progress bar\n",
    "\n",
    "    Returns:\n",
    "    --------\n",
    "        results : dic\n",
    "            results['train_loss'], 1D array of training losses (RMSE)\n",
    "            results['val_loss'], 1D array of val losses (RMSE)\n",
    "            results['reg'], 1D array of regularization\n",
    "            other metrics specified in metrics\n",
    "        best_model:\n",
    "    '''\n",
    "\n",
    "    if lamb > 0. and not model.save_act:\n",
    "        print('setting lamb=0. If you want to set lamb > 0, set model.save_act=True')\n",
    "        \n",
    "    old_save_act, old_symbolic_enabled = model.disable_symbolic_in_fit(lamb)\n",
    "\n",
    "    pbar = tqdm(range(steps), desc='description', ncols=100)\n",
    "\n",
    "    if loss_fn == None:\n",
    "        loss_fn = loss_fn_eval = lambda x, y: torch.mean((x - y) ** 2)\n",
    "    else:\n",
    "        loss_fn = loss_fn_eval = loss_fn\n",
    "\n",
    "    grid_update_freq = int(stop_grid_update_step / grid_update_num)\n",
    "\n",
    "    if opt == \"Adam\":\n",
    "        optimizer = torch.optim.Adam(model.get_params(), lr=lr)\n",
    "    elif opt == \"LBFGS\":\n",
    "        optimizer = LBFGS(model.get_params(), lr=lr, history_size=10, \n",
    "                          line_search_fn=\"strong_wolfe\", \n",
    "                          tolerance_grad=1e-32,\n",
    "                          tolerance_change=1e-32,\n",
    "                          tolerance_ys=1e-32)\n",
    "\n",
    "    results = {}\n",
    "    results['train_loss'] = []\n",
    "    results['val_loss'] = []\n",
    "    results['reg'] = []\n",
    "    if metrics != None:\n",
    "        for i in range(len(metrics)):\n",
    "            results[metrics[i].__name__] = []\n",
    "\n",
    "    if batch == -1 or batch > dataset['train_input'].shape[0]:\n",
    "        batch_size = dataset['train_input'].shape[0]\n",
    "        batch_size_val = dataset['val_input'].shape[0]\n",
    "    else:\n",
    "        batch_size = batch\n",
    "        batch_size_val = batch\n",
    "\n",
    "    global train_loss, reg_\n",
    "\n",
    "    def closure():\n",
    "        global train_loss, reg_\n",
    "        optimizer.zero_grad()\n",
    "        pred = model.forward(dataset['train_input'][train_id], singularity_avoiding=singularity_avoiding, y_th=y_th)\n",
    "        train_loss = loss_fn(pred, dataset['train_label'][train_id])\n",
    "        if model.save_act:\n",
    "            if reg_metric == 'edge_backward':\n",
    "                model.attribute()\n",
    "            if reg_metric == 'node_backward':\n",
    "                model.node_attribute()\n",
    "            reg_ = model.get_reg(reg_metric, lamb_l1, lamb_entropy, lamb_coef, lamb_coefdiff)\n",
    "        else:\n",
    "            reg_ = torch.tensor(0.)\n",
    "        objective = train_loss + lamb * reg_\n",
    "        objective.backward()\n",
    "        return objective\n",
    "\n",
    "    if save_fig:\n",
    "        if not os.path.exists(img_folder):\n",
    "            os.makedirs(img_folder)\n",
    "    \n",
    "    best_model_state = None\n",
    "    best_epoch = -1\n",
    "    best_metric = 0\n",
    "    val_metric = 0\n",
    "    for epoch in pbar:\n",
    "        \n",
    "        if epoch == steps-1 and old_save_act:\n",
    "            model.save_act = True\n",
    "            \n",
    "        if save_fig and epoch % save_fig_freq == 0:\n",
    "            save_act = model.save_act\n",
    "            model.save_act = True\n",
    "        \n",
    "        train_id = np.random.choice(dataset['train_input'].shape[0], batch_size, replace=False)\n",
    "        val_id = np.random.choice(dataset['val_input'].shape[0], batch_size_val, replace=False)\n",
    "\n",
    "        if epoch % grid_update_freq == 0 and epoch < stop_grid_update_step and update_grid and epoch >= start_grid_update_step:\n",
    "            model.update_grid(dataset['train_input'][train_id])\n",
    "\n",
    "        if opt == \"LBFGS\":\n",
    "            optimizer.step(closure)\n",
    "\n",
    "        if opt == \"Adam\":\n",
    "            pred = model.forward(dataset['train_input'][train_id], singularity_avoiding=singularity_avoiding, y_th=y_th)\n",
    "            train_loss = loss_fn(pred, dataset['train_label'][train_id])\n",
    "            if model.save_act:\n",
    "                if reg_metric == 'edge_backward':\n",
    "                    model.attribute()\n",
    "                if reg_metric == 'node_backward':\n",
    "                    model.node_attribute()\n",
    "                reg_ = model.get_reg(reg_metric, lamb_l1, lamb_entropy, lamb_coef, lamb_coefdiff)\n",
    "            else:\n",
    "                reg_ = torch.tensor(0.)\n",
    "            loss = train_loss + lamb * reg_\n",
    "            optimizer.zero_grad()\n",
    "            loss.backward()\n",
    "            optimizer.step()\n",
    "\n",
    "        val_loss = loss_fn_eval(model.forward(dataset['val_input'][val_id]), dataset['val_label'][val_id])\n",
    "        \n",
    "        if metrics != None:\n",
    "            for i in range(len(metrics)):\n",
    "                results[metrics[i].__name__].append(metrics[i]().item())\n",
    "        \n",
    "        results['train_loss'].append(torch.sqrt(train_loss).cpu().detach().numpy())\n",
    "        results['val_loss'].append(torch.sqrt(val_loss).cpu().detach().numpy())\n",
    "        results['reg'].append(reg_.cpu().detach().numpy())\n",
    "\n",
    "        if epoch % log == 0:\n",
    "            if display_metrics == None:\n",
    "                pbar.set_description(\"| train_loss: %.2e | val_loss: %.2e | reg: %.2e | \" % (torch.sqrt(train_loss).cpu().detach().numpy(), torch.sqrt(val_loss).cpu().detach().numpy(), reg_.cpu().detach().numpy()))\n",
    "                val_metric = val_loss\n",
    "            else:\n",
    "                string = ''\n",
    "                data = ()\n",
    "                for metric in display_metrics:\n",
    "                    val_metric = results[metric][-1]\n",
    "                    string += f' {metric}: %.2e |'\n",
    "                    try:\n",
    "                        results[metric]\n",
    "                    except:\n",
    "                        raise Exception(f'{metric} not recognized')\n",
    "                    data += (results[metric][-1],)\n",
    "                pbar.set_description(string % data)\n",
    "\n",
    "        if val_metric > best_metric:\n",
    "            best_epoch = epoch\n",
    "            best_metric = val_metric\n",
    "            best_model_state = copy.deepcopy(model.state_dict())\n",
    "\n",
    "        if save_fig and epoch % save_fig_freq == 0:\n",
    "            model.plot(folder=img_folder, in_vars=in_vars, out_vars=out_vars, title=\"Step {}\".format(_), beta=beta)\n",
    "            plt.savefig(img_folder + '/' + str(_) + '.jpg', bbox_inches='tight', dpi=200)\n",
    "            plt.close()\n",
    "            model.save_act = save_act\n",
    "\n",
    "    model.log_history('fit')\n",
    "    # revert back to original state\n",
    "    model.symbolic_enabled = old_symbolic_enabled\n",
    "    print(f\"✅ Best validation Accuracy: {best_metric:.4e} at {best_epoch} epoch\")\n",
    "    return best_model_state, results, best_epoch"
   ]
  },
  {
   "cell_type": "code",
   "execution_count": 27,
   "id": "7ae64bdc",
   "metadata": {},
   "outputs": [],
   "source": [
    "def grid_search_kan(dataset, output_dim=1):\n",
    "    hidden_neuron_options = list(range(1, attributes // 2 + 1))\n",
    "    grid_options = list(range(3, 9))\n",
    "    lamb_options = [1e-02, 1e-03, 1e-04, 1e-05, 1e-06, 1e-07]\n",
    "\n",
    "    top_models = []  # list of dicts: each will have 'loss', 'config', 'state_dict'\n",
    "\n",
    "    for hidden in hidden_neuron_options:\n",
    "        for grid in grid_options:\n",
    "            for lamb in lamb_options:\n",
    "                \n",
    "                print(f\"Testing width=[{attributes}, {hidden}, {output_dim}], lamb={lamb}, grid={grid}\")\n",
    "                model = KAN(width=[attributes, hidden, output_dim], grid=grid, k=3, seed=381, device=device)\n",
    "                \n",
    "                def train_acc_kan():\n",
    "                    return torch.mean((torch.round(model(dataset['train_input'])[:,0]) == dataset['train_label'][:,0]).type(dtype))\n",
    "                \n",
    "                def val_acc_kan():\n",
    "                    return torch.mean((torch.round(model(dataset['val_input'])[:,0]) == dataset['val_label'][:,0]).type(dtype))\n",
    "\n",
    "                # Custom training\n",
    "                model_state, _, best_epoch = custom_fit(model, dataset, opt=\"LBFGS\", steps=20, lamb=lamb, \n",
    "                                                        metrics=(train_acc_kan, val_acc_kan), display_metrics=['train_acc_kan', 'val_acc_kan'])\n",
    "                model.load_state_dict(model_state)\n",
    "\n",
    "                # Evaluate\n",
    "                avg_acc = torch.mean((torch.round(model(dataset['test_input'])[:,0]) == dataset['test_label'][:,0]).type(dtype))\n",
    "                print(avg_acc)\n",
    "                # Save this model info\n",
    "                top_models.append({\n",
    "                    \"acc_test\": avg_acc,\n",
    "                    \"config\": {\"hidden\": hidden, \"grid\": grid, \"lamb\": lamb},\n",
    "                    \"state_dict\": copy.deepcopy(model_state),\n",
    "                    \"best_epoch\": best_epoch\n",
    "                })\n",
    "                \n",
    "                del model\n",
    "                torch.cuda.empty_cache()\n",
    "                gc.collect()\n",
    "\n",
    "                # Keep only top 5\n",
    "                top_models = sorted(top_models, key=lambda x: x[\"acc_test\"], reverse=True)[:5]\n",
    "\n",
    "    print(\"\\n✅ Top 5 Configurations:\")\n",
    "    for i, entry in enumerate(top_models):\n",
    "        cfg = entry[\"config\"]\n",
    "        print(f\"{i+1}. width=[{attributes}, {cfg['hidden']}, {output_dim}], grid={cfg['grid']}, lamb={cfg['lamb']} | best_epoch={entry['best_epoch']} | acc_test={entry['acc_test']:.5f}\")\n",
    "\n",
    "    #return top_models"
   ]
  },
  {
   "cell_type": "markdown",
   "id": "bc5d1d3a",
   "metadata": {
    "jp-MarkdownHeadingCollapsed": true
   },
   "source": [
    "### Functions for CNN"
   ]
  },
  {
   "cell_type": "code",
   "execution_count": 12,
   "id": "46156820",
   "metadata": {},
   "outputs": [],
   "source": [
    "def fit_cnn_only_model(model, dataset, steps=100, lr=1.0, loss_fn=None, batch=-1, opt=\"LBFGS\", metrics=None, display_metrics=None):\n",
    "    \"\"\"\n",
    "    Trains a CNN-only model using LBFGS.\n",
    "\n",
    "    Args:\n",
    "        model: CNN-only PyTorch model.\n",
    "        dataset: Dictionary with keys: 'train_img', 'train_label', 'val_img', 'val_label'.\n",
    "        steps: Number of training iterations.\n",
    "        lr: Learning rate.\n",
    "        loss_fn: Loss function. Defaults to MSE.\n",
    "        metrics : a list of metrics (as functions)\n",
    "            the metrics to be computed in training\n",
    "        display_metrics : a list of functions\n",
    "            the metric to be displayed in tqdm progress bar\n",
    "\n",
    "    Returns:\n",
    "        results: Dict with lists of train/val losses.\n",
    "        best_model_state: Best weights based on val loss.\n",
    "    \"\"\"\n",
    "    device = model.device\n",
    "    if loss_fn is None:\n",
    "        loss_fn = nn.MSELoss()\n",
    "\n",
    "    # Optimizer selection\n",
    "    if opt == \"LBFGS\":\n",
    "        optimizer = LBFGS(model.parameters(), lr=lr, history_size=10, \n",
    "                          line_search_fn=\"strong_wolfe\", \n",
    "                          tolerance_grad=1e-32, \n",
    "                          tolerance_change=1e-32, \n",
    "                          tolerance_ys=1e-32)\n",
    "    elif opt == \"AdamW\":\n",
    "        optimizer = optim.AdamW(model.parameters(), lr=lr)\n",
    "    else:\n",
    "        raise ValueError(f\"Unsupported optimizer '{opt}'\")\n",
    "\n",
    "    n_train = dataset[\"train_img\"].shape[0]\n",
    "    n_val = dataset[\"val_img\"].shape[0]\n",
    "    batch_size = n_train if batch == -1 or batch > n_train else batch\n",
    "\n",
    "    results = {'train_loss': [], 'val_loss': []}\n",
    "\n",
    "    if metrics != None:\n",
    "        for i in range(len(metrics)):\n",
    "            results[metrics[i].__name__] = []\n",
    "\n",
    "    best_model_state = None\n",
    "    best_loss = float(\"inf\")\n",
    "    best_epoch = -1\n",
    "\n",
    "    pbar = tqdm(range(steps), desc=\"Training CNN Only ({opt})\", ncols=100)\n",
    "\n",
    "    for step in pbar:\n",
    "        train_idx = np.random.choice(n_train, batch_size, replace=False)\n",
    "        #train_idx = torch.randperm(n_train)[:min(32, n_train)]  # small batch\n",
    "        x_train = dataset[\"train_img\"][train_idx].to(device)\n",
    "        y_train = dataset[\"train_label\"][train_idx].to(device)\n",
    "        if opt == \"LBFGS\":\n",
    "            def closure():\n",
    "                optimizer.zero_grad()\n",
    "                output = model(0, x_train)\n",
    "                loss = loss_fn(output, y_train)\n",
    "                loss.backward()\n",
    "                return loss\n",
    "            optimizer.step(closure)\n",
    "            train_loss = closure().item()\n",
    "\n",
    "        else:  # AdamW\n",
    "            optimizer.zero_grad()\n",
    "            output = model(0, x_train)\n",
    "            loss = loss_fn(output, y_train)\n",
    "            loss.backward()\n",
    "            optimizer.step()\n",
    "            train_loss = loss.item()\n",
    "\n",
    "        with torch.no_grad():\n",
    "            val_output = model(0, dataset[\"val_img\"].to(device))\n",
    "            val_loss = loss_fn(val_output, dataset[\"val_label\"].to(device)).item()\n",
    "\n",
    "        results[\"train_loss\"].append(train_loss)\n",
    "        results[\"val_loss\"].append(val_loss)\n",
    "\n",
    "        if metrics != None:\n",
    "            for i in range(len(metrics)):\n",
    "                results[metrics[i].__name__].append(metrics[i]().item())\n",
    "\n",
    "        if val_loss < best_loss:\n",
    "            best_loss = val_loss\n",
    "            best_epoch = step\n",
    "            best_model_state = copy.deepcopy(model.state_dict())\n",
    "\n",
    "\n",
    "        if display_metrics == None:\n",
    "            pbar.set_description(f\"| Train: {train_loss:.4e} | Val: {val_loss:.4e} |\")\n",
    "        else:\n",
    "            string = ''\n",
    "            data = ()\n",
    "            for metric in display_metrics:\n",
    "                string += f' {metric}: %.2e |'\n",
    "                try:\n",
    "                    results[metric]\n",
    "                except:\n",
    "                    raise Exception(f'{metric} not recognized')\n",
    "                data += (results[metric][-1],)\n",
    "            pbar.set_description(string % data)\n",
    "\n",
    "    print(f\"✅ Best validation loss: {best_loss:.4e} at {best_epoch} epoch\")\n",
    "    return best_model_state, results, best_epoch"
   ]
  },
  {
   "cell_type": "code",
   "execution_count": 13,
   "id": "5abb1ba6",
   "metadata": {},
   "outputs": [],
   "source": [
    "def build_custom_cnn_model(cnn_blocks, dense_layers, imgs_shape, device='cuda'):\n",
    "    class CustomCNNModel(nn.Module):\n",
    "        def __init__(self):\n",
    "            super(CustomCNNModel, self).__init__()\n",
    "            self.device = device\n",
    "\n",
    "            cnn_layers = []\n",
    "            in_channels = imgs_shape[0]\n",
    "            out_channels = 16\n",
    "            cnn_blocks_list = [6, 5, 4]\n",
    "            size_layer_norm = cnn_blocks_list[cnn_blocks-1]\n",
    "            \n",
    "            f_layer_size = 10 - cnn_blocks*2\n",
    "            for i in range(cnn_blocks):\n",
    "                cnn_layers.append(nn.Conv2d(in_channels, out_channels, kernel_size=3, padding=2))\n",
    "                \n",
    "                if i < cnn_blocks - 1:\n",
    "                    cnn_layers.append(nn.BatchNorm2d(out_channels))\n",
    "                    cnn_layers.append(nn.ReLU())\n",
    "                    cnn_layers.append(nn.MaxPool2d(2))\n",
    "                else:\n",
    "                    # Last block: LayerNorm + Sigmoid + Flatten\n",
    "                    cnn_layers.append(nn.LayerNorm([out_channels, size_layer_norm, size_layer_norm]))\n",
    "                    cnn_layers.append(nn.Sigmoid())\n",
    "                    cnn_layers.append(nn.Flatten())\n",
    "                in_channels = out_channels\n",
    "                out_channels *= 2\n",
    "\n",
    "            self.cnn_branch = nn.Sequential(*cnn_layers).to(device)\n",
    "            self.flat_size = self._get_flat_size(imgs_shape)\n",
    "\n",
    "            # Dense (FC) layers\n",
    "            fc_layers = []\n",
    "            input_dim = self.flat_size\n",
    "            for i in range(dense_layers - 1):\n",
    "                fc_layers.append(nn.Linear(int(input_dim), int(input_dim // 2)))\n",
    "                fc_layers.append(nn.ReLU())\n",
    "                input_dim = input_dim // 2\n",
    "            fc_layers.append(nn.Linear(int(input_dim), 1))\n",
    "\n",
    "            self.fc = nn.Sequential(*fc_layers).to(device)\n",
    "\n",
    "        def _get_flat_size(self, imgs_shape):\n",
    "            dummy_input = torch.zeros(1, *imgs_shape, device=self.device)\n",
    "            x = self.cnn_branch(dummy_input)\n",
    "            return x.shape[1]\n",
    "\n",
    "        def forward(self, num_input, img_input):\n",
    "            img_input = img_input.to(self.device)\n",
    "            features = self.cnn_branch(img_input)\n",
    "            output = self.fc(features)\n",
    "            return output\n",
    "\n",
    "    return CustomCNNModel()"
   ]
  },
  {
   "cell_type": "code",
   "execution_count": 30,
   "id": "5dc5e2b8",
   "metadata": {},
   "outputs": [],
   "source": [
    "def grid_search_cnn(dataset, steps=110, opt='LBFGS', batch=-1):\n",
    "    cnn_blocks_options = list(range(1, 4))\n",
    "    dense_layers_options = list(range(1, 4))\n",
    "\n",
    "    top_models = []  # list of dicts: each will have 'loss', 'config', 'state_dict'\n",
    "\n",
    "    for cnn_blocks in cnn_blocks_options:\n",
    "        for dense_layers in dense_layers_options:\n",
    "            print(f\"Testing cnn_blocks={cnn_blocks}, dense_layers={dense_layers}\")\n",
    "            model = build_custom_cnn_model(cnn_blocks, dense_layers, imgs_shape)\n",
    "            def train_acc_cnn():\n",
    "                return torch.mean((torch.round(model(0, dataset['train_img'])[:,0]) == dataset['train_label'][:,0]).type(dtype))\n",
    "            \n",
    "            def val_acc_cnn():\n",
    "                return torch.mean((torch.round(model(0, dataset['val_img'])[:,0]) == dataset['val_label'][:,0]).type(dtype))\n",
    "            # Custom training\n",
    "            model_state, _, best_epoch = fit_cnn_only_model(model, dataset, steps=steps, opt=opt, batch=batch, \n",
    "                                                        metrics=(train_acc_cnn, val_acc_cnn), display_metrics=['train_acc_cnn', 'val_acc_cnn'])\n",
    "            model.load_state_dict(model_state)\n",
    "\n",
    "            # Evaluate\n",
    "            avg_acc = torch.mean((torch.round(model(0, dataset['test_img'])[:,0]) == dataset['test_label'][:,0]).type(dtype))\n",
    "            print(avg_acc)\n",
    "            # Save this model info\n",
    "            top_models.append({\n",
    "                \"acc_test\": avg_acc,\n",
    "                \"config\": {\"cnn_blocks\": cnn_blocks, \"dense_layers\": dense_layers},\n",
    "                #\"state_dict\": copy.deepcopy(model_state),\n",
    "                \"best_epoch\": best_epoch\n",
    "            })\n",
    "            \n",
    "            del model\n",
    "            torch.cuda.empty_cache()\n",
    "            gc.collect()\n",
    "            # Keep only top 5\n",
    "            top_models = sorted(top_models, key=lambda x: x[\"acc_test\"], reverse=True)[:5]\n",
    "\n",
    "    print(\"\\n✅ Top 5 Configurations:\")\n",
    "    for i, entry in enumerate(top_models):\n",
    "        cfg = entry[\"config\"]\n",
    "        print(f\"{i+1}. cnn_blocks={cfg['cnn_blocks']}, dense_layers={cfg['dense_layers']} | best_epoch={entry['best_epoch']} | acc={entry['acc_test']:.5f}\")\n",
    "\n",
    "    #return top_models"
   ]
  },
  {
   "cell_type": "markdown",
   "id": "85028d5e",
   "metadata": {
    "jp-MarkdownHeadingCollapsed": true
   },
   "source": [
    "### Hybrid Functions"
   ]
  },
  {
   "cell_type": "code",
   "execution_count": 37,
   "id": "766c41b1",
   "metadata": {},
   "outputs": [],
   "source": [
    "def fit_hybrid_dataloaders(model, \n",
    "                           dataset,\n",
    "                           opt=\"AdamW\", \n",
    "                           steps=100, \n",
    "                           log=1, \n",
    "                           lamb=0., \n",
    "                           lamb_l1=1., \n",
    "                           lamb_entropy=2., \n",
    "                           lamb_coef=0., \n",
    "                           lamb_coefdiff=0., \n",
    "                           update_grid=True, \n",
    "                           grid_update_num=10, \n",
    "                           loss_fn=None, \n",
    "                           lr=1., \n",
    "                           start_grid_update_step=-1, \n",
    "                           stop_grid_update_step=50, \n",
    "                           batch=-1,\n",
    "                           metrics=None, \n",
    "                           save_fig=False, \n",
    "                           in_vars=None, \n",
    "                           out_vars=None, \n",
    "                           beta=3, \n",
    "                           save_fig_freq=1, \n",
    "                           img_folder='./video', \n",
    "                           singularity_avoiding=False, \n",
    "                           y_th=1000., \n",
    "                           reg_metric='edge_forward_spline_n', \n",
    "                           display_metrics=None,\n",
    "                           sum_f_reg=True):\n",
    "    \"\"\"\n",
    "    Trains the hybrid model (with a KAN branch and a CNN branch) using a steps-based loop\n",
    "    adapted from KAN.fit(), with grid updates and regularization.\n",
    "    \n",
    "    Instead of a single dataset dict, this function accepts three DataLoaders:\n",
    "        - train_loader: provides (mlp, img, target) for training\n",
    "        - val_loader: provides (mlp, img, target) for evaluation during training\n",
    "        - test_loader: provides (mlp, img, target) for validation\n",
    "\n",
    "    Internally, the function combines each loader into a dataset dictionary.\n",
    "    \n",
    "    Returns:\n",
    "        results: dictionary containing training loss, evaluation loss, regularization values,\n",
    "                 and any additional metrics recorded during training.\n",
    "    \"\"\"\n",
    "    #device = next(model.parameters()).device\n",
    "\n",
    "    # Warn if regularization is requested but model's internal flag isn't enabled.\n",
    "    if lamb > 0. and not getattr(model.m_kan, \"save_act\", False):\n",
    "        print(\"setting lamb=0. If you want to set lamb > 0, set model.m_kan.save_act=True\")\n",
    "    \n",
    "    # Disable symbolic processing for training if applicable (KAN internal logic)\n",
    "    if hasattr(model.m_kan, \"disable_symbolic_in_fit\"):\n",
    "        old_save_act, old_symbolic_enabled = model.m_kan.disable_symbolic_in_fit(lamb)\n",
    "        f_old_save_act, f_old_symbolic_enabled = model.final_kan.disable_symbolic_in_fit(lamb)\n",
    "    else:\n",
    "        old_save_act, old_symbolic_enabled = None, None\n",
    "\n",
    "    pbar = tqdm(range(steps), desc='Training', ncols=100)\n",
    "\n",
    "    # Default loss function (mean squared error) if not provided\n",
    "    if loss_fn is None:\n",
    "        loss_fn = lambda x, y: torch.mean((x - y) ** 2)\n",
    "\n",
    "    # Determine grid update frequency\n",
    "    grid_update_freq = int(stop_grid_update_step / grid_update_num) if grid_update_num > 0 else 1\n",
    "\n",
    "    # Determine total number of training examples\n",
    "    n_train = dataset[\"train_input\"].shape[0]\n",
    "    n_eval  = dataset[\"val_input\"].shape[0]  # using val set for evaluation during training\n",
    "    batch_size = n_train if batch == -1 or batch > n_train else batch\n",
    "\n",
    "    # Set up optimizer: choose between Adam and LBFGS (removed tolerance_ys)\n",
    "    if opt == \"AdamW\":\n",
    "        optimizer = optim.AdamW(model.parameters(), lr=lr)\n",
    "    elif opt == \"LBFGS\":        \n",
    "        optimizer = LBFGS(model.parameters(), lr=lr, history_size=10, \n",
    "                          line_search_fn=\"strong_wolfe\", \n",
    "                          tolerance_grad=1e-32, \n",
    "                          tolerance_change=1e-32, \n",
    "                          tolerance_ys=1e-32)\n",
    "    else:\n",
    "        raise ValueError(\"Optimizer not recognized. Use 'Adam' or 'LBFGS'.\")\n",
    "\n",
    "    # Prepare results dictionary.\n",
    "    results = {'train_loss': [], 'eval_loss': [], 'reg': []}\n",
    "    \n",
    "    if metrics is not None:\n",
    "        for metric in metrics:\n",
    "            results[metric.__name__] = []\n",
    "\n",
    "    best_model_state = None\n",
    "    best_epoch = -1\n",
    "    best_metric = 0\n",
    "    val_metric = 0\n",
    "\n",
    "    for step in pbar:\n",
    "        # Randomly sample indices for a mini-batch from the training set.\n",
    "        train_indices = np.random.choice(n_train, batch_size, replace=False)\n",
    "        # Use full evaluation set for evaluation; you can also sample if desired.\n",
    "        eval_indices = np.arange(n_eval)\n",
    "        \n",
    "        cached_loss = {}\n",
    "        # Closure for LBFGS\n",
    "        def closure():\n",
    "            optimizer.zero_grad()\n",
    "            mlp_batch = dataset[\"train_input\"][train_indices]\n",
    "            img_batch = dataset[\"train_img\"][train_indices]\n",
    "            target_batch = dataset[\"train_label\"][train_indices]\n",
    "            outputs = model(mlp_batch, img_batch)\n",
    "            train_loss = loss_fn(outputs, target_batch)\n",
    "            # Compute regularization term if enabled.\n",
    "            if hasattr(model.m_kan, \"save_act\") and model.m_kan.save_act:\n",
    "                if reg_metric == 'edge_backward':\n",
    "                    model.m_kan.attribute()\n",
    "                    model.final_kan.attribute()\n",
    "                if reg_metric == 'node_backward':\n",
    "                    model.m_kan.node_attribute()\n",
    "                    model.final_kan.node_attribute()\n",
    "                reg_val_inner = model.m_kan.get_reg(reg_metric, lamb_l1, lamb_entropy, lamb_coef, lamb_coefdiff)\n",
    "                if sum_f_reg:\n",
    "                    reg_val_inner += model.final_kan.get_reg(reg_metric, lamb_l1, lamb_entropy, lamb_coef, lamb_coefdiff)\n",
    "            else:\n",
    "                reg_val_inner = torch.tensor(0., device=device)\n",
    "            loss_val_inner = train_loss + lamb * reg_val_inner\n",
    "            loss_val_inner.backward()\n",
    "            cached_loss['loss'] = loss_val_inner.detach()\n",
    "            cached_loss['reg'] = reg_val_inner.detach()\n",
    "            return loss_val_inner\n",
    "\n",
    "        # Perform grid update if applicable.\n",
    "        if (step % grid_update_freq == 0 and step < stop_grid_update_step \n",
    "            and update_grid and step >= start_grid_update_step):\n",
    "            \n",
    "            mlp_batch = dataset['train_input'][train_indices]\n",
    "            cnn_batch = dataset['train_img'][train_indices]\n",
    "            \n",
    "            model.m_kan.update_grid(mlp_batch)\n",
    "            #cnn_output = model.cnn_branch(cnn_batch)  # Process image input\n",
    "            concatenated = model.get_concat_output(mlp_batch, cnn_batch)\n",
    "\n",
    "            model.final_kan.update_grid(concatenated)\n",
    "\n",
    "        # Perform an optimizer step.\n",
    "        if opt == \"LBFGS\":\n",
    "            optimizer.step(closure)\n",
    "            loss_val = cached_loss['loss']\n",
    "            reg_val = cached_loss['reg']\n",
    "        else:  # AdamW branch\n",
    "            optimizer.zero_grad()\n",
    "            mlp_batch = dataset[\"train_input\"][train_indices]\n",
    "            img_batch = dataset[\"train_img\"][train_indices]\n",
    "            target_batch = dataset[\"train_label\"][train_indices]\n",
    "            outputs = model(mlp_batch, img_batch)\n",
    "            train_loss = loss_fn(outputs, target_batch)\n",
    "            if hasattr(model.m_kan, \"save_act\") and model.m_kan.save_act:\n",
    "                if reg_metric == 'edge_backward':\n",
    "                    model.m_kan.attribute()\n",
    "                    model.final_kan.attribute()\n",
    "                if reg_metric == 'node_backward':\n",
    "                    model.m_kan.node_attribute()\n",
    "                    model.final_kan.node_attribute()\n",
    "                reg_val = model.m_kan.get_reg(reg_metric, lamb_l1, lamb_entropy, lamb_coef, lamb_coefdiff)\n",
    "                if sum_f_reg:\n",
    "                    reg_val = reg_val + model.final_kan.get_reg(reg_metric, lamb_l1, lamb_entropy, lamb_coef, lamb_coefdiff)\n",
    "            else:\n",
    "                reg_val = torch.tensor(0., device=device)\n",
    "            loss_val = train_loss + lamb * reg_val\n",
    "            loss_val.backward()\n",
    "            optimizer.step()\n",
    "\n",
    "\n",
    "        with torch.no_grad():\n",
    "            mlp_eval = dataset[\"val_input\"][eval_indices]\n",
    "            img_eval = dataset[\"val_img\"][eval_indices]\n",
    "            target_eval = dataset[\"val_label\"][eval_indices]\n",
    "            eval_loss = loss_fn(model(mlp_eval, img_eval), target_eval)\n",
    "\n",
    "        # Record results (using square-root of loss similar to KAN.fit)\n",
    "        results['eval_loss'].append(torch.sqrt(eval_loss.detach()).item())\n",
    "        results['reg'].append(reg_val.detach().item())\n",
    "\n",
    "        if metrics is not None:\n",
    "            for metric in metrics:\n",
    "                # Here, we assume each metric returns a tensor.\n",
    "                results[metric.__name__].append(metric().item())\n",
    "\n",
    "\n",
    "        # Update progress bar.\n",
    "        if display_metrics is None:\n",
    "            pbar.set_description(\"| train_loss: %.2e | eval_loss: %.2e | reg: %.2e |\" %\n",
    "                                 (torch.sqrt(loss_val.detach()).item(),\n",
    "                                  torch.sqrt(eval_loss.detach()).item(),\n",
    "                                  reg_val.detach().item()))\n",
    "        else:\n",
    "            string = ''\n",
    "            data = ()\n",
    "            for metric in display_metrics:\n",
    "                val_metric = results[metric][-1]\n",
    "                string += f' {metric}: %.2e |'\n",
    "                try:\n",
    "                    results[metric]\n",
    "                except:\n",
    "                    raise Exception(f'{metric} not recognized')\n",
    "                data += (results[metric][-1],)\n",
    "            pbar.set_description(string % data)\n",
    "\n",
    "        if val_metric > best_metric:\n",
    "            best_epoch = step\n",
    "            best_metric = val_metric\n",
    "            best_model_state = copy.deepcopy(model.state_dict())\n",
    "\n",
    "        # Optionally save a figure snapshot.\n",
    "        if save_fig and step % save_fig_freq == 0:\n",
    "            save_act_backup = getattr(model.m_kan, \"save_act\", False)\n",
    "            model.m_kan.save_act = True\n",
    "            model.plot(folder=img_folder, in_vars=in_vars, out_vars=out_vars, title=f\"Step {step}\", beta=beta)\n",
    "            plt.savefig(os.path.join(img_folder, f\"{step}.jpg\"), bbox_inches='tight', dpi=200)\n",
    "            plt.close()\n",
    "            model.m_kan.save_act = save_act_backup\n",
    "\n",
    "    # Restore original settings if applicable.\n",
    "    if old_symbolic_enabled is not None:\n",
    "        model.m_kan.symbolic_enabled = old_symbolic_enabled\n",
    "    if hasattr(model.m_kan, \"log_history\"):\n",
    "        model.m_kan.log_history('fit')\n",
    "    print(f\"✅ Best validation Accuracy: {best_metric:.4e} at {best_epoch} epoch\")\n",
    "    return best_model_state, results, best_epoch"
   ]
  },
  {
   "cell_type": "code",
   "execution_count": 17,
   "id": "bd3a6174",
   "metadata": {},
   "outputs": [],
   "source": [
    "def try_create_model(model_class, attributes, imgs_shape, kan_neurons, kan_grid):\n",
    "    try:\n",
    "        model = model_class(attributes, imgs_shape, kan_neurons, kan_grid)\n",
    "        \n",
    "        # Test the model with a sample input\n",
    "        num_input = torch.randn(4, attributes)\n",
    "        img_input = torch.randn(4, *imgs_shape)\n",
    "        output = model(num_input, img_input)\n",
    "        \n",
    "        print(f\"Successfully created and tested {model_class.__name__}\")\n",
    "        \n",
    "        return model\n",
    "    except Exception as e:\n",
    "        print(f\"Error creating or testing {model_class.__name__}:\")\n",
    "        traceback.print_exc()\n",
    "        return None"
   ]
  },
  {
   "cell_type": "code",
   "execution_count": 18,
   "id": "14c1082c",
   "metadata": {},
   "outputs": [],
   "source": [
    "def grid_search_kan_hybrid(dataset, model_class, max_steps=30):\n",
    "    hidden_neuron_options = list(range(1, attributes // 2 + 1))\n",
    "    grid_options = list(range(3, 9))\n",
    "    lamb_options = [1e-02, 1e-03, 1e-04, 1e-05, 1e-06, 1e-07]\n",
    "\n",
    "    top_models = []  # list of dicts: each will have 'loss', 'config', 'state_dict'\n",
    "\n",
    "    for hidden in hidden_neuron_options:\n",
    "        for grid in grid_options:\n",
    "            for lamb in lamb_options:\n",
    "                print(f\"Testing {hidden} hidden neurons, lamb={lamb}, grid={grid}\")\n",
    "                model = try_create_model(model_class, attributes, imgs_shape, kan_neurons=hidden, kan_grid=grid)  # Attempt to create Model3\n",
    "\n",
    "                def train_acc_hybrid():\n",
    "                    return torch.mean((torch.round(model(dataset['train_input'], dataset['train_img'])[:,0]) == dataset['train_label'][:,0]).type(dtype))\n",
    "                \n",
    "                def val_acc_hybrid():\n",
    "                    return torch.mean((torch.round(model(dataset['val_input'], dataset['val_img'])[:,0]) == dataset['val_label'][:,0]).type(dtype))\n",
    "                # Custom training\n",
    "                model_state, _, best_epoch = fit_hybrid_dataloaders(model, dataset, opt=\"LBFGS\", steps=max_steps, lamb=lamb,\n",
    "                                                                   metrics=(train_acc_hybrid, val_acc_hybrid), display_metrics=['train_acc_hybrid', 'val_acc_hybrid'])\n",
    "                model.load_state_dict(model_state)\n",
    "\n",
    "                # Evaluate\n",
    "                avg_acc = torch.mean((torch.round(model(dataset['test_input'], dataset['test_img'])[:,0]) == dataset['test_label'][:,0]).type(dtype))\n",
    "                print(f'avg_acc {avg_acc}')\n",
    "                # Save this model info\n",
    "                top_models.append({\n",
    "                    \"avg_acc\": avg_acc,\n",
    "                    \"config\": {\"hidden\": hidden, \"grid\": grid, \"lamb\": lamb},\n",
    "                    #\"state_dict\": copy.deepcopy(model_state),\n",
    "                    \"best_epoch\": best_epoch\n",
    "                })\n",
    "                del model\n",
    "                torch.cuda.empty_cache()\n",
    "                gc.collect()\n",
    "        # Keep only top 5\n",
    "        top_models = sorted(top_models, key=lambda x: x[\"avg_acc\"], reverse=True)[:5]\n",
    "\n",
    "    print(\"\\n✅ Top 5 Configurations:\")\n",
    "    for i, entry in enumerate(top_models):\n",
    "        cfg = entry[\"config\"]\n",
    "        print(f\"{i+1}. width=[{attributes}, {cfg['hidden']}, 1], grid={cfg['grid']}, lamb={cfg['lamb']}| best_epoch={entry['best_epoch']} | avg_acc={entry['avg_acc']:.5f}\")\n"
   ]
  },
  {
   "cell_type": "markdown",
   "id": "e503d65b-47e8-4c00-a84f-cec61e51ba9d",
   "metadata": {
    "jp-MarkdownHeadingCollapsed": true
   },
   "source": [
    "# Load Dataset and Images"
   ]
  },
  {
   "cell_type": "code",
   "execution_count": 19,
   "id": "c0d46e15-1287-4f1e-ba6a-cc05b3c8915f",
   "metadata": {},
   "outputs": [],
   "source": [
    "X_train, y_train = load_and_clean('N_train.npy', 'y_train.npy',x_col, target_col)\n",
    "X_test, y_test   = load_and_clean('N_test.npy',  'y_test.npy', x_col, target_col)\n",
    "X_val, y_val     = load_and_clean('N_val.npy',   'y_val.npy', x_col, target_col)"
   ]
  },
  {
   "cell_type": "code",
   "execution_count": 20,
   "id": "92613d4f-1cd2-49f8-82a9-620fda68b565",
   "metadata": {},
   "outputs": [
    {
     "name": "stdout",
     "output_type": "stream",
     "text": [
      "4\n"
     ]
    }
   ],
   "source": [
    "# Get the shape of the dataframe\n",
    "num_columns = X_train.shape[1]\n",
    "\n",
    "# Calculate number of columns - 1\n",
    "columns_minus_one = num_columns - 1\n",
    "\n",
    "# Calculate the square root for image size\n",
    "image_size = math.ceil(math.sqrt(num_columns))\n",
    "print(image_size)"
   ]
  },
  {
   "cell_type": "code",
   "execution_count": 21,
   "id": "a28853f7-dcee-47de-91eb-8f35177b8913",
   "metadata": {},
   "outputs": [],
   "source": [
    "dataset_name = 'FOREX_cadjpy-day-High'\n",
    "#Select the model and the parameters\n",
    "problem_type = \"supervised\"\n",
    "image_model = IGTD(problem= problem_type, scale=[image_size,image_size], fea_dist_method='Euclidean', image_dist_method='Euclidean', error='abs', max_step=30000, val_step=300, random_seed=SEED)\n",
    "name = f\"IGTD_{image_size}x{image_size}_fEuclidean_iEuclidean_abs\"\n",
    "\n",
    "#Define the dataset path and the folder where the images will be saved\n",
    "images_folder = f\"HyNNImages/Classification/{dataset_name}/images_{dataset_name}_{name}\""
   ]
  },
  {
   "cell_type": "code",
   "execution_count": 22,
   "id": "a01e98f2-1bea-4364-b0bc-3d0412ebba5c",
   "metadata": {
    "scrolled": true
   },
   "outputs": [
    {
     "name": "stdout",
     "output_type": "stream",
     "text": [
      "The images are already generated\n",
      "The images are already generated\n",
      "The images are already generated\n",
      "Images shape:  (3, 4, 4)\n",
      "Attributes:  10\n"
     ]
    }
   ],
   "source": [
    "train_loader, val_loader, test_loader, attributes, imgs_shape = load_and_preprocess_data(\n",
    "    X_train, y_train, X_test, y_test, X_val, y_val,\n",
    "    image_model=image_model,\n",
    "    problem_type=problem_type,\n",
    "    batch_size=16\n",
    ")"
   ]
  },
  {
   "cell_type": "code",
   "execution_count": 23,
   "id": "af7bc776-0d49-4456-ba5b-861c4005fa73",
   "metadata": {},
   "outputs": [],
   "source": [
    "def combine_loader(loader):\n",
    "    \"\"\"\n",
    "    Combines all batches from a DataLoader into three tensors.\n",
    "    Assumes each batch is a tuple: (mlp_tensor, img_tensor, target_tensor)\n",
    "    \"\"\"\n",
    "    mlp_list, img_list, target_list = [], [], []\n",
    "    for mlp, img, target in loader:\n",
    "        mlp_list.append(mlp)\n",
    "        img_list.append(img)\n",
    "        target_list.append(target)\n",
    "    return torch.cat(mlp_list, dim=0), torch.cat(img_list, dim=0), torch.cat(target_list, dim=0)"
   ]
  },
  {
   "cell_type": "code",
   "execution_count": 24,
   "id": "2c84fd70-94ac-4546-b907-00fe548676ba",
   "metadata": {},
   "outputs": [],
   "source": [
    "# Combine dataloaders into tensors.\n",
    "train_mlp, train_img, train_target = combine_loader(train_loader)\n",
    "val_mlp, val_img, val_target = combine_loader(val_loader)\n",
    "test_mlp, test_img, test_target = combine_loader(test_loader)\n",
    "\n",
    "dataset = {\n",
    "    \"train_input\": train_mlp.to(device),\n",
    "    \"train_img\": train_img.to(device),\n",
    "    \"train_label\": train_target.to(device),\n",
    "    \"val_input\": val_mlp.to(device),\n",
    "    \"val_img\": val_img.to(device),\n",
    "    \"val_label\": val_target.to(device),\n",
    "    \"test_input\": test_mlp.to(device),\n",
    "    \"test_img\": test_img.to(device),\n",
    "    \"test_label\": test_target.to(device),\n",
    "}"
   ]
  },
  {
   "cell_type": "code",
   "execution_count": 25,
   "id": "d8382d81-df3d-4828-90a0-a472f0fb312e",
   "metadata": {},
   "outputs": [
    {
     "name": "stdout",
     "output_type": "stream",
     "text": [
      "Train data shape: torch.Size([1173, 10])\n",
      "Train target shape: torch.Size([1173, 1])\n",
      "Test data shape: torch.Size([367, 10])\n",
      "Test target shape: torch.Size([367, 1])\n",
      "Validation data shape: torch.Size([294, 10])\n",
      "Validation target shape: torch.Size([294, 1])\n"
     ]
    }
   ],
   "source": [
    "# Print the shapes of the tensors\n",
    "print(\"Train data shape:\", dataset['train_input'].shape)\n",
    "print(\"Train target shape:\", dataset['train_label'].shape)\n",
    "print(\"Test data shape:\", dataset['test_input'].shape)\n",
    "print(\"Test target shape:\", dataset['test_label'].shape)\n",
    "print(\"Validation data shape:\", dataset['val_input'].shape)\n",
    "print(\"Validation target shape:\", dataset['val_label'].shape)"
   ]
  },
  {
   "cell_type": "markdown",
   "id": "a226b922-a823-49b6-ada1-6fae898ef239",
   "metadata": {
    "jp-MarkdownHeadingCollapsed": true
   },
   "source": [
    "# Grid Search for KAN"
   ]
  },
  {
   "cell_type": "code",
   "execution_count": 28,
   "id": "6c7a78d5-a403-422d-b6f1-191d9139220b",
   "metadata": {
    "scrolled": true
   },
   "outputs": [
    {
     "name": "stdout",
     "output_type": "stream",
     "text": [
      "Testing width=[10, 1, 1], lamb=0.01, grid=3\n",
      "checkpoint directory created: ./model\n",
      "saving model version 0.0\n"
     ]
    },
    {
     "name": "stderr",
     "output_type": "stream",
     "text": [
      " train_acc_kan: 5.01e-01 | val_acc_kan: 5.03e-01 |: 100%|███████████| 20/20 [00:03<00:00,  6.11it/s]\n"
     ]
    },
    {
     "name": "stdout",
     "output_type": "stream",
     "text": [
      "saving model version 0.1\n",
      "✅ Best validation Accuracy: 5.0340e-01 at 1 epoch\n",
      "tensor(0.5014, device='cuda:0')\n",
      "Testing width=[10, 1, 1], lamb=0.001, grid=3\n",
      "checkpoint directory created: ./model\n",
      "saving model version 0.0\n"
     ]
    },
    {
     "name": "stderr",
     "output_type": "stream",
     "text": [
      " train_acc_kan: 7.43e-01 | val_acc_kan: 7.01e-01 |: 100%|███████████| 20/20 [00:05<00:00,  3.76it/s]\n"
     ]
    },
    {
     "name": "stdout",
     "output_type": "stream",
     "text": [
      "saving model version 0.1\n",
      "✅ Best validation Accuracy: 7.2109e-01 at 3 epoch\n",
      "tensor(0.7275, device='cuda:0')\n",
      "Testing width=[10, 1, 1], lamb=0.0001, grid=3\n",
      "checkpoint directory created: ./model\n",
      "saving model version 0.0\n"
     ]
    },
    {
     "name": "stderr",
     "output_type": "stream",
     "text": [
      " train_acc_kan: 7.47e-01 | val_acc_kan: 6.87e-01 |: 100%|███████████| 20/20 [00:05<00:00,  3.86it/s]\n"
     ]
    },
    {
     "name": "stdout",
     "output_type": "stream",
     "text": [
      "saving model version 0.1\n",
      "✅ Best validation Accuracy: 7.2449e-01 at 1 epoch\n",
      "tensor(0.7248, device='cuda:0')\n",
      "Testing width=[10, 1, 1], lamb=1e-05, grid=3\n",
      "checkpoint directory created: ./model\n",
      "saving model version 0.0\n"
     ]
    },
    {
     "name": "stderr",
     "output_type": "stream",
     "text": [
      " train_acc_kan: 7.44e-01 | val_acc_kan: 6.94e-01 |: 100%|███████████| 20/20 [00:05<00:00,  3.99it/s]\n"
     ]
    },
    {
     "name": "stdout",
     "output_type": "stream",
     "text": [
      "saving model version 0.1\n",
      "✅ Best validation Accuracy: 7.2109e-01 at 4 epoch\n",
      "tensor(0.7112, device='cuda:0')\n",
      "Testing width=[10, 1, 1], lamb=1e-06, grid=3\n",
      "checkpoint directory created: ./model\n",
      "saving model version 0.0\n"
     ]
    },
    {
     "name": "stderr",
     "output_type": "stream",
     "text": [
      " train_acc_kan: 7.37e-01 | val_acc_kan: 6.94e-01 |: 100%|███████████| 20/20 [00:04<00:00,  4.13it/s]\n"
     ]
    },
    {
     "name": "stdout",
     "output_type": "stream",
     "text": [
      "saving model version 0.1\n",
      "✅ Best validation Accuracy: 7.2449e-01 at 2 epoch\n",
      "tensor(0.7057, device='cuda:0')\n",
      "Testing width=[10, 1, 1], lamb=1e-07, grid=3\n",
      "checkpoint directory created: ./model\n",
      "saving model version 0.0\n"
     ]
    },
    {
     "name": "stderr",
     "output_type": "stream",
     "text": [
      " train_acc_kan: 7.44e-01 | val_acc_kan: 6.90e-01 |: 100%|███████████| 20/20 [00:05<00:00,  3.86it/s]\n"
     ]
    },
    {
     "name": "stdout",
     "output_type": "stream",
     "text": [
      "saving model version 0.1\n",
      "✅ Best validation Accuracy: 7.3129e-01 at 2 epoch\n",
      "tensor(0.7193, device='cuda:0')\n",
      "Testing width=[10, 1, 1], lamb=0.01, grid=4\n",
      "checkpoint directory created: ./model\n",
      "saving model version 0.0\n"
     ]
    },
    {
     "name": "stderr",
     "output_type": "stream",
     "text": [
      " train_acc_kan: 5.01e-01 | val_acc_kan: 5.03e-01 |: 100%|███████████| 20/20 [00:04<00:00,  4.59it/s]\n"
     ]
    },
    {
     "name": "stdout",
     "output_type": "stream",
     "text": [
      "saving model version 0.1\n",
      "✅ Best validation Accuracy: 5.0340e-01 at 0 epoch\n",
      "tensor(0.5014, device='cuda:0')\n",
      "Testing width=[10, 1, 1], lamb=0.001, grid=4\n",
      "checkpoint directory created: ./model\n",
      "saving model version 0.0\n"
     ]
    },
    {
     "name": "stderr",
     "output_type": "stream",
     "text": [
      " train_acc_kan: 7.49e-01 | val_acc_kan: 6.77e-01 |: 100%|███████████| 20/20 [00:05<00:00,  3.99it/s]\n"
     ]
    },
    {
     "name": "stdout",
     "output_type": "stream",
     "text": [
      "saving model version 0.1\n",
      "✅ Best validation Accuracy: 7.1769e-01 at 3 epoch\n",
      "tensor(0.7248, device='cuda:0')\n",
      "Testing width=[10, 1, 1], lamb=0.0001, grid=4\n",
      "checkpoint directory created: ./model\n",
      "saving model version 0.0\n"
     ]
    },
    {
     "name": "stderr",
     "output_type": "stream",
     "text": [
      " train_acc_kan: 7.60e-01 | val_acc_kan: 6.70e-01 |: 100%|███████████| 20/20 [00:05<00:00,  3.85it/s]\n"
     ]
    },
    {
     "name": "stdout",
     "output_type": "stream",
     "text": [
      "saving model version 0.1\n",
      "✅ Best validation Accuracy: 7.2109e-01 at 1 epoch\n",
      "tensor(0.7193, device='cuda:0')\n",
      "Testing width=[10, 1, 1], lamb=1e-05, grid=4\n",
      "checkpoint directory created: ./model\n",
      "saving model version 0.0\n"
     ]
    },
    {
     "name": "stderr",
     "output_type": "stream",
     "text": [
      " train_acc_kan: 7.66e-01 | val_acc_kan: 6.94e-01 |: 100%|███████████| 20/20 [00:05<00:00,  3.80it/s]\n"
     ]
    },
    {
     "name": "stdout",
     "output_type": "stream",
     "text": [
      "saving model version 0.1\n",
      "✅ Best validation Accuracy: 7.2109e-01 at 1 epoch\n",
      "tensor(0.7139, device='cuda:0')\n",
      "Testing width=[10, 1, 1], lamb=1e-06, grid=4\n",
      "checkpoint directory created: ./model\n",
      "saving model version 0.0\n"
     ]
    },
    {
     "name": "stderr",
     "output_type": "stream",
     "text": [
      " train_acc_kan: 7.66e-01 | val_acc_kan: 6.94e-01 |: 100%|███████████| 20/20 [00:05<00:00,  3.97it/s]\n"
     ]
    },
    {
     "name": "stdout",
     "output_type": "stream",
     "text": [
      "saving model version 0.1\n",
      "✅ Best validation Accuracy: 7.2109e-01 at 0 epoch\n",
      "tensor(0.6812, device='cuda:0')\n",
      "Testing width=[10, 1, 1], lamb=1e-07, grid=4\n",
      "checkpoint directory created: ./model\n",
      "saving model version 0.0\n"
     ]
    },
    {
     "name": "stderr",
     "output_type": "stream",
     "text": [
      " train_acc_kan: 7.64e-01 | val_acc_kan: 6.87e-01 |: 100%|███████████| 20/20 [00:04<00:00,  4.11it/s]\n"
     ]
    },
    {
     "name": "stdout",
     "output_type": "stream",
     "text": [
      "saving model version 0.1\n",
      "✅ Best validation Accuracy: 7.2449e-01 at 1 epoch\n",
      "tensor(0.7084, device='cuda:0')\n",
      "Testing width=[10, 1, 1], lamb=0.01, grid=5\n",
      "checkpoint directory created: ./model\n",
      "saving model version 0.0\n"
     ]
    },
    {
     "name": "stderr",
     "output_type": "stream",
     "text": [
      " train_acc_kan: 5.01e-01 | val_acc_kan: 5.03e-01 |: 100%|███████████| 20/20 [00:03<00:00,  6.56it/s]\n"
     ]
    },
    {
     "name": "stdout",
     "output_type": "stream",
     "text": [
      "saving model version 0.1\n",
      "✅ Best validation Accuracy: 5.0340e-01 at 1 epoch\n",
      "tensor(0.5014, device='cuda:0')\n",
      "Testing width=[10, 1, 1], lamb=0.001, grid=5\n",
      "checkpoint directory created: ./model\n",
      "saving model version 0.0\n"
     ]
    },
    {
     "name": "stderr",
     "output_type": "stream",
     "text": [
      " train_acc_kan: 7.10e-01 | val_acc_kan: 6.16e-01 |: 100%|███████████| 20/20 [00:04<00:00,  4.14it/s]\n"
     ]
    },
    {
     "name": "stdout",
     "output_type": "stream",
     "text": [
      "saving model version 0.1\n",
      "✅ Best validation Accuracy: 6.4966e-01 at 2 epoch\n",
      "tensor(0.6839, device='cuda:0')\n",
      "Testing width=[10, 1, 1], lamb=0.0001, grid=5\n",
      "checkpoint directory created: ./model\n",
      "saving model version 0.0\n"
     ]
    },
    {
     "name": "stderr",
     "output_type": "stream",
     "text": [
      " train_acc_kan: 7.21e-01 | val_acc_kan: 6.16e-01 |: 100%|███████████| 20/20 [00:04<00:00,  4.14it/s]\n"
     ]
    },
    {
     "name": "stdout",
     "output_type": "stream",
     "text": [
      "saving model version 0.1\n",
      "✅ Best validation Accuracy: 6.2585e-01 at 3 epoch\n",
      "tensor(0.6213, device='cuda:0')\n",
      "Testing width=[10, 1, 1], lamb=1e-05, grid=5\n",
      "checkpoint directory created: ./model\n",
      "saving model version 0.0\n"
     ]
    },
    {
     "name": "stderr",
     "output_type": "stream",
     "text": [
      " train_acc_kan: 7.17e-01 | val_acc_kan: 6.05e-01 |: 100%|███████████| 20/20 [00:04<00:00,  4.28it/s]\n"
     ]
    },
    {
     "name": "stdout",
     "output_type": "stream",
     "text": [
      "saving model version 0.1\n",
      "✅ Best validation Accuracy: 6.2585e-01 at 5 epoch\n",
      "tensor(0.6376, device='cuda:0')\n",
      "Testing width=[10, 1, 1], lamb=1e-06, grid=5\n",
      "checkpoint directory created: ./model\n",
      "saving model version 0.0\n"
     ]
    },
    {
     "name": "stderr",
     "output_type": "stream",
     "text": [
      " train_acc_kan: 7.24e-01 | val_acc_kan: 6.05e-01 |: 100%|███████████| 20/20 [00:04<00:00,  4.03it/s]\n"
     ]
    },
    {
     "name": "stdout",
     "output_type": "stream",
     "text": [
      "saving model version 0.1\n",
      "✅ Best validation Accuracy: 6.2585e-01 at 4 epoch\n",
      "tensor(0.6213, device='cuda:0')\n",
      "Testing width=[10, 1, 1], lamb=1e-07, grid=5\n",
      "checkpoint directory created: ./model\n",
      "saving model version 0.0\n"
     ]
    },
    {
     "name": "stderr",
     "output_type": "stream",
     "text": [
      " train_acc_kan: 7.22e-01 | val_acc_kan: 6.09e-01 |: 100%|███████████| 20/20 [00:04<00:00,  4.21it/s]\n"
     ]
    },
    {
     "name": "stdout",
     "output_type": "stream",
     "text": [
      "saving model version 0.1\n",
      "✅ Best validation Accuracy: 6.3265e-01 at 5 epoch\n",
      "tensor(0.6322, device='cuda:0')\n",
      "Testing width=[10, 1, 1], lamb=0.01, grid=6\n",
      "checkpoint directory created: ./model\n",
      "saving model version 0.0\n"
     ]
    },
    {
     "name": "stderr",
     "output_type": "stream",
     "text": [
      " train_acc_kan: 5.01e-01 | val_acc_kan: 5.03e-01 |: 100%|███████████| 20/20 [00:03<00:00,  6.09it/s]\n"
     ]
    },
    {
     "name": "stdout",
     "output_type": "stream",
     "text": [
      "saving model version 0.1\n",
      "✅ Best validation Accuracy: 5.0340e-01 at 1 epoch\n",
      "tensor(0.4959, device='cuda:0')\n",
      "Testing width=[10, 1, 1], lamb=0.001, grid=6\n",
      "checkpoint directory created: ./model\n",
      "saving model version 0.0\n"
     ]
    },
    {
     "name": "stderr",
     "output_type": "stream",
     "text": [
      " train_acc_kan: 7.14e-01 | val_acc_kan: 5.99e-01 |: 100%|███████████| 20/20 [00:04<00:00,  4.21it/s]\n"
     ]
    },
    {
     "name": "stdout",
     "output_type": "stream",
     "text": [
      "saving model version 0.1\n",
      "✅ Best validation Accuracy: 6.2585e-01 at 8 epoch\n",
      "tensor(0.6567, device='cuda:0')\n",
      "Testing width=[10, 1, 1], lamb=0.0001, grid=6\n",
      "checkpoint directory created: ./model\n",
      "saving model version 0.0\n"
     ]
    },
    {
     "name": "stderr",
     "output_type": "stream",
     "text": [
      " train_acc_kan: 7.20e-01 | val_acc_kan: 5.95e-01 |: 100%|███████████| 20/20 [00:05<00:00,  3.35it/s]\n"
     ]
    },
    {
     "name": "stdout",
     "output_type": "stream",
     "text": [
      "saving model version 0.1\n",
      "✅ Best validation Accuracy: 6.2585e-01 at 11 epoch\n",
      "tensor(0.6376, device='cuda:0')\n",
      "Testing width=[10, 1, 1], lamb=1e-05, grid=6\n",
      "checkpoint directory created: ./model\n",
      "saving model version 0.0\n"
     ]
    },
    {
     "name": "stderr",
     "output_type": "stream",
     "text": [
      " train_acc_kan: 7.18e-01 | val_acc_kan: 6.05e-01 |: 100%|███████████| 20/20 [00:06<00:00,  3.27it/s]\n"
     ]
    },
    {
     "name": "stdout",
     "output_type": "stream",
     "text": [
      "saving model version 0.1\n",
      "✅ Best validation Accuracy: 6.2925e-01 at 2 epoch\n",
      "tensor(0.6104, device='cuda:0')\n",
      "Testing width=[10, 1, 1], lamb=1e-06, grid=6\n",
      "checkpoint directory created: ./model\n",
      "saving model version 0.0\n"
     ]
    },
    {
     "name": "stderr",
     "output_type": "stream",
     "text": [
      " train_acc_kan: 7.24e-01 | val_acc_kan: 6.05e-01 |: 100%|███████████| 20/20 [00:05<00:00,  3.38it/s]\n"
     ]
    },
    {
     "name": "stdout",
     "output_type": "stream",
     "text": [
      "saving model version 0.1\n",
      "✅ Best validation Accuracy: 6.2925e-01 at 4 epoch\n",
      "tensor(0.6322, device='cuda:0')\n",
      "Testing width=[10, 1, 1], lamb=1e-07, grid=6\n",
      "checkpoint directory created: ./model\n",
      "saving model version 0.0\n"
     ]
    },
    {
     "name": "stderr",
     "output_type": "stream",
     "text": [
      " train_acc_kan: 7.23e-01 | val_acc_kan: 5.95e-01 |: 100%|███████████| 20/20 [00:06<00:00,  3.07it/s]\n"
     ]
    },
    {
     "name": "stdout",
     "output_type": "stream",
     "text": [
      "saving model version 0.1\n",
      "✅ Best validation Accuracy: 6.3265e-01 at 5 epoch\n",
      "tensor(0.6294, device='cuda:0')\n",
      "Testing width=[10, 1, 1], lamb=0.01, grid=7\n",
      "checkpoint directory created: ./model\n",
      "saving model version 0.0\n"
     ]
    },
    {
     "name": "stderr",
     "output_type": "stream",
     "text": [
      " train_acc_kan: 5.01e-01 | val_acc_kan: 5.03e-01 |: 100%|███████████| 20/20 [00:04<00:00,  4.23it/s]\n"
     ]
    },
    {
     "name": "stdout",
     "output_type": "stream",
     "text": [
      "saving model version 0.1\n",
      "✅ Best validation Accuracy: 5.0340e-01 at 2 epoch\n",
      "tensor(0.5014, device='cuda:0')\n",
      "Testing width=[10, 1, 1], lamb=0.001, grid=7\n",
      "checkpoint directory created: ./model\n",
      "saving model version 0.0\n"
     ]
    },
    {
     "name": "stderr",
     "output_type": "stream",
     "text": [
      " train_acc_kan: 7.63e-01 | val_acc_kan: 6.60e-01 |: 100%|███████████| 20/20 [00:05<00:00,  3.78it/s]\n"
     ]
    },
    {
     "name": "stdout",
     "output_type": "stream",
     "text": [
      "saving model version 0.1\n",
      "✅ Best validation Accuracy: 7.0068e-01 at 4 epoch\n",
      "tensor(0.7166, device='cuda:0')\n",
      "Testing width=[10, 1, 1], lamb=0.0001, grid=7\n",
      "checkpoint directory created: ./model\n",
      "saving model version 0.0\n"
     ]
    },
    {
     "name": "stderr",
     "output_type": "stream",
     "text": [
      " train_acc_kan: 7.68e-01 | val_acc_kan: 6.73e-01 |: 100%|███████████| 20/20 [00:05<00:00,  3.77it/s]\n"
     ]
    },
    {
     "name": "stdout",
     "output_type": "stream",
     "text": [
      "saving model version 0.1\n",
      "✅ Best validation Accuracy: 7.0748e-01 at 2 epoch\n",
      "tensor(0.7248, device='cuda:0')\n",
      "Testing width=[10, 1, 1], lamb=1e-05, grid=7\n",
      "checkpoint directory created: ./model\n",
      "saving model version 0.0\n"
     ]
    },
    {
     "name": "stderr",
     "output_type": "stream",
     "text": [
      " train_acc_kan: 7.64e-01 | val_acc_kan: 6.67e-01 |: 100%|███████████| 20/20 [00:05<00:00,  3.82it/s]\n"
     ]
    },
    {
     "name": "stdout",
     "output_type": "stream",
     "text": [
      "saving model version 0.1\n",
      "✅ Best validation Accuracy: 7.0408e-01 at 3 epoch\n",
      "tensor(0.7139, device='cuda:0')\n",
      "Testing width=[10, 1, 1], lamb=1e-06, grid=7\n",
      "checkpoint directory created: ./model\n",
      "saving model version 0.0\n"
     ]
    },
    {
     "name": "stderr",
     "output_type": "stream",
     "text": [
      " train_acc_kan: 7.67e-01 | val_acc_kan: 6.73e-01 |: 100%|███████████| 20/20 [00:05<00:00,  3.90it/s]\n"
     ]
    },
    {
     "name": "stdout",
     "output_type": "stream",
     "text": [
      "saving model version 0.1\n",
      "✅ Best validation Accuracy: 6.8367e-01 at 3 epoch\n",
      "tensor(0.7112, device='cuda:0')\n",
      "Testing width=[10, 1, 1], lamb=1e-07, grid=7\n",
      "checkpoint directory created: ./model\n",
      "saving model version 0.0\n"
     ]
    },
    {
     "name": "stderr",
     "output_type": "stream",
     "text": [
      " train_acc_kan: 7.65e-01 | val_acc_kan: 6.84e-01 |: 100%|███████████| 20/20 [00:05<00:00,  3.85it/s]\n"
     ]
    },
    {
     "name": "stdout",
     "output_type": "stream",
     "text": [
      "saving model version 0.1\n",
      "✅ Best validation Accuracy: 7.1088e-01 at 2 epoch\n",
      "tensor(0.7003, device='cuda:0')\n",
      "Testing width=[10, 1, 1], lamb=0.01, grid=8\n",
      "checkpoint directory created: ./model\n",
      "saving model version 0.0\n"
     ]
    },
    {
     "name": "stderr",
     "output_type": "stream",
     "text": [
      " train_acc_kan: 7.59e-01 | val_acc_kan: 6.87e-01 |: 100%|███████████| 20/20 [00:05<00:00,  3.80it/s]\n"
     ]
    },
    {
     "name": "stdout",
     "output_type": "stream",
     "text": [
      "saving model version 0.1\n",
      "✅ Best validation Accuracy: 7.1088e-01 at 7 epoch\n",
      "tensor(0.6757, device='cuda:0')\n",
      "Testing width=[10, 1, 1], lamb=0.001, grid=8\n",
      "checkpoint directory created: ./model\n",
      "saving model version 0.0\n"
     ]
    },
    {
     "name": "stderr",
     "output_type": "stream",
     "text": [
      " train_acc_kan: 7.59e-01 | val_acc_kan: 6.60e-01 |: 100%|███████████| 20/20 [00:05<00:00,  3.72it/s]\n"
     ]
    },
    {
     "name": "stdout",
     "output_type": "stream",
     "text": [
      "saving model version 0.1\n",
      "✅ Best validation Accuracy: 6.5986e-01 at 19 epoch\n",
      "tensor(0.6621, device='cuda:0')\n",
      "Testing width=[10, 1, 1], lamb=0.0001, grid=8\n",
      "checkpoint directory created: ./model\n",
      "saving model version 0.0\n"
     ]
    },
    {
     "name": "stderr",
     "output_type": "stream",
     "text": [
      " train_acc_kan: 7.40e-01 | val_acc_kan: 5.95e-01 |: 100%|███████████| 20/20 [00:05<00:00,  3.77it/s]\n"
     ]
    },
    {
     "name": "stdout",
     "output_type": "stream",
     "text": [
      "saving model version 0.1\n",
      "✅ Best validation Accuracy: 6.4966e-01 at 1 epoch\n",
      "tensor(0.5749, device='cuda:0')\n",
      "Testing width=[10, 1, 1], lamb=1e-05, grid=8\n",
      "checkpoint directory created: ./model\n",
      "saving model version 0.0\n"
     ]
    },
    {
     "name": "stderr",
     "output_type": "stream",
     "text": [
      " train_acc_kan: 7.26e-01 | val_acc_kan: 6.29e-01 |: 100%|███████████| 20/20 [00:05<00:00,  3.75it/s]\n"
     ]
    },
    {
     "name": "stdout",
     "output_type": "stream",
     "text": [
      "saving model version 0.1\n",
      "✅ Best validation Accuracy: 6.6327e-01 at 1 epoch\n",
      "tensor(0.5749, device='cuda:0')\n",
      "Testing width=[10, 1, 1], lamb=1e-06, grid=8\n",
      "checkpoint directory created: ./model\n",
      "saving model version 0.0\n"
     ]
    },
    {
     "name": "stderr",
     "output_type": "stream",
     "text": [
      " train_acc_kan: 7.30e-01 | val_acc_kan: 6.50e-01 |: 100%|███████████| 20/20 [00:05<00:00,  3.88it/s]\n"
     ]
    },
    {
     "name": "stdout",
     "output_type": "stream",
     "text": [
      "saving model version 0.1\n",
      "✅ Best validation Accuracy: 6.6327e-01 at 1 epoch\n",
      "tensor(0.5940, device='cuda:0')\n",
      "Testing width=[10, 1, 1], lamb=1e-07, grid=8\n",
      "checkpoint directory created: ./model\n",
      "saving model version 0.0\n"
     ]
    },
    {
     "name": "stderr",
     "output_type": "stream",
     "text": [
      " train_acc_kan: 7.27e-01 | val_acc_kan: 6.22e-01 |: 100%|███████████| 20/20 [00:05<00:00,  3.65it/s]\n"
     ]
    },
    {
     "name": "stdout",
     "output_type": "stream",
     "text": [
      "saving model version 0.1\n",
      "✅ Best validation Accuracy: 6.7007e-01 at 1 epoch\n",
      "tensor(0.6185, device='cuda:0')\n",
      "Testing width=[10, 2, 1], lamb=0.01, grid=3\n",
      "checkpoint directory created: ./model\n",
      "saving model version 0.0\n"
     ]
    },
    {
     "name": "stderr",
     "output_type": "stream",
     "text": [
      " train_acc_kan: 5.01e-01 | val_acc_kan: 5.03e-01 |: 100%|███████████| 20/20 [00:03<00:00,  5.15it/s]\n"
     ]
    },
    {
     "name": "stdout",
     "output_type": "stream",
     "text": [
      "saving model version 0.1\n",
      "✅ Best validation Accuracy: 5.0340e-01 at 0 epoch\n",
      "tensor(0.5095, device='cuda:0')\n",
      "Testing width=[10, 2, 1], lamb=0.001, grid=3\n",
      "checkpoint directory created: ./model\n",
      "saving model version 0.0\n"
     ]
    },
    {
     "name": "stderr",
     "output_type": "stream",
     "text": [
      " train_acc_kan: 7.47e-01 | val_acc_kan: 6.87e-01 |: 100%|███████████| 20/20 [00:05<00:00,  3.56it/s]\n"
     ]
    },
    {
     "name": "stdout",
     "output_type": "stream",
     "text": [
      "saving model version 0.1\n",
      "✅ Best validation Accuracy: 7.1088e-01 at 5 epoch\n",
      "tensor(0.7275, device='cuda:0')\n",
      "Testing width=[10, 2, 1], lamb=0.0001, grid=3\n",
      "checkpoint directory created: ./model\n",
      "saving model version 0.0\n"
     ]
    },
    {
     "name": "stderr",
     "output_type": "stream",
     "text": [
      " train_acc_kan: 7.49e-01 | val_acc_kan: 6.73e-01 |: 100%|███████████| 20/20 [00:05<00:00,  3.84it/s]\n"
     ]
    },
    {
     "name": "stdout",
     "output_type": "stream",
     "text": [
      "saving model version 0.1\n",
      "✅ Best validation Accuracy: 7.2109e-01 at 1 epoch\n",
      "tensor(0.7166, device='cuda:0')\n",
      "Testing width=[10, 2, 1], lamb=1e-05, grid=3\n",
      "checkpoint directory created: ./model\n",
      "saving model version 0.0\n"
     ]
    },
    {
     "name": "stderr",
     "output_type": "stream",
     "text": [
      " train_acc_kan: 7.39e-01 | val_acc_kan: 6.90e-01 |: 100%|███████████| 20/20 [00:05<00:00,  3.65it/s]\n"
     ]
    },
    {
     "name": "stdout",
     "output_type": "stream",
     "text": [
      "saving model version 0.1\n",
      "✅ Best validation Accuracy: 7.3469e-01 at 2 epoch\n",
      "tensor(0.7248, device='cuda:0')\n",
      "Testing width=[10, 2, 1], lamb=1e-06, grid=3\n",
      "checkpoint directory created: ./model\n",
      "saving model version 0.0\n"
     ]
    },
    {
     "name": "stderr",
     "output_type": "stream",
     "text": [
      " train_acc_kan: 7.45e-01 | val_acc_kan: 6.90e-01 |: 100%|███████████| 20/20 [00:05<00:00,  3.64it/s]\n"
     ]
    },
    {
     "name": "stdout",
     "output_type": "stream",
     "text": [
      "saving model version 0.1\n",
      "✅ Best validation Accuracy: 7.3810e-01 at 2 epoch\n",
      "tensor(0.7193, device='cuda:0')\n",
      "Testing width=[10, 2, 1], lamb=1e-07, grid=3\n",
      "checkpoint directory created: ./model\n",
      "saving model version 0.0\n"
     ]
    },
    {
     "name": "stderr",
     "output_type": "stream",
     "text": [
      " train_acc_kan: 7.43e-01 | val_acc_kan: 6.97e-01 |: 100%|███████████| 20/20 [00:05<00:00,  3.59it/s]\n"
     ]
    },
    {
     "name": "stdout",
     "output_type": "stream",
     "text": [
      "saving model version 0.1\n",
      "✅ Best validation Accuracy: 7.3469e-01 at 2 epoch\n",
      "tensor(0.7275, device='cuda:0')\n",
      "Testing width=[10, 2, 1], lamb=0.01, grid=4\n",
      "checkpoint directory created: ./model\n",
      "saving model version 0.0\n"
     ]
    },
    {
     "name": "stderr",
     "output_type": "stream",
     "text": [
      " train_acc_kan: 7.42e-01 | val_acc_kan: 6.94e-01 |: 100%|███████████| 20/20 [00:05<00:00,  3.68it/s]\n"
     ]
    },
    {
     "name": "stdout",
     "output_type": "stream",
     "text": [
      "saving model version 0.1\n",
      "✅ Best validation Accuracy: 7.2449e-01 at 7 epoch\n",
      "tensor(0.7248, device='cuda:0')\n",
      "Testing width=[10, 2, 1], lamb=0.001, grid=4\n",
      "checkpoint directory created: ./model\n",
      "saving model version 0.0\n"
     ]
    },
    {
     "name": "stderr",
     "output_type": "stream",
     "text": [
      " train_acc_kan: 7.55e-01 | val_acc_kan: 6.84e-01 |: 100%|███████████| 20/20 [00:05<00:00,  3.63it/s]\n"
     ]
    },
    {
     "name": "stdout",
     "output_type": "stream",
     "text": [
      "saving model version 0.1\n",
      "✅ Best validation Accuracy: 7.2109e-01 at 2 epoch\n",
      "tensor(0.7193, device='cuda:0')\n",
      "Testing width=[10, 2, 1], lamb=0.0001, grid=4\n",
      "checkpoint directory created: ./model\n",
      "saving model version 0.0\n"
     ]
    },
    {
     "name": "stderr",
     "output_type": "stream",
     "text": [
      " train_acc_kan: 7.60e-01 | val_acc_kan: 6.70e-01 |: 100%|███████████| 20/20 [00:05<00:00,  3.95it/s]\n"
     ]
    },
    {
     "name": "stdout",
     "output_type": "stream",
     "text": [
      "saving model version 0.1\n",
      "✅ Best validation Accuracy: 7.1429e-01 at 3 epoch\n",
      "tensor(0.7357, device='cuda:0')\n",
      "Testing width=[10, 2, 1], lamb=1e-05, grid=4\n",
      "checkpoint directory created: ./model\n",
      "saving model version 0.0\n"
     ]
    },
    {
     "name": "stderr",
     "output_type": "stream",
     "text": [
      " train_acc_kan: 7.55e-01 | val_acc_kan: 6.87e-01 |: 100%|███████████| 20/20 [00:05<00:00,  3.57it/s]\n"
     ]
    },
    {
     "name": "stdout",
     "output_type": "stream",
     "text": [
      "saving model version 0.1\n",
      "✅ Best validation Accuracy: 7.3810e-01 at 3 epoch\n",
      "tensor(0.7221, device='cuda:0')\n",
      "Testing width=[10, 2, 1], lamb=1e-06, grid=4\n",
      "checkpoint directory created: ./model\n",
      "saving model version 0.0\n"
     ]
    },
    {
     "name": "stderr",
     "output_type": "stream",
     "text": [
      " train_acc_kan: 7.54e-01 | val_acc_kan: 6.77e-01 |: 100%|███████████| 20/20 [00:05<00:00,  3.51it/s]\n"
     ]
    },
    {
     "name": "stdout",
     "output_type": "stream",
     "text": [
      "saving model version 0.1\n",
      "✅ Best validation Accuracy: 7.3810e-01 at 2 epoch\n",
      "tensor(0.7384, device='cuda:0')\n",
      "Testing width=[10, 2, 1], lamb=1e-07, grid=4\n",
      "checkpoint directory created: ./model\n",
      "saving model version 0.0\n"
     ]
    },
    {
     "name": "stderr",
     "output_type": "stream",
     "text": [
      " train_acc_kan: 7.51e-01 | val_acc_kan: 6.73e-01 |: 100%|███████████| 20/20 [00:05<00:00,  3.71it/s]\n"
     ]
    },
    {
     "name": "stdout",
     "output_type": "stream",
     "text": [
      "saving model version 0.1\n",
      "✅ Best validation Accuracy: 7.2449e-01 at 2 epoch\n",
      "tensor(0.7248, device='cuda:0')\n",
      "Testing width=[10, 2, 1], lamb=0.01, grid=5\n",
      "checkpoint directory created: ./model\n",
      "saving model version 0.0\n"
     ]
    },
    {
     "name": "stderr",
     "output_type": "stream",
     "text": [
      " train_acc_kan: 5.01e-01 | val_acc_kan: 5.03e-01 |: 100%|███████████| 20/20 [00:03<00:00,  6.08it/s]\n"
     ]
    },
    {
     "name": "stdout",
     "output_type": "stream",
     "text": [
      "saving model version 0.1\n",
      "✅ Best validation Accuracy: 5.0340e-01 at 1 epoch\n",
      "tensor(0.5014, device='cuda:0')\n",
      "Testing width=[10, 2, 1], lamb=0.001, grid=5\n",
      "checkpoint directory created: ./model\n",
      "saving model version 0.0\n"
     ]
    },
    {
     "name": "stderr",
     "output_type": "stream",
     "text": [
      " train_acc_kan: 7.49e-01 | val_acc_kan: 6.87e-01 |: 100%|███████████| 20/20 [00:05<00:00,  3.81it/s]\n"
     ]
    },
    {
     "name": "stdout",
     "output_type": "stream",
     "text": [
      "saving model version 0.1\n",
      "✅ Best validation Accuracy: 6.9048e-01 at 14 epoch\n",
      "tensor(0.7030, device='cuda:0')\n",
      "Testing width=[10, 2, 1], lamb=0.0001, grid=5\n",
      "checkpoint directory created: ./model\n",
      "saving model version 0.0\n"
     ]
    },
    {
     "name": "stderr",
     "output_type": "stream",
     "text": [
      " train_acc_kan: 7.49e-01 | val_acc_kan: 6.90e-01 |: 100%|███████████| 20/20 [00:04<00:00,  4.02it/s]\n"
     ]
    },
    {
     "name": "stdout",
     "output_type": "stream",
     "text": [
      "saving model version 0.1\n",
      "✅ Best validation Accuracy: 7.2449e-01 at 8 epoch\n",
      "tensor(0.6866, device='cuda:0')\n",
      "Testing width=[10, 2, 1], lamb=1e-05, grid=5\n",
      "checkpoint directory created: ./model\n",
      "saving model version 0.0\n"
     ]
    },
    {
     "name": "stderr",
     "output_type": "stream",
     "text": [
      " train_acc_kan: 7.45e-01 | val_acc_kan: 7.04e-01 |: 100%|███████████| 20/20 [00:05<00:00,  3.63it/s]\n"
     ]
    },
    {
     "name": "stdout",
     "output_type": "stream",
     "text": [
      "saving model version 0.1\n",
      "✅ Best validation Accuracy: 7.1088e-01 at 8 epoch\n",
      "tensor(0.7057, device='cuda:0')\n",
      "Testing width=[10, 2, 1], lamb=1e-06, grid=5\n",
      "checkpoint directory created: ./model\n",
      "saving model version 0.0\n"
     ]
    },
    {
     "name": "stderr",
     "output_type": "stream",
     "text": [
      " train_acc_kan: 7.64e-01 | val_acc_kan: 6.67e-01 |: 100%|███████████| 20/20 [00:04<00:00,  4.03it/s]\n"
     ]
    },
    {
     "name": "stdout",
     "output_type": "stream",
     "text": [
      "saving model version 0.1\n",
      "✅ Best validation Accuracy: 7.1429e-01 at 6 epoch\n",
      "tensor(0.7166, device='cuda:0')\n",
      "Testing width=[10, 2, 1], lamb=1e-07, grid=5\n",
      "checkpoint directory created: ./model\n",
      "saving model version 0.0\n"
     ]
    },
    {
     "name": "stderr",
     "output_type": "stream",
     "text": [
      " train_acc_kan: 7.57e-01 | val_acc_kan: 6.90e-01 |: 100%|███████████| 20/20 [00:05<00:00,  3.74it/s]\n"
     ]
    },
    {
     "name": "stdout",
     "output_type": "stream",
     "text": [
      "saving model version 0.1\n",
      "✅ Best validation Accuracy: 6.9728e-01 at 13 epoch\n",
      "tensor(0.6812, device='cuda:0')\n",
      "Testing width=[10, 2, 1], lamb=0.01, grid=6\n",
      "checkpoint directory created: ./model\n",
      "saving model version 0.0\n"
     ]
    },
    {
     "name": "stderr",
     "output_type": "stream",
     "text": [
      " train_acc_kan: 5.01e-01 | val_acc_kan: 5.03e-01 |: 100%|███████████| 20/20 [00:04<00:00,  4.16it/s]\n"
     ]
    },
    {
     "name": "stdout",
     "output_type": "stream",
     "text": [
      "saving model version 0.1\n",
      "✅ Best validation Accuracy: 5.0340e-01 at 0 epoch\n",
      "tensor(0.4932, device='cuda:0')\n",
      "Testing width=[10, 2, 1], lamb=0.001, grid=6\n",
      "checkpoint directory created: ./model\n",
      "saving model version 0.0\n"
     ]
    },
    {
     "name": "stderr",
     "output_type": "stream",
     "text": [
      " train_acc_kan: 7.47e-01 | val_acc_kan: 6.77e-01 |: 100%|███████████| 20/20 [00:05<00:00,  3.72it/s]\n"
     ]
    },
    {
     "name": "stdout",
     "output_type": "stream",
     "text": [
      "saving model version 0.1\n",
      "✅ Best validation Accuracy: 6.7687e-01 at 18 epoch\n",
      "tensor(0.6703, device='cuda:0')\n",
      "Testing width=[10, 2, 1], lamb=0.0001, grid=6\n",
      "checkpoint directory created: ./model\n",
      "saving model version 0.0\n"
     ]
    },
    {
     "name": "stderr",
     "output_type": "stream",
     "text": [
      " train_acc_kan: 7.58e-01 | val_acc_kan: 6.77e-01 |: 100%|███████████| 20/20 [00:06<00:00,  3.17it/s]\n"
     ]
    },
    {
     "name": "stdout",
     "output_type": "stream",
     "text": [
      "saving model version 0.1\n",
      "✅ Best validation Accuracy: 6.7687e-01 at 8 epoch\n",
      "tensor(0.6757, device='cuda:0')\n",
      "Testing width=[10, 2, 1], lamb=1e-05, grid=6\n",
      "checkpoint directory created: ./model\n",
      "saving model version 0.0\n"
     ]
    },
    {
     "name": "stderr",
     "output_type": "stream",
     "text": [
      " train_acc_kan: 7.51e-01 | val_acc_kan: 6.63e-01 |: 100%|███████████| 20/20 [00:05<00:00,  3.35it/s]\n"
     ]
    },
    {
     "name": "stdout",
     "output_type": "stream",
     "text": [
      "saving model version 0.1\n",
      "✅ Best validation Accuracy: 7.1429e-01 at 4 epoch\n",
      "tensor(0.6839, device='cuda:0')\n",
      "Testing width=[10, 2, 1], lamb=1e-06, grid=6\n",
      "checkpoint directory created: ./model\n",
      "saving model version 0.0\n"
     ]
    },
    {
     "name": "stderr",
     "output_type": "stream",
     "text": [
      " train_acc_kan: 7.60e-01 | val_acc_kan: 6.77e-01 |: 100%|███████████| 20/20 [00:05<00:00,  3.68it/s]\n"
     ]
    },
    {
     "name": "stdout",
     "output_type": "stream",
     "text": [
      "saving model version 0.1\n",
      "✅ Best validation Accuracy: 7.0408e-01 at 9 epoch\n",
      "tensor(0.6812, device='cuda:0')\n",
      "Testing width=[10, 2, 1], lamb=1e-07, grid=6\n",
      "checkpoint directory created: ./model\n",
      "saving model version 0.0\n"
     ]
    },
    {
     "name": "stderr",
     "output_type": "stream",
     "text": [
      " train_acc_kan: 7.67e-01 | val_acc_kan: 6.90e-01 |: 100%|███████████| 20/20 [00:05<00:00,  3.80it/s]\n"
     ]
    },
    {
     "name": "stdout",
     "output_type": "stream",
     "text": [
      "saving model version 0.1\n",
      "✅ Best validation Accuracy: 6.9728e-01 at 14 epoch\n",
      "tensor(0.6676, device='cuda:0')\n",
      "Testing width=[10, 2, 1], lamb=0.01, grid=7\n",
      "checkpoint directory created: ./model\n",
      "saving model version 0.0\n"
     ]
    },
    {
     "name": "stderr",
     "output_type": "stream",
     "text": [
      " train_acc_kan: 5.01e-01 | val_acc_kan: 5.03e-01 |: 100%|███████████| 20/20 [00:04<00:00,  4.88it/s]\n"
     ]
    },
    {
     "name": "stdout",
     "output_type": "stream",
     "text": [
      "saving model version 0.1\n",
      "✅ Best validation Accuracy: 5.4422e-01 at 0 epoch\n",
      "tensor(0.5341, device='cuda:0')\n",
      "Testing width=[10, 2, 1], lamb=0.001, grid=7\n",
      "checkpoint directory created: ./model\n",
      "saving model version 0.0\n"
     ]
    },
    {
     "name": "stderr",
     "output_type": "stream",
     "text": [
      " train_acc_kan: 7.61e-01 | val_acc_kan: 6.26e-01 |: 100%|███████████| 20/20 [00:04<00:00,  4.01it/s]\n"
     ]
    },
    {
     "name": "stdout",
     "output_type": "stream",
     "text": [
      "saving model version 0.1\n",
      "✅ Best validation Accuracy: 6.5306e-01 at 3 epoch\n",
      "tensor(0.6322, device='cuda:0')\n",
      "Testing width=[10, 2, 1], lamb=0.0001, grid=7\n",
      "checkpoint directory created: ./model\n",
      "saving model version 0.0\n"
     ]
    },
    {
     "name": "stderr",
     "output_type": "stream",
     "text": [
      " train_acc_kan: 7.59e-01 | val_acc_kan: 5.78e-01 |: 100%|███████████| 20/20 [00:04<00:00,  4.05it/s]\n"
     ]
    },
    {
     "name": "stdout",
     "output_type": "stream",
     "text": [
      "saving model version 0.1\n",
      "✅ Best validation Accuracy: 6.2245e-01 at 10 epoch\n",
      "tensor(0.6104, device='cuda:0')\n",
      "Testing width=[10, 2, 1], lamb=1e-05, grid=7\n",
      "checkpoint directory created: ./model\n",
      "saving model version 0.0\n"
     ]
    },
    {
     "name": "stderr",
     "output_type": "stream",
     "text": [
      " train_acc_kan: 7.40e-01 | val_acc_kan: 6.29e-01 |: 100%|███████████| 20/20 [00:05<00:00,  3.83it/s]\n"
     ]
    },
    {
     "name": "stdout",
     "output_type": "stream",
     "text": [
      "saving model version 0.1\n",
      "✅ Best validation Accuracy: 6.2925e-01 at 19 epoch\n",
      "tensor(0.6158, device='cuda:0')\n",
      "Testing width=[10, 2, 1], lamb=1e-06, grid=7\n",
      "checkpoint directory created: ./model\n",
      "saving model version 0.0\n"
     ]
    },
    {
     "name": "stderr",
     "output_type": "stream",
     "text": [
      " train_acc_kan: 7.49e-01 | val_acc_kan: 6.02e-01 |: 100%|███████████| 20/20 [00:05<00:00,  3.71it/s]\n"
     ]
    },
    {
     "name": "stdout",
     "output_type": "stream",
     "text": [
      "saving model version 0.1\n",
      "✅ Best validation Accuracy: 6.0204e-01 at 3 epoch\n",
      "tensor(0.5940, device='cuda:0')\n",
      "Testing width=[10, 2, 1], lamb=1e-07, grid=7\n",
      "checkpoint directory created: ./model\n",
      "saving model version 0.0\n"
     ]
    },
    {
     "name": "stderr",
     "output_type": "stream",
     "text": [
      " train_acc_kan: 7.44e-01 | val_acc_kan: 6.09e-01 |: 100%|███████████| 20/20 [00:05<00:00,  3.93it/s]\n"
     ]
    },
    {
     "name": "stdout",
     "output_type": "stream",
     "text": [
      "saving model version 0.1\n",
      "✅ Best validation Accuracy: 6.1565e-01 at 8 epoch\n",
      "tensor(0.5777, device='cuda:0')\n",
      "Testing width=[10, 2, 1], lamb=0.01, grid=8\n",
      "checkpoint directory created: ./model\n",
      "saving model version 0.0\n"
     ]
    },
    {
     "name": "stderr",
     "output_type": "stream",
     "text": [
      " train_acc_kan: 5.01e-01 | val_acc_kan: 5.03e-01 |: 100%|███████████| 20/20 [00:05<00:00,  3.82it/s]\n"
     ]
    },
    {
     "name": "stdout",
     "output_type": "stream",
     "text": [
      "saving model version 0.1\n",
      "✅ Best validation Accuracy: 5.0340e-01 at 2 epoch\n",
      "tensor(0.4986, device='cuda:0')\n",
      "Testing width=[10, 2, 1], lamb=0.001, grid=8\n",
      "checkpoint directory created: ./model\n",
      "saving model version 0.0\n"
     ]
    },
    {
     "name": "stderr",
     "output_type": "stream",
     "text": [
      " train_acc_kan: 7.59e-01 | val_acc_kan: 6.56e-01 |: 100%|███████████| 20/20 [00:05<00:00,  3.85it/s]\n"
     ]
    },
    {
     "name": "stdout",
     "output_type": "stream",
     "text": [
      "saving model version 0.1\n",
      "✅ Best validation Accuracy: 7.0068e-01 at 6 epoch\n",
      "tensor(0.6730, device='cuda:0')\n",
      "Testing width=[10, 2, 1], lamb=0.0001, grid=8\n",
      "checkpoint directory created: ./model\n",
      "saving model version 0.0\n"
     ]
    },
    {
     "name": "stderr",
     "output_type": "stream",
     "text": [
      " train_acc_kan: 7.66e-01 | val_acc_kan: 6.94e-01 |: 100%|███████████| 20/20 [00:05<00:00,  3.85it/s]\n"
     ]
    },
    {
     "name": "stdout",
     "output_type": "stream",
     "text": [
      "saving model version 0.1\n",
      "✅ Best validation Accuracy: 6.9388e-01 at 13 epoch\n",
      "tensor(0.6812, device='cuda:0')\n",
      "Testing width=[10, 2, 1], lamb=1e-05, grid=8\n",
      "checkpoint directory created: ./model\n",
      "saving model version 0.0\n"
     ]
    },
    {
     "name": "stderr",
     "output_type": "stream",
     "text": [
      " train_acc_kan: 7.58e-01 | val_acc_kan: 6.84e-01 |: 100%|███████████| 20/20 [00:05<00:00,  3.87it/s]\n"
     ]
    },
    {
     "name": "stdout",
     "output_type": "stream",
     "text": [
      "saving model version 0.1\n",
      "✅ Best validation Accuracy: 7.1088e-01 at 7 epoch\n",
      "tensor(0.6567, device='cuda:0')\n",
      "Testing width=[10, 2, 1], lamb=1e-06, grid=8\n",
      "checkpoint directory created: ./model\n",
      "saving model version 0.0\n"
     ]
    },
    {
     "name": "stderr",
     "output_type": "stream",
     "text": [
      " train_acc_kan: 7.64e-01 | val_acc_kan: 6.80e-01 |: 100%|███████████| 20/20 [00:05<00:00,  3.93it/s]\n"
     ]
    },
    {
     "name": "stdout",
     "output_type": "stream",
     "text": [
      "saving model version 0.1\n",
      "✅ Best validation Accuracy: 6.9048e-01 at 17 epoch\n",
      "tensor(0.6812, device='cuda:0')\n",
      "Testing width=[10, 2, 1], lamb=1e-07, grid=8\n",
      "checkpoint directory created: ./model\n",
      "saving model version 0.0\n"
     ]
    },
    {
     "name": "stderr",
     "output_type": "stream",
     "text": [
      " train_acc_kan: 7.55e-01 | val_acc_kan: 6.97e-01 |: 100%|███████████| 20/20 [00:05<00:00,  3.93it/s]\n"
     ]
    },
    {
     "name": "stdout",
     "output_type": "stream",
     "text": [
      "saving model version 0.1\n",
      "✅ Best validation Accuracy: 7.0748e-01 at 7 epoch\n",
      "tensor(0.6703, device='cuda:0')\n",
      "Testing width=[10, 3, 1], lamb=0.01, grid=3\n",
      "checkpoint directory created: ./model\n",
      "saving model version 0.0\n"
     ]
    },
    {
     "name": "stderr",
     "output_type": "stream",
     "text": [
      " train_acc_kan: 5.01e-01 | val_acc_kan: 5.03e-01 |: 100%|███████████| 20/20 [00:03<00:00,  5.62it/s]\n"
     ]
    },
    {
     "name": "stdout",
     "output_type": "stream",
     "text": [
      "saving model version 0.1\n",
      "✅ Best validation Accuracy: 5.0340e-01 at 0 epoch\n",
      "tensor(0.4986, device='cuda:0')\n",
      "Testing width=[10, 3, 1], lamb=0.001, grid=3\n",
      "checkpoint directory created: ./model\n",
      "saving model version 0.0\n"
     ]
    },
    {
     "name": "stderr",
     "output_type": "stream",
     "text": [
      " train_acc_kan: 7.43e-01 | val_acc_kan: 7.01e-01 |: 100%|███████████| 20/20 [00:05<00:00,  3.89it/s]\n"
     ]
    },
    {
     "name": "stdout",
     "output_type": "stream",
     "text": [
      "saving model version 0.1\n",
      "✅ Best validation Accuracy: 7.0748e-01 at 2 epoch\n",
      "tensor(0.7193, device='cuda:0')\n",
      "Testing width=[10, 3, 1], lamb=0.0001, grid=3\n",
      "checkpoint directory created: ./model\n",
      "saving model version 0.0\n"
     ]
    },
    {
     "name": "stderr",
     "output_type": "stream",
     "text": [
      " train_acc_kan: 7.53e-01 | val_acc_kan: 7.14e-01 |: 100%|███████████| 20/20 [00:05<00:00,  3.97it/s]\n"
     ]
    },
    {
     "name": "stdout",
     "output_type": "stream",
     "text": [
      "saving model version 0.1\n",
      "✅ Best validation Accuracy: 7.1769e-01 at 3 epoch\n",
      "tensor(0.7384, device='cuda:0')\n",
      "Testing width=[10, 3, 1], lamb=1e-05, grid=3\n",
      "checkpoint directory created: ./model\n",
      "saving model version 0.0\n"
     ]
    },
    {
     "name": "stderr",
     "output_type": "stream",
     "text": [
      " train_acc_kan: 7.42e-01 | val_acc_kan: 7.01e-01 |: 100%|███████████| 20/20 [00:05<00:00,  3.90it/s]\n"
     ]
    },
    {
     "name": "stdout",
     "output_type": "stream",
     "text": [
      "saving model version 0.1\n",
      "✅ Best validation Accuracy: 7.2109e-01 at 3 epoch\n",
      "tensor(0.7193, device='cuda:0')\n",
      "Testing width=[10, 3, 1], lamb=1e-06, grid=3\n",
      "checkpoint directory created: ./model\n",
      "saving model version 0.0\n"
     ]
    },
    {
     "name": "stderr",
     "output_type": "stream",
     "text": [
      " train_acc_kan: 7.42e-01 | val_acc_kan: 6.90e-01 |: 100%|███████████| 20/20 [00:05<00:00,  3.90it/s]\n"
     ]
    },
    {
     "name": "stdout",
     "output_type": "stream",
     "text": [
      "saving model version 0.1\n",
      "✅ Best validation Accuracy: 7.1088e-01 at 3 epoch\n",
      "tensor(0.7493, device='cuda:0')\n",
      "Testing width=[10, 3, 1], lamb=1e-07, grid=3\n",
      "checkpoint directory created: ./model\n",
      "saving model version 0.0\n"
     ]
    },
    {
     "name": "stderr",
     "output_type": "stream",
     "text": [
      " train_acc_kan: 7.47e-01 | val_acc_kan: 7.01e-01 |: 100%|███████████| 20/20 [00:05<00:00,  3.93it/s]\n"
     ]
    },
    {
     "name": "stdout",
     "output_type": "stream",
     "text": [
      "saving model version 0.1\n",
      "✅ Best validation Accuracy: 7.3129e-01 at 2 epoch\n",
      "tensor(0.7275, device='cuda:0')\n",
      "Testing width=[10, 3, 1], lamb=0.01, grid=4\n",
      "checkpoint directory created: ./model\n",
      "saving model version 0.0\n"
     ]
    },
    {
     "name": "stderr",
     "output_type": "stream",
     "text": [
      " train_acc_kan: 5.01e-01 | val_acc_kan: 5.03e-01 |: 100%|███████████| 20/20 [00:04<00:00,  4.60it/s]\n"
     ]
    },
    {
     "name": "stdout",
     "output_type": "stream",
     "text": [
      "saving model version 0.1\n",
      "✅ Best validation Accuracy: 5.2041e-01 at 0 epoch\n",
      "tensor(0.4986, device='cuda:0')\n",
      "Testing width=[10, 3, 1], lamb=0.001, grid=4\n",
      "checkpoint directory created: ./model\n",
      "saving model version 0.0\n"
     ]
    },
    {
     "name": "stderr",
     "output_type": "stream",
     "text": [
      " train_acc_kan: 7.60e-01 | val_acc_kan: 6.84e-01 |: 100%|███████████| 20/20 [00:04<00:00,  4.01it/s]\n"
     ]
    },
    {
     "name": "stdout",
     "output_type": "stream",
     "text": [
      "saving model version 0.1\n",
      "✅ Best validation Accuracy: 7.0408e-01 at 4 epoch\n",
      "tensor(0.7248, device='cuda:0')\n",
      "Testing width=[10, 3, 1], lamb=0.0001, grid=4\n",
      "checkpoint directory created: ./model\n",
      "saving model version 0.0\n"
     ]
    },
    {
     "name": "stderr",
     "output_type": "stream",
     "text": [
      " train_acc_kan: 7.56e-01 | val_acc_kan: 6.80e-01 |: 100%|███████████| 20/20 [00:05<00:00,  3.98it/s]\n"
     ]
    },
    {
     "name": "stdout",
     "output_type": "stream",
     "text": [
      "saving model version 0.1\n",
      "✅ Best validation Accuracy: 7.2109e-01 at 3 epoch\n",
      "tensor(0.7466, device='cuda:0')\n",
      "Testing width=[10, 3, 1], lamb=1e-05, grid=4\n",
      "checkpoint directory created: ./model\n",
      "saving model version 0.0\n"
     ]
    },
    {
     "name": "stderr",
     "output_type": "stream",
     "text": [
      " train_acc_kan: 7.60e-01 | val_acc_kan: 6.77e-01 |: 100%|███████████| 20/20 [00:05<00:00,  3.94it/s]\n"
     ]
    },
    {
     "name": "stdout",
     "output_type": "stream",
     "text": [
      "saving model version 0.1\n",
      "✅ Best validation Accuracy: 7.1429e-01 at 1 epoch\n",
      "tensor(0.6785, device='cuda:0')\n",
      "Testing width=[10, 3, 1], lamb=1e-06, grid=4\n",
      "checkpoint directory created: ./model\n",
      "saving model version 0.0\n"
     ]
    },
    {
     "name": "stderr",
     "output_type": "stream",
     "text": [
      " train_acc_kan: 7.58e-01 | val_acc_kan: 6.87e-01 |: 100%|███████████| 20/20 [00:05<00:00,  3.96it/s]\n"
     ]
    },
    {
     "name": "stdout",
     "output_type": "stream",
     "text": [
      "saving model version 0.1\n",
      "✅ Best validation Accuracy: 7.1088e-01 at 2 epoch\n",
      "tensor(0.7248, device='cuda:0')\n",
      "Testing width=[10, 3, 1], lamb=1e-07, grid=4\n",
      "checkpoint directory created: ./model\n",
      "saving model version 0.0\n"
     ]
    },
    {
     "name": "stderr",
     "output_type": "stream",
     "text": [
      " train_acc_kan: 7.61e-01 | val_acc_kan: 6.80e-01 |: 100%|███████████| 20/20 [00:05<00:00,  3.72it/s]\n"
     ]
    },
    {
     "name": "stdout",
     "output_type": "stream",
     "text": [
      "saving model version 0.1\n",
      "✅ Best validation Accuracy: 7.0068e-01 at 5 epoch\n",
      "tensor(0.7248, device='cuda:0')\n",
      "Testing width=[10, 3, 1], lamb=0.01, grid=5\n",
      "checkpoint directory created: ./model\n",
      "saving model version 0.0\n"
     ]
    },
    {
     "name": "stderr",
     "output_type": "stream",
     "text": [
      " train_acc_kan: 5.01e-01 | val_acc_kan: 5.03e-01 |: 100%|███████████| 20/20 [00:04<00:00,  4.64it/s]\n"
     ]
    },
    {
     "name": "stdout",
     "output_type": "stream",
     "text": [
      "saving model version 0.1\n",
      "✅ Best validation Accuracy: 5.1020e-01 at 0 epoch\n",
      "tensor(0.4986, device='cuda:0')\n",
      "Testing width=[10, 3, 1], lamb=0.001, grid=5\n",
      "checkpoint directory created: ./model\n",
      "saving model version 0.0\n"
     ]
    },
    {
     "name": "stderr",
     "output_type": "stream",
     "text": [
      " train_acc_kan: 7.63e-01 | val_acc_kan: 6.87e-01 |: 100%|███████████| 20/20 [00:04<00:00,  4.07it/s]\n"
     ]
    },
    {
     "name": "stdout",
     "output_type": "stream",
     "text": [
      "saving model version 0.1\n",
      "✅ Best validation Accuracy: 7.1429e-01 at 3 epoch\n",
      "tensor(0.6785, device='cuda:0')\n",
      "Testing width=[10, 3, 1], lamb=0.0001, grid=5\n",
      "checkpoint directory created: ./model\n",
      "saving model version 0.0\n"
     ]
    },
    {
     "name": "stderr",
     "output_type": "stream",
     "text": [
      " train_acc_kan: 7.64e-01 | val_acc_kan: 6.80e-01 |: 100%|███████████| 20/20 [00:05<00:00,  3.92it/s]\n"
     ]
    },
    {
     "name": "stdout",
     "output_type": "stream",
     "text": [
      "saving model version 0.1\n",
      "✅ Best validation Accuracy: 7.1088e-01 at 3 epoch\n",
      "tensor(0.7030, device='cuda:0')\n",
      "Testing width=[10, 3, 1], lamb=1e-05, grid=5\n",
      "checkpoint directory created: ./model\n",
      "saving model version 0.0\n"
     ]
    },
    {
     "name": "stderr",
     "output_type": "stream",
     "text": [
      " train_acc_kan: 7.70e-01 | val_acc_kan: 6.87e-01 |: 100%|███████████| 20/20 [00:05<00:00,  3.52it/s]\n"
     ]
    },
    {
     "name": "stdout",
     "output_type": "stream",
     "text": [
      "saving model version 0.1\n",
      "✅ Best validation Accuracy: 7.3129e-01 at 3 epoch\n",
      "tensor(0.7003, device='cuda:0')\n",
      "Testing width=[10, 3, 1], lamb=1e-06, grid=5\n",
      "checkpoint directory created: ./model\n",
      "saving model version 0.0\n"
     ]
    },
    {
     "name": "stderr",
     "output_type": "stream",
     "text": [
      " train_acc_kan: 7.67e-01 | val_acc_kan: 6.73e-01 |: 100%|███████████| 20/20 [00:06<00:00,  3.06it/s]\n"
     ]
    },
    {
     "name": "stdout",
     "output_type": "stream",
     "text": [
      "saving model version 0.1\n",
      "✅ Best validation Accuracy: 7.1429e-01 at 4 epoch\n",
      "tensor(0.7112, device='cuda:0')\n",
      "Testing width=[10, 3, 1], lamb=1e-07, grid=5\n",
      "checkpoint directory created: ./model\n",
      "saving model version 0.0\n"
     ]
    },
    {
     "name": "stderr",
     "output_type": "stream",
     "text": [
      " train_acc_kan: 7.57e-01 | val_acc_kan: 6.87e-01 |: 100%|███████████| 20/20 [00:06<00:00,  3.13it/s]\n"
     ]
    },
    {
     "name": "stdout",
     "output_type": "stream",
     "text": [
      "saving model version 0.1\n",
      "✅ Best validation Accuracy: 7.2109e-01 at 3 epoch\n",
      "tensor(0.6948, device='cuda:0')\n",
      "Testing width=[10, 3, 1], lamb=0.01, grid=6\n",
      "checkpoint directory created: ./model\n",
      "saving model version 0.0\n"
     ]
    },
    {
     "name": "stderr",
     "output_type": "stream",
     "text": [
      " train_acc_kan: 5.01e-01 | val_acc_kan: 5.03e-01 |: 100%|███████████| 20/20 [00:06<00:00,  3.11it/s]\n"
     ]
    },
    {
     "name": "stdout",
     "output_type": "stream",
     "text": [
      "saving model version 0.1\n",
      "✅ Best validation Accuracy: 5.0340e-01 at 1 epoch\n",
      "tensor(0.5014, device='cuda:0')\n",
      "Testing width=[10, 3, 1], lamb=0.001, grid=6\n",
      "checkpoint directory created: ./model\n",
      "saving model version 0.0\n"
     ]
    },
    {
     "name": "stderr",
     "output_type": "stream",
     "text": [
      " train_acc_kan: 7.74e-01 | val_acc_kan: 6.84e-01 |: 100%|███████████| 20/20 [00:06<00:00,  3.29it/s]\n"
     ]
    },
    {
     "name": "stdout",
     "output_type": "stream",
     "text": [
      "saving model version 0.1\n",
      "✅ Best validation Accuracy: 7.1769e-01 at 3 epoch\n",
      "tensor(0.7057, device='cuda:0')\n",
      "Testing width=[10, 3, 1], lamb=0.0001, grid=6\n",
      "checkpoint directory created: ./model\n",
      "saving model version 0.0\n"
     ]
    },
    {
     "name": "stderr",
     "output_type": "stream",
     "text": [
      " train_acc_kan: 7.58e-01 | val_acc_kan: 6.50e-01 |: 100%|███████████| 20/20 [00:05<00:00,  3.60it/s]\n"
     ]
    },
    {
     "name": "stdout",
     "output_type": "stream",
     "text": [
      "saving model version 0.1\n",
      "✅ Best validation Accuracy: 6.7687e-01 at 8 epoch\n",
      "tensor(0.6785, device='cuda:0')\n",
      "Testing width=[10, 3, 1], lamb=1e-05, grid=6\n",
      "checkpoint directory created: ./model\n",
      "saving model version 0.0\n"
     ]
    },
    {
     "name": "stderr",
     "output_type": "stream",
     "text": [
      " train_acc_kan: 7.55e-01 | val_acc_kan: 6.73e-01 |: 100%|███████████| 20/20 [00:05<00:00,  3.80it/s]\n"
     ]
    },
    {
     "name": "stdout",
     "output_type": "stream",
     "text": [
      "saving model version 0.1\n",
      "✅ Best validation Accuracy: 7.0068e-01 at 14 epoch\n",
      "tensor(0.7003, device='cuda:0')\n",
      "Testing width=[10, 3, 1], lamb=1e-06, grid=6\n",
      "checkpoint directory created: ./model\n",
      "saving model version 0.0\n"
     ]
    },
    {
     "name": "stderr",
     "output_type": "stream",
     "text": [
      " train_acc_kan: 7.67e-01 | val_acc_kan: 6.36e-01 |: 100%|███████████| 20/20 [00:05<00:00,  3.71it/s]\n"
     ]
    },
    {
     "name": "stdout",
     "output_type": "stream",
     "text": [
      "saving model version 0.1\n",
      "✅ Best validation Accuracy: 6.5986e-01 at 3 epoch\n",
      "tensor(0.6812, device='cuda:0')\n",
      "Testing width=[10, 3, 1], lamb=1e-07, grid=6\n",
      "checkpoint directory created: ./model\n",
      "saving model version 0.0\n"
     ]
    },
    {
     "name": "stderr",
     "output_type": "stream",
     "text": [
      " train_acc_kan: 7.62e-01 | val_acc_kan: 6.60e-01 |: 100%|███████████| 20/20 [00:05<00:00,  3.59it/s]\n"
     ]
    },
    {
     "name": "stdout",
     "output_type": "stream",
     "text": [
      "saving model version 0.1\n",
      "✅ Best validation Accuracy: 6.5986e-01 at 12 epoch\n",
      "tensor(0.6540, device='cuda:0')\n",
      "Testing width=[10, 3, 1], lamb=0.01, grid=7\n",
      "checkpoint directory created: ./model\n",
      "saving model version 0.0\n"
     ]
    },
    {
     "name": "stderr",
     "output_type": "stream",
     "text": [
      " train_acc_kan: 5.01e-01 | val_acc_kan: 5.03e-01 |: 100%|███████████| 20/20 [00:05<00:00,  3.81it/s]\n"
     ]
    },
    {
     "name": "stdout",
     "output_type": "stream",
     "text": [
      "saving model version 0.1\n",
      "✅ Best validation Accuracy: 5.0340e-01 at 2 epoch\n",
      "tensor(0.4877, device='cuda:0')\n",
      "Testing width=[10, 3, 1], lamb=0.001, grid=7\n",
      "checkpoint directory created: ./model\n",
      "saving model version 0.0\n"
     ]
    },
    {
     "name": "stderr",
     "output_type": "stream",
     "text": [
      " train_acc_kan: 7.84e-01 | val_acc_kan: 6.70e-01 |: 100%|███████████| 20/20 [00:05<00:00,  3.72it/s]\n"
     ]
    },
    {
     "name": "stdout",
     "output_type": "stream",
     "text": [
      "saving model version 0.1\n",
      "✅ Best validation Accuracy: 7.1088e-01 at 4 epoch\n",
      "tensor(0.7003, device='cuda:0')\n",
      "Testing width=[10, 3, 1], lamb=0.0001, grid=7\n",
      "checkpoint directory created: ./model\n",
      "saving model version 0.0\n"
     ]
    },
    {
     "name": "stderr",
     "output_type": "stream",
     "text": [
      " train_acc_kan: 7.88e-01 | val_acc_kan: 6.77e-01 |: 100%|███████████| 20/20 [00:05<00:00,  3.84it/s]\n"
     ]
    },
    {
     "name": "stdout",
     "output_type": "stream",
     "text": [
      "saving model version 0.1\n",
      "✅ Best validation Accuracy: 6.9388e-01 at 2 epoch\n",
      "tensor(0.7193, device='cuda:0')\n",
      "Testing width=[10, 3, 1], lamb=1e-05, grid=7\n",
      "checkpoint directory created: ./model\n",
      "saving model version 0.0\n"
     ]
    },
    {
     "name": "stderr",
     "output_type": "stream",
     "text": [
      " train_acc_kan: 7.77e-01 | val_acc_kan: 6.90e-01 |: 100%|███████████| 20/20 [00:05<00:00,  3.67it/s]\n"
     ]
    },
    {
     "name": "stdout",
     "output_type": "stream",
     "text": [
      "saving model version 0.1\n",
      "✅ Best validation Accuracy: 6.9048e-01 at 4 epoch\n",
      "tensor(0.6894, device='cuda:0')\n",
      "Testing width=[10, 3, 1], lamb=1e-06, grid=7\n",
      "checkpoint directory created: ./model\n",
      "saving model version 0.0\n"
     ]
    },
    {
     "name": "stderr",
     "output_type": "stream",
     "text": [
      " train_acc_kan: 7.89e-01 | val_acc_kan: 6.77e-01 |: 100%|███████████| 20/20 [00:05<00:00,  3.66it/s]\n"
     ]
    },
    {
     "name": "stdout",
     "output_type": "stream",
     "text": [
      "saving model version 0.1\n",
      "✅ Best validation Accuracy: 6.9388e-01 at 12 epoch\n",
      "tensor(0.6975, device='cuda:0')\n",
      "Testing width=[10, 3, 1], lamb=1e-07, grid=7\n",
      "checkpoint directory created: ./model\n",
      "saving model version 0.0\n"
     ]
    },
    {
     "name": "stderr",
     "output_type": "stream",
     "text": [
      " train_acc_kan: 7.86e-01 | val_acc_kan: 6.67e-01 |: 100%|███████████| 20/20 [00:05<00:00,  3.61it/s]\n"
     ]
    },
    {
     "name": "stdout",
     "output_type": "stream",
     "text": [
      "saving model version 0.1\n",
      "✅ Best validation Accuracy: 6.9388e-01 at 3 epoch\n",
      "tensor(0.7112, device='cuda:0')\n",
      "Testing width=[10, 3, 1], lamb=0.01, grid=8\n",
      "checkpoint directory created: ./model\n",
      "saving model version 0.0\n"
     ]
    },
    {
     "name": "stderr",
     "output_type": "stream",
     "text": [
      " train_acc_kan: 5.01e-01 | val_acc_kan: 5.03e-01 |: 100%|███████████| 20/20 [00:04<00:00,  4.50it/s]\n"
     ]
    },
    {
     "name": "stdout",
     "output_type": "stream",
     "text": [
      "saving model version 0.1\n",
      "✅ Best validation Accuracy: 5.0340e-01 at 1 epoch\n",
      "tensor(0.5014, device='cuda:0')\n",
      "Testing width=[10, 3, 1], lamb=0.001, grid=8\n",
      "checkpoint directory created: ./model\n",
      "saving model version 0.0\n"
     ]
    },
    {
     "name": "stderr",
     "output_type": "stream",
     "text": [
      " train_acc_kan: 7.83e-01 | val_acc_kan: 6.09e-01 |: 100%|███████████| 20/20 [00:05<00:00,  3.82it/s]\n"
     ]
    },
    {
     "name": "stdout",
     "output_type": "stream",
     "text": [
      "saving model version 0.1\n",
      "✅ Best validation Accuracy: 6.8367e-01 at 2 epoch\n",
      "tensor(0.6131, device='cuda:0')\n",
      "Testing width=[10, 3, 1], lamb=0.0001, grid=8\n",
      "checkpoint directory created: ./model\n",
      "saving model version 0.0\n"
     ]
    },
    {
     "name": "stderr",
     "output_type": "stream",
     "text": [
      " train_acc_kan: 7.98e-01 | val_acc_kan: 6.09e-01 |: 100%|███████████| 20/20 [00:05<00:00,  3.66it/s]\n"
     ]
    },
    {
     "name": "stdout",
     "output_type": "stream",
     "text": [
      "saving model version 0.1\n",
      "✅ Best validation Accuracy: 6.5306e-01 at 3 epoch\n",
      "tensor(0.6267, device='cuda:0')\n",
      "Testing width=[10, 3, 1], lamb=1e-05, grid=8\n",
      "checkpoint directory created: ./model\n",
      "saving model version 0.0\n"
     ]
    },
    {
     "name": "stderr",
     "output_type": "stream",
     "text": [
      " train_acc_kan: 7.79e-01 | val_acc_kan: 6.73e-01 |: 100%|███████████| 20/20 [00:05<00:00,  3.70it/s]\n"
     ]
    },
    {
     "name": "stdout",
     "output_type": "stream",
     "text": [
      "saving model version 0.1\n",
      "✅ Best validation Accuracy: 6.8027e-01 at 16 epoch\n",
      "tensor(0.6621, device='cuda:0')\n",
      "Testing width=[10, 3, 1], lamb=1e-06, grid=8\n",
      "checkpoint directory created: ./model\n",
      "saving model version 0.0\n"
     ]
    },
    {
     "name": "stderr",
     "output_type": "stream",
     "text": [
      " train_acc_kan: 7.79e-01 | val_acc_kan: 6.67e-01 |: 100%|███████████| 20/20 [00:05<00:00,  3.66it/s]\n"
     ]
    },
    {
     "name": "stdout",
     "output_type": "stream",
     "text": [
      "saving model version 0.1\n",
      "✅ Best validation Accuracy: 6.7687e-01 at 5 epoch\n",
      "tensor(0.6431, device='cuda:0')\n",
      "Testing width=[10, 3, 1], lamb=1e-07, grid=8\n",
      "checkpoint directory created: ./model\n",
      "saving model version 0.0\n"
     ]
    },
    {
     "name": "stderr",
     "output_type": "stream",
     "text": [
      " train_acc_kan: 7.90e-01 | val_acc_kan: 6.46e-01 |: 100%|███████████| 20/20 [00:04<00:00,  4.08it/s]\n"
     ]
    },
    {
     "name": "stdout",
     "output_type": "stream",
     "text": [
      "saving model version 0.1\n",
      "✅ Best validation Accuracy: 6.7007e-01 at 5 epoch\n",
      "tensor(0.6567, device='cuda:0')\n",
      "Testing width=[10, 4, 1], lamb=0.01, grid=3\n",
      "checkpoint directory created: ./model\n",
      "saving model version 0.0\n"
     ]
    },
    {
     "name": "stderr",
     "output_type": "stream",
     "text": [
      " train_acc_kan: 5.01e-01 | val_acc_kan: 5.03e-01 |: 100%|███████████| 20/20 [00:05<00:00,  3.61it/s]\n"
     ]
    },
    {
     "name": "stdout",
     "output_type": "stream",
     "text": [
      "saving model version 0.1\n",
      "✅ Best validation Accuracy: 5.0340e-01 at 1 epoch\n",
      "tensor(0.5014, device='cuda:0')\n",
      "Testing width=[10, 4, 1], lamb=0.001, grid=3\n",
      "checkpoint directory created: ./model\n",
      "saving model version 0.0\n"
     ]
    },
    {
     "name": "stderr",
     "output_type": "stream",
     "text": [
      " train_acc_kan: 7.43e-01 | val_acc_kan: 6.97e-01 |: 100%|███████████| 20/20 [00:05<00:00,  3.84it/s]\n"
     ]
    },
    {
     "name": "stdout",
     "output_type": "stream",
     "text": [
      "saving model version 0.1\n",
      "✅ Best validation Accuracy: 7.2449e-01 at 2 epoch\n",
      "tensor(0.7275, device='cuda:0')\n",
      "Testing width=[10, 4, 1], lamb=0.0001, grid=3\n",
      "checkpoint directory created: ./model\n",
      "saving model version 0.0\n"
     ]
    },
    {
     "name": "stderr",
     "output_type": "stream",
     "text": [
      " train_acc_kan: 7.47e-01 | val_acc_kan: 6.87e-01 |: 100%|███████████| 20/20 [00:05<00:00,  3.49it/s]\n"
     ]
    },
    {
     "name": "stdout",
     "output_type": "stream",
     "text": [
      "saving model version 0.1\n",
      "✅ Best validation Accuracy: 7.3469e-01 at 3 epoch\n",
      "tensor(0.7057, device='cuda:0')\n",
      "Testing width=[10, 4, 1], lamb=1e-05, grid=3\n",
      "checkpoint directory created: ./model\n",
      "saving model version 0.0\n"
     ]
    },
    {
     "name": "stderr",
     "output_type": "stream",
     "text": [
      " train_acc_kan: 7.49e-01 | val_acc_kan: 6.97e-01 |: 100%|███████████| 20/20 [00:05<00:00,  3.55it/s]\n"
     ]
    },
    {
     "name": "stdout",
     "output_type": "stream",
     "text": [
      "saving model version 0.1\n",
      "✅ Best validation Accuracy: 7.3129e-01 at 2 epoch\n",
      "tensor(0.7166, device='cuda:0')\n",
      "Testing width=[10, 4, 1], lamb=1e-06, grid=3\n",
      "checkpoint directory created: ./model\n",
      "saving model version 0.0\n"
     ]
    },
    {
     "name": "stderr",
     "output_type": "stream",
     "text": [
      " train_acc_kan: 7.48e-01 | val_acc_kan: 6.94e-01 |: 100%|███████████| 20/20 [00:05<00:00,  3.66it/s]\n"
     ]
    },
    {
     "name": "stdout",
     "output_type": "stream",
     "text": [
      "saving model version 0.1\n",
      "✅ Best validation Accuracy: 7.2449e-01 at 3 epoch\n",
      "tensor(0.7166, device='cuda:0')\n",
      "Testing width=[10, 4, 1], lamb=1e-07, grid=3\n",
      "checkpoint directory created: ./model\n",
      "saving model version 0.0\n"
     ]
    },
    {
     "name": "stderr",
     "output_type": "stream",
     "text": [
      " train_acc_kan: 7.45e-01 | val_acc_kan: 6.97e-01 |: 100%|███████████| 20/20 [00:05<00:00,  3.61it/s]\n"
     ]
    },
    {
     "name": "stdout",
     "output_type": "stream",
     "text": [
      "saving model version 0.1\n",
      "✅ Best validation Accuracy: 7.2789e-01 at 3 epoch\n",
      "tensor(0.7084, device='cuda:0')\n",
      "Testing width=[10, 4, 1], lamb=0.01, grid=4\n",
      "checkpoint directory created: ./model\n",
      "saving model version 0.0\n"
     ]
    },
    {
     "name": "stderr",
     "output_type": "stream",
     "text": [
      " train_acc_kan: 5.01e-01 | val_acc_kan: 5.03e-01 |: 100%|███████████| 20/20 [00:05<00:00,  3.74it/s]\n"
     ]
    },
    {
     "name": "stdout",
     "output_type": "stream",
     "text": [
      "saving model version 0.1\n",
      "✅ Best validation Accuracy: 5.2041e-01 at 0 epoch\n",
      "tensor(0.5068, device='cuda:0')\n",
      "Testing width=[10, 4, 1], lamb=0.001, grid=4\n",
      "checkpoint directory created: ./model\n",
      "saving model version 0.0\n"
     ]
    },
    {
     "name": "stderr",
     "output_type": "stream",
     "text": [
      " train_acc_kan: 7.60e-01 | val_acc_kan: 6.90e-01 |: 100%|███████████| 20/20 [00:05<00:00,  3.59it/s]\n"
     ]
    },
    {
     "name": "stdout",
     "output_type": "stream",
     "text": [
      "saving model version 0.1\n",
      "✅ Best validation Accuracy: 7.1769e-01 at 3 epoch\n",
      "tensor(0.7248, device='cuda:0')\n",
      "Testing width=[10, 4, 1], lamb=0.0001, grid=4\n",
      "checkpoint directory created: ./model\n",
      "saving model version 0.0\n"
     ]
    },
    {
     "name": "stderr",
     "output_type": "stream",
     "text": [
      " train_acc_kan: 7.65e-01 | val_acc_kan: 6.73e-01 |: 100%|███████████| 20/20 [00:05<00:00,  3.83it/s]\n"
     ]
    },
    {
     "name": "stdout",
     "output_type": "stream",
     "text": [
      "saving model version 0.1\n",
      "✅ Best validation Accuracy: 7.0748e-01 at 3 epoch\n",
      "tensor(0.7221, device='cuda:0')\n",
      "Testing width=[10, 4, 1], lamb=1e-05, grid=4\n",
      "checkpoint directory created: ./model\n",
      "saving model version 0.0\n"
     ]
    },
    {
     "name": "stderr",
     "output_type": "stream",
     "text": [
      " train_acc_kan: 7.64e-01 | val_acc_kan: 6.84e-01 |: 100%|███████████| 20/20 [00:05<00:00,  3.67it/s]\n"
     ]
    },
    {
     "name": "stdout",
     "output_type": "stream",
     "text": [
      "saving model version 0.1\n",
      "✅ Best validation Accuracy: 7.2109e-01 at 2 epoch\n",
      "tensor(0.7221, device='cuda:0')\n",
      "Testing width=[10, 4, 1], lamb=1e-06, grid=4\n",
      "checkpoint directory created: ./model\n",
      "saving model version 0.0\n"
     ]
    },
    {
     "name": "stderr",
     "output_type": "stream",
     "text": [
      " train_acc_kan: 7.69e-01 | val_acc_kan: 6.80e-01 |: 100%|███████████| 20/20 [00:05<00:00,  3.62it/s]\n"
     ]
    },
    {
     "name": "stdout",
     "output_type": "stream",
     "text": [
      "saving model version 0.1\n",
      "✅ Best validation Accuracy: 7.0408e-01 at 1 epoch\n",
      "tensor(0.7057, device='cuda:0')\n",
      "Testing width=[10, 4, 1], lamb=1e-07, grid=4\n",
      "checkpoint directory created: ./model\n",
      "saving model version 0.0\n"
     ]
    },
    {
     "name": "stderr",
     "output_type": "stream",
     "text": [
      " train_acc_kan: 7.65e-01 | val_acc_kan: 6.84e-01 |: 100%|███████████| 20/20 [00:05<00:00,  3.64it/s]\n"
     ]
    },
    {
     "name": "stdout",
     "output_type": "stream",
     "text": [
      "saving model version 0.1\n",
      "✅ Best validation Accuracy: 7.1088e-01 at 6 epoch\n",
      "tensor(0.7139, device='cuda:0')\n",
      "Testing width=[10, 4, 1], lamb=0.01, grid=5\n",
      "checkpoint directory created: ./model\n",
      "saving model version 0.0\n"
     ]
    },
    {
     "name": "stderr",
     "output_type": "stream",
     "text": [
      " train_acc_kan: 5.01e-01 | val_acc_kan: 5.03e-01 |: 100%|███████████| 20/20 [00:04<00:00,  4.12it/s]\n"
     ]
    },
    {
     "name": "stdout",
     "output_type": "stream",
     "text": [
      "saving model version 0.1\n",
      "✅ Best validation Accuracy: 5.0340e-01 at 0 epoch\n",
      "tensor(0.5014, device='cuda:0')\n",
      "Testing width=[10, 4, 1], lamb=0.001, grid=5\n",
      "checkpoint directory created: ./model\n",
      "saving model version 0.0\n"
     ]
    },
    {
     "name": "stderr",
     "output_type": "stream",
     "text": [
      " train_acc_kan: 7.59e-01 | val_acc_kan: 6.87e-01 |: 100%|███████████| 20/20 [00:05<00:00,  3.49it/s]\n"
     ]
    },
    {
     "name": "stdout",
     "output_type": "stream",
     "text": [
      "saving model version 0.1\n",
      "✅ Best validation Accuracy: 7.1088e-01 at 3 epoch\n",
      "tensor(0.6948, device='cuda:0')\n",
      "Testing width=[10, 4, 1], lamb=0.0001, grid=5\n",
      "checkpoint directory created: ./model\n",
      "saving model version 0.0\n"
     ]
    },
    {
     "name": "stderr",
     "output_type": "stream",
     "text": [
      " train_acc_kan: 7.69e-01 | val_acc_kan: 6.80e-01 |: 100%|███████████| 20/20 [00:05<00:00,  3.68it/s]\n"
     ]
    },
    {
     "name": "stdout",
     "output_type": "stream",
     "text": [
      "saving model version 0.1\n",
      "✅ Best validation Accuracy: 7.0748e-01 at 5 epoch\n",
      "tensor(0.6839, device='cuda:0')\n",
      "Testing width=[10, 4, 1], lamb=1e-05, grid=5\n",
      "checkpoint directory created: ./model\n",
      "saving model version 0.0\n"
     ]
    },
    {
     "name": "stderr",
     "output_type": "stream",
     "text": [
      " train_acc_kan: 7.70e-01 | val_acc_kan: 6.67e-01 |: 100%|███████████| 20/20 [00:04<00:00,  4.03it/s]\n"
     ]
    },
    {
     "name": "stdout",
     "output_type": "stream",
     "text": [
      "saving model version 0.1\n",
      "✅ Best validation Accuracy: 7.0068e-01 at 3 epoch\n",
      "tensor(0.7003, device='cuda:0')\n",
      "Testing width=[10, 4, 1], lamb=1e-06, grid=5\n",
      "checkpoint directory created: ./model\n",
      "saving model version 0.0\n"
     ]
    },
    {
     "name": "stderr",
     "output_type": "stream",
     "text": [
      " train_acc_kan: 7.72e-01 | val_acc_kan: 6.84e-01 |: 100%|███████████| 20/20 [00:05<00:00,  3.97it/s]\n"
     ]
    },
    {
     "name": "stdout",
     "output_type": "stream",
     "text": [
      "saving model version 0.1\n",
      "✅ Best validation Accuracy: 7.0748e-01 at 4 epoch\n",
      "tensor(0.7193, device='cuda:0')\n",
      "Testing width=[10, 4, 1], lamb=1e-07, grid=5\n",
      "checkpoint directory created: ./model\n",
      "saving model version 0.0\n"
     ]
    },
    {
     "name": "stderr",
     "output_type": "stream",
     "text": [
      " train_acc_kan: 7.67e-01 | val_acc_kan: 6.80e-01 |: 100%|███████████| 20/20 [00:05<00:00,  3.71it/s]\n"
     ]
    },
    {
     "name": "stdout",
     "output_type": "stream",
     "text": [
      "saving model version 0.1\n",
      "✅ Best validation Accuracy: 7.2789e-01 at 3 epoch\n",
      "tensor(0.7139, device='cuda:0')\n",
      "Testing width=[10, 4, 1], lamb=0.01, grid=6\n",
      "checkpoint directory created: ./model\n",
      "saving model version 0.0\n"
     ]
    },
    {
     "name": "stderr",
     "output_type": "stream",
     "text": [
      " train_acc_kan: 5.01e-01 | val_acc_kan: 5.03e-01 |: 100%|███████████| 20/20 [00:05<00:00,  3.89it/s]\n"
     ]
    },
    {
     "name": "stdout",
     "output_type": "stream",
     "text": [
      "saving model version 0.1\n",
      "✅ Best validation Accuracy: 5.0340e-01 at 0 epoch\n",
      "tensor(0.5014, device='cuda:0')\n",
      "Testing width=[10, 4, 1], lamb=0.001, grid=6\n",
      "checkpoint directory created: ./model\n",
      "saving model version 0.0\n"
     ]
    },
    {
     "name": "stderr",
     "output_type": "stream",
     "text": [
      " train_acc_kan: 7.70e-01 | val_acc_kan: 6.87e-01 |: 100%|███████████| 20/20 [00:05<00:00,  3.67it/s]\n"
     ]
    },
    {
     "name": "stdout",
     "output_type": "stream",
     "text": [
      "saving model version 0.1\n",
      "✅ Best validation Accuracy: 7.0408e-01 at 12 epoch\n",
      "tensor(0.6621, device='cuda:0')\n",
      "Testing width=[10, 4, 1], lamb=0.0001, grid=6\n",
      "checkpoint directory created: ./model\n",
      "saving model version 0.0\n"
     ]
    },
    {
     "name": "stderr",
     "output_type": "stream",
     "text": [
      " train_acc_kan: 7.70e-01 | val_acc_kan: 6.67e-01 |: 100%|███████████| 20/20 [00:05<00:00,  3.43it/s]\n"
     ]
    },
    {
     "name": "stdout",
     "output_type": "stream",
     "text": [
      "saving model version 0.1\n",
      "✅ Best validation Accuracy: 6.9728e-01 at 5 epoch\n",
      "tensor(0.6676, device='cuda:0')\n",
      "Testing width=[10, 4, 1], lamb=1e-05, grid=6\n",
      "checkpoint directory created: ./model\n",
      "saving model version 0.0\n"
     ]
    },
    {
     "name": "stderr",
     "output_type": "stream",
     "text": [
      " train_acc_kan: 7.66e-01 | val_acc_kan: 6.77e-01 |: 100%|███████████| 20/20 [00:05<00:00,  3.97it/s]\n"
     ]
    },
    {
     "name": "stdout",
     "output_type": "stream",
     "text": [
      "saving model version 0.1\n",
      "✅ Best validation Accuracy: 6.9388e-01 at 12 epoch\n",
      "tensor(0.6866, device='cuda:0')\n",
      "Testing width=[10, 4, 1], lamb=1e-06, grid=6\n",
      "checkpoint directory created: ./model\n",
      "saving model version 0.0\n"
     ]
    },
    {
     "name": "stderr",
     "output_type": "stream",
     "text": [
      " train_acc_kan: 7.77e-01 | val_acc_kan: 6.80e-01 |: 100%|███████████| 20/20 [00:05<00:00,  3.48it/s]\n"
     ]
    },
    {
     "name": "stdout",
     "output_type": "stream",
     "text": [
      "saving model version 0.1\n",
      "✅ Best validation Accuracy: 6.9728e-01 at 9 epoch\n",
      "tensor(0.6948, device='cuda:0')\n",
      "Testing width=[10, 4, 1], lamb=1e-07, grid=6\n",
      "checkpoint directory created: ./model\n",
      "saving model version 0.0\n"
     ]
    },
    {
     "name": "stderr",
     "output_type": "stream",
     "text": [
      " train_acc_kan: 7.86e-01 | val_acc_kan: 6.67e-01 |: 100%|███████████| 20/20 [00:05<00:00,  3.75it/s]\n"
     ]
    },
    {
     "name": "stdout",
     "output_type": "stream",
     "text": [
      "saving model version 0.1\n",
      "✅ Best validation Accuracy: 6.8707e-01 at 6 epoch\n",
      "tensor(0.6649, device='cuda:0')\n",
      "Testing width=[10, 4, 1], lamb=0.01, grid=7\n",
      "checkpoint directory created: ./model\n",
      "saving model version 0.0\n"
     ]
    },
    {
     "name": "stderr",
     "output_type": "stream",
     "text": [
      " train_acc_kan: 5.01e-01 | val_acc_kan: 5.03e-01 |: 100%|███████████| 20/20 [00:05<00:00,  3.87it/s]\n"
     ]
    },
    {
     "name": "stdout",
     "output_type": "stream",
     "text": [
      "saving model version 0.1\n",
      "✅ Best validation Accuracy: 5.0340e-01 at 2 epoch\n",
      "tensor(0.5014, device='cuda:0')\n",
      "Testing width=[10, 4, 1], lamb=0.001, grid=7\n",
      "checkpoint directory created: ./model\n",
      "saving model version 0.0\n"
     ]
    },
    {
     "name": "stderr",
     "output_type": "stream",
     "text": [
      " train_acc_kan: 7.66e-01 | val_acc_kan: 6.67e-01 |: 100%|███████████| 20/20 [00:05<00:00,  3.81it/s]\n"
     ]
    },
    {
     "name": "stdout",
     "output_type": "stream",
     "text": [
      "saving model version 0.1\n",
      "✅ Best validation Accuracy: 6.6667e-01 at 2 epoch\n",
      "tensor(0.6757, device='cuda:0')\n",
      "Testing width=[10, 4, 1], lamb=0.0001, grid=7\n",
      "checkpoint directory created: ./model\n",
      "saving model version 0.0\n"
     ]
    },
    {
     "name": "stderr",
     "output_type": "stream",
     "text": [
      " train_acc_kan: 7.78e-01 | val_acc_kan: 6.60e-01 |: 100%|███████████| 20/20 [00:05<00:00,  3.82it/s]\n"
     ]
    },
    {
     "name": "stdout",
     "output_type": "stream",
     "text": [
      "saving model version 0.1\n",
      "✅ Best validation Accuracy: 6.7347e-01 at 13 epoch\n",
      "tensor(0.6839, device='cuda:0')\n",
      "Testing width=[10, 4, 1], lamb=1e-05, grid=7\n",
      "checkpoint directory created: ./model\n",
      "saving model version 0.0\n"
     ]
    },
    {
     "name": "stderr",
     "output_type": "stream",
     "text": [
      " train_acc_kan: 7.81e-01 | val_acc_kan: 6.70e-01 |: 100%|███████████| 20/20 [00:05<00:00,  3.86it/s]\n"
     ]
    },
    {
     "name": "stdout",
     "output_type": "stream",
     "text": [
      "saving model version 0.1\n",
      "✅ Best validation Accuracy: 6.8027e-01 at 2 epoch\n",
      "tensor(0.6975, device='cuda:0')\n",
      "Testing width=[10, 4, 1], lamb=1e-06, grid=7\n",
      "checkpoint directory created: ./model\n",
      "saving model version 0.0\n"
     ]
    },
    {
     "name": "stderr",
     "output_type": "stream",
     "text": [
      " train_acc_kan: 7.68e-01 | val_acc_kan: 6.70e-01 |: 100%|███████████| 20/20 [00:05<00:00,  3.98it/s]\n"
     ]
    },
    {
     "name": "stdout",
     "output_type": "stream",
     "text": [
      "saving model version 0.1\n",
      "✅ Best validation Accuracy: 6.9388e-01 at 3 epoch\n",
      "tensor(0.6866, device='cuda:0')\n",
      "Testing width=[10, 4, 1], lamb=1e-07, grid=7\n",
      "checkpoint directory created: ./model\n",
      "saving model version 0.0\n"
     ]
    },
    {
     "name": "stderr",
     "output_type": "stream",
     "text": [
      " train_acc_kan: 7.79e-01 | val_acc_kan: 6.70e-01 |: 100%|███████████| 20/20 [00:04<00:00,  4.06it/s]\n"
     ]
    },
    {
     "name": "stdout",
     "output_type": "stream",
     "text": [
      "saving model version 0.1\n",
      "✅ Best validation Accuracy: 6.8707e-01 at 11 epoch\n",
      "tensor(0.6621, device='cuda:0')\n",
      "Testing width=[10, 4, 1], lamb=0.01, grid=8\n",
      "checkpoint directory created: ./model\n",
      "saving model version 0.0\n"
     ]
    },
    {
     "name": "stderr",
     "output_type": "stream",
     "text": [
      " train_acc_kan: 5.01e-01 | val_acc_kan: 5.03e-01 |: 100%|███████████| 20/20 [00:03<00:00,  5.75it/s]\n"
     ]
    },
    {
     "name": "stdout",
     "output_type": "stream",
     "text": [
      "saving model version 0.1\n",
      "✅ Best validation Accuracy: 5.3061e-01 at 3 epoch\n",
      "tensor(0.4905, device='cuda:0')\n",
      "Testing width=[10, 4, 1], lamb=0.001, grid=8\n",
      "checkpoint directory created: ./model\n",
      "saving model version 0.0\n"
     ]
    },
    {
     "name": "stderr",
     "output_type": "stream",
     "text": [
      " train_acc_kan: 7.95e-01 | val_acc_kan: 6.70e-01 |: 100%|███████████| 20/20 [00:05<00:00,  3.93it/s]\n"
     ]
    },
    {
     "name": "stdout",
     "output_type": "stream",
     "text": [
      "saving model version 0.1\n",
      "✅ Best validation Accuracy: 6.8367e-01 at 15 epoch\n",
      "tensor(0.6567, device='cuda:0')\n",
      "Testing width=[10, 4, 1], lamb=0.0001, grid=8\n",
      "checkpoint directory created: ./model\n",
      "saving model version 0.0\n"
     ]
    },
    {
     "name": "stderr",
     "output_type": "stream",
     "text": [
      " train_acc_kan: 7.97e-01 | val_acc_kan: 6.77e-01 |: 100%|███████████| 20/20 [00:04<00:00,  4.12it/s]\n"
     ]
    },
    {
     "name": "stdout",
     "output_type": "stream",
     "text": [
      "saving model version 0.1\n",
      "✅ Best validation Accuracy: 6.8367e-01 at 18 epoch\n",
      "tensor(0.6921, device='cuda:0')\n",
      "Testing width=[10, 4, 1], lamb=1e-05, grid=8\n",
      "checkpoint directory created: ./model\n",
      "saving model version 0.0\n"
     ]
    },
    {
     "name": "stderr",
     "output_type": "stream",
     "text": [
      " train_acc_kan: 7.88e-01 | val_acc_kan: 6.60e-01 |: 100%|███████████| 20/20 [00:04<00:00,  4.04it/s]\n"
     ]
    },
    {
     "name": "stdout",
     "output_type": "stream",
     "text": [
      "saving model version 0.1\n",
      "✅ Best validation Accuracy: 6.8367e-01 at 10 epoch\n",
      "tensor(0.6757, device='cuda:0')\n",
      "Testing width=[10, 4, 1], lamb=1e-06, grid=8\n",
      "checkpoint directory created: ./model\n",
      "saving model version 0.0\n"
     ]
    },
    {
     "name": "stderr",
     "output_type": "stream",
     "text": [
      " train_acc_kan: 7.96e-01 | val_acc_kan: 6.60e-01 |: 100%|███████████| 20/20 [00:04<00:00,  4.04it/s]\n"
     ]
    },
    {
     "name": "stdout",
     "output_type": "stream",
     "text": [
      "saving model version 0.1\n",
      "✅ Best validation Accuracy: 7.0068e-01 at 13 epoch\n",
      "tensor(0.6839, device='cuda:0')\n",
      "Testing width=[10, 4, 1], lamb=1e-07, grid=8\n",
      "checkpoint directory created: ./model\n",
      "saving model version 0.0\n"
     ]
    },
    {
     "name": "stderr",
     "output_type": "stream",
     "text": [
      " train_acc_kan: 7.87e-01 | val_acc_kan: 6.73e-01 |: 100%|███████████| 20/20 [00:04<00:00,  4.04it/s]\n"
     ]
    },
    {
     "name": "stdout",
     "output_type": "stream",
     "text": [
      "saving model version 0.1\n",
      "✅ Best validation Accuracy: 6.8367e-01 at 5 epoch\n",
      "tensor(0.6948, device='cuda:0')\n",
      "Testing width=[10, 5, 1], lamb=0.01, grid=3\n",
      "checkpoint directory created: ./model\n",
      "saving model version 0.0\n"
     ]
    },
    {
     "name": "stderr",
     "output_type": "stream",
     "text": [
      " train_acc_kan: 5.01e-01 | val_acc_kan: 5.03e-01 |: 100%|███████████| 20/20 [00:04<00:00,  4.74it/s]\n"
     ]
    },
    {
     "name": "stdout",
     "output_type": "stream",
     "text": [
      "saving model version 0.1\n",
      "✅ Best validation Accuracy: 5.0340e-01 at 2 epoch\n",
      "tensor(0.5014, device='cuda:0')\n",
      "Testing width=[10, 5, 1], lamb=0.001, grid=3\n",
      "checkpoint directory created: ./model\n",
      "saving model version 0.0\n"
     ]
    },
    {
     "name": "stderr",
     "output_type": "stream",
     "text": [
      " train_acc_kan: 7.44e-01 | val_acc_kan: 6.97e-01 |: 100%|███████████| 20/20 [00:05<00:00,  3.91it/s]\n"
     ]
    },
    {
     "name": "stdout",
     "output_type": "stream",
     "text": [
      "saving model version 0.1\n",
      "✅ Best validation Accuracy: 7.1088e-01 at 2 epoch\n",
      "tensor(0.6948, device='cuda:0')\n",
      "Testing width=[10, 5, 1], lamb=0.0001, grid=3\n",
      "checkpoint directory created: ./model\n",
      "saving model version 0.0\n"
     ]
    },
    {
     "name": "stderr",
     "output_type": "stream",
     "text": [
      " train_acc_kan: 7.47e-01 | val_acc_kan: 6.84e-01 |: 100%|███████████| 20/20 [00:05<00:00,  3.86it/s]\n"
     ]
    },
    {
     "name": "stdout",
     "output_type": "stream",
     "text": [
      "saving model version 0.1\n",
      "✅ Best validation Accuracy: 7.2789e-01 at 2 epoch\n",
      "tensor(0.7275, device='cuda:0')\n",
      "Testing width=[10, 5, 1], lamb=1e-05, grid=3\n",
      "checkpoint directory created: ./model\n",
      "saving model version 0.0\n"
     ]
    },
    {
     "name": "stderr",
     "output_type": "stream",
     "text": [
      " train_acc_kan: 7.54e-01 | val_acc_kan: 6.90e-01 |: 100%|███████████| 20/20 [00:04<00:00,  4.01it/s]\n"
     ]
    },
    {
     "name": "stdout",
     "output_type": "stream",
     "text": [
      "saving model version 0.1\n",
      "✅ Best validation Accuracy: 7.3129e-01 at 1 epoch\n",
      "tensor(0.7166, device='cuda:0')\n",
      "Testing width=[10, 5, 1], lamb=1e-06, grid=3\n",
      "checkpoint directory created: ./model\n",
      "saving model version 0.0\n"
     ]
    },
    {
     "name": "stderr",
     "output_type": "stream",
     "text": [
      " train_acc_kan: 7.50e-01 | val_acc_kan: 6.80e-01 |: 100%|███████████| 20/20 [00:06<00:00,  3.26it/s]\n"
     ]
    },
    {
     "name": "stdout",
     "output_type": "stream",
     "text": [
      "saving model version 0.1\n",
      "✅ Best validation Accuracy: 7.2109e-01 at 1 epoch\n",
      "tensor(0.7057, device='cuda:0')\n",
      "Testing width=[10, 5, 1], lamb=1e-07, grid=3\n",
      "checkpoint directory created: ./model\n",
      "saving model version 0.0\n"
     ]
    },
    {
     "name": "stderr",
     "output_type": "stream",
     "text": [
      " train_acc_kan: 7.45e-01 | val_acc_kan: 6.80e-01 |: 100%|███████████| 20/20 [00:06<00:00,  2.97it/s]\n"
     ]
    },
    {
     "name": "stdout",
     "output_type": "stream",
     "text": [
      "saving model version 0.1\n",
      "✅ Best validation Accuracy: 7.1429e-01 at 1 epoch\n",
      "tensor(0.7084, device='cuda:0')\n",
      "Testing width=[10, 5, 1], lamb=0.01, grid=4\n",
      "checkpoint directory created: ./model\n",
      "saving model version 0.0\n"
     ]
    },
    {
     "name": "stderr",
     "output_type": "stream",
     "text": [
      " train_acc_kan: 5.01e-01 | val_acc_kan: 5.03e-01 |: 100%|███████████| 20/20 [00:06<00:00,  3.16it/s]\n"
     ]
    },
    {
     "name": "stdout",
     "output_type": "stream",
     "text": [
      "saving model version 0.1\n",
      "✅ Best validation Accuracy: 5.0340e-01 at 0 epoch\n",
      "tensor(0.5014, device='cuda:0')\n",
      "Testing width=[10, 5, 1], lamb=0.001, grid=4\n",
      "checkpoint directory created: ./model\n",
      "saving model version 0.0\n"
     ]
    },
    {
     "name": "stderr",
     "output_type": "stream",
     "text": [
      " train_acc_kan: 7.52e-01 | val_acc_kan: 6.84e-01 |: 100%|███████████| 20/20 [00:06<00:00,  2.95it/s]\n"
     ]
    },
    {
     "name": "stdout",
     "output_type": "stream",
     "text": [
      "saving model version 0.1\n",
      "✅ Best validation Accuracy: 7.1429e-01 at 2 epoch\n",
      "tensor(0.7221, device='cuda:0')\n",
      "Testing width=[10, 5, 1], lamb=0.0001, grid=4\n",
      "checkpoint directory created: ./model\n",
      "saving model version 0.0\n"
     ]
    },
    {
     "name": "stderr",
     "output_type": "stream",
     "text": [
      " train_acc_kan: 7.68e-01 | val_acc_kan: 6.84e-01 |: 100%|███████████| 20/20 [00:06<00:00,  3.15it/s]\n"
     ]
    },
    {
     "name": "stdout",
     "output_type": "stream",
     "text": [
      "saving model version 0.1\n",
      "✅ Best validation Accuracy: 7.2449e-01 at 3 epoch\n",
      "tensor(0.7248, device='cuda:0')\n",
      "Testing width=[10, 5, 1], lamb=1e-05, grid=4\n",
      "checkpoint directory created: ./model\n",
      "saving model version 0.0\n"
     ]
    },
    {
     "name": "stderr",
     "output_type": "stream",
     "text": [
      " train_acc_kan: 7.64e-01 | val_acc_kan: 7.01e-01 |: 100%|███████████| 20/20 [00:06<00:00,  3.13it/s]\n"
     ]
    },
    {
     "name": "stdout",
     "output_type": "stream",
     "text": [
      "saving model version 0.1\n",
      "✅ Best validation Accuracy: 7.2449e-01 at 2 epoch\n",
      "tensor(0.6975, device='cuda:0')\n",
      "Testing width=[10, 5, 1], lamb=1e-06, grid=4\n",
      "checkpoint directory created: ./model\n",
      "saving model version 0.0\n"
     ]
    },
    {
     "name": "stderr",
     "output_type": "stream",
     "text": [
      " train_acc_kan: 7.63e-01 | val_acc_kan: 6.94e-01 |: 100%|███████████| 20/20 [00:06<00:00,  3.22it/s]\n"
     ]
    },
    {
     "name": "stdout",
     "output_type": "stream",
     "text": [
      "saving model version 0.1\n",
      "✅ Best validation Accuracy: 7.1429e-01 at 3 epoch\n",
      "tensor(0.7193, device='cuda:0')\n",
      "Testing width=[10, 5, 1], lamb=1e-07, grid=4\n",
      "checkpoint directory created: ./model\n",
      "saving model version 0.0\n"
     ]
    },
    {
     "name": "stderr",
     "output_type": "stream",
     "text": [
      " train_acc_kan: 7.62e-01 | val_acc_kan: 6.87e-01 |: 100%|███████████| 20/20 [00:06<00:00,  3.28it/s]\n"
     ]
    },
    {
     "name": "stdout",
     "output_type": "stream",
     "text": [
      "saving model version 0.1\n",
      "✅ Best validation Accuracy: 7.0748e-01 at 3 epoch\n",
      "tensor(0.7302, device='cuda:0')\n",
      "Testing width=[10, 5, 1], lamb=0.01, grid=5\n",
      "checkpoint directory created: ./model\n",
      "saving model version 0.0\n"
     ]
    },
    {
     "name": "stderr",
     "output_type": "stream",
     "text": [
      " train_acc_kan: 5.01e-01 | val_acc_kan: 5.03e-01 |: 100%|███████████| 20/20 [00:05<00:00,  3.66it/s]\n"
     ]
    },
    {
     "name": "stdout",
     "output_type": "stream",
     "text": [
      "saving model version 0.1\n",
      "✅ Best validation Accuracy: 5.0340e-01 at 1 epoch\n",
      "tensor(0.5014, device='cuda:0')\n",
      "Testing width=[10, 5, 1], lamb=0.001, grid=5\n",
      "checkpoint directory created: ./model\n",
      "saving model version 0.0\n"
     ]
    },
    {
     "name": "stderr",
     "output_type": "stream",
     "text": [
      " train_acc_kan: 7.60e-01 | val_acc_kan: 6.84e-01 |: 100%|███████████| 20/20 [00:05<00:00,  3.44it/s]\n"
     ]
    },
    {
     "name": "stdout",
     "output_type": "stream",
     "text": [
      "saving model version 0.1\n",
      "✅ Best validation Accuracy: 7.0408e-01 at 6 epoch\n",
      "tensor(0.6894, device='cuda:0')\n",
      "Testing width=[10, 5, 1], lamb=0.0001, grid=5\n",
      "checkpoint directory created: ./model\n",
      "saving model version 0.0\n"
     ]
    },
    {
     "name": "stderr",
     "output_type": "stream",
     "text": [
      " train_acc_kan: 7.77e-01 | val_acc_kan: 7.01e-01 |: 100%|███████████| 20/20 [00:05<00:00,  3.50it/s]\n"
     ]
    },
    {
     "name": "stdout",
     "output_type": "stream",
     "text": [
      "saving model version 0.1\n",
      "✅ Best validation Accuracy: 7.2109e-01 at 1 epoch\n",
      "tensor(0.6975, device='cuda:0')\n",
      "Testing width=[10, 5, 1], lamb=1e-05, grid=5\n",
      "checkpoint directory created: ./model\n",
      "saving model version 0.0\n"
     ]
    },
    {
     "name": "stderr",
     "output_type": "stream",
     "text": [
      " train_acc_kan: 7.62e-01 | val_acc_kan: 6.80e-01 |: 100%|███████████| 20/20 [00:05<00:00,  3.56it/s]\n"
     ]
    },
    {
     "name": "stdout",
     "output_type": "stream",
     "text": [
      "saving model version 0.1\n",
      "✅ Best validation Accuracy: 7.0748e-01 at 1 epoch\n",
      "tensor(0.6812, device='cuda:0')\n",
      "Testing width=[10, 5, 1], lamb=1e-06, grid=5\n",
      "checkpoint directory created: ./model\n",
      "saving model version 0.0\n"
     ]
    },
    {
     "name": "stderr",
     "output_type": "stream",
     "text": [
      " train_acc_kan: 7.74e-01 | val_acc_kan: 6.97e-01 |: 100%|███████████| 20/20 [00:05<00:00,  3.66it/s]\n"
     ]
    },
    {
     "name": "stdout",
     "output_type": "stream",
     "text": [
      "saving model version 0.1\n",
      "✅ Best validation Accuracy: 7.2109e-01 at 2 epoch\n",
      "tensor(0.7084, device='cuda:0')\n",
      "Testing width=[10, 5, 1], lamb=1e-07, grid=5\n",
      "checkpoint directory created: ./model\n",
      "saving model version 0.0\n"
     ]
    },
    {
     "name": "stderr",
     "output_type": "stream",
     "text": [
      " train_acc_kan: 7.75e-01 | val_acc_kan: 6.94e-01 |: 100%|███████████| 20/20 [00:05<00:00,  3.69it/s]\n"
     ]
    },
    {
     "name": "stdout",
     "output_type": "stream",
     "text": [
      "saving model version 0.1\n",
      "✅ Best validation Accuracy: 7.2789e-01 at 2 epoch\n",
      "tensor(0.7193, device='cuda:0')\n",
      "Testing width=[10, 5, 1], lamb=0.01, grid=6\n",
      "checkpoint directory created: ./model\n",
      "saving model version 0.0\n"
     ]
    },
    {
     "name": "stderr",
     "output_type": "stream",
     "text": [
      " train_acc_kan: 5.01e-01 | val_acc_kan: 5.03e-01 |: 100%|███████████| 20/20 [00:05<00:00,  3.86it/s]\n"
     ]
    },
    {
     "name": "stdout",
     "output_type": "stream",
     "text": [
      "saving model version 0.1\n",
      "✅ Best validation Accuracy: 5.0340e-01 at 0 epoch\n",
      "tensor(0.4905, device='cuda:0')\n",
      "Testing width=[10, 5, 1], lamb=0.001, grid=6\n",
      "checkpoint directory created: ./model\n",
      "saving model version 0.0\n"
     ]
    },
    {
     "name": "stderr",
     "output_type": "stream",
     "text": [
      " train_acc_kan: 7.72e-01 | val_acc_kan: 6.80e-01 |: 100%|███████████| 20/20 [00:05<00:00,  3.63it/s]\n"
     ]
    },
    {
     "name": "stdout",
     "output_type": "stream",
     "text": [
      "saving model version 0.1\n",
      "✅ Best validation Accuracy: 7.2109e-01 at 6 epoch\n",
      "tensor(0.7003, device='cuda:0')\n",
      "Testing width=[10, 5, 1], lamb=0.0001, grid=6\n",
      "checkpoint directory created: ./model\n",
      "saving model version 0.0\n"
     ]
    },
    {
     "name": "stderr",
     "output_type": "stream",
     "text": [
      " train_acc_kan: 7.72e-01 | val_acc_kan: 6.84e-01 |: 100%|███████████| 20/20 [00:05<00:00,  3.67it/s]\n"
     ]
    },
    {
     "name": "stdout",
     "output_type": "stream",
     "text": [
      "saving model version 0.1\n",
      "✅ Best validation Accuracy: 7.0408e-01 at 7 epoch\n",
      "tensor(0.7057, device='cuda:0')\n",
      "Testing width=[10, 5, 1], lamb=1e-05, grid=6\n",
      "checkpoint directory created: ./model\n",
      "saving model version 0.0\n"
     ]
    },
    {
     "name": "stderr",
     "output_type": "stream",
     "text": [
      " train_acc_kan: 7.82e-01 | val_acc_kan: 6.67e-01 |: 100%|███████████| 20/20 [00:05<00:00,  3.56it/s]\n"
     ]
    },
    {
     "name": "stdout",
     "output_type": "stream",
     "text": [
      "saving model version 0.1\n",
      "✅ Best validation Accuracy: 7.0748e-01 at 8 epoch\n",
      "tensor(0.6785, device='cuda:0')\n",
      "Testing width=[10, 5, 1], lamb=1e-06, grid=6\n",
      "checkpoint directory created: ./model\n",
      "saving model version 0.0\n"
     ]
    },
    {
     "name": "stderr",
     "output_type": "stream",
     "text": [
      " train_acc_kan: 7.73e-01 | val_acc_kan: 6.77e-01 |: 100%|███████████| 20/20 [00:05<00:00,  3.72it/s]\n"
     ]
    },
    {
     "name": "stdout",
     "output_type": "stream",
     "text": [
      "saving model version 0.1\n",
      "✅ Best validation Accuracy: 7.0068e-01 at 11 epoch\n",
      "tensor(0.6894, device='cuda:0')\n",
      "Testing width=[10, 5, 1], lamb=1e-07, grid=6\n",
      "checkpoint directory created: ./model\n",
      "saving model version 0.0\n"
     ]
    },
    {
     "name": "stderr",
     "output_type": "stream",
     "text": [
      " train_acc_kan: 7.66e-01 | val_acc_kan: 6.77e-01 |: 100%|███████████| 20/20 [00:05<00:00,  3.78it/s]\n"
     ]
    },
    {
     "name": "stdout",
     "output_type": "stream",
     "text": [
      "saving model version 0.1\n",
      "✅ Best validation Accuracy: 6.9728e-01 at 14 epoch\n",
      "tensor(0.6839, device='cuda:0')\n",
      "Testing width=[10, 5, 1], lamb=0.01, grid=7\n",
      "checkpoint directory created: ./model\n",
      "saving model version 0.0\n"
     ]
    },
    {
     "name": "stderr",
     "output_type": "stream",
     "text": [
      " train_acc_kan: 5.01e-01 | val_acc_kan: 5.03e-01 |: 100%|███████████| 20/20 [00:05<00:00,  3.88it/s]\n"
     ]
    },
    {
     "name": "stdout",
     "output_type": "stream",
     "text": [
      "saving model version 0.1\n",
      "✅ Best validation Accuracy: 5.0340e-01 at 0 epoch\n",
      "tensor(0.5014, device='cuda:0')\n",
      "Testing width=[10, 5, 1], lamb=0.001, grid=7\n",
      "checkpoint directory created: ./model\n",
      "saving model version 0.0\n"
     ]
    },
    {
     "name": "stderr",
     "output_type": "stream",
     "text": [
      " train_acc_kan: 7.98e-01 | val_acc_kan: 6.46e-01 |: 100%|███████████| 20/20 [00:05<00:00,  3.66it/s]\n"
     ]
    },
    {
     "name": "stdout",
     "output_type": "stream",
     "text": [
      "saving model version 0.1\n",
      "✅ Best validation Accuracy: 6.8367e-01 at 7 epoch\n",
      "tensor(0.6757, device='cuda:0')\n",
      "Testing width=[10, 5, 1], lamb=0.0001, grid=7\n",
      "checkpoint directory created: ./model\n",
      "saving model version 0.0\n"
     ]
    },
    {
     "name": "stderr",
     "output_type": "stream",
     "text": [
      " train_acc_kan: 7.85e-01 | val_acc_kan: 6.39e-01 |: 100%|███████████| 20/20 [00:05<00:00,  3.69it/s]\n"
     ]
    },
    {
     "name": "stdout",
     "output_type": "stream",
     "text": [
      "saving model version 0.1\n",
      "✅ Best validation Accuracy: 6.5646e-01 at 8 epoch\n",
      "tensor(0.6649, device='cuda:0')\n",
      "Testing width=[10, 5, 1], lamb=1e-05, grid=7\n",
      "checkpoint directory created: ./model\n",
      "saving model version 0.0\n"
     ]
    },
    {
     "name": "stderr",
     "output_type": "stream",
     "text": [
      " train_acc_kan: 7.95e-01 | val_acc_kan: 6.16e-01 |: 100%|███████████| 20/20 [00:05<00:00,  3.74it/s]\n"
     ]
    },
    {
     "name": "stdout",
     "output_type": "stream",
     "text": [
      "saving model version 0.1\n",
      "✅ Best validation Accuracy: 6.8367e-01 at 7 epoch\n",
      "tensor(0.6703, device='cuda:0')\n",
      "Testing width=[10, 5, 1], lamb=1e-06, grid=7\n",
      "checkpoint directory created: ./model\n",
      "saving model version 0.0\n"
     ]
    },
    {
     "name": "stderr",
     "output_type": "stream",
     "text": [
      " train_acc_kan: 7.81e-01 | val_acc_kan: 6.70e-01 |: 100%|███████████| 20/20 [00:05<00:00,  3.76it/s]\n"
     ]
    },
    {
     "name": "stdout",
     "output_type": "stream",
     "text": [
      "saving model version 0.1\n",
      "✅ Best validation Accuracy: 7.0748e-01 at 4 epoch\n",
      "tensor(0.7084, device='cuda:0')\n",
      "Testing width=[10, 5, 1], lamb=1e-07, grid=7\n",
      "checkpoint directory created: ./model\n",
      "saving model version 0.0\n"
     ]
    },
    {
     "name": "stderr",
     "output_type": "stream",
     "text": [
      " train_acc_kan: 7.83e-01 | val_acc_kan: 6.56e-01 |: 100%|███████████| 20/20 [00:05<00:00,  3.49it/s]\n"
     ]
    },
    {
     "name": "stdout",
     "output_type": "stream",
     "text": [
      "saving model version 0.1\n",
      "✅ Best validation Accuracy: 7.0068e-01 at 3 epoch\n",
      "tensor(0.7112, device='cuda:0')\n",
      "Testing width=[10, 5, 1], lamb=0.01, grid=8\n",
      "checkpoint directory created: ./model\n",
      "saving model version 0.0\n"
     ]
    },
    {
     "name": "stderr",
     "output_type": "stream",
     "text": [
      " train_acc_kan: 5.01e-01 | val_acc_kan: 5.03e-01 |: 100%|███████████| 20/20 [00:05<00:00,  3.68it/s]\n"
     ]
    },
    {
     "name": "stdout",
     "output_type": "stream",
     "text": [
      "saving model version 0.1\n",
      "✅ Best validation Accuracy: 5.3061e-01 at 1 epoch\n",
      "tensor(0.4850, device='cuda:0')\n",
      "Testing width=[10, 5, 1], lamb=0.001, grid=8\n",
      "checkpoint directory created: ./model\n",
      "saving model version 0.0\n"
     ]
    },
    {
     "name": "stderr",
     "output_type": "stream",
     "text": [
      " train_acc_kan: 8.01e-01 | val_acc_kan: 6.70e-01 |: 100%|███████████| 20/20 [00:05<00:00,  3.69it/s]\n"
     ]
    },
    {
     "name": "stdout",
     "output_type": "stream",
     "text": [
      "saving model version 0.1\n",
      "✅ Best validation Accuracy: 7.0068e-01 at 4 epoch\n",
      "tensor(0.7139, device='cuda:0')\n",
      "Testing width=[10, 5, 1], lamb=0.0001, grid=8\n",
      "checkpoint directory created: ./model\n",
      "saving model version 0.0\n"
     ]
    },
    {
     "name": "stderr",
     "output_type": "stream",
     "text": [
      " train_acc_kan: 8.08e-01 | val_acc_kan: 6.56e-01 |: 100%|███████████| 20/20 [00:05<00:00,  3.69it/s]\n"
     ]
    },
    {
     "name": "stdout",
     "output_type": "stream",
     "text": [
      "saving model version 0.1\n",
      "✅ Best validation Accuracy: 7.2449e-01 at 5 epoch\n",
      "tensor(0.7003, device='cuda:0')\n",
      "Testing width=[10, 5, 1], lamb=1e-05, grid=8\n",
      "checkpoint directory created: ./model\n",
      "saving model version 0.0\n"
     ]
    },
    {
     "name": "stderr",
     "output_type": "stream",
     "text": [
      " train_acc_kan: 8.06e-01 | val_acc_kan: 6.53e-01 |: 100%|███████████| 20/20 [00:05<00:00,  3.65it/s]\n"
     ]
    },
    {
     "name": "stdout",
     "output_type": "stream",
     "text": [
      "saving model version 0.1\n",
      "✅ Best validation Accuracy: 6.8027e-01 at 8 epoch\n",
      "tensor(0.6594, device='cuda:0')\n",
      "Testing width=[10, 5, 1], lamb=1e-06, grid=8\n",
      "checkpoint directory created: ./model\n",
      "saving model version 0.0\n"
     ]
    },
    {
     "name": "stderr",
     "output_type": "stream",
     "text": [
      " train_acc_kan: 7.96e-01 | val_acc_kan: 6.43e-01 |: 100%|███████████| 20/20 [00:05<00:00,  3.73it/s]\n"
     ]
    },
    {
     "name": "stdout",
     "output_type": "stream",
     "text": [
      "saving model version 0.1\n",
      "✅ Best validation Accuracy: 6.8367e-01 at 7 epoch\n",
      "tensor(0.6948, device='cuda:0')\n",
      "Testing width=[10, 5, 1], lamb=1e-07, grid=8\n",
      "checkpoint directory created: ./model\n",
      "saving model version 0.0\n"
     ]
    },
    {
     "name": "stderr",
     "output_type": "stream",
     "text": [
      " train_acc_kan: 8.06e-01 | val_acc_kan: 6.56e-01 |: 100%|███████████| 20/20 [00:05<00:00,  3.63it/s]"
     ]
    },
    {
     "name": "stdout",
     "output_type": "stream",
     "text": [
      "saving model version 0.1\n",
      "✅ Best validation Accuracy: 7.0408e-01 at 13 epoch\n",
      "tensor(0.6730, device='cuda:0')\n",
      "\n",
      "✅ Top 5 Configurations:\n",
      "1. width=[10, 3, 1], grid=3, lamb=1e-06 | best_epoch=3 | acc_test=0.74932\n",
      "2. width=[10, 3, 1], grid=4, lamb=0.0001 | best_epoch=3 | acc_test=0.74659\n",
      "3. width=[10, 2, 1], grid=4, lamb=1e-06 | best_epoch=2 | acc_test=0.73842\n",
      "4. width=[10, 3, 1], grid=3, lamb=0.0001 | best_epoch=3 | acc_test=0.73842\n",
      "5. width=[10, 2, 1], grid=4, lamb=0.0001 | best_epoch=3 | acc_test=0.73569\n"
     ]
    },
    {
     "name": "stderr",
     "output_type": "stream",
     "text": [
      "\n"
     ]
    }
   ],
   "source": [
    "grid_search_kan(dataset)"
   ]
  },
  {
   "cell_type": "markdown",
   "id": "83433c04-9ffe-4417-b568-0d20e9438a66",
   "metadata": {},
   "source": [
    "# Top 5 Configurations:\r\n",
    "1. width=[10, 3, 1], grid=3, lamb=1e-06 | best_epoch=3 | acc_test=0.74932\r\n",
    "2. width=[10, 3, 1], grid=4, lamb=0.0001 | best_epoch=3 | acc_test=0.74659\r\n",
    "3. width=[10, 2, 1], grid=4, lamb=1e-06 | best_epoch=2 | acc_test=0.73842\r\n",
    "4. width=[10, 3, 1], grid=3, lamb=0.0001 | best_epoch=3 | acc_test=0.73842\r\n",
    "5. width=[10, 2, 1], grid=4, lamb=0.0001 | best_epoch=3 | acc_test=0.7356950340"
   ]
  },
  {
   "cell_type": "markdown",
   "id": "16745534-695d-44df-a61b-187a86e86579",
   "metadata": {
    "jp-MarkdownHeadingCollapsed": true
   },
   "source": [
    "# Grid Search for CNN"
   ]
  },
  {
   "cell_type": "code",
   "execution_count": 31,
   "id": "6de250fe-da38-4db0-954a-bddb0b43137a",
   "metadata": {
    "scrolled": true
   },
   "outputs": [
    {
     "name": "stdout",
     "output_type": "stream",
     "text": [
      "Testing cnn_blocks=1, dense_layers=1\n"
     ]
    },
    {
     "name": "stderr",
     "output_type": "stream",
     "text": [
      " train_acc_cnn: 7.34e-01 | val_acc_cnn: 7.14e-01 |: 100%|█████████| 110/110 [00:06<00:00, 17.99it/s]\n"
     ]
    },
    {
     "name": "stdout",
     "output_type": "stream",
     "text": [
      "✅ Best validation loss: 1.9397e-01 at 32 epoch\n",
      "tensor(0.7166, device='cuda:0')\n",
      "Testing cnn_blocks=1, dense_layers=2\n"
     ]
    },
    {
     "name": "stderr",
     "output_type": "stream",
     "text": [
      " train_acc_cnn: 7.27e-01 | val_acc_cnn: 6.94e-01 |: 100%|█████████| 110/110 [00:04<00:00, 26.30it/s]\n"
     ]
    },
    {
     "name": "stdout",
     "output_type": "stream",
     "text": [
      "✅ Best validation loss: 2.0439e-01 at 11 epoch\n",
      "tensor(0.6866, device='cuda:0')\n",
      "Testing cnn_blocks=1, dense_layers=3\n"
     ]
    },
    {
     "name": "stderr",
     "output_type": "stream",
     "text": [
      " train_acc_cnn: 6.95e-01 | val_acc_cnn: 7.04e-01 |: 100%|█████████| 110/110 [00:04<00:00, 23.48it/s]\n"
     ]
    },
    {
     "name": "stdout",
     "output_type": "stream",
     "text": [
      "✅ Best validation loss: 2.0417e-01 at 30 epoch\n",
      "tensor(0.6948, device='cuda:0')\n",
      "Testing cnn_blocks=2, dense_layers=1\n"
     ]
    },
    {
     "name": "stderr",
     "output_type": "stream",
     "text": [
      " train_acc_cnn: 7.62e-01 | val_acc_cnn: 7.11e-01 |: 100%|█████████| 110/110 [00:14<00:00,  7.79it/s]\n"
     ]
    },
    {
     "name": "stdout",
     "output_type": "stream",
     "text": [
      "✅ Best validation loss: 1.9830e-01 at 106 epoch\n",
      "tensor(0.6894, device='cuda:0')\n",
      "Testing cnn_blocks=2, dense_layers=2\n"
     ]
    },
    {
     "name": "stderr",
     "output_type": "stream",
     "text": [
      " train_acc_cnn: 7.58e-01 | val_acc_cnn: 5.92e-01 |: 100%|█████████| 110/110 [00:19<00:00,  5.53it/s]\n"
     ]
    },
    {
     "name": "stdout",
     "output_type": "stream",
     "text": [
      "✅ Best validation loss: 2.1533e-01 at 4 epoch\n",
      "tensor(0.6649, device='cuda:0')\n",
      "Testing cnn_blocks=2, dense_layers=3\n"
     ]
    },
    {
     "name": "stderr",
     "output_type": "stream",
     "text": [
      " train_acc_cnn: 6.86e-01 | val_acc_cnn: 6.73e-01 |: 100%|█████████| 110/110 [00:10<00:00, 10.27it/s]\n"
     ]
    },
    {
     "name": "stdout",
     "output_type": "stream",
     "text": [
      "✅ Best validation loss: 2.2126e-01 at 10 epoch\n",
      "tensor(0.6703, device='cuda:0')\n",
      "Testing cnn_blocks=3, dense_layers=1\n"
     ]
    },
    {
     "name": "stderr",
     "output_type": "stream",
     "text": [
      " train_acc_cnn: 7.74e-01 | val_acc_cnn: 6.84e-01 |: 100%|█████████| 110/110 [00:27<00:00,  3.93it/s]\n"
     ]
    },
    {
     "name": "stdout",
     "output_type": "stream",
     "text": [
      "✅ Best validation loss: 2.0915e-01 at 8 epoch\n",
      "tensor(0.6785, device='cuda:0')\n",
      "Testing cnn_blocks=3, dense_layers=2\n"
     ]
    },
    {
     "name": "stderr",
     "output_type": "stream",
     "text": [
      " train_acc_cnn: 7.67e-01 | val_acc_cnn: 6.87e-01 |: 100%|█████████| 110/110 [00:32<00:00,  3.35it/s]\n"
     ]
    },
    {
     "name": "stdout",
     "output_type": "stream",
     "text": [
      "✅ Best validation loss: 2.0303e-01 at 109 epoch\n",
      "tensor(0.6785, device='cuda:0')\n",
      "Testing cnn_blocks=3, dense_layers=3\n"
     ]
    },
    {
     "name": "stderr",
     "output_type": "stream",
     "text": [
      " train_acc_cnn: 7.58e-01 | val_acc_cnn: 6.80e-01 |: 100%|█████████| 110/110 [00:34<00:00,  3.17it/s]"
     ]
    },
    {
     "name": "stdout",
     "output_type": "stream",
     "text": [
      "✅ Best validation loss: 2.0483e-01 at 35 epoch\n",
      "tensor(0.6948, device='cuda:0')\n",
      "\n",
      "✅ Top 5 Configurations:\n",
      "1. cnn_blocks=1, dense_layers=1 | best_epoch=32 | acc=0.71662\n",
      "2. cnn_blocks=1, dense_layers=3 | best_epoch=30 | acc=0.69482\n",
      "3. cnn_blocks=3, dense_layers=3 | best_epoch=35 | acc=0.69482\n",
      "4. cnn_blocks=2, dense_layers=1 | best_epoch=106 | acc=0.68937\n",
      "5. cnn_blocks=1, dense_layers=2 | best_epoch=11 | acc=0.68665\n"
     ]
    },
    {
     "name": "stderr",
     "output_type": "stream",
     "text": [
      "\n"
     ]
    }
   ],
   "source": [
    "grid_search_cnn(dataset)"
   ]
  },
  {
   "cell_type": "code",
   "execution_count": 32,
   "id": "39d80f38-3f58-47fb-a4d7-c9ca047644f5",
   "metadata": {
    "scrolled": true
   },
   "outputs": [
    {
     "name": "stdout",
     "output_type": "stream",
     "text": [
      "Testing cnn_blocks=1, dense_layers=1\n"
     ]
    },
    {
     "name": "stderr",
     "output_type": "stream",
     "text": [
      " train_acc_cnn: 7.43e-01 | val_acc_cnn: 7.07e-01 |: 100%|█████████| 110/110 [00:09<00:00, 11.25it/s]\n"
     ]
    },
    {
     "name": "stdout",
     "output_type": "stream",
     "text": [
      "✅ Best validation loss: 1.9516e-01 at 77 epoch\n",
      "tensor(0.7084, device='cuda:0')\n",
      "Testing cnn_blocks=1, dense_layers=2\n"
     ]
    },
    {
     "name": "stderr",
     "output_type": "stream",
     "text": [
      " train_acc_cnn: 7.25e-01 | val_acc_cnn: 6.87e-01 |: 100%|█████████| 110/110 [00:04<00:00, 23.52it/s]\n"
     ]
    },
    {
     "name": "stdout",
     "output_type": "stream",
     "text": [
      "✅ Best validation loss: 2.0375e-01 at 15 epoch\n",
      "tensor(0.6948, device='cuda:0')\n",
      "Testing cnn_blocks=1, dense_layers=3\n"
     ]
    },
    {
     "name": "stderr",
     "output_type": "stream",
     "text": [
      " train_acc_cnn: 7.01e-01 | val_acc_cnn: 7.18e-01 |: 100%|█████████| 110/110 [00:03<00:00, 30.05it/s]\n"
     ]
    },
    {
     "name": "stdout",
     "output_type": "stream",
     "text": [
      "✅ Best validation loss: 2.0654e-01 at 10 epoch\n",
      "tensor(0.7030, device='cuda:0')\n",
      "Testing cnn_blocks=2, dense_layers=1\n"
     ]
    },
    {
     "name": "stderr",
     "output_type": "stream",
     "text": [
      " train_acc_cnn: 7.63e-01 | val_acc_cnn: 6.46e-01 |: 100%|█████████| 110/110 [00:13<00:00,  8.45it/s]\n"
     ]
    },
    {
     "name": "stdout",
     "output_type": "stream",
     "text": [
      "✅ Best validation loss: 2.0885e-01 at 11 epoch\n",
      "tensor(0.7275, device='cuda:0')\n",
      "Testing cnn_blocks=2, dense_layers=2\n"
     ]
    },
    {
     "name": "stderr",
     "output_type": "stream",
     "text": [
      " train_acc_cnn: 7.56e-01 | val_acc_cnn: 5.51e-01 |: 100%|█████████| 110/110 [00:16<00:00,  6.59it/s]\n"
     ]
    },
    {
     "name": "stdout",
     "output_type": "stream",
     "text": [
      "✅ Best validation loss: 2.1327e-01 at 9 epoch\n",
      "tensor(0.6975, device='cuda:0')\n",
      "Testing cnn_blocks=2, dense_layers=3\n"
     ]
    },
    {
     "name": "stderr",
     "output_type": "stream",
     "text": [
      " train_acc_cnn: 6.99e-01 | val_acc_cnn: 7.11e-01 |: 100%|█████████| 110/110 [00:10<00:00, 10.62it/s]\n"
     ]
    },
    {
     "name": "stdout",
     "output_type": "stream",
     "text": [
      "✅ Best validation loss: 2.1900e-01 at 94 epoch\n",
      "tensor(0.6894, device='cuda:0')\n",
      "Testing cnn_blocks=3, dense_layers=1\n"
     ]
    },
    {
     "name": "stderr",
     "output_type": "stream",
     "text": [
      " train_acc_cnn: 7.82e-01 | val_acc_cnn: 6.77e-01 |: 100%|█████████| 110/110 [00:14<00:00,  7.58it/s]\n"
     ]
    },
    {
     "name": "stdout",
     "output_type": "stream",
     "text": [
      "✅ Best validation loss: 2.0242e-01 at 12 epoch\n",
      "tensor(0.7003, device='cuda:0')\n",
      "Testing cnn_blocks=3, dense_layers=2\n"
     ]
    },
    {
     "name": "stderr",
     "output_type": "stream",
     "text": [
      " train_acc_cnn: 7.81e-01 | val_acc_cnn: 7.21e-01 |: 100%|█████████| 110/110 [00:15<00:00,  6.97it/s]\n"
     ]
    },
    {
     "name": "stdout",
     "output_type": "stream",
     "text": [
      "✅ Best validation loss: 1.9517e-01 at 42 epoch\n",
      "tensor(0.6839, device='cuda:0')\n",
      "Testing cnn_blocks=3, dense_layers=3\n"
     ]
    },
    {
     "name": "stderr",
     "output_type": "stream",
     "text": [
      " train_acc_cnn: 7.60e-01 | val_acc_cnn: 6.97e-01 |: 100%|█████████| 110/110 [00:16<00:00,  6.54it/s]\n"
     ]
    },
    {
     "name": "stdout",
     "output_type": "stream",
     "text": [
      "✅ Best validation loss: 2.1098e-01 at 103 epoch\n",
      "tensor(0.6785, device='cuda:0')\n",
      "\n",
      "✅ Top 5 Configurations:\n",
      "1. cnn_blocks=2, dense_layers=1 | best_epoch=11 | acc=0.72752\n",
      "2. cnn_blocks=1, dense_layers=1 | best_epoch=77 | acc=0.70845\n",
      "3. cnn_blocks=1, dense_layers=3 | best_epoch=10 | acc=0.70300\n",
      "4. cnn_blocks=3, dense_layers=1 | best_epoch=12 | acc=0.70027\n",
      "5. cnn_blocks=2, dense_layers=2 | best_epoch=9 | acc=0.69755\n"
     ]
    }
   ],
   "source": [
    "grid_search_cnn(dataset)"
   ]
  },
  {
   "cell_type": "markdown",
   "id": "7d9db396-7fe4-4043-97ce-b8f5983224af",
   "metadata": {
    "jp-MarkdownHeadingCollapsed": true
   },
   "source": [
    "# Grid Search for Hibrid Model3"
   ]
  },
  {
   "cell_type": "code",
   "execution_count": 38,
   "id": "24658826-eff0-4b3d-b42b-e3d524d00b17",
   "metadata": {},
   "outputs": [],
   "source": [
    "class Model3(nn.Module):\n",
    "    def __init__(self, attributes, imgs_shape, kan_neurons, kan_grid, device=device):\n",
    "        super(Model3, self).__init__()\n",
    "        # CNN branch\n",
    "        self.cnn_branch = nn.Sequential(\n",
    "            nn.Conv2d(imgs_shape[0], 16, kernel_size=3, padding=2),     # out: 16 x 9 x 9\n",
    "            nn.LayerNorm([16, 6, 6]),\n",
    "            nn.Sigmoid(),\n",
    "            nn.Flatten()\n",
    "        ).to(device)\n",
    "        # Final KAN layers\n",
    "        self.m_kan = KAN(\n",
    "            width=[attributes, kan_neurons],\n",
    "            grid=kan_grid,\n",
    "            k=3,\n",
    "            seed=SEED,\n",
    "            device=device\n",
    "        )\n",
    "\n",
    "        # Calculate the size of the flattened output\n",
    "        self.flat_size = self._get_flat_size(imgs_shape)\n",
    "\n",
    "        # Final MLP layers\n",
    "        self.final_kan = KAN(\n",
    "            width=[self.flat_size + kan_neurons, 1],\n",
    "            grid=kan_grid,\n",
    "            k=3,\n",
    "            seed=SEED,\n",
    "            device=device\n",
    "        )\n",
    "\n",
    "        self.device = device\n",
    "\n",
    "\n",
    "    def _get_flat_size(self, imgs_shape):\n",
    "        # Forward pass with dummy input to calculate flat size\n",
    "        dummy_input = torch.zeros(4, *imgs_shape, device=device)\n",
    "        x = self.cnn_branch(dummy_input)\n",
    "        return x.size(1)\n",
    "\n",
    "    def get_concat_output(self, mlp_input, cnn_input):\n",
    "        # Ensure inputs are moved to the correct device\n",
    "        kan_input = mlp_input.to(self.device)\n",
    "        cnn_input = cnn_input.to(self.device)\n",
    "        \n",
    "        cnn_output = self.cnn_branch(cnn_input)  # Process image input\n",
    "        kan_output = self.m_kan(kan_input)  # Process numerical input\n",
    "        \n",
    "        return torch.cat((kan_output, cnn_output), dim=1)\n",
    "\n",
    "    \n",
    "    def forward(self, mlp_input, cnn_input):\n",
    "        concat_output = self.get_concat_output(mlp_input, cnn_input)\n",
    "        return self.final_kan(concat_output)"
   ]
  },
  {
   "cell_type": "markdown",
   "id": "fcf11c85-29f8-48ad-97fa-3a951592a88a",
   "metadata": {},
   "source": [
    "## Grid Search"
   ]
  },
  {
   "cell_type": "code",
   "execution_count": 39,
   "id": "1cb5d881-c64b-40b2-bce3-f00d50871fc1",
   "metadata": {
    "scrolled": true
   },
   "outputs": [
    {
     "name": "stdout",
     "output_type": "stream",
     "text": [
      "Testing 1 hidden neurons, lamb=0.01, grid=3\n",
      "checkpoint directory created: ./model\n",
      "saving model version 0.0\n",
      "checkpoint directory created: ./model\n",
      "saving model version 0.0\n",
      "Successfully created and tested Model3\n"
     ]
    },
    {
     "name": "stderr",
     "output_type": "stream",
     "text": [
      " train_acc_hybrid: 5.01e-01 | val_acc_hybrid: 5.03e-01 |: 100%|█████| 60/60 [00:37<00:00,  1.62it/s]\n"
     ]
    },
    {
     "name": "stdout",
     "output_type": "stream",
     "text": [
      "saving model version 0.1\n",
      "✅ Best validation Accuracy: 5.0340e-01 at 6 epoch\n",
      "avg_acc 0.5013623833656311\n",
      "Testing 1 hidden neurons, lamb=0.001, grid=3\n",
      "checkpoint directory created: ./model\n",
      "saving model version 0.0\n",
      "checkpoint directory created: ./model\n",
      "saving model version 0.0\n",
      "Successfully created and tested Model3\n"
     ]
    },
    {
     "name": "stderr",
     "output_type": "stream",
     "text": [
      " train_acc_hybrid: 7.36e-01 | val_acc_hybrid: 7.18e-01 |: 100%|█████| 60/60 [00:44<00:00,  1.36it/s]\n"
     ]
    },
    {
     "name": "stdout",
     "output_type": "stream",
     "text": [
      "saving model version 0.1\n",
      "✅ Best validation Accuracy: 7.2449e-01 at 10 epoch\n",
      "avg_acc 0.7084468603134155\n",
      "Testing 1 hidden neurons, lamb=0.0001, grid=3\n",
      "checkpoint directory created: ./model\n",
      "saving model version 0.0\n",
      "checkpoint directory created: ./model\n",
      "saving model version 0.0\n",
      "Successfully created and tested Model3\n"
     ]
    },
    {
     "name": "stderr",
     "output_type": "stream",
     "text": [
      " train_acc_hybrid: 7.57e-01 | val_acc_hybrid: 7.04e-01 |: 100%|█████| 60/60 [00:44<00:00,  1.36it/s]\n"
     ]
    },
    {
     "name": "stdout",
     "output_type": "stream",
     "text": [
      "saving model version 0.1\n",
      "✅ Best validation Accuracy: 7.2109e-01 at 6 epoch\n",
      "avg_acc 0.7302452325820923\n",
      "Testing 1 hidden neurons, lamb=1e-05, grid=3\n",
      "checkpoint directory created: ./model\n",
      "saving model version 0.0\n",
      "checkpoint directory created: ./model\n",
      "saving model version 0.0\n",
      "Successfully created and tested Model3\n"
     ]
    },
    {
     "name": "stderr",
     "output_type": "stream",
     "text": [
      " train_acc_hybrid: 7.63e-01 | val_acc_hybrid: 6.97e-01 |: 100%|█████| 60/60 [00:40<00:00,  1.48it/s]\n"
     ]
    },
    {
     "name": "stdout",
     "output_type": "stream",
     "text": [
      "saving model version 0.1\n",
      "✅ Best validation Accuracy: 7.2109e-01 at 11 epoch\n",
      "avg_acc 0.7057220339775085\n",
      "Testing 1 hidden neurons, lamb=1e-06, grid=3\n",
      "checkpoint directory created: ./model\n",
      "saving model version 0.0\n",
      "checkpoint directory created: ./model\n",
      "saving model version 0.0\n",
      "Successfully created and tested Model3\n"
     ]
    },
    {
     "name": "stderr",
     "output_type": "stream",
     "text": [
      " train_acc_hybrid: 7.41e-01 | val_acc_hybrid: 7.01e-01 |: 100%|█████| 60/60 [00:31<00:00,  1.88it/s]\n"
     ]
    },
    {
     "name": "stdout",
     "output_type": "stream",
     "text": [
      "saving model version 0.1\n",
      "✅ Best validation Accuracy: 7.1429e-01 at 11 epoch\n",
      "avg_acc 0.7029972672462463\n",
      "Testing 1 hidden neurons, lamb=1e-07, grid=3\n",
      "checkpoint directory created: ./model\n",
      "saving model version 0.0\n",
      "checkpoint directory created: ./model\n",
      "saving model version 0.0\n",
      "Successfully created and tested Model3\n"
     ]
    },
    {
     "name": "stderr",
     "output_type": "stream",
     "text": [
      " train_acc_hybrid: 7.51e-01 | val_acc_hybrid: 7.01e-01 |: 100%|█████| 60/60 [00:30<00:00,  1.97it/s]\n"
     ]
    },
    {
     "name": "stdout",
     "output_type": "stream",
     "text": [
      "saving model version 0.1\n",
      "✅ Best validation Accuracy: 7.1429e-01 at 10 epoch\n",
      "avg_acc 0.6948229074478149\n",
      "Testing 1 hidden neurons, lamb=0.01, grid=4\n",
      "checkpoint directory created: ./model\n",
      "saving model version 0.0\n",
      "checkpoint directory created: ./model\n",
      "saving model version 0.0\n",
      "Successfully created and tested Model3\n"
     ]
    },
    {
     "name": "stderr",
     "output_type": "stream",
     "text": [
      " train_acc_hybrid: 5.01e-01 | val_acc_hybrid: 5.03e-01 |: 100%|█████| 60/60 [00:33<00:00,  1.77it/s]\n"
     ]
    },
    {
     "name": "stdout",
     "output_type": "stream",
     "text": [
      "saving model version 0.1\n",
      "✅ Best validation Accuracy: 5.1361e-01 at 3 epoch\n",
      "avg_acc 0.4959127902984619\n",
      "Testing 1 hidden neurons, lamb=0.001, grid=4\n",
      "checkpoint directory created: ./model\n",
      "saving model version 0.0\n",
      "checkpoint directory created: ./model\n",
      "saving model version 0.0\n",
      "Successfully created and tested Model3\n"
     ]
    },
    {
     "name": "stderr",
     "output_type": "stream",
     "text": [
      " train_acc_hybrid: 7.35e-01 | val_acc_hybrid: 7.07e-01 |: 100%|█████| 60/60 [00:48<00:00,  1.24it/s]\n"
     ]
    },
    {
     "name": "stdout",
     "output_type": "stream",
     "text": [
      "saving model version 0.1\n",
      "✅ Best validation Accuracy: 7.2449e-01 at 52 epoch\n",
      "avg_acc 0.7057220339775085\n",
      "Testing 1 hidden neurons, lamb=0.0001, grid=4\n",
      "checkpoint directory created: ./model\n",
      "saving model version 0.0\n",
      "checkpoint directory created: ./model\n",
      "saving model version 0.0\n",
      "Successfully created and tested Model3\n"
     ]
    },
    {
     "name": "stderr",
     "output_type": "stream",
     "text": [
      " train_acc_hybrid: 7.58e-01 | val_acc_hybrid: 7.01e-01 |: 100%|█████| 60/60 [00:47<00:00,  1.25it/s]\n"
     ]
    },
    {
     "name": "stdout",
     "output_type": "stream",
     "text": [
      "saving model version 0.1\n",
      "✅ Best validation Accuracy: 7.2109e-01 at 5 epoch\n",
      "avg_acc 0.7057220339775085\n",
      "Testing 1 hidden neurons, lamb=1e-05, grid=4\n",
      "checkpoint directory created: ./model\n",
      "saving model version 0.0\n",
      "checkpoint directory created: ./model\n",
      "saving model version 0.0\n",
      "Successfully created and tested Model3\n"
     ]
    },
    {
     "name": "stderr",
     "output_type": "stream",
     "text": [
      " train_acc_hybrid: 7.60e-01 | val_acc_hybrid: 7.04e-01 |: 100%|█████| 60/60 [00:46<00:00,  1.28it/s]\n"
     ]
    },
    {
     "name": "stdout",
     "output_type": "stream",
     "text": [
      "saving model version 0.1\n",
      "✅ Best validation Accuracy: 7.2789e-01 at 7 epoch\n",
      "avg_acc 0.7275204062461853\n",
      "Testing 1 hidden neurons, lamb=1e-06, grid=4\n",
      "checkpoint directory created: ./model\n",
      "saving model version 0.0\n",
      "checkpoint directory created: ./model\n",
      "saving model version 0.0\n",
      "Successfully created and tested Model3\n"
     ]
    },
    {
     "name": "stderr",
     "output_type": "stream",
     "text": [
      " train_acc_hybrid: 7.60e-01 | val_acc_hybrid: 6.97e-01 |: 100%|█████| 60/60 [00:46<00:00,  1.30it/s]\n"
     ]
    },
    {
     "name": "stdout",
     "output_type": "stream",
     "text": [
      "saving model version 0.1\n",
      "✅ Best validation Accuracy: 7.3129e-01 at 15 epoch\n",
      "avg_acc 0.7002724409103394\n",
      "Testing 1 hidden neurons, lamb=1e-07, grid=4\n",
      "checkpoint directory created: ./model\n",
      "saving model version 0.0\n",
      "checkpoint directory created: ./model\n",
      "saving model version 0.0\n",
      "Successfully created and tested Model3\n"
     ]
    },
    {
     "name": "stderr",
     "output_type": "stream",
     "text": [
      " train_acc_hybrid: 7.49e-01 | val_acc_hybrid: 7.01e-01 |: 100%|█████| 60/60 [00:48<00:00,  1.25it/s]\n"
     ]
    },
    {
     "name": "stdout",
     "output_type": "stream",
     "text": [
      "saving model version 0.1\n",
      "✅ Best validation Accuracy: 7.1429e-01 at 16 epoch\n",
      "avg_acc 0.7029972672462463\n",
      "Testing 1 hidden neurons, lamb=0.01, grid=5\n",
      "checkpoint directory created: ./model\n",
      "saving model version 0.0\n",
      "checkpoint directory created: ./model\n",
      "saving model version 0.0\n",
      "Successfully created and tested Model3\n"
     ]
    },
    {
     "name": "stderr",
     "output_type": "stream",
     "text": [
      " train_acc_hybrid: 5.01e-01 | val_acc_hybrid: 5.03e-01 |: 100%|█████| 60/60 [00:44<00:00,  1.35it/s]\n"
     ]
    },
    {
     "name": "stdout",
     "output_type": "stream",
     "text": [
      "saving model version 0.1\n",
      "✅ Best validation Accuracy: 5.1361e-01 at 4 epoch\n",
      "avg_acc 0.528610348701477\n",
      "Testing 1 hidden neurons, lamb=0.001, grid=5\n",
      "checkpoint directory created: ./model\n",
      "saving model version 0.0\n",
      "checkpoint directory created: ./model\n",
      "saving model version 0.0\n",
      "Successfully created and tested Model3\n"
     ]
    },
    {
     "name": "stderr",
     "output_type": "stream",
     "text": [
      " train_acc_hybrid: 7.53e-01 | val_acc_hybrid: 7.21e-01 |: 100%|█████| 60/60 [00:53<00:00,  1.13it/s]\n"
     ]
    },
    {
     "name": "stdout",
     "output_type": "stream",
     "text": [
      "saving model version 0.1\n",
      "✅ Best validation Accuracy: 7.3129e-01 at 25 epoch\n",
      "avg_acc 0.7193460464477539\n",
      "Testing 1 hidden neurons, lamb=0.0001, grid=5\n",
      "checkpoint directory created: ./model\n",
      "saving model version 0.0\n",
      "checkpoint directory created: ./model\n",
      "saving model version 0.0\n",
      "Successfully created and tested Model3\n"
     ]
    },
    {
     "name": "stderr",
     "output_type": "stream",
     "text": [
      " train_acc_hybrid: 7.67e-01 | val_acc_hybrid: 6.39e-01 |: 100%|█████| 60/60 [00:52<00:00,  1.15it/s]\n"
     ]
    },
    {
     "name": "stdout",
     "output_type": "stream",
     "text": [
      "saving model version 0.1\n",
      "✅ Best validation Accuracy: 7.1088e-01 at 20 epoch\n",
      "avg_acc 0.7029972672462463\n",
      "Testing 1 hidden neurons, lamb=1e-05, grid=5\n",
      "checkpoint directory created: ./model\n",
      "saving model version 0.0\n",
      "checkpoint directory created: ./model\n",
      "saving model version 0.0\n",
      "Successfully created and tested Model3\n"
     ]
    },
    {
     "name": "stderr",
     "output_type": "stream",
     "text": [
      " train_acc_hybrid: 7.67e-01 | val_acc_hybrid: 6.94e-01 |: 100%|█████| 60/60 [00:52<00:00,  1.13it/s]\n"
     ]
    },
    {
     "name": "stdout",
     "output_type": "stream",
     "text": [
      "saving model version 0.1\n",
      "✅ Best validation Accuracy: 7.3469e-01 at 11 epoch\n",
      "avg_acc 0.7247956395149231\n",
      "Testing 1 hidden neurons, lamb=1e-06, grid=5\n",
      "checkpoint directory created: ./model\n",
      "saving model version 0.0\n",
      "checkpoint directory created: ./model\n",
      "saving model version 0.0\n",
      "Successfully created and tested Model3\n"
     ]
    },
    {
     "name": "stderr",
     "output_type": "stream",
     "text": [
      " train_acc_hybrid: 7.51e-01 | val_acc_hybrid: 7.04e-01 |: 100%|█████| 60/60 [00:53<00:00,  1.11it/s]\n"
     ]
    },
    {
     "name": "stdout",
     "output_type": "stream",
     "text": [
      "saving model version 0.1\n",
      "✅ Best validation Accuracy: 7.3469e-01 at 8 epoch\n",
      "avg_acc 0.7138964533805847\n",
      "Testing 1 hidden neurons, lamb=1e-07, grid=5\n",
      "checkpoint directory created: ./model\n",
      "saving model version 0.0\n",
      "checkpoint directory created: ./model\n",
      "saving model version 0.0\n",
      "Successfully created and tested Model3\n"
     ]
    },
    {
     "name": "stderr",
     "output_type": "stream",
     "text": [
      " train_acc_hybrid: 7.54e-01 | val_acc_hybrid: 6.87e-01 |: 100%|█████| 60/60 [00:53<00:00,  1.13it/s]\n"
     ]
    },
    {
     "name": "stdout",
     "output_type": "stream",
     "text": [
      "saving model version 0.1\n",
      "✅ Best validation Accuracy: 7.2789e-01 at 5 epoch\n",
      "avg_acc 0.7111716270446777\n",
      "Testing 1 hidden neurons, lamb=0.01, grid=6\n",
      "checkpoint directory created: ./model\n",
      "saving model version 0.0\n",
      "checkpoint directory created: ./model\n",
      "saving model version 0.0\n",
      "Successfully created and tested Model3\n"
     ]
    },
    {
     "name": "stderr",
     "output_type": "stream",
     "text": [
      " train_acc_hybrid: 5.01e-01 | val_acc_hybrid: 5.03e-01 |: 100%|█████| 60/60 [00:48<00:00,  1.23it/s]\n"
     ]
    },
    {
     "name": "stdout",
     "output_type": "stream",
     "text": [
      "saving model version 0.1\n",
      "✅ Best validation Accuracy: 5.0680e-01 at 8 epoch\n",
      "avg_acc 0.4986375868320465\n",
      "Testing 1 hidden neurons, lamb=0.001, grid=6\n",
      "checkpoint directory created: ./model\n",
      "saving model version 0.0\n",
      "checkpoint directory created: ./model\n",
      "saving model version 0.0\n",
      "Successfully created and tested Model3\n"
     ]
    },
    {
     "name": "stderr",
     "output_type": "stream",
     "text": [
      " train_acc_hybrid: 7.43e-01 | val_acc_hybrid: 7.04e-01 |: 100%|█████| 60/60 [00:54<00:00,  1.10it/s]\n"
     ]
    },
    {
     "name": "stdout",
     "output_type": "stream",
     "text": [
      "saving model version 0.1\n",
      "✅ Best validation Accuracy: 7.2109e-01 at 10 epoch\n",
      "avg_acc 0.7057220339775085\n",
      "Testing 1 hidden neurons, lamb=0.0001, grid=6\n",
      "checkpoint directory created: ./model\n",
      "saving model version 0.0\n",
      "checkpoint directory created: ./model\n",
      "saving model version 0.0\n",
      "Successfully created and tested Model3\n"
     ]
    },
    {
     "name": "stderr",
     "output_type": "stream",
     "text": [
      " train_acc_hybrid: 7.79e-01 | val_acc_hybrid: 6.73e-01 |: 100%|█████| 60/60 [00:55<00:00,  1.08it/s]\n"
     ]
    },
    {
     "name": "stdout",
     "output_type": "stream",
     "text": [
      "saving model version 0.1\n",
      "✅ Best validation Accuracy: 7.2109e-01 at 7 epoch\n",
      "avg_acc 0.7029972672462463\n",
      "Testing 1 hidden neurons, lamb=1e-05, grid=6\n",
      "checkpoint directory created: ./model\n",
      "saving model version 0.0\n",
      "checkpoint directory created: ./model\n",
      "saving model version 0.0\n",
      "Successfully created and tested Model3\n"
     ]
    },
    {
     "name": "stderr",
     "output_type": "stream",
     "text": [
      " train_acc_hybrid: 7.71e-01 | val_acc_hybrid: 7.04e-01 |: 100%|█████| 60/60 [00:56<00:00,  1.06it/s]\n"
     ]
    },
    {
     "name": "stdout",
     "output_type": "stream",
     "text": [
      "saving model version 0.1\n",
      "✅ Best validation Accuracy: 7.3129e-01 at 21 epoch\n",
      "avg_acc 0.7002724409103394\n",
      "Testing 1 hidden neurons, lamb=1e-06, grid=6\n",
      "checkpoint directory created: ./model\n",
      "saving model version 0.0\n",
      "checkpoint directory created: ./model\n",
      "saving model version 0.0\n",
      "Successfully created and tested Model3\n"
     ]
    },
    {
     "name": "stderr",
     "output_type": "stream",
     "text": [
      " train_acc_hybrid: 7.82e-01 | val_acc_hybrid: 6.94e-01 |: 100%|█████| 60/60 [00:55<00:00,  1.07it/s]\n"
     ]
    },
    {
     "name": "stdout",
     "output_type": "stream",
     "text": [
      "saving model version 0.1\n",
      "✅ Best validation Accuracy: 7.4150e-01 at 10 epoch\n",
      "avg_acc 0.7166212201118469\n",
      "Testing 1 hidden neurons, lamb=1e-07, grid=6\n",
      "checkpoint directory created: ./model\n",
      "saving model version 0.0\n",
      "checkpoint directory created: ./model\n",
      "saving model version 0.0\n",
      "Successfully created and tested Model3\n"
     ]
    },
    {
     "name": "stderr",
     "output_type": "stream",
     "text": [
      " train_acc_hybrid: 7.60e-01 | val_acc_hybrid: 6.63e-01 |: 100%|█████| 60/60 [00:54<00:00,  1.09it/s]\n"
     ]
    },
    {
     "name": "stdout",
     "output_type": "stream",
     "text": [
      "saving model version 0.1\n",
      "✅ Best validation Accuracy: 7.1429e-01 at 12 epoch\n",
      "avg_acc 0.7166212201118469\n",
      "Testing 1 hidden neurons, lamb=0.01, grid=7\n",
      "checkpoint directory created: ./model\n",
      "saving model version 0.0\n",
      "checkpoint directory created: ./model\n",
      "saving model version 0.0\n",
      "Successfully created and tested Model3\n"
     ]
    },
    {
     "name": "stderr",
     "output_type": "stream",
     "text": [
      " train_acc_hybrid: 5.01e-01 | val_acc_hybrid: 5.03e-01 |: 100%|█████| 60/60 [00:50<00:00,  1.18it/s]\n"
     ]
    },
    {
     "name": "stdout",
     "output_type": "stream",
     "text": [
      "saving model version 0.1\n",
      "✅ Best validation Accuracy: 5.0680e-01 at 13 epoch\n",
      "avg_acc 0.4986375868320465\n",
      "Testing 1 hidden neurons, lamb=0.001, grid=7\n",
      "checkpoint directory created: ./model\n",
      "saving model version 0.0\n",
      "checkpoint directory created: ./model\n",
      "saving model version 0.0\n",
      "Successfully created and tested Model3\n"
     ]
    },
    {
     "name": "stderr",
     "output_type": "stream",
     "text": [
      " train_acc_hybrid: 7.46e-01 | val_acc_hybrid: 6.97e-01 |: 100%|█████| 60/60 [00:59<00:00,  1.01it/s]\n"
     ]
    },
    {
     "name": "stdout",
     "output_type": "stream",
     "text": [
      "saving model version 0.1\n",
      "✅ Best validation Accuracy: 7.2109e-01 at 25 epoch\n",
      "avg_acc 0.692098081111908\n",
      "Testing 1 hidden neurons, lamb=0.0001, grid=7\n",
      "checkpoint directory created: ./model\n",
      "saving model version 0.0\n",
      "checkpoint directory created: ./model\n",
      "saving model version 0.0\n",
      "Successfully created and tested Model3\n"
     ]
    },
    {
     "name": "stderr",
     "output_type": "stream",
     "text": [
      " train_acc_hybrid: 7.75e-01 | val_acc_hybrid: 6.87e-01 |: 100%|█████| 60/60 [00:58<00:00,  1.03it/s]\n"
     ]
    },
    {
     "name": "stdout",
     "output_type": "stream",
     "text": [
      "saving model version 0.1\n",
      "✅ Best validation Accuracy: 7.1088e-01 at 37 epoch\n",
      "avg_acc 0.6811988949775696\n",
      "Testing 1 hidden neurons, lamb=1e-05, grid=7\n",
      "checkpoint directory created: ./model\n",
      "saving model version 0.0\n",
      "checkpoint directory created: ./model\n",
      "saving model version 0.0\n",
      "Successfully created and tested Model3\n"
     ]
    },
    {
     "name": "stderr",
     "output_type": "stream",
     "text": [
      " train_acc_hybrid: 7.00e-01 | val_acc_hybrid: 6.67e-01 |: 100%|█████| 60/60 [01:01<00:00,  1.02s/it]\n"
     ]
    },
    {
     "name": "stdout",
     "output_type": "stream",
     "text": [
      "saving model version 0.1\n",
      "✅ Best validation Accuracy: 6.7347e-01 at 31 epoch\n",
      "avg_acc 0.6784741282463074\n",
      "Testing 1 hidden neurons, lamb=1e-06, grid=7\n",
      "checkpoint directory created: ./model\n",
      "saving model version 0.0\n",
      "checkpoint directory created: ./model\n",
      "saving model version 0.0\n",
      "Successfully created and tested Model3\n"
     ]
    },
    {
     "name": "stderr",
     "output_type": "stream",
     "text": [
      " train_acc_hybrid: 7.88e-01 | val_acc_hybrid: 6.94e-01 |: 100%|█████| 60/60 [00:59<00:00,  1.00it/s]\n"
     ]
    },
    {
     "name": "stdout",
     "output_type": "stream",
     "text": [
      "saving model version 0.1\n",
      "✅ Best validation Accuracy: 7.1429e-01 at 15 epoch\n",
      "avg_acc 0.692098081111908\n",
      "Testing 1 hidden neurons, lamb=1e-07, grid=7\n",
      "checkpoint directory created: ./model\n",
      "saving model version 0.0\n",
      "checkpoint directory created: ./model\n",
      "saving model version 0.0\n",
      "Successfully created and tested Model3\n"
     ]
    },
    {
     "name": "stderr",
     "output_type": "stream",
     "text": [
      " train_acc_hybrid: 7.73e-01 | val_acc_hybrid: 6.67e-01 |: 100%|█████| 60/60 [00:58<00:00,  1.03it/s]\n"
     ]
    },
    {
     "name": "stdout",
     "output_type": "stream",
     "text": [
      "saving model version 0.1\n",
      "✅ Best validation Accuracy: 7.2789e-01 at 9 epoch\n",
      "avg_acc 0.6811988949775696\n",
      "Testing 1 hidden neurons, lamb=0.01, grid=8\n",
      "checkpoint directory created: ./model\n",
      "saving model version 0.0\n",
      "checkpoint directory created: ./model\n",
      "saving model version 0.0\n",
      "Successfully created and tested Model3\n"
     ]
    },
    {
     "name": "stderr",
     "output_type": "stream",
     "text": [
      " train_acc_hybrid: 5.01e-01 | val_acc_hybrid: 5.03e-01 |: 100%|█████| 60/60 [00:49<00:00,  1.22it/s]\n"
     ]
    },
    {
     "name": "stdout",
     "output_type": "stream",
     "text": [
      "saving model version 0.1\n",
      "✅ Best validation Accuracy: 5.0340e-01 at 0 epoch\n",
      "avg_acc 0.5013623833656311\n",
      "Testing 1 hidden neurons, lamb=0.001, grid=8\n",
      "checkpoint directory created: ./model\n",
      "saving model version 0.0\n",
      "checkpoint directory created: ./model\n",
      "saving model version 0.0\n",
      "Successfully created and tested Model3\n"
     ]
    },
    {
     "name": "stderr",
     "output_type": "stream",
     "text": [
      " train_acc_hybrid: 6.91e-01 | val_acc_hybrid: 6.43e-01 |: 100%|█████| 60/60 [01:03<00:00,  1.05s/it]\n"
     ]
    },
    {
     "name": "stdout",
     "output_type": "stream",
     "text": [
      "saving model version 0.1\n",
      "✅ Best validation Accuracy: 6.7007e-01 at 7 epoch\n",
      "avg_acc 0.6185286045074463\n",
      "Testing 1 hidden neurons, lamb=0.0001, grid=8\n",
      "checkpoint directory created: ./model\n",
      "saving model version 0.0\n",
      "checkpoint directory created: ./model\n",
      "saving model version 0.0\n",
      "Successfully created and tested Model3\n"
     ]
    },
    {
     "name": "stderr",
     "output_type": "stream",
     "text": [
      " train_acc_hybrid: 7.63e-01 | val_acc_hybrid: 6.97e-01 |: 100%|█████| 60/60 [01:04<00:00,  1.07s/it]\n"
     ]
    },
    {
     "name": "stdout",
     "output_type": "stream",
     "text": [
      "saving model version 0.1\n",
      "✅ Best validation Accuracy: 7.1769e-01 at 54 epoch\n",
      "avg_acc 0.6730245351791382\n",
      "Testing 1 hidden neurons, lamb=1e-05, grid=8\n",
      "checkpoint directory created: ./model\n",
      "saving model version 0.0\n",
      "checkpoint directory created: ./model\n",
      "saving model version 0.0\n",
      "Successfully created and tested Model3\n"
     ]
    },
    {
     "name": "stderr",
     "output_type": "stream",
     "text": [
      " train_acc_hybrid: 7.95e-01 | val_acc_hybrid: 6.43e-01 |: 100%|█████| 60/60 [00:59<00:00,  1.01it/s]\n"
     ]
    },
    {
     "name": "stdout",
     "output_type": "stream",
     "text": [
      "saving model version 0.1\n",
      "✅ Best validation Accuracy: 7.1769e-01 at 11 epoch\n",
      "avg_acc 0.6811988949775696\n",
      "Testing 1 hidden neurons, lamb=1e-06, grid=8\n",
      "checkpoint directory created: ./model\n",
      "saving model version 0.0\n",
      "checkpoint directory created: ./model\n",
      "saving model version 0.0\n",
      "Successfully created and tested Model3\n"
     ]
    },
    {
     "name": "stderr",
     "output_type": "stream",
     "text": [
      " train_acc_hybrid: 7.54e-01 | val_acc_hybrid: 6.70e-01 |: 100%|█████| 60/60 [01:02<00:00,  1.05s/it]\n"
     ]
    },
    {
     "name": "stdout",
     "output_type": "stream",
     "text": [
      "saving model version 0.1\n",
      "✅ Best validation Accuracy: 7.1429e-01 at 34 epoch\n",
      "avg_acc 0.7111716270446777\n",
      "Testing 1 hidden neurons, lamb=1e-07, grid=8\n",
      "checkpoint directory created: ./model\n",
      "saving model version 0.0\n",
      "checkpoint directory created: ./model\n",
      "saving model version 0.0\n",
      "Successfully created and tested Model3\n"
     ]
    },
    {
     "name": "stderr",
     "output_type": "stream",
     "text": [
      " train_acc_hybrid: 7.59e-01 | val_acc_hybrid: 6.70e-01 |: 100%|█████| 60/60 [01:02<00:00,  1.05s/it]\n"
     ]
    },
    {
     "name": "stdout",
     "output_type": "stream",
     "text": [
      "saving model version 0.1\n",
      "✅ Best validation Accuracy: 7.0748e-01 at 12 epoch\n",
      "avg_acc 0.7084468603134155\n",
      "Testing 2 hidden neurons, lamb=0.01, grid=3\n",
      "checkpoint directory created: ./model\n",
      "saving model version 0.0\n",
      "checkpoint directory created: ./model\n",
      "saving model version 0.0\n",
      "Successfully created and tested Model3\n"
     ]
    },
    {
     "name": "stderr",
     "output_type": "stream",
     "text": [
      " train_acc_hybrid: 5.01e-01 | val_acc_hybrid: 5.03e-01 |: 100%|█████| 60/60 [00:39<00:00,  1.50it/s]\n"
     ]
    },
    {
     "name": "stdout",
     "output_type": "stream",
     "text": [
      "saving model version 0.1\n",
      "✅ Best validation Accuracy: 5.0340e-01 at 5 epoch\n",
      "avg_acc 0.4986375868320465\n",
      "Testing 2 hidden neurons, lamb=0.001, grid=3\n",
      "checkpoint directory created: ./model\n",
      "saving model version 0.0\n",
      "checkpoint directory created: ./model\n",
      "saving model version 0.0\n",
      "Successfully created and tested Model3\n"
     ]
    },
    {
     "name": "stderr",
     "output_type": "stream",
     "text": [
      " train_acc_hybrid: 7.43e-01 | val_acc_hybrid: 7.07e-01 |: 100%|█████| 60/60 [00:44<00:00,  1.34it/s]\n"
     ]
    },
    {
     "name": "stdout",
     "output_type": "stream",
     "text": [
      "saving model version 0.1\n",
      "✅ Best validation Accuracy: 7.2109e-01 at 8 epoch\n",
      "avg_acc 0.7275204062461853\n",
      "Testing 2 hidden neurons, lamb=0.0001, grid=3\n",
      "checkpoint directory created: ./model\n",
      "saving model version 0.0\n",
      "checkpoint directory created: ./model\n",
      "saving model version 0.0\n",
      "Successfully created and tested Model3\n"
     ]
    },
    {
     "name": "stderr",
     "output_type": "stream",
     "text": [
      " train_acc_hybrid: 7.68e-01 | val_acc_hybrid: 7.04e-01 |: 100%|█████| 60/60 [00:41<00:00,  1.44it/s]\n"
     ]
    },
    {
     "name": "stdout",
     "output_type": "stream",
     "text": [
      "saving model version 0.1\n",
      "✅ Best validation Accuracy: 7.1769e-01 at 13 epoch\n",
      "avg_acc 0.7166212201118469\n",
      "Testing 2 hidden neurons, lamb=1e-05, grid=3\n",
      "checkpoint directory created: ./model\n",
      "saving model version 0.0\n",
      "checkpoint directory created: ./model\n",
      "saving model version 0.0\n",
      "Successfully created and tested Model3\n"
     ]
    },
    {
     "name": "stderr",
     "output_type": "stream",
     "text": [
      " train_acc_hybrid: 7.61e-01 | val_acc_hybrid: 6.90e-01 |: 100%|█████| 60/60 [00:41<00:00,  1.45it/s]\n"
     ]
    },
    {
     "name": "stdout",
     "output_type": "stream",
     "text": [
      "saving model version 0.1\n",
      "✅ Best validation Accuracy: 7.2109e-01 at 11 epoch\n",
      "avg_acc 0.7029972672462463\n",
      "Testing 2 hidden neurons, lamb=1e-06, grid=3\n",
      "checkpoint directory created: ./model\n",
      "saving model version 0.0\n",
      "checkpoint directory created: ./model\n",
      "saving model version 0.0\n",
      "Successfully created and tested Model3\n"
     ]
    },
    {
     "name": "stderr",
     "output_type": "stream",
     "text": [
      " train_acc_hybrid: 7.64e-01 | val_acc_hybrid: 6.97e-01 |: 100%|█████| 60/60 [00:42<00:00,  1.43it/s]\n"
     ]
    },
    {
     "name": "stdout",
     "output_type": "stream",
     "text": [
      "saving model version 0.1\n",
      "✅ Best validation Accuracy: 7.1769e-01 at 5 epoch\n",
      "avg_acc 0.7193460464477539\n",
      "Testing 2 hidden neurons, lamb=1e-07, grid=3\n",
      "checkpoint directory created: ./model\n",
      "saving model version 0.0\n",
      "checkpoint directory created: ./model\n",
      "saving model version 0.0\n",
      "Successfully created and tested Model3\n"
     ]
    },
    {
     "name": "stderr",
     "output_type": "stream",
     "text": [
      " train_acc_hybrid: 7.63e-01 | val_acc_hybrid: 6.73e-01 |: 100%|█████| 60/60 [00:40<00:00,  1.47it/s]\n"
     ]
    },
    {
     "name": "stdout",
     "output_type": "stream",
     "text": [
      "saving model version 0.1\n",
      "✅ Best validation Accuracy: 7.1769e-01 at 6 epoch\n",
      "avg_acc 0.7220708131790161\n",
      "Testing 2 hidden neurons, lamb=0.01, grid=4\n",
      "checkpoint directory created: ./model\n",
      "saving model version 0.0\n",
      "checkpoint directory created: ./model\n",
      "saving model version 0.0\n",
      "Successfully created and tested Model3\n"
     ]
    },
    {
     "name": "stderr",
     "output_type": "stream",
     "text": [
      " train_acc_hybrid: 5.01e-01 | val_acc_hybrid: 5.03e-01 |: 100%|█████| 60/60 [00:42<00:00,  1.41it/s]\n"
     ]
    },
    {
     "name": "stdout",
     "output_type": "stream",
     "text": [
      "saving model version 0.1\n",
      "✅ Best validation Accuracy: 5.1020e-01 at 2 epoch\n",
      "avg_acc 0.4959127902984619\n",
      "Testing 2 hidden neurons, lamb=0.001, grid=4\n",
      "checkpoint directory created: ./model\n",
      "saving model version 0.0\n",
      "checkpoint directory created: ./model\n",
      "saving model version 0.0\n",
      "Successfully created and tested Model3\n"
     ]
    },
    {
     "name": "stderr",
     "output_type": "stream",
     "text": [
      " train_acc_hybrid: 7.48e-01 | val_acc_hybrid: 7.11e-01 |: 100%|█████| 60/60 [00:48<00:00,  1.23it/s]\n"
     ]
    },
    {
     "name": "stdout",
     "output_type": "stream",
     "text": [
      "saving model version 0.1\n",
      "✅ Best validation Accuracy: 7.2789e-01 at 8 epoch\n",
      "avg_acc 0.7057220339775085\n",
      "Testing 2 hidden neurons, lamb=0.0001, grid=4\n",
      "checkpoint directory created: ./model\n",
      "saving model version 0.0\n",
      "checkpoint directory created: ./model\n",
      "saving model version 0.0\n",
      "Successfully created and tested Model3\n"
     ]
    },
    {
     "name": "stderr",
     "output_type": "stream",
     "text": [
      " train_acc_hybrid: 7.61e-01 | val_acc_hybrid: 6.84e-01 |: 100%|█████| 60/60 [00:49<00:00,  1.22it/s]\n"
     ]
    },
    {
     "name": "stdout",
     "output_type": "stream",
     "text": [
      "saving model version 0.1\n",
      "✅ Best validation Accuracy: 7.2109e-01 at 8 epoch\n",
      "avg_acc 0.6893733143806458\n",
      "Testing 2 hidden neurons, lamb=1e-05, grid=4\n",
      "checkpoint directory created: ./model\n",
      "saving model version 0.0\n",
      "checkpoint directory created: ./model\n",
      "saving model version 0.0\n",
      "Successfully created and tested Model3\n"
     ]
    },
    {
     "name": "stderr",
     "output_type": "stream",
     "text": [
      " train_acc_hybrid: 7.64e-01 | val_acc_hybrid: 6.97e-01 |: 100%|█████| 60/60 [00:48<00:00,  1.23it/s]\n"
     ]
    },
    {
     "name": "stdout",
     "output_type": "stream",
     "text": [
      "saving model version 0.1\n",
      "✅ Best validation Accuracy: 7.3469e-01 at 12 epoch\n",
      "avg_acc 0.7138964533805847\n",
      "Testing 2 hidden neurons, lamb=1e-06, grid=4\n",
      "checkpoint directory created: ./model\n",
      "saving model version 0.0\n",
      "checkpoint directory created: ./model\n",
      "saving model version 0.0\n",
      "Successfully created and tested Model3\n"
     ]
    },
    {
     "name": "stderr",
     "output_type": "stream",
     "text": [
      " train_acc_hybrid: 7.55e-01 | val_acc_hybrid: 7.04e-01 |: 100%|█████| 60/60 [00:48<00:00,  1.23it/s]\n"
     ]
    },
    {
     "name": "stdout",
     "output_type": "stream",
     "text": [
      "saving model version 0.1\n",
      "✅ Best validation Accuracy: 7.1769e-01 at 21 epoch\n",
      "avg_acc 0.692098081111908\n",
      "Testing 2 hidden neurons, lamb=1e-07, grid=4\n",
      "checkpoint directory created: ./model\n",
      "saving model version 0.0\n",
      "checkpoint directory created: ./model\n",
      "saving model version 0.0\n",
      "Successfully created and tested Model3\n"
     ]
    },
    {
     "name": "stderr",
     "output_type": "stream",
     "text": [
      " train_acc_hybrid: 7.66e-01 | val_acc_hybrid: 7.14e-01 |: 100%|█████| 60/60 [00:49<00:00,  1.22it/s]\n"
     ]
    },
    {
     "name": "stdout",
     "output_type": "stream",
     "text": [
      "saving model version 0.1\n",
      "✅ Best validation Accuracy: 7.1769e-01 at 10 epoch\n",
      "avg_acc 0.6975476741790771\n",
      "Testing 2 hidden neurons, lamb=0.01, grid=5\n",
      "checkpoint directory created: ./model\n",
      "saving model version 0.0\n",
      "checkpoint directory created: ./model\n",
      "saving model version 0.0\n",
      "Successfully created and tested Model3\n"
     ]
    },
    {
     "name": "stderr",
     "output_type": "stream",
     "text": [
      " train_acc_hybrid: 5.01e-01 | val_acc_hybrid: 5.03e-01 |: 100%|█████| 60/60 [00:46<00:00,  1.29it/s]\n"
     ]
    },
    {
     "name": "stdout",
     "output_type": "stream",
     "text": [
      "saving model version 0.1\n",
      "✅ Best validation Accuracy: 5.0680e-01 at 0 epoch\n",
      "avg_acc 0.4904631972312927\n",
      "Testing 2 hidden neurons, lamb=0.001, grid=5\n",
      "checkpoint directory created: ./model\n",
      "saving model version 0.0\n",
      "checkpoint directory created: ./model\n",
      "saving model version 0.0\n",
      "Successfully created and tested Model3\n"
     ]
    },
    {
     "name": "stderr",
     "output_type": "stream",
     "text": [
      " train_acc_hybrid: 7.31e-01 | val_acc_hybrid: 7.14e-01 |: 100%|█████| 60/60 [00:54<00:00,  1.11it/s]\n"
     ]
    },
    {
     "name": "stdout",
     "output_type": "stream",
     "text": [
      "saving model version 0.1\n",
      "✅ Best validation Accuracy: 7.2109e-01 at 27 epoch\n",
      "avg_acc 0.7111716270446777\n",
      "Testing 2 hidden neurons, lamb=0.0001, grid=5\n",
      "checkpoint directory created: ./model\n",
      "saving model version 0.0\n",
      "checkpoint directory created: ./model\n",
      "saving model version 0.0\n",
      "Successfully created and tested Model3\n"
     ]
    },
    {
     "name": "stderr",
     "output_type": "stream",
     "text": [
      " train_acc_hybrid: 7.49e-01 | val_acc_hybrid: 6.84e-01 |: 100%|█████| 60/60 [00:54<00:00,  1.10it/s]\n"
     ]
    },
    {
     "name": "stdout",
     "output_type": "stream",
     "text": [
      "saving model version 0.1\n",
      "✅ Best validation Accuracy: 7.2109e-01 at 6 epoch\n",
      "avg_acc 0.7002724409103394\n",
      "Testing 2 hidden neurons, lamb=1e-05, grid=5\n",
      "checkpoint directory created: ./model\n",
      "saving model version 0.0\n",
      "checkpoint directory created: ./model\n",
      "saving model version 0.0\n",
      "Successfully created and tested Model3\n"
     ]
    },
    {
     "name": "stderr",
     "output_type": "stream",
     "text": [
      " train_acc_hybrid: 7.60e-01 | val_acc_hybrid: 6.87e-01 |: 100%|█████| 60/60 [00:54<00:00,  1.11it/s]\n"
     ]
    },
    {
     "name": "stdout",
     "output_type": "stream",
     "text": [
      "saving model version 0.1\n",
      "✅ Best validation Accuracy: 7.1769e-01 at 8 epoch\n",
      "avg_acc 0.7111716270446777\n",
      "Testing 2 hidden neurons, lamb=1e-06, grid=5\n",
      "checkpoint directory created: ./model\n",
      "saving model version 0.0\n",
      "checkpoint directory created: ./model\n",
      "saving model version 0.0\n",
      "Successfully created and tested Model3\n"
     ]
    },
    {
     "name": "stderr",
     "output_type": "stream",
     "text": [
      " train_acc_hybrid: 7.57e-01 | val_acc_hybrid: 7.04e-01 |: 100%|█████| 60/60 [00:55<00:00,  1.09it/s]\n"
     ]
    },
    {
     "name": "stdout",
     "output_type": "stream",
     "text": [
      "saving model version 0.1\n",
      "✅ Best validation Accuracy: 7.1429e-01 at 39 epoch\n",
      "avg_acc 0.6866484880447388\n",
      "Testing 2 hidden neurons, lamb=1e-07, grid=5\n",
      "checkpoint directory created: ./model\n",
      "saving model version 0.0\n",
      "checkpoint directory created: ./model\n",
      "saving model version 0.0\n",
      "Successfully created and tested Model3\n"
     ]
    },
    {
     "name": "stderr",
     "output_type": "stream",
     "text": [
      " train_acc_hybrid: 7.66e-01 | val_acc_hybrid: 7.07e-01 |: 100%|█████| 60/60 [00:54<00:00,  1.11it/s]\n"
     ]
    },
    {
     "name": "stdout",
     "output_type": "stream",
     "text": [
      "saving model version 0.1\n",
      "✅ Best validation Accuracy: 7.0748e-01 at 59 epoch\n",
      "avg_acc 0.6866484880447388\n",
      "Testing 2 hidden neurons, lamb=0.01, grid=6\n",
      "checkpoint directory created: ./model\n",
      "saving model version 0.0\n",
      "checkpoint directory created: ./model\n",
      "saving model version 0.0\n",
      "Successfully created and tested Model3\n"
     ]
    },
    {
     "name": "stderr",
     "output_type": "stream",
     "text": [
      " train_acc_hybrid: 5.01e-01 | val_acc_hybrid: 5.03e-01 |: 100%|█████| 60/60 [00:53<00:00,  1.11it/s]\n"
     ]
    },
    {
     "name": "stdout",
     "output_type": "stream",
     "text": [
      "saving model version 0.1\n",
      "✅ Best validation Accuracy: 5.1020e-01 at 4 epoch\n",
      "avg_acc 0.5040872097015381\n",
      "Testing 2 hidden neurons, lamb=0.001, grid=6\n",
      "checkpoint directory created: ./model\n",
      "saving model version 0.0\n",
      "checkpoint directory created: ./model\n",
      "saving model version 0.0\n",
      "Successfully created and tested Model3\n"
     ]
    },
    {
     "name": "stderr",
     "output_type": "stream",
     "text": [
      " train_acc_hybrid: 7.63e-01 | val_acc_hybrid: 7.07e-01 |: 100%|█████| 60/60 [00:57<00:00,  1.04it/s]\n"
     ]
    },
    {
     "name": "stdout",
     "output_type": "stream",
     "text": [
      "saving model version 0.1\n",
      "✅ Best validation Accuracy: 7.1429e-01 at 39 epoch\n",
      "avg_acc 0.7002724409103394\n",
      "Testing 2 hidden neurons, lamb=0.0001, grid=6\n",
      "checkpoint directory created: ./model\n",
      "saving model version 0.0\n",
      "checkpoint directory created: ./model\n",
      "saving model version 0.0\n",
      "Successfully created and tested Model3\n"
     ]
    },
    {
     "name": "stderr",
     "output_type": "stream",
     "text": [
      " train_acc_hybrid: 7.80e-01 | val_acc_hybrid: 7.04e-01 |: 100%|█████| 60/60 [00:56<00:00,  1.07it/s]\n"
     ]
    },
    {
     "name": "stdout",
     "output_type": "stream",
     "text": [
      "saving model version 0.1\n",
      "✅ Best validation Accuracy: 7.2109e-01 at 7 epoch\n",
      "avg_acc 0.7057220339775085\n",
      "Testing 2 hidden neurons, lamb=1e-05, grid=6\n",
      "checkpoint directory created: ./model\n",
      "saving model version 0.0\n",
      "checkpoint directory created: ./model\n",
      "saving model version 0.0\n",
      "Successfully created and tested Model3\n"
     ]
    },
    {
     "name": "stderr",
     "output_type": "stream",
     "text": [
      " train_acc_hybrid: 7.79e-01 | val_acc_hybrid: 6.90e-01 |: 100%|█████| 60/60 [00:54<00:00,  1.10it/s]\n"
     ]
    },
    {
     "name": "stdout",
     "output_type": "stream",
     "text": [
      "saving model version 0.1\n",
      "✅ Best validation Accuracy: 7.1769e-01 at 11 epoch\n",
      "avg_acc 0.7084468603134155\n",
      "Testing 2 hidden neurons, lamb=1e-06, grid=6\n",
      "checkpoint directory created: ./model\n",
      "saving model version 0.0\n",
      "checkpoint directory created: ./model\n",
      "saving model version 0.0\n",
      "Successfully created and tested Model3\n"
     ]
    },
    {
     "name": "stderr",
     "output_type": "stream",
     "text": [
      " train_acc_hybrid: 7.77e-01 | val_acc_hybrid: 6.63e-01 |: 100%|█████| 60/60 [00:56<00:00,  1.07it/s]\n"
     ]
    },
    {
     "name": "stdout",
     "output_type": "stream",
     "text": [
      "saving model version 0.1\n",
      "✅ Best validation Accuracy: 7.3469e-01 at 6 epoch\n",
      "avg_acc 0.7084468603134155\n",
      "Testing 2 hidden neurons, lamb=1e-07, grid=6\n",
      "checkpoint directory created: ./model\n",
      "saving model version 0.0\n",
      "checkpoint directory created: ./model\n",
      "saving model version 0.0\n",
      "Successfully created and tested Model3\n"
     ]
    },
    {
     "name": "stderr",
     "output_type": "stream",
     "text": [
      " train_acc_hybrid: 7.65e-01 | val_acc_hybrid: 6.87e-01 |: 100%|█████| 60/60 [00:57<00:00,  1.04it/s]\n"
     ]
    },
    {
     "name": "stdout",
     "output_type": "stream",
     "text": [
      "saving model version 0.1\n",
      "✅ Best validation Accuracy: 7.3469e-01 at 8 epoch\n",
      "avg_acc 0.7057220339775085\n",
      "Testing 2 hidden neurons, lamb=0.01, grid=7\n",
      "checkpoint directory created: ./model\n",
      "saving model version 0.0\n",
      "checkpoint directory created: ./model\n",
      "saving model version 0.0\n",
      "Successfully created and tested Model3\n"
     ]
    },
    {
     "name": "stderr",
     "output_type": "stream",
     "text": [
      " train_acc_hybrid: 5.01e-01 | val_acc_hybrid: 5.03e-01 |: 100%|█████| 60/60 [00:55<00:00,  1.09it/s]\n"
     ]
    },
    {
     "name": "stdout",
     "output_type": "stream",
     "text": [
      "saving model version 0.1\n",
      "✅ Best validation Accuracy: 5.0340e-01 at 2 epoch\n",
      "avg_acc 0.5013623833656311\n",
      "Testing 2 hidden neurons, lamb=0.001, grid=7\n",
      "checkpoint directory created: ./model\n",
      "saving model version 0.0\n",
      "checkpoint directory created: ./model\n",
      "saving model version 0.0\n",
      "Successfully created and tested Model3\n"
     ]
    },
    {
     "name": "stderr",
     "output_type": "stream",
     "text": [
      " train_acc_hybrid: 7.55e-01 | val_acc_hybrid: 6.97e-01 |: 100%|█████| 60/60 [00:59<00:00,  1.01it/s]\n"
     ]
    },
    {
     "name": "stdout",
     "output_type": "stream",
     "text": [
      "saving model version 0.1\n",
      "✅ Best validation Accuracy: 7.1769e-01 at 39 epoch\n",
      "avg_acc 0.6893733143806458\n",
      "Testing 2 hidden neurons, lamb=0.0001, grid=7\n",
      "checkpoint directory created: ./model\n",
      "saving model version 0.0\n",
      "checkpoint directory created: ./model\n",
      "saving model version 0.0\n",
      "Successfully created and tested Model3\n"
     ]
    },
    {
     "name": "stderr",
     "output_type": "stream",
     "text": [
      " train_acc_hybrid: 7.60e-01 | val_acc_hybrid: 7.14e-01 |: 100%|█████| 60/60 [01:01<00:00,  1.03s/it]\n"
     ]
    },
    {
     "name": "stdout",
     "output_type": "stream",
     "text": [
      "saving model version 0.1\n",
      "✅ Best validation Accuracy: 7.2789e-01 at 28 epoch\n",
      "avg_acc 0.7002724409103394\n",
      "Testing 2 hidden neurons, lamb=1e-05, grid=7\n",
      "checkpoint directory created: ./model\n",
      "saving model version 0.0\n",
      "checkpoint directory created: ./model\n",
      "saving model version 0.0\n",
      "Successfully created and tested Model3\n"
     ]
    },
    {
     "name": "stderr",
     "output_type": "stream",
     "text": [
      " train_acc_hybrid: 7.78e-01 | val_acc_hybrid: 6.90e-01 |: 100%|█████| 60/60 [00:59<00:00,  1.01it/s]\n"
     ]
    },
    {
     "name": "stdout",
     "output_type": "stream",
     "text": [
      "saving model version 0.1\n",
      "✅ Best validation Accuracy: 6.9048e-01 at 48 epoch\n",
      "avg_acc 0.6784741282463074\n",
      "Testing 2 hidden neurons, lamb=1e-06, grid=7\n",
      "checkpoint directory created: ./model\n",
      "saving model version 0.0\n",
      "checkpoint directory created: ./model\n",
      "saving model version 0.0\n",
      "Successfully created and tested Model3\n"
     ]
    },
    {
     "name": "stderr",
     "output_type": "stream",
     "text": [
      " train_acc_hybrid: 7.60e-01 | val_acc_hybrid: 6.73e-01 |: 100%|█████| 60/60 [00:57<00:00,  1.05it/s]\n"
     ]
    },
    {
     "name": "stdout",
     "output_type": "stream",
     "text": [
      "saving model version 0.1\n",
      "✅ Best validation Accuracy: 7.0748e-01 at 10 epoch\n",
      "avg_acc 0.7057220339775085\n",
      "Testing 2 hidden neurons, lamb=1e-07, grid=7\n",
      "checkpoint directory created: ./model\n",
      "saving model version 0.0\n",
      "checkpoint directory created: ./model\n",
      "saving model version 0.0\n",
      "Successfully created and tested Model3\n"
     ]
    },
    {
     "name": "stderr",
     "output_type": "stream",
     "text": [
      " train_acc_hybrid: 7.43e-01 | val_acc_hybrid: 7.01e-01 |: 100%|█████| 60/60 [00:59<00:00,  1.01it/s]\n"
     ]
    },
    {
     "name": "stdout",
     "output_type": "stream",
     "text": [
      "saving model version 0.1\n",
      "✅ Best validation Accuracy: 7.1429e-01 at 42 epoch\n",
      "avg_acc 0.6893733143806458\n",
      "Testing 2 hidden neurons, lamb=0.01, grid=8\n",
      "checkpoint directory created: ./model\n",
      "saving model version 0.0\n",
      "checkpoint directory created: ./model\n",
      "saving model version 0.0\n",
      "Successfully created and tested Model3\n"
     ]
    },
    {
     "name": "stderr",
     "output_type": "stream",
     "text": [
      " train_acc_hybrid: 5.01e-01 | val_acc_hybrid: 5.03e-01 |: 100%|█████| 60/60 [00:55<00:00,  1.09it/s]\n"
     ]
    },
    {
     "name": "stdout",
     "output_type": "stream",
     "text": [
      "saving model version 0.1\n",
      "✅ Best validation Accuracy: 5.3061e-01 at 0 epoch\n",
      "avg_acc 0.5367847084999084\n",
      "Testing 2 hidden neurons, lamb=0.001, grid=8\n",
      "checkpoint directory created: ./model\n",
      "saving model version 0.0\n",
      "checkpoint directory created: ./model\n",
      "saving model version 0.0\n",
      "Successfully created and tested Model3\n"
     ]
    },
    {
     "name": "stderr",
     "output_type": "stream",
     "text": [
      " train_acc_hybrid: 7.55e-01 | val_acc_hybrid: 7.11e-01 |: 100%|█████| 60/60 [01:04<00:00,  1.07s/it]\n"
     ]
    },
    {
     "name": "stdout",
     "output_type": "stream",
     "text": [
      "saving model version 0.1\n",
      "✅ Best validation Accuracy: 7.2449e-01 at 5 epoch\n",
      "avg_acc 0.7057220339775085\n",
      "Testing 2 hidden neurons, lamb=0.0001, grid=8\n",
      "checkpoint directory created: ./model\n",
      "saving model version 0.0\n",
      "checkpoint directory created: ./model\n",
      "saving model version 0.0\n",
      "Successfully created and tested Model3\n"
     ]
    },
    {
     "name": "stderr",
     "output_type": "stream",
     "text": [
      " train_acc_hybrid: 7.72e-01 | val_acc_hybrid: 6.73e-01 |: 100%|█████| 60/60 [01:03<00:00,  1.07s/it]\n"
     ]
    },
    {
     "name": "stdout",
     "output_type": "stream",
     "text": [
      "saving model version 0.1\n",
      "✅ Best validation Accuracy: 7.2109e-01 at 18 epoch\n",
      "avg_acc 0.7138964533805847\n",
      "Testing 2 hidden neurons, lamb=1e-05, grid=8\n",
      "checkpoint directory created: ./model\n",
      "saving model version 0.0\n",
      "checkpoint directory created: ./model\n",
      "saving model version 0.0\n",
      "Successfully created and tested Model3\n"
     ]
    },
    {
     "name": "stderr",
     "output_type": "stream",
     "text": [
      " train_acc_hybrid: 7.60e-01 | val_acc_hybrid: 7.07e-01 |: 100%|█████| 60/60 [01:04<00:00,  1.07s/it]\n"
     ]
    },
    {
     "name": "stdout",
     "output_type": "stream",
     "text": [
      "saving model version 0.1\n",
      "✅ Best validation Accuracy: 7.1769e-01 at 11 epoch\n",
      "avg_acc 0.7166212201118469\n",
      "Testing 2 hidden neurons, lamb=1e-06, grid=8\n",
      "checkpoint directory created: ./model\n",
      "saving model version 0.0\n",
      "checkpoint directory created: ./model\n",
      "saving model version 0.0\n",
      "Successfully created and tested Model3\n"
     ]
    },
    {
     "name": "stderr",
     "output_type": "stream",
     "text": [
      " train_acc_hybrid: 7.69e-01 | val_acc_hybrid: 6.77e-01 |: 100%|█████| 60/60 [01:02<00:00,  1.04s/it]\n"
     ]
    },
    {
     "name": "stdout",
     "output_type": "stream",
     "text": [
      "saving model version 0.1\n",
      "✅ Best validation Accuracy: 7.1429e-01 at 14 epoch\n",
      "avg_acc 0.7111716270446777\n",
      "Testing 2 hidden neurons, lamb=1e-07, grid=8\n",
      "checkpoint directory created: ./model\n",
      "saving model version 0.0\n",
      "checkpoint directory created: ./model\n",
      "saving model version 0.0\n",
      "Successfully created and tested Model3\n"
     ]
    },
    {
     "name": "stderr",
     "output_type": "stream",
     "text": [
      " train_acc_hybrid: 7.56e-01 | val_acc_hybrid: 6.97e-01 |: 100%|█████| 60/60 [01:04<00:00,  1.07s/it]\n"
     ]
    },
    {
     "name": "stdout",
     "output_type": "stream",
     "text": [
      "saving model version 0.1\n",
      "✅ Best validation Accuracy: 7.2109e-01 at 24 epoch\n",
      "avg_acc 0.6893733143806458\n",
      "Testing 3 hidden neurons, lamb=0.01, grid=3\n",
      "checkpoint directory created: ./model\n",
      "saving model version 0.0\n",
      "checkpoint directory created: ./model\n",
      "saving model version 0.0\n",
      "Successfully created and tested Model3\n"
     ]
    },
    {
     "name": "stderr",
     "output_type": "stream",
     "text": [
      " train_acc_hybrid: 5.01e-01 | val_acc_hybrid: 5.03e-01 |: 100%|█████| 60/60 [00:37<00:00,  1.59it/s]\n"
     ]
    },
    {
     "name": "stdout",
     "output_type": "stream",
     "text": [
      "saving model version 0.1\n",
      "✅ Best validation Accuracy: 5.1701e-01 at 1 epoch\n",
      "avg_acc 0.48773840069770813\n",
      "Testing 3 hidden neurons, lamb=0.001, grid=3\n",
      "checkpoint directory created: ./model\n",
      "saving model version 0.0\n",
      "checkpoint directory created: ./model\n",
      "saving model version 0.0\n",
      "Successfully created and tested Model3\n"
     ]
    },
    {
     "name": "stderr",
     "output_type": "stream",
     "text": [
      " train_acc_hybrid: 7.31e-01 | val_acc_hybrid: 7.14e-01 |: 100%|█████| 60/60 [00:44<00:00,  1.36it/s]\n"
     ]
    },
    {
     "name": "stdout",
     "output_type": "stream",
     "text": [
      "saving model version 0.1\n",
      "✅ Best validation Accuracy: 7.2109e-01 at 5 epoch\n",
      "avg_acc 0.7057220339775085\n",
      "Testing 3 hidden neurons, lamb=0.0001, grid=3\n",
      "checkpoint directory created: ./model\n",
      "saving model version 0.0\n",
      "checkpoint directory created: ./model\n",
      "saving model version 0.0\n",
      "Successfully created and tested Model3\n"
     ]
    },
    {
     "name": "stderr",
     "output_type": "stream",
     "text": [
      " train_acc_hybrid: 7.54e-01 | val_acc_hybrid: 6.94e-01 |: 100%|█████| 60/60 [00:38<00:00,  1.55it/s]\n"
     ]
    },
    {
     "name": "stdout",
     "output_type": "stream",
     "text": [
      "saving model version 0.1\n",
      "✅ Best validation Accuracy: 7.2449e-01 at 15 epoch\n",
      "avg_acc 0.6757493019104004\n",
      "Testing 3 hidden neurons, lamb=1e-05, grid=3\n",
      "checkpoint directory created: ./model\n",
      "saving model version 0.0\n",
      "checkpoint directory created: ./model\n",
      "saving model version 0.0\n",
      "Successfully created and tested Model3\n"
     ]
    },
    {
     "name": "stderr",
     "output_type": "stream",
     "text": [
      " train_acc_hybrid: 7.64e-01 | val_acc_hybrid: 6.80e-01 |: 100%|█████| 60/60 [00:42<00:00,  1.42it/s]\n"
     ]
    },
    {
     "name": "stdout",
     "output_type": "stream",
     "text": [
      "saving model version 0.1\n",
      "✅ Best validation Accuracy: 7.1769e-01 at 20 epoch\n",
      "avg_acc 0.6975476741790771\n",
      "Testing 3 hidden neurons, lamb=1e-06, grid=3\n",
      "checkpoint directory created: ./model\n",
      "saving model version 0.0\n",
      "checkpoint directory created: ./model\n",
      "saving model version 0.0\n",
      "Successfully created and tested Model3\n"
     ]
    },
    {
     "name": "stderr",
     "output_type": "stream",
     "text": [
      " train_acc_hybrid: 7.53e-01 | val_acc_hybrid: 7.01e-01 |: 100%|█████| 60/60 [00:44<00:00,  1.35it/s]\n"
     ]
    },
    {
     "name": "stdout",
     "output_type": "stream",
     "text": [
      "saving model version 0.1\n",
      "✅ Best validation Accuracy: 7.2789e-01 at 19 epoch\n",
      "avg_acc 0.6730245351791382\n",
      "Testing 3 hidden neurons, lamb=1e-07, grid=3\n",
      "checkpoint directory created: ./model\n",
      "saving model version 0.0\n",
      "checkpoint directory created: ./model\n",
      "saving model version 0.0\n",
      "Successfully created and tested Model3\n"
     ]
    },
    {
     "name": "stderr",
     "output_type": "stream",
     "text": [
      " train_acc_hybrid: 7.60e-01 | val_acc_hybrid: 6.97e-01 |: 100%|█████| 60/60 [00:44<00:00,  1.36it/s]\n"
     ]
    },
    {
     "name": "stdout",
     "output_type": "stream",
     "text": [
      "saving model version 0.1\n",
      "✅ Best validation Accuracy: 7.2109e-01 at 17 epoch\n",
      "avg_acc 0.6811988949775696\n",
      "Testing 3 hidden neurons, lamb=0.01, grid=4\n",
      "checkpoint directory created: ./model\n",
      "saving model version 0.0\n",
      "checkpoint directory created: ./model\n",
      "saving model version 0.0\n",
      "Successfully created and tested Model3\n"
     ]
    },
    {
     "name": "stderr",
     "output_type": "stream",
     "text": [
      " train_acc_hybrid: 5.01e-01 | val_acc_hybrid: 5.03e-01 |: 100%|█████| 60/60 [00:44<00:00,  1.35it/s]\n"
     ]
    },
    {
     "name": "stdout",
     "output_type": "stream",
     "text": [
      "saving model version 0.1\n",
      "✅ Best validation Accuracy: 5.1020e-01 at 1 epoch\n",
      "avg_acc 0.4959127902984619\n",
      "Testing 3 hidden neurons, lamb=0.001, grid=4\n",
      "checkpoint directory created: ./model\n",
      "saving model version 0.0\n",
      "checkpoint directory created: ./model\n",
      "saving model version 0.0\n",
      "Successfully created and tested Model3\n"
     ]
    },
    {
     "name": "stderr",
     "output_type": "stream",
     "text": [
      " train_acc_hybrid: 7.52e-01 | val_acc_hybrid: 7.04e-01 |: 100%|█████| 60/60 [00:48<00:00,  1.24it/s]\n"
     ]
    },
    {
     "name": "stdout",
     "output_type": "stream",
     "text": [
      "saving model version 0.1\n",
      "✅ Best validation Accuracy: 7.2109e-01 at 5 epoch\n",
      "avg_acc 0.7111716270446777\n",
      "Testing 3 hidden neurons, lamb=0.0001, grid=4\n",
      "checkpoint directory created: ./model\n",
      "saving model version 0.0\n",
      "checkpoint directory created: ./model\n",
      "saving model version 0.0\n",
      "Successfully created and tested Model3\n"
     ]
    },
    {
     "name": "stderr",
     "output_type": "stream",
     "text": [
      " train_acc_hybrid: 7.50e-01 | val_acc_hybrid: 6.80e-01 |: 100%|█████| 60/60 [00:50<00:00,  1.19it/s]\n"
     ]
    },
    {
     "name": "stdout",
     "output_type": "stream",
     "text": [
      "saving model version 0.1\n",
      "✅ Best validation Accuracy: 7.0748e-01 at 26 epoch\n",
      "avg_acc 0.7166212201118469\n",
      "Testing 3 hidden neurons, lamb=1e-05, grid=4\n",
      "checkpoint directory created: ./model\n",
      "saving model version 0.0\n",
      "checkpoint directory created: ./model\n",
      "saving model version 0.0\n",
      "Successfully created and tested Model3\n"
     ]
    },
    {
     "name": "stderr",
     "output_type": "stream",
     "text": [
      " train_acc_hybrid: 7.65e-01 | val_acc_hybrid: 6.87e-01 |: 100%|█████| 60/60 [00:48<00:00,  1.24it/s]\n"
     ]
    },
    {
     "name": "stdout",
     "output_type": "stream",
     "text": [
      "saving model version 0.1\n",
      "✅ Best validation Accuracy: 7.2109e-01 at 10 epoch\n",
      "avg_acc 0.7166212201118469\n",
      "Testing 3 hidden neurons, lamb=1e-06, grid=4\n",
      "checkpoint directory created: ./model\n",
      "saving model version 0.0\n",
      "checkpoint directory created: ./model\n",
      "saving model version 0.0\n",
      "Successfully created and tested Model3\n"
     ]
    },
    {
     "name": "stderr",
     "output_type": "stream",
     "text": [
      " train_acc_hybrid: 7.54e-01 | val_acc_hybrid: 6.70e-01 |: 100%|█████| 60/60 [00:47<00:00,  1.25it/s]\n"
     ]
    },
    {
     "name": "stdout",
     "output_type": "stream",
     "text": [
      "saving model version 0.1\n",
      "✅ Best validation Accuracy: 7.1769e-01 at 11 epoch\n",
      "avg_acc 0.7111716270446777\n",
      "Testing 3 hidden neurons, lamb=1e-07, grid=4\n",
      "checkpoint directory created: ./model\n",
      "saving model version 0.0\n",
      "checkpoint directory created: ./model\n",
      "saving model version 0.0\n",
      "Successfully created and tested Model3\n"
     ]
    },
    {
     "name": "stderr",
     "output_type": "stream",
     "text": [
      " train_acc_hybrid: 7.82e-01 | val_acc_hybrid: 6.90e-01 |: 100%|█████| 60/60 [00:48<00:00,  1.22it/s]\n"
     ]
    },
    {
     "name": "stdout",
     "output_type": "stream",
     "text": [
      "saving model version 0.1\n",
      "✅ Best validation Accuracy: 7.2789e-01 at 6 epoch\n",
      "avg_acc 0.7193460464477539\n",
      "Testing 3 hidden neurons, lamb=0.01, grid=5\n",
      "checkpoint directory created: ./model\n",
      "saving model version 0.0\n",
      "checkpoint directory created: ./model\n",
      "saving model version 0.0\n",
      "Successfully created and tested Model3\n"
     ]
    },
    {
     "name": "stderr",
     "output_type": "stream",
     "text": [
      " train_acc_hybrid: 5.01e-01 | val_acc_hybrid: 5.07e-01 |: 100%|█████| 60/60 [00:42<00:00,  1.40it/s]\n"
     ]
    },
    {
     "name": "stdout",
     "output_type": "stream",
     "text": [
      "saving model version 0.1\n",
      "✅ Best validation Accuracy: 5.1701e-01 at 9 epoch\n",
      "avg_acc 0.5040872097015381\n",
      "Testing 3 hidden neurons, lamb=0.001, grid=5\n",
      "checkpoint directory created: ./model\n",
      "saving model version 0.0\n",
      "checkpoint directory created: ./model\n",
      "saving model version 0.0\n",
      "Successfully created and tested Model3\n"
     ]
    },
    {
     "name": "stderr",
     "output_type": "stream",
     "text": [
      " train_acc_hybrid: 7.43e-01 | val_acc_hybrid: 7.04e-01 |: 100%|█████| 60/60 [00:53<00:00,  1.12it/s]\n"
     ]
    },
    {
     "name": "stdout",
     "output_type": "stream",
     "text": [
      "saving model version 0.1\n",
      "✅ Best validation Accuracy: 7.1429e-01 at 25 epoch\n",
      "avg_acc 0.692098081111908\n",
      "Testing 3 hidden neurons, lamb=0.0001, grid=5\n",
      "checkpoint directory created: ./model\n",
      "saving model version 0.0\n",
      "checkpoint directory created: ./model\n",
      "saving model version 0.0\n",
      "Successfully created and tested Model3\n"
     ]
    },
    {
     "name": "stderr",
     "output_type": "stream",
     "text": [
      " train_acc_hybrid: 7.92e-01 | val_acc_hybrid: 7.07e-01 |: 100%|█████| 60/60 [00:52<00:00,  1.13it/s]\n"
     ]
    },
    {
     "name": "stdout",
     "output_type": "stream",
     "text": [
      "saving model version 0.1\n",
      "✅ Best validation Accuracy: 7.4490e-01 at 6 epoch\n",
      "avg_acc 0.7138964533805847\n",
      "Testing 3 hidden neurons, lamb=1e-05, grid=5\n",
      "checkpoint directory created: ./model\n",
      "saving model version 0.0\n",
      "checkpoint directory created: ./model\n",
      "saving model version 0.0\n",
      "Successfully created and tested Model3\n"
     ]
    },
    {
     "name": "stderr",
     "output_type": "stream",
     "text": [
      " train_acc_hybrid: 7.75e-01 | val_acc_hybrid: 6.94e-01 |: 100%|█████| 60/60 [00:49<00:00,  1.21it/s]\n"
     ]
    },
    {
     "name": "stdout",
     "output_type": "stream",
     "text": [
      "saving model version 0.1\n",
      "✅ Best validation Accuracy: 7.0748e-01 at 8 epoch\n",
      "avg_acc 0.7084468603134155\n",
      "Testing 3 hidden neurons, lamb=1e-06, grid=5\n",
      "checkpoint directory created: ./model\n",
      "saving model version 0.0\n",
      "checkpoint directory created: ./model\n",
      "saving model version 0.0\n",
      "Successfully created and tested Model3\n"
     ]
    },
    {
     "name": "stderr",
     "output_type": "stream",
     "text": [
      " train_acc_hybrid: 7.64e-01 | val_acc_hybrid: 6.87e-01 |: 100%|█████| 60/60 [00:54<00:00,  1.10it/s]\n"
     ]
    },
    {
     "name": "stdout",
     "output_type": "stream",
     "text": [
      "saving model version 0.1\n",
      "✅ Best validation Accuracy: 7.1769e-01 at 31 epoch\n",
      "avg_acc 0.6702997088432312\n",
      "Testing 3 hidden neurons, lamb=1e-07, grid=5\n",
      "checkpoint directory created: ./model\n",
      "saving model version 0.0\n",
      "checkpoint directory created: ./model\n",
      "saving model version 0.0\n",
      "Successfully created and tested Model3\n"
     ]
    },
    {
     "name": "stderr",
     "output_type": "stream",
     "text": [
      " train_acc_hybrid: 7.83e-01 | val_acc_hybrid: 6.73e-01 |: 100%|█████| 60/60 [00:50<00:00,  1.18it/s]\n"
     ]
    },
    {
     "name": "stdout",
     "output_type": "stream",
     "text": [
      "saving model version 0.1\n",
      "✅ Best validation Accuracy: 6.9728e-01 at 5 epoch\n",
      "avg_acc 0.7057220339775085\n",
      "Testing 3 hidden neurons, lamb=0.01, grid=6\n",
      "checkpoint directory created: ./model\n",
      "saving model version 0.0\n",
      "checkpoint directory created: ./model\n",
      "saving model version 0.0\n",
      "Successfully created and tested Model3\n"
     ]
    },
    {
     "name": "stderr",
     "output_type": "stream",
     "text": [
      " train_acc_hybrid: 5.01e-01 | val_acc_hybrid: 5.03e-01 |: 100%|█████| 60/60 [00:52<00:00,  1.15it/s]\n"
     ]
    },
    {
     "name": "stdout",
     "output_type": "stream",
     "text": [
      "saving model version 0.1\n",
      "✅ Best validation Accuracy: 5.0340e-01 at 0 epoch\n",
      "avg_acc 0.4959127902984619\n",
      "Testing 3 hidden neurons, lamb=0.001, grid=6\n",
      "checkpoint directory created: ./model\n",
      "saving model version 0.0\n",
      "checkpoint directory created: ./model\n",
      "saving model version 0.0\n",
      "Successfully created and tested Model3\n"
     ]
    },
    {
     "name": "stderr",
     "output_type": "stream",
     "text": [
      " train_acc_hybrid: 7.03e-01 | val_acc_hybrid: 6.46e-01 |: 100%|█████| 60/60 [00:57<00:00,  1.04it/s]\n"
     ]
    },
    {
     "name": "stdout",
     "output_type": "stream",
     "text": [
      "saving model version 0.1\n",
      "✅ Best validation Accuracy: 6.6327e-01 at 8 epoch\n",
      "avg_acc 0.6539509296417236\n",
      "Testing 3 hidden neurons, lamb=0.0001, grid=6\n",
      "checkpoint directory created: ./model\n",
      "saving model version 0.0\n",
      "checkpoint directory created: ./model\n",
      "saving model version 0.0\n",
      "Successfully created and tested Model3\n"
     ]
    },
    {
     "name": "stderr",
     "output_type": "stream",
     "text": [
      " train_acc_hybrid: 7.70e-01 | val_acc_hybrid: 6.70e-01 |: 100%|█████| 60/60 [00:58<00:00,  1.03it/s]\n"
     ]
    },
    {
     "name": "stdout",
     "output_type": "stream",
     "text": [
      "saving model version 0.1\n",
      "✅ Best validation Accuracy: 7.3469e-01 at 5 epoch\n",
      "avg_acc 0.692098081111908\n",
      "Testing 3 hidden neurons, lamb=1e-05, grid=6\n",
      "checkpoint directory created: ./model\n",
      "saving model version 0.0\n",
      "checkpoint directory created: ./model\n",
      "saving model version 0.0\n",
      "Successfully created and tested Model3\n"
     ]
    },
    {
     "name": "stderr",
     "output_type": "stream",
     "text": [
      " train_acc_hybrid: 7.53e-01 | val_acc_hybrid: 6.87e-01 |: 100%|█████| 60/60 [00:55<00:00,  1.09it/s]\n"
     ]
    },
    {
     "name": "stdout",
     "output_type": "stream",
     "text": [
      "saving model version 0.1\n",
      "✅ Best validation Accuracy: 7.2449e-01 at 22 epoch\n",
      "avg_acc 0.7029972672462463\n",
      "Testing 3 hidden neurons, lamb=1e-06, grid=6\n",
      "checkpoint directory created: ./model\n",
      "saving model version 0.0\n",
      "checkpoint directory created: ./model\n",
      "saving model version 0.0\n",
      "Successfully created and tested Model3\n"
     ]
    },
    {
     "name": "stderr",
     "output_type": "stream",
     "text": [
      " train_acc_hybrid: 7.54e-01 | val_acc_hybrid: 6.87e-01 |: 100%|█████| 60/60 [00:56<00:00,  1.05it/s]\n"
     ]
    },
    {
     "name": "stdout",
     "output_type": "stream",
     "text": [
      "saving model version 0.1\n",
      "✅ Best validation Accuracy: 7.2109e-01 at 32 epoch\n",
      "avg_acc 0.6975476741790771\n",
      "Testing 3 hidden neurons, lamb=1e-07, grid=6\n",
      "checkpoint directory created: ./model\n",
      "saving model version 0.0\n",
      "checkpoint directory created: ./model\n",
      "saving model version 0.0\n",
      "Successfully created and tested Model3\n"
     ]
    },
    {
     "name": "stderr",
     "output_type": "stream",
     "text": [
      " train_acc_hybrid: 7.67e-01 | val_acc_hybrid: 7.07e-01 |: 100%|█████| 60/60 [00:55<00:00,  1.08it/s]\n"
     ]
    },
    {
     "name": "stdout",
     "output_type": "stream",
     "text": [
      "saving model version 0.1\n",
      "✅ Best validation Accuracy: 7.1769e-01 at 18 epoch\n",
      "avg_acc 0.692098081111908\n",
      "Testing 3 hidden neurons, lamb=0.01, grid=7\n",
      "checkpoint directory created: ./model\n",
      "saving model version 0.0\n",
      "checkpoint directory created: ./model\n",
      "saving model version 0.0\n",
      "Successfully created and tested Model3\n"
     ]
    },
    {
     "name": "stderr",
     "output_type": "stream",
     "text": [
      " train_acc_hybrid: 5.01e-01 | val_acc_hybrid: 5.03e-01 |: 100%|█████| 60/60 [00:53<00:00,  1.13it/s]\n"
     ]
    },
    {
     "name": "stdout",
     "output_type": "stream",
     "text": [
      "saving model version 0.1\n",
      "✅ Best validation Accuracy: 5.0340e-01 at 0 epoch\n",
      "avg_acc 0.5013623833656311\n",
      "Testing 3 hidden neurons, lamb=0.001, grid=7\n",
      "checkpoint directory created: ./model\n",
      "saving model version 0.0\n",
      "checkpoint directory created: ./model\n",
      "saving model version 0.0\n",
      "Successfully created and tested Model3\n"
     ]
    },
    {
     "name": "stderr",
     "output_type": "stream",
     "text": [
      " train_acc_hybrid: 7.54e-01 | val_acc_hybrid: 6.80e-01 |: 100%|█████| 60/60 [00:59<00:00,  1.01it/s]\n"
     ]
    },
    {
     "name": "stdout",
     "output_type": "stream",
     "text": [
      "saving model version 0.1\n",
      "✅ Best validation Accuracy: 7.1429e-01 at 11 epoch\n",
      "avg_acc 0.7084468603134155\n",
      "Testing 3 hidden neurons, lamb=0.0001, grid=7\n",
      "checkpoint directory created: ./model\n",
      "saving model version 0.0\n",
      "checkpoint directory created: ./model\n",
      "saving model version 0.0\n",
      "Successfully created and tested Model3\n"
     ]
    },
    {
     "name": "stderr",
     "output_type": "stream",
     "text": [
      " train_acc_hybrid: 7.68e-01 | val_acc_hybrid: 6.94e-01 |: 100%|█████| 60/60 [01:00<00:00,  1.01s/it]\n"
     ]
    },
    {
     "name": "stdout",
     "output_type": "stream",
     "text": [
      "saving model version 0.1\n",
      "✅ Best validation Accuracy: 7.0748e-01 at 13 epoch\n",
      "avg_acc 0.692098081111908\n",
      "Testing 3 hidden neurons, lamb=1e-05, grid=7\n",
      "checkpoint directory created: ./model\n",
      "saving model version 0.0\n",
      "checkpoint directory created: ./model\n",
      "saving model version 0.0\n",
      "Successfully created and tested Model3\n"
     ]
    },
    {
     "name": "stderr",
     "output_type": "stream",
     "text": [
      " train_acc_hybrid: 7.72e-01 | val_acc_hybrid: 6.84e-01 |: 100%|█████| 60/60 [01:00<00:00,  1.01s/it]\n"
     ]
    },
    {
     "name": "stdout",
     "output_type": "stream",
     "text": [
      "saving model version 0.1\n",
      "✅ Best validation Accuracy: 7.1429e-01 at 10 epoch\n",
      "avg_acc 0.692098081111908\n",
      "Testing 3 hidden neurons, lamb=1e-06, grid=7\n",
      "checkpoint directory created: ./model\n",
      "saving model version 0.0\n",
      "checkpoint directory created: ./model\n",
      "saving model version 0.0\n",
      "Successfully created and tested Model3\n"
     ]
    },
    {
     "name": "stderr",
     "output_type": "stream",
     "text": [
      " train_acc_hybrid: 7.35e-01 | val_acc_hybrid: 6.90e-01 |: 100%|█████| 60/60 [01:01<00:00,  1.03s/it]\n"
     ]
    },
    {
     "name": "stdout",
     "output_type": "stream",
     "text": [
      "saving model version 0.1\n",
      "✅ Best validation Accuracy: 6.9388e-01 at 45 epoch\n",
      "avg_acc 0.692098081111908\n",
      "Testing 3 hidden neurons, lamb=1e-07, grid=7\n",
      "checkpoint directory created: ./model\n",
      "saving model version 0.0\n",
      "checkpoint directory created: ./model\n",
      "saving model version 0.0\n",
      "Successfully created and tested Model3\n"
     ]
    },
    {
     "name": "stderr",
     "output_type": "stream",
     "text": [
      " train_acc_hybrid: 7.89e-01 | val_acc_hybrid: 6.73e-01 |: 100%|█████| 60/60 [00:56<00:00,  1.06it/s]\n"
     ]
    },
    {
     "name": "stdout",
     "output_type": "stream",
     "text": [
      "saving model version 0.1\n",
      "✅ Best validation Accuracy: 7.1429e-01 at 22 epoch\n",
      "avg_acc 0.6730245351791382\n",
      "Testing 3 hidden neurons, lamb=0.01, grid=8\n",
      "checkpoint directory created: ./model\n",
      "saving model version 0.0\n",
      "checkpoint directory created: ./model\n",
      "saving model version 0.0\n",
      "Successfully created and tested Model3\n"
     ]
    },
    {
     "name": "stderr",
     "output_type": "stream",
     "text": [
      " train_acc_hybrid: 5.01e-01 | val_acc_hybrid: 5.03e-01 |: 100%|█████| 60/60 [00:51<00:00,  1.17it/s]\n"
     ]
    },
    {
     "name": "stdout",
     "output_type": "stream",
     "text": [
      "saving model version 0.1\n",
      "✅ Best validation Accuracy: 5.1361e-01 at 0 epoch\n",
      "avg_acc 0.5040872097015381\n",
      "Testing 3 hidden neurons, lamb=0.001, grid=8\n",
      "checkpoint directory created: ./model\n",
      "saving model version 0.0\n",
      "checkpoint directory created: ./model\n",
      "saving model version 0.0\n",
      "Successfully created and tested Model3\n"
     ]
    },
    {
     "name": "stderr",
     "output_type": "stream",
     "text": [
      " train_acc_hybrid: 7.47e-01 | val_acc_hybrid: 7.04e-01 |: 100%|█████| 60/60 [01:03<00:00,  1.05s/it]\n"
     ]
    },
    {
     "name": "stdout",
     "output_type": "stream",
     "text": [
      "saving model version 0.1\n",
      "✅ Best validation Accuracy: 7.0748e-01 at 27 epoch\n",
      "avg_acc 0.6893733143806458\n",
      "Testing 3 hidden neurons, lamb=0.0001, grid=8\n",
      "checkpoint directory created: ./model\n",
      "saving model version 0.0\n",
      "checkpoint directory created: ./model\n",
      "saving model version 0.0\n",
      "Successfully created and tested Model3\n"
     ]
    },
    {
     "name": "stderr",
     "output_type": "stream",
     "text": [
      " train_acc_hybrid: 7.58e-01 | val_acc_hybrid: 6.77e-01 |: 100%|█████| 60/60 [01:03<00:00,  1.06s/it]\n"
     ]
    },
    {
     "name": "stdout",
     "output_type": "stream",
     "text": [
      "saving model version 0.1\n",
      "✅ Best validation Accuracy: 7.0748e-01 at 37 epoch\n",
      "avg_acc 0.7111716270446777\n",
      "Testing 3 hidden neurons, lamb=1e-05, grid=8\n",
      "checkpoint directory created: ./model\n",
      "saving model version 0.0\n",
      "checkpoint directory created: ./model\n",
      "saving model version 0.0\n",
      "Successfully created and tested Model3\n"
     ]
    },
    {
     "name": "stderr",
     "output_type": "stream",
     "text": [
      " train_acc_hybrid: 7.05e-01 | val_acc_hybrid: 6.50e-01 |: 100%|█████| 60/60 [00:48<00:00,  1.23it/s]\n"
     ]
    },
    {
     "name": "stdout",
     "output_type": "stream",
     "text": [
      "saving model version 0.1\n",
      "✅ Best validation Accuracy: 6.6327e-01 at 11 epoch\n",
      "avg_acc 0.640326976776123\n",
      "Testing 3 hidden neurons, lamb=1e-06, grid=8\n",
      "checkpoint directory created: ./model\n",
      "saving model version 0.0\n",
      "checkpoint directory created: ./model\n",
      "saving model version 0.0\n",
      "Successfully created and tested Model3\n"
     ]
    },
    {
     "name": "stderr",
     "output_type": "stream",
     "text": [
      " train_acc_hybrid: 7.56e-01 | val_acc_hybrid: 7.11e-01 |: 100%|█████| 60/60 [01:05<00:00,  1.09s/it]\n"
     ]
    },
    {
     "name": "stdout",
     "output_type": "stream",
     "text": [
      "saving model version 0.1\n",
      "✅ Best validation Accuracy: 7.1429e-01 at 36 epoch\n",
      "avg_acc 0.6839237213134766\n",
      "Testing 3 hidden neurons, lamb=1e-07, grid=8\n",
      "checkpoint directory created: ./model\n",
      "saving model version 0.0\n",
      "checkpoint directory created: ./model\n",
      "saving model version 0.0\n",
      "Successfully created and tested Model3\n"
     ]
    },
    {
     "name": "stderr",
     "output_type": "stream",
     "text": [
      " train_acc_hybrid: 7.25e-01 | val_acc_hybrid: 6.77e-01 |: 100%|█████| 60/60 [01:05<00:00,  1.08s/it]\n"
     ]
    },
    {
     "name": "stdout",
     "output_type": "stream",
     "text": [
      "saving model version 0.1\n",
      "✅ Best validation Accuracy: 6.7687e-01 at 55 epoch\n",
      "avg_acc 0.6594005227088928\n",
      "Testing 4 hidden neurons, lamb=0.01, grid=3\n",
      "checkpoint directory created: ./model\n",
      "saving model version 0.0\n",
      "checkpoint directory created: ./model\n",
      "saving model version 0.0\n",
      "Successfully created and tested Model3\n"
     ]
    },
    {
     "name": "stderr",
     "output_type": "stream",
     "text": [
      " train_acc_hybrid: 5.01e-01 | val_acc_hybrid: 5.03e-01 |: 100%|█████| 60/60 [00:36<00:00,  1.65it/s]\n"
     ]
    },
    {
     "name": "stdout",
     "output_type": "stream",
     "text": [
      "saving model version 0.1\n",
      "✅ Best validation Accuracy: 5.0340e-01 at 2 epoch\n",
      "avg_acc 0.47411444783210754\n",
      "Testing 4 hidden neurons, lamb=0.001, grid=3\n",
      "checkpoint directory created: ./model\n",
      "saving model version 0.0\n",
      "checkpoint directory created: ./model\n",
      "saving model version 0.0\n",
      "Successfully created and tested Model3\n"
     ]
    },
    {
     "name": "stderr",
     "output_type": "stream",
     "text": [
      " train_acc_hybrid: 7.33e-01 | val_acc_hybrid: 7.01e-01 |: 100%|█████| 60/60 [00:43<00:00,  1.36it/s]\n"
     ]
    },
    {
     "name": "stdout",
     "output_type": "stream",
     "text": [
      "saving model version 0.1\n",
      "✅ Best validation Accuracy: 7.1769e-01 at 31 epoch\n",
      "avg_acc 0.7057220339775085\n",
      "Testing 4 hidden neurons, lamb=0.0001, grid=3\n",
      "checkpoint directory created: ./model\n",
      "saving model version 0.0\n",
      "checkpoint directory created: ./model\n",
      "saving model version 0.0\n",
      "Successfully created and tested Model3\n"
     ]
    },
    {
     "name": "stderr",
     "output_type": "stream",
     "text": [
      " train_acc_hybrid: 7.60e-01 | val_acc_hybrid: 6.97e-01 |: 100%|█████| 60/60 [00:43<00:00,  1.38it/s]\n"
     ]
    },
    {
     "name": "stdout",
     "output_type": "stream",
     "text": [
      "saving model version 0.1\n",
      "✅ Best validation Accuracy: 7.2789e-01 at 7 epoch\n",
      "avg_acc 0.7302452325820923\n",
      "Testing 4 hidden neurons, lamb=1e-05, grid=3\n",
      "checkpoint directory created: ./model\n",
      "saving model version 0.0\n",
      "checkpoint directory created: ./model\n",
      "saving model version 0.0\n",
      "Successfully created and tested Model3\n"
     ]
    },
    {
     "name": "stderr",
     "output_type": "stream",
     "text": [
      " train_acc_hybrid: 7.57e-01 | val_acc_hybrid: 6.90e-01 |: 100%|█████| 60/60 [00:42<00:00,  1.40it/s]\n"
     ]
    },
    {
     "name": "stdout",
     "output_type": "stream",
     "text": [
      "saving model version 0.1\n",
      "✅ Best validation Accuracy: 7.1769e-01 at 12 epoch\n",
      "avg_acc 0.6784741282463074\n",
      "Testing 4 hidden neurons, lamb=1e-06, grid=3\n",
      "checkpoint directory created: ./model\n",
      "saving model version 0.0\n",
      "checkpoint directory created: ./model\n",
      "saving model version 0.0\n",
      "Successfully created and tested Model3\n"
     ]
    },
    {
     "name": "stderr",
     "output_type": "stream",
     "text": [
      " train_acc_hybrid: 7.62e-01 | val_acc_hybrid: 6.70e-01 |: 100%|█████| 60/60 [00:41<00:00,  1.43it/s]\n"
     ]
    },
    {
     "name": "stdout",
     "output_type": "stream",
     "text": [
      "saving model version 0.1\n",
      "✅ Best validation Accuracy: 7.1769e-01 at 8 epoch\n",
      "avg_acc 0.7111716270446777\n",
      "Testing 4 hidden neurons, lamb=1e-07, grid=3\n",
      "checkpoint directory created: ./model\n",
      "saving model version 0.0\n",
      "checkpoint directory created: ./model\n",
      "saving model version 0.0\n",
      "Successfully created and tested Model3\n"
     ]
    },
    {
     "name": "stderr",
     "output_type": "stream",
     "text": [
      " train_acc_hybrid: 7.59e-01 | val_acc_hybrid: 6.97e-01 |: 100%|█████| 60/60 [00:42<00:00,  1.40it/s]\n"
     ]
    },
    {
     "name": "stdout",
     "output_type": "stream",
     "text": [
      "saving model version 0.1\n",
      "✅ Best validation Accuracy: 7.2449e-01 at 25 epoch\n",
      "avg_acc 0.7084468603134155\n",
      "Testing 4 hidden neurons, lamb=0.01, grid=4\n",
      "checkpoint directory created: ./model\n",
      "saving model version 0.0\n",
      "checkpoint directory created: ./model\n",
      "saving model version 0.0\n",
      "Successfully created and tested Model3\n"
     ]
    },
    {
     "name": "stderr",
     "output_type": "stream",
     "text": [
      " train_acc_hybrid: 5.01e-01 | val_acc_hybrid: 5.03e-01 |: 100%|█████| 60/60 [00:43<00:00,  1.39it/s]\n"
     ]
    },
    {
     "name": "stdout",
     "output_type": "stream",
     "text": [
      "saving model version 0.1\n",
      "✅ Best validation Accuracy: 5.0340e-01 at 0 epoch\n",
      "avg_acc 0.4959127902984619\n",
      "Testing 4 hidden neurons, lamb=0.001, grid=4\n",
      "checkpoint directory created: ./model\n",
      "saving model version 0.0\n",
      "checkpoint directory created: ./model\n",
      "saving model version 0.0\n",
      "Successfully created and tested Model3\n"
     ]
    },
    {
     "name": "stderr",
     "output_type": "stream",
     "text": [
      " train_acc_hybrid: 6.97e-01 | val_acc_hybrid: 6.53e-01 |: 100%|█████| 60/60 [00:50<00:00,  1.20it/s]\n"
     ]
    },
    {
     "name": "stdout",
     "output_type": "stream",
     "text": [
      "saving model version 0.1\n",
      "✅ Best validation Accuracy: 6.6667e-01 at 7 epoch\n",
      "avg_acc 0.6539509296417236\n",
      "Testing 4 hidden neurons, lamb=0.0001, grid=4\n",
      "checkpoint directory created: ./model\n",
      "saving model version 0.0\n",
      "checkpoint directory created: ./model\n",
      "saving model version 0.0\n",
      "Successfully created and tested Model3\n"
     ]
    },
    {
     "name": "stderr",
     "output_type": "stream",
     "text": [
      " train_acc_hybrid: 7.72e-01 | val_acc_hybrid: 6.87e-01 |: 100%|█████| 60/60 [00:45<00:00,  1.31it/s]\n"
     ]
    },
    {
     "name": "stdout",
     "output_type": "stream",
     "text": [
      "saving model version 0.1\n",
      "✅ Best validation Accuracy: 7.1088e-01 at 9 epoch\n",
      "avg_acc 0.7220708131790161\n",
      "Testing 4 hidden neurons, lamb=1e-05, grid=4\n",
      "checkpoint directory created: ./model\n",
      "saving model version 0.0\n",
      "checkpoint directory created: ./model\n",
      "saving model version 0.0\n",
      "Successfully created and tested Model3\n"
     ]
    },
    {
     "name": "stderr",
     "output_type": "stream",
     "text": [
      " train_acc_hybrid: 7.70e-01 | val_acc_hybrid: 6.94e-01 |: 100%|█████| 60/60 [00:47<00:00,  1.26it/s]\n"
     ]
    },
    {
     "name": "stdout",
     "output_type": "stream",
     "text": [
      "saving model version 0.1\n",
      "✅ Best validation Accuracy: 7.2789e-01 at 5 epoch\n",
      "avg_acc 0.6730245351791382\n",
      "Testing 4 hidden neurons, lamb=1e-06, grid=4\n",
      "checkpoint directory created: ./model\n",
      "saving model version 0.0\n",
      "checkpoint directory created: ./model\n",
      "saving model version 0.0\n",
      "Successfully created and tested Model3\n"
     ]
    },
    {
     "name": "stderr",
     "output_type": "stream",
     "text": [
      " train_acc_hybrid: 7.60e-01 | val_acc_hybrid: 7.01e-01 |: 100%|█████| 60/60 [00:49<00:00,  1.21it/s]\n"
     ]
    },
    {
     "name": "stdout",
     "output_type": "stream",
     "text": [
      "saving model version 0.1\n",
      "✅ Best validation Accuracy: 7.0408e-01 at 44 epoch\n",
      "avg_acc 0.7029972672462463\n",
      "Testing 4 hidden neurons, lamb=1e-07, grid=4\n",
      "checkpoint directory created: ./model\n",
      "saving model version 0.0\n",
      "checkpoint directory created: ./model\n",
      "saving model version 0.0\n",
      "Successfully created and tested Model3\n"
     ]
    },
    {
     "name": "stderr",
     "output_type": "stream",
     "text": [
      " train_acc_hybrid: 7.70e-01 | val_acc_hybrid: 6.97e-01 |: 100%|█████| 60/60 [00:47<00:00,  1.27it/s]\n"
     ]
    },
    {
     "name": "stdout",
     "output_type": "stream",
     "text": [
      "saving model version 0.1\n",
      "✅ Best validation Accuracy: 7.3129e-01 at 7 epoch\n",
      "avg_acc 0.6839237213134766\n",
      "Testing 4 hidden neurons, lamb=0.01, grid=5\n",
      "checkpoint directory created: ./model\n",
      "saving model version 0.0\n",
      "checkpoint directory created: ./model\n",
      "saving model version 0.0\n",
      "Successfully created and tested Model3\n"
     ]
    },
    {
     "name": "stderr",
     "output_type": "stream",
     "text": [
      " train_acc_hybrid: 5.01e-01 | val_acc_hybrid: 5.03e-01 |: 100%|█████| 60/60 [00:45<00:00,  1.31it/s]\n"
     ]
    },
    {
     "name": "stdout",
     "output_type": "stream",
     "text": [
      "saving model version 0.1\n",
      "✅ Best validation Accuracy: 5.2041e-01 at 4 epoch\n",
      "avg_acc 0.5122615694999695\n",
      "Testing 4 hidden neurons, lamb=0.001, grid=5\n",
      "checkpoint directory created: ./model\n",
      "saving model version 0.0\n",
      "checkpoint directory created: ./model\n",
      "saving model version 0.0\n",
      "Successfully created and tested Model3\n"
     ]
    },
    {
     "name": "stderr",
     "output_type": "stream",
     "text": [
      " train_acc_hybrid: 6.92e-01 | val_acc_hybrid: 6.50e-01 |: 100%|█████| 60/60 [00:55<00:00,  1.09it/s]\n"
     ]
    },
    {
     "name": "stdout",
     "output_type": "stream",
     "text": [
      "saving model version 0.1\n",
      "✅ Best validation Accuracy: 6.7347e-01 at 5 epoch\n",
      "avg_acc 0.6239781975746155\n",
      "Testing 4 hidden neurons, lamb=0.0001, grid=5\n",
      "checkpoint directory created: ./model\n",
      "saving model version 0.0\n",
      "checkpoint directory created: ./model\n",
      "saving model version 0.0\n",
      "Successfully created and tested Model3\n"
     ]
    },
    {
     "name": "stderr",
     "output_type": "stream",
     "text": [
      " train_acc_hybrid: 7.75e-01 | val_acc_hybrid: 6.90e-01 |: 100%|█████| 60/60 [00:53<00:00,  1.13it/s]\n"
     ]
    },
    {
     "name": "stdout",
     "output_type": "stream",
     "text": [
      "saving model version 0.1\n",
      "✅ Best validation Accuracy: 7.1769e-01 at 40 epoch\n",
      "avg_acc 0.6730245351791382\n",
      "Testing 4 hidden neurons, lamb=1e-05, grid=5\n",
      "checkpoint directory created: ./model\n",
      "saving model version 0.0\n",
      "checkpoint directory created: ./model\n",
      "saving model version 0.0\n",
      "Successfully created and tested Model3\n"
     ]
    },
    {
     "name": "stderr",
     "output_type": "stream",
     "text": [
      " train_acc_hybrid: 7.65e-01 | val_acc_hybrid: 6.97e-01 |: 100%|█████| 60/60 [00:53<00:00,  1.12it/s]\n"
     ]
    },
    {
     "name": "stdout",
     "output_type": "stream",
     "text": [
      "saving model version 0.1\n",
      "✅ Best validation Accuracy: 7.2449e-01 at 31 epoch\n",
      "avg_acc 0.7111716270446777\n",
      "Testing 4 hidden neurons, lamb=1e-06, grid=5\n",
      "checkpoint directory created: ./model\n",
      "saving model version 0.0\n",
      "checkpoint directory created: ./model\n",
      "saving model version 0.0\n",
      "Successfully created and tested Model3\n"
     ]
    },
    {
     "name": "stderr",
     "output_type": "stream",
     "text": [
      " train_acc_hybrid: 7.72e-01 | val_acc_hybrid: 6.87e-01 |: 100%|█████| 60/60 [00:53<00:00,  1.12it/s]\n"
     ]
    },
    {
     "name": "stdout",
     "output_type": "stream",
     "text": [
      "saving model version 0.1\n",
      "✅ Best validation Accuracy: 7.2449e-01 at 16 epoch\n",
      "avg_acc 0.7247956395149231\n",
      "Testing 4 hidden neurons, lamb=1e-07, grid=5\n",
      "checkpoint directory created: ./model\n",
      "saving model version 0.0\n",
      "checkpoint directory created: ./model\n",
      "saving model version 0.0\n",
      "Successfully created and tested Model3\n"
     ]
    },
    {
     "name": "stderr",
     "output_type": "stream",
     "text": [
      " train_acc_hybrid: 7.69e-01 | val_acc_hybrid: 6.94e-01 |: 100%|█████| 60/60 [00:52<00:00,  1.15it/s]\n"
     ]
    },
    {
     "name": "stdout",
     "output_type": "stream",
     "text": [
      "saving model version 0.1\n",
      "✅ Best validation Accuracy: 7.1769e-01 at 18 epoch\n",
      "avg_acc 0.692098081111908\n",
      "Testing 4 hidden neurons, lamb=0.01, grid=6\n",
      "checkpoint directory created: ./model\n",
      "saving model version 0.0\n",
      "checkpoint directory created: ./model\n",
      "saving model version 0.0\n",
      "Successfully created and tested Model3\n"
     ]
    },
    {
     "name": "stderr",
     "output_type": "stream",
     "text": [
      " train_acc_hybrid: 5.01e-01 | val_acc_hybrid: 5.03e-01 |: 100%|█████| 60/60 [00:48<00:00,  1.23it/s]\n"
     ]
    },
    {
     "name": "stdout",
     "output_type": "stream",
     "text": [
      "saving model version 0.1\n",
      "✅ Best validation Accuracy: 5.1701e-01 at 2 epoch\n",
      "avg_acc 0.5149863958358765\n",
      "Testing 4 hidden neurons, lamb=0.001, grid=6\n",
      "checkpoint directory created: ./model\n",
      "saving model version 0.0\n",
      "checkpoint directory created: ./model\n",
      "saving model version 0.0\n",
      "Successfully created and tested Model3\n"
     ]
    },
    {
     "name": "stderr",
     "output_type": "stream",
     "text": [
      " train_acc_hybrid: 7.77e-01 | val_acc_hybrid: 6.36e-01 |: 100%|█████| 60/60 [00:55<00:00,  1.09it/s]\n"
     ]
    },
    {
     "name": "stdout",
     "output_type": "stream",
     "text": [
      "saving model version 0.1\n",
      "✅ Best validation Accuracy: 6.9048e-01 at 4 epoch\n",
      "avg_acc 0.6839237213134766\n",
      "Testing 4 hidden neurons, lamb=0.0001, grid=6\n",
      "checkpoint directory created: ./model\n",
      "saving model version 0.0\n",
      "checkpoint directory created: ./model\n",
      "saving model version 0.0\n",
      "Successfully created and tested Model3\n"
     ]
    },
    {
     "name": "stderr",
     "output_type": "stream",
     "text": [
      " train_acc_hybrid: 7.74e-01 | val_acc_hybrid: 6.80e-01 |: 100%|█████| 60/60 [00:57<00:00,  1.04it/s]\n"
     ]
    },
    {
     "name": "stdout",
     "output_type": "stream",
     "text": [
      "saving model version 0.1\n",
      "✅ Best validation Accuracy: 7.2109e-01 at 14 epoch\n",
      "avg_acc 0.6757493019104004\n",
      "Testing 4 hidden neurons, lamb=1e-05, grid=6\n",
      "checkpoint directory created: ./model\n",
      "saving model version 0.0\n",
      "checkpoint directory created: ./model\n",
      "saving model version 0.0\n",
      "Successfully created and tested Model3\n"
     ]
    },
    {
     "name": "stderr",
     "output_type": "stream",
     "text": [
      " train_acc_hybrid: 7.80e-01 | val_acc_hybrid: 6.77e-01 |: 100%|█████| 60/60 [00:55<00:00,  1.08it/s]\n"
     ]
    },
    {
     "name": "stdout",
     "output_type": "stream",
     "text": [
      "saving model version 0.1\n",
      "✅ Best validation Accuracy: 7.1088e-01 at 11 epoch\n",
      "avg_acc 0.6621253490447998\n",
      "Testing 4 hidden neurons, lamb=1e-06, grid=6\n",
      "checkpoint directory created: ./model\n",
      "saving model version 0.0\n",
      "checkpoint directory created: ./model\n",
      "saving model version 0.0\n",
      "Successfully created and tested Model3\n"
     ]
    },
    {
     "name": "stderr",
     "output_type": "stream",
     "text": [
      " train_acc_hybrid: 7.66e-01 | val_acc_hybrid: 6.67e-01 |: 100%|█████| 60/60 [00:56<00:00,  1.06it/s]\n"
     ]
    },
    {
     "name": "stdout",
     "output_type": "stream",
     "text": [
      "saving model version 0.1\n",
      "✅ Best validation Accuracy: 7.3469e-01 at 2 epoch\n",
      "avg_acc 0.6975476741790771\n",
      "Testing 4 hidden neurons, lamb=1e-07, grid=6\n",
      "checkpoint directory created: ./model\n",
      "saving model version 0.0\n",
      "checkpoint directory created: ./model\n",
      "saving model version 0.0\n",
      "Successfully created and tested Model3\n"
     ]
    },
    {
     "name": "stderr",
     "output_type": "stream",
     "text": [
      " train_acc_hybrid: 7.79e-01 | val_acc_hybrid: 6.87e-01 |: 100%|█████| 60/60 [00:54<00:00,  1.10it/s]\n"
     ]
    },
    {
     "name": "stdout",
     "output_type": "stream",
     "text": [
      "saving model version 0.1\n",
      "✅ Best validation Accuracy: 7.2789e-01 at 3 epoch\n",
      "avg_acc 0.6893733143806458\n",
      "Testing 4 hidden neurons, lamb=0.01, grid=7\n",
      "checkpoint directory created: ./model\n",
      "saving model version 0.0\n",
      "checkpoint directory created: ./model\n",
      "saving model version 0.0\n",
      "Successfully created and tested Model3\n"
     ]
    },
    {
     "name": "stderr",
     "output_type": "stream",
     "text": [
      " train_acc_hybrid: 5.01e-01 | val_acc_hybrid: 5.03e-01 |: 100%|█████| 60/60 [00:54<00:00,  1.10it/s]\n"
     ]
    },
    {
     "name": "stdout",
     "output_type": "stream",
     "text": [
      "saving model version 0.1\n",
      "✅ Best validation Accuracy: 5.0340e-01 at 1 epoch\n",
      "avg_acc 0.5013623833656311\n",
      "Testing 4 hidden neurons, lamb=0.001, grid=7\n",
      "checkpoint directory created: ./model\n",
      "saving model version 0.0\n",
      "checkpoint directory created: ./model\n",
      "saving model version 0.0\n",
      "Successfully created and tested Model3\n"
     ]
    },
    {
     "name": "stderr",
     "output_type": "stream",
     "text": [
      " train_acc_hybrid: 7.66e-01 | val_acc_hybrid: 7.21e-01 |: 100%|█████| 60/60 [01:01<00:00,  1.02s/it]\n"
     ]
    },
    {
     "name": "stdout",
     "output_type": "stream",
     "text": [
      "saving model version 0.1\n",
      "✅ Best validation Accuracy: 7.2109e-01 at 26 epoch\n",
      "avg_acc 0.7193460464477539\n",
      "Testing 4 hidden neurons, lamb=0.0001, grid=7\n",
      "checkpoint directory created: ./model\n",
      "saving model version 0.0\n",
      "checkpoint directory created: ./model\n",
      "saving model version 0.0\n",
      "Successfully created and tested Model3\n"
     ]
    },
    {
     "name": "stderr",
     "output_type": "stream",
     "text": [
      " train_acc_hybrid: 7.59e-01 | val_acc_hybrid: 6.90e-01 |: 100%|█████| 60/60 [00:58<00:00,  1.02it/s]\n"
     ]
    },
    {
     "name": "stdout",
     "output_type": "stream",
     "text": [
      "saving model version 0.1\n",
      "✅ Best validation Accuracy: 7.2109e-01 at 42 epoch\n",
      "avg_acc 0.6702997088432312\n",
      "Testing 4 hidden neurons, lamb=1e-05, grid=7\n",
      "checkpoint directory created: ./model\n",
      "saving model version 0.0\n",
      "checkpoint directory created: ./model\n",
      "saving model version 0.0\n",
      "Successfully created and tested Model3\n"
     ]
    },
    {
     "name": "stderr",
     "output_type": "stream",
     "text": [
      " train_acc_hybrid: 7.57e-01 | val_acc_hybrid: 6.70e-01 |: 100%|█████| 60/60 [00:59<00:00,  1.01it/s]\n"
     ]
    },
    {
     "name": "stdout",
     "output_type": "stream",
     "text": [
      "saving model version 0.1\n",
      "✅ Best validation Accuracy: 7.1429e-01 at 35 epoch\n",
      "avg_acc 0.7029972672462463\n",
      "Testing 4 hidden neurons, lamb=1e-06, grid=7\n",
      "checkpoint directory created: ./model\n",
      "saving model version 0.0\n",
      "checkpoint directory created: ./model\n",
      "saving model version 0.0\n",
      "Successfully created and tested Model3\n"
     ]
    },
    {
     "name": "stderr",
     "output_type": "stream",
     "text": [
      " train_acc_hybrid: 7.50e-01 | val_acc_hybrid: 6.94e-01 |: 100%|█████| 60/60 [01:02<00:00,  1.04s/it]\n"
     ]
    },
    {
     "name": "stdout",
     "output_type": "stream",
     "text": [
      "saving model version 0.1\n",
      "✅ Best validation Accuracy: 7.1769e-01 at 44 epoch\n",
      "avg_acc 0.6866484880447388\n",
      "Testing 4 hidden neurons, lamb=1e-07, grid=7\n",
      "checkpoint directory created: ./model\n",
      "saving model version 0.0\n",
      "checkpoint directory created: ./model\n",
      "saving model version 0.0\n",
      "Successfully created and tested Model3\n"
     ]
    },
    {
     "name": "stderr",
     "output_type": "stream",
     "text": [
      " train_acc_hybrid: 7.48e-01 | val_acc_hybrid: 6.87e-01 |: 100%|█████| 60/60 [00:57<00:00,  1.05it/s]\n"
     ]
    },
    {
     "name": "stdout",
     "output_type": "stream",
     "text": [
      "saving model version 0.1\n",
      "✅ Best validation Accuracy: 7.2789e-01 at 14 epoch\n",
      "avg_acc 0.7029972672462463\n",
      "Testing 4 hidden neurons, lamb=0.01, grid=8\n",
      "checkpoint directory created: ./model\n",
      "saving model version 0.0\n",
      "checkpoint directory created: ./model\n",
      "saving model version 0.0\n",
      "Successfully created and tested Model3\n"
     ]
    },
    {
     "name": "stderr",
     "output_type": "stream",
     "text": [
      " train_acc_hybrid: 5.01e-01 | val_acc_hybrid: 5.03e-01 |: 100%|█████| 60/60 [00:54<00:00,  1.10it/s]\n"
     ]
    },
    {
     "name": "stdout",
     "output_type": "stream",
     "text": [
      "saving model version 0.1\n",
      "✅ Best validation Accuracy: 5.1020e-01 at 2 epoch\n",
      "avg_acc 0.48228880763053894\n",
      "Testing 4 hidden neurons, lamb=0.001, grid=8\n",
      "checkpoint directory created: ./model\n",
      "saving model version 0.0\n",
      "checkpoint directory created: ./model\n",
      "saving model version 0.0\n",
      "Successfully created and tested Model3\n"
     ]
    },
    {
     "name": "stderr",
     "output_type": "stream",
     "text": [
      " train_acc_hybrid: 7.48e-01 | val_acc_hybrid: 7.07e-01 |: 100%|█████| 60/60 [01:04<00:00,  1.08s/it]\n"
     ]
    },
    {
     "name": "stdout",
     "output_type": "stream",
     "text": [
      "saving model version 0.1\n",
      "✅ Best validation Accuracy: 7.1769e-01 at 29 epoch\n",
      "avg_acc 0.692098081111908\n",
      "Testing 4 hidden neurons, lamb=0.0001, grid=8\n",
      "checkpoint directory created: ./model\n",
      "saving model version 0.0\n",
      "checkpoint directory created: ./model\n",
      "saving model version 0.0\n",
      "Successfully created and tested Model3\n"
     ]
    },
    {
     "name": "stderr",
     "output_type": "stream",
     "text": [
      " train_acc_hybrid: 7.44e-01 | val_acc_hybrid: 7.04e-01 |: 100%|█████| 60/60 [01:05<00:00,  1.09s/it]\n"
     ]
    },
    {
     "name": "stdout",
     "output_type": "stream",
     "text": [
      "saving model version 0.1\n",
      "✅ Best validation Accuracy: 7.1429e-01 at 54 epoch\n",
      "avg_acc 0.6811988949775696\n",
      "Testing 4 hidden neurons, lamb=1e-05, grid=8\n",
      "checkpoint directory created: ./model\n",
      "saving model version 0.0\n",
      "checkpoint directory created: ./model\n",
      "saving model version 0.0\n",
      "Successfully created and tested Model3\n"
     ]
    },
    {
     "name": "stderr",
     "output_type": "stream",
     "text": [
      " train_acc_hybrid: 7.57e-01 | val_acc_hybrid: 6.87e-01 |: 100%|█████| 60/60 [01:04<00:00,  1.08s/it]\n"
     ]
    },
    {
     "name": "stdout",
     "output_type": "stream",
     "text": [
      "saving model version 0.1\n",
      "✅ Best validation Accuracy: 7.1088e-01 at 35 epoch\n",
      "avg_acc 0.7002724409103394\n",
      "Testing 4 hidden neurons, lamb=1e-06, grid=8\n",
      "checkpoint directory created: ./model\n",
      "saving model version 0.0\n",
      "checkpoint directory created: ./model\n",
      "saving model version 0.0\n",
      "Successfully created and tested Model3\n"
     ]
    },
    {
     "name": "stderr",
     "output_type": "stream",
     "text": [
      " train_acc_hybrid: 7.54e-01 | val_acc_hybrid: 6.87e-01 |: 100%|█████| 60/60 [01:01<00:00,  1.02s/it]\n"
     ]
    },
    {
     "name": "stdout",
     "output_type": "stream",
     "text": [
      "saving model version 0.1\n",
      "✅ Best validation Accuracy: 7.2789e-01 at 21 epoch\n",
      "avg_acc 0.7111716270446777\n",
      "Testing 4 hidden neurons, lamb=1e-07, grid=8\n",
      "checkpoint directory created: ./model\n",
      "saving model version 0.0\n",
      "checkpoint directory created: ./model\n",
      "saving model version 0.0\n",
      "Successfully created and tested Model3\n"
     ]
    },
    {
     "name": "stderr",
     "output_type": "stream",
     "text": [
      " train_acc_hybrid: 7.61e-01 | val_acc_hybrid: 6.97e-01 |: 100%|█████| 60/60 [01:03<00:00,  1.05s/it]\n"
     ]
    },
    {
     "name": "stdout",
     "output_type": "stream",
     "text": [
      "saving model version 0.1\n",
      "✅ Best validation Accuracy: 7.1088e-01 at 49 epoch\n",
      "avg_acc 0.7193460464477539\n",
      "Testing 5 hidden neurons, lamb=0.01, grid=3\n",
      "checkpoint directory created: ./model\n",
      "saving model version 0.0\n",
      "checkpoint directory created: ./model\n",
      "saving model version 0.0\n",
      "Successfully created and tested Model3\n"
     ]
    },
    {
     "name": "stderr",
     "output_type": "stream",
     "text": [
      " train_acc_hybrid: 5.01e-01 | val_acc_hybrid: 5.03e-01 |: 100%|█████| 60/60 [00:40<00:00,  1.48it/s]\n"
     ]
    },
    {
     "name": "stdout",
     "output_type": "stream",
     "text": [
      "saving model version 0.1\n",
      "✅ Best validation Accuracy: 5.1701e-01 at 7 epoch\n",
      "avg_acc 0.5122615694999695\n",
      "Testing 5 hidden neurons, lamb=0.001, grid=3\n",
      "checkpoint directory created: ./model\n",
      "saving model version 0.0\n",
      "checkpoint directory created: ./model\n",
      "saving model version 0.0\n",
      "Successfully created and tested Model3\n"
     ]
    },
    {
     "name": "stderr",
     "output_type": "stream",
     "text": [
      " train_acc_hybrid: 7.39e-01 | val_acc_hybrid: 7.14e-01 |: 100%|█████| 60/60 [00:44<00:00,  1.35it/s]\n"
     ]
    },
    {
     "name": "stdout",
     "output_type": "stream",
     "text": [
      "saving model version 0.1\n",
      "✅ Best validation Accuracy: 7.2109e-01 at 7 epoch\n",
      "avg_acc 0.7002724409103394\n",
      "Testing 5 hidden neurons, lamb=0.0001, grid=3\n",
      "checkpoint directory created: ./model\n",
      "saving model version 0.0\n",
      "checkpoint directory created: ./model\n",
      "saving model version 0.0\n",
      "Successfully created and tested Model3\n"
     ]
    },
    {
     "name": "stderr",
     "output_type": "stream",
     "text": [
      " train_acc_hybrid: 7.63e-01 | val_acc_hybrid: 6.87e-01 |: 100%|█████| 60/60 [00:42<00:00,  1.40it/s]\n"
     ]
    },
    {
     "name": "stdout",
     "output_type": "stream",
     "text": [
      "saving model version 0.1\n",
      "✅ Best validation Accuracy: 7.2449e-01 at 21 epoch\n",
      "avg_acc 0.7166212201118469\n",
      "Testing 5 hidden neurons, lamb=1e-05, grid=3\n",
      "checkpoint directory created: ./model\n",
      "saving model version 0.0\n",
      "checkpoint directory created: ./model\n",
      "saving model version 0.0\n",
      "Successfully created and tested Model3\n"
     ]
    },
    {
     "name": "stderr",
     "output_type": "stream",
     "text": [
      " train_acc_hybrid: 7.50e-01 | val_acc_hybrid: 7.14e-01 |: 100%|█████| 60/60 [00:45<00:00,  1.32it/s]\n"
     ]
    },
    {
     "name": "stdout",
     "output_type": "stream",
     "text": [
      "saving model version 0.1\n",
      "✅ Best validation Accuracy: 7.2789e-01 at 50 epoch\n",
      "avg_acc 0.667574942111969\n",
      "Testing 5 hidden neurons, lamb=1e-06, grid=3\n",
      "checkpoint directory created: ./model\n",
      "saving model version 0.0\n",
      "checkpoint directory created: ./model\n",
      "saving model version 0.0\n",
      "Successfully created and tested Model3\n"
     ]
    },
    {
     "name": "stderr",
     "output_type": "stream",
     "text": [
      " train_acc_hybrid: 7.59e-01 | val_acc_hybrid: 7.01e-01 |: 100%|█████| 60/60 [00:44<00:00,  1.35it/s]\n"
     ]
    },
    {
     "name": "stdout",
     "output_type": "stream",
     "text": [
      "saving model version 0.1\n",
      "✅ Best validation Accuracy: 7.2449e-01 at 14 epoch\n",
      "avg_acc 0.7247956395149231\n",
      "Testing 5 hidden neurons, lamb=1e-07, grid=3\n",
      "checkpoint directory created: ./model\n",
      "saving model version 0.0\n",
      "checkpoint directory created: ./model\n",
      "saving model version 0.0\n",
      "Successfully created and tested Model3\n"
     ]
    },
    {
     "name": "stderr",
     "output_type": "stream",
     "text": [
      " train_acc_hybrid: 7.55e-01 | val_acc_hybrid: 7.18e-01 |: 100%|█████| 60/60 [00:42<00:00,  1.40it/s]\n"
     ]
    },
    {
     "name": "stdout",
     "output_type": "stream",
     "text": [
      "saving model version 0.1\n",
      "✅ Best validation Accuracy: 7.2109e-01 at 52 epoch\n",
      "avg_acc 0.6975476741790771\n",
      "Testing 5 hidden neurons, lamb=0.01, grid=4\n",
      "checkpoint directory created: ./model\n",
      "saving model version 0.0\n",
      "checkpoint directory created: ./model\n",
      "saving model version 0.0\n",
      "Successfully created and tested Model3\n"
     ]
    },
    {
     "name": "stderr",
     "output_type": "stream",
     "text": [
      " train_acc_hybrid: 5.01e-01 | val_acc_hybrid: 5.03e-01 |: 100%|█████| 60/60 [00:42<00:00,  1.43it/s]\n"
     ]
    },
    {
     "name": "stdout",
     "output_type": "stream",
     "text": [
      "saving model version 0.1\n",
      "✅ Best validation Accuracy: 5.1020e-01 at 1 epoch\n",
      "avg_acc 0.4959127902984619\n",
      "Testing 5 hidden neurons, lamb=0.001, grid=4\n",
      "checkpoint directory created: ./model\n",
      "saving model version 0.0\n",
      "checkpoint directory created: ./model\n",
      "saving model version 0.0\n",
      "Successfully created and tested Model3\n"
     ]
    },
    {
     "name": "stderr",
     "output_type": "stream",
     "text": [
      " train_acc_hybrid: 7.48e-01 | val_acc_hybrid: 7.11e-01 |: 100%|█████| 60/60 [00:49<00:00,  1.21it/s]\n"
     ]
    },
    {
     "name": "stdout",
     "output_type": "stream",
     "text": [
      "saving model version 0.1\n",
      "✅ Best validation Accuracy: 7.2109e-01 at 18 epoch\n",
      "avg_acc 0.7002724409103394\n",
      "Testing 5 hidden neurons, lamb=0.0001, grid=4\n",
      "checkpoint directory created: ./model\n",
      "saving model version 0.0\n",
      "checkpoint directory created: ./model\n",
      "saving model version 0.0\n",
      "Successfully created and tested Model3\n"
     ]
    },
    {
     "name": "stderr",
     "output_type": "stream",
     "text": [
      " train_acc_hybrid: 7.56e-01 | val_acc_hybrid: 6.90e-01 |: 100%|█████| 60/60 [00:49<00:00,  1.21it/s]\n"
     ]
    },
    {
     "name": "stdout",
     "output_type": "stream",
     "text": [
      "saving model version 0.1\n",
      "✅ Best validation Accuracy: 7.1088e-01 at 23 epoch\n",
      "avg_acc 0.6866484880447388\n",
      "Testing 5 hidden neurons, lamb=1e-05, grid=4\n",
      "checkpoint directory created: ./model\n",
      "saving model version 0.0\n",
      "checkpoint directory created: ./model\n",
      "saving model version 0.0\n",
      "Successfully created and tested Model3\n"
     ]
    },
    {
     "name": "stderr",
     "output_type": "stream",
     "text": [
      " train_acc_hybrid: 7.58e-01 | val_acc_hybrid: 6.94e-01 |: 100%|█████| 60/60 [00:49<00:00,  1.21it/s]\n"
     ]
    },
    {
     "name": "stdout",
     "output_type": "stream",
     "text": [
      "saving model version 0.1\n",
      "✅ Best validation Accuracy: 7.3129e-01 at 20 epoch\n",
      "avg_acc 0.7029972672462463\n",
      "Testing 5 hidden neurons, lamb=1e-06, grid=4\n",
      "checkpoint directory created: ./model\n",
      "saving model version 0.0\n",
      "checkpoint directory created: ./model\n",
      "saving model version 0.0\n",
      "Successfully created and tested Model3\n"
     ]
    },
    {
     "name": "stderr",
     "output_type": "stream",
     "text": [
      " train_acc_hybrid: 7.72e-01 | val_acc_hybrid: 6.94e-01 |: 100%|█████| 60/60 [00:47<00:00,  1.27it/s]\n"
     ]
    },
    {
     "name": "stdout",
     "output_type": "stream",
     "text": [
      "saving model version 0.1\n",
      "✅ Best validation Accuracy: 7.1769e-01 at 5 epoch\n",
      "avg_acc 0.692098081111908\n",
      "Testing 5 hidden neurons, lamb=1e-07, grid=4\n",
      "checkpoint directory created: ./model\n",
      "saving model version 0.0\n",
      "checkpoint directory created: ./model\n",
      "saving model version 0.0\n",
      "Successfully created and tested Model3\n"
     ]
    },
    {
     "name": "stderr",
     "output_type": "stream",
     "text": [
      " train_acc_hybrid: 7.43e-01 | val_acc_hybrid: 7.01e-01 |: 100%|█████| 60/60 [00:50<00:00,  1.19it/s]\n"
     ]
    },
    {
     "name": "stdout",
     "output_type": "stream",
     "text": [
      "saving model version 0.1\n",
      "✅ Best validation Accuracy: 7.2109e-01 at 36 epoch\n",
      "avg_acc 0.6893733143806458\n",
      "Testing 5 hidden neurons, lamb=0.01, grid=5\n",
      "checkpoint directory created: ./model\n",
      "saving model version 0.0\n",
      "checkpoint directory created: ./model\n",
      "saving model version 0.0\n",
      "Successfully created and tested Model3\n"
     ]
    },
    {
     "name": "stderr",
     "output_type": "stream",
     "text": [
      " train_acc_hybrid: 5.01e-01 | val_acc_hybrid: 5.03e-01 |: 100%|█████| 60/60 [00:46<00:00,  1.29it/s]\n"
     ]
    },
    {
     "name": "stdout",
     "output_type": "stream",
     "text": [
      "saving model version 0.1\n",
      "✅ Best validation Accuracy: 5.3401e-01 at 4 epoch\n",
      "avg_acc 0.555858314037323\n",
      "Testing 5 hidden neurons, lamb=0.001, grid=5\n",
      "checkpoint directory created: ./model\n",
      "saving model version 0.0\n",
      "checkpoint directory created: ./model\n",
      "saving model version 0.0\n",
      "Successfully created and tested Model3\n"
     ]
    },
    {
     "name": "stderr",
     "output_type": "stream",
     "text": [
      " train_acc_hybrid: 7.65e-01 | val_acc_hybrid: 7.04e-01 |: 100%|█████| 60/60 [00:54<00:00,  1.11it/s]\n"
     ]
    },
    {
     "name": "stdout",
     "output_type": "stream",
     "text": [
      "saving model version 0.1\n",
      "✅ Best validation Accuracy: 7.2789e-01 at 15 epoch\n",
      "avg_acc 0.7138964533805847\n",
      "Testing 5 hidden neurons, lamb=0.0001, grid=5\n",
      "checkpoint directory created: ./model\n",
      "saving model version 0.0\n",
      "checkpoint directory created: ./model\n",
      "saving model version 0.0\n",
      "Successfully created and tested Model3\n"
     ]
    },
    {
     "name": "stderr",
     "output_type": "stream",
     "text": [
      " train_acc_hybrid: 7.80e-01 | val_acc_hybrid: 6.63e-01 |: 100%|█████| 60/60 [00:52<00:00,  1.14it/s]\n"
     ]
    },
    {
     "name": "stdout",
     "output_type": "stream",
     "text": [
      "saving model version 0.1\n",
      "✅ Best validation Accuracy: 7.2109e-01 at 11 epoch\n",
      "avg_acc 0.7057220339775085\n",
      "Testing 5 hidden neurons, lamb=1e-05, grid=5\n",
      "checkpoint directory created: ./model\n",
      "saving model version 0.0\n",
      "checkpoint directory created: ./model\n",
      "saving model version 0.0\n",
      "Successfully created and tested Model3\n"
     ]
    },
    {
     "name": "stderr",
     "output_type": "stream",
     "text": [
      " train_acc_hybrid: 7.60e-01 | val_acc_hybrid: 6.94e-01 |: 100%|█████| 60/60 [00:53<00:00,  1.13it/s]\n"
     ]
    },
    {
     "name": "stdout",
     "output_type": "stream",
     "text": [
      "saving model version 0.1\n",
      "✅ Best validation Accuracy: 7.2109e-01 at 24 epoch\n",
      "avg_acc 0.7084468603134155\n",
      "Testing 5 hidden neurons, lamb=1e-06, grid=5\n",
      "checkpoint directory created: ./model\n",
      "saving model version 0.0\n",
      "checkpoint directory created: ./model\n",
      "saving model version 0.0\n",
      "Successfully created and tested Model3\n"
     ]
    },
    {
     "name": "stderr",
     "output_type": "stream",
     "text": [
      " train_acc_hybrid: 8.11e-01 | val_acc_hybrid: 6.33e-01 |: 100%|█████| 60/60 [00:52<00:00,  1.15it/s]\n"
     ]
    },
    {
     "name": "stdout",
     "output_type": "stream",
     "text": [
      "saving model version 0.1\n",
      "✅ Best validation Accuracy: 7.0748e-01 at 5 epoch\n",
      "avg_acc 0.6948229074478149\n",
      "Testing 5 hidden neurons, lamb=1e-07, grid=5\n",
      "checkpoint directory created: ./model\n",
      "saving model version 0.0\n",
      "checkpoint directory created: ./model\n",
      "saving model version 0.0\n",
      "Successfully created and tested Model3\n"
     ]
    },
    {
     "name": "stderr",
     "output_type": "stream",
     "text": [
      " train_acc_hybrid: 7.83e-01 | val_acc_hybrid: 7.04e-01 |: 100%|█████| 60/60 [00:52<00:00,  1.15it/s]\n"
     ]
    },
    {
     "name": "stdout",
     "output_type": "stream",
     "text": [
      "saving model version 0.1\n",
      "✅ Best validation Accuracy: 7.1429e-01 at 6 epoch\n",
      "avg_acc 0.6866484880447388\n",
      "Testing 5 hidden neurons, lamb=0.01, grid=6\n",
      "checkpoint directory created: ./model\n",
      "saving model version 0.0\n",
      "checkpoint directory created: ./model\n",
      "saving model version 0.0\n",
      "Successfully created and tested Model3\n"
     ]
    },
    {
     "name": "stderr",
     "output_type": "stream",
     "text": [
      " train_acc_hybrid: 5.01e-01 | val_acc_hybrid: 5.03e-01 |: 100%|█████| 60/60 [00:47<00:00,  1.26it/s]\n"
     ]
    },
    {
     "name": "stdout",
     "output_type": "stream",
     "text": [
      "saving model version 0.1\n",
      "✅ Best validation Accuracy: 5.2381e-01 at 3 epoch\n",
      "avg_acc 0.5040872097015381\n",
      "Testing 5 hidden neurons, lamb=0.001, grid=6\n",
      "checkpoint directory created: ./model\n",
      "saving model version 0.0\n",
      "checkpoint directory created: ./model\n",
      "saving model version 0.0\n",
      "Successfully created and tested Model3\n"
     ]
    },
    {
     "name": "stderr",
     "output_type": "stream",
     "text": [
      " train_acc_hybrid: 7.83e-01 | val_acc_hybrid: 6.84e-01 |: 100%|█████| 60/60 [00:56<00:00,  1.07it/s]\n"
     ]
    },
    {
     "name": "stdout",
     "output_type": "stream",
     "text": [
      "saving model version 0.1\n",
      "✅ Best validation Accuracy: 7.1429e-01 at 6 epoch\n",
      "avg_acc 0.6975476741790771\n",
      "Testing 5 hidden neurons, lamb=0.0001, grid=6\n",
      "checkpoint directory created: ./model\n",
      "saving model version 0.0\n",
      "checkpoint directory created: ./model\n",
      "saving model version 0.0\n",
      "Successfully created and tested Model3\n"
     ]
    },
    {
     "name": "stderr",
     "output_type": "stream",
     "text": [
      " train_acc_hybrid: 8.02e-01 | val_acc_hybrid: 6.63e-01 |: 100%|█████| 60/60 [00:58<00:00,  1.02it/s]\n"
     ]
    },
    {
     "name": "stdout",
     "output_type": "stream",
     "text": [
      "saving model version 0.1\n",
      "✅ Best validation Accuracy: 7.3810e-01 at 8 epoch\n",
      "avg_acc 0.7220708131790161\n",
      "Testing 5 hidden neurons, lamb=1e-05, grid=6\n",
      "checkpoint directory created: ./model\n",
      "saving model version 0.0\n",
      "checkpoint directory created: ./model\n",
      "saving model version 0.0\n",
      "Successfully created and tested Model3\n"
     ]
    },
    {
     "name": "stderr",
     "output_type": "stream",
     "text": [
      " train_acc_hybrid: 7.92e-01 | val_acc_hybrid: 6.90e-01 |: 100%|█████| 60/60 [00:56<00:00,  1.07it/s]\n"
     ]
    },
    {
     "name": "stdout",
     "output_type": "stream",
     "text": [
      "saving model version 0.1\n",
      "✅ Best validation Accuracy: 7.1088e-01 at 37 epoch\n",
      "avg_acc 0.6702997088432312\n",
      "Testing 5 hidden neurons, lamb=1e-06, grid=6\n",
      "checkpoint directory created: ./model\n",
      "saving model version 0.0\n",
      "checkpoint directory created: ./model\n",
      "saving model version 0.0\n",
      "Successfully created and tested Model3\n"
     ]
    },
    {
     "name": "stderr",
     "output_type": "stream",
     "text": [
      " train_acc_hybrid: 7.95e-01 | val_acc_hybrid: 6.77e-01 |: 100%|█████| 60/60 [00:55<00:00,  1.08it/s]\n"
     ]
    },
    {
     "name": "stdout",
     "output_type": "stream",
     "text": [
      "saving model version 0.1\n",
      "✅ Best validation Accuracy: 7.4150e-01 at 14 epoch\n",
      "avg_acc 0.7029972672462463\n",
      "Testing 5 hidden neurons, lamb=1e-07, grid=6\n",
      "checkpoint directory created: ./model\n",
      "saving model version 0.0\n",
      "checkpoint directory created: ./model\n",
      "saving model version 0.0\n",
      "Successfully created and tested Model3\n"
     ]
    },
    {
     "name": "stderr",
     "output_type": "stream",
     "text": [
      " train_acc_hybrid: 7.75e-01 | val_acc_hybrid: 6.87e-01 |: 100%|█████| 60/60 [00:54<00:00,  1.11it/s]\n"
     ]
    },
    {
     "name": "stdout",
     "output_type": "stream",
     "text": [
      "saving model version 0.1\n",
      "✅ Best validation Accuracy: 7.0408e-01 at 38 epoch\n",
      "avg_acc 0.6485013365745544\n",
      "Testing 5 hidden neurons, lamb=0.01, grid=7\n",
      "checkpoint directory created: ./model\n",
      "saving model version 0.0\n",
      "checkpoint directory created: ./model\n",
      "saving model version 0.0\n",
      "Successfully created and tested Model3\n"
     ]
    },
    {
     "name": "stderr",
     "output_type": "stream",
     "text": [
      " train_acc_hybrid: 5.01e-01 | val_acc_hybrid: 5.03e-01 |: 100%|█████| 60/60 [00:55<00:00,  1.08it/s]\n"
     ]
    },
    {
     "name": "stdout",
     "output_type": "stream",
     "text": [
      "saving model version 0.1\n",
      "✅ Best validation Accuracy: 5.3061e-01 at 1 epoch\n",
      "avg_acc 0.5340599417686462\n",
      "Testing 5 hidden neurons, lamb=0.001, grid=7\n",
      "checkpoint directory created: ./model\n",
      "saving model version 0.0\n",
      "checkpoint directory created: ./model\n",
      "saving model version 0.0\n",
      "Successfully created and tested Model3\n"
     ]
    },
    {
     "name": "stderr",
     "output_type": "stream",
     "text": [
      " train_acc_hybrid: 6.86e-01 | val_acc_hybrid: 6.43e-01 |: 100%|█████| 60/60 [00:59<00:00,  1.01it/s]\n"
     ]
    },
    {
     "name": "stdout",
     "output_type": "stream",
     "text": [
      "saving model version 0.1\n",
      "✅ Best validation Accuracy: 6.5646e-01 at 7 epoch\n",
      "avg_acc 0.640326976776123\n",
      "Testing 5 hidden neurons, lamb=0.0001, grid=7\n",
      "checkpoint directory created: ./model\n",
      "saving model version 0.0\n",
      "checkpoint directory created: ./model\n",
      "saving model version 0.0\n",
      "Successfully created and tested Model3\n"
     ]
    },
    {
     "name": "stderr",
     "output_type": "stream",
     "text": [
      " train_acc_hybrid: 7.66e-01 | val_acc_hybrid: 6.90e-01 |: 100%|█████| 60/60 [01:00<00:00,  1.01s/it]\n"
     ]
    },
    {
     "name": "stdout",
     "output_type": "stream",
     "text": [
      "saving model version 0.1\n",
      "✅ Best validation Accuracy: 7.1429e-01 at 42 epoch\n",
      "avg_acc 0.6621253490447998\n",
      "Testing 5 hidden neurons, lamb=1e-05, grid=7\n",
      "checkpoint directory created: ./model\n",
      "saving model version 0.0\n",
      "checkpoint directory created: ./model\n",
      "saving model version 0.0\n",
      "Successfully created and tested Model3\n"
     ]
    },
    {
     "name": "stderr",
     "output_type": "stream",
     "text": [
      " train_acc_hybrid: 6.93e-01 | val_acc_hybrid: 6.60e-01 |: 100%|█████| 60/60 [00:40<00:00,  1.47it/s]\n"
     ]
    },
    {
     "name": "stdout",
     "output_type": "stream",
     "text": [
      "saving model version 0.1\n",
      "✅ Best validation Accuracy: 6.6327e-01 at 14 epoch\n",
      "avg_acc 0.6594005227088928\n",
      "Testing 5 hidden neurons, lamb=1e-06, grid=7\n",
      "checkpoint directory created: ./model\n",
      "saving model version 0.0\n",
      "checkpoint directory created: ./model\n",
      "saving model version 0.0\n",
      "Successfully created and tested Model3\n"
     ]
    },
    {
     "name": "stderr",
     "output_type": "stream",
     "text": [
      " train_acc_hybrid: 7.60e-01 | val_acc_hybrid: 7.07e-01 |: 100%|█████| 60/60 [01:00<00:00,  1.01s/it]\n"
     ]
    },
    {
     "name": "stdout",
     "output_type": "stream",
     "text": [
      "saving model version 0.1\n",
      "✅ Best validation Accuracy: 7.2109e-01 at 50 epoch\n",
      "avg_acc 0.7138964533805847\n",
      "Testing 5 hidden neurons, lamb=1e-07, grid=7\n",
      "checkpoint directory created: ./model\n",
      "saving model version 0.0\n",
      "checkpoint directory created: ./model\n",
      "saving model version 0.0\n",
      "Successfully created and tested Model3\n"
     ]
    },
    {
     "name": "stderr",
     "output_type": "stream",
     "text": [
      " train_acc_hybrid: 6.85e-01 | val_acc_hybrid: 6.56e-01 |: 100%|█████| 60/60 [00:39<00:00,  1.50it/s]\n"
     ]
    },
    {
     "name": "stdout",
     "output_type": "stream",
     "text": [
      "saving model version 0.1\n",
      "✅ Best validation Accuracy: 6.6327e-01 at 8 epoch\n",
      "avg_acc 0.667574942111969\n",
      "Testing 5 hidden neurons, lamb=0.01, grid=8\n",
      "checkpoint directory created: ./model\n",
      "saving model version 0.0\n",
      "checkpoint directory created: ./model\n",
      "saving model version 0.0\n",
      "Successfully created and tested Model3\n"
     ]
    },
    {
     "name": "stderr",
     "output_type": "stream",
     "text": [
      " train_acc_hybrid: 5.01e-01 | val_acc_hybrid: 5.03e-01 |: 100%|█████| 60/60 [00:51<00:00,  1.17it/s]\n"
     ]
    },
    {
     "name": "stdout",
     "output_type": "stream",
     "text": [
      "saving model version 0.1\n",
      "✅ Best validation Accuracy: 5.0340e-01 at 2 epoch\n",
      "avg_acc 0.4986375868320465\n",
      "Testing 5 hidden neurons, lamb=0.001, grid=8\n",
      "checkpoint directory created: ./model\n",
      "saving model version 0.0\n",
      "checkpoint directory created: ./model\n",
      "saving model version 0.0\n",
      "Successfully created and tested Model3\n"
     ]
    },
    {
     "name": "stderr",
     "output_type": "stream",
     "text": [
      " train_acc_hybrid: 7.52e-01 | val_acc_hybrid: 7.07e-01 |: 100%|█████| 60/60 [01:01<00:00,  1.02s/it]\n"
     ]
    },
    {
     "name": "stdout",
     "output_type": "stream",
     "text": [
      "saving model version 0.1\n",
      "✅ Best validation Accuracy: 7.2789e-01 at 14 epoch\n",
      "avg_acc 0.692098081111908\n",
      "Testing 5 hidden neurons, lamb=0.0001, grid=8\n",
      "checkpoint directory created: ./model\n",
      "saving model version 0.0\n",
      "checkpoint directory created: ./model\n",
      "saving model version 0.0\n",
      "Successfully created and tested Model3\n"
     ]
    },
    {
     "name": "stderr",
     "output_type": "stream",
     "text": [
      " train_acc_hybrid: 8.71e-01 | val_acc_hybrid: 6.67e-01 |: 100%|█████| 60/60 [01:01<00:00,  1.02s/it]\n"
     ]
    },
    {
     "name": "stdout",
     "output_type": "stream",
     "text": [
      "saving model version 0.1\n",
      "✅ Best validation Accuracy: 7.2789e-01 at 13 epoch\n",
      "avg_acc 0.7057220339775085\n",
      "Testing 5 hidden neurons, lamb=1e-05, grid=8\n",
      "checkpoint directory created: ./model\n",
      "saving model version 0.0\n",
      "checkpoint directory created: ./model\n",
      "saving model version 0.0\n",
      "Successfully created and tested Model3\n"
     ]
    },
    {
     "name": "stderr",
     "output_type": "stream",
     "text": [
      " train_acc_hybrid: 8.59e-01 | val_acc_hybrid: 6.26e-01 |: 100%|█████| 60/60 [01:01<00:00,  1.02s/it]\n"
     ]
    },
    {
     "name": "stdout",
     "output_type": "stream",
     "text": [
      "saving model version 0.1\n",
      "✅ Best validation Accuracy: 7.0408e-01 at 30 epoch\n",
      "avg_acc 0.6757493019104004\n",
      "Testing 5 hidden neurons, lamb=1e-06, grid=8\n",
      "checkpoint directory created: ./model\n",
      "saving model version 0.0\n",
      "checkpoint directory created: ./model\n",
      "saving model version 0.0\n",
      "Successfully created and tested Model3\n"
     ]
    },
    {
     "name": "stderr",
     "output_type": "stream",
     "text": [
      " train_acc_hybrid: 7.49e-01 | val_acc_hybrid: 6.33e-01 |: 100%|█████| 60/60 [01:04<00:00,  1.08s/it]\n"
     ]
    },
    {
     "name": "stdout",
     "output_type": "stream",
     "text": [
      "saving model version 0.1\n",
      "✅ Best validation Accuracy: 6.8027e-01 at 41 epoch\n",
      "avg_acc 0.6757493019104004\n",
      "Testing 5 hidden neurons, lamb=1e-07, grid=8\n",
      "checkpoint directory created: ./model\n",
      "saving model version 0.0\n",
      "checkpoint directory created: ./model\n",
      "saving model version 0.0\n",
      "Successfully created and tested Model3\n"
     ]
    },
    {
     "name": "stderr",
     "output_type": "stream",
     "text": [
      " train_acc_hybrid: 8.11e-01 | val_acc_hybrid: 6.50e-01 |: 100%|█████| 60/60 [01:01<00:00,  1.02s/it]"
     ]
    },
    {
     "name": "stdout",
     "output_type": "stream",
     "text": [
      "saving model version 0.1\n",
      "✅ Best validation Accuracy: 7.1429e-01 at 8 epoch\n",
      "avg_acc 0.7193460464477539\n",
      "\n",
      "✅ Top 5 Configurations:\n",
      "1. width=[10, 1, 1], grid=3, lamb=0.0001| best_epoch=6 | avg_acc=0.73025\n",
      "2. width=[10, 4, 1], grid=3, lamb=0.0001| best_epoch=7 | avg_acc=0.73025\n",
      "3. width=[10, 1, 1], grid=4, lamb=1e-05| best_epoch=7 | avg_acc=0.72752\n",
      "4. width=[10, 2, 1], grid=3, lamb=0.001| best_epoch=8 | avg_acc=0.72752\n",
      "5. width=[10, 1, 1], grid=5, lamb=1e-05| best_epoch=11 | avg_acc=0.72480\n"
     ]
    },
    {
     "name": "stderr",
     "output_type": "stream",
     "text": [
      "\n"
     ]
    }
   ],
   "source": [
    "grid_search_kan_hybrid(dataset, Model3, max_steps=60)"
   ]
  },
  {
   "cell_type": "markdown",
   "id": "745cd737-0c92-4dcb-a0c0-dadef6665cbd",
   "metadata": {},
   "source": [
    "# ✅ Top 5 Configurations:\r\n",
    "1. width=[10, 4, 1], grid=5, lamb=1e-07| best_epoch=41 | avg_acc=0.73297\r\n",
    "2. width=[10, 1, 1], grid=4, lamb=1e-05| best_epoch=7 | avg_acc=0.72752\r\n",
    "3. width=[10, 4, 1], grid=4, lamb=0.0001| best_epoch=10 | avg_acc=0.72752\r\n",
    "4. width=[10, 4, 1], grid=4, lamb=1e-05| best_epoch=8 | avg_acc=0.72480\r\n",
    "5. width=[10, 4, 1], grid=8, lamb=0.001| best_epoch=55 | avg_acc=0.7248022233"
   ]
  },
  {
   "cell_type": "code",
   "execution_count": null,
   "id": "1fb22093-b4e2-4077-a394-bd3995d9b611",
   "metadata": {},
   "outputs": [],
   "source": [
    "model3 = try_create_model(Model3, attributes, imgs_shape, kan_neurons=7, kan_grid=4)  # Attempt to create Model3\n",
    "best_model_state, metrics3, best_epoch = fit_hybrid_dataloaders(model3, dataset, opt=\"LBFGS\", steps=10, lamb=1e-05)\n",
    "model3.load_state_dict(best_model_state)\n",
    "print(average_rmse(model3(dataset['test_input'], dataset['test_img']), dataset['test_label']))\n",
    "plt.plot(metrics3['train_loss'])\n",
    "plt.plot(metrics3['eval_loss'])\n",
    "plt.legend(['train', 'val'])\n",
    "plt.ylabel('RMSE')\n",
    "plt.xlabel('step')\n",
    "plt.yscale('log')"
   ]
  },
  {
   "cell_type": "code",
   "execution_count": null,
   "id": "947757b6-88b4-4fe1-b3f4-8c5e56e8a986",
   "metadata": {},
   "outputs": [],
   "source": [
    "model3.m_kan.plot()"
   ]
  },
  {
   "cell_type": "code",
   "execution_count": null,
   "id": "9f30eb7b-f234-4272-9640-e7ff207f6aa1",
   "metadata": {},
   "outputs": [],
   "source": [
    "plot_sorted_feature_importance(x_col, model3.m_kan.feature_score)"
   ]
  },
  {
   "cell_type": "code",
   "execution_count": null,
   "id": "0ae5eb10-27bf-49df-a1fe-efb31ad85ea1",
   "metadata": {},
   "outputs": [],
   "source": [
    "model3.final_kan.plot()"
   ]
  },
  {
   "cell_type": "code",
   "execution_count": null,
   "id": "4bf900f2-d732-49df-80e7-7fdd80304c19",
   "metadata": {},
   "outputs": [],
   "source": [
    "feature_score = model3.final_kan.feature_score"
   ]
  },
  {
   "cell_type": "code",
   "execution_count": null,
   "id": "48f4a527-a693-407e-bf0a-5e6ef1ed76d4",
   "metadata": {},
   "outputs": [],
   "source": [
    "plot_mkan_vs_cnn_relevance(feature_score, mkan_len=kan_neurons)"
   ]
  },
  {
   "cell_type": "code",
   "execution_count": 40,
   "id": "2b7dc18d-5bec-4fe8-9adc-152a4501f2db",
   "metadata": {},
   "outputs": [],
   "source": [
    "class Model4(nn.Module):\n",
    "    def __init__(self, attributes, imgs_shape, kan_neurons, kan_grid, device=device):\n",
    "        super(Model4, self).__init__()\n",
    "\n",
    "        self.cnn_branch = nn.Sequential(\n",
    "            nn.Conv2d(imgs_shape[0], 16, kernel_size=3, padding=2),     # out: 16 x 9 x 9\n",
    "            nn.BatchNorm2d(16),\n",
    "            nn.ReLU(),\n",
    "            nn.MaxPool2d(2),                                            # out: 16 x 4 x 4\n",
    "            \n",
    "            nn.Conv2d(16, 32, kernel_size=3, padding=2),                # out: 32 x 5 x 5\n",
    "            nn.BatchNorm2d(32),\n",
    "            nn.ReLU(),\n",
    "            nn.MaxPool2d(2),                                            # 32 x 2 x 2\n",
    "            \n",
    "            nn.Conv2d(32, 64, kernel_size=3, padding=2),\n",
    "            nn.LayerNorm([64, 4, 4]),\n",
    "            nn.Sigmoid(),\n",
    "            nn.Flatten()\n",
    "        ).to(device)\n",
    "\n",
    "        # Middle KAN layers\n",
    "        self.m_kan = KAN(\n",
    "            width=[attributes, kan_neurons],\n",
    "            grid=kan_grid,\n",
    "            k=3,\n",
    "            seed=SEED,\n",
    "            device=device\n",
    "        )\n",
    "        # Calculate the size of the flattened output\n",
    "        self.flat_size = self._get_flat_size(imgs_shape)\n",
    "        # Final MLP layers\n",
    "        self.final_kan = KAN(\n",
    "            width=[self.flat_size + kan_neurons, 1],\n",
    "            grid=kan_grid,\n",
    "            k=3,\n",
    "            device=device\n",
    "        )\n",
    "        \n",
    "        self.device = device\n",
    "\n",
    "    def _get_flat_size(self, imgs_shape):\n",
    "        # Forward pass with dummy input to calculate flat size\n",
    "        dummy_input = torch.zeros(4, *imgs_shape, device=device)\n",
    "        x = self.cnn_branch(dummy_input)\n",
    "        return x.size(1)\n",
    "\n",
    "    def get_concat_output(self, mlp_input, cnn_input):\n",
    "        # Ensure inputs are moved to the correct device\n",
    "        kan_input = mlp_input.to(self.device)\n",
    "        cnn_input = cnn_input.to(self.device)\n",
    "        \n",
    "        cnn_output = self.cnn_branch(cnn_input)  # Process image input\n",
    "        kan_output = self.m_kan(kan_input)  # Process numerical input\n",
    "        \n",
    "        return torch.cat((kan_output, cnn_output), dim=1)\n",
    "\n",
    "    \n",
    "    def forward(self, mlp_input, cnn_input):\n",
    "        concat_output = self.get_concat_output(mlp_input, cnn_input)\n",
    "        return self.final_kan(concat_output)"
   ]
  },
  {
   "cell_type": "code",
   "execution_count": 41,
   "id": "6797fb32-392a-4191-851d-501a47cc3498",
   "metadata": {
    "scrolled": true
   },
   "outputs": [
    {
     "name": "stdout",
     "output_type": "stream",
     "text": [
      "Testing 1 hidden neurons, lamb=0.01, grid=3\n",
      "checkpoint directory created: ./model\n",
      "saving model version 0.0\n",
      "checkpoint directory created: ./model\n",
      "saving model version 0.0\n",
      "Successfully created and tested Model4\n"
     ]
    },
    {
     "name": "stderr",
     "output_type": "stream",
     "text": [
      " train_acc_hybrid: 5.01e-01 | val_acc_hybrid: 5.03e-01 |: 100%|█████| 60/60 [00:53<00:00,  1.12it/s]\n"
     ]
    },
    {
     "name": "stdout",
     "output_type": "stream",
     "text": [
      "saving model version 0.1\n",
      "✅ Best validation Accuracy: 5.0340e-01 at 0 epoch\n",
      "avg_acc 0.5013623833656311\n",
      "Testing 1 hidden neurons, lamb=0.001, grid=3\n",
      "checkpoint directory created: ./model\n",
      "saving model version 0.0\n",
      "checkpoint directory created: ./model\n",
      "saving model version 0.0\n",
      "Successfully created and tested Model4\n"
     ]
    },
    {
     "name": "stderr",
     "output_type": "stream",
     "text": [
      " train_acc_hybrid: 7.73e-01 | val_acc_hybrid: 6.60e-01 |: 100%|█████| 60/60 [01:19<00:00,  1.33s/it]\n"
     ]
    },
    {
     "name": "stdout",
     "output_type": "stream",
     "text": [
      "saving model version 0.1\n",
      "✅ Best validation Accuracy: 7.2789e-01 at 9 epoch\n",
      "avg_acc 0.6893733143806458\n",
      "Testing 1 hidden neurons, lamb=0.0001, grid=3\n",
      "checkpoint directory created: ./model\n",
      "saving model version 0.0\n",
      "checkpoint directory created: ./model\n",
      "saving model version 0.0\n",
      "Successfully created and tested Model4\n"
     ]
    },
    {
     "name": "stderr",
     "output_type": "stream",
     "text": [
      " train_acc_hybrid: 7.73e-01 | val_acc_hybrid: 6.84e-01 |: 100%|█████| 60/60 [01:16<00:00,  1.28s/it]\n"
     ]
    },
    {
     "name": "stdout",
     "output_type": "stream",
     "text": [
      "saving model version 0.1\n",
      "✅ Best validation Accuracy: 7.2449e-01 at 5 epoch\n",
      "avg_acc 0.7002724409103394\n",
      "Testing 1 hidden neurons, lamb=1e-05, grid=3\n",
      "checkpoint directory created: ./model\n",
      "saving model version 0.0\n",
      "checkpoint directory created: ./model\n",
      "saving model version 0.0\n",
      "Successfully created and tested Model4\n"
     ]
    },
    {
     "name": "stderr",
     "output_type": "stream",
     "text": [
      " train_acc_hybrid: 7.77e-01 | val_acc_hybrid: 6.94e-01 |: 100%|█████| 60/60 [01:16<00:00,  1.28s/it]\n"
     ]
    },
    {
     "name": "stdout",
     "output_type": "stream",
     "text": [
      "saving model version 0.1\n",
      "✅ Best validation Accuracy: 7.1429e-01 at 40 epoch\n",
      "avg_acc 0.6948229074478149\n",
      "Testing 1 hidden neurons, lamb=1e-06, grid=3\n",
      "checkpoint directory created: ./model\n",
      "saving model version 0.0\n",
      "checkpoint directory created: ./model\n",
      "saving model version 0.0\n",
      "Successfully created and tested Model4\n"
     ]
    },
    {
     "name": "stderr",
     "output_type": "stream",
     "text": [
      " train_acc_hybrid: 7.72e-01 | val_acc_hybrid: 7.18e-01 |: 100%|█████| 60/60 [01:16<00:00,  1.28s/it]\n"
     ]
    },
    {
     "name": "stdout",
     "output_type": "stream",
     "text": [
      "saving model version 0.1\n",
      "✅ Best validation Accuracy: 7.2789e-01 at 8 epoch\n",
      "avg_acc 0.7193460464477539\n",
      "Testing 1 hidden neurons, lamb=1e-07, grid=3\n",
      "checkpoint directory created: ./model\n",
      "saving model version 0.0\n",
      "checkpoint directory created: ./model\n",
      "saving model version 0.0\n",
      "Successfully created and tested Model4\n"
     ]
    },
    {
     "name": "stderr",
     "output_type": "stream",
     "text": [
      " train_acc_hybrid: 7.70e-01 | val_acc_hybrid: 6.94e-01 |: 100%|█████| 60/60 [01:17<00:00,  1.29s/it]\n"
     ]
    },
    {
     "name": "stdout",
     "output_type": "stream",
     "text": [
      "saving model version 0.1\n",
      "✅ Best validation Accuracy: 7.2109e-01 at 13 epoch\n",
      "avg_acc 0.7247956395149231\n",
      "Testing 1 hidden neurons, lamb=0.01, grid=4\n",
      "checkpoint directory created: ./model\n",
      "saving model version 0.0\n",
      "checkpoint directory created: ./model\n",
      "saving model version 0.0\n",
      "Successfully created and tested Model4\n"
     ]
    },
    {
     "name": "stderr",
     "output_type": "stream",
     "text": [
      " train_acc_hybrid: 5.01e-01 | val_acc_hybrid: 5.03e-01 |: 100%|█████| 60/60 [00:48<00:00,  1.24it/s]\n"
     ]
    },
    {
     "name": "stdout",
     "output_type": "stream",
     "text": [
      "saving model version 0.1\n",
      "✅ Best validation Accuracy: 5.0340e-01 at 1 epoch\n",
      "avg_acc 0.5013623833656311\n",
      "Testing 1 hidden neurons, lamb=0.001, grid=4\n",
      "checkpoint directory created: ./model\n",
      "saving model version 0.0\n",
      "checkpoint directory created: ./model\n",
      "saving model version 0.0\n",
      "Successfully created and tested Model4\n"
     ]
    },
    {
     "name": "stderr",
     "output_type": "stream",
     "text": [
      " train_acc_hybrid: 7.74e-01 | val_acc_hybrid: 6.90e-01 |: 100%|█████| 60/60 [01:26<00:00,  1.44s/it]\n"
     ]
    },
    {
     "name": "stdout",
     "output_type": "stream",
     "text": [
      "saving model version 0.1\n",
      "✅ Best validation Accuracy: 7.1769e-01 at 10 epoch\n",
      "avg_acc 0.7111716270446777\n",
      "Testing 1 hidden neurons, lamb=0.0001, grid=4\n",
      "checkpoint directory created: ./model\n",
      "saving model version 0.0\n",
      "checkpoint directory created: ./model\n",
      "saving model version 0.0\n",
      "Successfully created and tested Model4\n"
     ]
    },
    {
     "name": "stderr",
     "output_type": "stream",
     "text": [
      " train_acc_hybrid: 8.04e-01 | val_acc_hybrid: 6.90e-01 |: 100%|█████| 60/60 [01:24<00:00,  1.41s/it]\n"
     ]
    },
    {
     "name": "stdout",
     "output_type": "stream",
     "text": [
      "saving model version 0.1\n",
      "✅ Best validation Accuracy: 7.2449e-01 at 13 epoch\n",
      "avg_acc 0.7138964533805847\n",
      "Testing 1 hidden neurons, lamb=1e-05, grid=4\n",
      "checkpoint directory created: ./model\n",
      "saving model version 0.0\n",
      "checkpoint directory created: ./model\n",
      "saving model version 0.0\n",
      "Successfully created and tested Model4\n"
     ]
    },
    {
     "name": "stderr",
     "output_type": "stream",
     "text": [
      " train_acc_hybrid: 7.87e-01 | val_acc_hybrid: 6.90e-01 |: 100%|█████| 60/60 [01:25<00:00,  1.42s/it]\n"
     ]
    },
    {
     "name": "stdout",
     "output_type": "stream",
     "text": [
      "saving model version 0.1\n",
      "✅ Best validation Accuracy: 7.2109e-01 at 7 epoch\n",
      "avg_acc 0.6975476741790771\n",
      "Testing 1 hidden neurons, lamb=1e-06, grid=4\n",
      "checkpoint directory created: ./model\n",
      "saving model version 0.0\n",
      "checkpoint directory created: ./model\n",
      "saving model version 0.0\n",
      "Successfully created and tested Model4\n"
     ]
    },
    {
     "name": "stderr",
     "output_type": "stream",
     "text": [
      " train_acc_hybrid: 7.81e-01 | val_acc_hybrid: 7.01e-01 |: 100%|█████| 60/60 [01:25<00:00,  1.43s/it]\n"
     ]
    },
    {
     "name": "stdout",
     "output_type": "stream",
     "text": [
      "saving model version 0.1\n",
      "✅ Best validation Accuracy: 7.2789e-01 at 6 epoch\n",
      "avg_acc 0.7166212201118469\n",
      "Testing 1 hidden neurons, lamb=1e-07, grid=4\n",
      "checkpoint directory created: ./model\n",
      "saving model version 0.0\n",
      "checkpoint directory created: ./model\n",
      "saving model version 0.0\n",
      "Successfully created and tested Model4\n"
     ]
    },
    {
     "name": "stderr",
     "output_type": "stream",
     "text": [
      " train_acc_hybrid: 7.94e-01 | val_acc_hybrid: 7.11e-01 |: 100%|█████| 60/60 [01:24<00:00,  1.41s/it]\n"
     ]
    },
    {
     "name": "stdout",
     "output_type": "stream",
     "text": [
      "saving model version 0.1\n",
      "✅ Best validation Accuracy: 7.2449e-01 at 11 epoch\n",
      "avg_acc 0.7302452325820923\n",
      "Testing 1 hidden neurons, lamb=0.01, grid=5\n",
      "checkpoint directory created: ./model\n",
      "saving model version 0.0\n",
      "checkpoint directory created: ./model\n",
      "saving model version 0.0\n",
      "Successfully created and tested Model4\n"
     ]
    },
    {
     "name": "stderr",
     "output_type": "stream",
     "text": [
      " train_acc_hybrid: 5.01e-01 | val_acc_hybrid: 5.03e-01 |: 100%|█████| 60/60 [00:52<00:00,  1.15it/s]\n"
     ]
    },
    {
     "name": "stdout",
     "output_type": "stream",
     "text": [
      "saving model version 0.1\n",
      "✅ Best validation Accuracy: 5.0680e-01 at 5 epoch\n",
      "avg_acc 0.5013623833656311\n",
      "Testing 1 hidden neurons, lamb=0.001, grid=5\n",
      "checkpoint directory created: ./model\n",
      "saving model version 0.0\n",
      "checkpoint directory created: ./model\n",
      "saving model version 0.0\n",
      "Successfully created and tested Model4\n"
     ]
    },
    {
     "name": "stderr",
     "output_type": "stream",
     "text": [
      " train_acc_hybrid: 7.89e-01 | val_acc_hybrid: 6.84e-01 |: 100%|█████| 60/60 [01:34<00:00,  1.57s/it]\n"
     ]
    },
    {
     "name": "stdout",
     "output_type": "stream",
     "text": [
      "saving model version 0.1\n",
      "✅ Best validation Accuracy: 7.2109e-01 at 24 epoch\n",
      "avg_acc 0.6948229074478149\n",
      "Testing 1 hidden neurons, lamb=0.0001, grid=5\n",
      "checkpoint directory created: ./model\n",
      "saving model version 0.0\n",
      "checkpoint directory created: ./model\n",
      "saving model version 0.0\n",
      "Successfully created and tested Model4\n"
     ]
    },
    {
     "name": "stderr",
     "output_type": "stream",
     "text": [
      " train_acc_hybrid: 7.73e-01 | val_acc_hybrid: 6.90e-01 |: 100%|█████| 60/60 [01:32<00:00,  1.53s/it]\n"
     ]
    },
    {
     "name": "stdout",
     "output_type": "stream",
     "text": [
      "saving model version 0.1\n",
      "✅ Best validation Accuracy: 7.2789e-01 at 20 epoch\n",
      "avg_acc 0.7029972672462463\n",
      "Testing 1 hidden neurons, lamb=1e-05, grid=5\n",
      "checkpoint directory created: ./model\n",
      "saving model version 0.0\n",
      "checkpoint directory created: ./model\n",
      "saving model version 0.0\n",
      "Successfully created and tested Model4\n"
     ]
    },
    {
     "name": "stderr",
     "output_type": "stream",
     "text": [
      " train_acc_hybrid: 7.83e-01 | val_acc_hybrid: 7.07e-01 |: 100%|█████| 60/60 [01:29<00:00,  1.49s/it]\n"
     ]
    },
    {
     "name": "stdout",
     "output_type": "stream",
     "text": [
      "saving model version 0.1\n",
      "✅ Best validation Accuracy: 7.2109e-01 at 28 epoch\n",
      "avg_acc 0.6839237213134766\n",
      "Testing 1 hidden neurons, lamb=1e-06, grid=5\n",
      "checkpoint directory created: ./model\n",
      "saving model version 0.0\n",
      "checkpoint directory created: ./model\n",
      "saving model version 0.0\n",
      "Successfully created and tested Model4\n"
     ]
    },
    {
     "name": "stderr",
     "output_type": "stream",
     "text": [
      " train_acc_hybrid: 7.90e-01 | val_acc_hybrid: 6.84e-01 |: 100%|█████| 60/60 [01:35<00:00,  1.59s/it]\n"
     ]
    },
    {
     "name": "stdout",
     "output_type": "stream",
     "text": [
      "saving model version 0.1\n",
      "✅ Best validation Accuracy: 7.2109e-01 at 9 epoch\n",
      "avg_acc 0.7111716270446777\n",
      "Testing 1 hidden neurons, lamb=1e-07, grid=5\n",
      "checkpoint directory created: ./model\n",
      "saving model version 0.0\n",
      "checkpoint directory created: ./model\n",
      "saving model version 0.0\n",
      "Successfully created and tested Model4\n"
     ]
    },
    {
     "name": "stderr",
     "output_type": "stream",
     "text": [
      " train_acc_hybrid: 7.79e-01 | val_acc_hybrid: 6.77e-01 |: 100%|█████| 60/60 [01:30<00:00,  1.52s/it]\n"
     ]
    },
    {
     "name": "stdout",
     "output_type": "stream",
     "text": [
      "saving model version 0.1\n",
      "✅ Best validation Accuracy: 7.2109e-01 at 41 epoch\n",
      "avg_acc 0.6594005227088928\n",
      "Testing 1 hidden neurons, lamb=0.01, grid=6\n",
      "checkpoint directory created: ./model\n",
      "saving model version 0.0\n",
      "checkpoint directory created: ./model\n",
      "saving model version 0.0\n",
      "Successfully created and tested Model4\n"
     ]
    },
    {
     "name": "stderr",
     "output_type": "stream",
     "text": [
      " train_acc_hybrid: 5.01e-01 | val_acc_hybrid: 5.03e-01 |: 100%|█████| 60/60 [00:57<00:00,  1.04it/s]\n"
     ]
    },
    {
     "name": "stdout",
     "output_type": "stream",
     "text": [
      "saving model version 0.1\n",
      "✅ Best validation Accuracy: 5.0680e-01 at 5 epoch\n",
      "avg_acc 0.5013623833656311\n",
      "Testing 1 hidden neurons, lamb=0.001, grid=6\n",
      "checkpoint directory created: ./model\n",
      "saving model version 0.0\n",
      "checkpoint directory created: ./model\n",
      "saving model version 0.0\n",
      "Successfully created and tested Model4\n"
     ]
    },
    {
     "name": "stderr",
     "output_type": "stream",
     "text": [
      " train_acc_hybrid: 7.99e-01 | val_acc_hybrid: 6.67e-01 |: 100%|█████| 60/60 [01:35<00:00,  1.60s/it]\n"
     ]
    },
    {
     "name": "stdout",
     "output_type": "stream",
     "text": [
      "saving model version 0.1\n",
      "✅ Best validation Accuracy: 7.2109e-01 at 8 epoch\n",
      "avg_acc 0.7138964533805847\n",
      "Testing 1 hidden neurons, lamb=0.0001, grid=6\n",
      "checkpoint directory created: ./model\n",
      "saving model version 0.0\n",
      "checkpoint directory created: ./model\n",
      "saving model version 0.0\n",
      "Successfully created and tested Model4\n"
     ]
    },
    {
     "name": "stderr",
     "output_type": "stream",
     "text": [
      " train_acc_hybrid: 7.99e-01 | val_acc_hybrid: 6.39e-01 |: 100%|█████| 60/60 [01:37<00:00,  1.62s/it]\n"
     ]
    },
    {
     "name": "stdout",
     "output_type": "stream",
     "text": [
      "saving model version 0.1\n",
      "✅ Best validation Accuracy: 7.1769e-01 at 7 epoch\n",
      "avg_acc 0.7057220339775085\n",
      "Testing 1 hidden neurons, lamb=1e-05, grid=6\n",
      "checkpoint directory created: ./model\n",
      "saving model version 0.0\n",
      "checkpoint directory created: ./model\n",
      "saving model version 0.0\n",
      "Successfully created and tested Model4\n"
     ]
    },
    {
     "name": "stderr",
     "output_type": "stream",
     "text": [
      " train_acc_hybrid: 7.96e-01 | val_acc_hybrid: 7.07e-01 |: 100%|█████| 60/60 [01:36<00:00,  1.61s/it]\n"
     ]
    },
    {
     "name": "stdout",
     "output_type": "stream",
     "text": [
      "saving model version 0.1\n",
      "✅ Best validation Accuracy: 7.1769e-01 at 8 epoch\n",
      "avg_acc 0.6702997088432312\n",
      "Testing 1 hidden neurons, lamb=1e-06, grid=6\n",
      "checkpoint directory created: ./model\n",
      "saving model version 0.0\n",
      "checkpoint directory created: ./model\n",
      "saving model version 0.0\n",
      "Successfully created and tested Model4\n"
     ]
    },
    {
     "name": "stderr",
     "output_type": "stream",
     "text": [
      " train_acc_hybrid: 8.07e-01 | val_acc_hybrid: 6.56e-01 |: 100%|█████| 60/60 [01:34<00:00,  1.58s/it]\n"
     ]
    },
    {
     "name": "stdout",
     "output_type": "stream",
     "text": [
      "saving model version 0.1\n",
      "✅ Best validation Accuracy: 7.3129e-01 at 6 epoch\n",
      "avg_acc 0.6948229074478149\n",
      "Testing 1 hidden neurons, lamb=1e-07, grid=6\n",
      "checkpoint directory created: ./model\n",
      "saving model version 0.0\n",
      "checkpoint directory created: ./model\n",
      "saving model version 0.0\n",
      "Successfully created and tested Model4\n"
     ]
    },
    {
     "name": "stderr",
     "output_type": "stream",
     "text": [
      " train_acc_hybrid: 7.99e-01 | val_acc_hybrid: 6.87e-01 |: 100%|█████| 60/60 [01:34<00:00,  1.58s/it]\n"
     ]
    },
    {
     "name": "stdout",
     "output_type": "stream",
     "text": [
      "saving model version 0.1\n",
      "✅ Best validation Accuracy: 7.2789e-01 at 9 epoch\n",
      "avg_acc 0.6948229074478149\n",
      "Testing 1 hidden neurons, lamb=0.01, grid=7\n",
      "checkpoint directory created: ./model\n",
      "saving model version 0.0\n",
      "checkpoint directory created: ./model\n",
      "saving model version 0.0\n",
      "Successfully created and tested Model4\n"
     ]
    },
    {
     "name": "stderr",
     "output_type": "stream",
     "text": [
      " train_acc_hybrid: 5.01e-01 | val_acc_hybrid: 5.03e-01 |: 100%|█████| 60/60 [01:14<00:00,  1.24s/it]\n"
     ]
    },
    {
     "name": "stdout",
     "output_type": "stream",
     "text": [
      "saving model version 0.1\n",
      "✅ Best validation Accuracy: 5.0340e-01 at 1 epoch\n",
      "avg_acc 0.5013623833656311\n",
      "Testing 1 hidden neurons, lamb=0.001, grid=7\n",
      "checkpoint directory created: ./model\n",
      "saving model version 0.0\n",
      "checkpoint directory created: ./model\n",
      "saving model version 0.0\n",
      "Successfully created and tested Model4\n"
     ]
    },
    {
     "name": "stderr",
     "output_type": "stream",
     "text": [
      " train_acc_hybrid: 7.82e-01 | val_acc_hybrid: 6.77e-01 |: 100%|█████| 60/60 [01:39<00:00,  1.66s/it]\n"
     ]
    },
    {
     "name": "stdout",
     "output_type": "stream",
     "text": [
      "saving model version 0.1\n",
      "✅ Best validation Accuracy: 7.2789e-01 at 12 epoch\n",
      "avg_acc 0.7138964533805847\n",
      "Testing 1 hidden neurons, lamb=0.0001, grid=7\n",
      "checkpoint directory created: ./model\n",
      "saving model version 0.0\n",
      "checkpoint directory created: ./model\n",
      "saving model version 0.0\n",
      "Successfully created and tested Model4\n"
     ]
    },
    {
     "name": "stderr",
     "output_type": "stream",
     "text": [
      " train_acc_hybrid: 8.06e-01 | val_acc_hybrid: 6.70e-01 |: 100%|█████| 60/60 [01:41<00:00,  1.69s/it]\n"
     ]
    },
    {
     "name": "stdout",
     "output_type": "stream",
     "text": [
      "saving model version 0.1\n",
      "✅ Best validation Accuracy: 7.2449e-01 at 7 epoch\n",
      "avg_acc 0.6811988949775696\n",
      "Testing 1 hidden neurons, lamb=1e-05, grid=7\n",
      "checkpoint directory created: ./model\n",
      "saving model version 0.0\n",
      "checkpoint directory created: ./model\n",
      "saving model version 0.0\n",
      "Successfully created and tested Model4\n"
     ]
    },
    {
     "name": "stderr",
     "output_type": "stream",
     "text": [
      " train_acc_hybrid: 8.24e-01 | val_acc_hybrid: 6.80e-01 |: 100%|█████| 60/60 [01:42<00:00,  1.70s/it]\n"
     ]
    },
    {
     "name": "stdout",
     "output_type": "stream",
     "text": [
      "saving model version 0.1\n",
      "✅ Best validation Accuracy: 7.3129e-01 at 8 epoch\n",
      "avg_acc 0.6975476741790771\n",
      "Testing 1 hidden neurons, lamb=1e-06, grid=7\n",
      "checkpoint directory created: ./model\n",
      "saving model version 0.0\n",
      "checkpoint directory created: ./model\n",
      "saving model version 0.0\n",
      "Successfully created and tested Model4\n"
     ]
    },
    {
     "name": "stderr",
     "output_type": "stream",
     "text": [
      " train_acc_hybrid: 8.00e-01 | val_acc_hybrid: 6.70e-01 |: 100%|█████| 60/60 [01:44<00:00,  1.75s/it]\n"
     ]
    },
    {
     "name": "stdout",
     "output_type": "stream",
     "text": [
      "saving model version 0.1\n",
      "✅ Best validation Accuracy: 7.3129e-01 at 8 epoch\n",
      "avg_acc 0.6811988949775696\n",
      "Testing 1 hidden neurons, lamb=1e-07, grid=7\n",
      "checkpoint directory created: ./model\n",
      "saving model version 0.0\n",
      "checkpoint directory created: ./model\n",
      "saving model version 0.0\n",
      "Successfully created and tested Model4\n"
     ]
    },
    {
     "name": "stderr",
     "output_type": "stream",
     "text": [
      " train_acc_hybrid: 8.25e-01 | val_acc_hybrid: 6.50e-01 |: 100%|█████| 60/60 [01:41<00:00,  1.68s/it]\n"
     ]
    },
    {
     "name": "stdout",
     "output_type": "stream",
     "text": [
      "saving model version 0.1\n",
      "✅ Best validation Accuracy: 7.2789e-01 at 5 epoch\n",
      "avg_acc 0.6839237213134766\n",
      "Testing 1 hidden neurons, lamb=0.01, grid=8\n",
      "checkpoint directory created: ./model\n",
      "saving model version 0.0\n",
      "checkpoint directory created: ./model\n",
      "saving model version 0.0\n",
      "Successfully created and tested Model4\n"
     ]
    },
    {
     "name": "stderr",
     "output_type": "stream",
     "text": [
      " train_acc_hybrid: 5.01e-01 | val_acc_hybrid: 5.03e-01 |: 100%|█████| 60/60 [01:12<00:00,  1.20s/it]\n"
     ]
    },
    {
     "name": "stdout",
     "output_type": "stream",
     "text": [
      "saving model version 0.1\n",
      "✅ Best validation Accuracy: 5.0340e-01 at 2 epoch\n",
      "avg_acc 0.5013623833656311\n",
      "Testing 1 hidden neurons, lamb=0.001, grid=8\n",
      "checkpoint directory created: ./model\n",
      "saving model version 0.0\n",
      "checkpoint directory created: ./model\n",
      "saving model version 0.0\n",
      "Successfully created and tested Model4\n"
     ]
    },
    {
     "name": "stderr",
     "output_type": "stream",
     "text": [
      " train_acc_hybrid: 7.85e-01 | val_acc_hybrid: 6.60e-01 |: 100%|█████| 60/60 [01:46<00:00,  1.78s/it]\n"
     ]
    },
    {
     "name": "stdout",
     "output_type": "stream",
     "text": [
      "saving model version 0.1\n",
      "✅ Best validation Accuracy: 7.2449e-01 at 9 epoch\n",
      "avg_acc 0.7057220339775085\n",
      "Testing 1 hidden neurons, lamb=0.0001, grid=8\n",
      "checkpoint directory created: ./model\n",
      "saving model version 0.0\n",
      "checkpoint directory created: ./model\n",
      "saving model version 0.0\n",
      "Successfully created and tested Model4\n"
     ]
    },
    {
     "name": "stderr",
     "output_type": "stream",
     "text": [
      " train_acc_hybrid: 8.12e-01 | val_acc_hybrid: 6.97e-01 |: 100%|█████| 60/60 [01:45<00:00,  1.76s/it]\n"
     ]
    },
    {
     "name": "stdout",
     "output_type": "stream",
     "text": [
      "saving model version 0.1\n",
      "✅ Best validation Accuracy: 7.2449e-01 at 11 epoch\n",
      "avg_acc 0.6948229074478149\n",
      "Testing 1 hidden neurons, lamb=1e-05, grid=8\n",
      "checkpoint directory created: ./model\n",
      "saving model version 0.0\n",
      "checkpoint directory created: ./model\n",
      "saving model version 0.0\n",
      "Successfully created and tested Model4\n"
     ]
    },
    {
     "name": "stderr",
     "output_type": "stream",
     "text": [
      " train_acc_hybrid: 7.64e-01 | val_acc_hybrid: 6.97e-01 |: 100%|█████| 60/60 [01:48<00:00,  1.81s/it]\n"
     ]
    },
    {
     "name": "stdout",
     "output_type": "stream",
     "text": [
      "saving model version 0.1\n",
      "✅ Best validation Accuracy: 7.2449e-01 at 9 epoch\n",
      "avg_acc 0.6948229074478149\n",
      "Testing 1 hidden neurons, lamb=1e-06, grid=8\n",
      "checkpoint directory created: ./model\n",
      "saving model version 0.0\n",
      "checkpoint directory created: ./model\n",
      "saving model version 0.0\n",
      "Successfully created and tested Model4\n"
     ]
    },
    {
     "name": "stderr",
     "output_type": "stream",
     "text": [
      " train_acc_hybrid: 7.65e-01 | val_acc_hybrid: 6.63e-01 |: 100%|█████| 60/60 [01:47<00:00,  1.79s/it]\n"
     ]
    },
    {
     "name": "stdout",
     "output_type": "stream",
     "text": [
      "saving model version 0.1\n",
      "✅ Best validation Accuracy: 7.2449e-01 at 10 epoch\n",
      "avg_acc 0.7193460464477539\n",
      "Testing 1 hidden neurons, lamb=1e-07, grid=8\n",
      "checkpoint directory created: ./model\n",
      "saving model version 0.0\n",
      "checkpoint directory created: ./model\n",
      "saving model version 0.0\n",
      "Successfully created and tested Model4\n"
     ]
    },
    {
     "name": "stderr",
     "output_type": "stream",
     "text": [
      " train_acc_hybrid: 7.75e-01 | val_acc_hybrid: 7.01e-01 |: 100%|█████| 60/60 [01:48<00:00,  1.82s/it]\n"
     ]
    },
    {
     "name": "stdout",
     "output_type": "stream",
     "text": [
      "saving model version 0.1\n",
      "✅ Best validation Accuracy: 7.1769e-01 at 18 epoch\n",
      "avg_acc 0.7193460464477539\n",
      "Testing 2 hidden neurons, lamb=0.01, grid=3\n",
      "checkpoint directory created: ./model\n",
      "saving model version 0.0\n",
      "checkpoint directory created: ./model\n",
      "saving model version 0.0\n",
      "Successfully created and tested Model4\n"
     ]
    },
    {
     "name": "stderr",
     "output_type": "stream",
     "text": [
      " train_acc_hybrid: 5.01e-01 | val_acc_hybrid: 5.03e-01 |: 100%|█████| 60/60 [01:00<00:00,  1.01s/it]\n"
     ]
    },
    {
     "name": "stdout",
     "output_type": "stream",
     "text": [
      "saving model version 0.1\n",
      "✅ Best validation Accuracy: 5.0340e-01 at 0 epoch\n",
      "avg_acc 0.5013623833656311\n",
      "Testing 2 hidden neurons, lamb=0.001, grid=3\n",
      "checkpoint directory created: ./model\n",
      "saving model version 0.0\n",
      "checkpoint directory created: ./model\n",
      "saving model version 0.0\n",
      "Successfully created and tested Model4\n"
     ]
    },
    {
     "name": "stderr",
     "output_type": "stream",
     "text": [
      " train_acc_hybrid: 7.65e-01 | val_acc_hybrid: 6.80e-01 |: 100%|█████| 60/60 [01:18<00:00,  1.31s/it]\n"
     ]
    },
    {
     "name": "stdout",
     "output_type": "stream",
     "text": [
      "saving model version 0.1\n",
      "✅ Best validation Accuracy: 7.1769e-01 at 13 epoch\n",
      "avg_acc 0.7002724409103394\n",
      "Testing 2 hidden neurons, lamb=0.0001, grid=3\n",
      "checkpoint directory created: ./model\n",
      "saving model version 0.0\n",
      "checkpoint directory created: ./model\n",
      "saving model version 0.0\n",
      "Successfully created and tested Model4\n"
     ]
    },
    {
     "name": "stderr",
     "output_type": "stream",
     "text": [
      " train_acc_hybrid: 7.77e-01 | val_acc_hybrid: 6.63e-01 |: 100%|█████| 60/60 [01:19<00:00,  1.32s/it]\n"
     ]
    },
    {
     "name": "stdout",
     "output_type": "stream",
     "text": [
      "saving model version 0.1\n",
      "✅ Best validation Accuracy: 7.3469e-01 at 6 epoch\n",
      "avg_acc 0.6948229074478149\n",
      "Testing 2 hidden neurons, lamb=1e-05, grid=3\n",
      "checkpoint directory created: ./model\n",
      "saving model version 0.0\n",
      "checkpoint directory created: ./model\n",
      "saving model version 0.0\n",
      "Successfully created and tested Model4\n"
     ]
    },
    {
     "name": "stderr",
     "output_type": "stream",
     "text": [
      " train_acc_hybrid: 7.78e-01 | val_acc_hybrid: 6.43e-01 |: 100%|█████| 60/60 [01:17<00:00,  1.29s/it]\n"
     ]
    },
    {
     "name": "stdout",
     "output_type": "stream",
     "text": [
      "saving model version 0.1\n",
      "✅ Best validation Accuracy: 7.3469e-01 at 6 epoch\n",
      "avg_acc 0.7029972672462463\n",
      "Testing 2 hidden neurons, lamb=1e-06, grid=3\n",
      "checkpoint directory created: ./model\n",
      "saving model version 0.0\n",
      "checkpoint directory created: ./model\n",
      "saving model version 0.0\n",
      "Successfully created and tested Model4\n"
     ]
    },
    {
     "name": "stderr",
     "output_type": "stream",
     "text": [
      " train_acc_hybrid: 7.79e-01 | val_acc_hybrid: 6.84e-01 |: 100%|█████| 60/60 [01:16<00:00,  1.27s/it]\n"
     ]
    },
    {
     "name": "stdout",
     "output_type": "stream",
     "text": [
      "saving model version 0.1\n",
      "✅ Best validation Accuracy: 7.1088e-01 at 8 epoch\n",
      "avg_acc 0.7084468603134155\n",
      "Testing 2 hidden neurons, lamb=1e-07, grid=3\n",
      "checkpoint directory created: ./model\n",
      "saving model version 0.0\n",
      "checkpoint directory created: ./model\n",
      "saving model version 0.0\n",
      "Successfully created and tested Model4\n"
     ]
    },
    {
     "name": "stderr",
     "output_type": "stream",
     "text": [
      " train_acc_hybrid: 7.82e-01 | val_acc_hybrid: 7.04e-01 |: 100%|█████| 60/60 [01:18<00:00,  1.31s/it]\n"
     ]
    },
    {
     "name": "stdout",
     "output_type": "stream",
     "text": [
      "saving model version 0.1\n",
      "✅ Best validation Accuracy: 7.2789e-01 at 21 epoch\n",
      "avg_acc 0.7166212201118469\n",
      "Testing 2 hidden neurons, lamb=0.01, grid=4\n",
      "checkpoint directory created: ./model\n",
      "saving model version 0.0\n",
      "checkpoint directory created: ./model\n",
      "saving model version 0.0\n",
      "Successfully created and tested Model4\n"
     ]
    },
    {
     "name": "stderr",
     "output_type": "stream",
     "text": [
      " train_acc_hybrid: 5.01e-01 | val_acc_hybrid: 5.03e-01 |: 100%|█████| 60/60 [01:06<00:00,  1.10s/it]\n"
     ]
    },
    {
     "name": "stdout",
     "output_type": "stream",
     "text": [
      "saving model version 0.1\n",
      "✅ Best validation Accuracy: 5.0680e-01 at 6 epoch\n",
      "avg_acc 0.5013623833656311\n",
      "Testing 2 hidden neurons, lamb=0.001, grid=4\n",
      "checkpoint directory created: ./model\n",
      "saving model version 0.0\n",
      "checkpoint directory created: ./model\n",
      "saving model version 0.0\n",
      "Successfully created and tested Model4\n"
     ]
    },
    {
     "name": "stderr",
     "output_type": "stream",
     "text": [
      " train_acc_hybrid: 7.83e-01 | val_acc_hybrid: 6.77e-01 |: 100%|█████| 60/60 [01:29<00:00,  1.48s/it]\n"
     ]
    },
    {
     "name": "stdout",
     "output_type": "stream",
     "text": [
      "saving model version 0.1\n",
      "✅ Best validation Accuracy: 7.2449e-01 at 12 epoch\n",
      "avg_acc 0.7002724409103394\n",
      "Testing 2 hidden neurons, lamb=0.0001, grid=4\n",
      "checkpoint directory created: ./model\n",
      "saving model version 0.0\n",
      "checkpoint directory created: ./model\n",
      "saving model version 0.0\n",
      "Successfully created and tested Model4\n"
     ]
    },
    {
     "name": "stderr",
     "output_type": "stream",
     "text": [
      " train_acc_hybrid: 7.87e-01 | val_acc_hybrid: 6.84e-01 |: 100%|█████| 60/60 [01:25<00:00,  1.43s/it]\n"
     ]
    },
    {
     "name": "stdout",
     "output_type": "stream",
     "text": [
      "saving model version 0.1\n",
      "✅ Best validation Accuracy: 7.2109e-01 at 18 epoch\n",
      "avg_acc 0.7356948256492615\n",
      "Testing 2 hidden neurons, lamb=1e-05, grid=4\n",
      "checkpoint directory created: ./model\n",
      "saving model version 0.0\n",
      "checkpoint directory created: ./model\n",
      "saving model version 0.0\n",
      "Successfully created and tested Model4\n"
     ]
    },
    {
     "name": "stderr",
     "output_type": "stream",
     "text": [
      " train_acc_hybrid: 7.95e-01 | val_acc_hybrid: 6.73e-01 |: 100%|█████| 60/60 [01:22<00:00,  1.38s/it]\n"
     ]
    },
    {
     "name": "stdout",
     "output_type": "stream",
     "text": [
      "saving model version 0.1\n",
      "✅ Best validation Accuracy: 7.1769e-01 at 8 epoch\n",
      "avg_acc 0.6784741282463074\n",
      "Testing 2 hidden neurons, lamb=1e-06, grid=4\n",
      "checkpoint directory created: ./model\n",
      "saving model version 0.0\n",
      "checkpoint directory created: ./model\n",
      "saving model version 0.0\n",
      "Successfully created and tested Model4\n"
     ]
    },
    {
     "name": "stderr",
     "output_type": "stream",
     "text": [
      " train_acc_hybrid: 7.99e-01 | val_acc_hybrid: 6.73e-01 |: 100%|█████| 60/60 [01:26<00:00,  1.45s/it]\n"
     ]
    },
    {
     "name": "stdout",
     "output_type": "stream",
     "text": [
      "saving model version 0.1\n",
      "✅ Best validation Accuracy: 7.2789e-01 at 19 epoch\n",
      "avg_acc 0.6866484880447388\n",
      "Testing 2 hidden neurons, lamb=1e-07, grid=4\n",
      "checkpoint directory created: ./model\n",
      "saving model version 0.0\n",
      "checkpoint directory created: ./model\n",
      "saving model version 0.0\n",
      "Successfully created and tested Model4\n"
     ]
    },
    {
     "name": "stderr",
     "output_type": "stream",
     "text": [
      " train_acc_hybrid: 8.06e-01 | val_acc_hybrid: 6.70e-01 |: 100%|█████| 60/60 [01:24<00:00,  1.40s/it]\n"
     ]
    },
    {
     "name": "stdout",
     "output_type": "stream",
     "text": [
      "saving model version 0.1\n",
      "✅ Best validation Accuracy: 7.1769e-01 at 4 epoch\n",
      "avg_acc 0.7029972672462463\n",
      "Testing 2 hidden neurons, lamb=0.01, grid=5\n",
      "checkpoint directory created: ./model\n",
      "saving model version 0.0\n",
      "checkpoint directory created: ./model\n",
      "saving model version 0.0\n",
      "Successfully created and tested Model4\n"
     ]
    },
    {
     "name": "stderr",
     "output_type": "stream",
     "text": [
      " train_acc_hybrid: 5.01e-01 | val_acc_hybrid: 5.03e-01 |: 100%|█████| 60/60 [01:00<00:00,  1.01s/it]\n"
     ]
    },
    {
     "name": "stdout",
     "output_type": "stream",
     "text": [
      "saving model version 0.1\n",
      "✅ Best validation Accuracy: 5.0340e-01 at 0 epoch\n",
      "avg_acc 0.5013623833656311\n",
      "Testing 2 hidden neurons, lamb=0.001, grid=5\n",
      "checkpoint directory created: ./model\n",
      "saving model version 0.0\n",
      "checkpoint directory created: ./model\n",
      "saving model version 0.0\n",
      "Successfully created and tested Model4\n"
     ]
    },
    {
     "name": "stderr",
     "output_type": "stream",
     "text": [
      " train_acc_hybrid: 7.78e-01 | val_acc_hybrid: 7.01e-01 |: 100%|█████| 60/60 [01:30<00:00,  1.51s/it]\n"
     ]
    },
    {
     "name": "stdout",
     "output_type": "stream",
     "text": [
      "saving model version 0.1\n",
      "✅ Best validation Accuracy: 7.2109e-01 at 11 epoch\n",
      "avg_acc 0.7138964533805847\n",
      "Testing 2 hidden neurons, lamb=0.0001, grid=5\n",
      "checkpoint directory created: ./model\n",
      "saving model version 0.0\n",
      "checkpoint directory created: ./model\n",
      "saving model version 0.0\n",
      "Successfully created and tested Model4\n"
     ]
    },
    {
     "name": "stderr",
     "output_type": "stream",
     "text": [
      " train_acc_hybrid: 7.93e-01 | val_acc_hybrid: 6.73e-01 |: 100%|█████| 60/60 [01:31<00:00,  1.53s/it]\n"
     ]
    },
    {
     "name": "stdout",
     "output_type": "stream",
     "text": [
      "saving model version 0.1\n",
      "✅ Best validation Accuracy: 7.0408e-01 at 6 epoch\n",
      "avg_acc 0.6893733143806458\n",
      "Testing 2 hidden neurons, lamb=1e-05, grid=5\n",
      "checkpoint directory created: ./model\n",
      "saving model version 0.0\n",
      "checkpoint directory created: ./model\n",
      "saving model version 0.0\n",
      "Successfully created and tested Model4\n"
     ]
    },
    {
     "name": "stderr",
     "output_type": "stream",
     "text": [
      " train_acc_hybrid: 7.80e-01 | val_acc_hybrid: 6.84e-01 |: 100%|█████| 60/60 [01:33<00:00,  1.56s/it]\n"
     ]
    },
    {
     "name": "stdout",
     "output_type": "stream",
     "text": [
      "saving model version 0.1\n",
      "✅ Best validation Accuracy: 7.1429e-01 at 13 epoch\n",
      "avg_acc 0.6893733143806458\n",
      "Testing 2 hidden neurons, lamb=1e-06, grid=5\n",
      "checkpoint directory created: ./model\n",
      "saving model version 0.0\n",
      "checkpoint directory created: ./model\n",
      "saving model version 0.0\n",
      "Successfully created and tested Model4\n"
     ]
    },
    {
     "name": "stderr",
     "output_type": "stream",
     "text": [
      " train_acc_hybrid: 7.99e-01 | val_acc_hybrid: 7.11e-01 |: 100%|█████| 60/60 [01:31<00:00,  1.52s/it]\n"
     ]
    },
    {
     "name": "stdout",
     "output_type": "stream",
     "text": [
      "saving model version 0.1\n",
      "✅ Best validation Accuracy: 7.2789e-01 at 50 epoch\n",
      "avg_acc 0.6702997088432312\n",
      "Testing 2 hidden neurons, lamb=1e-07, grid=5\n",
      "checkpoint directory created: ./model\n",
      "saving model version 0.0\n",
      "checkpoint directory created: ./model\n",
      "saving model version 0.0\n",
      "Successfully created and tested Model4\n"
     ]
    },
    {
     "name": "stderr",
     "output_type": "stream",
     "text": [
      " train_acc_hybrid: 8.03e-01 | val_acc_hybrid: 7.01e-01 |: 100%|█████| 60/60 [01:32<00:00,  1.53s/it]\n"
     ]
    },
    {
     "name": "stdout",
     "output_type": "stream",
     "text": [
      "saving model version 0.1\n",
      "✅ Best validation Accuracy: 7.2789e-01 at 25 epoch\n",
      "avg_acc 0.6811988949775696\n",
      "Testing 2 hidden neurons, lamb=0.01, grid=6\n",
      "checkpoint directory created: ./model\n",
      "saving model version 0.0\n",
      "checkpoint directory created: ./model\n",
      "saving model version 0.0\n",
      "Successfully created and tested Model4\n"
     ]
    },
    {
     "name": "stderr",
     "output_type": "stream",
     "text": [
      " train_acc_hybrid: 5.01e-01 | val_acc_hybrid: 5.03e-01 |: 100%|█████| 60/60 [01:09<00:00,  1.17s/it]\n"
     ]
    },
    {
     "name": "stdout",
     "output_type": "stream",
     "text": [
      "saving model version 0.1\n",
      "✅ Best validation Accuracy: 5.0340e-01 at 1 epoch\n",
      "avg_acc 0.5013623833656311\n",
      "Testing 2 hidden neurons, lamb=0.001, grid=6\n",
      "checkpoint directory created: ./model\n",
      "saving model version 0.0\n",
      "checkpoint directory created: ./model\n",
      "saving model version 0.0\n",
      "Successfully created and tested Model4\n"
     ]
    },
    {
     "name": "stderr",
     "output_type": "stream",
     "text": [
      " train_acc_hybrid: 7.76e-01 | val_acc_hybrid: 6.90e-01 |: 100%|█████| 60/60 [01:36<00:00,  1.61s/it]\n"
     ]
    },
    {
     "name": "stdout",
     "output_type": "stream",
     "text": [
      "saving model version 0.1\n",
      "✅ Best validation Accuracy: 7.0748e-01 at 8 epoch\n",
      "avg_acc 0.6784741282463074\n",
      "Testing 2 hidden neurons, lamb=0.0001, grid=6\n",
      "checkpoint directory created: ./model\n",
      "saving model version 0.0\n",
      "checkpoint directory created: ./model\n",
      "saving model version 0.0\n",
      "Successfully created and tested Model4\n"
     ]
    },
    {
     "name": "stderr",
     "output_type": "stream",
     "text": [
      " train_acc_hybrid: 8.18e-01 | val_acc_hybrid: 6.70e-01 |: 100%|█████| 60/60 [01:33<00:00,  1.56s/it]\n"
     ]
    },
    {
     "name": "stdout",
     "output_type": "stream",
     "text": [
      "saving model version 0.1\n",
      "✅ Best validation Accuracy: 7.2109e-01 at 12 epoch\n",
      "avg_acc 0.7193460464477539\n",
      "Testing 2 hidden neurons, lamb=1e-05, grid=6\n",
      "checkpoint directory created: ./model\n",
      "saving model version 0.0\n",
      "checkpoint directory created: ./model\n",
      "saving model version 0.0\n",
      "Successfully created and tested Model4\n"
     ]
    },
    {
     "name": "stderr",
     "output_type": "stream",
     "text": [
      " train_acc_hybrid: 7.90e-01 | val_acc_hybrid: 6.56e-01 |: 100%|█████| 60/60 [01:32<00:00,  1.54s/it]\n"
     ]
    },
    {
     "name": "stdout",
     "output_type": "stream",
     "text": [
      "saving model version 0.1\n",
      "✅ Best validation Accuracy: 7.1769e-01 at 9 epoch\n",
      "avg_acc 0.6948229074478149\n",
      "Testing 2 hidden neurons, lamb=1e-06, grid=6\n",
      "checkpoint directory created: ./model\n",
      "saving model version 0.0\n",
      "checkpoint directory created: ./model\n",
      "saving model version 0.0\n",
      "Successfully created and tested Model4\n"
     ]
    },
    {
     "name": "stderr",
     "output_type": "stream",
     "text": [
      " train_acc_hybrid: 7.95e-01 | val_acc_hybrid: 6.94e-01 |: 100%|█████| 60/60 [01:34<00:00,  1.57s/it]\n"
     ]
    },
    {
     "name": "stdout",
     "output_type": "stream",
     "text": [
      "saving model version 0.1\n",
      "✅ Best validation Accuracy: 7.3810e-01 at 7 epoch\n",
      "avg_acc 0.692098081111908\n",
      "Testing 2 hidden neurons, lamb=1e-07, grid=6\n",
      "checkpoint directory created: ./model\n",
      "saving model version 0.0\n",
      "checkpoint directory created: ./model\n",
      "saving model version 0.0\n",
      "Successfully created and tested Model4\n"
     ]
    },
    {
     "name": "stderr",
     "output_type": "stream",
     "text": [
      " train_acc_hybrid: 7.62e-01 | val_acc_hybrid: 6.94e-01 |: 100%|█████| 60/60 [01:36<00:00,  1.61s/it]\n"
     ]
    },
    {
     "name": "stdout",
     "output_type": "stream",
     "text": [
      "saving model version 0.1\n",
      "✅ Best validation Accuracy: 7.3469e-01 at 8 epoch\n",
      "avg_acc 0.7057220339775085\n",
      "Testing 2 hidden neurons, lamb=0.01, grid=7\n",
      "checkpoint directory created: ./model\n",
      "saving model version 0.0\n",
      "checkpoint directory created: ./model\n",
      "saving model version 0.0\n",
      "Successfully created and tested Model4\n"
     ]
    },
    {
     "name": "stderr",
     "output_type": "stream",
     "text": [
      " train_acc_hybrid: 5.01e-01 | val_acc_hybrid: 5.03e-01 |: 100%|█████| 60/60 [01:29<00:00,  1.48s/it]\n"
     ]
    },
    {
     "name": "stdout",
     "output_type": "stream",
     "text": [
      "saving model version 0.1\n",
      "✅ Best validation Accuracy: 5.0340e-01 at 0 epoch\n",
      "avg_acc 0.5013623833656311\n",
      "Testing 2 hidden neurons, lamb=0.001, grid=7\n",
      "checkpoint directory created: ./model\n",
      "saving model version 0.0\n",
      "checkpoint directory created: ./model\n",
      "saving model version 0.0\n",
      "Successfully created and tested Model4\n"
     ]
    },
    {
     "name": "stderr",
     "output_type": "stream",
     "text": [
      " train_acc_hybrid: 7.59e-01 | val_acc_hybrid: 7.07e-01 |: 100%|█████| 60/60 [01:43<00:00,  1.72s/it]\n"
     ]
    },
    {
     "name": "stdout",
     "output_type": "stream",
     "text": [
      "saving model version 0.1\n",
      "✅ Best validation Accuracy: 7.3129e-01 at 14 epoch\n",
      "avg_acc 0.692098081111908\n",
      "Testing 2 hidden neurons, lamb=0.0001, grid=7\n",
      "checkpoint directory created: ./model\n",
      "saving model version 0.0\n",
      "checkpoint directory created: ./model\n",
      "saving model version 0.0\n",
      "Successfully created and tested Model4\n"
     ]
    },
    {
     "name": "stderr",
     "output_type": "stream",
     "text": [
      " train_acc_hybrid: 7.86e-01 | val_acc_hybrid: 7.01e-01 |: 100%|█████| 60/60 [01:40<00:00,  1.68s/it]\n"
     ]
    },
    {
     "name": "stdout",
     "output_type": "stream",
     "text": [
      "saving model version 0.1\n",
      "✅ Best validation Accuracy: 7.2109e-01 at 8 epoch\n",
      "avg_acc 0.6948229074478149\n",
      "Testing 2 hidden neurons, lamb=1e-05, grid=7\n",
      "checkpoint directory created: ./model\n",
      "saving model version 0.0\n",
      "checkpoint directory created: ./model\n",
      "saving model version 0.0\n",
      "Successfully created and tested Model4\n"
     ]
    },
    {
     "name": "stderr",
     "output_type": "stream",
     "text": [
      " train_acc_hybrid: 8.34e-01 | val_acc_hybrid: 6.67e-01 |: 100%|█████| 60/60 [01:41<00:00,  1.69s/it]\n"
     ]
    },
    {
     "name": "stdout",
     "output_type": "stream",
     "text": [
      "saving model version 0.1\n",
      "✅ Best validation Accuracy: 7.2449e-01 at 7 epoch\n",
      "avg_acc 0.7057220339775085\n",
      "Testing 2 hidden neurons, lamb=1e-06, grid=7\n",
      "checkpoint directory created: ./model\n",
      "saving model version 0.0\n",
      "checkpoint directory created: ./model\n",
      "saving model version 0.0\n",
      "Successfully created and tested Model4\n"
     ]
    },
    {
     "name": "stderr",
     "output_type": "stream",
     "text": [
      " train_acc_hybrid: 7.89e-01 | val_acc_hybrid: 7.11e-01 |: 100%|█████| 60/60 [01:43<00:00,  1.72s/it]\n"
     ]
    },
    {
     "name": "stdout",
     "output_type": "stream",
     "text": [
      "saving model version 0.1\n",
      "✅ Best validation Accuracy: 7.4150e-01 at 5 epoch\n",
      "avg_acc 0.7002724409103394\n",
      "Testing 2 hidden neurons, lamb=1e-07, grid=7\n",
      "checkpoint directory created: ./model\n",
      "saving model version 0.0\n",
      "checkpoint directory created: ./model\n",
      "saving model version 0.0\n",
      "Successfully created and tested Model4\n"
     ]
    },
    {
     "name": "stderr",
     "output_type": "stream",
     "text": [
      " train_acc_hybrid: 8.06e-01 | val_acc_hybrid: 6.80e-01 |: 100%|█████| 60/60 [01:40<00:00,  1.68s/it]\n"
     ]
    },
    {
     "name": "stdout",
     "output_type": "stream",
     "text": [
      "saving model version 0.1\n",
      "✅ Best validation Accuracy: 7.2789e-01 at 15 epoch\n",
      "avg_acc 0.7084468603134155\n",
      "Testing 2 hidden neurons, lamb=0.01, grid=8\n",
      "checkpoint directory created: ./model\n",
      "saving model version 0.0\n",
      "checkpoint directory created: ./model\n",
      "saving model version 0.0\n",
      "Successfully created and tested Model4\n"
     ]
    },
    {
     "name": "stderr",
     "output_type": "stream",
     "text": [
      " train_acc_hybrid: 5.01e-01 | val_acc_hybrid: 5.07e-01 |: 100%|█████| 60/60 [01:21<00:00,  1.36s/it]\n"
     ]
    },
    {
     "name": "stdout",
     "output_type": "stream",
     "text": [
      "saving model version 0.1\n",
      "✅ Best validation Accuracy: 5.0680e-01 at 5 epoch\n",
      "avg_acc 0.5013623833656311\n",
      "Testing 2 hidden neurons, lamb=0.001, grid=8\n",
      "checkpoint directory created: ./model\n",
      "saving model version 0.0\n",
      "checkpoint directory created: ./model\n",
      "saving model version 0.0\n",
      "Successfully created and tested Model4\n"
     ]
    },
    {
     "name": "stderr",
     "output_type": "stream",
     "text": [
      " train_acc_hybrid: 7.87e-01 | val_acc_hybrid: 6.84e-01 |: 100%|█████| 60/60 [01:48<00:00,  1.81s/it]\n"
     ]
    },
    {
     "name": "stdout",
     "output_type": "stream",
     "text": [
      "saving model version 0.1\n",
      "✅ Best validation Accuracy: 7.1088e-01 at 46 epoch\n",
      "avg_acc 0.6621253490447998\n",
      "Testing 2 hidden neurons, lamb=0.0001, grid=8\n",
      "checkpoint directory created: ./model\n",
      "saving model version 0.0\n",
      "checkpoint directory created: ./model\n",
      "saving model version 0.0\n",
      "Successfully created and tested Model4\n"
     ]
    },
    {
     "name": "stderr",
     "output_type": "stream",
     "text": [
      " train_acc_hybrid: 8.19e-01 | val_acc_hybrid: 6.53e-01 |: 100%|█████| 60/60 [01:43<00:00,  1.73s/it]\n"
     ]
    },
    {
     "name": "stdout",
     "output_type": "stream",
     "text": [
      "saving model version 0.1\n",
      "✅ Best validation Accuracy: 7.2449e-01 at 10 epoch\n",
      "avg_acc 0.7111716270446777\n",
      "Testing 2 hidden neurons, lamb=1e-05, grid=8\n",
      "checkpoint directory created: ./model\n",
      "saving model version 0.0\n",
      "checkpoint directory created: ./model\n",
      "saving model version 0.0\n",
      "Successfully created and tested Model4\n"
     ]
    },
    {
     "name": "stderr",
     "output_type": "stream",
     "text": [
      " train_acc_hybrid: 8.12e-01 | val_acc_hybrid: 6.90e-01 |: 100%|█████| 60/60 [01:50<00:00,  1.85s/it]\n"
     ]
    },
    {
     "name": "stdout",
     "output_type": "stream",
     "text": [
      "saving model version 0.1\n",
      "✅ Best validation Accuracy: 7.3129e-01 at 7 epoch\n",
      "avg_acc 0.6975476741790771\n",
      "Testing 2 hidden neurons, lamb=1e-06, grid=8\n",
      "checkpoint directory created: ./model\n",
      "saving model version 0.0\n",
      "checkpoint directory created: ./model\n",
      "saving model version 0.0\n",
      "Successfully created and tested Model4\n"
     ]
    },
    {
     "name": "stderr",
     "output_type": "stream",
     "text": [
      " train_acc_hybrid: 8.01e-01 | val_acc_hybrid: 6.73e-01 |: 100%|█████| 60/60 [01:49<00:00,  1.82s/it]\n"
     ]
    },
    {
     "name": "stdout",
     "output_type": "stream",
     "text": [
      "saving model version 0.1\n",
      "✅ Best validation Accuracy: 7.4490e-01 at 10 epoch\n",
      "avg_acc 0.7029972672462463\n",
      "Testing 2 hidden neurons, lamb=1e-07, grid=8\n",
      "checkpoint directory created: ./model\n",
      "saving model version 0.0\n",
      "checkpoint directory created: ./model\n",
      "saving model version 0.0\n",
      "Successfully created and tested Model4\n"
     ]
    },
    {
     "name": "stderr",
     "output_type": "stream",
     "text": [
      " train_acc_hybrid: 8.48e-01 | val_acc_hybrid: 6.63e-01 |: 100%|█████| 60/60 [01:45<00:00,  1.75s/it]\n"
     ]
    },
    {
     "name": "stdout",
     "output_type": "stream",
     "text": [
      "saving model version 0.1\n",
      "✅ Best validation Accuracy: 7.4490e-01 at 8 epoch\n",
      "avg_acc 0.7057220339775085\n",
      "Testing 3 hidden neurons, lamb=0.01, grid=3\n",
      "checkpoint directory created: ./model\n",
      "saving model version 0.0\n",
      "checkpoint directory created: ./model\n",
      "saving model version 0.0\n",
      "Successfully created and tested Model4\n"
     ]
    },
    {
     "name": "stderr",
     "output_type": "stream",
     "text": [
      " train_acc_hybrid: 5.01e-01 | val_acc_hybrid: 5.03e-01 |: 100%|█████| 60/60 [00:57<00:00,  1.04it/s]\n"
     ]
    },
    {
     "name": "stdout",
     "output_type": "stream",
     "text": [
      "saving model version 0.1\n",
      "✅ Best validation Accuracy: 5.0340e-01 at 2 epoch\n",
      "avg_acc 0.5013623833656311\n",
      "Testing 3 hidden neurons, lamb=0.001, grid=3\n",
      "checkpoint directory created: ./model\n",
      "saving model version 0.0\n",
      "checkpoint directory created: ./model\n",
      "saving model version 0.0\n",
      "Successfully created and tested Model4\n"
     ]
    },
    {
     "name": "stderr",
     "output_type": "stream",
     "text": [
      " train_acc_hybrid: 7.53e-01 | val_acc_hybrid: 7.04e-01 |: 100%|█████| 60/60 [01:18<00:00,  1.31s/it]\n"
     ]
    },
    {
     "name": "stdout",
     "output_type": "stream",
     "text": [
      "saving model version 0.1\n",
      "✅ Best validation Accuracy: 7.1429e-01 at 45 epoch\n",
      "avg_acc 0.7002724409103394\n",
      "Testing 3 hidden neurons, lamb=0.0001, grid=3\n",
      "checkpoint directory created: ./model\n",
      "saving model version 0.0\n",
      "checkpoint directory created: ./model\n",
      "saving model version 0.0\n",
      "Successfully created and tested Model4\n"
     ]
    },
    {
     "name": "stderr",
     "output_type": "stream",
     "text": [
      " train_acc_hybrid: 7.74e-01 | val_acc_hybrid: 6.80e-01 |: 100%|█████| 60/60 [01:18<00:00,  1.30s/it]\n"
     ]
    },
    {
     "name": "stdout",
     "output_type": "stream",
     "text": [
      "saving model version 0.1\n",
      "✅ Best validation Accuracy: 7.1429e-01 at 11 epoch\n",
      "avg_acc 0.6948229074478149\n",
      "Testing 3 hidden neurons, lamb=1e-05, grid=3\n",
      "checkpoint directory created: ./model\n",
      "saving model version 0.0\n",
      "checkpoint directory created: ./model\n",
      "saving model version 0.0\n",
      "Successfully created and tested Model4\n"
     ]
    },
    {
     "name": "stderr",
     "output_type": "stream",
     "text": [
      " train_acc_hybrid: 7.82e-01 | val_acc_hybrid: 6.97e-01 |: 100%|█████| 60/60 [01:18<00:00,  1.31s/it]\n"
     ]
    },
    {
     "name": "stdout",
     "output_type": "stream",
     "text": [
      "saving model version 0.1\n",
      "✅ Best validation Accuracy: 7.1769e-01 at 8 epoch\n",
      "avg_acc 0.6893733143806458\n",
      "Testing 3 hidden neurons, lamb=1e-06, grid=3\n",
      "checkpoint directory created: ./model\n",
      "saving model version 0.0\n",
      "checkpoint directory created: ./model\n",
      "saving model version 0.0\n",
      "Successfully created and tested Model4\n"
     ]
    },
    {
     "name": "stderr",
     "output_type": "stream",
     "text": [
      " train_acc_hybrid: 7.94e-01 | val_acc_hybrid: 6.87e-01 |: 100%|█████| 60/60 [01:16<00:00,  1.28s/it]\n"
     ]
    },
    {
     "name": "stdout",
     "output_type": "stream",
     "text": [
      "saving model version 0.1\n",
      "✅ Best validation Accuracy: 7.2449e-01 at 9 epoch\n",
      "avg_acc 0.7002724409103394\n",
      "Testing 3 hidden neurons, lamb=1e-07, grid=3\n",
      "checkpoint directory created: ./model\n",
      "saving model version 0.0\n",
      "checkpoint directory created: ./model\n",
      "saving model version 0.0\n",
      "Successfully created and tested Model4\n"
     ]
    },
    {
     "name": "stderr",
     "output_type": "stream",
     "text": [
      " train_acc_hybrid: 7.86e-01 | val_acc_hybrid: 6.46e-01 |: 100%|█████| 60/60 [01:17<00:00,  1.30s/it]\n"
     ]
    },
    {
     "name": "stdout",
     "output_type": "stream",
     "text": [
      "saving model version 0.1\n",
      "✅ Best validation Accuracy: 7.3810e-01 at 8 epoch\n",
      "avg_acc 0.6975476741790771\n",
      "Testing 3 hidden neurons, lamb=0.01, grid=4\n",
      "checkpoint directory created: ./model\n",
      "saving model version 0.0\n",
      "checkpoint directory created: ./model\n",
      "saving model version 0.0\n",
      "Successfully created and tested Model4\n"
     ]
    },
    {
     "name": "stderr",
     "output_type": "stream",
     "text": [
      " train_acc_hybrid: 5.01e-01 | val_acc_hybrid: 5.03e-01 |: 100%|█████| 60/60 [00:56<00:00,  1.06it/s]\n"
     ]
    },
    {
     "name": "stdout",
     "output_type": "stream",
     "text": [
      "saving model version 0.1\n",
      "✅ Best validation Accuracy: 5.0340e-01 at 0 epoch\n",
      "avg_acc 0.5013623833656311\n",
      "Testing 3 hidden neurons, lamb=0.001, grid=4\n",
      "checkpoint directory created: ./model\n",
      "saving model version 0.0\n",
      "checkpoint directory created: ./model\n",
      "saving model version 0.0\n",
      "Successfully created and tested Model4\n"
     ]
    },
    {
     "name": "stderr",
     "output_type": "stream",
     "text": [
      " train_acc_hybrid: 7.56e-01 | val_acc_hybrid: 6.70e-01 |: 100%|█████| 60/60 [01:25<00:00,  1.43s/it]\n"
     ]
    },
    {
     "name": "stdout",
     "output_type": "stream",
     "text": [
      "saving model version 0.1\n",
      "✅ Best validation Accuracy: 7.0068e-01 at 8 epoch\n",
      "avg_acc 0.6866484880447388\n",
      "Testing 3 hidden neurons, lamb=0.0001, grid=4\n",
      "checkpoint directory created: ./model\n",
      "saving model version 0.0\n",
      "checkpoint directory created: ./model\n",
      "saving model version 0.0\n",
      "Successfully created and tested Model4\n"
     ]
    },
    {
     "name": "stderr",
     "output_type": "stream",
     "text": [
      " train_acc_hybrid: 7.81e-01 | val_acc_hybrid: 6.94e-01 |: 100%|█████| 60/60 [01:24<00:00,  1.40s/it]\n"
     ]
    },
    {
     "name": "stdout",
     "output_type": "stream",
     "text": [
      "saving model version 0.1\n",
      "✅ Best validation Accuracy: 7.2449e-01 at 9 epoch\n",
      "avg_acc 0.7029972672462463\n",
      "Testing 3 hidden neurons, lamb=1e-05, grid=4\n",
      "checkpoint directory created: ./model\n",
      "saving model version 0.0\n",
      "checkpoint directory created: ./model\n",
      "saving model version 0.0\n",
      "Successfully created and tested Model4\n"
     ]
    },
    {
     "name": "stderr",
     "output_type": "stream",
     "text": [
      " train_acc_hybrid: 7.93e-01 | val_acc_hybrid: 6.77e-01 |: 100%|█████| 60/60 [01:22<00:00,  1.38s/it]\n"
     ]
    },
    {
     "name": "stdout",
     "output_type": "stream",
     "text": [
      "saving model version 0.1\n",
      "✅ Best validation Accuracy: 7.2449e-01 at 7 epoch\n",
      "avg_acc 0.692098081111908\n",
      "Testing 3 hidden neurons, lamb=1e-06, grid=4\n",
      "checkpoint directory created: ./model\n",
      "saving model version 0.0\n",
      "checkpoint directory created: ./model\n",
      "saving model version 0.0\n",
      "Successfully created and tested Model4\n"
     ]
    },
    {
     "name": "stderr",
     "output_type": "stream",
     "text": [
      " train_acc_hybrid: 8.07e-01 | val_acc_hybrid: 6.50e-01 |: 100%|█████| 60/60 [01:24<00:00,  1.41s/it]\n"
     ]
    },
    {
     "name": "stdout",
     "output_type": "stream",
     "text": [
      "saving model version 0.1\n",
      "✅ Best validation Accuracy: 7.2109e-01 at 8 epoch\n",
      "avg_acc 0.6811988949775696\n",
      "Testing 3 hidden neurons, lamb=1e-07, grid=4\n",
      "checkpoint directory created: ./model\n",
      "saving model version 0.0\n",
      "checkpoint directory created: ./model\n",
      "saving model version 0.0\n",
      "Successfully created and tested Model4\n"
     ]
    },
    {
     "name": "stderr",
     "output_type": "stream",
     "text": [
      " train_acc_hybrid: 7.70e-01 | val_acc_hybrid: 6.67e-01 |: 100%|█████| 60/60 [01:26<00:00,  1.44s/it]\n"
     ]
    },
    {
     "name": "stdout",
     "output_type": "stream",
     "text": [
      "saving model version 0.1\n",
      "✅ Best validation Accuracy: 7.3469e-01 at 4 epoch\n",
      "avg_acc 0.692098081111908\n",
      "Testing 3 hidden neurons, lamb=0.01, grid=5\n",
      "checkpoint directory created: ./model\n",
      "saving model version 0.0\n",
      "checkpoint directory created: ./model\n",
      "saving model version 0.0\n",
      "Successfully created and tested Model4\n"
     ]
    },
    {
     "name": "stderr",
     "output_type": "stream",
     "text": [
      " train_acc_hybrid: 5.01e-01 | val_acc_hybrid: 5.03e-01 |: 100%|█████| 60/60 [01:13<00:00,  1.23s/it]\n"
     ]
    },
    {
     "name": "stdout",
     "output_type": "stream",
     "text": [
      "saving model version 0.1\n",
      "✅ Best validation Accuracy: 5.0340e-01 at 0 epoch\n",
      "avg_acc 0.5013623833656311\n",
      "Testing 3 hidden neurons, lamb=0.001, grid=5\n",
      "checkpoint directory created: ./model\n",
      "saving model version 0.0\n",
      "checkpoint directory created: ./model\n",
      "saving model version 0.0\n",
      "Successfully created and tested Model4\n"
     ]
    },
    {
     "name": "stderr",
     "output_type": "stream",
     "text": [
      " train_acc_hybrid: 7.88e-01 | val_acc_hybrid: 6.46e-01 |: 100%|█████| 60/60 [01:33<00:00,  1.55s/it]\n"
     ]
    },
    {
     "name": "stdout",
     "output_type": "stream",
     "text": [
      "saving model version 0.1\n",
      "✅ Best validation Accuracy: 7.1429e-01 at 9 epoch\n",
      "avg_acc 0.6975476741790771\n",
      "Testing 3 hidden neurons, lamb=0.0001, grid=5\n",
      "checkpoint directory created: ./model\n",
      "saving model version 0.0\n",
      "checkpoint directory created: ./model\n",
      "saving model version 0.0\n",
      "Successfully created and tested Model4\n"
     ]
    },
    {
     "name": "stderr",
     "output_type": "stream",
     "text": [
      " train_acc_hybrid: 7.77e-01 | val_acc_hybrid: 7.18e-01 |: 100%|█████| 60/60 [01:34<00:00,  1.58s/it]\n"
     ]
    },
    {
     "name": "stdout",
     "output_type": "stream",
     "text": [
      "saving model version 0.1\n",
      "✅ Best validation Accuracy: 7.2789e-01 at 40 epoch\n",
      "avg_acc 0.6757493019104004\n",
      "Testing 3 hidden neurons, lamb=1e-05, grid=5\n",
      "checkpoint directory created: ./model\n",
      "saving model version 0.0\n",
      "checkpoint directory created: ./model\n",
      "saving model version 0.0\n",
      "Successfully created and tested Model4\n"
     ]
    },
    {
     "name": "stderr",
     "output_type": "stream",
     "text": [
      " train_acc_hybrid: 8.17e-01 | val_acc_hybrid: 6.53e-01 |: 100%|█████| 60/60 [01:30<00:00,  1.52s/it]\n"
     ]
    },
    {
     "name": "stdout",
     "output_type": "stream",
     "text": [
      "saving model version 0.1\n",
      "✅ Best validation Accuracy: 7.3129e-01 at 7 epoch\n",
      "avg_acc 0.6893733143806458\n",
      "Testing 3 hidden neurons, lamb=1e-06, grid=5\n",
      "checkpoint directory created: ./model\n",
      "saving model version 0.0\n",
      "checkpoint directory created: ./model\n",
      "saving model version 0.0\n",
      "Successfully created and tested Model4\n"
     ]
    },
    {
     "name": "stderr",
     "output_type": "stream",
     "text": [
      " train_acc_hybrid: 8.00e-01 | val_acc_hybrid: 6.77e-01 |: 100%|█████| 60/60 [01:32<00:00,  1.54s/it]\n"
     ]
    },
    {
     "name": "stdout",
     "output_type": "stream",
     "text": [
      "saving model version 0.1\n",
      "✅ Best validation Accuracy: 7.2449e-01 at 9 epoch\n",
      "avg_acc 0.7057220339775085\n",
      "Testing 3 hidden neurons, lamb=1e-07, grid=5\n",
      "checkpoint directory created: ./model\n",
      "saving model version 0.0\n",
      "checkpoint directory created: ./model\n",
      "saving model version 0.0\n",
      "Successfully created and tested Model4\n"
     ]
    },
    {
     "name": "stderr",
     "output_type": "stream",
     "text": [
      " train_acc_hybrid: 7.95e-01 | val_acc_hybrid: 6.56e-01 |: 100%|█████| 60/60 [01:29<00:00,  1.48s/it]\n"
     ]
    },
    {
     "name": "stdout",
     "output_type": "stream",
     "text": [
      "saving model version 0.1\n",
      "✅ Best validation Accuracy: 7.3129e-01 at 10 epoch\n",
      "avg_acc 0.6948229074478149\n",
      "Testing 3 hidden neurons, lamb=0.01, grid=6\n",
      "checkpoint directory created: ./model\n",
      "saving model version 0.0\n",
      "checkpoint directory created: ./model\n",
      "saving model version 0.0\n",
      "Successfully created and tested Model4\n"
     ]
    },
    {
     "name": "stderr",
     "output_type": "stream",
     "text": [
      " train_acc_hybrid: 5.01e-01 | val_acc_hybrid: 5.03e-01 |: 100%|█████| 60/60 [01:05<00:00,  1.10s/it]\n"
     ]
    },
    {
     "name": "stdout",
     "output_type": "stream",
     "text": [
      "saving model version 0.1\n",
      "✅ Best validation Accuracy: 5.0340e-01 at 0 epoch\n",
      "avg_acc 0.5013623833656311\n",
      "Testing 3 hidden neurons, lamb=0.001, grid=6\n",
      "checkpoint directory created: ./model\n",
      "saving model version 0.0\n",
      "checkpoint directory created: ./model\n",
      "saving model version 0.0\n",
      "Successfully created and tested Model4\n"
     ]
    },
    {
     "name": "stderr",
     "output_type": "stream",
     "text": [
      " train_acc_hybrid: 7.78e-01 | val_acc_hybrid: 6.90e-01 |: 100%|█████| 60/60 [01:40<00:00,  1.67s/it]\n"
     ]
    },
    {
     "name": "stdout",
     "output_type": "stream",
     "text": [
      "saving model version 0.1\n",
      "✅ Best validation Accuracy: 7.2789e-01 at 7 epoch\n",
      "avg_acc 0.7029972672462463\n",
      "Testing 3 hidden neurons, lamb=0.0001, grid=6\n",
      "checkpoint directory created: ./model\n",
      "saving model version 0.0\n",
      "checkpoint directory created: ./model\n",
      "saving model version 0.0\n",
      "Successfully created and tested Model4\n"
     ]
    },
    {
     "name": "stderr",
     "output_type": "stream",
     "text": [
      " train_acc_hybrid: 8.29e-01 | val_acc_hybrid: 6.70e-01 |: 100%|█████| 60/60 [01:33<00:00,  1.57s/it]\n"
     ]
    },
    {
     "name": "stdout",
     "output_type": "stream",
     "text": [
      "saving model version 0.1\n",
      "✅ Best validation Accuracy: 7.3469e-01 at 14 epoch\n",
      "avg_acc 0.7002724409103394\n",
      "Testing 3 hidden neurons, lamb=1e-05, grid=6\n",
      "checkpoint directory created: ./model\n",
      "saving model version 0.0\n",
      "checkpoint directory created: ./model\n",
      "saving model version 0.0\n",
      "Successfully created and tested Model4\n"
     ]
    },
    {
     "name": "stderr",
     "output_type": "stream",
     "text": [
      " train_acc_hybrid: 7.89e-01 | val_acc_hybrid: 6.56e-01 |: 100%|█████| 60/60 [01:35<00:00,  1.59s/it]\n"
     ]
    },
    {
     "name": "stdout",
     "output_type": "stream",
     "text": [
      "saving model version 0.1\n",
      "✅ Best validation Accuracy: 7.4150e-01 at 6 epoch\n",
      "avg_acc 0.7193460464477539\n",
      "Testing 3 hidden neurons, lamb=1e-06, grid=6\n",
      "checkpoint directory created: ./model\n",
      "saving model version 0.0\n",
      "checkpoint directory created: ./model\n",
      "saving model version 0.0\n",
      "Successfully created and tested Model4\n"
     ]
    },
    {
     "name": "stderr",
     "output_type": "stream",
     "text": [
      " train_acc_hybrid: 8.08e-01 | val_acc_hybrid: 6.73e-01 |: 100%|█████| 60/60 [01:36<00:00,  1.60s/it]\n"
     ]
    },
    {
     "name": "stdout",
     "output_type": "stream",
     "text": [
      "saving model version 0.1\n",
      "✅ Best validation Accuracy: 7.2789e-01 at 8 epoch\n",
      "avg_acc 0.6975476741790771\n",
      "Testing 3 hidden neurons, lamb=1e-07, grid=6\n",
      "checkpoint directory created: ./model\n",
      "saving model version 0.0\n",
      "checkpoint directory created: ./model\n",
      "saving model version 0.0\n",
      "Successfully created and tested Model4\n"
     ]
    },
    {
     "name": "stderr",
     "output_type": "stream",
     "text": [
      " train_acc_hybrid: 7.95e-01 | val_acc_hybrid: 6.80e-01 |: 100%|█████| 60/60 [01:36<00:00,  1.61s/it]\n"
     ]
    },
    {
     "name": "stdout",
     "output_type": "stream",
     "text": [
      "saving model version 0.1\n",
      "✅ Best validation Accuracy: 7.2109e-01 at 10 epoch\n",
      "avg_acc 0.6866484880447388\n",
      "Testing 3 hidden neurons, lamb=0.01, grid=7\n",
      "checkpoint directory created: ./model\n",
      "saving model version 0.0\n",
      "checkpoint directory created: ./model\n",
      "saving model version 0.0\n",
      "Successfully created and tested Model4\n"
     ]
    },
    {
     "name": "stderr",
     "output_type": "stream",
     "text": [
      " train_acc_hybrid: 5.01e-01 | val_acc_hybrid: 5.03e-01 |: 100%|█████| 60/60 [01:20<00:00,  1.35s/it]\n"
     ]
    },
    {
     "name": "stdout",
     "output_type": "stream",
     "text": [
      "saving model version 0.1\n",
      "✅ Best validation Accuracy: 5.0340e-01 at 1 epoch\n",
      "avg_acc 0.5013623833656311\n",
      "Testing 3 hidden neurons, lamb=0.001, grid=7\n",
      "checkpoint directory created: ./model\n",
      "saving model version 0.0\n",
      "checkpoint directory created: ./model\n",
      "saving model version 0.0\n",
      "Successfully created and tested Model4\n"
     ]
    },
    {
     "name": "stderr",
     "output_type": "stream",
     "text": [
      " train_acc_hybrid: 7.63e-01 | val_acc_hybrid: 6.84e-01 |: 100%|█████| 60/60 [01:44<00:00,  1.74s/it]\n"
     ]
    },
    {
     "name": "stdout",
     "output_type": "stream",
     "text": [
      "saving model version 0.1\n",
      "✅ Best validation Accuracy: 7.2109e-01 at 19 epoch\n",
      "avg_acc 0.6948229074478149\n",
      "Testing 3 hidden neurons, lamb=0.0001, grid=7\n",
      "checkpoint directory created: ./model\n",
      "saving model version 0.0\n",
      "checkpoint directory created: ./model\n",
      "saving model version 0.0\n",
      "Successfully created and tested Model4\n"
     ]
    },
    {
     "name": "stderr",
     "output_type": "stream",
     "text": [
      " train_acc_hybrid: 8.03e-01 | val_acc_hybrid: 6.50e-01 |: 100%|█████| 60/60 [01:41<00:00,  1.70s/it]\n"
     ]
    },
    {
     "name": "stdout",
     "output_type": "stream",
     "text": [
      "saving model version 0.1\n",
      "✅ Best validation Accuracy: 7.1088e-01 at 12 epoch\n",
      "avg_acc 0.7002724409103394\n",
      "Testing 3 hidden neurons, lamb=1e-05, grid=7\n",
      "checkpoint directory created: ./model\n",
      "saving model version 0.0\n",
      "checkpoint directory created: ./model\n",
      "saving model version 0.0\n",
      "Successfully created and tested Model4\n"
     ]
    },
    {
     "name": "stderr",
     "output_type": "stream",
     "text": [
      " train_acc_hybrid: 8.06e-01 | val_acc_hybrid: 6.70e-01 |: 100%|█████| 60/60 [01:42<00:00,  1.71s/it]\n"
     ]
    },
    {
     "name": "stdout",
     "output_type": "stream",
     "text": [
      "saving model version 0.1\n",
      "✅ Best validation Accuracy: 7.1769e-01 at 6 epoch\n",
      "avg_acc 0.6893733143806458\n",
      "Testing 3 hidden neurons, lamb=1e-06, grid=7\n",
      "checkpoint directory created: ./model\n",
      "saving model version 0.0\n",
      "checkpoint directory created: ./model\n",
      "saving model version 0.0\n",
      "Successfully created and tested Model4\n"
     ]
    },
    {
     "name": "stderr",
     "output_type": "stream",
     "text": [
      " train_acc_hybrid: 8.01e-01 | val_acc_hybrid: 6.90e-01 |: 100%|█████| 60/60 [01:39<00:00,  1.66s/it]\n"
     ]
    },
    {
     "name": "stdout",
     "output_type": "stream",
     "text": [
      "saving model version 0.1\n",
      "✅ Best validation Accuracy: 7.2109e-01 at 11 epoch\n",
      "avg_acc 0.7084468603134155\n",
      "Testing 3 hidden neurons, lamb=1e-07, grid=7\n",
      "checkpoint directory created: ./model\n",
      "saving model version 0.0\n",
      "checkpoint directory created: ./model\n",
      "saving model version 0.0\n",
      "Successfully created and tested Model4\n"
     ]
    },
    {
     "name": "stderr",
     "output_type": "stream",
     "text": [
      " train_acc_hybrid: 7.82e-01 | val_acc_hybrid: 6.97e-01 |: 100%|█████| 60/60 [01:45<00:00,  1.77s/it]\n"
     ]
    },
    {
     "name": "stdout",
     "output_type": "stream",
     "text": [
      "saving model version 0.1\n",
      "✅ Best validation Accuracy: 7.2789e-01 at 7 epoch\n",
      "avg_acc 0.6948229074478149\n",
      "Testing 3 hidden neurons, lamb=0.01, grid=8\n",
      "checkpoint directory created: ./model\n",
      "saving model version 0.0\n",
      "checkpoint directory created: ./model\n",
      "saving model version 0.0\n",
      "Successfully created and tested Model4\n"
     ]
    },
    {
     "name": "stderr",
     "output_type": "stream",
     "text": [
      " train_acc_hybrid: 5.01e-01 | val_acc_hybrid: 5.03e-01 |: 100%|█████| 60/60 [01:15<00:00,  1.26s/it]\n"
     ]
    },
    {
     "name": "stdout",
     "output_type": "stream",
     "text": [
      "saving model version 0.1\n",
      "✅ Best validation Accuracy: 5.0340e-01 at 1 epoch\n",
      "avg_acc 0.5013623833656311\n",
      "Testing 3 hidden neurons, lamb=0.001, grid=8\n",
      "checkpoint directory created: ./model\n",
      "saving model version 0.0\n",
      "checkpoint directory created: ./model\n",
      "saving model version 0.0\n",
      "Successfully created and tested Model4\n"
     ]
    },
    {
     "name": "stderr",
     "output_type": "stream",
     "text": [
      " train_acc_hybrid: 7.81e-01 | val_acc_hybrid: 7.04e-01 |: 100%|█████| 60/60 [01:49<00:00,  1.83s/it]\n"
     ]
    },
    {
     "name": "stdout",
     "output_type": "stream",
     "text": [
      "saving model version 0.1\n",
      "✅ Best validation Accuracy: 7.2789e-01 at 16 epoch\n",
      "avg_acc 0.6948229074478149\n",
      "Testing 3 hidden neurons, lamb=0.0001, grid=8\n",
      "checkpoint directory created: ./model\n",
      "saving model version 0.0\n",
      "checkpoint directory created: ./model\n",
      "saving model version 0.0\n",
      "Successfully created and tested Model4\n"
     ]
    },
    {
     "name": "stderr",
     "output_type": "stream",
     "text": [
      " train_acc_hybrid: 8.29e-01 | val_acc_hybrid: 6.67e-01 |: 100%|█████| 60/60 [01:45<00:00,  1.76s/it]\n"
     ]
    },
    {
     "name": "stdout",
     "output_type": "stream",
     "text": [
      "saving model version 0.1\n",
      "✅ Best validation Accuracy: 7.3469e-01 at 12 epoch\n",
      "avg_acc 0.7111716270446777\n",
      "Testing 3 hidden neurons, lamb=1e-05, grid=8\n",
      "checkpoint directory created: ./model\n",
      "saving model version 0.0\n",
      "checkpoint directory created: ./model\n",
      "saving model version 0.0\n",
      "Successfully created and tested Model4\n"
     ]
    },
    {
     "name": "stderr",
     "output_type": "stream",
     "text": [
      " train_acc_hybrid: 8.50e-01 | val_acc_hybrid: 6.70e-01 |: 100%|█████| 60/60 [01:50<00:00,  1.84s/it]\n"
     ]
    },
    {
     "name": "stdout",
     "output_type": "stream",
     "text": [
      "saving model version 0.1\n",
      "✅ Best validation Accuracy: 7.1088e-01 at 6 epoch\n",
      "avg_acc 0.7138964533805847\n",
      "Testing 3 hidden neurons, lamb=1e-06, grid=8\n",
      "checkpoint directory created: ./model\n",
      "saving model version 0.0\n",
      "checkpoint directory created: ./model\n",
      "saving model version 0.0\n",
      "Successfully created and tested Model4\n"
     ]
    },
    {
     "name": "stderr",
     "output_type": "stream",
     "text": [
      " train_acc_hybrid: 8.25e-01 | val_acc_hybrid: 6.60e-01 |: 100%|█████| 60/60 [01:45<00:00,  1.76s/it]\n"
     ]
    },
    {
     "name": "stdout",
     "output_type": "stream",
     "text": [
      "saving model version 0.1\n",
      "✅ Best validation Accuracy: 7.2109e-01 at 13 epoch\n",
      "avg_acc 0.7057220339775085\n",
      "Testing 3 hidden neurons, lamb=1e-07, grid=8\n",
      "checkpoint directory created: ./model\n",
      "saving model version 0.0\n",
      "checkpoint directory created: ./model\n",
      "saving model version 0.0\n",
      "Successfully created and tested Model4\n"
     ]
    },
    {
     "name": "stderr",
     "output_type": "stream",
     "text": [
      " train_acc_hybrid: 8.27e-01 | val_acc_hybrid: 6.56e-01 |: 100%|█████| 60/60 [01:46<00:00,  1.78s/it]\n"
     ]
    },
    {
     "name": "stdout",
     "output_type": "stream",
     "text": [
      "saving model version 0.1\n",
      "✅ Best validation Accuracy: 7.1429e-01 at 9 epoch\n",
      "avg_acc 0.6948229074478149\n",
      "Testing 4 hidden neurons, lamb=0.01, grid=3\n",
      "checkpoint directory created: ./model\n",
      "saving model version 0.0\n",
      "checkpoint directory created: ./model\n",
      "saving model version 0.0\n",
      "Successfully created and tested Model4\n"
     ]
    },
    {
     "name": "stderr",
     "output_type": "stream",
     "text": [
      " train_acc_hybrid: 5.01e-01 | val_acc_hybrid: 5.03e-01 |: 100%|█████| 60/60 [00:54<00:00,  1.09it/s]\n"
     ]
    },
    {
     "name": "stdout",
     "output_type": "stream",
     "text": [
      "saving model version 0.1\n",
      "✅ Best validation Accuracy: 5.0340e-01 at 0 epoch\n",
      "avg_acc 0.5013623833656311\n",
      "Testing 4 hidden neurons, lamb=0.001, grid=3\n",
      "checkpoint directory created: ./model\n",
      "saving model version 0.0\n",
      "checkpoint directory created: ./model\n",
      "saving model version 0.0\n",
      "Successfully created and tested Model4\n"
     ]
    },
    {
     "name": "stderr",
     "output_type": "stream",
     "text": [
      " train_acc_hybrid: 7.77e-01 | val_acc_hybrid: 6.73e-01 |: 100%|█████| 60/60 [01:18<00:00,  1.31s/it]\n"
     ]
    },
    {
     "name": "stdout",
     "output_type": "stream",
     "text": [
      "saving model version 0.1\n",
      "✅ Best validation Accuracy: 7.1429e-01 at 11 epoch\n",
      "avg_acc 0.7057220339775085\n",
      "Testing 4 hidden neurons, lamb=0.0001, grid=3\n",
      "checkpoint directory created: ./model\n",
      "saving model version 0.0\n",
      "checkpoint directory created: ./model\n",
      "saving model version 0.0\n",
      "Successfully created and tested Model4\n"
     ]
    },
    {
     "name": "stderr",
     "output_type": "stream",
     "text": [
      " train_acc_hybrid: 7.84e-01 | val_acc_hybrid: 6.53e-01 |: 100%|█████| 60/60 [01:19<00:00,  1.33s/it]\n"
     ]
    },
    {
     "name": "stdout",
     "output_type": "stream",
     "text": [
      "saving model version 0.1\n",
      "✅ Best validation Accuracy: 7.1429e-01 at 16 epoch\n",
      "avg_acc 0.6730245351791382\n",
      "Testing 4 hidden neurons, lamb=1e-05, grid=3\n",
      "checkpoint directory created: ./model\n",
      "saving model version 0.0\n",
      "checkpoint directory created: ./model\n",
      "saving model version 0.0\n",
      "Successfully created and tested Model4\n"
     ]
    },
    {
     "name": "stderr",
     "output_type": "stream",
     "text": [
      " train_acc_hybrid: 7.72e-01 | val_acc_hybrid: 6.56e-01 |: 100%|█████| 60/60 [01:20<00:00,  1.34s/it]\n"
     ]
    },
    {
     "name": "stdout",
     "output_type": "stream",
     "text": [
      "saving model version 0.1\n",
      "✅ Best validation Accuracy: 7.2449e-01 at 9 epoch\n",
      "avg_acc 0.7138964533805847\n",
      "Testing 4 hidden neurons, lamb=1e-06, grid=3\n",
      "checkpoint directory created: ./model\n",
      "saving model version 0.0\n",
      "checkpoint directory created: ./model\n",
      "saving model version 0.0\n",
      "Successfully created and tested Model4\n"
     ]
    },
    {
     "name": "stderr",
     "output_type": "stream",
     "text": [
      " train_acc_hybrid: 7.69e-01 | val_acc_hybrid: 6.53e-01 |: 100%|█████| 60/60 [01:19<00:00,  1.32s/it]\n"
     ]
    },
    {
     "name": "stdout",
     "output_type": "stream",
     "text": [
      "saving model version 0.1\n",
      "✅ Best validation Accuracy: 7.0408e-01 at 10 epoch\n",
      "avg_acc 0.7111716270446777\n",
      "Testing 4 hidden neurons, lamb=1e-07, grid=3\n",
      "checkpoint directory created: ./model\n",
      "saving model version 0.0\n",
      "checkpoint directory created: ./model\n",
      "saving model version 0.0\n",
      "Successfully created and tested Model4\n"
     ]
    },
    {
     "name": "stderr",
     "output_type": "stream",
     "text": [
      " train_acc_hybrid: 7.75e-01 | val_acc_hybrid: 7.07e-01 |: 100%|█████| 60/60 [01:20<00:00,  1.34s/it]\n"
     ]
    },
    {
     "name": "stdout",
     "output_type": "stream",
     "text": [
      "saving model version 0.1\n",
      "✅ Best validation Accuracy: 7.2109e-01 at 11 epoch\n",
      "avg_acc 0.6811988949775696\n",
      "Testing 4 hidden neurons, lamb=0.01, grid=4\n",
      "checkpoint directory created: ./model\n",
      "saving model version 0.0\n",
      "checkpoint directory created: ./model\n",
      "saving model version 0.0\n",
      "Successfully created and tested Model4\n"
     ]
    },
    {
     "name": "stderr",
     "output_type": "stream",
     "text": [
      " train_acc_hybrid: 5.01e-01 | val_acc_hybrid: 5.03e-01 |: 100%|█████| 60/60 [01:04<00:00,  1.08s/it]\n"
     ]
    },
    {
     "name": "stdout",
     "output_type": "stream",
     "text": [
      "saving model version 0.1\n",
      "✅ Best validation Accuracy: 5.0340e-01 at 0 epoch\n",
      "avg_acc 0.5013623833656311\n",
      "Testing 4 hidden neurons, lamb=0.001, grid=4\n",
      "checkpoint directory created: ./model\n",
      "saving model version 0.0\n",
      "checkpoint directory created: ./model\n",
      "saving model version 0.0\n",
      "Successfully created and tested Model4\n"
     ]
    },
    {
     "name": "stderr",
     "output_type": "stream",
     "text": [
      " train_acc_hybrid: 7.52e-01 | val_acc_hybrid: 7.21e-01 |: 100%|█████| 60/60 [01:28<00:00,  1.48s/it]\n"
     ]
    },
    {
     "name": "stdout",
     "output_type": "stream",
     "text": [
      "saving model version 0.1\n",
      "✅ Best validation Accuracy: 7.2449e-01 at 21 epoch\n",
      "avg_acc 0.6893733143806458\n",
      "Testing 4 hidden neurons, lamb=0.0001, grid=4\n",
      "checkpoint directory created: ./model\n",
      "saving model version 0.0\n",
      "checkpoint directory created: ./model\n",
      "saving model version 0.0\n",
      "Successfully created and tested Model4\n"
     ]
    },
    {
     "name": "stderr",
     "output_type": "stream",
     "text": [
      " train_acc_hybrid: 7.81e-01 | val_acc_hybrid: 6.73e-01 |: 100%|█████| 60/60 [01:26<00:00,  1.44s/it]\n"
     ]
    },
    {
     "name": "stdout",
     "output_type": "stream",
     "text": [
      "saving model version 0.1\n",
      "✅ Best validation Accuracy: 7.2109e-01 at 3 epoch\n",
      "avg_acc 0.6730245351791382\n",
      "Testing 4 hidden neurons, lamb=1e-05, grid=4\n",
      "checkpoint directory created: ./model\n",
      "saving model version 0.0\n",
      "checkpoint directory created: ./model\n",
      "saving model version 0.0\n",
      "Successfully created and tested Model4\n"
     ]
    },
    {
     "name": "stderr",
     "output_type": "stream",
     "text": [
      " train_acc_hybrid: 7.93e-01 | val_acc_hybrid: 7.07e-01 |: 100%|█████| 60/60 [01:23<00:00,  1.39s/it]\n"
     ]
    },
    {
     "name": "stdout",
     "output_type": "stream",
     "text": [
      "saving model version 0.1\n",
      "✅ Best validation Accuracy: 7.3129e-01 at 15 epoch\n",
      "avg_acc 0.7084468603134155\n",
      "Testing 4 hidden neurons, lamb=1e-06, grid=4\n",
      "checkpoint directory created: ./model\n",
      "saving model version 0.0\n",
      "checkpoint directory created: ./model\n",
      "saving model version 0.0\n",
      "Successfully created and tested Model4\n"
     ]
    },
    {
     "name": "stderr",
     "output_type": "stream",
     "text": [
      " train_acc_hybrid: 7.78e-01 | val_acc_hybrid: 6.80e-01 |: 100%|█████| 60/60 [01:23<00:00,  1.38s/it]\n"
     ]
    },
    {
     "name": "stdout",
     "output_type": "stream",
     "text": [
      "saving model version 0.1\n",
      "✅ Best validation Accuracy: 7.2789e-01 at 7 epoch\n",
      "avg_acc 0.6975476741790771\n",
      "Testing 4 hidden neurons, lamb=1e-07, grid=4\n",
      "checkpoint directory created: ./model\n",
      "saving model version 0.0\n",
      "checkpoint directory created: ./model\n",
      "saving model version 0.0\n",
      "Successfully created and tested Model4\n"
     ]
    },
    {
     "name": "stderr",
     "output_type": "stream",
     "text": [
      " train_acc_hybrid: 7.95e-01 | val_acc_hybrid: 7.11e-01 |: 100%|█████| 60/60 [01:24<00:00,  1.41s/it]\n"
     ]
    },
    {
     "name": "stdout",
     "output_type": "stream",
     "text": [
      "saving model version 0.1\n",
      "✅ Best validation Accuracy: 7.2449e-01 at 40 epoch\n",
      "avg_acc 0.6866484880447388\n",
      "Testing 4 hidden neurons, lamb=0.01, grid=5\n",
      "checkpoint directory created: ./model\n",
      "saving model version 0.0\n",
      "checkpoint directory created: ./model\n",
      "saving model version 0.0\n",
      "Successfully created and tested Model4\n"
     ]
    },
    {
     "name": "stderr",
     "output_type": "stream",
     "text": [
      " train_acc_hybrid: 5.01e-01 | val_acc_hybrid: 5.03e-01 |: 100%|█████| 60/60 [01:04<00:00,  1.08s/it]\n"
     ]
    },
    {
     "name": "stdout",
     "output_type": "stream",
     "text": [
      "saving model version 0.1\n",
      "✅ Best validation Accuracy: 5.0340e-01 at 0 epoch\n",
      "avg_acc 0.5013623833656311\n",
      "Testing 4 hidden neurons, lamb=0.001, grid=5\n",
      "checkpoint directory created: ./model\n",
      "saving model version 0.0\n",
      "checkpoint directory created: ./model\n",
      "saving model version 0.0\n",
      "Successfully created and tested Model4\n"
     ]
    },
    {
     "name": "stderr",
     "output_type": "stream",
     "text": [
      " train_acc_hybrid: 7.79e-01 | val_acc_hybrid: 6.94e-01 |: 100%|█████| 60/60 [01:33<00:00,  1.55s/it]\n"
     ]
    },
    {
     "name": "stdout",
     "output_type": "stream",
     "text": [
      "saving model version 0.1\n",
      "✅ Best validation Accuracy: 7.1429e-01 at 9 epoch\n",
      "avg_acc 0.692098081111908\n",
      "Testing 4 hidden neurons, lamb=0.0001, grid=5\n",
      "checkpoint directory created: ./model\n",
      "saving model version 0.0\n",
      "checkpoint directory created: ./model\n",
      "saving model version 0.0\n",
      "Successfully created and tested Model4\n"
     ]
    },
    {
     "name": "stderr",
     "output_type": "stream",
     "text": [
      " train_acc_hybrid: 7.95e-01 | val_acc_hybrid: 6.87e-01 |: 100%|█████| 60/60 [01:30<00:00,  1.51s/it]\n"
     ]
    },
    {
     "name": "stdout",
     "output_type": "stream",
     "text": [
      "saving model version 0.1\n",
      "✅ Best validation Accuracy: 7.1769e-01 at 3 epoch\n",
      "avg_acc 0.7029972672462463\n",
      "Testing 4 hidden neurons, lamb=1e-05, grid=5\n",
      "checkpoint directory created: ./model\n",
      "saving model version 0.0\n",
      "checkpoint directory created: ./model\n",
      "saving model version 0.0\n",
      "Successfully created and tested Model4\n"
     ]
    },
    {
     "name": "stderr",
     "output_type": "stream",
     "text": [
      " train_acc_hybrid: 7.88e-01 | val_acc_hybrid: 6.77e-01 |: 100%|█████| 60/60 [01:31<00:00,  1.53s/it]\n"
     ]
    },
    {
     "name": "stdout",
     "output_type": "stream",
     "text": [
      "saving model version 0.1\n",
      "✅ Best validation Accuracy: 7.2449e-01 at 7 epoch\n",
      "avg_acc 0.6784741282463074\n",
      "Testing 4 hidden neurons, lamb=1e-06, grid=5\n",
      "checkpoint directory created: ./model\n",
      "saving model version 0.0\n",
      "checkpoint directory created: ./model\n",
      "saving model version 0.0\n",
      "Successfully created and tested Model4\n"
     ]
    },
    {
     "name": "stderr",
     "output_type": "stream",
     "text": [
      " train_acc_hybrid: 8.00e-01 | val_acc_hybrid: 6.26e-01 |: 100%|█████| 60/60 [01:28<00:00,  1.47s/it]\n"
     ]
    },
    {
     "name": "stdout",
     "output_type": "stream",
     "text": [
      "saving model version 0.1\n",
      "✅ Best validation Accuracy: 7.2449e-01 at 20 epoch\n",
      "avg_acc 0.6975476741790771\n",
      "Testing 4 hidden neurons, lamb=1e-07, grid=5\n",
      "checkpoint directory created: ./model\n",
      "saving model version 0.0\n",
      "checkpoint directory created: ./model\n",
      "saving model version 0.0\n",
      "Successfully created and tested Model4\n"
     ]
    },
    {
     "name": "stderr",
     "output_type": "stream",
     "text": [
      " train_acc_hybrid: 8.01e-01 | val_acc_hybrid: 6.56e-01 |: 100%|█████| 60/60 [01:30<00:00,  1.51s/it]\n"
     ]
    },
    {
     "name": "stdout",
     "output_type": "stream",
     "text": [
      "saving model version 0.1\n",
      "✅ Best validation Accuracy: 7.2449e-01 at 9 epoch\n",
      "avg_acc 0.6839237213134766\n",
      "Testing 4 hidden neurons, lamb=0.01, grid=6\n",
      "checkpoint directory created: ./model\n",
      "saving model version 0.0\n",
      "checkpoint directory created: ./model\n",
      "saving model version 0.0\n",
      "Successfully created and tested Model4\n"
     ]
    },
    {
     "name": "stderr",
     "output_type": "stream",
     "text": [
      " train_acc_hybrid: 5.01e-01 | val_acc_hybrid: 5.03e-01 |: 100%|█████| 60/60 [01:09<00:00,  1.16s/it]\n"
     ]
    },
    {
     "name": "stdout",
     "output_type": "stream",
     "text": [
      "saving model version 0.1\n",
      "✅ Best validation Accuracy: 5.0340e-01 at 1 epoch\n",
      "avg_acc 0.5013623833656311\n",
      "Testing 4 hidden neurons, lamb=0.001, grid=6\n",
      "checkpoint directory created: ./model\n",
      "saving model version 0.0\n",
      "checkpoint directory created: ./model\n",
      "saving model version 0.0\n",
      "Successfully created and tested Model4\n"
     ]
    },
    {
     "name": "stderr",
     "output_type": "stream",
     "text": [
      " train_acc_hybrid: 7.76e-01 | val_acc_hybrid: 6.87e-01 |: 100%|█████| 60/60 [01:37<00:00,  1.63s/it]\n"
     ]
    },
    {
     "name": "stdout",
     "output_type": "stream",
     "text": [
      "saving model version 0.1\n",
      "✅ Best validation Accuracy: 7.0068e-01 at 5 epoch\n",
      "avg_acc 0.7138964533805847\n",
      "Testing 4 hidden neurons, lamb=0.0001, grid=6\n",
      "checkpoint directory created: ./model\n",
      "saving model version 0.0\n",
      "checkpoint directory created: ./model\n",
      "saving model version 0.0\n",
      "Successfully created and tested Model4\n"
     ]
    },
    {
     "name": "stderr",
     "output_type": "stream",
     "text": [
      " train_acc_hybrid: 8.06e-01 | val_acc_hybrid: 6.46e-01 |: 100%|█████| 60/60 [01:34<00:00,  1.58s/it]\n"
     ]
    },
    {
     "name": "stdout",
     "output_type": "stream",
     "text": [
      "saving model version 0.1\n",
      "✅ Best validation Accuracy: 7.1088e-01 at 5 epoch\n",
      "avg_acc 0.6975476741790771\n",
      "Testing 4 hidden neurons, lamb=1e-05, grid=6\n",
      "checkpoint directory created: ./model\n",
      "saving model version 0.0\n",
      "checkpoint directory created: ./model\n",
      "saving model version 0.0\n",
      "Successfully created and tested Model4\n"
     ]
    },
    {
     "name": "stderr",
     "output_type": "stream",
     "text": [
      " train_acc_hybrid: 8.27e-01 | val_acc_hybrid: 6.53e-01 |: 100%|█████| 60/60 [01:35<00:00,  1.60s/it]\n"
     ]
    },
    {
     "name": "stdout",
     "output_type": "stream",
     "text": [
      "saving model version 0.1\n",
      "✅ Best validation Accuracy: 7.0748e-01 at 4 epoch\n",
      "avg_acc 0.6893733143806458\n",
      "Testing 4 hidden neurons, lamb=1e-06, grid=6\n",
      "checkpoint directory created: ./model\n",
      "saving model version 0.0\n",
      "checkpoint directory created: ./model\n",
      "saving model version 0.0\n",
      "Successfully created and tested Model4\n"
     ]
    },
    {
     "name": "stderr",
     "output_type": "stream",
     "text": [
      " train_acc_hybrid: 7.93e-01 | val_acc_hybrid: 6.94e-01 |: 100%|█████| 60/60 [01:37<00:00,  1.62s/it]\n"
     ]
    },
    {
     "name": "stdout",
     "output_type": "stream",
     "text": [
      "saving model version 0.1\n",
      "✅ Best validation Accuracy: 7.2449e-01 at 47 epoch\n",
      "avg_acc 0.6594005227088928\n",
      "Testing 4 hidden neurons, lamb=1e-07, grid=6\n",
      "checkpoint directory created: ./model\n",
      "saving model version 0.0\n",
      "checkpoint directory created: ./model\n",
      "saving model version 0.0\n",
      "Successfully created and tested Model4\n"
     ]
    },
    {
     "name": "stderr",
     "output_type": "stream",
     "text": [
      " train_acc_hybrid: 8.21e-01 | val_acc_hybrid: 6.39e-01 |: 100%|█████| 60/60 [01:36<00:00,  1.60s/it]\n"
     ]
    },
    {
     "name": "stdout",
     "output_type": "stream",
     "text": [
      "saving model version 0.1\n",
      "✅ Best validation Accuracy: 7.0748e-01 at 7 epoch\n",
      "avg_acc 0.667574942111969\n",
      "Testing 4 hidden neurons, lamb=0.01, grid=7\n",
      "checkpoint directory created: ./model\n",
      "saving model version 0.0\n",
      "checkpoint directory created: ./model\n",
      "saving model version 0.0\n",
      "Successfully created and tested Model4\n"
     ]
    },
    {
     "name": "stderr",
     "output_type": "stream",
     "text": [
      " train_acc_hybrid: 5.01e-01 | val_acc_hybrid: 5.03e-01 |: 100%|█████| 60/60 [01:11<00:00,  1.20s/it]\n"
     ]
    },
    {
     "name": "stdout",
     "output_type": "stream",
     "text": [
      "saving model version 0.1\n",
      "✅ Best validation Accuracy: 5.0340e-01 at 0 epoch\n",
      "avg_acc 0.5013623833656311\n",
      "Testing 4 hidden neurons, lamb=0.001, grid=7\n",
      "checkpoint directory created: ./model\n",
      "saving model version 0.0\n",
      "checkpoint directory created: ./model\n",
      "saving model version 0.0\n",
      "Successfully created and tested Model4\n"
     ]
    },
    {
     "name": "stderr",
     "output_type": "stream",
     "text": [
      " train_acc_hybrid: 8.11e-01 | val_acc_hybrid: 6.80e-01 |: 100%|█████| 60/60 [01:41<00:00,  1.69s/it]\n"
     ]
    },
    {
     "name": "stdout",
     "output_type": "stream",
     "text": [
      "saving model version 0.1\n",
      "✅ Best validation Accuracy: 7.1769e-01 at 12 epoch\n",
      "avg_acc 0.7029972672462463\n",
      "Testing 4 hidden neurons, lamb=0.0001, grid=7\n",
      "checkpoint directory created: ./model\n",
      "saving model version 0.0\n",
      "checkpoint directory created: ./model\n",
      "saving model version 0.0\n",
      "Successfully created and tested Model4\n"
     ]
    },
    {
     "name": "stderr",
     "output_type": "stream",
     "text": [
      " train_acc_hybrid: 8.20e-01 | val_acc_hybrid: 6.90e-01 |: 100%|█████| 60/60 [01:42<00:00,  1.70s/it]\n"
     ]
    },
    {
     "name": "stdout",
     "output_type": "stream",
     "text": [
      "saving model version 0.1\n",
      "✅ Best validation Accuracy: 7.1769e-01 at 7 epoch\n",
      "avg_acc 0.6757493019104004\n",
      "Testing 4 hidden neurons, lamb=1e-05, grid=7\n",
      "checkpoint directory created: ./model\n",
      "saving model version 0.0\n",
      "checkpoint directory created: ./model\n",
      "saving model version 0.0\n",
      "Successfully created and tested Model4\n"
     ]
    },
    {
     "name": "stderr",
     "output_type": "stream",
     "text": [
      " train_acc_hybrid: 8.06e-01 | val_acc_hybrid: 6.56e-01 |: 100%|█████| 60/60 [01:42<00:00,  1.71s/it]\n"
     ]
    },
    {
     "name": "stdout",
     "output_type": "stream",
     "text": [
      "saving model version 0.1\n",
      "✅ Best validation Accuracy: 7.2789e-01 at 10 epoch\n",
      "avg_acc 0.6948229074478149\n",
      "Testing 4 hidden neurons, lamb=1e-06, grid=7\n",
      "checkpoint directory created: ./model\n",
      "saving model version 0.0\n",
      "checkpoint directory created: ./model\n",
      "saving model version 0.0\n",
      "Successfully created and tested Model4\n"
     ]
    },
    {
     "name": "stderr",
     "output_type": "stream",
     "text": [
      " train_acc_hybrid: 8.40e-01 | val_acc_hybrid: 6.22e-01 |: 100%|█████| 60/60 [01:39<00:00,  1.65s/it]\n"
     ]
    },
    {
     "name": "stdout",
     "output_type": "stream",
     "text": [
      "saving model version 0.1\n",
      "✅ Best validation Accuracy: 7.1088e-01 at 9 epoch\n",
      "avg_acc 0.7002724409103394\n",
      "Testing 4 hidden neurons, lamb=1e-07, grid=7\n",
      "checkpoint directory created: ./model\n",
      "saving model version 0.0\n",
      "checkpoint directory created: ./model\n",
      "saving model version 0.0\n",
      "Successfully created and tested Model4\n"
     ]
    },
    {
     "name": "stderr",
     "output_type": "stream",
     "text": [
      " train_acc_hybrid: 8.51e-01 | val_acc_hybrid: 6.87e-01 |: 100%|█████| 60/60 [01:37<00:00,  1.63s/it]\n"
     ]
    },
    {
     "name": "stdout",
     "output_type": "stream",
     "text": [
      "saving model version 0.1\n",
      "✅ Best validation Accuracy: 7.1429e-01 at 6 epoch\n",
      "avg_acc 0.7138964533805847\n",
      "Testing 4 hidden neurons, lamb=0.01, grid=8\n",
      "checkpoint directory created: ./model\n",
      "saving model version 0.0\n",
      "checkpoint directory created: ./model\n",
      "saving model version 0.0\n",
      "Successfully created and tested Model4\n"
     ]
    },
    {
     "name": "stderr",
     "output_type": "stream",
     "text": [
      " train_acc_hybrid: 5.01e-01 | val_acc_hybrid: 5.03e-01 |: 100%|█████| 60/60 [01:28<00:00,  1.47s/it]\n"
     ]
    },
    {
     "name": "stdout",
     "output_type": "stream",
     "text": [
      "saving model version 0.1\n",
      "✅ Best validation Accuracy: 5.0340e-01 at 0 epoch\n",
      "avg_acc 0.5013623833656311\n",
      "Testing 4 hidden neurons, lamb=0.001, grid=8\n",
      "checkpoint directory created: ./model\n",
      "saving model version 0.0\n",
      "checkpoint directory created: ./model\n",
      "saving model version 0.0\n",
      "Successfully created and tested Model4\n"
     ]
    },
    {
     "name": "stderr",
     "output_type": "stream",
     "text": [
      " train_acc_hybrid: 7.75e-01 | val_acc_hybrid: 7.04e-01 |: 100%|█████| 60/60 [01:54<00:00,  1.91s/it]\n"
     ]
    },
    {
     "name": "stdout",
     "output_type": "stream",
     "text": [
      "saving model version 0.1\n",
      "✅ Best validation Accuracy: 7.1429e-01 at 24 epoch\n",
      "avg_acc 0.6948229074478149\n",
      "Testing 4 hidden neurons, lamb=0.0001, grid=8\n",
      "checkpoint directory created: ./model\n",
      "saving model version 0.0\n",
      "checkpoint directory created: ./model\n",
      "saving model version 0.0\n",
      "Successfully created and tested Model4\n"
     ]
    },
    {
     "name": "stderr",
     "output_type": "stream",
     "text": [
      " train_acc_hybrid: 8.21e-01 | val_acc_hybrid: 6.87e-01 |: 100%|█████| 60/60 [01:45<00:00,  1.76s/it]\n"
     ]
    },
    {
     "name": "stdout",
     "output_type": "stream",
     "text": [
      "saving model version 0.1\n",
      "✅ Best validation Accuracy: 7.2789e-01 at 11 epoch\n",
      "avg_acc 0.6893733143806458\n",
      "Testing 4 hidden neurons, lamb=1e-05, grid=8\n",
      "checkpoint directory created: ./model\n",
      "saving model version 0.0\n",
      "checkpoint directory created: ./model\n",
      "saving model version 0.0\n",
      "Successfully created and tested Model4\n"
     ]
    },
    {
     "name": "stderr",
     "output_type": "stream",
     "text": [
      " train_acc_hybrid: 8.11e-01 | val_acc_hybrid: 6.67e-01 |: 100%|█████| 60/60 [01:45<00:00,  1.77s/it]\n"
     ]
    },
    {
     "name": "stdout",
     "output_type": "stream",
     "text": [
      "saving model version 0.1\n",
      "✅ Best validation Accuracy: 7.2789e-01 at 11 epoch\n",
      "avg_acc 0.6948229074478149\n",
      "Testing 4 hidden neurons, lamb=1e-06, grid=8\n",
      "checkpoint directory created: ./model\n",
      "saving model version 0.0\n",
      "checkpoint directory created: ./model\n",
      "saving model version 0.0\n",
      "Successfully created and tested Model4\n"
     ]
    },
    {
     "name": "stderr",
     "output_type": "stream",
     "text": [
      " train_acc_hybrid: 8.10e-01 | val_acc_hybrid: 6.94e-01 |: 100%|█████| 60/60 [01:47<00:00,  1.78s/it]\n"
     ]
    },
    {
     "name": "stdout",
     "output_type": "stream",
     "text": [
      "saving model version 0.1\n",
      "✅ Best validation Accuracy: 7.2789e-01 at 12 epoch\n",
      "avg_acc 0.7138964533805847\n",
      "Testing 4 hidden neurons, lamb=1e-07, grid=8\n",
      "checkpoint directory created: ./model\n",
      "saving model version 0.0\n",
      "checkpoint directory created: ./model\n",
      "saving model version 0.0\n",
      "Successfully created and tested Model4\n"
     ]
    },
    {
     "name": "stderr",
     "output_type": "stream",
     "text": [
      " train_acc_hybrid: 8.52e-01 | val_acc_hybrid: 6.97e-01 |: 100%|█████| 60/60 [01:44<00:00,  1.75s/it]\n"
     ]
    },
    {
     "name": "stdout",
     "output_type": "stream",
     "text": [
      "saving model version 0.1\n",
      "✅ Best validation Accuracy: 7.2449e-01 at 8 epoch\n",
      "avg_acc 0.6866484880447388\n",
      "Testing 5 hidden neurons, lamb=0.01, grid=3\n",
      "checkpoint directory created: ./model\n",
      "saving model version 0.0\n",
      "checkpoint directory created: ./model\n",
      "saving model version 0.0\n",
      "Successfully created and tested Model4\n"
     ]
    },
    {
     "name": "stderr",
     "output_type": "stream",
     "text": [
      " train_acc_hybrid: 5.01e-01 | val_acc_hybrid: 5.07e-01 |: 100%|█████| 60/60 [00:59<00:00,  1.02it/s]\n"
     ]
    },
    {
     "name": "stdout",
     "output_type": "stream",
     "text": [
      "saving model version 0.1\n",
      "✅ Best validation Accuracy: 5.1020e-01 at 0 epoch\n",
      "avg_acc 0.47138965129852295\n",
      "Testing 5 hidden neurons, lamb=0.001, grid=3\n",
      "checkpoint directory created: ./model\n",
      "saving model version 0.0\n",
      "checkpoint directory created: ./model\n",
      "saving model version 0.0\n",
      "Successfully created and tested Model4\n"
     ]
    },
    {
     "name": "stderr",
     "output_type": "stream",
     "text": [
      " train_acc_hybrid: 7.61e-01 | val_acc_hybrid: 6.87e-01 |: 100%|█████| 60/60 [01:19<00:00,  1.33s/it]\n"
     ]
    },
    {
     "name": "stdout",
     "output_type": "stream",
     "text": [
      "saving model version 0.1\n",
      "✅ Best validation Accuracy: 7.1429e-01 at 32 epoch\n",
      "avg_acc 0.6811988949775696\n",
      "Testing 5 hidden neurons, lamb=0.0001, grid=3\n",
      "checkpoint directory created: ./model\n",
      "saving model version 0.0\n",
      "checkpoint directory created: ./model\n",
      "saving model version 0.0\n",
      "Successfully created and tested Model4\n"
     ]
    },
    {
     "name": "stderr",
     "output_type": "stream",
     "text": [
      " train_acc_hybrid: 7.70e-01 | val_acc_hybrid: 6.63e-01 |: 100%|█████| 60/60 [01:22<00:00,  1.37s/it]\n"
     ]
    },
    {
     "name": "stdout",
     "output_type": "stream",
     "text": [
      "saving model version 0.1\n",
      "✅ Best validation Accuracy: 7.2789e-01 at 5 epoch\n",
      "avg_acc 0.7166212201118469\n",
      "Testing 5 hidden neurons, lamb=1e-05, grid=3\n",
      "checkpoint directory created: ./model\n",
      "saving model version 0.0\n",
      "checkpoint directory created: ./model\n",
      "saving model version 0.0\n",
      "Successfully created and tested Model4\n"
     ]
    },
    {
     "name": "stderr",
     "output_type": "stream",
     "text": [
      " train_acc_hybrid: 7.89e-01 | val_acc_hybrid: 6.94e-01 |: 100%|█████| 60/60 [01:17<00:00,  1.30s/it]\n"
     ]
    },
    {
     "name": "stdout",
     "output_type": "stream",
     "text": [
      "saving model version 0.1\n",
      "✅ Best validation Accuracy: 7.3469e-01 at 8 epoch\n",
      "avg_acc 0.6948229074478149\n",
      "Testing 5 hidden neurons, lamb=1e-06, grid=3\n",
      "checkpoint directory created: ./model\n",
      "saving model version 0.0\n",
      "checkpoint directory created: ./model\n",
      "saving model version 0.0\n",
      "Successfully created and tested Model4\n"
     ]
    },
    {
     "name": "stderr",
     "output_type": "stream",
     "text": [
      " train_acc_hybrid: 7.70e-01 | val_acc_hybrid: 6.80e-01 |: 100%|█████| 60/60 [01:18<00:00,  1.31s/it]\n"
     ]
    },
    {
     "name": "stdout",
     "output_type": "stream",
     "text": [
      "saving model version 0.1\n",
      "✅ Best validation Accuracy: 7.2789e-01 at 22 epoch\n",
      "avg_acc 0.692098081111908\n",
      "Testing 5 hidden neurons, lamb=1e-07, grid=3\n",
      "checkpoint directory created: ./model\n",
      "saving model version 0.0\n",
      "checkpoint directory created: ./model\n",
      "saving model version 0.0\n",
      "Successfully created and tested Model4\n"
     ]
    },
    {
     "name": "stderr",
     "output_type": "stream",
     "text": [
      " train_acc_hybrid: 7.76e-01 | val_acc_hybrid: 7.14e-01 |: 100%|█████| 60/60 [01:20<00:00,  1.33s/it]\n"
     ]
    },
    {
     "name": "stdout",
     "output_type": "stream",
     "text": [
      "saving model version 0.1\n",
      "✅ Best validation Accuracy: 7.1429e-01 at 59 epoch\n",
      "avg_acc 0.6539509296417236\n",
      "Testing 5 hidden neurons, lamb=0.01, grid=4\n",
      "checkpoint directory created: ./model\n",
      "saving model version 0.0\n",
      "checkpoint directory created: ./model\n",
      "saving model version 0.0\n",
      "Successfully created and tested Model4\n"
     ]
    },
    {
     "name": "stderr",
     "output_type": "stream",
     "text": [
      " train_acc_hybrid: 5.01e-01 | val_acc_hybrid: 5.03e-01 |: 100%|█████| 60/60 [01:03<00:00,  1.05s/it]\n"
     ]
    },
    {
     "name": "stdout",
     "output_type": "stream",
     "text": [
      "saving model version 0.1\n",
      "✅ Best validation Accuracy: 5.0340e-01 at 1 epoch\n",
      "avg_acc 0.5013623833656311\n",
      "Testing 5 hidden neurons, lamb=0.001, grid=4\n",
      "checkpoint directory created: ./model\n",
      "saving model version 0.0\n",
      "checkpoint directory created: ./model\n",
      "saving model version 0.0\n",
      "Successfully created and tested Model4\n"
     ]
    },
    {
     "name": "stderr",
     "output_type": "stream",
     "text": [
      " train_acc_hybrid: 7.76e-01 | val_acc_hybrid: 7.14e-01 |: 100%|█████| 60/60 [01:27<00:00,  1.45s/it]\n"
     ]
    },
    {
     "name": "stdout",
     "output_type": "stream",
     "text": [
      "saving model version 0.1\n",
      "✅ Best validation Accuracy: 7.3129e-01 at 44 epoch\n",
      "avg_acc 0.6702997088432312\n",
      "Testing 5 hidden neurons, lamb=0.0001, grid=4\n",
      "checkpoint directory created: ./model\n",
      "saving model version 0.0\n",
      "checkpoint directory created: ./model\n",
      "saving model version 0.0\n",
      "Successfully created and tested Model4\n"
     ]
    },
    {
     "name": "stderr",
     "output_type": "stream",
     "text": [
      " train_acc_hybrid: 7.88e-01 | val_acc_hybrid: 6.80e-01 |: 100%|█████| 60/60 [01:25<00:00,  1.42s/it]\n"
     ]
    },
    {
     "name": "stdout",
     "output_type": "stream",
     "text": [
      "saving model version 0.1\n",
      "✅ Best validation Accuracy: 7.1429e-01 at 8 epoch\n",
      "avg_acc 0.7138964533805847\n",
      "Testing 5 hidden neurons, lamb=1e-05, grid=4\n",
      "checkpoint directory created: ./model\n",
      "saving model version 0.0\n",
      "checkpoint directory created: ./model\n",
      "saving model version 0.0\n",
      "Successfully created and tested Model4\n"
     ]
    },
    {
     "name": "stderr",
     "output_type": "stream",
     "text": [
      " train_acc_hybrid: 7.93e-01 | val_acc_hybrid: 7.24e-01 |: 100%|█████| 60/60 [01:23<00:00,  1.38s/it]\n"
     ]
    },
    {
     "name": "stdout",
     "output_type": "stream",
     "text": [
      "saving model version 0.1\n",
      "✅ Best validation Accuracy: 7.3469e-01 at 42 epoch\n",
      "avg_acc 0.6948229074478149\n",
      "Testing 5 hidden neurons, lamb=1e-06, grid=4\n",
      "checkpoint directory created: ./model\n",
      "saving model version 0.0\n",
      "checkpoint directory created: ./model\n",
      "saving model version 0.0\n",
      "Successfully created and tested Model4\n"
     ]
    },
    {
     "name": "stderr",
     "output_type": "stream",
     "text": [
      " train_acc_hybrid: 7.66e-01 | val_acc_hybrid: 7.18e-01 |: 100%|█████| 60/60 [01:28<00:00,  1.47s/it]\n"
     ]
    },
    {
     "name": "stdout",
     "output_type": "stream",
     "text": [
      "saving model version 0.1\n",
      "✅ Best validation Accuracy: 7.3810e-01 at 7 epoch\n",
      "avg_acc 0.7084468603134155\n",
      "Testing 5 hidden neurons, lamb=1e-07, grid=4\n",
      "checkpoint directory created: ./model\n",
      "saving model version 0.0\n",
      "checkpoint directory created: ./model\n",
      "saving model version 0.0\n",
      "Successfully created and tested Model4\n"
     ]
    },
    {
     "name": "stderr",
     "output_type": "stream",
     "text": [
      " train_acc_hybrid: 7.86e-01 | val_acc_hybrid: 6.97e-01 |: 100%|█████| 60/60 [01:27<00:00,  1.46s/it]\n"
     ]
    },
    {
     "name": "stdout",
     "output_type": "stream",
     "text": [
      "saving model version 0.1\n",
      "✅ Best validation Accuracy: 7.2449e-01 at 6 epoch\n",
      "avg_acc 0.692098081111908\n",
      "Testing 5 hidden neurons, lamb=0.01, grid=5\n",
      "checkpoint directory created: ./model\n",
      "saving model version 0.0\n",
      "checkpoint directory created: ./model\n",
      "saving model version 0.0\n",
      "Successfully created and tested Model4\n"
     ]
    },
    {
     "name": "stderr",
     "output_type": "stream",
     "text": [
      " train_acc_hybrid: 5.01e-01 | val_acc_hybrid: 5.07e-01 |: 100%|█████| 60/60 [01:07<00:00,  1.13s/it]\n"
     ]
    },
    {
     "name": "stdout",
     "output_type": "stream",
     "text": [
      "saving model version 0.1\n",
      "✅ Best validation Accuracy: 5.0680e-01 at 7 epoch\n",
      "avg_acc 0.5013623833656311\n",
      "Testing 5 hidden neurons, lamb=0.001, grid=5\n",
      "checkpoint directory created: ./model\n",
      "saving model version 0.0\n",
      "checkpoint directory created: ./model\n",
      "saving model version 0.0\n",
      "Successfully created and tested Model4\n"
     ]
    },
    {
     "name": "stderr",
     "output_type": "stream",
     "text": [
      " train_acc_hybrid: 7.87e-01 | val_acc_hybrid: 6.80e-01 |: 100%|█████| 60/60 [01:31<00:00,  1.53s/it]\n"
     ]
    },
    {
     "name": "stdout",
     "output_type": "stream",
     "text": [
      "saving model version 0.1\n",
      "✅ Best validation Accuracy: 7.0748e-01 at 16 epoch\n",
      "avg_acc 0.6975476741790771\n",
      "Testing 5 hidden neurons, lamb=0.0001, grid=5\n",
      "checkpoint directory created: ./model\n",
      "saving model version 0.0\n",
      "checkpoint directory created: ./model\n",
      "saving model version 0.0\n",
      "Successfully created and tested Model4\n"
     ]
    },
    {
     "name": "stderr",
     "output_type": "stream",
     "text": [
      " train_acc_hybrid: 7.76e-01 | val_acc_hybrid: 6.90e-01 |: 100%|█████| 60/60 [01:31<00:00,  1.53s/it]\n"
     ]
    },
    {
     "name": "stdout",
     "output_type": "stream",
     "text": [
      "saving model version 0.1\n",
      "✅ Best validation Accuracy: 7.1088e-01 at 12 epoch\n",
      "avg_acc 0.7166212201118469\n",
      "Testing 5 hidden neurons, lamb=1e-05, grid=5\n",
      "checkpoint directory created: ./model\n",
      "saving model version 0.0\n",
      "checkpoint directory created: ./model\n",
      "saving model version 0.0\n",
      "Successfully created and tested Model4\n"
     ]
    },
    {
     "name": "stderr",
     "output_type": "stream",
     "text": [
      " train_acc_hybrid: 7.90e-01 | val_acc_hybrid: 6.87e-01 |: 100%|█████| 60/60 [01:33<00:00,  1.56s/it]\n"
     ]
    },
    {
     "name": "stdout",
     "output_type": "stream",
     "text": [
      "saving model version 0.1\n",
      "✅ Best validation Accuracy: 7.2449e-01 at 15 epoch\n",
      "avg_acc 0.6811988949775696\n",
      "Testing 5 hidden neurons, lamb=1e-06, grid=5\n",
      "checkpoint directory created: ./model\n",
      "saving model version 0.0\n",
      "checkpoint directory created: ./model\n",
      "saving model version 0.0\n",
      "Successfully created and tested Model4\n"
     ]
    },
    {
     "name": "stderr",
     "output_type": "stream",
     "text": [
      " train_acc_hybrid: 7.89e-01 | val_acc_hybrid: 6.56e-01 |: 100%|█████| 60/60 [01:30<00:00,  1.52s/it]\n"
     ]
    },
    {
     "name": "stdout",
     "output_type": "stream",
     "text": [
      "saving model version 0.1\n",
      "✅ Best validation Accuracy: 7.1429e-01 at 6 epoch\n",
      "avg_acc 0.6839237213134766\n",
      "Testing 5 hidden neurons, lamb=1e-07, grid=5\n",
      "checkpoint directory created: ./model\n",
      "saving model version 0.0\n",
      "checkpoint directory created: ./model\n",
      "saving model version 0.0\n",
      "Successfully created and tested Model4\n"
     ]
    },
    {
     "name": "stderr",
     "output_type": "stream",
     "text": [
      " train_acc_hybrid: 7.83e-01 | val_acc_hybrid: 6.87e-01 |: 100%|█████| 60/60 [01:31<00:00,  1.53s/it]\n"
     ]
    },
    {
     "name": "stdout",
     "output_type": "stream",
     "text": [
      "saving model version 0.1\n",
      "✅ Best validation Accuracy: 7.3469e-01 at 12 epoch\n",
      "avg_acc 0.6893733143806458\n",
      "Testing 5 hidden neurons, lamb=0.01, grid=6\n",
      "checkpoint directory created: ./model\n",
      "saving model version 0.0\n",
      "checkpoint directory created: ./model\n",
      "saving model version 0.0\n",
      "Successfully created and tested Model4\n"
     ]
    },
    {
     "name": "stderr",
     "output_type": "stream",
     "text": [
      " train_acc_hybrid: 5.01e-01 | val_acc_hybrid: 5.03e-01 |: 100%|█████| 60/60 [01:14<00:00,  1.24s/it]\n"
     ]
    },
    {
     "name": "stdout",
     "output_type": "stream",
     "text": [
      "saving model version 0.1\n",
      "✅ Best validation Accuracy: 5.0680e-01 at 6 epoch\n",
      "avg_acc 0.5013623833656311\n",
      "Testing 5 hidden neurons, lamb=0.001, grid=6\n",
      "checkpoint directory created: ./model\n",
      "saving model version 0.0\n",
      "checkpoint directory created: ./model\n",
      "saving model version 0.0\n",
      "Successfully created and tested Model4\n"
     ]
    },
    {
     "name": "stderr",
     "output_type": "stream",
     "text": [
      " train_acc_hybrid: 7.94e-01 | val_acc_hybrid: 7.01e-01 |: 100%|█████| 60/60 [01:38<00:00,  1.64s/it]\n"
     ]
    },
    {
     "name": "stdout",
     "output_type": "stream",
     "text": [
      "saving model version 0.1\n",
      "✅ Best validation Accuracy: 7.1769e-01 at 9 epoch\n",
      "avg_acc 0.7002724409103394\n",
      "Testing 5 hidden neurons, lamb=0.0001, grid=6\n",
      "checkpoint directory created: ./model\n",
      "saving model version 0.0\n",
      "checkpoint directory created: ./model\n",
      "saving model version 0.0\n",
      "Successfully created and tested Model4\n"
     ]
    },
    {
     "name": "stderr",
     "output_type": "stream",
     "text": [
      " train_acc_hybrid: 8.14e-01 | val_acc_hybrid: 6.84e-01 |: 100%|█████| 60/60 [01:37<00:00,  1.62s/it]\n"
     ]
    },
    {
     "name": "stdout",
     "output_type": "stream",
     "text": [
      "saving model version 0.1\n",
      "✅ Best validation Accuracy: 7.2789e-01 at 10 epoch\n",
      "avg_acc 0.7356948256492615\n",
      "Testing 5 hidden neurons, lamb=1e-05, grid=6\n",
      "checkpoint directory created: ./model\n",
      "saving model version 0.0\n",
      "checkpoint directory created: ./model\n",
      "saving model version 0.0\n",
      "Successfully created and tested Model4\n"
     ]
    },
    {
     "name": "stderr",
     "output_type": "stream",
     "text": [
      " train_acc_hybrid: 8.07e-01 | val_acc_hybrid: 6.73e-01 |: 100%|█████| 60/60 [01:38<00:00,  1.64s/it]\n"
     ]
    },
    {
     "name": "stdout",
     "output_type": "stream",
     "text": [
      "saving model version 0.1\n",
      "✅ Best validation Accuracy: 7.2449e-01 at 7 epoch\n",
      "avg_acc 0.7111716270446777\n",
      "Testing 5 hidden neurons, lamb=1e-06, grid=6\n",
      "checkpoint directory created: ./model\n",
      "saving model version 0.0\n",
      "checkpoint directory created: ./model\n",
      "saving model version 0.0\n",
      "Successfully created and tested Model4\n"
     ]
    },
    {
     "name": "stderr",
     "output_type": "stream",
     "text": [
      " train_acc_hybrid: 8.45e-01 | val_acc_hybrid: 6.60e-01 |: 100%|█████| 60/60 [01:34<00:00,  1.58s/it]\n"
     ]
    },
    {
     "name": "stdout",
     "output_type": "stream",
     "text": [
      "saving model version 0.1\n",
      "✅ Best validation Accuracy: 7.3810e-01 at 7 epoch\n",
      "avg_acc 0.6866484880447388\n",
      "Testing 5 hidden neurons, lamb=1e-07, grid=6\n",
      "checkpoint directory created: ./model\n",
      "saving model version 0.0\n",
      "checkpoint directory created: ./model\n",
      "saving model version 0.0\n",
      "Successfully created and tested Model4\n"
     ]
    },
    {
     "name": "stderr",
     "output_type": "stream",
     "text": [
      " train_acc_hybrid: 7.97e-01 | val_acc_hybrid: 6.90e-01 |: 100%|█████| 60/60 [01:37<00:00,  1.62s/it]\n"
     ]
    },
    {
     "name": "stdout",
     "output_type": "stream",
     "text": [
      "saving model version 0.1\n",
      "✅ Best validation Accuracy: 7.2449e-01 at 6 epoch\n",
      "avg_acc 0.7002724409103394\n",
      "Testing 5 hidden neurons, lamb=0.01, grid=7\n",
      "checkpoint directory created: ./model\n",
      "saving model version 0.0\n",
      "checkpoint directory created: ./model\n",
      "saving model version 0.0\n",
      "Successfully created and tested Model4\n"
     ]
    },
    {
     "name": "stderr",
     "output_type": "stream",
     "text": [
      " train_acc_hybrid: 5.01e-01 | val_acc_hybrid: 5.03e-01 |: 100%|█████| 60/60 [01:08<00:00,  1.15s/it]\n"
     ]
    },
    {
     "name": "stdout",
     "output_type": "stream",
     "text": [
      "saving model version 0.1\n",
      "✅ Best validation Accuracy: 5.0340e-01 at 1 epoch\n",
      "avg_acc 0.5013623833656311\n",
      "Testing 5 hidden neurons, lamb=0.001, grid=7\n",
      "checkpoint directory created: ./model\n",
      "saving model version 0.0\n",
      "checkpoint directory created: ./model\n",
      "saving model version 0.0\n",
      "Successfully created and tested Model4\n"
     ]
    },
    {
     "name": "stderr",
     "output_type": "stream",
     "text": [
      " train_acc_hybrid: 7.79e-01 | val_acc_hybrid: 6.97e-01 |: 100%|█████| 60/60 [01:43<00:00,  1.73s/it]\n"
     ]
    },
    {
     "name": "stdout",
     "output_type": "stream",
     "text": [
      "saving model version 0.1\n",
      "✅ Best validation Accuracy: 7.2109e-01 at 9 epoch\n",
      "avg_acc 0.7002724409103394\n",
      "Testing 5 hidden neurons, lamb=0.0001, grid=7\n",
      "checkpoint directory created: ./model\n",
      "saving model version 0.0\n",
      "checkpoint directory created: ./model\n",
      "saving model version 0.0\n",
      "Successfully created and tested Model4\n"
     ]
    },
    {
     "name": "stderr",
     "output_type": "stream",
     "text": [
      " train_acc_hybrid: 8.28e-01 | val_acc_hybrid: 6.80e-01 |: 100%|█████| 60/60 [01:41<00:00,  1.70s/it]\n"
     ]
    },
    {
     "name": "stdout",
     "output_type": "stream",
     "text": [
      "saving model version 0.1\n",
      "✅ Best validation Accuracy: 7.3129e-01 at 11 epoch\n",
      "avg_acc 0.6866484880447388\n",
      "Testing 5 hidden neurons, lamb=1e-05, grid=7\n",
      "checkpoint directory created: ./model\n",
      "saving model version 0.0\n",
      "checkpoint directory created: ./model\n",
      "saving model version 0.0\n",
      "Successfully created and tested Model4\n"
     ]
    },
    {
     "name": "stderr",
     "output_type": "stream",
     "text": [
      " train_acc_hybrid: 8.12e-01 | val_acc_hybrid: 6.63e-01 |: 100%|█████| 60/60 [01:41<00:00,  1.69s/it]\n"
     ]
    },
    {
     "name": "stdout",
     "output_type": "stream",
     "text": [
      "saving model version 0.1\n",
      "✅ Best validation Accuracy: 7.2449e-01 at 9 epoch\n",
      "avg_acc 0.7138964533805847\n",
      "Testing 5 hidden neurons, lamb=1e-06, grid=7\n",
      "checkpoint directory created: ./model\n",
      "saving model version 0.0\n",
      "checkpoint directory created: ./model\n",
      "saving model version 0.0\n",
      "Successfully created and tested Model4\n"
     ]
    },
    {
     "name": "stderr",
     "output_type": "stream",
     "text": [
      " train_acc_hybrid: 8.33e-01 | val_acc_hybrid: 6.56e-01 |: 100%|█████| 60/60 [01:42<00:00,  1.70s/it]\n"
     ]
    },
    {
     "name": "stdout",
     "output_type": "stream",
     "text": [
      "saving model version 0.1\n",
      "✅ Best validation Accuracy: 7.2789e-01 at 7 epoch\n",
      "avg_acc 0.7029972672462463\n",
      "Testing 5 hidden neurons, lamb=1e-07, grid=7\n",
      "checkpoint directory created: ./model\n",
      "saving model version 0.0\n",
      "checkpoint directory created: ./model\n",
      "saving model version 0.0\n",
      "Successfully created and tested Model4\n"
     ]
    },
    {
     "name": "stderr",
     "output_type": "stream",
     "text": [
      " train_acc_hybrid: 8.26e-01 | val_acc_hybrid: 6.80e-01 |: 100%|█████| 60/60 [01:41<00:00,  1.70s/it]\n"
     ]
    },
    {
     "name": "stdout",
     "output_type": "stream",
     "text": [
      "saving model version 0.1\n",
      "✅ Best validation Accuracy: 7.2109e-01 at 8 epoch\n",
      "avg_acc 0.7057220339775085\n",
      "Testing 5 hidden neurons, lamb=0.01, grid=8\n",
      "checkpoint directory created: ./model\n",
      "saving model version 0.0\n",
      "checkpoint directory created: ./model\n",
      "saving model version 0.0\n",
      "Successfully created and tested Model4\n"
     ]
    },
    {
     "name": "stderr",
     "output_type": "stream",
     "text": [
      " train_acc_hybrid: 5.01e-01 | val_acc_hybrid: 5.03e-01 |: 100%|█████| 60/60 [01:11<00:00,  1.19s/it]\n"
     ]
    },
    {
     "name": "stdout",
     "output_type": "stream",
     "text": [
      "saving model version 0.1\n",
      "✅ Best validation Accuracy: 5.2721e-01 at 0 epoch\n",
      "avg_acc 0.5476838946342468\n",
      "Testing 5 hidden neurons, lamb=0.001, grid=8\n",
      "checkpoint directory created: ./model\n",
      "saving model version 0.0\n",
      "checkpoint directory created: ./model\n",
      "saving model version 0.0\n",
      "Successfully created and tested Model4\n"
     ]
    },
    {
     "name": "stderr",
     "output_type": "stream",
     "text": [
      " train_acc_hybrid: 8.16e-01 | val_acc_hybrid: 6.56e-01 |: 100%|█████| 60/60 [01:51<00:00,  1.85s/it]\n"
     ]
    },
    {
     "name": "stdout",
     "output_type": "stream",
     "text": [
      "saving model version 0.1\n",
      "✅ Best validation Accuracy: 7.2789e-01 at 9 epoch\n",
      "avg_acc 0.6975476741790771\n",
      "Testing 5 hidden neurons, lamb=0.0001, grid=8\n",
      "checkpoint directory created: ./model\n",
      "saving model version 0.0\n",
      "checkpoint directory created: ./model\n",
      "saving model version 0.0\n",
      "Successfully created and tested Model4\n"
     ]
    },
    {
     "name": "stderr",
     "output_type": "stream",
     "text": [
      " train_acc_hybrid: 8.40e-01 | val_acc_hybrid: 6.84e-01 |: 100%|█████| 60/60 [01:45<00:00,  1.76s/it]\n"
     ]
    },
    {
     "name": "stdout",
     "output_type": "stream",
     "text": [
      "saving model version 0.1\n",
      "✅ Best validation Accuracy: 7.2789e-01 at 5 epoch\n",
      "avg_acc 0.7138964533805847\n",
      "Testing 5 hidden neurons, lamb=1e-05, grid=8\n",
      "checkpoint directory created: ./model\n",
      "saving model version 0.0\n",
      "checkpoint directory created: ./model\n",
      "saving model version 0.0\n",
      "Successfully created and tested Model4\n"
     ]
    },
    {
     "name": "stderr",
     "output_type": "stream",
     "text": [
      " train_acc_hybrid: 8.64e-01 | val_acc_hybrid: 6.26e-01 |: 100%|█████| 60/60 [01:47<00:00,  1.79s/it]\n"
     ]
    },
    {
     "name": "stdout",
     "output_type": "stream",
     "text": [
      "saving model version 0.1\n",
      "✅ Best validation Accuracy: 7.0748e-01 at 3 epoch\n",
      "avg_acc 0.6948229074478149\n",
      "Testing 5 hidden neurons, lamb=1e-06, grid=8\n",
      "checkpoint directory created: ./model\n",
      "saving model version 0.0\n",
      "checkpoint directory created: ./model\n",
      "saving model version 0.0\n",
      "Successfully created and tested Model4\n"
     ]
    },
    {
     "name": "stderr",
     "output_type": "stream",
     "text": [
      " train_acc_hybrid: 9.04e-01 | val_acc_hybrid: 6.33e-01 |: 100%|█████| 60/60 [01:47<00:00,  1.78s/it]\n"
     ]
    },
    {
     "name": "stdout",
     "output_type": "stream",
     "text": [
      "saving model version 0.1\n",
      "✅ Best validation Accuracy: 7.0748e-01 at 4 epoch\n",
      "avg_acc 0.6839237213134766\n",
      "Testing 5 hidden neurons, lamb=1e-07, grid=8\n",
      "checkpoint directory created: ./model\n",
      "saving model version 0.0\n",
      "checkpoint directory created: ./model\n",
      "saving model version 0.0\n",
      "Successfully created and tested Model4\n"
     ]
    },
    {
     "name": "stderr",
     "output_type": "stream",
     "text": [
      " train_acc_hybrid: 8.98e-01 | val_acc_hybrid: 6.50e-01 |: 100%|█████| 60/60 [01:44<00:00,  1.74s/it]"
     ]
    },
    {
     "name": "stdout",
     "output_type": "stream",
     "text": [
      "saving model version 0.1\n",
      "✅ Best validation Accuracy: 7.2449e-01 at 4 epoch\n",
      "avg_acc 0.7002724409103394\n",
      "\n",
      "✅ Top 5 Configurations:\n",
      "1. width=[10, 2, 1], grid=4, lamb=0.0001| best_epoch=18 | avg_acc=0.73569\n",
      "2. width=[10, 5, 1], grid=6, lamb=0.0001| best_epoch=10 | avg_acc=0.73569\n",
      "3. width=[10, 1, 1], grid=4, lamb=1e-07| best_epoch=11 | avg_acc=0.73025\n",
      "4. width=[10, 1, 1], grid=3, lamb=1e-07| best_epoch=13 | avg_acc=0.72480\n",
      "5. width=[10, 1, 1], grid=3, lamb=1e-06| best_epoch=8 | avg_acc=0.71935\n"
     ]
    },
    {
     "name": "stderr",
     "output_type": "stream",
     "text": [
      "\n"
     ]
    }
   ],
   "source": [
    "grid_search_kan_hybrid(dataset, Model4, max_steps=60)"
   ]
  },
  {
   "cell_type": "markdown",
   "id": "a4b1e7a0-b8ba-4b90-857f-00bb5e989131",
   "metadata": {},
   "source": [
    "# ✅ Top 5 Configurations:\r\n",
    "1. width=[8, 2, 1], grid=5, lamb=0.01| best_epoch=6 | loss=3.22711\r\n",
    "2. width=[8, 1, 1], grid=5, lamb=0.01| best_epoch=5 | loss=3.22725\r\n",
    "3. width=[8, 1, 1], grid=4, lamb=0.01| best_epoch=4 | loss=3.23356\r\n",
    "4. width=[8, 4, 1], grid=3, lamb=0.1| best_epoch=5 | loss=3.23682\r\n",
    "5. width=[8, 4, 1], grid=4, lamb=0.0001| best_epoch=4 | loss=3.23696"
   ]
  },
  {
   "cell_type": "markdown",
   "id": "4bcb62f9",
   "metadata": {},
   "source": [
    "#"
   ]
  },
  {
   "cell_type": "code",
   "execution_count": 40,
   "id": "bb006f8d-3e84-4a4a-8844-16e761a9c77c",
   "metadata": {},
   "outputs": [],
   "source": [
    "kan_neurons=1\n",
    "kan_grid=6"
   ]
  },
  {
   "cell_type": "code",
   "execution_count": 41,
   "id": "990632b5-4317-4727-b1eb-b6043c9f2e01",
   "metadata": {},
   "outputs": [
    {
     "name": "stdout",
     "output_type": "stream",
     "text": [
      "checkpoint directory created: ./model\n",
      "saving model version 0.0\n",
      "checkpoint directory created: ./model\n",
      "saving model version 0.0\n",
      "Successfully created and tested Model4\n"
     ]
    },
    {
     "name": "stderr",
     "output_type": "stream",
     "text": [
      "| train_loss: 1.83e+00 | eval_loss: 4.24e+00 | reg: 7.66e+02 |: 100%|█| 40/40 [11:33<00:00, 17.33s/i\n"
     ]
    },
    {
     "name": "stdout",
     "output_type": "stream",
     "text": [
      "saving model version 0.1\n",
      "Best epoch 6\n",
      "3.258802890777588\n"
     ]
    },
    {
     "data": {
      "image/png": "[encoded data removed]",
      "text/plain": [
       "<Figure size 640x480 with 1 Axes>"
      ]
     },
     "metadata": {},
     "output_type": "display_data"
    }
   ],
   "source": [
    "model4 = try_create_model(Model4, attributes, imgs_shape, kan_neurons, kan_grid)  # Attempt to create Model4\n",
    "model_state, metrics4, best_epoch = fit_hybrid_dataloaders(model4, dataset, opt=\"LBFGS\", steps=40, lamb=1e-05)\n",
    "model4.load_state_dict(model_state)\n",
    "print(average_rmse(model4(dataset['test_input'], dataset['test_img']), dataset['test_label']))\n",
    "plt.plot(metrics4['train_loss'])\n",
    "plt.plot(metrics4['eval_loss'])\n",
    "plt.legend(['train', 'val'])\n",
    "plt.ylabel('RMSE')\n",
    "plt.xlabel('step')\n",
    "plt.yscale('log')"
   ]
  },
  {
   "cell_type": "code",
   "execution_count": 42,
   "id": "5b298274-d81a-433b-a4c9-e564961c93d5",
   "metadata": {},
   "outputs": [
    {
     "data": {
      "image/png": "[encoded data removed]",
      "text/plain": [
       "<Figure size 500x200 with 10 Axes>"
      ]
     },
     "metadata": {},
     "output_type": "display_data"
    }
   ],
   "source": [
    "model4.m_kan.plot()"
   ]
  },
  {
   "cell_type": "code",
   "execution_count": 43,
   "id": "6c7286db-69e9-4349-ab8d-4a169834d236",
   "metadata": {},
   "outputs": [
    {
     "data": {
      "image/png": "[encoded data removed]",
      "text/plain": [
       "<Figure size 500x200 with 1155 Axes>"
      ]
     },
     "metadata": {},
     "output_type": "display_data"
    }
   ],
   "source": [
    "model4.final_kan.plot()"
   ]
  },
  {
   "cell_type": "code",
   "execution_count": 44,
   "id": "d3e8de52-6318-400f-8715-721c48aaab19",
   "metadata": {},
   "outputs": [],
   "source": [
    "feature_score=model4.final_kan.feature_score"
   ]
  },
  {
   "cell_type": "code",
   "execution_count": 45,
   "id": "c9722a44-3c47-4b13-b309-9ec68b09227c",
   "metadata": {},
   "outputs": [
    {
     "ename": "NameError",
     "evalue": "name 'plot_mkan_vs_cnn_relevance' is not defined",
     "output_type": "error",
     "traceback": [
      "\u001b[1;31m---------------------------------------------------------------------------\u001b[0m",
      "\u001b[1;31mNameError\u001b[0m                                 Traceback (most recent call last)",
      "Cell \u001b[1;32mIn[45], line 1\u001b[0m\n\u001b[1;32m----> 1\u001b[0m plot_mkan_vs_cnn_relevance(feature_score, mkan_len\u001b[38;5;241m=\u001b[39mkan_neurons)\n",
      "\u001b[1;31mNameError\u001b[0m: name 'plot_mkan_vs_cnn_relevance' is not defined"
     ]
    }
   ],
   "source": [
    "plot_mkan_vs_cnn_relevance(feature_score, mkan_len=kan_neurons)"
   ]
  },
  {
   "cell_type": "markdown",
   "id": "9629993c-fa4a-4dc5-bbd9-d58bbfafebcb",
   "metadata": {},
   "source": [
    "# Bonus Hybrid"
   ]
  },
  {
   "cell_type": "code",
   "execution_count": null,
   "id": "5a7c1ae6-65c5-48a1-985b-4ea08cf660c6",
   "metadata": {},
   "outputs": [],
   "source": [
    "class Model5(nn.Module):\n",
    "    def __init__(self, imgs_shape, kan_grid=kan_grid, device=device):\n",
    "        super(Model5, self).__init__()\n",
    "        # CNN branch\n",
    "        self.cnn_branch = nn.Sequential(\n",
    "            nn.Conv2d(imgs_shape[0], 16, kernel_size=2, padding=1),\n",
    "            nn.LayerNorm([16, 9, 9]),\n",
    "            nn.ReLU(),\n",
    "            nn.MaxPool2d(2, 2),\n",
    "            nn.Conv2d(16, 32, kernel_size=2, padding=1),\n",
    "            nn.LayerNorm([32, 5, 5]),\n",
    "            nn.Sigmoid(),\n",
    "            #nn.MaxPool2d(2),\n",
    "            nn.Flatten()\n",
    "        ).to(device)\n",
    "\n",
    "        # Calculate the size of the flattened output\n",
    "        self.flat_size = self._get_flat_size(imgs_shape)\n",
    "\n",
    "        # Final MLP layers\n",
    "        self.final_kan = KAN(\n",
    "            width=[self.flat_size, 1],\n",
    "            grid=kan_grid,\n",
    "            k=3,\n",
    "            seed=SEED,\n",
    "            device=device\n",
    "        )\n",
    "\n",
    "        self.device = device\n",
    "\n",
    "\n",
    "    def _get_flat_size(self, imgs_shape):\n",
    "        # Forward pass with dummy input to calculate flat size\n",
    "        dummy_input = torch.zeros(4, *imgs_shape, device=device)\n",
    "        x = self.cnn_branch(dummy_input)\n",
    "        return x.size(1)\n",
    "\n",
    "    def get_concat_output(self, mlp_input, cnn_input):\n",
    "        # Ensure inputs are moved to the correct device\n",
    "        kan_input = mlp_input.to(self.device)\n",
    "        cnn_input = cnn_input.to(self.device)\n",
    "        \n",
    "        cnn_output = self.cnn_branch(cnn_input)  # Process image input\n",
    "        kan_output = self.m_kan(kan_input)  # Process numerical input\n",
    "        \n",
    "        return torch.cat((kan_output, cnn_output), dim=1)\n",
    "\n",
    "    \n",
    "    def forward(self, cnn_input):\n",
    "        cnn_input = cnn_input.to(self.device)\n",
    "        cnn_output = self.cnn_branch(cnn_input)  # Process image input\n",
    "        \n",
    "        #concat_output = self.get_concat_output(mlp_input, cnn_input)\n",
    "        return self.final_kan(cnn_output)"
   ]
  },
  {
   "cell_type": "code",
   "execution_count": null,
   "id": "49e3415c-614a-4d20-bb45-f3afa4a0e984",
   "metadata": {},
   "outputs": [],
   "source": [
    "def fit_hybrid_dataloaders2(model, \n",
    "                           dataset,\n",
    "                           opt=\"Adam\", \n",
    "                           steps=100, \n",
    "                           log=1, \n",
    "                           lamb=0., \n",
    "                           lamb_l1=1., \n",
    "                           lamb_entropy=2., \n",
    "                           lamb_coef=0., \n",
    "                           lamb_coefdiff=0., \n",
    "                           update_grid=True, \n",
    "                           grid_update_num=10, \n",
    "                           loss_fn=None, \n",
    "                           lr=1., \n",
    "                           start_grid_update_step=-1, \n",
    "                           stop_grid_update_step=50, \n",
    "                           batch=-1,\n",
    "                           metrics=None, \n",
    "                           save_fig=False, \n",
    "                           in_vars=None, \n",
    "                           out_vars=None, \n",
    "                           beta=3, \n",
    "                           save_fig_freq=1, \n",
    "                           img_folder='./video', \n",
    "                           singularity_avoiding=False, \n",
    "                           y_th=1000., \n",
    "                           reg_metric='edge_forward_spline_n', \n",
    "                           display_metrics=None,\n",
    "                           sum_f_reg=True):\n",
    "    \"\"\"\n",
    "    Trains the hybrid model (with a KAN branch and a CNN branch) using a steps-based loop\n",
    "    adapted from KAN.fit(), with grid updates and regularization.\n",
    "    \n",
    "    Instead of a single dataset dict, this function accepts three DataLoaders:\n",
    "        - train_loader: provides (mlp, img, target) for training\n",
    "        - val_loader: provides (mlp, img, target) for evaluation during training\n",
    "        - test_loader: provides (mlp, img, target) for validation\n",
    "\n",
    "    Internally, the function combines each loader into a dataset dictionary.\n",
    "    \n",
    "    Returns:\n",
    "        results: dictionary containing training loss, evaluation loss, regularization values,\n",
    "                 and any additional metrics recorded during training.\n",
    "    \"\"\"\n",
    "    #device = next(model.parameters()).device\n",
    "\n",
    "    # Warn if regularization is requested but model's internal flag isn't enabled.\n",
    "    if lamb > 0. and not getattr(model.final_kan, \"save_act\", False):\n",
    "        print(\"setting lamb=0. If you want to set lamb > 0, set model.final_kan.save_act=True\")\n",
    "    \n",
    "    # Disable symbolic processing for training if applicable (KAN internal logic)\n",
    "    if hasattr(model.final_kan, \"disable_symbolic_in_fit\"):\n",
    "        #old_save_act, old_symbolic_enabled = model.m_kan.disable_symbolic_in_fit(lamb)\n",
    "        old_save_act, old_symbolic_enabled = model.final_kan.disable_symbolic_in_fit(lamb)\n",
    "    else:\n",
    "        old_save_act, old_symbolic_enabled = None, None\n",
    "\n",
    "    pbar = tqdm(range(steps), desc='Training', ncols=100)\n",
    "\n",
    "    # Default loss function (mean squared error) if not provided\n",
    "    if loss_fn is None:\n",
    "        loss_fn = lambda x, y: torch.mean((x - y) ** 2)\n",
    "\n",
    "    # Determine grid update frequency\n",
    "    grid_update_freq = int(stop_grid_update_step / grid_update_num) if grid_update_num > 0 else 1\n",
    "\n",
    "    # Determine total number of training examples\n",
    "    n_train = dataset[\"train_img\"].shape[0]\n",
    "    n_eval  = dataset[\"val_img\"].shape[0]  # using val set for evaluation during training\n",
    "    batch_size = n_train if batch == -1 or batch > n_train else batch\n",
    "\n",
    "    # Set up optimizer: choose between Adam and LBFGS (removed tolerance_ys)\n",
    "    if opt == \"Adam\":\n",
    "        optimizer = optim.Adam(model.parameters(), lr=lr)\n",
    "    elif opt == \"LBFGS\":\n",
    "        optimizer = LBFGS(model.parameters(), lr=lr, history_size=10, \n",
    "                          line_search_fn=\"strong_wolfe\", \n",
    "                          tolerance_grad=1e-32, \n",
    "                          tolerance_change=1e-32)\n",
    "    else:\n",
    "        raise ValueError(\"Optimizer not recognized. Use 'Adam' or 'LBFGS'.\")\n",
    "\n",
    "    # Prepare results dictionary.\n",
    "    results = {\n",
    "        'train_loss': [],\n",
    "        'eval_loss': [],\n",
    "        'reg': []\n",
    "    }\n",
    "\n",
    "    \n",
    "    if metrics is not None:\n",
    "        for metric in metrics:\n",
    "            results[metric.__name__] = []\n",
    "\n",
    "    best_model_state = None\n",
    "    best_epoch = -1\n",
    "    best_loss = float('inf')\n",
    "\n",
    "    for step in pbar:\n",
    "        # Randomly sample indices for a mini-batch from the training set.\n",
    "        train_indices = np.random.choice(n_train, batch_size, replace=False)\n",
    "        # Use full evaluation set for evaluation; you can also sample if desired.\n",
    "        eval_indices = np.arange(n_eval)\n",
    "\n",
    "        # Closure for LBFGS\n",
    "        def closure():\n",
    "            optimizer.zero_grad()\n",
    "            #mlp_batch = dataset[\"train_input\"][train_indices]\n",
    "            img_batch = dataset[\"train_img\"][train_indices]\n",
    "            target_batch = dataset[\"train_label\"][train_indices]\n",
    "            outputs = model(img_batch)\n",
    "            train_loss = loss_fn(outputs, target_batch)\n",
    "            # Compute regularization term if enabled.\n",
    "            if hasattr(model.final_kan, \"save_act\") and model.final_kan.save_act:\n",
    "                if reg_metric == 'edge_backward':\n",
    "                    #model.m_kan.attribute()\n",
    "                    model.final_kan.attribute()\n",
    "                if reg_metric == 'node_backward':\n",
    "                    #model.m_kan.node_attribute()\n",
    "                    model.final_kan.node_attribute()\n",
    "                reg_val_inner = model.final_kan.get_reg(reg_metric, lamb_l1, lamb_entropy, lamb_coef, lamb_coefdiff)\n",
    "                # if sum_f_reg:\n",
    "                #     reg_val_inner = reg_val_inner + model.final_kan.get_reg(reg_metric, lamb_l1, lamb_entropy, lamb_coef, lamb_coefdiff)\n",
    "            else:\n",
    "                reg_val_inner = torch.tensor(0., device=device)\n",
    "            loss_val_inner = train_loss + lamb * reg_val_inner\n",
    "            loss_val_inner.backward()\n",
    "            return loss_val_inner\n",
    "\n",
    "        # Perform grid update if applicable.\n",
    "        if (step % grid_update_freq == 0 and step < stop_grid_update_step \n",
    "            and update_grid and step >= start_grid_update_step):\n",
    "            \n",
    "            #mlp_batch = dataset['train_input'][train_indices]\n",
    "            cnn_batch = dataset['train_img'][train_indices]\n",
    "            \n",
    "            # model.final_kan.update_grid(mlp_batch)\n",
    "            cnn_output = model.cnn_branch(cnn_batch)  # Process image input\n",
    "            # concatenated  = model.get_concat_output(cnn_batch)\n",
    "            #concatenated = torch.cat((mlp_batch, cnn_output), dim=1)\n",
    "            model.final_kan.update_grid(cnn_output)\n",
    "\n",
    "        # Perform an optimizer step.\n",
    "        if opt == \"LBFGS\":\n",
    "            optimizer.step(closure)\n",
    "            loss_val = closure()  # re-evaluate to record loss\n",
    "            # Compute reg_val separately for logging\n",
    "            with torch.no_grad():\n",
    "                #mlp_batch = dataset[\"train_input\"][train_indices]\n",
    "                img_batch = dataset[\"train_img\"][train_indices]\n",
    "                target_batch = dataset[\"train_label\"][train_indices]\n",
    "                outputs = model(img_batch)\n",
    "                train_loss = loss_fn(outputs, target_batch)\n",
    "                if hasattr(model.final_kan, \"save_act\") and model.final_kan.save_act:\n",
    "                    if reg_metric == 'edge_backward':\n",
    "                        #model.m_kan.attribute()\n",
    "                        model.final_kan.attribute()\n",
    "                    if reg_metric == 'node_backward':\n",
    "                        #model.m_kan.node_attribute()\n",
    "                        model.final_kan.node_attribute()\n",
    "                    reg_val = model.final_kan.get_reg(reg_metric, lamb_l1, lamb_entropy, lamb_coef, lamb_coefdiff)\n",
    "                    # if sum_f_reg:\n",
    "                    #     reg_val = reg_val + model.final_kan.get_reg(reg_metric, lamb_l1, lamb_entropy, lamb_coef, lamb_coefdiff)\n",
    "                else:\n",
    "                    reg_val = torch.tensor(0., device=device)\n",
    "        else:  # Adam branch\n",
    "            optimizer.zero_grad()\n",
    "            #mlp_batch = dataset[\"train_input\"][train_indices]\n",
    "            img_batch = dataset[\"train_img\"][train_indices]\n",
    "            target_batch = dataset[\"train_label\"][train_indices]\n",
    "            outputs = model(img_batch)\n",
    "            train_loss = loss_fn(outputs, target_batch)\n",
    "            if hasattr(model.final_kan, \"save_act\") and model.final_kan.save_act:\n",
    "                if reg_metric == 'edge_backward':\n",
    "                    #model.m_kan.attribute()\n",
    "                    model.final_kan.attribute()\n",
    "                if reg_metric == 'node_backward':\n",
    "                    #model.m_kan.node_attribute()\n",
    "                    model.final_kan.node_attribute()\n",
    "                reg_val = model.final_kan.get_reg(reg_metric, lamb_l1, lamb_entropy, lamb_coef, lamb_coefdiff)\n",
    "                # if sum_f_reg:\n",
    "                #     reg_val = reg_val + model.final_kan.get_reg(reg_metric, lamb_l1, lamb_entropy, lamb_coef, lamb_coefdiff)\n",
    "            else:\n",
    "                reg_val = torch.tensor(0., device=device)\n",
    "            loss_val = train_loss + lamb * reg_val\n",
    "            loss_val.backward()\n",
    "            optimizer.step()\n",
    "\n",
    "        # Evaluate on the entire evaluation set (from val_loader)\n",
    "        #mlp_eval = dataset[\"val_input\"][eval_indices]\n",
    "        img_eval = dataset[\"val_img\"][eval_indices]\n",
    "        target_eval = dataset[\"val_label\"][eval_indices]\n",
    "        eval_loss = loss_fn(model(img_eval), target_eval)\n",
    "\n",
    "        # Record results (using square-root of loss similar to KAN.fit)\n",
    "        results['train_loss'].append(torch.sqrt(loss_val.detach()).item())\n",
    "        results['eval_loss'].append(torch.sqrt(eval_loss.detach()).item())\n",
    "        results['reg'].append(reg_val.detach().item())\n",
    "\n",
    "        # New: Compute validation loss if validation data exists in the dataset.\n",
    "        # val_loss = loss_fn(model(dataset['val_input'][eval_indices], dataset['val_img'][eval_indices]), dataset['val_label'][eval_indices])\n",
    "        # results['val_loss'].append(torch.sqrt(val_loss).cpu().detach().numpy())\n",
    "\n",
    "        if metrics is not None:\n",
    "            for metric in metrics:\n",
    "                # Here, we assume each metric returns a tensor.\n",
    "                results[metric.__name__].append(metric().item())\n",
    "\n",
    "        if eval_loss < best_loss:\n",
    "            best_epoch = step\n",
    "            best_loss = eval_loss\n",
    "            best_model_state = copy.deepcopy(model.state_dict())\n",
    "\n",
    "        # Update progress bar.\n",
    "        if display_metrics is None:\n",
    "            pbar.set_description(\"| train_loss: %.2e | eval_loss: %.2e | reg: %.2e |\" %\n",
    "                                 (torch.sqrt(loss_val.detach()).item(),\n",
    "                                  torch.sqrt(eval_loss.detach()).item(),\n",
    "                                  reg_val.detach().item()))\n",
    "        else:\n",
    "            desc = \"\"\n",
    "            data = []\n",
    "            for metric in display_metrics:\n",
    "                desc += f\" {metric}: %.2e |\"\n",
    "                data.append(results[metric.__name__][-1])\n",
    "            pbar.set_description(desc % tuple(data))\n",
    "\n",
    "        # Optionally save a figure snapshot.\n",
    "        if save_fig and step % save_fig_freq == 0:\n",
    "            save_act_backup = getattr(model.final_kan, \"save_act\", False)\n",
    "            model.final_kan.save_act = True\n",
    "            model.plot(folder=img_folder, in_vars=in_vars, out_vars=out_vars, title=f\"Step {step}\", beta=beta)\n",
    "            plt.savefig(os.path.join(img_folder, f\"{step}.jpg\"), bbox_inches='tight', dpi=200)\n",
    "            plt.close()\n",
    "            model.final_kan.save_act = save_act_backup\n",
    "\n",
    "    # Restore original settings if applicable.\n",
    "    if old_symbolic_enabled is not None:\n",
    "        model.final_kan.symbolic_enabled = old_symbolic_enabled\n",
    "    if hasattr(model.final_kan, \"log_history\"):\n",
    "        model.final_kan.log_history('fit')\n",
    "    print(f\"Best epoch {best_epoch}\")\n",
    "    return results, best_model_state"
   ]
  },
  {
   "cell_type": "code",
   "execution_count": null,
   "id": "c3b3b391-14eb-4647-962d-75accd4df9a9",
   "metadata": {},
   "outputs": [],
   "source": [
    "def try_create_model2(model_class, attributes, imgs_shape):\n",
    "    try:\n",
    "        model = model_class(imgs_shape)\n",
    "        \n",
    "        # Test the model with a sample input\n",
    "        num_input = torch.randn(4, attributes)\n",
    "        img_input = torch.randn(4, *imgs_shape)\n",
    "        output = model(img_input)\n",
    "        \n",
    "        print(f\"Successfully created and tested {model_class.__name__}\")\n",
    "        \n",
    "        return model\n",
    "    except Exception as e:\n",
    "        print(f\"Error creating or testing {model_class.__name__}:\")\n",
    "        traceback.print_exc()\n",
    "        return None"
   ]
  },
  {
   "cell_type": "code",
   "execution_count": null,
   "id": "84126752-0c8b-4028-9892-785d5112e71a",
   "metadata": {},
   "outputs": [],
   "source": [
    "model5 = try_create_model2(Model5, attributes, imgs_shape)  # Attempt to create Model4\n",
    "metrics5, best_model_state = fit_hybrid_dataloaders2(model5, dataset, opt=\"LBFGS\", steps=30, lamb=.00000001)\n",
    "model5.load_state_dict(best_model_state)\n",
    "print(average_rmse(model5(dataset['test_img']), dataset['test_label']))\n",
    "plt.plot(metrics5['train_loss'])\n",
    "plt.plot(metrics5['eval_loss'])\n",
    "plt.legend(['train', 'val'])\n",
    "plt.ylabel('RMSE')\n",
    "plt.xlabel('step')\n",
    "plt.yscale('log')"
   ]
  }
 ],
 "metadata": {
  "kernelspec": {
   "display_name": "Python 3 (ipykernel)",
   "language": "python",
   "name": "python3"
  },
  "language_info": {
   "codemirror_mode": {
    "name": "ipython",
    "version": 3
   },
   "file_extension": ".py",
   "mimetype": "text/x-python",
   "name": "python",
   "nbconvert_exporter": "python",
   "pygments_lexer": "ipython3",
   "version": "3.12.7"
  }
 },
 "nbformat": 4,
 "nbformat_minor": 5
}
