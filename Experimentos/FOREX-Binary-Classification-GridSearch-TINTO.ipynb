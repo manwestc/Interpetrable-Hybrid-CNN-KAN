{
 "cells": [
  {
   "cell_type": "code",
   "execution_count": 1,
   "id": "8d5668d4-717f-4e0a-a900-f1b70dc8ba0f",
   "metadata": {},
   "outputs": [],
   "source": [
    "import sys\n",
    "import os\n",
    "\n",
    "# Get the root directory\n",
    "root_dir = os.path.abspath(os.path.join(os.getcwd(), '..'))\n",
    "\n",
    "# Add the root directory to the Python path\n",
    "sys.path.append(root_dir)"
   ]
  },
  {
   "cell_type": "code",
   "execution_count": 2,
   "id": "4dace8b6-da36-4ed7-94f9-e7bfde57e588",
   "metadata": {},
   "outputs": [
    {
     "name": "stdout",
     "output_type": "stream",
     "text": [
      "cuda\n"
     ]
    }
   ],
   "source": [
    "from tqdm import tqdm\n",
    "from torch.utils.data import DataLoader, TensorDataset\n",
    "from torch.optim.lr_scheduler import OneCycleLR\n",
    "from sklearn.model_selection import train_test_split\n",
    "from sklearn.preprocessing import MinMaxScaler, StandardScaler\n",
    "from sklearn.datasets import load_diabetes\n",
    "from sklearn.model_selection import train_test_split\n",
    "from sklearn.preprocessing import StandardScaler\n",
    "from sklearn.metrics import mean_squared_error, mean_absolute_error, r2_score\n",
    "from TINTOlib.tinto import TINTO\n",
    "from kan import *\n",
    "from tqdm import tqdm\n",
    "\n",
    "\n",
    "import traceback\n",
    "import time\n",
    "import gc\n",
    "import copy\n",
    "import traceback\n",
    "import torch.nn as nn\n",
    "import cv2\n",
    "import math\n",
    "import matplotlib.pyplot as plt\n",
    "import pandas as pd\n",
    "import numpy as np\n",
    "import random\n",
    "import torch\n",
    "import torch.nn as nn\n",
    "import torch.optim as optim\n",
    "import csv\n",
    "#from torch.optim import LBFGS\n",
    "\n",
    "\n",
    "if torch.cuda.is_available():\n",
    "  device = torch.device(\"cuda\")\n",
    "else:\n",
    "  device = torch.device(\"cpu\")\n",
    "\n",
    "print(device)"
   ]
  },
  {
   "cell_type": "code",
   "execution_count": 3,
   "id": "787a631d-2f1e-4b05-845e-bb878447f357",
   "metadata": {},
   "outputs": [],
   "source": [
    "SEED = 381\n",
    "# SET RANDOM SEED FOR REPRODUCIBILITY\n",
    "torch.manual_seed(SEED)\n",
    "random.seed(SEED)\n",
    "np.random.seed(SEED)"
   ]
  },
  {
   "cell_type": "markdown",
   "id": "7b71d2a5-d2ad-4b72-9869-8fdae3a98141",
   "metadata": {},
   "source": [
    "# BEST: ACC = 0.733152"
   ]
  },
  {
   "cell_type": "code",
   "execution_count": 4,
   "id": "1580c162-4015-4cda-8492-b51350055b36",
   "metadata": {},
   "outputs": [],
   "source": [
    "folder=\"data/FOREX_cadjpy-day-High\"\n",
    "x_col=[\"Bid_Open\", \"Bid_High\", \"Bid_Low\", \"Bid_Close\", \"Bid_Volume\", \"Ask_Open\", \"Ask_High\", \"Ask_Low\", \"Ask_Close\",\"Ask_Volume\"]\n",
    "target_col=[\"class\"]"
   ]
  },
  {
   "cell_type": "markdown",
   "id": "a95b4aeb",
   "metadata": {},
   "source": [
    "# Functions"
   ]
  },
  {
   "cell_type": "markdown",
   "id": "1e61699b",
   "metadata": {
    "jp-MarkdownHeadingCollapsed": true
   },
   "source": [
    "### Load Dataset and Images"
   ]
  },
  {
   "cell_type": "code",
   "execution_count": 5,
   "id": "fb5e9231",
   "metadata": {},
   "outputs": [],
   "source": [
    "def load_and_clean(npy_filename, y_filename, x_col, target_col):\n",
    "    \"\"\"\n",
    "    Load the feature array (npy_filename) and label array (y_filename),\n",
    "    drop rows in the feature array that contain any NaNs, and apply\n",
    "    the same mask to the label array.\n",
    "    \"\"\"\n",
    "    # Load numpy arrays\n",
    "    X = np.load(os.path.join(folder, npy_filename))\n",
    "    y = np.load(os.path.join(folder, y_filename))\n",
    "    \n",
    "    # Ensure the number of rows matches between X and y\n",
    "    if X.shape[0] != y.shape[0]:\n",
    "        raise ValueError(\"The number of rows in {} and {} do not match.\".format(npy_filename, y_filename))\n",
    "    \n",
    "    # Create a boolean mask for rows that do NOT have any NaN values in X\n",
    "    valid_rows = ~np.isnan(X).any(axis=1)\n",
    "    #print(valid_rows)\n",
    "    # Filter both arrays using the valid_rows mask\n",
    "    X_clean = X[valid_rows]\n",
    "    y_clean = y[valid_rows]\n",
    "    \n",
    "    # Convert arrays to DataFrames\n",
    "    df_X = pd.DataFrame(X_clean)\n",
    "    df_y = pd.DataFrame(y_clean)\n",
    "    df_X.columns = x_col\n",
    "    df_y.columns = target_col\n",
    "\n",
    "    #df_y[target_col] = df_y[target_col].astype(int)\n",
    "    return df_X, df_y"
   ]
  },
  {
   "cell_type": "code",
   "execution_count": 6,
   "id": "b6027ad4",
   "metadata": {},
   "outputs": [],
   "source": [
    "def load_and_preprocess_data(X_train, y_train, X_test, y_test, X_val, y_val, image_model, problem_type, batch_size=32):\n",
    "    # Add target column to input for IGTD\n",
    "    X_train_full = X_train.copy()\n",
    "    X_train_full[\"target\"] = y_train.values\n",
    "\n",
    "    X_val_full = X_val.copy()\n",
    "    X_val_full[\"target\"] = y_val.values\n",
    "\n",
    "    X_test_full = X_test.copy()\n",
    "    X_test_full[\"target\"] = y_test.values\n",
    "\n",
    "    # Generate the images if the folder does not exist\n",
    "    if not os.path.exists(f'{images_folder}/train'):\n",
    "        #print(X_train_full)\n",
    "        image_model.fit_transform(X_train_full, f'{images_folder}/train')\n",
    "        image_model.saveHyperparameters(f'{images_folder}/model.pkl')\n",
    "    else:\n",
    "        print(\"The images are already generated\")\n",
    "\n",
    "    # Load image paths\n",
    "    imgs_train = pd.read_csv(os.path.join(f'{images_folder}/train', f'{problem_type}.csv'))\n",
    "    imgs_train[\"images\"] = images_folder + \"/train/\" + imgs_train[\"images\"]\n",
    "\n",
    "    if not os.path.exists(f'{images_folder}/val'):\n",
    "        image_model.transform(X_val_full, f'{images_folder}/val')\n",
    "    else:\n",
    "        print(\"The images are already generated\")\n",
    "\n",
    "    imgs_val = pd.read_csv(os.path.join(f'{images_folder}/val', f'{problem_type}.csv'))\n",
    "    imgs_val[\"images\"] = images_folder + \"/val/\" + imgs_val[\"images\"]\n",
    "\n",
    "    if not os.path.exists(f'{images_folder}/test'):\n",
    "        image_model.transform(X_test_full, f'{images_folder}/test')\n",
    "    else:\n",
    "        print(\"The images are already generated\")\n",
    "\n",
    "    imgs_test = pd.read_csv(os.path.join(f'{images_folder}/test', f'{problem_type}.csv'))\n",
    "    imgs_test[\"images\"] = images_folder + \"/test/\" + imgs_test[\"images\"]\n",
    "\n",
    "    # Image data\n",
    "    X_train_img = np.array([cv2.imread(img) for img in imgs_train[\"images\"]])\n",
    "    X_val_img = np.array([cv2.imread(img) for img in imgs_val[\"images\"]])\n",
    "    X_test_img = np.array([cv2.imread(img) for img in imgs_test[\"images\"]])\n",
    "\n",
    "    # Create a MinMaxScaler object\n",
    "    scaler = MinMaxScaler()\n",
    "\n",
    "    # Scale numerical data\n",
    "    X_train_num = pd.DataFrame(scaler.fit_transform(X_train), columns=X_train.columns)\n",
    "    X_val_num = pd.DataFrame(scaler.transform(X_val), columns=X_val.columns)\n",
    "    X_test_num = pd.DataFrame(scaler.transform(X_test), columns=X_test.columns)\n",
    "\n",
    "    attributes = len(X_train_num.columns)\n",
    "    height, width, channels = X_train_img[0].shape\n",
    "    imgs_shape = (channels, height, width)\n",
    "\n",
    "    print(\"Images shape: \", imgs_shape)\n",
    "    print(\"Attributes: \", attributes)\n",
    "\n",
    "    # Convert data to PyTorch tensors\n",
    "    X_train_num_tensor = torch.as_tensor(X_train_num.values, dtype=torch.float32)\n",
    "    X_val_num_tensor = torch.as_tensor(X_val_num.values, dtype=torch.float32)\n",
    "    X_test_num_tensor = torch.as_tensor(X_test_num.values, dtype=torch.float32)\n",
    "    X_train_img_tensor = torch.as_tensor(X_train_img, dtype=torch.float32).permute(0, 3, 1, 2) / 255.0\n",
    "    X_val_img_tensor = torch.as_tensor(X_val_img, dtype=torch.float32).permute(0, 3, 1, 2) / 255.0\n",
    "    X_test_img_tensor = torch.as_tensor(X_test_img, dtype=torch.float32).permute(0, 3, 1, 2) / 255.0\n",
    "    y_train_tensor = torch.as_tensor(y_train.values, dtype=torch.float32).reshape(-1, 1)\n",
    "    y_val_tensor = torch.as_tensor(y_val.values, dtype=torch.float32).reshape(-1, 1)\n",
    "    y_test_tensor = torch.as_tensor(y_test.values, dtype=torch.float32).reshape(-1, 1)\n",
    "\n",
    "    # Create DataLoaders\n",
    "    train_dataset = TensorDataset(X_train_num_tensor, X_train_img_tensor, y_train_tensor)\n",
    "    val_dataset = TensorDataset(X_val_num_tensor, X_val_img_tensor, y_val_tensor)\n",
    "    test_dataset = TensorDataset(X_test_num_tensor, X_test_img_tensor, y_test_tensor)\n",
    "\n",
    "    train_loader = DataLoader(train_dataset, batch_size=batch_size, shuffle=True, pin_memory=True)\n",
    "    val_loader = DataLoader(val_dataset, batch_size=batch_size, shuffle=False, pin_memory=True)\n",
    "    test_loader = DataLoader(test_dataset, batch_size=batch_size, shuffle=False, pin_memory=True)\n",
    "\n",
    "    return train_loader, val_loader, test_loader, attributes, imgs_shape"
   ]
  },
  {
   "cell_type": "code",
   "execution_count": 7,
   "id": "b2285bf2",
   "metadata": {},
   "outputs": [],
   "source": [
    "def combine_loader(loader):\n",
    "    \"\"\"\n",
    "    Combines all batches from a DataLoader into three tensors.\n",
    "    Assumes each batch is a tuple: (mlp_tensor, img_tensor, target_tensor)\n",
    "    \"\"\"\n",
    "    mlp_list, img_list, target_list = [], [], []\n",
    "    for mlp, img, target in loader:\n",
    "        mlp_list.append(mlp)\n",
    "        img_list.append(img)\n",
    "        target_list.append(target)\n",
    "    return torch.cat(mlp_list, dim=0), torch.cat(img_list, dim=0), torch.cat(target_list, dim=0)"
   ]
  },
  {
   "cell_type": "markdown",
   "id": "2d664849",
   "metadata": {
    "jp-MarkdownHeadingCollapsed": true
   },
   "source": [
    "### Functions for KAN"
   ]
  },
  {
   "cell_type": "code",
   "execution_count": 8,
   "id": "c7e1e764",
   "metadata": {},
   "outputs": [],
   "source": [
    "dtype = torch.get_default_dtype()\n",
    "min_expected = 0.\n",
    "max_expected = 1."
   ]
  },
  {
   "cell_type": "code",
   "execution_count": 9,
   "id": "05d09a4c",
   "metadata": {},
   "outputs": [],
   "source": [
    "def custom_fit(model, dataset, opt=\"LBFGS\", steps=100, log=1, lamb=0., lamb_l1=1., lamb_entropy=2., lamb_coef=0., lamb_coefdiff=0., update_grid=True, \n",
    "               grid_update_num=10, loss_fn=None, lr=1., start_grid_update_step=-1, stop_grid_update_step=50, batch=-1,\n",
    "               metrics=None, save_fig=False, in_vars=None, out_vars=None, beta=3, save_fig_freq=1, img_folder='./video', \n",
    "               singularity_avoiding=False, y_th=1000., reg_metric='edge_forward_spline_n', display_metrics=None):\n",
    "    '''\n",
    "    training\n",
    "\n",
    "    Args:\n",
    "    -----\n",
    "        dataset : dic\n",
    "            contains dataset['train_input'], dataset['train_label'], dataset['val_input'], dataset['val_label']\n",
    "        opt : str\n",
    "            \"LBFGS\" or \"Adam\"\n",
    "        steps : int\n",
    "            training steps\n",
    "        log : int\n",
    "            logging frequency\n",
    "        lamb : float\n",
    "            overall penalty strength\n",
    "        lamb_l1 : float\n",
    "            l1 penalty strength\n",
    "        lamb_entropy : float\n",
    "            entropy penalty strength\n",
    "        lamb_coef : float\n",
    "            coefficient magnitude penalty strength\n",
    "        lamb_coefdiff : float\n",
    "            difference of nearby coefficits (smoothness) penalty strength\n",
    "        update_grid : bool\n",
    "            If True, update grid regularly before stop_grid_update_step\n",
    "        grid_update_num : int\n",
    "            the number of grid updates before stop_grid_update_step\n",
    "        start_grid_update_step : int\n",
    "            no grid updates before this training step\n",
    "        stop_grid_update_step : int\n",
    "            no grid updates after this training step\n",
    "        loss_fn : function\n",
    "            loss function\n",
    "        lr : float\n",
    "            learning rate\n",
    "        batch : int\n",
    "            batch size, if -1 then full.\n",
    "        save_fig_freq : int\n",
    "            save figure every (save_fig_freq) steps\n",
    "        singularity_avoiding : bool\n",
    "            indicate whether to avoid singularity for the symbolic part\n",
    "        y_th : float\n",
    "            singularity threshold (anything above the threshold is considered singular and is softened in some ways)\n",
    "        reg_metric : str\n",
    "            regularization metric. Choose from {'edge_forward_spline_n', 'edge_forward_spline_u', 'edge_forward_sum', 'edge_backward', 'node_backward'}\n",
    "        metrics : a list of metrics (as functions)\n",
    "            the metrics to be computed in training\n",
    "        display_metrics : a list of functions\n",
    "            the metric to be displayed in tqdm progress bar\n",
    "\n",
    "    Returns:\n",
    "    --------\n",
    "        results : dic\n",
    "            results['train_loss'], 1D array of training losses (RMSE)\n",
    "            results['val_loss'], 1D array of val losses (RMSE)\n",
    "            results['reg'], 1D array of regularization\n",
    "            other metrics specified in metrics\n",
    "        best_model:\n",
    "    '''\n",
    "\n",
    "    if lamb > 0. and not model.save_act:\n",
    "        print('setting lamb=0. If you want to set lamb > 0, set model.save_act=True')\n",
    "        \n",
    "    old_save_act, old_symbolic_enabled = model.disable_symbolic_in_fit(lamb)\n",
    "\n",
    "    pbar = tqdm(range(steps), desc='description', ncols=100)\n",
    "\n",
    "    if loss_fn == None:\n",
    "        loss_fn = loss_fn_eval = lambda x, y: torch.mean((x - y) ** 2)\n",
    "    else:\n",
    "        loss_fn = loss_fn_eval = loss_fn\n",
    "\n",
    "    grid_update_freq = int(stop_grid_update_step / grid_update_num)\n",
    "\n",
    "    if opt == \"Adam\":\n",
    "        optimizer = torch.optim.Adam(model.get_params(), lr=lr)\n",
    "    elif opt == \"LBFGS\":\n",
    "        optimizer = LBFGS(model.get_params(), lr=lr, history_size=10, \n",
    "                          line_search_fn=\"strong_wolfe\", \n",
    "                          tolerance_grad=1e-32,\n",
    "                          tolerance_change=1e-32,\n",
    "                          tolerance_ys=1e-32)\n",
    "\n",
    "    results = {}\n",
    "    results['train_loss'] = []\n",
    "    results['val_loss'] = []\n",
    "    results['reg'] = []\n",
    "    if metrics != None:\n",
    "        for i in range(len(metrics)):\n",
    "            results[metrics[i].__name__] = []\n",
    "\n",
    "    if batch == -1 or batch > dataset['train_input'].shape[0]:\n",
    "        batch_size = dataset['train_input'].shape[0]\n",
    "        batch_size_val = dataset['val_input'].shape[0]\n",
    "    else:\n",
    "        batch_size = batch\n",
    "        batch_size_val = batch\n",
    "\n",
    "    global train_loss, reg_\n",
    "\n",
    "    def closure():\n",
    "        global train_loss, reg_\n",
    "        optimizer.zero_grad()\n",
    "        pred = model.forward(dataset['train_input'][train_id], singularity_avoiding=singularity_avoiding, y_th=y_th)\n",
    "        train_loss = loss_fn(pred, dataset['train_label'][train_id])\n",
    "        if model.save_act:\n",
    "            if reg_metric == 'edge_backward':\n",
    "                model.attribute()\n",
    "            if reg_metric == 'node_backward':\n",
    "                model.node_attribute()\n",
    "            reg_ = model.get_reg(reg_metric, lamb_l1, lamb_entropy, lamb_coef, lamb_coefdiff)\n",
    "        else:\n",
    "            reg_ = torch.tensor(0.)\n",
    "        objective = train_loss + lamb * reg_\n",
    "        objective.backward()\n",
    "        return objective\n",
    "\n",
    "    if save_fig:\n",
    "        if not os.path.exists(img_folder):\n",
    "            os.makedirs(img_folder)\n",
    "    \n",
    "    best_model_state = None\n",
    "    best_epoch = -1\n",
    "    best_metric = 0\n",
    "    val_metric = 0\n",
    "    for epoch in pbar:\n",
    "        \n",
    "        if epoch == steps-1 and old_save_act:\n",
    "            model.save_act = True\n",
    "            \n",
    "        if save_fig and epoch % save_fig_freq == 0:\n",
    "            save_act = model.save_act\n",
    "            model.save_act = True\n",
    "        \n",
    "        train_id = np.random.choice(dataset['train_input'].shape[0], batch_size, replace=False)\n",
    "        val_id = np.random.choice(dataset['val_input'].shape[0], batch_size_val, replace=False)\n",
    "\n",
    "        if epoch % grid_update_freq == 0 and epoch < stop_grid_update_step and update_grid and epoch >= start_grid_update_step:\n",
    "            model.update_grid(dataset['train_input'][train_id])\n",
    "\n",
    "        if opt == \"LBFGS\":\n",
    "            optimizer.step(closure)\n",
    "\n",
    "        if opt == \"Adam\":\n",
    "            pred = model.forward(dataset['train_input'][train_id], singularity_avoiding=singularity_avoiding, y_th=y_th)\n",
    "            train_loss = loss_fn(pred, dataset['train_label'][train_id])\n",
    "            if model.save_act:\n",
    "                if reg_metric == 'edge_backward':\n",
    "                    model.attribute()\n",
    "                if reg_metric == 'node_backward':\n",
    "                    model.node_attribute()\n",
    "                reg_ = model.get_reg(reg_metric, lamb_l1, lamb_entropy, lamb_coef, lamb_coefdiff)\n",
    "            else:\n",
    "                reg_ = torch.tensor(0.)\n",
    "            loss = train_loss + lamb * reg_\n",
    "            optimizer.zero_grad()\n",
    "            loss.backward()\n",
    "            optimizer.step()\n",
    "\n",
    "        val_loss = loss_fn_eval(model.forward(dataset['val_input'][val_id]), dataset['val_label'][val_id])\n",
    "        \n",
    "        if metrics != None:\n",
    "            for i in range(len(metrics)):\n",
    "                results[metrics[i].__name__].append(metrics[i]().item())\n",
    "        \n",
    "        results['train_loss'].append(torch.sqrt(train_loss).cpu().detach().numpy())\n",
    "        results['val_loss'].append(torch.sqrt(val_loss).cpu().detach().numpy())\n",
    "        results['reg'].append(reg_.cpu().detach().numpy())\n",
    "\n",
    "        if epoch % log == 0:\n",
    "            if display_metrics == None:\n",
    "                pbar.set_description(\"| train_loss: %.2e | val_loss: %.2e | reg: %.2e | \" % (torch.sqrt(train_loss).cpu().detach().numpy(), torch.sqrt(val_loss).cpu().detach().numpy(), reg_.cpu().detach().numpy()))\n",
    "                val_metric = val_loss\n",
    "            else:\n",
    "                string = ''\n",
    "                data = ()\n",
    "                for metric in display_metrics:\n",
    "                    val_metric = results[metric][-1]\n",
    "                    string += f' {metric}: %.2e |'\n",
    "                    try:\n",
    "                        results[metric]\n",
    "                    except:\n",
    "                        raise Exception(f'{metric} not recognized')\n",
    "                    data += (results[metric][-1],)\n",
    "                pbar.set_description(string % data)\n",
    "\n",
    "        if val_metric > best_metric:\n",
    "            best_epoch = epoch\n",
    "            best_metric = val_metric\n",
    "            best_model_state = copy.deepcopy(model.state_dict())\n",
    "\n",
    "        if save_fig and epoch % save_fig_freq == 0:\n",
    "            model.plot(folder=img_folder, in_vars=in_vars, out_vars=out_vars, title=\"Step {}\".format(_), beta=beta)\n",
    "            plt.savefig(img_folder + '/' + str(_) + '.jpg', bbox_inches='tight', dpi=200)\n",
    "            plt.close()\n",
    "            model.save_act = save_act\n",
    "\n",
    "    model.log_history('fit')\n",
    "    # revert back to original state\n",
    "    model.symbolic_enabled = old_symbolic_enabled\n",
    "    print(f\"✅ Best validation Accuracy: {best_metric:.4e} at {best_epoch} epoch\")\n",
    "    return best_model_state, results, best_epoch"
   ]
  },
  {
   "cell_type": "code",
   "execution_count": 41,
   "id": "7ae64bdc",
   "metadata": {},
   "outputs": [],
   "source": [
    "def grid_search_kan(dataset, output_dim=1):\n",
    "    hidden_neuron_options = list(range(1, attributes // 2 + 1))\n",
    "    grid_options = list(range(3, 7))\n",
    "    lamb_options = [1e-01, 1e-02, 1e-03, 1e-04, 1e-05, 1e-06, 1e-07]\n",
    "\n",
    "    top_models = []  # list of dicts: each will have 'loss', 'config', 'state_dict'\n",
    "\n",
    "    for hidden in hidden_neuron_options:\n",
    "        for grid in grid_options:\n",
    "            for lamb in lamb_options:\n",
    "                \n",
    "                print(f\"Testing width=[{attributes}, {hidden}, {output_dim}], lamb={lamb}, grid={grid}\")\n",
    "                model = KAN(width=[attributes, hidden, output_dim], grid=grid, k=3, seed=381, device=device)\n",
    "                def train_acc_kan():\n",
    "                    rounded = torch.round(torch.round(model(dataset['train_input'])[:,0]))\n",
    "                    clipped = torch.clamp(rounded, min=min_expected, max=max_expected)\n",
    "                    return torch.mean((clipped == dataset['train_label'][:,0]).type(dtype))\n",
    "                \n",
    "                def val_acc_kan():\n",
    "                    rounded = torch.round(torch.round(model(dataset['val_input'])[:,0]))\n",
    "                    clipped = torch.clamp(rounded, min=min_expected, max=max_expected)\n",
    "                    return torch.mean((clipped == dataset['val_label'][:,0]).type(dtype))\n",
    "                # Custom training\n",
    "                model_state, _, best_epoch = custom_fit(model, dataset, opt=\"LBFGS\", steps=20, lamb=lamb, \n",
    "                                                        metrics=(train_acc_kan, val_acc_kan), display_metrics=['train_acc_kan', 'val_acc_kan'])\n",
    "                model.load_state_dict(model_state)\n",
    "\n",
    "                # Evaluate\n",
    "                clipped = torch.clamp(torch.round(model(dataset['test_input'])[:,0]), min=min_expected, max=max_expected)\n",
    "                avg_acc = torch.mean((clipped == dataset['test_label'][:,0]).type(dtype))\n",
    "                print(avg_acc)\n",
    "                # Save this model info\n",
    "                top_models.append({\n",
    "                    \"acc_test\": avg_acc,\n",
    "                    \"config\": {\"hidden\": hidden, \"grid\": grid, \"lamb\": lamb},\n",
    "                    \"state_dict\": copy.deepcopy(model_state),\n",
    "                    \"best_epoch\": best_epoch\n",
    "                })\n",
    "                \n",
    "                del model\n",
    "                torch.cuda.empty_cache()\n",
    "                gc.collect()\n",
    "\n",
    "                # Keep only top 5\n",
    "                top_models = sorted(top_models, key=lambda x: x[\"acc_test\"], reverse=True)[:5]\n",
    "\n",
    "    print(\"\\n✅ Top 5 Configurations:\")\n",
    "    for i, entry in enumerate(top_models):\n",
    "        cfg = entry[\"config\"]\n",
    "        print(f\"{i+1}. width=[{attributes}, {cfg['hidden']}, {output_dim}], grid={cfg['grid']}, lamb={cfg['lamb']} | best_epoch={entry['best_epoch']} | acc_test={entry['acc_test']:.5f}\")\n",
    "\n",
    "    #return top_models"
   ]
  },
  {
   "cell_type": "markdown",
   "id": "bc5d1d3a",
   "metadata": {
    "jp-MarkdownHeadingCollapsed": true
   },
   "source": [
    "### Functions for CNN"
   ]
  },
  {
   "cell_type": "code",
   "execution_count": 32,
   "id": "46156820",
   "metadata": {},
   "outputs": [],
   "source": [
    "def fit_cnn_only_model(model, dataset, steps=100, lr=1.0, loss_fn=None, batch=-1, opt=\"LBFGS\", metrics=None, display_metrics=None):\n",
    "    \"\"\"\n",
    "    Trains a CNN-only model using LBFGS.\n",
    "\n",
    "    Args:\n",
    "        model: CNN-only PyTorch model.\n",
    "        dataset: Dictionary with keys: 'train_img', 'train_label', 'val_img', 'val_label'.\n",
    "        steps: Number of training iterations.\n",
    "        lr: Learning rate.\n",
    "        loss_fn: Loss function. Defaults to MSE.\n",
    "        metrics : a list of metrics (as functions)\n",
    "            the metrics to be computed in training\n",
    "        display_metrics : a list of functions\n",
    "            the metric to be displayed in tqdm progress bar\n",
    "\n",
    "    Returns:\n",
    "        results: Dict with lists of train/val losses.\n",
    "        best_model_state: Best weights based on val loss.\n",
    "    \"\"\"\n",
    "    device = model.device\n",
    "    if loss_fn is None:\n",
    "        loss_fn = nn.MSELoss()\n",
    "\n",
    "    # Optimizer selection\n",
    "    if opt == \"LBFGS\":\n",
    "        optimizer = LBFGS(model.parameters(), lr=lr, history_size=10, \n",
    "                          line_search_fn=\"strong_wolfe\", \n",
    "                          tolerance_grad=1e-32, \n",
    "                          tolerance_change=1e-32, \n",
    "                          tolerance_ys=1e-32)\n",
    "    elif opt == \"AdamW\":\n",
    "        optimizer = optim.AdamW(model.parameters(), lr=lr)\n",
    "    else:\n",
    "        raise ValueError(f\"Unsupported optimizer '{opt}'\")\n",
    "\n",
    "    n_train = dataset[\"train_img\"].shape[0]\n",
    "    n_val = dataset[\"val_img\"].shape[0]\n",
    "    batch_size = n_train if batch == -1 or batch > n_train else batch\n",
    "\n",
    "    results = {'train_loss': [], 'val_loss': []}\n",
    "\n",
    "    if metrics != None:\n",
    "        for i in range(len(metrics)):\n",
    "            results[metrics[i].__name__] = []\n",
    "\n",
    "    best_model_state = None\n",
    "    best_epoch = -1\n",
    "    best_metric = 0\n",
    "    val_metric = 0\n",
    "\n",
    "    pbar = tqdm(range(steps), desc=\"Training CNN Only ({opt})\", ncols=100)\n",
    "\n",
    "    for step in pbar:\n",
    "        train_idx = np.random.choice(n_train, batch_size, replace=False)\n",
    "        #train_idx = torch.randperm(n_train)[:min(32, n_train)]  # small batch\n",
    "        x_train = dataset[\"train_img\"][train_idx].to(device)\n",
    "        y_train = dataset[\"train_label\"][train_idx].to(device)\n",
    "        if opt == \"LBFGS\":\n",
    "            def closure():\n",
    "                optimizer.zero_grad()\n",
    "                output = model(0, x_train)\n",
    "                loss = loss_fn(output, y_train)\n",
    "                loss.backward()\n",
    "                return loss\n",
    "            optimizer.step(closure)\n",
    "            train_loss = closure().item()\n",
    "\n",
    "        else:  # AdamW\n",
    "            optimizer.zero_grad()\n",
    "            output = model(0, x_train)\n",
    "            loss = loss_fn(output, y_train)\n",
    "            loss.backward()\n",
    "            optimizer.step()\n",
    "            train_loss = loss.item()\n",
    "\n",
    "        with torch.no_grad():\n",
    "            val_output = model(0, dataset[\"val_img\"].to(device))\n",
    "            val_loss = loss_fn(val_output, dataset[\"val_label\"].to(device)).item()\n",
    "\n",
    "        results[\"train_loss\"].append(train_loss)\n",
    "        results[\"val_loss\"].append(val_loss)\n",
    "\n",
    "        if metrics != None:\n",
    "            for i in range(len(metrics)):\n",
    "                results[metrics[i].__name__].append(metrics[i]().item())\n",
    "\n",
    "        if display_metrics == None:\n",
    "            pbar.set_description(f\"| Train: {train_loss:.4e} | Val: {val_loss:.4e} |\")\n",
    "        else:\n",
    "            string = ''\n",
    "            data = ()\n",
    "            for metric in display_metrics:\n",
    "                val_metric = results[metric][-1]\n",
    "                string += f' {metric}: %.2e |'\n",
    "                try:\n",
    "                    results[metric]\n",
    "                except:\n",
    "                    raise Exception(f'{metric} not recognized')\n",
    "                data += (results[metric][-1],)\n",
    "            pbar.set_description(string % data)\n",
    "        \n",
    "        if val_metric > best_metric:\n",
    "            best_epoch = step\n",
    "            best_metric = val_metric\n",
    "            best_model_state = copy.deepcopy(model.state_dict())\n",
    "\n",
    "    print(f\"✅ Best validation Acc: {best_metric:.4e} at {best_epoch} epoch\")\n",
    "    return best_model_state, results, best_epoch"
   ]
  },
  {
   "cell_type": "code",
   "execution_count": 27,
   "id": "5abb1ba6",
   "metadata": {},
   "outputs": [],
   "source": [
    "def build_custom_cnn_model(cnn_blocks, dense_layers, imgs_shape, device='cuda'):\n",
    "    class CustomCNNModel(nn.Module):\n",
    "        def __init__(self):\n",
    "            super(CustomCNNModel, self).__init__()\n",
    "            self.device = device\n",
    "\n",
    "            cnn_layers = []\n",
    "            in_channels = imgs_shape[0]\n",
    "            out_channels = 16\n",
    "            cnn_blocks_list = [22, 13, 8]\n",
    "            size_layer_norm = cnn_blocks_list[cnn_blocks-1]\n",
    "            \n",
    "            f_layer_size = 10 - cnn_blocks*2\n",
    "            for i in range(cnn_blocks):\n",
    "                cnn_layers.append(nn.Conv2d(in_channels, out_channels, kernel_size=3, padding=2))\n",
    "                \n",
    "                if i < cnn_blocks - 1:\n",
    "                    cnn_layers.append(nn.BatchNorm2d(out_channels))\n",
    "                    cnn_layers.append(nn.ReLU())\n",
    "                    cnn_layers.append(nn.MaxPool2d(2))\n",
    "                else:\n",
    "                    # Last block: LayerNorm + Sigmoid + Flatten\n",
    "                    cnn_layers.append(nn.LayerNorm([out_channels, size_layer_norm, size_layer_norm]))\n",
    "                    cnn_layers.append(nn.Sigmoid())\n",
    "                    cnn_layers.append(nn.Flatten())\n",
    "                in_channels = out_channels\n",
    "                out_channels *= 2\n",
    "\n",
    "            self.cnn_branch = nn.Sequential(*cnn_layers).to(device)\n",
    "            self.flat_size = self._get_flat_size(imgs_shape)\n",
    "\n",
    "            # Dense (FC) layers\n",
    "            fc_layers = []\n",
    "            input_dim = self.flat_size\n",
    "            for i in range(dense_layers - 1):\n",
    "                fc_layers.append(nn.Linear(int(input_dim), int(input_dim // 2)))\n",
    "                fc_layers.append(nn.ReLU())\n",
    "                input_dim = input_dim // 2\n",
    "            fc_layers.append(nn.Linear(int(input_dim), 1))\n",
    "\n",
    "            self.fc = nn.Sequential(*fc_layers).to(device)\n",
    "\n",
    "        def _get_flat_size(self, imgs_shape):\n",
    "            dummy_input = torch.zeros(1, *imgs_shape, device=self.device)\n",
    "            x = self.cnn_branch(dummy_input)\n",
    "            return x.shape[1]\n",
    "\n",
    "        def forward(self, num_input, img_input):\n",
    "            img_input = img_input.to(self.device)\n",
    "            features = self.cnn_branch(img_input)\n",
    "            output = self.fc(features)\n",
    "            return output\n",
    "\n",
    "    return CustomCNNModel()"
   ]
  },
  {
   "cell_type": "code",
   "execution_count": 28,
   "id": "5dc5e2b8",
   "metadata": {},
   "outputs": [],
   "source": [
    "def grid_search_cnn(dataset, steps=110, opt='LBFGS', batch=-1, filename=None):\n",
    "    cnn_blocks_options = list(range(1, 4))\n",
    "    dense_layers_options = list(range(1, 4))\n",
    "\n",
    "    top_models = []  # list of dicts: each will have 'loss', 'config', 'state_dict'\n",
    "\n",
    "    for cnn_blocks in cnn_blocks_options:\n",
    "        for dense_layers in dense_layers_options:\n",
    "            print(f\"Testing cnn_blocks={cnn_blocks}, dense_layers={dense_layers}\")\n",
    "            model = build_custom_cnn_model(cnn_blocks, dense_layers, imgs_shape)\n",
    "            def train_acc_cnn():\n",
    "                rounded = torch.round(torch.round(model(0, dataset['train_img'])[:,0]))\n",
    "                clipped = torch.clamp(rounded, min=min_expected, max=max_expected)\n",
    "                return torch.mean((clipped == dataset['train_label'][:,0]).type(dtype))\n",
    "            \n",
    "            def val_acc_cnn():\n",
    "                rounded = torch.round(torch.round(model(0, dataset['val_img'])[:,0]))\n",
    "                clipped = torch.clamp(rounded, min=min_expected, max=max_expected)\n",
    "                return torch.mean((clipped == dataset['val_label'][:,0]).type(dtype))\n",
    "            # Custom training\n",
    "            model_state, _, best_epoch = fit_cnn_only_model(model, dataset, steps=steps, opt=opt, batch=batch, \n",
    "                                                        metrics=(train_acc_cnn, val_acc_cnn), display_metrics=['train_acc_cnn', 'val_acc_cnn'])\n",
    "            model.load_state_dict(model_state)\n",
    "\n",
    "            clipped = torch.clamp(torch.round(model(0, dataset['test_img'])[:,0]), min=min_expected, max=max_expected)\n",
    "            avg_acc = torch.mean((clipped == dataset['test_label'][:,0]).type(dtype))\n",
    "            print(avg_acc)\n",
    "            \n",
    "            # Save this model info\n",
    "            top_models.append({\n",
    "                \"avg_acc\": avg_acc,\n",
    "                \"config\": {\"cnn_blocks\": cnn_blocks, \"dense_layers\": dense_layers},\n",
    "                #\"state_dict\": copy.deepcopy(model_state),\n",
    "                \"best_epoch\": best_epoch\n",
    "            })\n",
    "            append_row_to_csv(filename, cnn_blocks, dense_layers, '_', avg_acc.item(), best_epoch)\n",
    "            del model\n",
    "            torch.cuda.empty_cache()\n",
    "            gc.collect()\n",
    "            # Keep only top 5\n",
    "            top_models = sorted(top_models, key=lambda x: x[\"avg_acc\"], reverse=True)[:5]\n",
    "\n",
    "    print(\"\\n✅ Top 5 Configurations:\")\n",
    "    for i, entry in enumerate(top_models):\n",
    "        cfg = entry[\"config\"]\n",
    "        print(f\"{i+1}. cnn_blocks={cfg['cnn_blocks']}, dense_layers={cfg['dense_layers']} | best_epoch={entry['best_epoch']} | acc={entry['avg_acc']:.5f}\")\n",
    "\n",
    "    #return top_models"
   ]
  },
  {
   "cell_type": "markdown",
   "id": "85028d5e",
   "metadata": {},
   "source": [
    "### Hybrid Functions"
   ]
  },
  {
   "cell_type": "code",
   "execution_count": 43,
   "id": "766c41b1",
   "metadata": {},
   "outputs": [],
   "source": [
    "def fit_hybrid_dataloaders(model, \n",
    "                           dataset,\n",
    "                           opt=\"AdamW\", \n",
    "                           steps=100, \n",
    "                           log=1, \n",
    "                           lamb=0., \n",
    "                           lamb_l1=1., \n",
    "                           lamb_entropy=2., \n",
    "                           lamb_coef=0., \n",
    "                           lamb_coefdiff=0., \n",
    "                           update_grid=True, \n",
    "                           grid_update_num=10, \n",
    "                           loss_fn=None, \n",
    "                           lr=1., \n",
    "                           start_grid_update_step=-1, \n",
    "                           stop_grid_update_step=50, \n",
    "                           batch=-1,\n",
    "                           metrics=None, \n",
    "                           save_fig=False, \n",
    "                           in_vars=None, \n",
    "                           out_vars=None, \n",
    "                           beta=3, \n",
    "                           save_fig_freq=1, \n",
    "                           img_folder='./video', \n",
    "                           singularity_avoiding=False, \n",
    "                           y_th=1000., \n",
    "                           reg_metric='edge_forward_spline_n', \n",
    "                           display_metrics=None,\n",
    "                           sum_f_reg=True):\n",
    "    \"\"\"\n",
    "    Trains the hybrid model (with a KAN branch and a CNN branch) using a steps-based loop\n",
    "    adapted from KAN.fit(), with grid updates and regularization.\n",
    "    \n",
    "    Instead of a single dataset dict, this function accepts three DataLoaders:\n",
    "        - train_loader: provides (mlp, img, target) for training\n",
    "        - val_loader: provides (mlp, img, target) for evaluation during training\n",
    "        - test_loader: provides (mlp, img, target) for validation\n",
    "\n",
    "    Internally, the function combines each loader into a dataset dictionary.\n",
    "    \n",
    "    Returns:\n",
    "        results: dictionary containing training loss, evaluation loss, regularization values,\n",
    "                 and any additional metrics recorded during training.\n",
    "    \"\"\"\n",
    "    #device = next(model.parameters()).device\n",
    "\n",
    "    # Warn if regularization is requested but model's internal flag isn't enabled.\n",
    "    if lamb > 0. and not getattr(model.m_kan, \"save_act\", False):\n",
    "        print(\"setting lamb=0. If you want to set lamb > 0, set model.m_kan.save_act=True\")\n",
    "    \n",
    "    # Disable symbolic processing for training if applicable (KAN internal logic)\n",
    "    if hasattr(model.m_kan, \"disable_symbolic_in_fit\"):\n",
    "        old_save_act, old_symbolic_enabled = model.m_kan.disable_symbolic_in_fit(lamb)\n",
    "        f_old_save_act, f_old_symbolic_enabled = model.final_kan.disable_symbolic_in_fit(lamb)\n",
    "    else:\n",
    "        old_save_act, old_symbolic_enabled = None, None\n",
    "\n",
    "    pbar = tqdm(range(steps), desc='Training', ncols=100)\n",
    "\n",
    "    # Default loss function (mean squared error) if not provided\n",
    "    if loss_fn is None:\n",
    "        loss_fn = lambda x, y: torch.mean((x - y) ** 2)\n",
    "\n",
    "    # Determine grid update frequency\n",
    "    grid_update_freq = int(stop_grid_update_step / grid_update_num) if grid_update_num > 0 else 1\n",
    "\n",
    "    # Determine total number of training examples\n",
    "    n_train = dataset[\"train_input\"].shape[0]\n",
    "    n_eval  = dataset[\"val_input\"].shape[0]  # using val set for evaluation during training\n",
    "    batch_size = n_train if batch == -1 or batch > n_train else batch\n",
    "\n",
    "    # Set up optimizer: choose between Adam and LBFGS (removed tolerance_ys)\n",
    "    if opt == \"AdamW\":\n",
    "        optimizer = optim.AdamW(model.parameters(), lr=lr)\n",
    "    elif opt == \"LBFGS\":        \n",
    "        optimizer = LBFGS(model.parameters(), lr=lr, history_size=10, \n",
    "                          line_search_fn=\"strong_wolfe\", \n",
    "                          tolerance_grad=1e-32, \n",
    "                          tolerance_change=1e-32, \n",
    "                          tolerance_ys=1e-32)\n",
    "    else:\n",
    "        raise ValueError(\"Optimizer not recognized. Use 'Adam' or 'LBFGS'.\")\n",
    "\n",
    "    # Prepare results dictionary.\n",
    "    results = {'train_loss': [], 'eval_loss': [], 'reg': []}\n",
    "    \n",
    "    if metrics is not None:\n",
    "        for metric in metrics:\n",
    "            results[metric.__name__] = []\n",
    "\n",
    "    best_model_state = None\n",
    "    best_epoch = -1\n",
    "    best_metric = 0\n",
    "    val_metric = 0\n",
    "\n",
    "    for step in pbar:\n",
    "        # Randomly sample indices for a mini-batch from the training set.\n",
    "        train_indices = np.random.choice(n_train, batch_size, replace=False)\n",
    "        # Use full evaluation set for evaluation; you can also sample if desired.\n",
    "        eval_indices = np.arange(n_eval)\n",
    "        \n",
    "        cached_loss = {}\n",
    "        # Closure for LBFGS\n",
    "        def closure():\n",
    "            optimizer.zero_grad()\n",
    "            mlp_batch = dataset[\"train_input\"][train_indices]\n",
    "            img_batch = dataset[\"train_img\"][train_indices]\n",
    "            target_batch = dataset[\"train_label\"][train_indices]\n",
    "            outputs = model(mlp_batch, img_batch)\n",
    "            train_loss = loss_fn(outputs, target_batch)\n",
    "            # Compute regularization term if enabled.\n",
    "            if hasattr(model.m_kan, \"save_act\") and model.m_kan.save_act:\n",
    "                if reg_metric == 'edge_backward':\n",
    "                    model.m_kan.attribute()\n",
    "                    model.final_kan.attribute()\n",
    "                if reg_metric == 'node_backward':\n",
    "                    model.m_kan.node_attribute()\n",
    "                    model.final_kan.node_attribute()\n",
    "                reg_val_inner = model.m_kan.get_reg(reg_metric, lamb_l1, lamb_entropy, lamb_coef, lamb_coefdiff)\n",
    "                if sum_f_reg:\n",
    "                    reg_val_inner += model.final_kan.get_reg(reg_metric, lamb_l1, lamb_entropy, lamb_coef, lamb_coefdiff)\n",
    "            else:\n",
    "                reg_val_inner = torch.tensor(0., device=device)\n",
    "            loss_val_inner = train_loss + lamb * reg_val_inner\n",
    "            loss_val_inner.backward()\n",
    "            cached_loss['loss'] = loss_val_inner.detach()\n",
    "            cached_loss['reg'] = reg_val_inner.detach()\n",
    "            return loss_val_inner\n",
    "\n",
    "        # Perform grid update if applicable.\n",
    "        if (step % grid_update_freq == 0 and step < stop_grid_update_step \n",
    "            and update_grid and step >= start_grid_update_step):\n",
    "            \n",
    "            mlp_batch = dataset['train_input'][train_indices]\n",
    "            cnn_batch = dataset['train_img'][train_indices]\n",
    "            \n",
    "            model.m_kan.update_grid(mlp_batch)\n",
    "            #cnn_output = model.cnn_branch(cnn_batch)  # Process image input\n",
    "            concatenated = model.get_concat_output(mlp_batch, cnn_batch)\n",
    "\n",
    "            model.final_kan.update_grid(concatenated)\n",
    "\n",
    "        # Perform an optimizer step.\n",
    "        if opt == \"LBFGS\":\n",
    "            optimizer.step(closure)\n",
    "            loss_val = cached_loss['loss']\n",
    "            reg_val = cached_loss['reg']\n",
    "        else:  # AdamW branch\n",
    "            optimizer.zero_grad()\n",
    "            mlp_batch = dataset[\"train_input\"][train_indices]\n",
    "            img_batch = dataset[\"train_img\"][train_indices]\n",
    "            target_batch = dataset[\"train_label\"][train_indices]\n",
    "            outputs = model(mlp_batch, img_batch)\n",
    "            train_loss = loss_fn(outputs, target_batch)\n",
    "            if hasattr(model.m_kan, \"save_act\") and model.m_kan.save_act:\n",
    "                if reg_metric == 'edge_backward':\n",
    "                    model.m_kan.attribute()\n",
    "                    model.final_kan.attribute()\n",
    "                if reg_metric == 'node_backward':\n",
    "                    model.m_kan.node_attribute()\n",
    "                    model.final_kan.node_attribute()\n",
    "                reg_val = model.m_kan.get_reg(reg_metric, lamb_l1, lamb_entropy, lamb_coef, lamb_coefdiff)\n",
    "                if sum_f_reg:\n",
    "                    reg_val = reg_val + model.final_kan.get_reg(reg_metric, lamb_l1, lamb_entropy, lamb_coef, lamb_coefdiff)\n",
    "            else:\n",
    "                reg_val = torch.tensor(0., device=device)\n",
    "            loss_val = train_loss + lamb * reg_val\n",
    "            loss_val.backward()\n",
    "            optimizer.step()\n",
    "\n",
    "\n",
    "        with torch.no_grad():\n",
    "            mlp_eval = dataset[\"val_input\"][eval_indices]\n",
    "            img_eval = dataset[\"val_img\"][eval_indices]\n",
    "            target_eval = dataset[\"val_label\"][eval_indices]\n",
    "            eval_loss = loss_fn(model(mlp_eval, img_eval), target_eval)\n",
    "\n",
    "        # Record results (using square-root of loss similar to KAN.fit)\n",
    "        results['eval_loss'].append(torch.sqrt(eval_loss.detach()).item())\n",
    "        results['reg'].append(reg_val.detach().item())\n",
    "\n",
    "        if metrics is not None:\n",
    "            for metric in metrics:\n",
    "                # Here, we assume each metric returns a tensor.\n",
    "                results[metric.__name__].append(metric().item())\n",
    "\n",
    "\n",
    "        # Update progress bar.\n",
    "        if display_metrics is None:\n",
    "            pbar.set_description(\"| train_loss: %.2e | eval_loss: %.2e | reg: %.2e |\" %\n",
    "                                 (torch.sqrt(loss_val.detach()).item(),\n",
    "                                  torch.sqrt(eval_loss.detach()).item(),\n",
    "                                  reg_val.detach().item()))\n",
    "        else:\n",
    "            string = ''\n",
    "            data = ()\n",
    "            for metric in display_metrics:\n",
    "                val_metric = results[metric][-1]\n",
    "                string += f' {metric}: %.2e |'\n",
    "                try:\n",
    "                    results[metric]\n",
    "                except:\n",
    "                    raise Exception(f'{metric} not recognized')\n",
    "                data += (results[metric][-1],)\n",
    "            pbar.set_description(string % data)\n",
    "\n",
    "        if val_metric > best_metric:\n",
    "            best_epoch = step\n",
    "            best_metric = val_metric\n",
    "            best_model_state = copy.deepcopy(model.state_dict())\n",
    "\n",
    "        # Optionally save a figure snapshot.\n",
    "        if save_fig and step % save_fig_freq == 0:\n",
    "            save_act_backup = getattr(model.m_kan, \"save_act\", False)\n",
    "            model.m_kan.save_act = True\n",
    "            model.plot(folder=img_folder, in_vars=in_vars, out_vars=out_vars, title=f\"Step {step}\", beta=beta)\n",
    "            plt.savefig(os.path.join(img_folder, f\"{step}.jpg\"), bbox_inches='tight', dpi=200)\n",
    "            plt.close()\n",
    "            model.m_kan.save_act = save_act_backup\n",
    "\n",
    "    # Restore original settings if applicable.\n",
    "    if old_symbolic_enabled is not None:\n",
    "        model.m_kan.symbolic_enabled = old_symbolic_enabled\n",
    "    if hasattr(model.m_kan, \"log_history\"):\n",
    "        model.m_kan.log_history('fit')\n",
    "    print(f\"✅ Best validation Accuracy: {best_metric:.4e} at {best_epoch} epoch\")\n",
    "    return best_model_state, results, best_epoch"
   ]
  },
  {
   "cell_type": "code",
   "execution_count": 44,
   "id": "bd3a6174",
   "metadata": {},
   "outputs": [],
   "source": [
    "def try_create_model(model_class, attributes, imgs_shape, kan_neurons, kan_grid):\n",
    "    try:\n",
    "        model = model_class(attributes, imgs_shape, kan_neurons, kan_grid)\n",
    "        \n",
    "        # Test the model with a sample input\n",
    "        num_input = torch.randn(4, attributes)\n",
    "        img_input = torch.randn(4, *imgs_shape)\n",
    "        output = model(num_input, img_input)\n",
    "        \n",
    "        print(f\"Successfully created and tested {model_class.__name__}\")\n",
    "        \n",
    "        return model\n",
    "    except Exception as e:\n",
    "        print(f\"Error creating or testing {model_class.__name__}:\")\n",
    "        traceback.print_exc()\n",
    "        return None"
   ]
  },
  {
   "cell_type": "code",
   "execution_count": 52,
   "id": "14c1082c",
   "metadata": {},
   "outputs": [],
   "source": [
    "def grid_search_kan_hybrid(dataset, model_class, filename=None, hidden_neuron_options=list(range(3, 15)), max_steps=30):\n",
    "    grid_options = list(range(3, 9))\n",
    "    lamb_options = [1e-01, 1e-02, 1e-03, 1e-04, 1e-05, 1e-06, 1e-07]\n",
    "\n",
    "    for hidden in hidden_neuron_options:\n",
    "        for grid in grid_options:\n",
    "            for lamb in lamb_options:\n",
    "                print(f\"Testing {hidden} hidden neurons, lamb={lamb}, grid={grid}\")\n",
    "                model = try_create_model(model_class, attributes, imgs_shape, kan_neurons=hidden, kan_grid=grid)  # Attempt to create Model3\n",
    "                def train_acc_hybrid():\n",
    "                    rounded = torch.round(torch.round(model(dataset['train_input'], dataset['train_img'])[:,0]))\n",
    "                    clipped = torch.clamp(rounded, min=min_expected, max=max_expected)\n",
    "                    return torch.mean((clipped == dataset['train_label'][:,0]).type(dtype))\n",
    "                \n",
    "                def val_acc_hybrid():\n",
    "                    rounded = torch.round(torch.round(model(dataset['val_input'], dataset['val_img'])[:,0]))\n",
    "                    clipped = torch.clamp(rounded, min=min_expected, max=max_expected)\n",
    "                    return torch.mean((clipped == dataset['val_label'][:,0]).type(dtype))\n",
    "\n",
    "                # Custom training\n",
    "                model_state, _, best_epoch = fit_hybrid_dataloaders(model, dataset, opt=\"LBFGS\", steps=max_steps, lamb=lamb,\n",
    "                                                                   metrics=(train_acc_hybrid, val_acc_hybrid), display_metrics=['train_acc_hybrid', 'val_acc_hybrid'])\n",
    "                model.load_state_dict(model_state)\n",
    "\n",
    "                # Evaluate\n",
    "                clipped = torch.clamp(torch.round(model(dataset['test_input'], dataset['test_img'])[:,0]), min=min_expected, max=max_expected)\n",
    "                avg_acc = torch.mean((clipped == dataset['test_label'][:,0]).type(dtype))\n",
    "                print(f'avg_acc {avg_acc}')\n",
    "                append_row_to_csv(filename, hidden, grid, lamb, avg_acc.item(), best_epoch)\n",
    "                # Save this model info\n",
    "                # top_models.append({\n",
    "                #     \"avg_acc\": avg_acc,\n",
    "                #     \"config\": {\"hidden\": hidden, \"grid\": grid, \"lamb\": lamb},\n",
    "                #     #\"state_dict\": copy.deepcopy(model_state),\n",
    "                #     \"best_epoch\": best_epoch\n",
    "                # })\n",
    "                del model\n",
    "                torch.cuda.empty_cache()\n",
    "                gc.collect()\n",
    "        # Keep only top 5\n",
    "    #     top_models = sorted(top_models, key=lambda x: x[\"avg_acc\"], reverse=True)[:5]\n",
    "\n",
    "    # print(\"\\n✅ Top 5 Configurations:\")\n",
    "    # for i, entry in enumerate(top_models):\n",
    "    #     cfg = entry[\"config\"]\n",
    "    #     print(f\"{i+1}. width=[{attributes}, {cfg['hidden']}, 1], grid={cfg['grid']}, lamb={cfg['lamb']}| best_epoch={entry['best_epoch']} | avg_acc={entry['avg_acc']:.5f}\")\n"
   ]
  },
  {
   "cell_type": "markdown",
   "id": "99c6d3c0-3ffb-47ce-9bd8-65c6f8ececba",
   "metadata": {
    "jp-MarkdownHeadingCollapsed": true
   },
   "source": [
    "# Set Files Name"
   ]
  },
  {
   "cell_type": "code",
   "execution_count": 1,
   "id": "093e88ce-9fa4-4540-9430-088bc2f31f6c",
   "metadata": {},
   "outputs": [],
   "source": [
    "def create_csv_with_header(filename):\n",
    "    header=['kan_neurons', 'kan_grid', 'lamb', 'ACC', 'Best_Epoch']\n",
    "    \"\"\"Creates a CSV file with a given header.\"\"\"\n",
    "    with open(filename, mode='w', newline='') as file:\n",
    "        writer = csv.writer(file)\n",
    "        writer.writerow(header)"
   ]
  },
  {
   "cell_type": "code",
   "execution_count": null,
   "id": "fc6f29c1-420a-44a3-acfa-b2b4aba96a40",
   "metadata": {},
   "outputs": [],
   "source": [
    "def append_row_to_csv(filename, kan_neurons, kan_grid, lamb, acc, best_epoch):\n",
    "    row = [kan_neurons, kan_grid, lamb, acc, best_epoch]\n",
    "    \"\"\"Appends a single row to an existing CSV file.\"\"\"\n",
    "    if not os.path.isfile(filename):\n",
    "        raise FileNotFoundError(f\"{filename} does not exist. Please create the file first with a header.\")\n",
    "    with open(filename, mode='a', newline='') as file:\n",
    "        writer = csv.writer(file)\n",
    "        writer.writerow(row)"
   ]
  },
  {
   "cell_type": "markdown",
   "id": "e503d65b-47e8-4c00-a84f-cec61e51ba9d",
   "metadata": {
    "jp-MarkdownHeadingCollapsed": true
   },
   "source": [
    "# Load Dataset and Images"
   ]
  },
  {
   "cell_type": "code",
   "execution_count": 18,
   "id": "c0d46e15-1287-4f1e-ba6a-cc05b3c8915f",
   "metadata": {},
   "outputs": [],
   "source": [
    "X_train, y_train = load_and_clean('N_train.npy', 'y_train.npy',x_col, target_col)\n",
    "X_test, y_test   = load_and_clean('N_test.npy',  'y_test.npy', x_col, target_col)\n",
    "X_val, y_val     = load_and_clean('N_val.npy',   'y_val.npy', x_col, target_col)"
   ]
  },
  {
   "cell_type": "code",
   "execution_count": 19,
   "id": "92613d4f-1cd2-49f8-82a9-620fda68b565",
   "metadata": {},
   "outputs": [
    {
     "name": "stdout",
     "output_type": "stream",
     "text": [
      "4\n"
     ]
    }
   ],
   "source": [
    "# Get the shape of the dataframe\n",
    "num_columns = X_train.shape[1]\n",
    "\n",
    "# Calculate number of columns - 1\n",
    "columns_minus_one = num_columns - 1\n",
    "\n",
    "# Calculate the square root for image size\n",
    "image_size = math.ceil(math.sqrt(num_columns))\n",
    "print(image_size)"
   ]
  },
  {
   "cell_type": "code",
   "execution_count": 20,
   "id": "a28853f7-dcee-47de-91eb-8f35177b8913",
   "metadata": {},
   "outputs": [],
   "source": [
    "dataset_name = 'FOREX_cadjpy-day-High'\n",
    "#Select the model and the parameters\n",
    "problem_type = \"supervised\"\n",
    "pixel=20\n",
    "image_model = TINTO(problem=problem_type, blur=False, pixels=pixel, random_seed=SEED)\n",
    "name = f\"TINTO\"\n",
    "\n",
    "#Define the dataset path and the folder where the images will be saved\n",
    "images_folder = f\"HyNNImages/Regression/{dataset_name}/images_{dataset_name}_{name}\""
   ]
  },
  {
   "cell_type": "code",
   "execution_count": 21,
   "id": "a01e98f2-1bea-4364-b0bc-3d0412ebba5c",
   "metadata": {
    "scrolled": true
   },
   "outputs": [
    {
     "name": "stdout",
     "output_type": "stream",
     "text": [
      "Images shape:  (3, 8, 8)\n",
      "Attributes:  10\n"
     ]
    },
    {
     "data": {
      "image/png": "[encoded data removed]",
      "text/plain": [
       "<Figure size 8x8 with 1 Axes>"
      ]
     },
     "metadata": {},
     "output_type": "display_data"
    },
    {
     "data": {
      "image/png": "[encoded data removed]",
      "text/plain": [
       "<Figure size 8x8 with 1 Axes>"
      ]
     },
     "metadata": {},
     "output_type": "display_data"
    },
    {
     "data": {
      "image/png": "[encoded data removed]",
      "text/plain": [
       "<Figure size 8x8 with 1 Axes>"
      ]
     },
     "metadata": {},
     "output_type": "display_data"
    }
   ],
   "source": [
    "train_loader, val_loader, test_loader, attributes, imgs_shape = load_and_preprocess_data(\n",
    "    X_train, y_train, X_test, y_test, X_val, y_val,\n",
    "    image_model=image_model,\n",
    "    problem_type=problem_type,\n",
    "    batch_size=16\n",
    ")"
   ]
  },
  {
   "cell_type": "code",
   "execution_count": 22,
   "id": "2c84fd70-94ac-4546-b907-00fe548676ba",
   "metadata": {},
   "outputs": [],
   "source": [
    "# Combine dataloaders into tensors.\n",
    "train_mlp, train_img, train_target = combine_loader(train_loader)\n",
    "val_mlp, val_img, val_target = combine_loader(val_loader)\n",
    "test_mlp, test_img, test_target = combine_loader(test_loader)\n",
    "\n",
    "dataset = {\n",
    "    \"train_input\": train_mlp.to(device),\n",
    "    \"train_img\": train_img.to(device),\n",
    "    \"train_label\": train_target.to(device),\n",
    "    \"val_input\": val_mlp.to(device),\n",
    "    \"val_img\": val_img.to(device),\n",
    "    \"val_label\": val_target.to(device),\n",
    "    \"test_input\": test_mlp.to(device),\n",
    "    \"test_img\": test_img.to(device),\n",
    "    \"test_label\": test_target.to(device),\n",
    "}"
   ]
  },
  {
   "cell_type": "code",
   "execution_count": 23,
   "id": "d8382d81-df3d-4828-90a0-a472f0fb312e",
   "metadata": {},
   "outputs": [
    {
     "name": "stdout",
     "output_type": "stream",
     "text": [
      "Train data shape: torch.Size([1173, 10])\n",
      "Train target shape: torch.Size([1173, 1])\n",
      "Test data shape: torch.Size([367, 10])\n",
      "Test target shape: torch.Size([367, 1])\n",
      "Validation data shape: torch.Size([294, 10])\n",
      "Validation target shape: torch.Size([294, 1])\n"
     ]
    }
   ],
   "source": [
    "# Print the shapes of the tensors\n",
    "print(\"Train data shape:\", dataset['train_input'].shape)\n",
    "print(\"Train target shape:\", dataset['train_label'].shape)\n",
    "print(\"Test data shape:\", dataset['test_input'].shape)\n",
    "print(\"Test target shape:\", dataset['test_label'].shape)\n",
    "print(\"Validation data shape:\", dataset['val_input'].shape)\n",
    "print(\"Validation target shape:\", dataset['val_label'].shape)"
   ]
  },
  {
   "cell_type": "code",
   "execution_count": null,
   "id": "3e23f0ca-d7a4-4880-9baa-304024f7836c",
   "metadata": {},
   "outputs": [],
   "source": [
    "filename_1=f'{dataset_name}_tinto_grid_search_kan.csv'\n",
    "filename_2=f'{dataset_name}_tinto_grid_search_cnn.csv'\n",
    "filename_3=f'{dataset_name}_tinto_grid_search_hybrid3.csv'\n",
    "filename_4=f'{dataset_name}_tinto_grid_search_hybrid4.csv'"
   ]
  },
  {
   "cell_type": "markdown",
   "id": "16745534-695d-44df-a61b-187a86e86579",
   "metadata": {},
   "source": [
    "# Grid Search for CNN"
   ]
  },
  {
   "cell_type": "code",
   "execution_count": null,
   "id": "0d821c11-6cc6-4c87-9391-5461be04d173",
   "metadata": {},
   "outputs": [],
   "source": [
    "create_csv_with_header(filename_2, header=['cnn_blocks', 'dense_layers', '_', 'Acc', 'Best_Epoch'])"
   ]
  },
  {
   "cell_type": "code",
   "execution_count": 34,
   "id": "6de250fe-da38-4db0-954a-bddb0b43137a",
   "metadata": {
    "scrolled": true
   },
   "outputs": [
    {
     "name": "stdout",
     "output_type": "stream",
     "text": [
      "Testing cnn_blocks=1, dense_layers=1\n"
     ]
    },
    {
     "name": "stderr",
     "output_type": "stream",
     "text": [
      " train_acc_cnn: 7.25e-01 | val_acc_cnn: 7.11e-01 |: 100%|█████████| 110/110 [00:14<00:00,  7.77it/s]\n"
     ]
    },
    {
     "name": "stdout",
     "output_type": "stream",
     "text": [
      "✅ Best validation Acc: 7.1429e-01 at 5 epoch\n",
      "tensor(0.7057, device='cuda:0')\n",
      "Testing cnn_blocks=1, dense_layers=2\n"
     ]
    },
    {
     "name": "stderr",
     "output_type": "stream",
     "text": [
      " train_acc_cnn: 7.16e-01 | val_acc_cnn: 7.11e-01 |: 100%|█████████| 110/110 [00:14<00:00,  7.47it/s]\n"
     ]
    },
    {
     "name": "stdout",
     "output_type": "stream",
     "text": [
      "✅ Best validation Acc: 7.1088e-01 at 17 epoch\n",
      "tensor(0.7030, device='cuda:0')\n",
      "Testing cnn_blocks=1, dense_layers=3\n"
     ]
    },
    {
     "name": "stderr",
     "output_type": "stream",
     "text": [
      " train_acc_cnn: 6.98e-01 | val_acc_cnn: 7.07e-01 |: 100%|█████████| 110/110 [00:14<00:00,  7.49it/s]\n"
     ]
    },
    {
     "name": "stdout",
     "output_type": "stream",
     "text": [
      "✅ Best validation Acc: 7.0748e-01 at 13 epoch\n",
      "tensor(0.6948, device='cuda:0')\n",
      "Testing cnn_blocks=2, dense_layers=1\n"
     ]
    },
    {
     "name": "stderr",
     "output_type": "stream",
     "text": [
      " train_acc_cnn: 7.77e-01 | val_acc_cnn: 7.04e-01 |: 100%|█████████| 110/110 [00:48<00:00,  2.25it/s]\n"
     ]
    },
    {
     "name": "stdout",
     "output_type": "stream",
     "text": [
      "✅ Best validation Acc: 7.3129e-01 at 6 epoch\n",
      "tensor(0.7193, device='cuda:0')\n",
      "Testing cnn_blocks=2, dense_layers=2\n"
     ]
    },
    {
     "name": "stderr",
     "output_type": "stream",
     "text": [
      " train_acc_cnn: 7.54e-01 | val_acc_cnn: 6.80e-01 |: 100%|█████████| 110/110 [00:53<00:00,  2.05it/s]\n"
     ]
    },
    {
     "name": "stdout",
     "output_type": "stream",
     "text": [
      "✅ Best validation Acc: 7.2449e-01 at 16 epoch\n",
      "tensor(0.7003, device='cuda:0')\n",
      "Testing cnn_blocks=2, dense_layers=3\n"
     ]
    },
    {
     "name": "stderr",
     "output_type": "stream",
     "text": [
      " train_acc_cnn: 7.08e-01 | val_acc_cnn: 7.18e-01 |: 100%|█████████| 110/110 [00:35<00:00,  3.07it/s]\n"
     ]
    },
    {
     "name": "stdout",
     "output_type": "stream",
     "text": [
      "✅ Best validation Acc: 7.3129e-01 at 69 epoch\n",
      "tensor(0.7084, device='cuda:0')\n",
      "Testing cnn_blocks=3, dense_layers=1\n"
     ]
    },
    {
     "name": "stderr",
     "output_type": "stream",
     "text": [
      " train_acc_cnn: 8.45e-01 | val_acc_cnn: 6.12e-01 |: 100%|█████████| 110/110 [00:58<00:00,  1.87it/s]\n"
     ]
    },
    {
     "name": "stdout",
     "output_type": "stream",
     "text": [
      "✅ Best validation Acc: 7.3469e-01 at 5 epoch\n",
      "tensor(0.7139, device='cuda:0')\n",
      "Testing cnn_blocks=3, dense_layers=2\n"
     ]
    },
    {
     "name": "stderr",
     "output_type": "stream",
     "text": [
      " train_acc_cnn: 7.92e-01 | val_acc_cnn: 6.87e-01 |: 100%|█████████| 110/110 [00:59<00:00,  1.85it/s]\n"
     ]
    },
    {
     "name": "stdout",
     "output_type": "stream",
     "text": [
      "✅ Best validation Acc: 7.3810e-01 at 10 epoch\n",
      "tensor(0.6866, device='cuda:0')\n",
      "Testing cnn_blocks=3, dense_layers=3\n"
     ]
    },
    {
     "name": "stderr",
     "output_type": "stream",
     "text": [
      " train_acc_cnn: 7.54e-01 | val_acc_cnn: 6.80e-01 |: 100%|█████████| 110/110 [01:03<00:00,  1.72it/s]\n"
     ]
    },
    {
     "name": "stdout",
     "output_type": "stream",
     "text": [
      "✅ Best validation Acc: 7.1769e-01 at 30 epoch\n",
      "tensor(0.6839, device='cuda:0')\n",
      "\n",
      "✅ Top 5 Configurations:\n",
      "1. cnn_blocks=2, dense_layers=1 | best_epoch=6 | acc=0.71935\n",
      "2. cnn_blocks=3, dense_layers=1 | best_epoch=5 | acc=0.71390\n",
      "3. cnn_blocks=2, dense_layers=3 | best_epoch=69 | acc=0.70845\n",
      "4. cnn_blocks=1, dense_layers=1 | best_epoch=5 | acc=0.70572\n",
      "5. cnn_blocks=1, dense_layers=2 | best_epoch=17 | acc=0.70300\n"
     ]
    }
   ],
   "source": [
    "grid_search_cnn(dataset, steps=110, filename=filename_2)"
   ]
  },
  {
   "cell_type": "code",
   "execution_count": 33,
   "id": "39d80f38-3f58-47fb-a4d7-c9ca047644f5",
   "metadata": {
    "scrolled": true
   },
   "outputs": [
    {
     "name": "stdout",
     "output_type": "stream",
     "text": [
      "Testing cnn_blocks=1, dense_layers=1\n"
     ]
    },
    {
     "name": "stderr",
     "output_type": "stream",
     "text": [
      " train_acc_cnn: 7.27e-01 | val_acc_cnn: 7.11e-01 |: 100%|█████████| 110/110 [00:21<00:00,  5.02it/s]\n"
     ]
    },
    {
     "name": "stdout",
     "output_type": "stream",
     "text": [
      "✅ Best validation Acc: 7.1429e-01 at 3 epoch\n",
      "tensor(0.7166, device='cuda:0')\n",
      "Testing cnn_blocks=1, dense_layers=2\n"
     ]
    },
    {
     "name": "stderr",
     "output_type": "stream",
     "text": [
      " train_acc_cnn: 7.26e-01 | val_acc_cnn: 7.01e-01 |: 100%|█████████| 110/110 [00:34<00:00,  3.20it/s]\n"
     ]
    },
    {
     "name": "stdout",
     "output_type": "stream",
     "text": [
      "✅ Best validation Acc: 7.2109e-01 at 18 epoch\n",
      "tensor(0.7084, device='cuda:0')\n",
      "Testing cnn_blocks=1, dense_layers=3\n"
     ]
    },
    {
     "name": "stderr",
     "output_type": "stream",
     "text": [
      " train_acc_cnn: 6.90e-01 | val_acc_cnn: 7.04e-01 |: 100%|█████████| 110/110 [00:13<00:00,  8.37it/s]\n"
     ]
    },
    {
     "name": "stdout",
     "output_type": "stream",
     "text": [
      "✅ Best validation Acc: 7.1088e-01 at 9 epoch\n",
      "tensor(0.6894, device='cuda:0')\n",
      "Testing cnn_blocks=2, dense_layers=1\n"
     ]
    },
    {
     "name": "stderr",
     "output_type": "stream",
     "text": [
      " train_acc_cnn: 7.65e-01 | val_acc_cnn: 6.97e-01 |: 100%|█████████| 110/110 [00:51<00:00,  2.14it/s]\n"
     ]
    },
    {
     "name": "stdout",
     "output_type": "stream",
     "text": [
      "✅ Best validation Acc: 7.1769e-01 at 5 epoch\n",
      "tensor(0.7275, device='cuda:0')\n",
      "Testing cnn_blocks=2, dense_layers=2\n"
     ]
    },
    {
     "name": "stderr",
     "output_type": "stream",
     "text": [
      " train_acc_cnn: 7.62e-01 | val_acc_cnn: 6.94e-01 |: 100%|█████████| 110/110 [00:55<00:00,  1.99it/s]\n"
     ]
    },
    {
     "name": "stdout",
     "output_type": "stream",
     "text": [
      "✅ Best validation Acc: 7.2449e-01 at 11 epoch\n",
      "tensor(0.6975, device='cuda:0')\n",
      "Testing cnn_blocks=2, dense_layers=3\n"
     ]
    },
    {
     "name": "stderr",
     "output_type": "stream",
     "text": [
      " train_acc_cnn: 7.08e-01 | val_acc_cnn: 7.31e-01 |: 100%|█████████| 110/110 [00:32<00:00,  3.37it/s]\n"
     ]
    },
    {
     "name": "stdout",
     "output_type": "stream",
     "text": [
      "✅ Best validation Acc: 7.3469e-01 at 79 epoch\n",
      "tensor(0.7030, device='cuda:0')\n",
      "Testing cnn_blocks=3, dense_layers=1\n"
     ]
    },
    {
     "name": "stderr",
     "output_type": "stream",
     "text": [
      " train_acc_cnn: 8.26e-01 | val_acc_cnn: 6.46e-01 |: 100%|█████████| 110/110 [00:57<00:00,  1.93it/s]\n"
     ]
    },
    {
     "name": "stdout",
     "output_type": "stream",
     "text": [
      "✅ Best validation Acc: 7.2789e-01 at 7 epoch\n",
      "tensor(0.7030, device='cuda:0')\n",
      "Testing cnn_blocks=3, dense_layers=2\n"
     ]
    },
    {
     "name": "stderr",
     "output_type": "stream",
     "text": [
      " train_acc_cnn: 8.11e-01 | val_acc_cnn: 6.50e-01 |: 100%|█████████| 110/110 [00:58<00:00,  1.88it/s]\n"
     ]
    },
    {
     "name": "stdout",
     "output_type": "stream",
     "text": [
      "✅ Best validation Acc: 7.3129e-01 at 17 epoch\n",
      "tensor(0.7030, device='cuda:0')\n",
      "Testing cnn_blocks=3, dense_layers=3\n"
     ]
    },
    {
     "name": "stderr",
     "output_type": "stream",
     "text": [
      " train_acc_cnn: 7.61e-01 | val_acc_cnn: 6.67e-01 |: 100%|█████████| 110/110 [01:03<00:00,  1.74it/s]\n"
     ]
    },
    {
     "name": "stdout",
     "output_type": "stream",
     "text": [
      "✅ Best validation Acc: 7.2109e-01 at 9 epoch\n",
      "tensor(0.6730, device='cuda:0')\n",
      "\n",
      "✅ Top 5 Configurations:\n",
      "1. cnn_blocks=2, dense_layers=1 | best_epoch=5 | acc=0.72752\n",
      "2. cnn_blocks=1, dense_layers=1 | best_epoch=3 | acc=0.71662\n",
      "3. cnn_blocks=1, dense_layers=2 | best_epoch=18 | acc=0.70845\n",
      "4. cnn_blocks=2, dense_layers=3 | best_epoch=79 | acc=0.70300\n",
      "5. cnn_blocks=3, dense_layers=1 | best_epoch=7 | acc=0.70300\n"
     ]
    }
   ],
   "source": [
    "grid_search_cnn(dataset)"
   ]
  },
  {
   "cell_type": "markdown",
   "id": "7d9db396-7fe4-4043-97ce-b8f5983224af",
   "metadata": {},
   "source": [
    "# Grid Search for Hibrid Model3"
   ]
  },
  {
   "cell_type": "code",
   "execution_count": 47,
   "id": "24658826-eff0-4b3d-b42b-e3d524d00b17",
   "metadata": {},
   "outputs": [],
   "source": [
    "class Model3(nn.Module):\n",
    "    def __init__(self, attributes, imgs_shape, kan_neurons, kan_grid, device=device):\n",
    "        super(Model3, self).__init__()\n",
    "        # CNN branch\n",
    "        self.cnn_branch = nn.Sequential(\n",
    "            nn.Conv2d(imgs_shape[0], 16, kernel_size=3, padding=2),     # out: 16 x 9 x 9\n",
    "            nn.LayerNorm([16, 22, 22]),\n",
    "            nn.Sigmoid(),\n",
    "            nn.Flatten()\n",
    "        ).to(device)\n",
    "        # Final KAN layers\n",
    "        self.m_kan = KAN(\n",
    "            width=[attributes, kan_neurons],\n",
    "            grid=kan_grid,\n",
    "            k=3,\n",
    "            seed=SEED,\n",
    "            device=device\n",
    "        )\n",
    "\n",
    "        # Calculate the size of the flattened output\n",
    "        self.flat_size = self._get_flat_size(imgs_shape)\n",
    "\n",
    "        # Final MLP layers\n",
    "        self.final_kan = KAN(\n",
    "            width=[self.flat_size + kan_neurons, 1],\n",
    "            grid=kan_grid,\n",
    "            k=3,\n",
    "            seed=SEED,\n",
    "            device=device\n",
    "        )\n",
    "\n",
    "        self.device = device\n",
    "\n",
    "\n",
    "    def _get_flat_size(self, imgs_shape):\n",
    "        # Forward pass with dummy input to calculate flat size\n",
    "        dummy_input = torch.zeros(4, *imgs_shape, device=device)\n",
    "        x = self.cnn_branch(dummy_input)\n",
    "        return x.size(1)\n",
    "\n",
    "    def get_concat_output(self, mlp_input, cnn_input):\n",
    "        # Ensure inputs are moved to the correct device\n",
    "        kan_input = mlp_input.to(self.device)\n",
    "        cnn_input = cnn_input.to(self.device)\n",
    "        \n",
    "        cnn_output = self.cnn_branch(cnn_input)  # Process image input\n",
    "        kan_output = self.m_kan(kan_input)  # Process numerical input\n",
    "        \n",
    "        return torch.cat((kan_output, cnn_output), dim=1)\n",
    "\n",
    "    \n",
    "    def forward(self, mlp_input, cnn_input):\n",
    "        concat_output = self.get_concat_output(mlp_input, cnn_input)\n",
    "        return self.final_kan(concat_output)"
   ]
  },
  {
   "cell_type": "markdown",
   "id": "fcf11c85-29f8-48ad-97fa-3a951592a88a",
   "metadata": {},
   "source": [
    "## Grid Search 3"
   ]
  },
  {
   "cell_type": "code",
   "execution_count": null,
   "id": "e7ae37c3-9244-4f6a-8340-70dc6df68cf2",
   "metadata": {},
   "outputs": [],
   "source": [
    "create_csv_with_header(filename_3)"
   ]
  },
  {
   "cell_type": "code",
   "execution_count": null,
   "id": "529c85e9-5443-4c47-8f38-ae868f57ccb2",
   "metadata": {},
   "outputs": [],
   "source": [
    "grid_search_kan_hybrid(dataset, Model3, filename_3, max_steps=100, hidden_neuron_options=[13,12,11,10,9,8,7,6,5,4,3,2,1])"
   ]
  },
  {
   "cell_type": "code",
   "execution_count": 56,
   "id": "2b7dc18d-5bec-4fe8-9adc-152a4501f2db",
   "metadata": {},
   "outputs": [],
   "source": [
    "class Model4(nn.Module):\n",
    "    def __init__(self, attributes, imgs_shape, kan_neurons, kan_grid, device=device):\n",
    "        super(Model4, self).__init__()\n",
    "\n",
    "        self.cnn_branch = nn.Sequential(\n",
    "            nn.Conv2d(imgs_shape[0], 16, kernel_size=3, padding=2),     # out: 16 x 9 x 9\n",
    "            nn.BatchNorm2d(16),\n",
    "            nn.ReLU(),\n",
    "            nn.MaxPool2d(2),                                            # out: 16 x 4 x 4\n",
    "\n",
    "            nn.Conv2d(16, 32, kernel_size=3, padding=2),\n",
    "            nn.LayerNorm([32, 13, 13]),\n",
    "            nn.Sigmoid(),\n",
    "            nn.Flatten()\n",
    "        ).to(device)\n",
    "\n",
    "        # Middle KAN layers\n",
    "        self.m_kan = KAN(\n",
    "            width=[attributes, kan_neurons],\n",
    "            grid=kan_grid,\n",
    "            k=3,\n",
    "            seed=SEED,\n",
    "            device=device\n",
    "        )\n",
    "        # Calculate the size of the flattened output\n",
    "        self.flat_size = self._get_flat_size(imgs_shape)\n",
    "        # Final MLP layers\n",
    "        self.final_kan = KAN(\n",
    "            width=[self.flat_size + kan_neurons, 1],\n",
    "            grid=kan_grid,\n",
    "            k=3,\n",
    "            device=device\n",
    "        )\n",
    "        \n",
    "        self.device = device\n",
    "\n",
    "    def _get_flat_size(self, imgs_shape):\n",
    "        # Forward pass with dummy input to calculate flat size\n",
    "        dummy_input = torch.zeros(4, *imgs_shape, device=device)\n",
    "        x = self.cnn_branch(dummy_input)\n",
    "        return x.size(1)\n",
    "\n",
    "    def get_concat_output(self, mlp_input, cnn_input):\n",
    "        # Ensure inputs are moved to the correct device\n",
    "        kan_input = mlp_input.to(self.device)\n",
    "        cnn_input = cnn_input.to(self.device)\n",
    "        \n",
    "        cnn_output = self.cnn_branch(cnn_input)  # Process image input\n",
    "        kan_output = self.m_kan(kan_input)  # Process numerical input\n",
    "        \n",
    "        return torch.cat((kan_output, cnn_output), dim=1)\n",
    "\n",
    "    \n",
    "    def forward(self, mlp_input, cnn_input):\n",
    "        concat_output = self.get_concat_output(mlp_input, cnn_input)\n",
    "        return self.final_kan(concat_output)"
   ]
  },
  {
   "cell_type": "code",
   "execution_count": null,
   "id": "094ab610-8741-4d17-afa8-5bf6480b7921",
   "metadata": {},
   "outputs": [],
   "source": [
    "create_csv_with_header(filename_4)"
   ]
  },
  {
   "cell_type": "code",
   "execution_count": 57,
   "id": "6797fb32-392a-4191-851d-501a47cc3498",
   "metadata": {
    "scrolled": true
   },
   "outputs": [
    {
     "name": "stdout",
     "output_type": "stream",
     "text": [
      "Testing 1 hidden neurons, lamb=0.1, grid=3\n",
      "checkpoint directory created: ./model\n",
      "saving model version 0.0\n",
      "checkpoint directory created: ./model\n",
      "saving model version 0.0\n",
      "Successfully created and tested Model4\n"
     ]
    },
    {
     "name": "stderr",
     "output_type": "stream",
     "text": [
      " train_acc_hybrid: 5.01e-01 | val_acc_hybrid: 5.03e-01 |: 100%|█████| 70/70 [01:22<00:00,  1.18s/it]\n"
     ]
    },
    {
     "name": "stdout",
     "output_type": "stream",
     "text": [
      "saving model version 0.1\n",
      "✅ Best validation Accuracy: 5.0340e-01 at 1 epoch\n",
      "avg_acc 0.5013623833656311\n",
      "Testing 1 hidden neurons, lamb=0.01, grid=3\n",
      "checkpoint directory created: ./model\n",
      "saving model version 0.0\n",
      "checkpoint directory created: ./model\n",
      "saving model version 0.0\n",
      "Successfully created and tested Model4\n"
     ]
    },
    {
     "name": "stderr",
     "output_type": "stream",
     "text": [
      " train_acc_hybrid: 5.01e-01 | val_acc_hybrid: 5.03e-01 |: 100%|█████| 70/70 [01:07<00:00,  1.04it/s]\n"
     ]
    },
    {
     "name": "stdout",
     "output_type": "stream",
     "text": [
      "saving model version 0.1\n",
      "✅ Best validation Accuracy: 5.2381e-01 at 2 epoch\n",
      "avg_acc 0.4931879937648773\n",
      "Testing 1 hidden neurons, lamb=0.001, grid=3\n",
      "checkpoint directory created: ./model\n",
      "saving model version 0.0\n",
      "checkpoint directory created: ./model\n",
      "saving model version 0.0\n",
      "Successfully created and tested Model4\n"
     ]
    },
    {
     "name": "stderr",
     "output_type": "stream",
     "text": [
      " train_acc_hybrid: 7.54e-01 | val_acc_hybrid: 7.01e-01 |: 100%|█████| 70/70 [01:36<00:00,  1.37s/it]\n"
     ]
    },
    {
     "name": "stdout",
     "output_type": "stream",
     "text": [
      "saving model version 0.1\n",
      "✅ Best validation Accuracy: 7.1769e-01 at 21 epoch\n",
      "avg_acc 0.6975476741790771\n",
      "Testing 1 hidden neurons, lamb=0.0001, grid=3\n",
      "checkpoint directory created: ./model\n",
      "saving model version 0.0\n",
      "checkpoint directory created: ./model\n",
      "saving model version 0.0\n",
      "Successfully created and tested Model4\n"
     ]
    },
    {
     "name": "stderr",
     "output_type": "stream",
     "text": [
      " train_acc_hybrid: 7.73e-01 | val_acc_hybrid: 6.56e-01 |: 100%|█████| 70/70 [01:33<00:00,  1.33s/it]\n"
     ]
    },
    {
     "name": "stdout",
     "output_type": "stream",
     "text": [
      "saving model version 0.1\n",
      "✅ Best validation Accuracy: 7.2449e-01 at 6 epoch\n",
      "avg_acc 0.6975476741790771\n",
      "Testing 1 hidden neurons, lamb=1e-05, grid=3\n",
      "checkpoint directory created: ./model\n",
      "saving model version 0.0\n",
      "checkpoint directory created: ./model\n",
      "saving model version 0.0\n",
      "Successfully created and tested Model4\n"
     ]
    },
    {
     "name": "stderr",
     "output_type": "stream",
     "text": [
      " train_acc_hybrid: 7.68e-01 | val_acc_hybrid: 6.02e-01 |: 100%|█████| 70/70 [01:31<00:00,  1.31s/it]\n"
     ]
    },
    {
     "name": "stdout",
     "output_type": "stream",
     "text": [
      "saving model version 0.1\n",
      "✅ Best validation Accuracy: 7.3129e-01 at 5 epoch\n",
      "avg_acc 0.7057220339775085\n",
      "Testing 1 hidden neurons, lamb=1e-06, grid=3\n",
      "checkpoint directory created: ./model\n",
      "saving model version 0.0\n",
      "checkpoint directory created: ./model\n",
      "saving model version 0.0\n",
      "Successfully created and tested Model4\n"
     ]
    },
    {
     "name": "stderr",
     "output_type": "stream",
     "text": [
      " train_acc_hybrid: 7.77e-01 | val_acc_hybrid: 5.65e-01 |: 100%|█████| 70/70 [01:33<00:00,  1.34s/it]\n"
     ]
    },
    {
     "name": "stdout",
     "output_type": "stream",
     "text": [
      "saving model version 0.1\n",
      "✅ Best validation Accuracy: 7.3469e-01 at 5 epoch\n",
      "avg_acc 0.7220708131790161\n",
      "Testing 1 hidden neurons, lamb=1e-07, grid=3\n",
      "checkpoint directory created: ./model\n",
      "saving model version 0.0\n",
      "checkpoint directory created: ./model\n",
      "saving model version 0.0\n",
      "Successfully created and tested Model4\n"
     ]
    },
    {
     "name": "stderr",
     "output_type": "stream",
     "text": [
      " train_acc_hybrid: 7.68e-01 | val_acc_hybrid: 6.39e-01 |: 100%|█████| 70/70 [01:33<00:00,  1.33s/it]\n"
     ]
    },
    {
     "name": "stdout",
     "output_type": "stream",
     "text": [
      "saving model version 0.1\n",
      "✅ Best validation Accuracy: 7.4150e-01 at 7 epoch\n",
      "avg_acc 0.7029972672462463\n",
      "Testing 1 hidden neurons, lamb=0.1, grid=4\n",
      "checkpoint directory created: ./model\n",
      "saving model version 0.0\n",
      "checkpoint directory created: ./model\n",
      "saving model version 0.0\n",
      "Successfully created and tested Model4\n"
     ]
    },
    {
     "name": "stderr",
     "output_type": "stream",
     "text": [
      " train_acc_hybrid: 5.01e-01 | val_acc_hybrid: 5.03e-01 |: 100%|█████| 70/70 [01:22<00:00,  1.17s/it]\n"
     ]
    },
    {
     "name": "stdout",
     "output_type": "stream",
     "text": [
      "saving model version 0.1\n",
      "✅ Best validation Accuracy: 5.0340e-01 at 1 epoch\n",
      "avg_acc 0.5013623833656311\n",
      "Testing 1 hidden neurons, lamb=0.01, grid=4\n",
      "checkpoint directory created: ./model\n",
      "saving model version 0.0\n",
      "checkpoint directory created: ./model\n",
      "saving model version 0.0\n",
      "Successfully created and tested Model4\n"
     ]
    },
    {
     "name": "stderr",
     "output_type": "stream",
     "text": [
      " train_acc_hybrid: 5.01e-01 | val_acc_hybrid: 5.03e-01 |: 100%|█████| 70/70 [01:15<00:00,  1.07s/it]\n"
     ]
    },
    {
     "name": "stdout",
     "output_type": "stream",
     "text": [
      "saving model version 0.1\n",
      "✅ Best validation Accuracy: 5.1020e-01 at 0 epoch\n",
      "avg_acc 0.4931879937648773\n",
      "Testing 1 hidden neurons, lamb=0.001, grid=4\n",
      "checkpoint directory created: ./model\n",
      "saving model version 0.0\n",
      "checkpoint directory created: ./model\n",
      "saving model version 0.0\n",
      "Successfully created and tested Model4\n"
     ]
    },
    {
     "name": "stderr",
     "output_type": "stream",
     "text": [
      " train_acc_hybrid: 7.88e-01 | val_acc_hybrid: 6.56e-01 |: 100%|█████| 70/70 [01:41<00:00,  1.46s/it]\n"
     ]
    },
    {
     "name": "stdout",
     "output_type": "stream",
     "text": [
      "saving model version 0.1\n",
      "✅ Best validation Accuracy: 7.2109e-01 at 9 epoch\n",
      "avg_acc 0.7029972672462463\n",
      "Testing 1 hidden neurons, lamb=0.0001, grid=4\n",
      "checkpoint directory created: ./model\n",
      "saving model version 0.0\n",
      "checkpoint directory created: ./model\n",
      "saving model version 0.0\n",
      "Successfully created and tested Model4\n"
     ]
    },
    {
     "name": "stderr",
     "output_type": "stream",
     "text": [
      " train_acc_hybrid: 8.04e-01 | val_acc_hybrid: 6.29e-01 |: 100%|█████| 70/70 [01:39<00:00,  1.43s/it]\n"
     ]
    },
    {
     "name": "stdout",
     "output_type": "stream",
     "text": [
      "saving model version 0.1\n",
      "✅ Best validation Accuracy: 7.3129e-01 at 5 epoch\n",
      "avg_acc 0.6948229074478149\n",
      "Testing 1 hidden neurons, lamb=1e-05, grid=4\n",
      "checkpoint directory created: ./model\n",
      "saving model version 0.0\n",
      "checkpoint directory created: ./model\n",
      "saving model version 0.0\n",
      "Successfully created and tested Model4\n"
     ]
    },
    {
     "name": "stderr",
     "output_type": "stream",
     "text": [
      " train_acc_hybrid: 7.92e-01 | val_acc_hybrid: 6.50e-01 |: 100%|█████| 70/70 [01:39<00:00,  1.42s/it]\n"
     ]
    },
    {
     "name": "stdout",
     "output_type": "stream",
     "text": [
      "saving model version 0.1\n",
      "✅ Best validation Accuracy: 7.2789e-01 at 4 epoch\n",
      "avg_acc 0.7002724409103394\n",
      "Testing 1 hidden neurons, lamb=1e-06, grid=4\n",
      "checkpoint directory created: ./model\n",
      "saving model version 0.0\n",
      "checkpoint directory created: ./model\n",
      "saving model version 0.0\n",
      "Successfully created and tested Model4\n"
     ]
    },
    {
     "name": "stderr",
     "output_type": "stream",
     "text": [
      " train_acc_hybrid: 7.74e-01 | val_acc_hybrid: 6.77e-01 |: 100%|█████| 70/70 [01:40<00:00,  1.43s/it]\n"
     ]
    },
    {
     "name": "stdout",
     "output_type": "stream",
     "text": [
      "saving model version 0.1\n",
      "✅ Best validation Accuracy: 7.1429e-01 at 4 epoch\n",
      "avg_acc 0.7084468603134155\n",
      "Testing 1 hidden neurons, lamb=1e-07, grid=4\n",
      "checkpoint directory created: ./model\n",
      "saving model version 0.0\n",
      "checkpoint directory created: ./model\n",
      "saving model version 0.0\n",
      "Successfully created and tested Model4\n"
     ]
    },
    {
     "name": "stderr",
     "output_type": "stream",
     "text": [
      " train_acc_hybrid: 7.68e-01 | val_acc_hybrid: 6.77e-01 |: 100%|█████| 70/70 [01:44<00:00,  1.49s/it]\n"
     ]
    },
    {
     "name": "stdout",
     "output_type": "stream",
     "text": [
      "saving model version 0.1\n",
      "✅ Best validation Accuracy: 7.1429e-01 at 42 epoch\n",
      "avg_acc 0.6839237213134766\n",
      "Testing 1 hidden neurons, lamb=0.1, grid=5\n",
      "checkpoint directory created: ./model\n",
      "saving model version 0.0\n",
      "checkpoint directory created: ./model\n",
      "saving model version 0.0\n",
      "Successfully created and tested Model4\n"
     ]
    },
    {
     "name": "stderr",
     "output_type": "stream",
     "text": [
      " train_acc_hybrid: 5.01e-01 | val_acc_hybrid: 5.03e-01 |: 100%|█████| 70/70 [01:32<00:00,  1.33s/it]\n"
     ]
    },
    {
     "name": "stdout",
     "output_type": "stream",
     "text": [
      "saving model version 0.1\n",
      "✅ Best validation Accuracy: 5.0340e-01 at 1 epoch\n",
      "avg_acc 0.5013623833656311\n",
      "Testing 1 hidden neurons, lamb=0.01, grid=5\n",
      "checkpoint directory created: ./model\n",
      "saving model version 0.0\n",
      "checkpoint directory created: ./model\n",
      "saving model version 0.0\n",
      "Successfully created and tested Model4\n"
     ]
    },
    {
     "name": "stderr",
     "output_type": "stream",
     "text": [
      " train_acc_hybrid: 5.01e-01 | val_acc_hybrid: 5.03e-01 |: 100%|█████| 70/70 [01:35<00:00,  1.37s/it]\n"
     ]
    },
    {
     "name": "stdout",
     "output_type": "stream",
     "text": [
      "saving model version 0.1\n",
      "✅ Best validation Accuracy: 5.1020e-01 at 2 epoch\n",
      "avg_acc 0.48501360416412354\n",
      "Testing 1 hidden neurons, lamb=0.001, grid=5\n",
      "checkpoint directory created: ./model\n",
      "saving model version 0.0\n",
      "checkpoint directory created: ./model\n",
      "saving model version 0.0\n",
      "Successfully created and tested Model4\n"
     ]
    },
    {
     "name": "stderr",
     "output_type": "stream",
     "text": [
      " train_acc_hybrid: 7.89e-01 | val_acc_hybrid: 6.73e-01 |: 100%|█████| 70/70 [01:52<00:00,  1.60s/it]\n"
     ]
    },
    {
     "name": "stdout",
     "output_type": "stream",
     "text": [
      "saving model version 0.1\n",
      "✅ Best validation Accuracy: 7.2449e-01 at 6 epoch\n",
      "avg_acc 0.7220708131790161\n",
      "Testing 1 hidden neurons, lamb=0.0001, grid=5\n",
      "checkpoint directory created: ./model\n",
      "saving model version 0.0\n",
      "checkpoint directory created: ./model\n",
      "saving model version 0.0\n",
      "Successfully created and tested Model4\n"
     ]
    },
    {
     "name": "stderr",
     "output_type": "stream",
     "text": [
      " train_acc_hybrid: 7.88e-01 | val_acc_hybrid: 6.29e-01 |: 100%|█████| 70/70 [01:51<00:00,  1.60s/it]\n"
     ]
    },
    {
     "name": "stdout",
     "output_type": "stream",
     "text": [
      "saving model version 0.1\n",
      "✅ Best validation Accuracy: 7.2109e-01 at 9 epoch\n",
      "avg_acc 0.7029972672462463\n",
      "Testing 1 hidden neurons, lamb=1e-05, grid=5\n",
      "checkpoint directory created: ./model\n",
      "saving model version 0.0\n",
      "checkpoint directory created: ./model\n",
      "saving model version 0.0\n",
      "Successfully created and tested Model4\n"
     ]
    },
    {
     "name": "stderr",
     "output_type": "stream",
     "text": [
      " train_acc_hybrid: 7.77e-01 | val_acc_hybrid: 6.12e-01 |: 100%|█████| 70/70 [01:51<00:00,  1.59s/it]\n"
     ]
    },
    {
     "name": "stdout",
     "output_type": "stream",
     "text": [
      "saving model version 0.1\n",
      "✅ Best validation Accuracy: 6.9728e-01 at 15 epoch\n",
      "avg_acc 0.6866484880447388\n",
      "Testing 1 hidden neurons, lamb=1e-06, grid=5\n",
      "checkpoint directory created: ./model\n",
      "saving model version 0.0\n",
      "checkpoint directory created: ./model\n",
      "saving model version 0.0\n",
      "Successfully created and tested Model4\n"
     ]
    },
    {
     "name": "stderr",
     "output_type": "stream",
     "text": [
      " train_acc_hybrid: 7.57e-01 | val_acc_hybrid: 5.99e-01 |: 100%|█████| 70/70 [01:52<00:00,  1.61s/it]\n"
     ]
    },
    {
     "name": "stdout",
     "output_type": "stream",
     "text": [
      "saving model version 0.1\n",
      "✅ Best validation Accuracy: 7.1088e-01 at 7 epoch\n",
      "avg_acc 0.7029972672462463\n",
      "Testing 1 hidden neurons, lamb=1e-07, grid=5\n",
      "checkpoint directory created: ./model\n",
      "saving model version 0.0\n",
      "checkpoint directory created: ./model\n",
      "saving model version 0.0\n",
      "Successfully created and tested Model4\n"
     ]
    },
    {
     "name": "stderr",
     "output_type": "stream",
     "text": [
      " train_acc_hybrid: 7.83e-01 | val_acc_hybrid: 6.36e-01 |: 100%|█████| 70/70 [01:50<00:00,  1.58s/it]\n"
     ]
    },
    {
     "name": "stdout",
     "output_type": "stream",
     "text": [
      "saving model version 0.1\n",
      "✅ Best validation Accuracy: 7.3810e-01 at 7 epoch\n",
      "avg_acc 0.6948229074478149\n",
      "Testing 1 hidden neurons, lamb=0.1, grid=6\n",
      "checkpoint directory created: ./model\n",
      "saving model version 0.0\n",
      "checkpoint directory created: ./model\n",
      "saving model version 0.0\n",
      "Successfully created and tested Model4\n"
     ]
    },
    {
     "name": "stderr",
     "output_type": "stream",
     "text": [
      " train_acc_hybrid: 5.01e-01 | val_acc_hybrid: 5.03e-01 |: 100%|█████| 70/70 [01:46<00:00,  1.52s/it]\n"
     ]
    },
    {
     "name": "stdout",
     "output_type": "stream",
     "text": [
      "saving model version 0.1\n",
      "✅ Best validation Accuracy: 5.0340e-01 at 4 epoch\n",
      "avg_acc 0.5013623833656311\n",
      "Testing 1 hidden neurons, lamb=0.01, grid=6\n",
      "checkpoint directory created: ./model\n",
      "saving model version 0.0\n",
      "checkpoint directory created: ./model\n",
      "saving model version 0.0\n",
      "Successfully created and tested Model4\n"
     ]
    },
    {
     "name": "stderr",
     "output_type": "stream",
     "text": [
      " train_acc_hybrid: 5.01e-01 | val_acc_hybrid: 5.03e-01 |: 100%|█████| 70/70 [01:34<00:00,  1.35s/it]\n"
     ]
    },
    {
     "name": "stdout",
     "output_type": "stream",
     "text": [
      "saving model version 0.1\n",
      "✅ Best validation Accuracy: 5.2721e-01 at 1 epoch\n",
      "avg_acc 0.5313351154327393\n",
      "Testing 1 hidden neurons, lamb=0.001, grid=6\n",
      "checkpoint directory created: ./model\n",
      "saving model version 0.0\n",
      "checkpoint directory created: ./model\n",
      "saving model version 0.0\n",
      "Successfully created and tested Model4\n"
     ]
    },
    {
     "name": "stderr",
     "output_type": "stream",
     "text": [
      " train_acc_hybrid: 7.96e-01 | val_acc_hybrid: 6.97e-01 |: 100%|█████| 70/70 [01:59<00:00,  1.70s/it]\n"
     ]
    },
    {
     "name": "stdout",
     "output_type": "stream",
     "text": [
      "saving model version 0.1\n",
      "✅ Best validation Accuracy: 7.1088e-01 at 6 epoch\n",
      "avg_acc 0.6975476741790771\n",
      "Testing 1 hidden neurons, lamb=0.0001, grid=6\n",
      "checkpoint directory created: ./model\n",
      "saving model version 0.0\n",
      "checkpoint directory created: ./model\n",
      "saving model version 0.0\n",
      "Successfully created and tested Model4\n"
     ]
    },
    {
     "name": "stderr",
     "output_type": "stream",
     "text": [
      " train_acc_hybrid: 8.84e-01 | val_acc_hybrid: 6.09e-01 |: 100%|█████| 70/70 [01:57<00:00,  1.68s/it]\n"
     ]
    },
    {
     "name": "stdout",
     "output_type": "stream",
     "text": [
      "saving model version 0.1\n",
      "✅ Best validation Accuracy: 7.3810e-01 at 6 epoch\n",
      "avg_acc 0.7166212201118469\n",
      "Testing 1 hidden neurons, lamb=1e-05, grid=6\n",
      "checkpoint directory created: ./model\n",
      "saving model version 0.0\n",
      "checkpoint directory created: ./model\n",
      "saving model version 0.0\n",
      "Successfully created and tested Model4\n"
     ]
    },
    {
     "name": "stderr",
     "output_type": "stream",
     "text": [
      " train_acc_hybrid: 8.15e-01 | val_acc_hybrid: 5.82e-01 |: 100%|█████| 70/70 [01:56<00:00,  1.66s/it]\n"
     ]
    },
    {
     "name": "stdout",
     "output_type": "stream",
     "text": [
      "saving model version 0.1\n",
      "✅ Best validation Accuracy: 7.2449e-01 at 8 epoch\n",
      "avg_acc 0.7029972672462463\n",
      "Testing 1 hidden neurons, lamb=1e-06, grid=6\n",
      "checkpoint directory created: ./model\n",
      "saving model version 0.0\n",
      "checkpoint directory created: ./model\n",
      "saving model version 0.0\n",
      "Successfully created and tested Model4\n"
     ]
    },
    {
     "name": "stderr",
     "output_type": "stream",
     "text": [
      " train_acc_hybrid: 8.43e-01 | val_acc_hybrid: 6.43e-01 |: 100%|█████| 70/70 [01:57<00:00,  1.68s/it]\n"
     ]
    },
    {
     "name": "stdout",
     "output_type": "stream",
     "text": [
      "saving model version 0.1\n",
      "✅ Best validation Accuracy: 7.1769e-01 at 5 epoch\n",
      "avg_acc 0.692098081111908\n",
      "Testing 1 hidden neurons, lamb=1e-07, grid=6\n",
      "checkpoint directory created: ./model\n",
      "saving model version 0.0\n",
      "checkpoint directory created: ./model\n",
      "saving model version 0.0\n",
      "Successfully created and tested Model4\n"
     ]
    },
    {
     "name": "stderr",
     "output_type": "stream",
     "text": [
      " train_acc_hybrid: 8.20e-01 | val_acc_hybrid: 6.53e-01 |: 100%|█████| 70/70 [02:00<00:00,  1.72s/it]\n"
     ]
    },
    {
     "name": "stdout",
     "output_type": "stream",
     "text": [
      "saving model version 0.1\n",
      "✅ Best validation Accuracy: 7.1769e-01 at 16 epoch\n",
      "avg_acc 0.6811988949775696\n",
      "Testing 2 hidden neurons, lamb=0.1, grid=3\n",
      "checkpoint directory created: ./model\n",
      "saving model version 0.0\n",
      "checkpoint directory created: ./model\n",
      "saving model version 0.0\n",
      "Successfully created and tested Model4\n"
     ]
    },
    {
     "name": "stderr",
     "output_type": "stream",
     "text": [
      " train_acc_hybrid: 5.01e-01 | val_acc_hybrid: 5.03e-01 |: 100%|█████| 70/70 [01:26<00:00,  1.23s/it]\n"
     ]
    },
    {
     "name": "stdout",
     "output_type": "stream",
     "text": [
      "saving model version 0.1\n",
      "✅ Best validation Accuracy: 5.0340e-01 at 1 epoch\n",
      "avg_acc 0.5013623833656311\n",
      "Testing 2 hidden neurons, lamb=0.01, grid=3\n",
      "checkpoint directory created: ./model\n",
      "saving model version 0.0\n",
      "checkpoint directory created: ./model\n",
      "saving model version 0.0\n",
      "Successfully created and tested Model4\n"
     ]
    },
    {
     "name": "stderr",
     "output_type": "stream",
     "text": [
      " train_acc_hybrid: 5.01e-01 | val_acc_hybrid: 5.03e-01 |: 100%|█████| 70/70 [01:18<00:00,  1.12s/it]\n"
     ]
    },
    {
     "name": "stdout",
     "output_type": "stream",
     "text": [
      "saving model version 0.1\n",
      "✅ Best validation Accuracy: 5.5782e-01 at 2 epoch\n",
      "avg_acc 0.5422343015670776\n",
      "Testing 2 hidden neurons, lamb=0.001, grid=3\n",
      "checkpoint directory created: ./model\n",
      "saving model version 0.0\n",
      "checkpoint directory created: ./model\n",
      "saving model version 0.0\n",
      "Successfully created and tested Model4\n"
     ]
    },
    {
     "name": "stderr",
     "output_type": "stream",
     "text": [
      " train_acc_hybrid: 7.50e-01 | val_acc_hybrid: 6.84e-01 |: 100%|█████| 70/70 [01:31<00:00,  1.31s/it]\n"
     ]
    },
    {
     "name": "stdout",
     "output_type": "stream",
     "text": [
      "saving model version 0.1\n",
      "✅ Best validation Accuracy: 7.1429e-01 at 11 epoch\n",
      "avg_acc 0.6975476741790771\n",
      "Testing 2 hidden neurons, lamb=0.0001, grid=3\n",
      "checkpoint directory created: ./model\n",
      "saving model version 0.0\n",
      "checkpoint directory created: ./model\n",
      "saving model version 0.0\n",
      "Successfully created and tested Model4\n"
     ]
    },
    {
     "name": "stderr",
     "output_type": "stream",
     "text": [
      " train_acc_hybrid: 7.93e-01 | val_acc_hybrid: 6.97e-01 |: 100%|█████| 70/70 [01:30<00:00,  1.29s/it]\n"
     ]
    },
    {
     "name": "stdout",
     "output_type": "stream",
     "text": [
      "saving model version 0.1\n",
      "✅ Best validation Accuracy: 7.2789e-01 at 5 epoch\n",
      "avg_acc 0.7057220339775085\n",
      "Testing 2 hidden neurons, lamb=1e-05, grid=3\n",
      "checkpoint directory created: ./model\n",
      "saving model version 0.0\n",
      "checkpoint directory created: ./model\n",
      "saving model version 0.0\n",
      "Successfully created and tested Model4\n"
     ]
    },
    {
     "name": "stderr",
     "output_type": "stream",
     "text": [
      " train_acc_hybrid: 7.64e-01 | val_acc_hybrid: 6.05e-01 |: 100%|█████| 70/70 [01:32<00:00,  1.32s/it]\n"
     ]
    },
    {
     "name": "stdout",
     "output_type": "stream",
     "text": [
      "saving model version 0.1\n",
      "✅ Best validation Accuracy: 7.3810e-01 at 6 epoch\n",
      "avg_acc 0.7138964533805847\n",
      "Testing 2 hidden neurons, lamb=1e-06, grid=3\n",
      "checkpoint directory created: ./model\n",
      "saving model version 0.0\n",
      "checkpoint directory created: ./model\n",
      "saving model version 0.0\n",
      "Successfully created and tested Model4\n"
     ]
    },
    {
     "name": "stderr",
     "output_type": "stream",
     "text": [
      " train_acc_hybrid: 7.65e-01 | val_acc_hybrid: 6.46e-01 |: 100%|█████| 70/70 [01:32<00:00,  1.32s/it]\n"
     ]
    },
    {
     "name": "stdout",
     "output_type": "stream",
     "text": [
      "saving model version 0.1\n",
      "✅ Best validation Accuracy: 7.2789e-01 at 6 epoch\n",
      "avg_acc 0.7002724409103394\n",
      "Testing 2 hidden neurons, lamb=1e-07, grid=3\n",
      "checkpoint directory created: ./model\n",
      "saving model version 0.0\n",
      "checkpoint directory created: ./model\n",
      "saving model version 0.0\n",
      "Successfully created and tested Model4\n"
     ]
    },
    {
     "name": "stderr",
     "output_type": "stream",
     "text": [
      " train_acc_hybrid: 7.68e-01 | val_acc_hybrid: 6.36e-01 |: 100%|█████| 70/70 [01:33<00:00,  1.33s/it]\n"
     ]
    },
    {
     "name": "stdout",
     "output_type": "stream",
     "text": [
      "saving model version 0.1\n",
      "✅ Best validation Accuracy: 7.2789e-01 at 5 epoch\n",
      "avg_acc 0.7275204062461853\n",
      "Testing 2 hidden neurons, lamb=0.1, grid=4\n",
      "checkpoint directory created: ./model\n",
      "saving model version 0.0\n",
      "checkpoint directory created: ./model\n",
      "saving model version 0.0\n",
      "Successfully created and tested Model4\n"
     ]
    },
    {
     "name": "stderr",
     "output_type": "stream",
     "text": [
      " train_acc_hybrid: 5.01e-01 | val_acc_hybrid: 5.03e-01 |: 100%|█████| 70/70 [01:30<00:00,  1.30s/it]\n"
     ]
    },
    {
     "name": "stdout",
     "output_type": "stream",
     "text": [
      "saving model version 0.1\n",
      "✅ Best validation Accuracy: 5.0340e-01 at 1 epoch\n",
      "avg_acc 0.5013623833656311\n",
      "Testing 2 hidden neurons, lamb=0.01, grid=4\n",
      "checkpoint directory created: ./model\n",
      "saving model version 0.0\n",
      "checkpoint directory created: ./model\n",
      "saving model version 0.0\n",
      "Successfully created and tested Model4\n"
     ]
    },
    {
     "name": "stderr",
     "output_type": "stream",
     "text": [
      " train_acc_hybrid: 5.01e-01 | val_acc_hybrid: 5.03e-01 |: 100%|█████| 70/70 [01:31<00:00,  1.30s/it]\n"
     ]
    },
    {
     "name": "stdout",
     "output_type": "stream",
     "text": [
      "saving model version 0.1\n",
      "✅ Best validation Accuracy: 5.0340e-01 at 7 epoch\n",
      "avg_acc 0.5013623833656311\n",
      "Testing 2 hidden neurons, lamb=0.001, grid=4\n",
      "checkpoint directory created: ./model\n",
      "saving model version 0.0\n",
      "checkpoint directory created: ./model\n",
      "saving model version 0.0\n",
      "Successfully created and tested Model4\n"
     ]
    },
    {
     "name": "stderr",
     "output_type": "stream",
     "text": [
      " train_acc_hybrid: 7.77e-01 | val_acc_hybrid: 6.67e-01 |: 100%|█████| 70/70 [01:39<00:00,  1.42s/it]\n"
     ]
    },
    {
     "name": "stdout",
     "output_type": "stream",
     "text": [
      "saving model version 0.1\n",
      "✅ Best validation Accuracy: 7.1429e-01 at 9 epoch\n",
      "avg_acc 0.7002724409103394\n",
      "Testing 2 hidden neurons, lamb=0.0001, grid=4\n",
      "checkpoint directory created: ./model\n",
      "saving model version 0.0\n",
      "checkpoint directory created: ./model\n",
      "saving model version 0.0\n",
      "Successfully created and tested Model4\n"
     ]
    },
    {
     "name": "stderr",
     "output_type": "stream",
     "text": [
      " train_acc_hybrid: 8.25e-01 | val_acc_hybrid: 6.63e-01 |: 100%|█████| 70/70 [01:39<00:00,  1.43s/it]\n"
     ]
    },
    {
     "name": "stdout",
     "output_type": "stream",
     "text": [
      "saving model version 0.1\n",
      "✅ Best validation Accuracy: 7.2449e-01 at 6 epoch\n",
      "avg_acc 0.7057220339775085\n",
      "Testing 2 hidden neurons, lamb=1e-05, grid=4\n",
      "checkpoint directory created: ./model\n",
      "saving model version 0.0\n",
      "checkpoint directory created: ./model\n",
      "saving model version 0.0\n",
      "Successfully created and tested Model4\n"
     ]
    },
    {
     "name": "stderr",
     "output_type": "stream",
     "text": [
      " train_acc_hybrid: 7.82e-01 | val_acc_hybrid: 6.02e-01 |: 100%|█████| 70/70 [01:40<00:00,  1.43s/it]\n"
     ]
    },
    {
     "name": "stdout",
     "output_type": "stream",
     "text": [
      "saving model version 0.1\n",
      "✅ Best validation Accuracy: 7.3810e-01 at 5 epoch\n",
      "avg_acc 0.6975476741790771\n",
      "Testing 2 hidden neurons, lamb=1e-06, grid=4\n",
      "checkpoint directory created: ./model\n",
      "saving model version 0.0\n",
      "checkpoint directory created: ./model\n",
      "saving model version 0.0\n",
      "Successfully created and tested Model4\n"
     ]
    },
    {
     "name": "stderr",
     "output_type": "stream",
     "text": [
      " train_acc_hybrid: 7.81e-01 | val_acc_hybrid: 5.92e-01 |: 100%|█████| 70/70 [01:40<00:00,  1.43s/it]\n"
     ]
    },
    {
     "name": "stdout",
     "output_type": "stream",
     "text": [
      "saving model version 0.1\n",
      "✅ Best validation Accuracy: 7.3129e-01 at 6 epoch\n",
      "avg_acc 0.7057220339775085\n",
      "Testing 2 hidden neurons, lamb=1e-07, grid=4\n",
      "checkpoint directory created: ./model\n",
      "saving model version 0.0\n",
      "checkpoint directory created: ./model\n",
      "saving model version 0.0\n",
      "Successfully created and tested Model4\n"
     ]
    },
    {
     "name": "stderr",
     "output_type": "stream",
     "text": [
      " train_acc_hybrid: 7.96e-01 | val_acc_hybrid: 6.16e-01 |: 100%|█████| 70/70 [01:42<00:00,  1.47s/it]\n"
     ]
    },
    {
     "name": "stdout",
     "output_type": "stream",
     "text": [
      "saving model version 0.1\n",
      "✅ Best validation Accuracy: 7.0748e-01 at 8 epoch\n",
      "avg_acc 0.7220708131790161\n",
      "Testing 2 hidden neurons, lamb=0.1, grid=5\n",
      "checkpoint directory created: ./model\n",
      "saving model version 0.0\n",
      "checkpoint directory created: ./model\n",
      "saving model version 0.0\n",
      "Successfully created and tested Model4\n"
     ]
    },
    {
     "name": "stderr",
     "output_type": "stream",
     "text": [
      " train_acc_hybrid: 5.01e-01 | val_acc_hybrid: 5.03e-01 |: 100%|█████| 70/70 [01:28<00:00,  1.26s/it]\n"
     ]
    },
    {
     "name": "stdout",
     "output_type": "stream",
     "text": [
      "saving model version 0.1\n",
      "✅ Best validation Accuracy: 5.0340e-01 at 1 epoch\n",
      "avg_acc 0.5013623833656311\n",
      "Testing 2 hidden neurons, lamb=0.01, grid=5\n",
      "checkpoint directory created: ./model\n",
      "saving model version 0.0\n",
      "checkpoint directory created: ./model\n",
      "saving model version 0.0\n",
      "Successfully created and tested Model4\n"
     ]
    },
    {
     "name": "stderr",
     "output_type": "stream",
     "text": [
      " train_acc_hybrid: 5.01e-01 | val_acc_hybrid: 5.03e-01 |: 100%|█████| 70/70 [01:24<00:00,  1.20s/it]\n"
     ]
    },
    {
     "name": "stdout",
     "output_type": "stream",
     "text": [
      "saving model version 0.1\n",
      "✅ Best validation Accuracy: 5.0340e-01 at 2 epoch\n",
      "avg_acc 0.4931879937648773\n",
      "Testing 2 hidden neurons, lamb=0.001, grid=5\n",
      "checkpoint directory created: ./model\n",
      "saving model version 0.0\n",
      "checkpoint directory created: ./model\n",
      "saving model version 0.0\n",
      "Successfully created and tested Model4\n"
     ]
    },
    {
     "name": "stderr",
     "output_type": "stream",
     "text": [
      " train_acc_hybrid: 7.66e-01 | val_acc_hybrid: 6.63e-01 |: 100%|█████| 70/70 [01:55<00:00,  1.64s/it]\n"
     ]
    },
    {
     "name": "stdout",
     "output_type": "stream",
     "text": [
      "saving model version 0.1\n",
      "✅ Best validation Accuracy: 7.0408e-01 at 6 epoch\n",
      "avg_acc 0.6893733143806458\n",
      "Testing 2 hidden neurons, lamb=0.0001, grid=5\n",
      "checkpoint directory created: ./model\n",
      "saving model version 0.0\n",
      "checkpoint directory created: ./model\n",
      "saving model version 0.0\n",
      "Successfully created and tested Model4\n"
     ]
    },
    {
     "name": "stderr",
     "output_type": "stream",
     "text": [
      " train_acc_hybrid: 8.51e-01 | val_acc_hybrid: 6.12e-01 |: 100%|█████| 70/70 [01:50<00:00,  1.57s/it]\n"
     ]
    },
    {
     "name": "stdout",
     "output_type": "stream",
     "text": [
      "saving model version 0.1\n",
      "✅ Best validation Accuracy: 7.1088e-01 at 5 epoch\n",
      "avg_acc 0.7029972672462463\n",
      "Testing 2 hidden neurons, lamb=1e-05, grid=5\n",
      "checkpoint directory created: ./model\n",
      "saving model version 0.0\n",
      "checkpoint directory created: ./model\n",
      "saving model version 0.0\n",
      "Successfully created and tested Model4\n"
     ]
    },
    {
     "name": "stderr",
     "output_type": "stream",
     "text": [
      " train_acc_hybrid: 7.83e-01 | val_acc_hybrid: 6.60e-01 |: 100%|█████| 70/70 [01:53<00:00,  1.62s/it]\n"
     ]
    },
    {
     "name": "stdout",
     "output_type": "stream",
     "text": [
      "saving model version 0.1\n",
      "✅ Best validation Accuracy: 7.1088e-01 at 6 epoch\n",
      "avg_acc 0.7138964533805847\n",
      "Testing 2 hidden neurons, lamb=1e-06, grid=5\n",
      "checkpoint directory created: ./model\n",
      "saving model version 0.0\n",
      "checkpoint directory created: ./model\n",
      "saving model version 0.0\n",
      "Successfully created and tested Model4\n"
     ]
    },
    {
     "name": "stderr",
     "output_type": "stream",
     "text": [
      " train_acc_hybrid: 7.96e-01 | val_acc_hybrid: 6.43e-01 |: 100%|█████| 70/70 [01:50<00:00,  1.57s/it]\n"
     ]
    },
    {
     "name": "stdout",
     "output_type": "stream",
     "text": [
      "saving model version 0.1\n",
      "✅ Best validation Accuracy: 7.2109e-01 at 10 epoch\n",
      "avg_acc 0.7138964533805847\n",
      "Testing 2 hidden neurons, lamb=1e-07, grid=5\n",
      "checkpoint directory created: ./model\n",
      "saving model version 0.0\n",
      "checkpoint directory created: ./model\n",
      "saving model version 0.0\n",
      "Successfully created and tested Model4\n"
     ]
    },
    {
     "name": "stderr",
     "output_type": "stream",
     "text": [
      " train_acc_hybrid: 8.01e-01 | val_acc_hybrid: 5.65e-01 |: 100%|█████| 70/70 [01:49<00:00,  1.57s/it]\n"
     ]
    },
    {
     "name": "stdout",
     "output_type": "stream",
     "text": [
      "saving model version 0.1\n",
      "✅ Best validation Accuracy: 7.2789e-01 at 6 epoch\n",
      "avg_acc 0.7193460464477539\n",
      "Testing 2 hidden neurons, lamb=0.1, grid=6\n",
      "checkpoint directory created: ./model\n",
      "saving model version 0.0\n",
      "checkpoint directory created: ./model\n",
      "saving model version 0.0\n",
      "Successfully created and tested Model4\n"
     ]
    },
    {
     "name": "stderr",
     "output_type": "stream",
     "text": [
      " train_acc_hybrid: 5.01e-01 | val_acc_hybrid: 5.03e-01 |: 100%|█████| 70/70 [01:56<00:00,  1.66s/it]\n"
     ]
    },
    {
     "name": "stdout",
     "output_type": "stream",
     "text": [
      "saving model version 0.1\n",
      "✅ Best validation Accuracy: 5.0340e-01 at 0 epoch\n",
      "avg_acc 0.5013623833656311\n",
      "Testing 2 hidden neurons, lamb=0.01, grid=6\n",
      "checkpoint directory created: ./model\n",
      "saving model version 0.0\n",
      "checkpoint directory created: ./model\n",
      "saving model version 0.0\n",
      "Successfully created and tested Model4\n"
     ]
    },
    {
     "name": "stderr",
     "output_type": "stream",
     "text": [
      " train_acc_hybrid: 5.01e-01 | val_acc_hybrid: 5.03e-01 |: 100%|█████| 70/70 [01:35<00:00,  1.37s/it]\n"
     ]
    },
    {
     "name": "stdout",
     "output_type": "stream",
     "text": [
      "saving model version 0.1\n",
      "✅ Best validation Accuracy: 5.0340e-01 at 0 epoch\n",
      "avg_acc 0.5122615694999695\n",
      "Testing 2 hidden neurons, lamb=0.001, grid=6\n",
      "checkpoint directory created: ./model\n",
      "saving model version 0.0\n",
      "checkpoint directory created: ./model\n",
      "saving model version 0.0\n",
      "Successfully created and tested Model4\n"
     ]
    },
    {
     "name": "stderr",
     "output_type": "stream",
     "text": [
      " train_acc_hybrid: 7.88e-01 | val_acc_hybrid: 6.87e-01 |: 100%|█████| 70/70 [01:59<00:00,  1.71s/it]\n"
     ]
    },
    {
     "name": "stdout",
     "output_type": "stream",
     "text": [
      "saving model version 0.1\n",
      "✅ Best validation Accuracy: 7.1769e-01 at 37 epoch\n",
      "avg_acc 0.6866484880447388\n",
      "Testing 2 hidden neurons, lamb=0.0001, grid=6\n",
      "checkpoint directory created: ./model\n",
      "saving model version 0.0\n",
      "checkpoint directory created: ./model\n",
      "saving model version 0.0\n",
      "Successfully created and tested Model4\n"
     ]
    },
    {
     "name": "stderr",
     "output_type": "stream",
     "text": [
      " train_acc_hybrid: 8.29e-01 | val_acc_hybrid: 6.70e-01 |: 100%|█████| 70/70 [01:57<00:00,  1.68s/it]\n"
     ]
    },
    {
     "name": "stdout",
     "output_type": "stream",
     "text": [
      "saving model version 0.1\n",
      "✅ Best validation Accuracy: 7.2789e-01 at 6 epoch\n",
      "avg_acc 0.7193460464477539\n",
      "Testing 2 hidden neurons, lamb=1e-05, grid=6\n",
      "checkpoint directory created: ./model\n",
      "saving model version 0.0\n",
      "checkpoint directory created: ./model\n",
      "saving model version 0.0\n",
      "Successfully created and tested Model4\n"
     ]
    },
    {
     "name": "stderr",
     "output_type": "stream",
     "text": [
      " train_acc_hybrid: 8.36e-01 | val_acc_hybrid: 6.22e-01 |: 100%|█████| 70/70 [01:57<00:00,  1.67s/it]\n"
     ]
    },
    {
     "name": "stdout",
     "output_type": "stream",
     "text": [
      "saving model version 0.1\n",
      "✅ Best validation Accuracy: 7.1088e-01 at 7 epoch\n",
      "avg_acc 0.7111716270446777\n",
      "Testing 2 hidden neurons, lamb=1e-06, grid=6\n",
      "checkpoint directory created: ./model\n",
      "saving model version 0.0\n",
      "checkpoint directory created: ./model\n",
      "saving model version 0.0\n",
      "Successfully created and tested Model4\n"
     ]
    },
    {
     "name": "stderr",
     "output_type": "stream",
     "text": [
      " train_acc_hybrid: 8.04e-01 | val_acc_hybrid: 6.67e-01 |: 100%|█████| 70/70 [01:58<00:00,  1.69s/it]\n"
     ]
    },
    {
     "name": "stdout",
     "output_type": "stream",
     "text": [
      "saving model version 0.1\n",
      "✅ Best validation Accuracy: 7.3469e-01 at 7 epoch\n",
      "avg_acc 0.7057220339775085\n",
      "Testing 2 hidden neurons, lamb=1e-07, grid=6\n",
      "checkpoint directory created: ./model\n",
      "saving model version 0.0\n",
      "checkpoint directory created: ./model\n",
      "saving model version 0.0\n",
      "Successfully created and tested Model4\n"
     ]
    },
    {
     "name": "stderr",
     "output_type": "stream",
     "text": [
      " train_acc_hybrid: 8.33e-01 | val_acc_hybrid: 6.19e-01 |: 100%|█████| 70/70 [01:56<00:00,  1.66s/it]\n"
     ]
    },
    {
     "name": "stdout",
     "output_type": "stream",
     "text": [
      "saving model version 0.1\n",
      "✅ Best validation Accuracy: 7.4150e-01 at 9 epoch\n",
      "avg_acc 0.7029972672462463\n",
      "Testing 3 hidden neurons, lamb=0.1, grid=3\n",
      "checkpoint directory created: ./model\n",
      "saving model version 0.0\n",
      "checkpoint directory created: ./model\n",
      "saving model version 0.0\n",
      "Successfully created and tested Model4\n"
     ]
    },
    {
     "name": "stderr",
     "output_type": "stream",
     "text": [
      " train_acc_hybrid: 5.01e-01 | val_acc_hybrid: 5.03e-01 |: 100%|█████| 70/70 [01:21<00:00,  1.16s/it]\n"
     ]
    },
    {
     "name": "stdout",
     "output_type": "stream",
     "text": [
      "saving model version 0.1\n",
      "✅ Best validation Accuracy: 5.0340e-01 at 0 epoch\n",
      "avg_acc 0.5013623833656311\n",
      "Testing 3 hidden neurons, lamb=0.01, grid=3\n",
      "checkpoint directory created: ./model\n",
      "saving model version 0.0\n",
      "checkpoint directory created: ./model\n",
      "saving model version 0.0\n",
      "Successfully created and tested Model4\n"
     ]
    },
    {
     "name": "stderr",
     "output_type": "stream",
     "text": [
      " train_acc_hybrid: 5.01e-01 | val_acc_hybrid: 5.03e-01 |: 100%|█████| 70/70 [01:25<00:00,  1.22s/it]\n"
     ]
    },
    {
     "name": "stdout",
     "output_type": "stream",
     "text": [
      "saving model version 0.1\n",
      "✅ Best validation Accuracy: 5.0340e-01 at 1 epoch\n",
      "avg_acc 0.5013623833656311\n",
      "Testing 3 hidden neurons, lamb=0.001, grid=3\n",
      "checkpoint directory created: ./model\n",
      "saving model version 0.0\n",
      "checkpoint directory created: ./model\n",
      "saving model version 0.0\n",
      "Successfully created and tested Model4\n"
     ]
    },
    {
     "name": "stderr",
     "output_type": "stream",
     "text": [
      " train_acc_hybrid: 7.69e-01 | val_acc_hybrid: 6.77e-01 |: 100%|█████| 70/70 [01:32<00:00,  1.33s/it]\n"
     ]
    },
    {
     "name": "stdout",
     "output_type": "stream",
     "text": [
      "saving model version 0.1\n",
      "✅ Best validation Accuracy: 7.1429e-01 at 8 epoch\n",
      "avg_acc 0.7111716270446777\n",
      "Testing 3 hidden neurons, lamb=0.0001, grid=3\n",
      "checkpoint directory created: ./model\n",
      "saving model version 0.0\n",
      "checkpoint directory created: ./model\n",
      "saving model version 0.0\n",
      "Successfully created and tested Model4\n"
     ]
    },
    {
     "name": "stderr",
     "output_type": "stream",
     "text": [
      " train_acc_hybrid: 7.83e-01 | val_acc_hybrid: 6.50e-01 |: 100%|█████| 70/70 [01:32<00:00,  1.32s/it]\n"
     ]
    },
    {
     "name": "stdout",
     "output_type": "stream",
     "text": [
      "saving model version 0.1\n",
      "✅ Best validation Accuracy: 7.2789e-01 at 5 epoch\n",
      "avg_acc 0.7029972672462463\n",
      "Testing 3 hidden neurons, lamb=1e-05, grid=3\n",
      "checkpoint directory created: ./model\n",
      "saving model version 0.0\n",
      "checkpoint directory created: ./model\n",
      "saving model version 0.0\n",
      "Successfully created and tested Model4\n"
     ]
    },
    {
     "name": "stderr",
     "output_type": "stream",
     "text": [
      " train_acc_hybrid: 7.70e-01 | val_acc_hybrid: 6.36e-01 |: 100%|█████| 70/70 [01:31<00:00,  1.31s/it]\n"
     ]
    },
    {
     "name": "stdout",
     "output_type": "stream",
     "text": [
      "saving model version 0.1\n",
      "✅ Best validation Accuracy: 7.3469e-01 at 6 epoch\n",
      "avg_acc 0.7057220339775085\n",
      "Testing 3 hidden neurons, lamb=1e-06, grid=3\n",
      "checkpoint directory created: ./model\n",
      "saving model version 0.0\n",
      "checkpoint directory created: ./model\n",
      "saving model version 0.0\n",
      "Successfully created and tested Model4\n"
     ]
    },
    {
     "name": "stderr",
     "output_type": "stream",
     "text": [
      " train_acc_hybrid: 7.66e-01 | val_acc_hybrid: 6.46e-01 |: 100%|█████| 70/70 [01:32<00:00,  1.32s/it]\n"
     ]
    },
    {
     "name": "stdout",
     "output_type": "stream",
     "text": [
      "saving model version 0.1\n",
      "✅ Best validation Accuracy: 7.3129e-01 at 7 epoch\n",
      "avg_acc 0.7002724409103394\n",
      "Testing 3 hidden neurons, lamb=1e-07, grid=3\n",
      "checkpoint directory created: ./model\n",
      "saving model version 0.0\n",
      "checkpoint directory created: ./model\n",
      "saving model version 0.0\n",
      "Successfully created and tested Model4\n"
     ]
    },
    {
     "name": "stderr",
     "output_type": "stream",
     "text": [
      " train_acc_hybrid: 7.76e-01 | val_acc_hybrid: 6.19e-01 |: 100%|█████| 70/70 [01:31<00:00,  1.31s/it]\n"
     ]
    },
    {
     "name": "stdout",
     "output_type": "stream",
     "text": [
      "saving model version 0.1\n",
      "✅ Best validation Accuracy: 7.2449e-01 at 6 epoch\n",
      "avg_acc 0.7084468603134155\n",
      "Testing 3 hidden neurons, lamb=0.1, grid=4\n",
      "checkpoint directory created: ./model\n",
      "saving model version 0.0\n",
      "checkpoint directory created: ./model\n",
      "saving model version 0.0\n",
      "Successfully created and tested Model4\n"
     ]
    },
    {
     "name": "stderr",
     "output_type": "stream",
     "text": [
      " train_acc_hybrid: 5.01e-01 | val_acc_hybrid: 5.03e-01 |: 100%|█████| 70/70 [01:23<00:00,  1.19s/it]\n"
     ]
    },
    {
     "name": "stdout",
     "output_type": "stream",
     "text": [
      "saving model version 0.1\n",
      "✅ Best validation Accuracy: 5.0340e-01 at 0 epoch\n",
      "avg_acc 0.5013623833656311\n",
      "Testing 3 hidden neurons, lamb=0.01, grid=4\n",
      "checkpoint directory created: ./model\n",
      "saving model version 0.0\n",
      "checkpoint directory created: ./model\n",
      "saving model version 0.0\n",
      "Successfully created and tested Model4\n"
     ]
    },
    {
     "name": "stderr",
     "output_type": "stream",
     "text": [
      " train_acc_hybrid: 5.01e-01 | val_acc_hybrid: 5.03e-01 |: 100%|█████| 70/70 [01:24<00:00,  1.21s/it]\n"
     ]
    },
    {
     "name": "stdout",
     "output_type": "stream",
     "text": [
      "saving model version 0.1\n",
      "✅ Best validation Accuracy: 5.0340e-01 at 0 epoch\n",
      "avg_acc 0.5013623833656311\n",
      "Testing 3 hidden neurons, lamb=0.001, grid=4\n",
      "checkpoint directory created: ./model\n",
      "saving model version 0.0\n",
      "checkpoint directory created: ./model\n",
      "saving model version 0.0\n",
      "Successfully created and tested Model4\n"
     ]
    },
    {
     "name": "stderr",
     "output_type": "stream",
     "text": [
      " train_acc_hybrid: 7.62e-01 | val_acc_hybrid: 6.94e-01 |: 100%|█████| 70/70 [01:43<00:00,  1.48s/it]\n"
     ]
    },
    {
     "name": "stdout",
     "output_type": "stream",
     "text": [
      "saving model version 0.1\n",
      "✅ Best validation Accuracy: 7.1769e-01 at 29 epoch\n",
      "avg_acc 0.6866484880447388\n",
      "Testing 3 hidden neurons, lamb=0.0001, grid=4\n",
      "checkpoint directory created: ./model\n",
      "saving model version 0.0\n",
      "checkpoint directory created: ./model\n",
      "saving model version 0.0\n",
      "Successfully created and tested Model4\n"
     ]
    },
    {
     "name": "stderr",
     "output_type": "stream",
     "text": [
      " train_acc_hybrid: 7.90e-01 | val_acc_hybrid: 6.77e-01 |: 100%|█████| 70/70 [01:41<00:00,  1.45s/it]\n"
     ]
    },
    {
     "name": "stdout",
     "output_type": "stream",
     "text": [
      "saving model version 0.1\n",
      "✅ Best validation Accuracy: 7.2789e-01 at 4 epoch\n",
      "avg_acc 0.6811988949775696\n",
      "Testing 3 hidden neurons, lamb=1e-05, grid=4\n",
      "checkpoint directory created: ./model\n",
      "saving model version 0.0\n",
      "checkpoint directory created: ./model\n",
      "saving model version 0.0\n",
      "Successfully created and tested Model4\n"
     ]
    },
    {
     "name": "stderr",
     "output_type": "stream",
     "text": [
      " train_acc_hybrid: 7.98e-01 | val_acc_hybrid: 6.53e-01 |: 100%|█████| 70/70 [01:40<00:00,  1.44s/it]\n"
     ]
    },
    {
     "name": "stdout",
     "output_type": "stream",
     "text": [
      "saving model version 0.1\n",
      "✅ Best validation Accuracy: 7.1088e-01 at 9 epoch\n",
      "avg_acc 0.692098081111908\n",
      "Testing 3 hidden neurons, lamb=1e-06, grid=4\n",
      "checkpoint directory created: ./model\n",
      "saving model version 0.0\n",
      "checkpoint directory created: ./model\n",
      "saving model version 0.0\n",
      "Successfully created and tested Model4\n"
     ]
    },
    {
     "name": "stderr",
     "output_type": "stream",
     "text": [
      " train_acc_hybrid: 7.94e-01 | val_acc_hybrid: 5.88e-01 |: 100%|█████| 70/70 [01:40<00:00,  1.44s/it]\n"
     ]
    },
    {
     "name": "stdout",
     "output_type": "stream",
     "text": [
      "saving model version 0.1\n",
      "✅ Best validation Accuracy: 7.2789e-01 at 4 epoch\n",
      "avg_acc 0.7029972672462463\n",
      "Testing 3 hidden neurons, lamb=1e-07, grid=4\n",
      "checkpoint directory created: ./model\n",
      "saving model version 0.0\n",
      "checkpoint directory created: ./model\n",
      "saving model version 0.0\n",
      "Successfully created and tested Model4\n"
     ]
    },
    {
     "name": "stderr",
     "output_type": "stream",
     "text": [
      " train_acc_hybrid: 7.89e-01 | val_acc_hybrid: 6.90e-01 |: 100%|█████| 70/70 [01:40<00:00,  1.44s/it]\n"
     ]
    },
    {
     "name": "stdout",
     "output_type": "stream",
     "text": [
      "saving model version 0.1\n",
      "✅ Best validation Accuracy: 7.2449e-01 at 7 epoch\n",
      "avg_acc 0.7002724409103394\n",
      "Testing 3 hidden neurons, lamb=0.1, grid=5\n",
      "checkpoint directory created: ./model\n",
      "saving model version 0.0\n",
      "checkpoint directory created: ./model\n",
      "saving model version 0.0\n",
      "Successfully created and tested Model4\n"
     ]
    },
    {
     "name": "stderr",
     "output_type": "stream",
     "text": [
      " train_acc_hybrid: 5.01e-01 | val_acc_hybrid: 5.03e-01 |: 100%|█████| 70/70 [01:41<00:00,  1.45s/it]\n"
     ]
    },
    {
     "name": "stdout",
     "output_type": "stream",
     "text": [
      "saving model version 0.1\n",
      "✅ Best validation Accuracy: 5.0340e-01 at 0 epoch\n",
      "avg_acc 0.5013623833656311\n",
      "Testing 3 hidden neurons, lamb=0.01, grid=5\n",
      "checkpoint directory created: ./model\n",
      "saving model version 0.0\n",
      "checkpoint directory created: ./model\n",
      "saving model version 0.0\n",
      "Successfully created and tested Model4\n"
     ]
    },
    {
     "name": "stderr",
     "output_type": "stream",
     "text": [
      " train_acc_hybrid: 5.01e-01 | val_acc_hybrid: 5.03e-01 |: 100%|█████| 70/70 [01:33<00:00,  1.34s/it]\n"
     ]
    },
    {
     "name": "stdout",
     "output_type": "stream",
     "text": [
      "saving model version 0.1\n",
      "✅ Best validation Accuracy: 5.3061e-01 at 2 epoch\n",
      "avg_acc 0.5095368027687073\n",
      "Testing 3 hidden neurons, lamb=0.001, grid=5\n",
      "checkpoint directory created: ./model\n",
      "saving model version 0.0\n",
      "checkpoint directory created: ./model\n",
      "saving model version 0.0\n",
      "Successfully created and tested Model4\n"
     ]
    },
    {
     "name": "stderr",
     "output_type": "stream",
     "text": [
      " train_acc_hybrid: 7.63e-01 | val_acc_hybrid: 6.67e-01 |: 100%|█████| 70/70 [01:54<00:00,  1.64s/it]\n"
     ]
    },
    {
     "name": "stdout",
     "output_type": "stream",
     "text": [
      "saving model version 0.1\n",
      "✅ Best validation Accuracy: 7.0748e-01 at 7 epoch\n",
      "avg_acc 0.7084468603134155\n",
      "Testing 3 hidden neurons, lamb=0.0001, grid=5\n",
      "checkpoint directory created: ./model\n",
      "saving model version 0.0\n",
      "checkpoint directory created: ./model\n",
      "saving model version 0.0\n",
      "Successfully created and tested Model4\n"
     ]
    },
    {
     "name": "stderr",
     "output_type": "stream",
     "text": [
      " train_acc_hybrid: 8.08e-01 | val_acc_hybrid: 7.01e-01 |: 100%|█████| 70/70 [01:49<00:00,  1.57s/it]\n"
     ]
    },
    {
     "name": "stdout",
     "output_type": "stream",
     "text": [
      "saving model version 0.1\n",
      "✅ Best validation Accuracy: 7.3469e-01 at 11 epoch\n",
      "avg_acc 0.7302452325820923\n",
      "Testing 3 hidden neurons, lamb=1e-05, grid=5\n",
      "checkpoint directory created: ./model\n",
      "saving model version 0.0\n",
      "checkpoint directory created: ./model\n",
      "saving model version 0.0\n",
      "Successfully created and tested Model4\n"
     ]
    },
    {
     "name": "stderr",
     "output_type": "stream",
     "text": [
      " train_acc_hybrid: 8.18e-01 | val_acc_hybrid: 6.43e-01 |: 100%|█████| 70/70 [01:51<00:00,  1.60s/it]\n"
     ]
    },
    {
     "name": "stdout",
     "output_type": "stream",
     "text": [
      "saving model version 0.1\n",
      "✅ Best validation Accuracy: 7.3469e-01 at 7 epoch\n",
      "avg_acc 0.7220708131790161\n",
      "Testing 3 hidden neurons, lamb=1e-06, grid=5\n",
      "checkpoint directory created: ./model\n",
      "saving model version 0.0\n",
      "checkpoint directory created: ./model\n",
      "saving model version 0.0\n",
      "Successfully created and tested Model4\n"
     ]
    },
    {
     "name": "stderr",
     "output_type": "stream",
     "text": [
      " train_acc_hybrid: 8.42e-01 | val_acc_hybrid: 5.88e-01 |: 100%|█████| 70/70 [01:49<00:00,  1.56s/it]\n"
     ]
    },
    {
     "name": "stdout",
     "output_type": "stream",
     "text": [
      "saving model version 0.1\n",
      "✅ Best validation Accuracy: 7.1769e-01 at 4 epoch\n",
      "avg_acc 0.7057220339775085\n",
      "Testing 3 hidden neurons, lamb=1e-07, grid=5\n",
      "checkpoint directory created: ./model\n",
      "saving model version 0.0\n",
      "checkpoint directory created: ./model\n",
      "saving model version 0.0\n",
      "Successfully created and tested Model4\n"
     ]
    },
    {
     "name": "stderr",
     "output_type": "stream",
     "text": [
      " train_acc_hybrid: 7.86e-01 | val_acc_hybrid: 6.56e-01 |: 100%|█████| 70/70 [01:52<00:00,  1.60s/it]\n"
     ]
    },
    {
     "name": "stdout",
     "output_type": "stream",
     "text": [
      "saving model version 0.1\n",
      "✅ Best validation Accuracy: 7.2109e-01 at 6 epoch\n",
      "avg_acc 0.7029972672462463\n",
      "Testing 3 hidden neurons, lamb=0.1, grid=6\n",
      "checkpoint directory created: ./model\n",
      "saving model version 0.0\n",
      "checkpoint directory created: ./model\n",
      "saving model version 0.0\n",
      "Successfully created and tested Model4\n"
     ]
    },
    {
     "name": "stderr",
     "output_type": "stream",
     "text": [
      " train_acc_hybrid: 5.01e-01 | val_acc_hybrid: 5.03e-01 |: 100%|█████| 70/70 [01:46<00:00,  1.52s/it]\n"
     ]
    },
    {
     "name": "stdout",
     "output_type": "stream",
     "text": [
      "saving model version 0.1\n",
      "✅ Best validation Accuracy: 5.2041e-01 at 15 epoch\n",
      "avg_acc 0.47411444783210754\n",
      "Testing 3 hidden neurons, lamb=0.01, grid=6\n",
      "checkpoint directory created: ./model\n",
      "saving model version 0.0\n",
      "checkpoint directory created: ./model\n",
      "saving model version 0.0\n",
      "Successfully created and tested Model4\n"
     ]
    },
    {
     "name": "stderr",
     "output_type": "stream",
     "text": [
      " train_acc_hybrid: 5.01e-01 | val_acc_hybrid: 5.03e-01 |: 100%|█████| 70/70 [01:39<00:00,  1.42s/it]\n"
     ]
    },
    {
     "name": "stdout",
     "output_type": "stream",
     "text": [
      "saving model version 0.1\n",
      "✅ Best validation Accuracy: 5.1020e-01 at 0 epoch\n",
      "avg_acc 0.5177111625671387\n",
      "Testing 3 hidden neurons, lamb=0.001, grid=6\n",
      "checkpoint directory created: ./model\n",
      "saving model version 0.0\n",
      "checkpoint directory created: ./model\n",
      "saving model version 0.0\n",
      "Successfully created and tested Model4\n"
     ]
    },
    {
     "name": "stderr",
     "output_type": "stream",
     "text": [
      " train_acc_hybrid: 8.24e-01 | val_acc_hybrid: 6.46e-01 |: 100%|█████| 70/70 [01:59<00:00,  1.70s/it]\n"
     ]
    },
    {
     "name": "stdout",
     "output_type": "stream",
     "text": [
      "saving model version 0.1\n",
      "✅ Best validation Accuracy: 7.1769e-01 at 7 epoch\n",
      "avg_acc 0.7057220339775085\n",
      "Testing 3 hidden neurons, lamb=0.0001, grid=6\n",
      "checkpoint directory created: ./model\n",
      "saving model version 0.0\n",
      "checkpoint directory created: ./model\n",
      "saving model version 0.0\n",
      "Successfully created and tested Model4\n"
     ]
    },
    {
     "name": "stderr",
     "output_type": "stream",
     "text": [
      " train_acc_hybrid: 8.12e-01 | val_acc_hybrid: 6.73e-01 |: 100%|█████| 70/70 [02:00<00:00,  1.72s/it]\n"
     ]
    },
    {
     "name": "stdout",
     "output_type": "stream",
     "text": [
      "saving model version 0.1\n",
      "✅ Best validation Accuracy: 7.1769e-01 at 9 epoch\n",
      "avg_acc 0.6893733143806458\n",
      "Testing 3 hidden neurons, lamb=1e-05, grid=6\n",
      "checkpoint directory created: ./model\n",
      "saving model version 0.0\n",
      "checkpoint directory created: ./model\n",
      "saving model version 0.0\n",
      "Successfully created and tested Model4\n"
     ]
    },
    {
     "name": "stderr",
     "output_type": "stream",
     "text": [
      " train_acc_hybrid: 8.06e-01 | val_acc_hybrid: 6.56e-01 |: 100%|█████| 70/70 [01:57<00:00,  1.67s/it]\n"
     ]
    },
    {
     "name": "stdout",
     "output_type": "stream",
     "text": [
      "saving model version 0.1\n",
      "✅ Best validation Accuracy: 7.0748e-01 at 7 epoch\n",
      "avg_acc 0.6948229074478149\n",
      "Testing 3 hidden neurons, lamb=1e-06, grid=6\n",
      "checkpoint directory created: ./model\n",
      "saving model version 0.0\n",
      "checkpoint directory created: ./model\n",
      "saving model version 0.0\n",
      "Successfully created and tested Model4\n"
     ]
    },
    {
     "name": "stderr",
     "output_type": "stream",
     "text": [
      " train_acc_hybrid: 8.64e-01 | val_acc_hybrid: 5.88e-01 |: 100%|█████| 70/70 [01:57<00:00,  1.68s/it]\n"
     ]
    },
    {
     "name": "stdout",
     "output_type": "stream",
     "text": [
      "saving model version 0.1\n",
      "✅ Best validation Accuracy: 7.2109e-01 at 8 epoch\n",
      "avg_acc 0.7138964533805847\n",
      "Testing 3 hidden neurons, lamb=1e-07, grid=6\n",
      "checkpoint directory created: ./model\n",
      "saving model version 0.0\n",
      "checkpoint directory created: ./model\n",
      "saving model version 0.0\n",
      "Successfully created and tested Model4\n"
     ]
    },
    {
     "name": "stderr",
     "output_type": "stream",
     "text": [
      " train_acc_hybrid: 8.32e-01 | val_acc_hybrid: 6.12e-01 |: 100%|█████| 70/70 [01:59<00:00,  1.71s/it]\n"
     ]
    },
    {
     "name": "stdout",
     "output_type": "stream",
     "text": [
      "saving model version 0.1\n",
      "✅ Best validation Accuracy: 7.2449e-01 at 8 epoch\n",
      "avg_acc 0.7220708131790161\n",
      "Testing 4 hidden neurons, lamb=0.1, grid=3\n",
      "checkpoint directory created: ./model\n",
      "saving model version 0.0\n",
      "checkpoint directory created: ./model\n",
      "saving model version 0.0\n",
      "Successfully created and tested Model4\n"
     ]
    },
    {
     "name": "stderr",
     "output_type": "stream",
     "text": [
      " train_acc_hybrid: 5.01e-01 | val_acc_hybrid: 5.03e-01 |: 100%|█████| 70/70 [01:26<00:00,  1.24s/it]\n"
     ]
    },
    {
     "name": "stdout",
     "output_type": "stream",
     "text": [
      "saving model version 0.1\n",
      "✅ Best validation Accuracy: 5.0340e-01 at 4 epoch\n",
      "avg_acc 0.4986375868320465\n",
      "Testing 4 hidden neurons, lamb=0.01, grid=3\n",
      "checkpoint directory created: ./model\n",
      "saving model version 0.0\n",
      "checkpoint directory created: ./model\n",
      "saving model version 0.0\n",
      "Successfully created and tested Model4\n"
     ]
    },
    {
     "name": "stderr",
     "output_type": "stream",
     "text": [
      " train_acc_hybrid: 5.01e-01 | val_acc_hybrid: 5.03e-01 |: 100%|█████| 70/70 [01:18<00:00,  1.13s/it]\n"
     ]
    },
    {
     "name": "stdout",
     "output_type": "stream",
     "text": [
      "saving model version 0.1\n",
      "✅ Best validation Accuracy: 5.2721e-01 at 1 epoch\n",
      "avg_acc 0.5204359889030457\n",
      "Testing 4 hidden neurons, lamb=0.001, grid=3\n",
      "checkpoint directory created: ./model\n",
      "saving model version 0.0\n",
      "checkpoint directory created: ./model\n",
      "saving model version 0.0\n",
      "Successfully created and tested Model4\n"
     ]
    },
    {
     "name": "stderr",
     "output_type": "stream",
     "text": [
      " train_acc_hybrid: 7.53e-01 | val_acc_hybrid: 6.70e-01 |: 100%|█████| 70/70 [01:33<00:00,  1.33s/it]\n"
     ]
    },
    {
     "name": "stdout",
     "output_type": "stream",
     "text": [
      "saving model version 0.1\n",
      "✅ Best validation Accuracy: 7.1429e-01 at 7 epoch\n",
      "avg_acc 0.7138964533805847\n",
      "Testing 4 hidden neurons, lamb=0.0001, grid=3\n",
      "checkpoint directory created: ./model\n",
      "saving model version 0.0\n",
      "checkpoint directory created: ./model\n",
      "saving model version 0.0\n",
      "Successfully created and tested Model4\n"
     ]
    },
    {
     "name": "stderr",
     "output_type": "stream",
     "text": [
      " train_acc_hybrid: 7.86e-01 | val_acc_hybrid: 6.53e-01 |: 100%|█████| 70/70 [01:31<00:00,  1.31s/it]\n"
     ]
    },
    {
     "name": "stdout",
     "output_type": "stream",
     "text": [
      "saving model version 0.1\n",
      "✅ Best validation Accuracy: 7.2789e-01 at 7 epoch\n",
      "avg_acc 0.7302452325820923\n",
      "Testing 4 hidden neurons, lamb=1e-05, grid=3\n",
      "checkpoint directory created: ./model\n",
      "saving model version 0.0\n",
      "checkpoint directory created: ./model\n",
      "saving model version 0.0\n",
      "Successfully created and tested Model4\n"
     ]
    },
    {
     "name": "stderr",
     "output_type": "stream",
     "text": [
      " train_acc_hybrid: 7.72e-01 | val_acc_hybrid: 6.60e-01 |: 100%|█████| 70/70 [01:33<00:00,  1.34s/it]\n"
     ]
    },
    {
     "name": "stdout",
     "output_type": "stream",
     "text": [
      "saving model version 0.1\n",
      "✅ Best validation Accuracy: 7.1769e-01 at 10 epoch\n",
      "avg_acc 0.7138964533805847\n",
      "Testing 4 hidden neurons, lamb=1e-06, grid=3\n",
      "checkpoint directory created: ./model\n",
      "saving model version 0.0\n",
      "checkpoint directory created: ./model\n",
      "saving model version 0.0\n",
      "Successfully created and tested Model4\n"
     ]
    },
    {
     "name": "stderr",
     "output_type": "stream",
     "text": [
      " train_acc_hybrid: 7.76e-01 | val_acc_hybrid: 5.44e-01 |: 100%|█████| 70/70 [01:33<00:00,  1.34s/it]\n"
     ]
    },
    {
     "name": "stdout",
     "output_type": "stream",
     "text": [
      "saving model version 0.1\n",
      "✅ Best validation Accuracy: 7.2109e-01 at 6 epoch\n",
      "avg_acc 0.7411444187164307\n",
      "Testing 4 hidden neurons, lamb=1e-07, grid=3\n",
      "checkpoint directory created: ./model\n",
      "saving model version 0.0\n",
      "checkpoint directory created: ./model\n",
      "saving model version 0.0\n",
      "Successfully created and tested Model4\n"
     ]
    },
    {
     "name": "stderr",
     "output_type": "stream",
     "text": [
      " train_acc_hybrid: 7.85e-01 | val_acc_hybrid: 5.54e-01 |: 100%|█████| 70/70 [01:30<00:00,  1.30s/it]\n"
     ]
    },
    {
     "name": "stdout",
     "output_type": "stream",
     "text": [
      "saving model version 0.1\n",
      "✅ Best validation Accuracy: 7.0748e-01 at 7 epoch\n",
      "avg_acc 0.7111716270446777\n",
      "Testing 4 hidden neurons, lamb=0.1, grid=4\n",
      "checkpoint directory created: ./model\n",
      "saving model version 0.0\n",
      "checkpoint directory created: ./model\n",
      "saving model version 0.0\n",
      "Successfully created and tested Model4\n"
     ]
    },
    {
     "name": "stderr",
     "output_type": "stream",
     "text": [
      " train_acc_hybrid: 5.01e-01 | val_acc_hybrid: 5.03e-01 |: 100%|█████| 70/70 [01:30<00:00,  1.29s/it]\n"
     ]
    },
    {
     "name": "stdout",
     "output_type": "stream",
     "text": [
      "saving model version 0.1\n",
      "✅ Best validation Accuracy: 5.0340e-01 at 0 epoch\n",
      "avg_acc 0.5013623833656311\n",
      "Testing 4 hidden neurons, lamb=0.01, grid=4\n",
      "checkpoint directory created: ./model\n",
      "saving model version 0.0\n",
      "checkpoint directory created: ./model\n",
      "saving model version 0.0\n",
      "Successfully created and tested Model4\n"
     ]
    },
    {
     "name": "stderr",
     "output_type": "stream",
     "text": [
      " train_acc_hybrid: 5.01e-01 | val_acc_hybrid: 5.03e-01 |: 100%|█████| 70/70 [01:26<00:00,  1.24s/it]\n"
     ]
    },
    {
     "name": "stdout",
     "output_type": "stream",
     "text": [
      "saving model version 0.1\n",
      "✅ Best validation Accuracy: 5.0680e-01 at 0 epoch\n",
      "avg_acc 0.528610348701477\n",
      "Testing 4 hidden neurons, lamb=0.001, grid=4\n",
      "checkpoint directory created: ./model\n",
      "saving model version 0.0\n",
      "checkpoint directory created: ./model\n",
      "saving model version 0.0\n",
      "Successfully created and tested Model4\n"
     ]
    },
    {
     "name": "stderr",
     "output_type": "stream",
     "text": [
      " train_acc_hybrid: 7.60e-01 | val_acc_hybrid: 6.60e-01 |: 100%|█████| 70/70 [01:42<00:00,  1.47s/it]\n"
     ]
    },
    {
     "name": "stdout",
     "output_type": "stream",
     "text": [
      "saving model version 0.1\n",
      "✅ Best validation Accuracy: 7.1429e-01 at 7 epoch\n",
      "avg_acc 0.7084468603134155\n",
      "Testing 4 hidden neurons, lamb=0.0001, grid=4\n",
      "checkpoint directory created: ./model\n",
      "saving model version 0.0\n",
      "checkpoint directory created: ./model\n",
      "saving model version 0.0\n",
      "Successfully created and tested Model4\n"
     ]
    },
    {
     "name": "stderr",
     "output_type": "stream",
     "text": [
      " train_acc_hybrid: 7.94e-01 | val_acc_hybrid: 6.77e-01 |: 100%|█████| 70/70 [01:44<00:00,  1.49s/it]\n"
     ]
    },
    {
     "name": "stdout",
     "output_type": "stream",
     "text": [
      "saving model version 0.1\n",
      "✅ Best validation Accuracy: 7.3810e-01 at 7 epoch\n",
      "avg_acc 0.7302452325820923\n",
      "Testing 4 hidden neurons, lamb=1e-05, grid=4\n",
      "checkpoint directory created: ./model\n",
      "saving model version 0.0\n",
      "checkpoint directory created: ./model\n",
      "saving model version 0.0\n",
      "Successfully created and tested Model4\n"
     ]
    },
    {
     "name": "stderr",
     "output_type": "stream",
     "text": [
      " train_acc_hybrid: 7.95e-01 | val_acc_hybrid: 6.70e-01 |: 100%|█████| 70/70 [01:41<00:00,  1.44s/it]\n"
     ]
    },
    {
     "name": "stdout",
     "output_type": "stream",
     "text": [
      "saving model version 0.1\n",
      "✅ Best validation Accuracy: 7.2789e-01 at 6 epoch\n",
      "avg_acc 0.6893733143806458\n",
      "Testing 4 hidden neurons, lamb=1e-06, grid=4\n",
      "checkpoint directory created: ./model\n",
      "saving model version 0.0\n",
      "checkpoint directory created: ./model\n",
      "saving model version 0.0\n",
      "Successfully created and tested Model4\n"
     ]
    },
    {
     "name": "stderr",
     "output_type": "stream",
     "text": [
      " train_acc_hybrid: 7.75e-01 | val_acc_hybrid: 6.16e-01 |: 100%|█████| 70/70 [01:42<00:00,  1.46s/it]\n"
     ]
    },
    {
     "name": "stdout",
     "output_type": "stream",
     "text": [
      "saving model version 0.1\n",
      "✅ Best validation Accuracy: 7.1769e-01 at 6 epoch\n",
      "avg_acc 0.7084468603134155\n",
      "Testing 4 hidden neurons, lamb=1e-07, grid=4\n",
      "checkpoint directory created: ./model\n",
      "saving model version 0.0\n",
      "checkpoint directory created: ./model\n",
      "saving model version 0.0\n",
      "Successfully created and tested Model4\n"
     ]
    },
    {
     "name": "stderr",
     "output_type": "stream",
     "text": [
      " train_acc_hybrid: 7.89e-01 | val_acc_hybrid: 5.95e-01 |: 100%|█████| 70/70 [01:40<00:00,  1.43s/it]\n"
     ]
    },
    {
     "name": "stdout",
     "output_type": "stream",
     "text": [
      "saving model version 0.1\n",
      "✅ Best validation Accuracy: 7.2109e-01 at 11 epoch\n",
      "avg_acc 0.6948229074478149\n",
      "Testing 4 hidden neurons, lamb=0.1, grid=5\n",
      "checkpoint directory created: ./model\n",
      "saving model version 0.0\n",
      "checkpoint directory created: ./model\n",
      "saving model version 0.0\n",
      "Successfully created and tested Model4\n"
     ]
    },
    {
     "name": "stderr",
     "output_type": "stream",
     "text": [
      " train_acc_hybrid: 5.01e-01 | val_acc_hybrid: 5.03e-01 |: 100%|█████| 70/70 [01:39<00:00,  1.43s/it]\n"
     ]
    },
    {
     "name": "stdout",
     "output_type": "stream",
     "text": [
      "saving model version 0.1\n",
      "✅ Best validation Accuracy: 5.0340e-01 at 1 epoch\n",
      "avg_acc 0.5013623833656311\n",
      "Testing 4 hidden neurons, lamb=0.01, grid=5\n",
      "checkpoint directory created: ./model\n",
      "saving model version 0.0\n",
      "checkpoint directory created: ./model\n",
      "saving model version 0.0\n",
      "Successfully created and tested Model4\n"
     ]
    },
    {
     "name": "stderr",
     "output_type": "stream",
     "text": [
      " train_acc_hybrid: 5.01e-01 | val_acc_hybrid: 5.03e-01 |: 100%|█████| 70/70 [01:32<00:00,  1.32s/it]\n"
     ]
    },
    {
     "name": "stdout",
     "output_type": "stream",
     "text": [
      "saving model version 0.1\n",
      "✅ Best validation Accuracy: 5.2381e-01 at 4 epoch\n",
      "avg_acc 0.4931879937648773\n",
      "Testing 4 hidden neurons, lamb=0.001, grid=5\n",
      "checkpoint directory created: ./model\n",
      "saving model version 0.0\n",
      "checkpoint directory created: ./model\n",
      "saving model version 0.0\n",
      "Successfully created and tested Model4\n"
     ]
    },
    {
     "name": "stderr",
     "output_type": "stream",
     "text": [
      " train_acc_hybrid: 7.85e-01 | val_acc_hybrid: 6.70e-01 |: 100%|█████| 70/70 [01:53<00:00,  1.62s/it]\n"
     ]
    },
    {
     "name": "stdout",
     "output_type": "stream",
     "text": [
      "saving model version 0.1\n",
      "✅ Best validation Accuracy: 7.0068e-01 at 9 epoch\n",
      "avg_acc 0.7057220339775085\n",
      "Testing 4 hidden neurons, lamb=0.0001, grid=5\n",
      "checkpoint directory created: ./model\n",
      "saving model version 0.0\n",
      "checkpoint directory created: ./model\n",
      "saving model version 0.0\n",
      "Successfully created and tested Model4\n"
     ]
    },
    {
     "name": "stderr",
     "output_type": "stream",
     "text": [
      " train_acc_hybrid: 8.19e-01 | val_acc_hybrid: 6.19e-01 |: 100%|█████| 70/70 [01:50<00:00,  1.58s/it]\n"
     ]
    },
    {
     "name": "stdout",
     "output_type": "stream",
     "text": [
      "saving model version 0.1\n",
      "✅ Best validation Accuracy: 7.2109e-01 at 4 epoch\n",
      "avg_acc 0.6784741282463074\n",
      "Testing 4 hidden neurons, lamb=1e-05, grid=5\n",
      "checkpoint directory created: ./model\n",
      "saving model version 0.0\n",
      "checkpoint directory created: ./model\n",
      "saving model version 0.0\n",
      "Successfully created and tested Model4\n"
     ]
    },
    {
     "name": "stderr",
     "output_type": "stream",
     "text": [
      " train_acc_hybrid: 8.07e-01 | val_acc_hybrid: 5.27e-01 |: 100%|█████| 70/70 [01:55<00:00,  1.65s/it]\n"
     ]
    },
    {
     "name": "stdout",
     "output_type": "stream",
     "text": [
      "saving model version 0.1\n",
      "✅ Best validation Accuracy: 7.1429e-01 at 4 epoch\n",
      "avg_acc 0.6757493019104004\n",
      "Testing 4 hidden neurons, lamb=1e-06, grid=5\n",
      "checkpoint directory created: ./model\n",
      "saving model version 0.0\n",
      "checkpoint directory created: ./model\n",
      "saving model version 0.0\n",
      "Successfully created and tested Model4\n"
     ]
    },
    {
     "name": "stderr",
     "output_type": "stream",
     "text": [
      " train_acc_hybrid: 8.03e-01 | val_acc_hybrid: 5.44e-01 |: 100%|█████| 70/70 [01:52<00:00,  1.60s/it]\n"
     ]
    },
    {
     "name": "stdout",
     "output_type": "stream",
     "text": [
      "saving model version 0.1\n",
      "✅ Best validation Accuracy: 7.2109e-01 at 6 epoch\n",
      "avg_acc 0.7057220339775085\n",
      "Testing 4 hidden neurons, lamb=1e-07, grid=5\n",
      "checkpoint directory created: ./model\n",
      "saving model version 0.0\n",
      "checkpoint directory created: ./model\n",
      "saving model version 0.0\n",
      "Successfully created and tested Model4\n"
     ]
    },
    {
     "name": "stderr",
     "output_type": "stream",
     "text": [
      " train_acc_hybrid: 7.98e-01 | val_acc_hybrid: 6.26e-01 |: 100%|█████| 70/70 [01:49<00:00,  1.57s/it]\n"
     ]
    },
    {
     "name": "stdout",
     "output_type": "stream",
     "text": [
      "saving model version 0.1\n",
      "✅ Best validation Accuracy: 7.2109e-01 at 6 epoch\n",
      "avg_acc 0.7111716270446777\n",
      "Testing 4 hidden neurons, lamb=0.1, grid=6\n",
      "checkpoint directory created: ./model\n",
      "saving model version 0.0\n",
      "checkpoint directory created: ./model\n",
      "saving model version 0.0\n",
      "Successfully created and tested Model4\n"
     ]
    },
    {
     "name": "stderr",
     "output_type": "stream",
     "text": [
      " train_acc_hybrid: 5.01e-01 | val_acc_hybrid: 5.03e-01 |: 100%|█████| 70/70 [01:45<00:00,  1.51s/it]\n"
     ]
    },
    {
     "name": "stdout",
     "output_type": "stream",
     "text": [
      "saving model version 0.1\n",
      "✅ Best validation Accuracy: 5.0340e-01 at 2 epoch\n",
      "avg_acc 0.5013623833656311\n",
      "Testing 4 hidden neurons, lamb=0.01, grid=6\n",
      "checkpoint directory created: ./model\n",
      "saving model version 0.0\n",
      "checkpoint directory created: ./model\n",
      "saving model version 0.0\n",
      "Successfully created and tested Model4\n"
     ]
    },
    {
     "name": "stderr",
     "output_type": "stream",
     "text": [
      " train_acc_hybrid: 5.01e-01 | val_acc_hybrid: 5.03e-01 |: 100%|█████| 70/70 [01:48<00:00,  1.55s/it]\n"
     ]
    },
    {
     "name": "stdout",
     "output_type": "stream",
     "text": [
      "saving model version 0.1\n",
      "✅ Best validation Accuracy: 5.1701e-01 at 0 epoch\n",
      "avg_acc 0.5040872097015381\n",
      "Testing 4 hidden neurons, lamb=0.001, grid=6\n",
      "checkpoint directory created: ./model\n",
      "saving model version 0.0\n",
      "checkpoint directory created: ./model\n",
      "saving model version 0.0\n",
      "Successfully created and tested Model4\n"
     ]
    },
    {
     "name": "stderr",
     "output_type": "stream",
     "text": [
      " train_acc_hybrid: 8.19e-01 | val_acc_hybrid: 6.73e-01 |: 100%|█████| 70/70 [01:57<00:00,  1.68s/it]\n"
     ]
    },
    {
     "name": "stdout",
     "output_type": "stream",
     "text": [
      "saving model version 0.1\n",
      "✅ Best validation Accuracy: 7.0408e-01 at 46 epoch\n",
      "avg_acc 0.6702997088432312\n",
      "Testing 4 hidden neurons, lamb=0.0001, grid=6\n",
      "checkpoint directory created: ./model\n",
      "saving model version 0.0\n",
      "checkpoint directory created: ./model\n",
      "saving model version 0.0\n",
      "Successfully created and tested Model4\n"
     ]
    },
    {
     "name": "stderr",
     "output_type": "stream",
     "text": [
      " train_acc_hybrid: 8.17e-01 | val_acc_hybrid: 6.50e-01 |: 100%|█████| 70/70 [01:55<00:00,  1.65s/it]\n"
     ]
    },
    {
     "name": "stdout",
     "output_type": "stream",
     "text": [
      "saving model version 0.1\n",
      "✅ Best validation Accuracy: 7.0068e-01 at 5 epoch\n",
      "avg_acc 0.6811988949775696\n",
      "Testing 4 hidden neurons, lamb=1e-05, grid=6\n",
      "checkpoint directory created: ./model\n",
      "saving model version 0.0\n",
      "checkpoint directory created: ./model\n",
      "saving model version 0.0\n",
      "Successfully created and tested Model4\n"
     ]
    },
    {
     "name": "stderr",
     "output_type": "stream",
     "text": [
      " train_acc_hybrid: 7.95e-01 | val_acc_hybrid: 5.85e-01 |: 100%|█████| 70/70 [01:59<00:00,  1.71s/it]\n"
     ]
    },
    {
     "name": "stdout",
     "output_type": "stream",
     "text": [
      "saving model version 0.1\n",
      "✅ Best validation Accuracy: 7.0408e-01 at 4 epoch\n",
      "avg_acc 0.6975476741790771\n",
      "Testing 4 hidden neurons, lamb=1e-06, grid=6\n",
      "checkpoint directory created: ./model\n",
      "saving model version 0.0\n",
      "checkpoint directory created: ./model\n",
      "saving model version 0.0\n",
      "Successfully created and tested Model4\n"
     ]
    },
    {
     "name": "stderr",
     "output_type": "stream",
     "text": [
      " train_acc_hybrid: 8.08e-01 | val_acc_hybrid: 6.46e-01 |: 100%|█████| 70/70 [01:57<00:00,  1.68s/it]\n"
     ]
    },
    {
     "name": "stdout",
     "output_type": "stream",
     "text": [
      "saving model version 0.1\n",
      "✅ Best validation Accuracy: 7.1088e-01 at 6 epoch\n",
      "avg_acc 0.6811988949775696\n",
      "Testing 4 hidden neurons, lamb=1e-07, grid=6\n",
      "checkpoint directory created: ./model\n",
      "saving model version 0.0\n",
      "checkpoint directory created: ./model\n",
      "saving model version 0.0\n",
      "Successfully created and tested Model4\n"
     ]
    },
    {
     "name": "stderr",
     "output_type": "stream",
     "text": [
      " train_acc_hybrid: 8.29e-01 | val_acc_hybrid: 6.22e-01 |: 100%|█████| 70/70 [01:57<00:00,  1.67s/it]\n"
     ]
    },
    {
     "name": "stdout",
     "output_type": "stream",
     "text": [
      "saving model version 0.1\n",
      "✅ Best validation Accuracy: 7.0068e-01 at 5 epoch\n",
      "avg_acc 0.6594005227088928\n",
      "Testing 5 hidden neurons, lamb=0.1, grid=3\n",
      "checkpoint directory created: ./model\n",
      "saving model version 0.0\n",
      "checkpoint directory created: ./model\n",
      "saving model version 0.0\n",
      "Successfully created and tested Model4\n"
     ]
    },
    {
     "name": "stderr",
     "output_type": "stream",
     "text": [
      " train_acc_hybrid: 5.01e-01 | val_acc_hybrid: 5.03e-01 |: 100%|█████| 70/70 [01:21<00:00,  1.16s/it]\n"
     ]
    },
    {
     "name": "stdout",
     "output_type": "stream",
     "text": [
      "saving model version 0.1\n",
      "✅ Best validation Accuracy: 5.0340e-01 at 0 epoch\n",
      "avg_acc 0.5013623833656311\n",
      "Testing 5 hidden neurons, lamb=0.01, grid=3\n",
      "checkpoint directory created: ./model\n",
      "saving model version 0.0\n",
      "checkpoint directory created: ./model\n",
      "saving model version 0.0\n",
      "Successfully created and tested Model4\n"
     ]
    },
    {
     "name": "stderr",
     "output_type": "stream",
     "text": [
      " train_acc_hybrid: 5.01e-01 | val_acc_hybrid: 5.03e-01 |: 100%|█████| 70/70 [01:23<00:00,  1.20s/it]\n"
     ]
    },
    {
     "name": "stdout",
     "output_type": "stream",
     "text": [
      "saving model version 0.1\n",
      "✅ Best validation Accuracy: 5.1020e-01 at 0 epoch\n",
      "avg_acc 0.4904631972312927\n",
      "Testing 5 hidden neurons, lamb=0.001, grid=3\n",
      "checkpoint directory created: ./model\n",
      "saving model version 0.0\n",
      "checkpoint directory created: ./model\n",
      "saving model version 0.0\n",
      "Successfully created and tested Model4\n"
     ]
    },
    {
     "name": "stderr",
     "output_type": "stream",
     "text": [
      " train_acc_hybrid: 7.79e-01 | val_acc_hybrid: 6.46e-01 |: 100%|█████| 70/70 [01:32<00:00,  1.33s/it]\n"
     ]
    },
    {
     "name": "stdout",
     "output_type": "stream",
     "text": [
      "saving model version 0.1\n",
      "✅ Best validation Accuracy: 7.1088e-01 at 11 epoch\n",
      "avg_acc 0.7029972672462463\n",
      "Testing 5 hidden neurons, lamb=0.0001, grid=3\n",
      "checkpoint directory created: ./model\n",
      "saving model version 0.0\n",
      "checkpoint directory created: ./model\n",
      "saving model version 0.0\n",
      "Successfully created and tested Model4\n"
     ]
    },
    {
     "name": "stderr",
     "output_type": "stream",
     "text": [
      " train_acc_hybrid: 7.66e-01 | val_acc_hybrid: 6.87e-01 |: 100%|█████| 70/70 [01:35<00:00,  1.36s/it]\n"
     ]
    },
    {
     "name": "stdout",
     "output_type": "stream",
     "text": [
      "saving model version 0.1\n",
      "✅ Best validation Accuracy: 7.3469e-01 at 6 epoch\n",
      "avg_acc 0.7138964533805847\n",
      "Testing 5 hidden neurons, lamb=1e-05, grid=3\n",
      "checkpoint directory created: ./model\n",
      "saving model version 0.0\n",
      "checkpoint directory created: ./model\n",
      "saving model version 0.0\n",
      "Successfully created and tested Model4\n"
     ]
    },
    {
     "name": "stderr",
     "output_type": "stream",
     "text": [
      " train_acc_hybrid: 7.66e-01 | val_acc_hybrid: 6.33e-01 |: 100%|█████| 70/70 [01:34<00:00,  1.35s/it]\n"
     ]
    },
    {
     "name": "stdout",
     "output_type": "stream",
     "text": [
      "saving model version 0.1\n",
      "✅ Best validation Accuracy: 7.2449e-01 at 6 epoch\n",
      "avg_acc 0.7138964533805847\n",
      "Testing 5 hidden neurons, lamb=1e-06, grid=3\n",
      "checkpoint directory created: ./model\n",
      "saving model version 0.0\n",
      "checkpoint directory created: ./model\n",
      "saving model version 0.0\n",
      "Successfully created and tested Model4\n"
     ]
    },
    {
     "name": "stderr",
     "output_type": "stream",
     "text": [
      " train_acc_hybrid: 7.85e-01 | val_acc_hybrid: 6.70e-01 |: 100%|█████| 70/70 [01:34<00:00,  1.35s/it]\n"
     ]
    },
    {
     "name": "stdout",
     "output_type": "stream",
     "text": [
      "saving model version 0.1\n",
      "✅ Best validation Accuracy: 7.1088e-01 at 5 epoch\n",
      "avg_acc 0.6948229074478149\n",
      "Testing 5 hidden neurons, lamb=1e-07, grid=3\n",
      "checkpoint directory created: ./model\n",
      "saving model version 0.0\n",
      "checkpoint directory created: ./model\n",
      "saving model version 0.0\n",
      "Successfully created and tested Model4\n"
     ]
    },
    {
     "name": "stderr",
     "output_type": "stream",
     "text": [
      " train_acc_hybrid: 7.72e-01 | val_acc_hybrid: 5.41e-01 |: 100%|█████| 70/70 [01:32<00:00,  1.32s/it]\n"
     ]
    },
    {
     "name": "stdout",
     "output_type": "stream",
     "text": [
      "saving model version 0.1\n",
      "✅ Best validation Accuracy: 7.2449e-01 at 5 epoch\n",
      "avg_acc 0.7193460464477539\n",
      "Testing 5 hidden neurons, lamb=0.1, grid=4\n",
      "checkpoint directory created: ./model\n",
      "saving model version 0.0\n",
      "checkpoint directory created: ./model\n",
      "saving model version 0.0\n",
      "Successfully created and tested Model4\n"
     ]
    },
    {
     "name": "stderr",
     "output_type": "stream",
     "text": [
      " train_acc_hybrid: 5.01e-01 | val_acc_hybrid: 5.03e-01 |: 100%|█████| 70/70 [01:21<00:00,  1.17s/it]\n"
     ]
    },
    {
     "name": "stdout",
     "output_type": "stream",
     "text": [
      "saving model version 0.1\n",
      "✅ Best validation Accuracy: 5.1361e-01 at 2 epoch\n",
      "avg_acc 0.46594005823135376\n",
      "Testing 5 hidden neurons, lamb=0.01, grid=4\n",
      "checkpoint directory created: ./model\n",
      "saving model version 0.0\n",
      "checkpoint directory created: ./model\n",
      "saving model version 0.0\n",
      "Successfully created and tested Model4\n"
     ]
    },
    {
     "name": "stderr",
     "output_type": "stream",
     "text": [
      " train_acc_hybrid: 5.01e-01 | val_acc_hybrid: 5.03e-01 |: 100%|█████| 70/70 [01:26<00:00,  1.23s/it]\n"
     ]
    },
    {
     "name": "stdout",
     "output_type": "stream",
     "text": [
      "saving model version 0.1\n",
      "✅ Best validation Accuracy: 5.0340e-01 at 1 epoch\n",
      "avg_acc 0.5013623833656311\n",
      "Testing 5 hidden neurons, lamb=0.001, grid=4\n",
      "checkpoint directory created: ./model\n",
      "saving model version 0.0\n",
      "checkpoint directory created: ./model\n",
      "saving model version 0.0\n",
      "Successfully created and tested Model4\n"
     ]
    },
    {
     "name": "stderr",
     "output_type": "stream",
     "text": [
      " train_acc_hybrid: 7.61e-01 | val_acc_hybrid: 6.94e-01 |: 100%|█████| 70/70 [01:45<00:00,  1.50s/it]\n"
     ]
    },
    {
     "name": "stdout",
     "output_type": "stream",
     "text": [
      "saving model version 0.1\n",
      "✅ Best validation Accuracy: 7.1769e-01 at 13 epoch\n",
      "avg_acc 0.7057220339775085\n",
      "Testing 5 hidden neurons, lamb=0.0001, grid=4\n",
      "checkpoint directory created: ./model\n",
      "saving model version 0.0\n",
      "checkpoint directory created: ./model\n",
      "saving model version 0.0\n",
      "Successfully created and tested Model4\n"
     ]
    },
    {
     "name": "stderr",
     "output_type": "stream",
     "text": [
      " train_acc_hybrid: 7.98e-01 | val_acc_hybrid: 6.70e-01 |: 100%|█████| 70/70 [01:42<00:00,  1.46s/it]\n"
     ]
    },
    {
     "name": "stdout",
     "output_type": "stream",
     "text": [
      "saving model version 0.1\n",
      "✅ Best validation Accuracy: 7.1769e-01 at 8 epoch\n",
      "avg_acc 0.7275204062461853\n",
      "Testing 5 hidden neurons, lamb=1e-05, grid=4\n",
      "checkpoint directory created: ./model\n",
      "saving model version 0.0\n",
      "checkpoint directory created: ./model\n",
      "saving model version 0.0\n",
      "Successfully created and tested Model4\n"
     ]
    },
    {
     "name": "stderr",
     "output_type": "stream",
     "text": [
      " train_acc_hybrid: 7.98e-01 | val_acc_hybrid: 6.53e-01 |: 100%|█████| 70/70 [01:40<00:00,  1.44s/it]\n"
     ]
    },
    {
     "name": "stdout",
     "output_type": "stream",
     "text": [
      "saving model version 0.1\n",
      "✅ Best validation Accuracy: 7.3810e-01 at 4 epoch\n",
      "avg_acc 0.7138964533805847\n",
      "Testing 5 hidden neurons, lamb=1e-06, grid=4\n",
      "checkpoint directory created: ./model\n",
      "saving model version 0.0\n",
      "checkpoint directory created: ./model\n",
      "saving model version 0.0\n",
      "Successfully created and tested Model4\n"
     ]
    },
    {
     "name": "stderr",
     "output_type": "stream",
     "text": [
      " train_acc_hybrid: 7.69e-01 | val_acc_hybrid: 5.78e-01 |: 100%|█████| 70/70 [01:46<00:00,  1.52s/it]\n"
     ]
    },
    {
     "name": "stdout",
     "output_type": "stream",
     "text": [
      "saving model version 0.1\n",
      "✅ Best validation Accuracy: 7.3129e-01 at 6 epoch\n",
      "avg_acc 0.7193460464477539\n",
      "Testing 5 hidden neurons, lamb=1e-07, grid=4\n",
      "checkpoint directory created: ./model\n",
      "saving model version 0.0\n",
      "checkpoint directory created: ./model\n",
      "saving model version 0.0\n",
      "Successfully created and tested Model4\n"
     ]
    },
    {
     "name": "stderr",
     "output_type": "stream",
     "text": [
      " train_acc_hybrid: 7.45e-01 | val_acc_hybrid: 7.01e-01 |: 100%|█████| 70/70 [01:29<00:00,  1.28s/it]\n"
     ]
    },
    {
     "name": "stdout",
     "output_type": "stream",
     "text": [
      "saving model version 0.1\n",
      "✅ Best validation Accuracy: 7.2109e-01 at 18 epoch\n",
      "avg_acc 0.6839237213134766\n",
      "Testing 5 hidden neurons, lamb=0.1, grid=5\n",
      "checkpoint directory created: ./model\n",
      "saving model version 0.0\n",
      "checkpoint directory created: ./model\n",
      "saving model version 0.0\n",
      "Successfully created and tested Model4\n"
     ]
    },
    {
     "name": "stderr",
     "output_type": "stream",
     "text": [
      " train_acc_hybrid: 5.01e-01 | val_acc_hybrid: 5.03e-01 |: 100%|█████| 70/70 [01:39<00:00,  1.43s/it]\n"
     ]
    },
    {
     "name": "stdout",
     "output_type": "stream",
     "text": [
      "saving model version 0.1\n",
      "✅ Best validation Accuracy: 5.0340e-01 at 3 epoch\n",
      "avg_acc 0.5013623833656311\n",
      "Testing 5 hidden neurons, lamb=0.01, grid=5\n",
      "checkpoint directory created: ./model\n",
      "saving model version 0.0\n",
      "checkpoint directory created: ./model\n",
      "saving model version 0.0\n",
      "Successfully created and tested Model4\n"
     ]
    },
    {
     "name": "stderr",
     "output_type": "stream",
     "text": [
      " train_acc_hybrid: 5.01e-01 | val_acc_hybrid: 5.03e-01 |: 100%|█████| 70/70 [01:40<00:00,  1.43s/it]\n"
     ]
    },
    {
     "name": "stdout",
     "output_type": "stream",
     "text": [
      "saving model version 0.1\n",
      "✅ Best validation Accuracy: 5.1020e-01 at 6 epoch\n",
      "avg_acc 0.5095368027687073\n",
      "Testing 5 hidden neurons, lamb=0.001, grid=5\n",
      "checkpoint directory created: ./model\n",
      "saving model version 0.0\n",
      "checkpoint directory created: ./model\n",
      "saving model version 0.0\n",
      "Successfully created and tested Model4\n"
     ]
    },
    {
     "name": "stderr",
     "output_type": "stream",
     "text": [
      " train_acc_hybrid: 8.08e-01 | val_acc_hybrid: 6.43e-01 |: 100%|█████| 70/70 [01:48<00:00,  1.55s/it]\n"
     ]
    },
    {
     "name": "stdout",
     "output_type": "stream",
     "text": [
      "saving model version 0.1\n",
      "✅ Best validation Accuracy: 7.1088e-01 at 9 epoch\n",
      "avg_acc 0.7166212201118469\n",
      "Testing 5 hidden neurons, lamb=0.0001, grid=5\n",
      "checkpoint directory created: ./model\n",
      "saving model version 0.0\n",
      "checkpoint directory created: ./model\n",
      "saving model version 0.0\n",
      "Successfully created and tested Model4\n"
     ]
    },
    {
     "name": "stderr",
     "output_type": "stream",
     "text": [
      " train_acc_hybrid: 8.29e-01 | val_acc_hybrid: 6.73e-01 |: 100%|█████| 70/70 [01:49<00:00,  1.57s/it]\n"
     ]
    },
    {
     "name": "stdout",
     "output_type": "stream",
     "text": [
      "saving model version 0.1\n",
      "✅ Best validation Accuracy: 7.1088e-01 at 6 epoch\n",
      "avg_acc 0.7029972672462463\n",
      "Testing 5 hidden neurons, lamb=1e-05, grid=5\n",
      "checkpoint directory created: ./model\n",
      "saving model version 0.0\n",
      "checkpoint directory created: ./model\n",
      "saving model version 0.0\n",
      "Successfully created and tested Model4\n"
     ]
    },
    {
     "name": "stderr",
     "output_type": "stream",
     "text": [
      " train_acc_hybrid: 8.29e-01 | val_acc_hybrid: 6.67e-01 |: 100%|█████| 70/70 [01:50<00:00,  1.58s/it]\n"
     ]
    },
    {
     "name": "stdout",
     "output_type": "stream",
     "text": [
      "saving model version 0.1\n",
      "✅ Best validation Accuracy: 7.1088e-01 at 4 epoch\n",
      "avg_acc 0.7084468603134155\n",
      "Testing 5 hidden neurons, lamb=1e-06, grid=5\n",
      "checkpoint directory created: ./model\n",
      "saving model version 0.0\n",
      "checkpoint directory created: ./model\n",
      "saving model version 0.0\n",
      "Successfully created and tested Model4\n"
     ]
    },
    {
     "name": "stderr",
     "output_type": "stream",
     "text": [
      " train_acc_hybrid: 8.25e-01 | val_acc_hybrid: 6.29e-01 |: 100%|█████| 70/70 [01:50<00:00,  1.58s/it]\n"
     ]
    },
    {
     "name": "stdout",
     "output_type": "stream",
     "text": [
      "saving model version 0.1\n",
      "✅ Best validation Accuracy: 7.0408e-01 at 10 epoch\n",
      "avg_acc 0.6784741282463074\n",
      "Testing 5 hidden neurons, lamb=1e-07, grid=5\n",
      "checkpoint directory created: ./model\n",
      "saving model version 0.0\n",
      "checkpoint directory created: ./model\n",
      "saving model version 0.0\n",
      "Successfully created and tested Model4\n"
     ]
    },
    {
     "name": "stderr",
     "output_type": "stream",
     "text": [
      " train_acc_hybrid: 8.31e-01 | val_acc_hybrid: 5.95e-01 |: 100%|█████| 70/70 [01:53<00:00,  1.62s/it]\n"
     ]
    },
    {
     "name": "stdout",
     "output_type": "stream",
     "text": [
      "saving model version 0.1\n",
      "✅ Best validation Accuracy: 7.3129e-01 at 6 epoch\n",
      "avg_acc 0.7057220339775085\n",
      "Testing 5 hidden neurons, lamb=0.1, grid=6\n",
      "checkpoint directory created: ./model\n",
      "saving model version 0.0\n",
      "checkpoint directory created: ./model\n",
      "saving model version 0.0\n",
      "Successfully created and tested Model4\n"
     ]
    },
    {
     "name": "stderr",
     "output_type": "stream",
     "text": [
      " train_acc_hybrid: 5.01e-01 | val_acc_hybrid: 5.03e-01 |: 100%|█████| 70/70 [01:46<00:00,  1.51s/it]\n"
     ]
    },
    {
     "name": "stdout",
     "output_type": "stream",
     "text": [
      "saving model version 0.1\n",
      "✅ Best validation Accuracy: 5.0340e-01 at 1 epoch\n",
      "avg_acc 0.5013623833656311\n",
      "Testing 5 hidden neurons, lamb=0.01, grid=6\n",
      "checkpoint directory created: ./model\n",
      "saving model version 0.0\n",
      "checkpoint directory created: ./model\n",
      "saving model version 0.0\n",
      "Successfully created and tested Model4\n"
     ]
    },
    {
     "name": "stderr",
     "output_type": "stream",
     "text": [
      " train_acc_hybrid: 5.01e-01 | val_acc_hybrid: 5.03e-01 |: 100%|█████| 70/70 [01:37<00:00,  1.39s/it]\n"
     ]
    },
    {
     "name": "stdout",
     "output_type": "stream",
     "text": [
      "saving model version 0.1\n",
      "✅ Best validation Accuracy: 5.3401e-01 at 3 epoch\n",
      "avg_acc 0.5013623833656311\n",
      "Testing 5 hidden neurons, lamb=0.001, grid=6\n",
      "checkpoint directory created: ./model\n",
      "saving model version 0.0\n",
      "checkpoint directory created: ./model\n",
      "saving model version 0.0\n",
      "Successfully created and tested Model4\n"
     ]
    },
    {
     "name": "stderr",
     "output_type": "stream",
     "text": [
      " train_acc_hybrid: 8.04e-01 | val_acc_hybrid: 6.16e-01 |: 100%|█████| 70/70 [02:01<00:00,  1.73s/it]\n"
     ]
    },
    {
     "name": "stdout",
     "output_type": "stream",
     "text": [
      "saving model version 0.1\n",
      "✅ Best validation Accuracy: 7.1769e-01 at 10 epoch\n",
      "avg_acc 0.7002724409103394\n",
      "Testing 5 hidden neurons, lamb=0.0001, grid=6\n",
      "checkpoint directory created: ./model\n",
      "saving model version 0.0\n",
      "checkpoint directory created: ./model\n",
      "saving model version 0.0\n",
      "Successfully created and tested Model4\n"
     ]
    },
    {
     "name": "stderr",
     "output_type": "stream",
     "text": [
      " train_acc_hybrid: 8.41e-01 | val_acc_hybrid: 6.36e-01 |: 100%|█████| 70/70 [01:58<00:00,  1.70s/it]\n"
     ]
    },
    {
     "name": "stdout",
     "output_type": "stream",
     "text": [
      "saving model version 0.1\n",
      "✅ Best validation Accuracy: 7.1088e-01 at 14 epoch\n",
      "avg_acc 0.6975476741790771\n",
      "Testing 5 hidden neurons, lamb=1e-05, grid=6\n",
      "checkpoint directory created: ./model\n",
      "saving model version 0.0\n",
      "checkpoint directory created: ./model\n",
      "saving model version 0.0\n",
      "Successfully created and tested Model4\n"
     ]
    },
    {
     "name": "stderr",
     "output_type": "stream",
     "text": [
      " train_acc_hybrid: 8.24e-01 | val_acc_hybrid: 6.09e-01 |: 100%|█████| 70/70 [01:57<00:00,  1.68s/it]\n"
     ]
    },
    {
     "name": "stdout",
     "output_type": "stream",
     "text": [
      "saving model version 0.1\n",
      "✅ Best validation Accuracy: 6.8707e-01 at 12 epoch\n",
      "avg_acc 0.640326976776123\n",
      "Testing 5 hidden neurons, lamb=1e-06, grid=6\n",
      "checkpoint directory created: ./model\n",
      "saving model version 0.0\n",
      "checkpoint directory created: ./model\n",
      "saving model version 0.0\n",
      "Successfully created and tested Model4\n"
     ]
    },
    {
     "name": "stderr",
     "output_type": "stream",
     "text": [
      " train_acc_hybrid: 8.09e-01 | val_acc_hybrid: 5.75e-01 |: 100%|█████| 70/70 [02:02<00:00,  1.75s/it]\n"
     ]
    },
    {
     "name": "stdout",
     "output_type": "stream",
     "text": [
      "saving model version 0.1\n",
      "✅ Best validation Accuracy: 7.1429e-01 at 8 epoch\n",
      "avg_acc 0.7002724409103394\n",
      "Testing 5 hidden neurons, lamb=1e-07, grid=6\n",
      "checkpoint directory created: ./model\n",
      "saving model version 0.0\n",
      "checkpoint directory created: ./model\n",
      "saving model version 0.0\n",
      "Successfully created and tested Model4\n"
     ]
    },
    {
     "name": "stderr",
     "output_type": "stream",
     "text": [
      " train_acc_hybrid: 8.41e-01 | val_acc_hybrid: 6.09e-01 |: 100%|█████| 70/70 [01:57<00:00,  1.67s/it]"
     ]
    },
    {
     "name": "stdout",
     "output_type": "stream",
     "text": [
      "saving model version 0.1\n",
      "✅ Best validation Accuracy: 7.2109e-01 at 8 epoch\n",
      "avg_acc 0.6784741282463074\n",
      "\n",
      "✅ Top 5 Configurations:\n",
      "1. width=[10, 4, 1], grid=3, lamb=1e-06| best_epoch=6 | avg_acc=0.74114\n",
      "2. width=[10, 3, 1], grid=5, lamb=0.0001| best_epoch=11 | avg_acc=0.73025\n",
      "3. width=[10, 4, 1], grid=3, lamb=0.0001| best_epoch=7 | avg_acc=0.73025\n",
      "4. width=[10, 4, 1], grid=4, lamb=0.0001| best_epoch=7 | avg_acc=0.73025\n",
      "5. width=[10, 2, 1], grid=3, lamb=1e-07| best_epoch=5 | avg_acc=0.72752\n"
     ]
    },
    {
     "name": "stderr",
     "output_type": "stream",
     "text": [
      "\n"
     ]
    }
   ],
   "source": [
    "grid_search_kan_hybrid(dataset, Model4, filename_4, max_steps=100, hidden_neuron_options=[13,12,11,10,9,8,7,6,5,4,3,2,1])"
   ]
  },
  {
   "cell_type": "markdown",
   "id": "4bcb62f9",
   "metadata": {},
   "source": [
    "#"
   ]
  }
 ],
 "metadata": {
  "kernelspec": {
   "display_name": "Python 3 (ipykernel)",
   "language": "python",
   "name": "python3"
  },
  "language_info": {
   "codemirror_mode": {
    "name": "ipython",
    "version": 3
   },
   "file_extension": ".py",
   "mimetype": "text/x-python",
   "name": "python",
   "nbconvert_exporter": "python",
   "pygments_lexer": "ipython3",
   "version": "3.12.7"
  }
 },
 "nbformat": 4,
 "nbformat_minor": 5
}
